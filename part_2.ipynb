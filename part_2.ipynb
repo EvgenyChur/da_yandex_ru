{
 "cells": [
  {
   "cell_type": "markdown",
   "metadata": {},
   "source": [
    "# Выпускной проект"
   ]
  },
  {
   "cell_type": "markdown",
   "metadata": {},
   "source": [
    "**Банки — Сегментация пользователей по потреблению**"
   ]
  },
  {
   "cell_type": "markdown",
   "metadata": {},
   "source": [
    "## Сбор первичной информации о проекте"
   ]
  },
  {
   "cell_type": "markdown",
   "metadata": {},
   "source": [
    "### Описание проекта"
   ]
  },
  {
   "cell_type": "markdown",
   "metadata": {},
   "source": [
    "Банк в срочном порядке ищет аналитиков c уверенным владением Python. Вашей главной задачей станет сегментирование пользователей банка. Сегментация покажет, как клиенты пользуются нашими услугами. **«Метанпромбанк» — деньги не пахнут!**"
   ]
  },
  {
   "cell_type": "markdown",
   "metadata": {},
   "source": [
    "### Задачи проекта "
   ]
  },
  {
   "cell_type": "markdown",
   "metadata": {},
   "source": [
    "Проанализировать клиентов регионального банка и выполнить сегментирование пользователей по количеству потребляемых продуктов. На основе выполненного анализа данных предложить на рассмотрение ответственному менеджеру меры по удержанию клиентов.\n",
    "\n",
    "1. Проведите исследовательский анализ данных.\n",
    "2. Сегментируйте пользователей на основе данных о количестве потребляемых продуктов.\n",
    "3. Сформулируйте и проверьте статистические гипотезы.  \n",
    "    * Проверьте гипотезу различия дохода между теми клиентами, которые пользуются двумя продуктами банка, и теми, которые пользуются одним.   \n",
    "    * Проверьте гипотезу различия среднего уровня заработной платы клиентов, мужского и женского пола, которые пользуются одним продуктом банка. \n",
    "4. Подготовьте презентацию и отправьте ее через облачное хранилище в формате pdf. Приложите ссылку на презентацию в markdown-ячейке.\n",
    "5. Подготовьте дашборд к проекту в Tableau."
   ]
  },
  {
   "cell_type": "markdown",
   "metadata": {},
   "source": [
    "### Описание данных"
   ]
  },
  {
   "cell_type": "markdown",
   "metadata": {},
   "source": [
    "Таблица **bank_dataset**:"
   ]
  },
  {
   "cell_type": "markdown",
   "metadata": {},
   "source": [
    "Датасет содержит данные о клиентах банка «Метанпром». Банк располагается в Ярославле и областных городах: Ростов Великий и Рыбинск.\n",
    "- `userid` — идентификатор пользователя,\n",
    "- `score` — баллы кредитного скоринга,\n",
    "- `City` — город,\n",
    "- `Gender` — пол,\n",
    "- `Age` — возраст,\n",
    "- `Objects` — количество объектов в собственности,\n",
    "- `Balance` — баланс на счёте,\n",
    "- `Products` — количество продуктов, которыми пользуется клиент,\n",
    "- `CreditCard` — есть ли кредитная карта,\n",
    "- `Loyalty` — активный клиент,\n",
    "- `estimated_salary` — заработная плата клиента,\n",
    "- `Churn` — ушёл или нет."
   ]
  },
  {
   "cell_type": "markdown",
   "metadata": {},
   "source": [
    "## Основной проект"
   ]
  },
  {
   "cell_type": "markdown",
   "metadata": {},
   "source": [
    "### Предобработка данных:"
   ]
  },
  {
   "cell_type": "code",
   "execution_count": 3,
   "metadata": {},
   "outputs": [],
   "source": [
    "# Add modules to the project\n",
    "import math as mth\n",
    "import numpy as np\n",
    "import pandas as pd\n",
    "import datetime as dt\n",
    "import seaborn as sns\n",
    "import scipy.stats as stats\n",
    "from scipy import stats as st\n",
    "import matplotlib.pyplot as plt \n",
    "\n",
    "# Add additional modules for machine learning\n",
    "from scipy                   import stats as st\n",
    "from sklearn.model_selection import train_test_split\n",
    "from sklearn.preprocessing   import StandardScaler\n",
    "from sklearn.linear_model    import LogisticRegression\n",
    "from sklearn.ensemble        import RandomForestClassifier\n",
    "from sklearn.ensemble        import GradientBoostingClassifier\n",
    "\n",
    "from sklearn.metrics         import accuracy_score, precision_score, recall_score\n",
    "\n",
    "# Ignore warnings of Jupiter \n",
    "import warnings\n",
    "warnings.filterwarnings(\"ignore\")\n",
    "\n",
    "# Logical indicator for local and yandex machine\n",
    "lmachine = 'yandex'\n",
    "#lmachine = 'local'"
   ]
  },
  {
   "cell_type": "code",
   "execution_count": 4,
   "metadata": {},
   "outputs": [
    {
     "name": "stdout",
     "output_type": "stream",
     "text": [
      "Using Yandex machine\n"
     ]
    }
   ],
   "source": [
    "# Get common information about datasets\n",
    "def get_info(df, df_name):\n",
    "    '''\n",
    "    Эта функция содержит набор команд для предварительной обработки данных\n",
    "    df : Dataframe,\n",
    "        The dataset with data for the project\n",
    "    df_name : Objects\n",
    "        The name of the dataset for information\n",
    "        \n",
    "    Return:\n",
    "        There are no return fields\n",
    "    '''\n",
    "    print(f'Common information about - {df_name}')\n",
    "    display(df.head())\n",
    "    print('')\n",
    "    df.info()\n",
    "    print('\\n', 'Columns name', '\\n')\n",
    "    print(df.columns, '\\n')   \n",
    "    print(f'Numbers of NaN values in the dataset - {df_name}')\n",
    "    print(df.isnull().sum())\n",
    "    print('')\n",
    "    print(f'Numbers of duplicates (explicit)in the dataset - {df_name}')\n",
    "    print(df.duplicated().sum())\n",
    "     \n",
    "\n",
    "# Get data\n",
    "if lmachine == 'local':\n",
    "    print('Using local machine')\n",
    "    main_path = 'C:/Users/Churiulin/Desktop/Yandex/Projects/DATASETS'\n",
    "    df_bank   = pd.read_csv(f'{main_path}/bank_dataset.csv')\n",
    "else:\n",
    "    print('Using Yandex machine')\n",
    "    df_bank   = pd.read_csv('/datasets/bank_dataset.csv')"
   ]
  },
  {
   "cell_type": "code",
   "execution_count": 5,
   "metadata": {},
   "outputs": [
    {
     "name": "stdout",
     "output_type": "stream",
     "text": [
      "Common information about - df_bank\n"
     ]
    },
    {
     "data": {
      "text/html": [
       "<div>\n",
       "<style scoped>\n",
       "    .dataframe tbody tr th:only-of-type {\n",
       "        vertical-align: middle;\n",
       "    }\n",
       "\n",
       "    .dataframe tbody tr th {\n",
       "        vertical-align: top;\n",
       "    }\n",
       "\n",
       "    .dataframe thead th {\n",
       "        text-align: right;\n",
       "    }\n",
       "</style>\n",
       "<table border=\"1\" class=\"dataframe\">\n",
       "  <thead>\n",
       "    <tr style=\"text-align: right;\">\n",
       "      <th></th>\n",
       "      <th>userid</th>\n",
       "      <th>score</th>\n",
       "      <th>City</th>\n",
       "      <th>Gender</th>\n",
       "      <th>Age</th>\n",
       "      <th>Objects</th>\n",
       "      <th>Balance</th>\n",
       "      <th>Products</th>\n",
       "      <th>CreditCard</th>\n",
       "      <th>Loyalty</th>\n",
       "      <th>estimated_salary</th>\n",
       "      <th>Churn</th>\n",
       "    </tr>\n",
       "  </thead>\n",
       "  <tbody>\n",
       "    <tr>\n",
       "      <th>0</th>\n",
       "      <td>15677338</td>\n",
       "      <td>619</td>\n",
       "      <td>Ярославль</td>\n",
       "      <td>Ж</td>\n",
       "      <td>42</td>\n",
       "      <td>2</td>\n",
       "      <td>NaN</td>\n",
       "      <td>1</td>\n",
       "      <td>1</td>\n",
       "      <td>1</td>\n",
       "      <td>101348.88</td>\n",
       "      <td>1</td>\n",
       "    </tr>\n",
       "    <tr>\n",
       "      <th>1</th>\n",
       "      <td>15690047</td>\n",
       "      <td>608</td>\n",
       "      <td>Рыбинск</td>\n",
       "      <td>Ж</td>\n",
       "      <td>41</td>\n",
       "      <td>1</td>\n",
       "      <td>83807.86</td>\n",
       "      <td>1</td>\n",
       "      <td>0</td>\n",
       "      <td>1</td>\n",
       "      <td>112542.58</td>\n",
       "      <td>0</td>\n",
       "    </tr>\n",
       "    <tr>\n",
       "      <th>2</th>\n",
       "      <td>15662040</td>\n",
       "      <td>502</td>\n",
       "      <td>Ярославль</td>\n",
       "      <td>Ж</td>\n",
       "      <td>42</td>\n",
       "      <td>8</td>\n",
       "      <td>159660.80</td>\n",
       "      <td>3</td>\n",
       "      <td>1</td>\n",
       "      <td>0</td>\n",
       "      <td>113931.57</td>\n",
       "      <td>1</td>\n",
       "    </tr>\n",
       "    <tr>\n",
       "      <th>3</th>\n",
       "      <td>15744090</td>\n",
       "      <td>699</td>\n",
       "      <td>Ярославль</td>\n",
       "      <td>Ж</td>\n",
       "      <td>39</td>\n",
       "      <td>1</td>\n",
       "      <td>NaN</td>\n",
       "      <td>2</td>\n",
       "      <td>0</td>\n",
       "      <td>0</td>\n",
       "      <td>93826.63</td>\n",
       "      <td>0</td>\n",
       "    </tr>\n",
       "    <tr>\n",
       "      <th>4</th>\n",
       "      <td>15780624</td>\n",
       "      <td>850</td>\n",
       "      <td>Рыбинск</td>\n",
       "      <td>Ж</td>\n",
       "      <td>43</td>\n",
       "      <td>2</td>\n",
       "      <td>125510.82</td>\n",
       "      <td>1</td>\n",
       "      <td>1</td>\n",
       "      <td>1</td>\n",
       "      <td>79084.10</td>\n",
       "      <td>0</td>\n",
       "    </tr>\n",
       "  </tbody>\n",
       "</table>\n",
       "</div>"
      ],
      "text/plain": [
       "     userid  score       City Gender  Age  Objects    Balance  Products  \\\n",
       "0  15677338    619  Ярославль      Ж   42        2        NaN         1   \n",
       "1  15690047    608    Рыбинск      Ж   41        1   83807.86         1   \n",
       "2  15662040    502  Ярославль      Ж   42        8  159660.80         3   \n",
       "3  15744090    699  Ярославль      Ж   39        1        NaN         2   \n",
       "4  15780624    850    Рыбинск      Ж   43        2  125510.82         1   \n",
       "\n",
       "   CreditCard  Loyalty  estimated_salary  Churn  \n",
       "0           1        1         101348.88      1  \n",
       "1           0        1         112542.58      0  \n",
       "2           1        0         113931.57      1  \n",
       "3           0        0          93826.63      0  \n",
       "4           1        1          79084.10      0  "
      ]
     },
     "metadata": {},
     "output_type": "display_data"
    },
    {
     "name": "stdout",
     "output_type": "stream",
     "text": [
      "\n",
      "<class 'pandas.core.frame.DataFrame'>\n",
      "RangeIndex: 10000 entries, 0 to 9999\n",
      "Data columns (total 12 columns):\n",
      " #   Column            Non-Null Count  Dtype  \n",
      "---  ------            --------------  -----  \n",
      " 0   userid            10000 non-null  int64  \n",
      " 1   score             10000 non-null  int64  \n",
      " 2   City              10000 non-null  object \n",
      " 3   Gender            10000 non-null  object \n",
      " 4   Age               10000 non-null  int64  \n",
      " 5   Objects           10000 non-null  int64  \n",
      " 6   Balance           6383 non-null   float64\n",
      " 7   Products          10000 non-null  int64  \n",
      " 8   CreditCard        10000 non-null  int64  \n",
      " 9   Loyalty           10000 non-null  int64  \n",
      " 10  estimated_salary  10000 non-null  float64\n",
      " 11  Churn             10000 non-null  int64  \n",
      "dtypes: float64(2), int64(8), object(2)\n",
      "memory usage: 937.6+ KB\n",
      "\n",
      " Columns name \n",
      "\n",
      "Index(['userid', 'score', 'City', 'Gender', 'Age', 'Objects', 'Balance',\n",
      "       'Products', 'CreditCard', 'Loyalty', 'estimated_salary', 'Churn'],\n",
      "      dtype='object') \n",
      "\n",
      "Numbers of NaN values in the dataset - df_bank\n",
      "userid                 0\n",
      "score                  0\n",
      "City                   0\n",
      "Gender                 0\n",
      "Age                    0\n",
      "Objects                0\n",
      "Balance             3617\n",
      "Products               0\n",
      "CreditCard             0\n",
      "Loyalty                0\n",
      "estimated_salary       0\n",
      "Churn                  0\n",
      "dtype: int64\n",
      "\n",
      "Numbers of duplicates (explicit)in the dataset - df_bank\n",
      "0\n",
      "None\n"
     ]
    }
   ],
   "source": [
    "print(get_info(df_bank, 'df_bank')) "
   ]
  },
  {
   "cell_type": "markdown",
   "metadata": {},
   "source": [
    "**После первичного анализа данных можно заметить следующие проблемы:**"
   ]
  },
  {
   "cell_type": "markdown",
   "metadata": {},
   "source": [
    "1. Название столбцов записаны с использованием разных регистров. Кроме того, внутри текстовых столбцов также встречаются записи разного регистра. Исправлю эту ситуацию.  "
   ]
  },
  {
   "cell_type": "code",
   "execution_count": 6,
   "metadata": {},
   "outputs": [],
   "source": [
    "# Change columns register \n",
    "df_bank.columns = df_bank.columns.str.lower()\n",
    "\n",
    "# List of columns with Objects type\n",
    "column_list = ['city', 'gender']\n",
    "for col in column_list:\n",
    "    df_bank[col] = df_bank[col].str.lower()"
   ]
  },
  {
   "cell_type": "markdown",
   "metadata": {},
   "source": [
    "2. В столбце **estimated_salary** используется тип данных *float64*, что не имеет особого смысла, поскольку количество копеек не оказывает существенного влияния на зарплату, которая составляет тысячи и сотни тысяч рублей."
   ]
  },
  {
   "cell_type": "code",
   "execution_count": 7,
   "metadata": {},
   "outputs": [],
   "source": [
    "column_list = ['estimated_salary']\n",
    "for col in column_list:\n",
    "    df_bank[col] = df_bank[col].astype('int')"
   ]
  },
  {
   "cell_type": "markdown",
   "metadata": {},
   "source": [
    "3. В данных есть пропуски, а именно, в столбце **balance** - в принципе заполнить пропуски в данной графе можно медианными значениями, в зависимости от нескольких дополнительных показателей, таких как: **city**, **score**, **estimated_salary**, предварительно создав две дополнительные категориальные переменные. С другой стороны, посмотрев на корреляционную матрицу, можно отметить, что эти столбцы практически никак не связаны со значениями в столбце **Balance**, и эти пропуски следует оставить пустыми, поскольку любое заполнение медианными значениями исказит текущую ситуацию и внесет дополнительные погрешности."
   ]
  },
  {
   "cell_type": "markdown",
   "metadata": {},
   "source": [
    "Кроме того, из корреляционной матрицы можно заключить, что наибольшее влияние на отток клиентов оказывают такие факторы, как: **age**, **loylty** и **products**; меньше всего влияние оказывают такие факторы, как: **userid**, **creditcard**. "
   ]
  },
  {
   "cell_type": "code",
   "execution_count": 6,
   "metadata": {},
   "outputs": [
    {
     "data": {
      "image/png": "[encoded data removed]",
      "text/plain": [
       "<Figure size 1080x720 with 2 Axes>"
      ]
     },
     "metadata": {
      "needs_background": "light"
     },
     "output_type": "display_data"
    }
   ],
   "source": [
    "# Create correlation matrix\n",
    "df_bank_corr = df_bank.corr()\n",
    "\n",
    "# Plot correlation matrix\n",
    "plt.figure(figsize=(15, 10))\n",
    "ax = sns.heatmap(df_bank_corr, annot = True, square = True)\n",
    "#ax.set_ylim(7, 0)\n",
    "plt.show()"
   ]
  },
  {
   "cell_type": "markdown",
   "metadata": {},
   "source": [
    "Тем не менее, можно попытаться установить причины, которые повлекли за собой наличие пропусков. Для этого выполню следующие шаги:\n",
    "* Создам отдельный набор данных, содержащий только строки с пропусками, и сгруппирую данные по колонке **city**;"
   ]
  },
  {
   "cell_type": "markdown",
   "metadata": {},
   "source": [
    "Кроме того, отмечу, что для дальнейшей работы с машинным обучением и более красивой визуализации сегментов необходимо заменить строковые переменные в столбцах **city** и **gender** на целочисленные значения:\n",
    "\n",
    "1. столбц **city**:\n",
    "    * 1 - ярославль;\n",
    "    * 2 - рыбинск;\n",
    "    * 3 - ростов великий.\n",
    "    \n",
    "    \n",
    "2. столбц **gender**:\n",
    "    * ж - 0;\n",
    "    * м - 1."
   ]
  },
  {
   "cell_type": "code",
   "execution_count": 7,
   "metadata": {},
   "outputs": [],
   "source": [
    "# Change values in city column\n",
    "df_bank['city'] = df_bank['city'].replace('ярославль'     , 1)\n",
    "df_bank['city'] = df_bank['city'].replace('рыбинск'       , 2)\n",
    "df_bank['city'] = df_bank['city'].replace('ростов великий', 3)\n",
    "\n",
    "# Change values in gender column\n",
    "df_bank['gender'] = df_bank['gender'].replace('ж', 0)\n",
    "df_bank['gender'] = df_bank['gender'].replace('м', 1)"
   ]
  },
  {
   "cell_type": "code",
   "execution_count": 8,
   "metadata": {},
   "outputs": [
    {
     "name": "stdout",
     "output_type": "stream",
     "text": [
      "[1 2 3]\n"
     ]
    },
    {
     "data": {
      "text/html": [
       "<div>\n",
       "<style scoped>\n",
       "    .dataframe tbody tr th:only-of-type {\n",
       "        vertical-align: middle;\n",
       "    }\n",
       "\n",
       "    .dataframe tbody tr th {\n",
       "        vertical-align: top;\n",
       "    }\n",
       "\n",
       "    .dataframe thead th {\n",
       "        text-align: right;\n",
       "    }\n",
       "</style>\n",
       "<table border=\"1\" class=\"dataframe\">\n",
       "  <thead>\n",
       "    <tr style=\"text-align: right;\">\n",
       "      <th></th>\n",
       "      <th>city</th>\n",
       "      <th>clients_status</th>\n",
       "      <th>clients_numbers</th>\n",
       "    </tr>\n",
       "  </thead>\n",
       "  <tbody>\n",
       "    <tr>\n",
       "      <th>0</th>\n",
       "      <td>ярославль</td>\n",
       "      <td>остался</td>\n",
       "      <td>57.53%</td>\n",
       "    </tr>\n",
       "    <tr>\n",
       "      <th>1</th>\n",
       "      <td>ярославль</td>\n",
       "      <td>ушел</td>\n",
       "      <td>9.32%</td>\n",
       "    </tr>\n",
       "    <tr>\n",
       "      <th>2</th>\n",
       "      <td>рыбинск</td>\n",
       "      <td>остался</td>\n",
       "      <td>28.64%</td>\n",
       "    </tr>\n",
       "    <tr>\n",
       "      <th>3</th>\n",
       "      <td>рыбинск</td>\n",
       "      <td>ушел</td>\n",
       "      <td>4.51%</td>\n",
       "    </tr>\n",
       "  </tbody>\n",
       "</table>\n",
       "</div>"
      ],
      "text/plain": [
       "        city clients_status  clients_numbers\n",
       "0  ярославль        остался           57.53%\n",
       "1  ярославль           ушел            9.32%\n",
       "2    рыбинск        остался           28.64%\n",
       "3    рыбинск           ушел            4.51%"
      ]
     },
     "execution_count": 8,
     "metadata": {},
     "output_type": "execute_result"
    }
   ],
   "source": [
    "# The full list of city in the orinal dataframe\n",
    "print(df_bank['city'].unique())\n",
    "\n",
    "#report = df_bank.query('balance.isnull()')\n",
    "\n",
    "# Create report based on city columns\n",
    "report = (df_bank\n",
    "            .query('balance.isnull()')\n",
    "            .groupby(['city','churn'])\n",
    "            .agg({'userid' : ['count']})\n",
    "            .reset_index()\n",
    "         )\n",
    "\n",
    "# Rename columns\n",
    "report.columns = ['city','clients_status', 'clients_numbers']\n",
    "\n",
    "# Change status to people friendly view\n",
    "report['clients_status']     = report['clients_status'].replace(0,'остался')\n",
    "report['clients_status']     = report['clients_status'].replace(1,'ушел'   )\n",
    "# Change city name for report\n",
    "report['city']     = report['city'].replace(1,'ярославль')\n",
    "report['city']     = report['city'].replace(2,'рыбинск'  )\n",
    "\n",
    "# Get numbers\n",
    "report['clients_numbers'] = (report['clients_numbers'] / sum(report['clients_numbers']))*100\n",
    "\n",
    "pd.set_option('display.float_format', '{:.2f}%'.format)\n",
    "                               \n",
    "report"
   ]
  },
  {
   "cell_type": "markdown",
   "metadata": {},
   "source": [
    "***Вывод по разделу:*** Все клиенты из Ростова Великого имеют заполненные поля в столбце **Balance**. Наибольшее количество пропусков зафиксировано в Ярославском отделении банка (2417 случаев). Пропуски также есть и Рыбинском отделении (1199 случаев). Отдельно отмечу, что большинство данных из столбца **Balance** отсутствуют у действующих клиентов банка. "
   ]
  },
  {
   "cell_type": "markdown",
   "metadata": {},
   "source": [
    "* Сгруппирую данные по колонкам **estimated_salary** и **score**, предварительно категоризировав столбцы."
   ]
  },
  {
   "cell_type": "markdown",
   "metadata": {},
   "source": [
    "Новый столбец **cat_salary** с зарплатными категориям: \n",
    "* зарплата от 0 до 30 тысяч рублей - ***sg1***;\n",
    "* зарплата от 30 до 60 тысяч рублей - ***sg2***;\n",
    "* зарплата от 60 до 90 тысяч рублей - ***sg3***;\n",
    "* зарплата от 90 до 120 тысяч рублей - ***sg4***;\n",
    "* зарплата > 120 тысяч рублей - ***sg5***"
   ]
  },
  {
   "cell_type": "markdown",
   "metadata": {},
   "source": [
    "Новый столбец **cat_score** с рейтингом клиентов: \n",
    "* рейтинг от 0 до 200 - ***scr1***;\n",
    "* рейтинг от 200 до 400 - ***scr2***;\n",
    "* рейтинг от 400 до 600 - ***scr3***;\n",
    "* рейтинг от 600 до 800 - ***scr4***;\n",
    "* рейтинг > 800 - ***scr5***"
   ]
  },
  {
   "cell_type": "code",
   "execution_count": 9,
   "metadata": {},
   "outputs": [
    {
     "name": "stdout",
     "output_type": "stream",
     "text": [
      "Зарплатные группы\n"
     ]
    },
    {
     "data": {
      "text/html": [
       "<div>\n",
       "<style scoped>\n",
       "    .dataframe tbody tr th:only-of-type {\n",
       "        vertical-align: middle;\n",
       "    }\n",
       "\n",
       "    .dataframe tbody tr th {\n",
       "        vertical-align: top;\n",
       "    }\n",
       "\n",
       "    .dataframe thead th {\n",
       "        text-align: right;\n",
       "    }\n",
       "</style>\n",
       "<table border=\"1\" class=\"dataframe\">\n",
       "  <thead>\n",
       "    <tr style=\"text-align: right;\">\n",
       "      <th></th>\n",
       "      <th>salary</th>\n",
       "      <th>clients_status</th>\n",
       "      <th>clients_numbers</th>\n",
       "    </tr>\n",
       "  </thead>\n",
       "  <tbody>\n",
       "    <tr>\n",
       "      <th>0</th>\n",
       "      <td>sg1</td>\n",
       "      <td>остался</td>\n",
       "      <td>13.55%</td>\n",
       "    </tr>\n",
       "    <tr>\n",
       "      <th>1</th>\n",
       "      <td>sg1</td>\n",
       "      <td>ушел</td>\n",
       "      <td>2.02%</td>\n",
       "    </tr>\n",
       "    <tr>\n",
       "      <th>2</th>\n",
       "      <td>sg2</td>\n",
       "      <td>остался</td>\n",
       "      <td>12.83%</td>\n",
       "    </tr>\n",
       "    <tr>\n",
       "      <th>3</th>\n",
       "      <td>sg2</td>\n",
       "      <td>ушел</td>\n",
       "      <td>1.99%</td>\n",
       "    </tr>\n",
       "    <tr>\n",
       "      <th>4</th>\n",
       "      <td>sg3</td>\n",
       "      <td>остался</td>\n",
       "      <td>12.91%</td>\n",
       "    </tr>\n",
       "    <tr>\n",
       "      <th>5</th>\n",
       "      <td>sg3</td>\n",
       "      <td>ушел</td>\n",
       "      <td>2.05%</td>\n",
       "    </tr>\n",
       "    <tr>\n",
       "      <th>6</th>\n",
       "      <td>sg4</td>\n",
       "      <td>остался</td>\n",
       "      <td>13.35%</td>\n",
       "    </tr>\n",
       "    <tr>\n",
       "      <th>7</th>\n",
       "      <td>sg4</td>\n",
       "      <td>ушел</td>\n",
       "      <td>2.13%</td>\n",
       "    </tr>\n",
       "    <tr>\n",
       "      <th>8</th>\n",
       "      <td>sg5</td>\n",
       "      <td>остался</td>\n",
       "      <td>33.54%</td>\n",
       "    </tr>\n",
       "    <tr>\n",
       "      <th>9</th>\n",
       "      <td>sg5</td>\n",
       "      <td>ушел</td>\n",
       "      <td>5.64%</td>\n",
       "    </tr>\n",
       "  </tbody>\n",
       "</table>\n",
       "</div>"
      ],
      "text/plain": [
       "  salary clients_status  clients_numbers\n",
       "0    sg1        остался           13.55%\n",
       "1    sg1           ушел            2.02%\n",
       "2    sg2        остался           12.83%\n",
       "3    sg2           ушел            1.99%\n",
       "4    sg3        остался           12.91%\n",
       "5    sg3           ушел            2.05%\n",
       "6    sg4        остался           13.35%\n",
       "7    sg4           ушел            2.13%\n",
       "8    sg5        остался           33.54%\n",
       "9    sg5           ушел            5.64%"
      ]
     },
     "execution_count": 9,
     "metadata": {},
     "output_type": "execute_result"
    }
   ],
   "source": [
    "report = df_bank.query('balance.isnull()')\n",
    "\n",
    "# Create categories                                     level of salary\n",
    "report['cat_salary'] = pd.cut(report['estimated_salary'], [0    , 30000 , 60000 ,\n",
    "                                                           90000, 120000, np.inf], \n",
    "                              labels = ['sg1', 'sg2', 'sg3', 'sg4', 'sg5']\n",
    "                             )\n",
    "\n",
    "# Create categories                                     level of salary\n",
    "report['cat_score'] = pd.cut(report['score'], [0  , 200, 400   ,\n",
    "                                               600, 800, np.inf], \n",
    "                             labels = ['scr1', 'scr2', \n",
    "                                       'scr3', 'scr4', 'scr5']\n",
    "                            )\n",
    "\n",
    "# Create final reports\n",
    "freport = (report            \n",
    "            .groupby(['cat_salary','churn'])\n",
    "            .agg({'userid' : ['count']})\n",
    "            .reset_index()\n",
    "          )\n",
    "\n",
    "# Rename columns\n",
    "freport.columns = ['salary', 'clients_status', 'clients_numbers']\n",
    "\n",
    "# Change status to people friendly view\n",
    "freport['clients_status']  = freport['clients_status'].replace(0,'остался')\n",
    "freport['clients_status']  = freport['clients_status'].replace(1,'ушел'   )\n",
    "freport['clients_numbers'] = (freport['clients_numbers'] / sum(freport['clients_numbers'])) * 100\n",
    "\n",
    "print('Зарплатные группы')\n",
    "pd.set_option('display.float_format', '{:.2f}%'.format)\n",
    "freport"
   ]
  },
  {
   "cell_type": "code",
   "execution_count": 10,
   "metadata": {},
   "outputs": [
    {
     "name": "stdout",
     "output_type": "stream",
     "text": [
      "Рейтинговые группы\n"
     ]
    },
    {
     "data": {
      "text/html": [
       "<div>\n",
       "<style scoped>\n",
       "    .dataframe tbody tr th:only-of-type {\n",
       "        vertical-align: middle;\n",
       "    }\n",
       "\n",
       "    .dataframe tbody tr th {\n",
       "        vertical-align: top;\n",
       "    }\n",
       "\n",
       "    .dataframe thead th {\n",
       "        text-align: right;\n",
       "    }\n",
       "</style>\n",
       "<table border=\"1\" class=\"dataframe\">\n",
       "  <thead>\n",
       "    <tr style=\"text-align: right;\">\n",
       "      <th></th>\n",
       "      <th>score</th>\n",
       "      <th>clients_status</th>\n",
       "      <th>clients_numbers</th>\n",
       "    </tr>\n",
       "  </thead>\n",
       "  <tbody>\n",
       "    <tr>\n",
       "      <th>0</th>\n",
       "      <td>scr1</td>\n",
       "      <td>остался</td>\n",
       "      <td>0.00%</td>\n",
       "    </tr>\n",
       "    <tr>\n",
       "      <th>1</th>\n",
       "      <td>scr1</td>\n",
       "      <td>ушел</td>\n",
       "      <td>0.00%</td>\n",
       "    </tr>\n",
       "    <tr>\n",
       "      <th>2</th>\n",
       "      <td>scr2</td>\n",
       "      <td>остался</td>\n",
       "      <td>0.00%</td>\n",
       "    </tr>\n",
       "    <tr>\n",
       "      <th>3</th>\n",
       "      <td>scr2</td>\n",
       "      <td>ушел</td>\n",
       "      <td>0.14%</td>\n",
       "    </tr>\n",
       "    <tr>\n",
       "      <th>4</th>\n",
       "      <td>scr3</td>\n",
       "      <td>остался</td>\n",
       "      <td>26.87%</td>\n",
       "    </tr>\n",
       "    <tr>\n",
       "      <th>5</th>\n",
       "      <td>scr3</td>\n",
       "      <td>ушел</td>\n",
       "      <td>4.42%</td>\n",
       "    </tr>\n",
       "    <tr>\n",
       "      <th>6</th>\n",
       "      <td>scr4</td>\n",
       "      <td>остался</td>\n",
       "      <td>53.80%</td>\n",
       "    </tr>\n",
       "    <tr>\n",
       "      <th>7</th>\n",
       "      <td>scr4</td>\n",
       "      <td>ушел</td>\n",
       "      <td>8.46%</td>\n",
       "    </tr>\n",
       "    <tr>\n",
       "      <th>8</th>\n",
       "      <td>scr5</td>\n",
       "      <td>остался</td>\n",
       "      <td>5.50%</td>\n",
       "    </tr>\n",
       "    <tr>\n",
       "      <th>9</th>\n",
       "      <td>scr5</td>\n",
       "      <td>ушел</td>\n",
       "      <td>0.80%</td>\n",
       "    </tr>\n",
       "  </tbody>\n",
       "</table>\n",
       "</div>"
      ],
      "text/plain": [
       "  score clients_status  clients_numbers\n",
       "0  scr1        остался            0.00%\n",
       "1  scr1           ушел            0.00%\n",
       "2  scr2        остался            0.00%\n",
       "3  scr2           ушел            0.14%\n",
       "4  scr3        остался           26.87%\n",
       "5  scr3           ушел            4.42%\n",
       "6  scr4        остался           53.80%\n",
       "7  scr4           ушел            8.46%\n",
       "8  scr5        остался            5.50%\n",
       "9  scr5           ушел            0.80%"
      ]
     },
     "execution_count": 10,
     "metadata": {},
     "output_type": "execute_result"
    }
   ],
   "source": [
    "# Create final reports\n",
    "freport = (report            \n",
    "            .groupby(['cat_score','churn'])\n",
    "            .agg({'userid' : ['count']})\n",
    "            .reset_index()\n",
    "          )\n",
    "\n",
    "# Rename columns\n",
    "freport.columns = ['score',  'clients_status', 'clients_numbers']\n",
    "\n",
    "# Change status to people friendly view\n",
    "freport['clients_status']  = freport['clients_status'].replace(0,'остался')\n",
    "freport['clients_status']  = freport['clients_status'].replace(1,'ушел'   )\n",
    "freport['clients_numbers'] = (freport['clients_numbers'] / sum(freport['clients_numbers'])) * 100\n",
    "\n",
    "print('Рейтинговые группы')\n",
    "pd.set_option('display.float_format', '{:.2f}%'.format)\n",
    "freport"
   ]
  },
  {
   "cell_type": "markdown",
   "metadata": {},
   "source": [
    "***Вывод по разделу:*** У группы клиентов с высокой заработной платой чаще других присутствует пропуск в графе баланса, что подтверждается двумя сводными таблицами (*Зарплатные группы* и *Рейтинговые группы*)."
   ]
  },
  {
   "cell_type": "markdown",
   "metadata": {},
   "source": [
    "**Общий вывод:** В связи с зафиксированными фактами предположу, что причинами могут являться:\n",
    "1. Клиенты выполнили какую-то банковскую операцию (перевод средств другому клиенту, покупка, пополнение счета и т.д.) в результате чего баланс клиента был изменен, а актуальный баланс еще не был сформирован на момент выгрузки данных. В данном случае может помочь повторный запрос региональных данных, возможно, что данные уже были обновлены и пропусков больше нет. \n",
    "2. В случае, если клиент уже ушел из банка,то возможно, что действующий балансовый счет клиента уже был закрыт, но в базе данных по прежнему есть оставшаяся информация о клиенте. \n",
    "3. Возможно у двух филиалов (Ярославский и Рыбинский) были какие-то технические сбои, но это маловероятный вариант. "
   ]
  },
  {
   "cell_type": "markdown",
   "metadata": {},
   "source": [
    "После всех преобразований выполню повторную проверку скорректированного массива данных:"
   ]
  },
  {
   "cell_type": "code",
   "execution_count": 11,
   "metadata": {},
   "outputs": [
    {
     "name": "stdout",
     "output_type": "stream",
     "text": [
      "Common information about - df_bank\n"
     ]
    },
    {
     "data": {
      "text/html": [
       "<div>\n",
       "<style scoped>\n",
       "    .dataframe tbody tr th:only-of-type {\n",
       "        vertical-align: middle;\n",
       "    }\n",
       "\n",
       "    .dataframe tbody tr th {\n",
       "        vertical-align: top;\n",
       "    }\n",
       "\n",
       "    .dataframe thead th {\n",
       "        text-align: right;\n",
       "    }\n",
       "</style>\n",
       "<table border=\"1\" class=\"dataframe\">\n",
       "  <thead>\n",
       "    <tr style=\"text-align: right;\">\n",
       "      <th></th>\n",
       "      <th>userid</th>\n",
       "      <th>score</th>\n",
       "      <th>city</th>\n",
       "      <th>gender</th>\n",
       "      <th>age</th>\n",
       "      <th>objects</th>\n",
       "      <th>balance</th>\n",
       "      <th>products</th>\n",
       "      <th>creditcard</th>\n",
       "      <th>loyalty</th>\n",
       "      <th>estimated_salary</th>\n",
       "      <th>churn</th>\n",
       "    </tr>\n",
       "  </thead>\n",
       "  <tbody>\n",
       "    <tr>\n",
       "      <th>0</th>\n",
       "      <td>15677338</td>\n",
       "      <td>619</td>\n",
       "      <td>1</td>\n",
       "      <td>0</td>\n",
       "      <td>42</td>\n",
       "      <td>2</td>\n",
       "      <td>NaN</td>\n",
       "      <td>1</td>\n",
       "      <td>1</td>\n",
       "      <td>1</td>\n",
       "      <td>101348</td>\n",
       "      <td>1</td>\n",
       "    </tr>\n",
       "    <tr>\n",
       "      <th>1</th>\n",
       "      <td>15690047</td>\n",
       "      <td>608</td>\n",
       "      <td>2</td>\n",
       "      <td>0</td>\n",
       "      <td>41</td>\n",
       "      <td>1</td>\n",
       "      <td>83807.86%</td>\n",
       "      <td>1</td>\n",
       "      <td>0</td>\n",
       "      <td>1</td>\n",
       "      <td>112542</td>\n",
       "      <td>0</td>\n",
       "    </tr>\n",
       "    <tr>\n",
       "      <th>2</th>\n",
       "      <td>15662040</td>\n",
       "      <td>502</td>\n",
       "      <td>1</td>\n",
       "      <td>0</td>\n",
       "      <td>42</td>\n",
       "      <td>8</td>\n",
       "      <td>159660.80%</td>\n",
       "      <td>3</td>\n",
       "      <td>1</td>\n",
       "      <td>0</td>\n",
       "      <td>113931</td>\n",
       "      <td>1</td>\n",
       "    </tr>\n",
       "    <tr>\n",
       "      <th>3</th>\n",
       "      <td>15744090</td>\n",
       "      <td>699</td>\n",
       "      <td>1</td>\n",
       "      <td>0</td>\n",
       "      <td>39</td>\n",
       "      <td>1</td>\n",
       "      <td>NaN</td>\n",
       "      <td>2</td>\n",
       "      <td>0</td>\n",
       "      <td>0</td>\n",
       "      <td>93826</td>\n",
       "      <td>0</td>\n",
       "    </tr>\n",
       "    <tr>\n",
       "      <th>4</th>\n",
       "      <td>15780624</td>\n",
       "      <td>850</td>\n",
       "      <td>2</td>\n",
       "      <td>0</td>\n",
       "      <td>43</td>\n",
       "      <td>2</td>\n",
       "      <td>125510.82%</td>\n",
       "      <td>1</td>\n",
       "      <td>1</td>\n",
       "      <td>1</td>\n",
       "      <td>79084</td>\n",
       "      <td>0</td>\n",
       "    </tr>\n",
       "  </tbody>\n",
       "</table>\n",
       "</div>"
      ],
      "text/plain": [
       "     userid  score  city  gender  age  objects    balance  products  \\\n",
       "0  15677338    619     1       0   42        2        NaN         1   \n",
       "1  15690047    608     2       0   41        1  83807.86%         1   \n",
       "2  15662040    502     1       0   42        8 159660.80%         3   \n",
       "3  15744090    699     1       0   39        1        NaN         2   \n",
       "4  15780624    850     2       0   43        2 125510.82%         1   \n",
       "\n",
       "   creditcard  loyalty  estimated_salary  churn  \n",
       "0           1        1            101348      1  \n",
       "1           0        1            112542      0  \n",
       "2           1        0            113931      1  \n",
       "3           0        0             93826      0  \n",
       "4           1        1             79084      0  "
      ]
     },
     "metadata": {},
     "output_type": "display_data"
    },
    {
     "name": "stdout",
     "output_type": "stream",
     "text": [
      "\n",
      "<class 'pandas.core.frame.DataFrame'>\n",
      "RangeIndex: 10000 entries, 0 to 9999\n",
      "Data columns (total 12 columns):\n",
      " #   Column            Non-Null Count  Dtype  \n",
      "---  ------            --------------  -----  \n",
      " 0   userid            10000 non-null  int64  \n",
      " 1   score             10000 non-null  int64  \n",
      " 2   city              10000 non-null  int64  \n",
      " 3   gender            10000 non-null  int64  \n",
      " 4   age               10000 non-null  int64  \n",
      " 5   objects           10000 non-null  int64  \n",
      " 6   balance           6383 non-null   float64\n",
      " 7   products          10000 non-null  int64  \n",
      " 8   creditcard        10000 non-null  int64  \n",
      " 9   loyalty           10000 non-null  int64  \n",
      " 10  estimated_salary  10000 non-null  int64  \n",
      " 11  churn             10000 non-null  int64  \n",
      "dtypes: float64(1), int64(11)\n",
      "memory usage: 937.6 KB\n",
      "\n",
      " Columns name \n",
      "\n",
      "Index(['userid', 'score', 'city', 'gender', 'age', 'objects', 'balance',\n",
      "       'products', 'creditcard', 'loyalty', 'estimated_salary', 'churn'],\n",
      "      dtype='object') \n",
      "\n",
      "Numbers of NaN values in the dataset - df_bank\n",
      "userid                 0\n",
      "score                  0\n",
      "city                   0\n",
      "gender                 0\n",
      "age                    0\n",
      "objects                0\n",
      "balance             3617\n",
      "products               0\n",
      "creditcard             0\n",
      "loyalty                0\n",
      "estimated_salary       0\n",
      "churn                  0\n",
      "dtype: int64\n",
      "\n",
      "Numbers of duplicates (explicit)in the dataset - df_bank\n",
      "0\n",
      "None\n"
     ]
    }
   ],
   "source": [
    "print(get_info(df_bank, 'df_bank')) "
   ]
  },
  {
   "cell_type": "markdown",
   "metadata": {},
   "source": [
    "**Общий вывод по предварительной обработке данных**: Данные были загружены, выполнено первичное ознакомление с данными, исправлены названия колонок и изменен регистр. Дубликаты не выявлены, пропуски в столбце **balance** оставлены без исправлений (причины описаны выше). Переходим к следующему шагу."
   ]
  },
  {
   "cell_type": "markdown",
   "metadata": {},
   "source": [
    "### Анализ данных"
   ]
  },
  {
   "cell_type": "markdown",
   "metadata": {},
   "source": [
    "#### Гистограммы распределения клиентов"
   ]
  },
  {
   "cell_type": "markdown",
   "metadata": {},
   "source": [
    "Построю столбчатые гистограммы распределения признаков для тех, кто ушёл (отток) и тех, кто остался (не попали в отток);"
   ]
  },
  {
   "cell_type": "code",
   "execution_count": 12,
   "metadata": {},
   "outputs": [],
   "source": [
    "def binary_plot(df   , x_data, hue_data, # Data and columns for plot\n",
    "                title, xlabel, ylabel  , # Labels for plot \n",
    "                ymin , ymax  , step   ): # Limits for plot (y axis)\n",
    "    '''\n",
    "    Эта функция содержит набор команд для построения столбчатых гистограмм.\n",
    "    df       : DataFrame \n",
    "        Dataframe with data\n",
    "    x_data   : Objects\n",
    "        Name of column for analysis\n",
    "    hue_data : Objects \n",
    "        Name of column for dividing x_data\n",
    "    title    : Objects\n",
    "        Name of plot (plot title)\n",
    "    xlabel   : Objects \n",
    "        Name of x axis (label)         \n",
    "    ylabel   : Objects \n",
    "        Name of y axis (label) \n",
    "    ymin      : Float \n",
    "    ymax      : Float\n",
    "    step      : Float\n",
    "        Limits for y axis\n",
    "    '''\n",
    "\n",
    "    fig = plt.figure(figsize = (15, 5))\n",
    "    ax  = fig.add_subplot(111) \n",
    "    sns.histplot(data     = df      ,\n",
    "                 x        = x_data  ,\n",
    "                 hue      = hue_data,\n",
    "                 ax       = ax      ,\n",
    "                 multiple = \"stack\" ,\n",
    "                 legend   = True    ,\n",
    "                 palette  = \"pastel\",\n",
    "                 element  = \"bars\"  ,\n",
    "                 kde      =  False  )\n",
    "    # Plot labels\n",
    "    ax.set_title(title  , color = 'black', fontsize = 14, pad = 20)\n",
    "    ax.set_xlabel(xlabel, color = 'black', fontsize = 14, labelpad = 20)\n",
    "    ax.set_ylabel(ylabel, color = 'black', fontsize = 14, labelpad = 20)\n",
    "\n",
    "    ax.grid(True , which     = 'major', \n",
    "                   color     = 'k'    ,\n",
    "                   linestyle = 'solid',\n",
    "                   alpha     = 0.1    )\n",
    "\n",
    "    ax.set_yticks(np.arange(ymin, ymax, step))\n",
    "    \n",
    "    # Limits for x-axis for columns:\n",
    "    if x_data in ('creditcard' , 'loyalty', 'gender'):\n",
    "        ax.set_xticks(np.arange(0.0, 1.1, 1.0))\n",
    "    elif x_data in ('city'):\n",
    "        ax.set_xticks(np.arange(1.0, 3.1, 1.0))    \n",
    "    elif x_data in ('products'):\n",
    "        ax.set_xticks(np.arange(1.0, 4.1, 1.0))\n",
    "    elif x_data in ('score'):\n",
    "        ax.set_xticks(np.arange(300.0, 900.1, 100.0))\n",
    "    elif x_data in ('objects'):\n",
    "        ax.set_xticks(np.arange(0.0, 10.01, 1.0))\n",
    "    \n",
    "    for label in ax.xaxis.get_ticklabels():\n",
    "        label.set_color('black')\n",
    "        label.set_rotation(0)\n",
    "        label.set_fontsize(14)\n",
    "    for label in ax.yaxis.get_ticklabels():\n",
    "        label.set_color('black')\n",
    "        label.set_fontsize(14)  \n",
    "    \n",
    "       \n",
    "    plt.show()"
   ]
  },
  {
   "cell_type": "code",
   "execution_count": 13,
   "metadata": {},
   "outputs": [
    {
     "data": {
      "image/png": "[encoded data removed]",
      "text/plain": [
       "<Figure size 1080x360 with 1 Axes>"
      ]
     },
     "metadata": {
      "needs_background": "light"
     },
     "output_type": "display_data"
    }
   ],
   "source": [
    "# Plot for score\n",
    "binary_plot(df_bank, 'score', 'churn',\n",
    "            'График распределения числа клиентов по кредитному рейтингу' ,\n",
    "            'кредитный рейтинг', 'Количество клиентов'                  , \n",
    "            ymin = 0.0, ymax = 601, step = 100.0                         )"
   ]
  },
  {
   "cell_type": "markdown",
   "metadata": {},
   "source": [
    "*Вывод:* В случае кредитного рейтинга все выглядит более менее равномерно, следовательно наши текущие программы работают корректно и нацелены на клиентов с различным уровнем кредитного доверия."
   ]
  },
  {
   "cell_type": "code",
   "execution_count": 14,
   "metadata": {},
   "outputs": [
    {
     "data": {
      "image/png": "[encoded data removed]",
      "text/plain": [
       "<Figure size 1080x360 with 1 Axes>"
      ]
     },
     "metadata": {
      "needs_background": "light"
     },
     "output_type": "display_data"
    }
   ],
   "source": [
    "# Plot for city\n",
    "binary_plot(df_bank, 'city', 'churn',\n",
    "            'График распределения числа клиентов по региону исследования' ,\n",
    "            'Регион исследования', 'Количество клиентов'                  , \n",
    "            ymin = 0.0, ymax = 6001, step = 500.0                         )"
   ]
  },
  {
   "cell_type": "code",
   "execution_count": 15,
   "metadata": {},
   "outputs": [
    {
     "data": {
      "text/html": [
       "<div>\n",
       "<style scoped>\n",
       "    .dataframe tbody tr th:only-of-type {\n",
       "        vertical-align: middle;\n",
       "    }\n",
       "\n",
       "    .dataframe tbody tr th {\n",
       "        vertical-align: top;\n",
       "    }\n",
       "\n",
       "    .dataframe thead th {\n",
       "        text-align: right;\n",
       "    }\n",
       "</style>\n",
       "<table border=\"1\" class=\"dataframe\">\n",
       "  <thead>\n",
       "    <tr style=\"text-align: right;\">\n",
       "      <th></th>\n",
       "      <th>city</th>\n",
       "      <th>client_status</th>\n",
       "      <th>clients_numb, %</th>\n",
       "    </tr>\n",
       "  </thead>\n",
       "  <tbody>\n",
       "    <tr>\n",
       "      <th>0</th>\n",
       "      <td>ярославль</td>\n",
       "      <td>0</td>\n",
       "      <td>42.04%</td>\n",
       "    </tr>\n",
       "    <tr>\n",
       "      <th>1</th>\n",
       "      <td>ярославль</td>\n",
       "      <td>1</td>\n",
       "      <td>8.10%</td>\n",
       "    </tr>\n",
       "    <tr>\n",
       "      <th>2</th>\n",
       "      <td>рыбинск</td>\n",
       "      <td>0</td>\n",
       "      <td>20.64%</td>\n",
       "    </tr>\n",
       "    <tr>\n",
       "      <th>3</th>\n",
       "      <td>рыбинск</td>\n",
       "      <td>1</td>\n",
       "      <td>4.13%</td>\n",
       "    </tr>\n",
       "    <tr>\n",
       "      <th>4</th>\n",
       "      <td>ростов великий</td>\n",
       "      <td>0</td>\n",
       "      <td>16.95%</td>\n",
       "    </tr>\n",
       "    <tr>\n",
       "      <th>5</th>\n",
       "      <td>ростов великий</td>\n",
       "      <td>1</td>\n",
       "      <td>8.14%</td>\n",
       "    </tr>\n",
       "  </tbody>\n",
       "</table>\n",
       "</div>"
      ],
      "text/plain": [
       "             city  client_status  clients_numb, %\n",
       "0       ярославль              0           42.04%\n",
       "1       ярославль              1            8.10%\n",
       "2         рыбинск              0           20.64%\n",
       "3         рыбинск              1            4.13%\n",
       "4  ростов великий              0           16.95%\n",
       "5  ростов великий              1            8.14%"
      ]
     },
     "execution_count": 15,
     "metadata": {},
     "output_type": "execute_result"
    }
   ],
   "source": [
    "report = df_bank.groupby(['city', 'churn']).agg({'score':['count']}).reset_index()\n",
    "\n",
    "# Rename columns\n",
    "report.columns = ['city'       , \n",
    "                  'client_status',\n",
    "                  'clients_numb, %']\n",
    "\n",
    "report['clients_numb, %'] = (report['clients_numb, %'] / np.sum(report['clients_numb, %'])) * 100\n",
    "# Change city name for report\n",
    "report['city']     = report['city'].replace(1,'ярославль'     )\n",
    "report['city']     = report['city'].replace(2,'рыбинск'       )\n",
    "report['city']     = report['city'].replace(3,'ростов великий')\n",
    "report"
   ]
  },
  {
   "cell_type": "markdown",
   "metadata": {},
   "source": [
    "*Вывод:* Больше всего клиентов в Ярославле, что не удивительно, поскольку это самый крупный из представленных городов. При этом стоит отметить, что количество клиентов, ушедших из банка в Ростове Великом, примерно такое же, как и в Ярославле, при том что население города меньше. Возможно нужно будет обратить на это дополнительное внимание."
   ]
  },
  {
   "cell_type": "code",
   "execution_count": 16,
   "metadata": {},
   "outputs": [
    {
     "data": {
      "image/png": "[encoded data removed]",
      "text/plain": [
       "<Figure size 1080x360 with 1 Axes>"
      ]
     },
     "metadata": {
      "needs_background": "light"
     },
     "output_type": "display_data"
    }
   ],
   "source": [
    "# Plot for gender\n",
    "binary_plot(df_bank, 'gender', 'churn', \n",
    "            'График распределения числа клиентов по половому признаку' ,\n",
    "            'Пол клиентов', 'Количество клиентов'                      , \n",
    "            ymin = 0.0, ymax = 6001, step = 500.0                      )"
   ]
  },
  {
   "cell_type": "markdown",
   "metadata": {},
   "source": [
    "*Вывод:*  В исследуемой выборе количество мужчин (1) и женщин (0) примерно одинаковое, при этом женщины чаще покидают наш банк, возможно стоит подумать о специальной клиентской программе."
   ]
  },
  {
   "cell_type": "code",
   "execution_count": 17,
   "metadata": {},
   "outputs": [
    {
     "data": {
      "image/png": "[encoded data removed]",
      "text/plain": [
       "<Figure size 1080x360 with 1 Axes>"
      ]
     },
     "metadata": {
      "needs_background": "light"
     },
     "output_type": "display_data"
    }
   ],
   "source": [
    "# Plot for age\n",
    "binary_plot(df_bank, 'age', 'churn', \n",
    "            'График распределения числа клиентов по возрастному признаку' ,\n",
    "            'Возраст клиентов, лет', 'Количество клиентов'            , \n",
    "            ymin = 0.0, ymax = 1201, step = 100.0                      )"
   ]
  },
  {
   "cell_type": "markdown",
   "metadata": {},
   "source": [
    "*Вывод*: Количество молодых клиентов банка явно превалирует над количеством более возрастных клиентов. Также можно заметить, что, начиная с 49-50 лет отток клиентов превалирует над числом оставшихся клиентов. Такая тенденция сохраняется вплоть до 63 лет. Следовательно можно подумать над усовершенствованием программ для пенсионеров и людей предпенсионного возраста.  "
   ]
  },
  {
   "cell_type": "code",
   "execution_count": 18,
   "metadata": {},
   "outputs": [
    {
     "data": {
      "image/png": "[encoded data removed]",
      "text/plain": [
       "<Figure size 1080x360 with 1 Axes>"
      ]
     },
     "metadata": {
      "needs_background": "light"
     },
     "output_type": "display_data"
    }
   ],
   "source": [
    "# Plot for objects\n",
    "binary_plot(df_bank, 'objects', 'churn', \n",
    "            'График распределения числа клиентов по количеству объектов в собственности' ,\n",
    "            'Количество объектов в собственности, шт.', 'Количество клиентов'            , \n",
    "            ymin = 0.0, ymax = 1201, step = 100.0                      )"
   ]
  },
  {
   "cell_type": "markdown",
   "metadata": {},
   "source": [
    "*Вывод:* Здесь все выглядит примерно одинаково, следовательно у нашего банка существует программа, при которой клиенты с одним объектом недвижимости находятся примерно в равных условиях по отношению к более обеспеченными клиентам."
   ]
  },
  {
   "cell_type": "code",
   "execution_count": 19,
   "metadata": {},
   "outputs": [
    {
     "data": {
      "image/png": "[encoded data removed]",
      "text/plain": [
       "<Figure size 1080x360 with 1 Axes>"
      ]
     },
     "metadata": {
      "needs_background": "light"
     },
     "output_type": "display_data"
    }
   ],
   "source": [
    "# Plot for balance\n",
    "binary_plot(df_bank, 'balance', 'churn', \n",
    "            'График распределения числа клиентов по состоянию баланса счета' ,\n",
    "            'Баланс клиента, руб', 'Количество клиентов'                     , \n",
    "            ymin = 0.0, ymax = 501, step = 100.0                             )"
   ]
  },
  {
   "cell_type": "markdown",
   "metadata": {},
   "source": [
    "*Вывод:* Сложно сделать какой-либо вывод о работе наших программ на основе только текущего баланса счета, однако отмечу, что они распределены нормально.  "
   ]
  },
  {
   "cell_type": "code",
   "execution_count": 20,
   "metadata": {},
   "outputs": [
    {
     "data": {
      "image/png": "[encoded data removed]",
      "text/plain": [
       "<Figure size 1080x360 with 1 Axes>"
      ]
     },
     "metadata": {
      "needs_background": "light"
     },
     "output_type": "display_data"
    }
   ],
   "source": [
    "# Plot for products\n",
    "binary_plot(df_bank, 'products', 'churn', \n",
    "            'График распределения числа клиентов по количеству используемых банковских продуктов' ,\n",
    "            'Количеству используемых банковских продуктов, шт.', 'Количество клиентов'            , \n",
    "            ymin = 0.0, ymax = 6001, step = 500.0                                                 )"
   ]
  },
  {
   "cell_type": "code",
   "execution_count": 21,
   "metadata": {},
   "outputs": [
    {
     "data": {
      "text/html": [
       "<div>\n",
       "<style scoped>\n",
       "    .dataframe tbody tr th:only-of-type {\n",
       "        vertical-align: middle;\n",
       "    }\n",
       "\n",
       "    .dataframe tbody tr th {\n",
       "        vertical-align: top;\n",
       "    }\n",
       "\n",
       "    .dataframe thead th {\n",
       "        text-align: right;\n",
       "    }\n",
       "</style>\n",
       "<table border=\"1\" class=\"dataframe\">\n",
       "  <thead>\n",
       "    <tr style=\"text-align: right;\">\n",
       "      <th></th>\n",
       "      <th>products</th>\n",
       "      <th>clients_numb</th>\n",
       "    </tr>\n",
       "  </thead>\n",
       "  <tbody>\n",
       "    <tr>\n",
       "      <th>0</th>\n",
       "      <td>1</td>\n",
       "      <td>50.84%</td>\n",
       "    </tr>\n",
       "    <tr>\n",
       "      <th>1</th>\n",
       "      <td>2</td>\n",
       "      <td>45.90%</td>\n",
       "    </tr>\n",
       "    <tr>\n",
       "      <th>2</th>\n",
       "      <td>3</td>\n",
       "      <td>2.66%</td>\n",
       "    </tr>\n",
       "    <tr>\n",
       "      <th>3</th>\n",
       "      <td>4</td>\n",
       "      <td>0.60%</td>\n",
       "    </tr>\n",
       "  </tbody>\n",
       "</table>\n",
       "</div>"
      ],
      "text/plain": [
       "   products  clients_numb\n",
       "0         1        50.84%\n",
       "1         2        45.90%\n",
       "2         3         2.66%\n",
       "3         4         0.60%"
      ]
     },
     "execution_count": 21,
     "metadata": {},
     "output_type": "execute_result"
    }
   ],
   "source": [
    "report = df_bank.groupby('products').agg({'churn':['count']}).reset_index()\n",
    "\n",
    "# Rename columns\n",
    "report.columns = ['products'    , \n",
    "                  'clients_numb']\n",
    "\n",
    "report['clients_numb'] = (report['clients_numb'] / np.sum(report['clients_numb'])) * 100\n",
    "report"
   ]
  },
  {
   "cell_type": "markdown",
   "metadata": {},
   "source": [
    "*Вывод:* Клиенты, использующие 3 и 4 продукта, следует объединить в одну группу, которая вместе составит чуть более 3% от общего числа случаев. Кроме того, отмечу, что большинство таких клиентов уходят от нас гораздо чаще других клиентов. "
   ]
  },
  {
   "cell_type": "code",
   "execution_count": 22,
   "metadata": {},
   "outputs": [],
   "source": [
    "df_bank['products'] = df_bank['products'].replace(4, 3)"
   ]
  },
  {
   "cell_type": "code",
   "execution_count": 23,
   "metadata": {},
   "outputs": [
    {
     "data": {
      "image/png": "[encoded data removed]",
      "text/plain": [
       "<Figure size 1080x360 with 1 Axes>"
      ]
     },
     "metadata": {
      "needs_background": "light"
     },
     "output_type": "display_data"
    }
   ],
   "source": [
    "# Plot for creditcard\n",
    "binary_plot(df_bank, 'creditcard', 'churn', \n",
    "            'График распределения числа клиентов использующих кредитные карты' ,\n",
    "            'Используют кредитную карту (нет, да)', 'Количество клиентов'      , \n",
    "            ymin = 0.0, ymax = 8001, step = 500.0                              )"
   ]
  },
  {
   "cell_type": "markdown",
   "metadata": {},
   "source": [
    "*Вывод:* Большинство клиентов используют кредитные карты."
   ]
  },
  {
   "cell_type": "code",
   "execution_count": 24,
   "metadata": {},
   "outputs": [
    {
     "data": {
      "image/png": "[encoded data removed]",
      "text/plain": [
       "<Figure size 1080x360 with 1 Axes>"
      ]
     },
     "metadata": {
      "needs_background": "light"
     },
     "output_type": "display_data"
    }
   ],
   "source": [
    "# Plot for loyalty\n",
    "binary_plot(df_bank, 'loyalty', 'churn', \n",
    "            'График распределения числа активных клиентов'    ,\n",
    "            'Активный клиент (нет, да)', 'Количество клиентов', \n",
    "            ymin = 0.0, ymax = 6001, step = 500.0             )"
   ]
  },
  {
   "cell_type": "markdown",
   "metadata": {},
   "source": [
    "*Вывод:* Количество активных и неактивных клиентов примерно одинаковое. При этом неактивные клиенты чаще покидают наш банк."
   ]
  },
  {
   "cell_type": "code",
   "execution_count": 25,
   "metadata": {},
   "outputs": [
    {
     "data": {
      "image/png": "[encoded data removed]",
      "text/plain": [
       "<Figure size 1080x360 with 1 Axes>"
      ]
     },
     "metadata": {
      "needs_background": "light"
     },
     "output_type": "display_data"
    }
   ],
   "source": [
    "# Plot for estimated_salary\n",
    "binary_plot(df_bank, 'estimated_salary', 'churn', \n",
    "            'График распределения клиентов по уровню зарплаты' ,\n",
    "            'Зарплата клиентов, руб', 'Количество клиентов', \n",
    "            ymin = 0.0, ymax = 601, step = 100.0             )"
   ]
  },
  {
   "cell_type": "markdown",
   "metadata": {},
   "source": [
    "*Вывод:* Клиенты с разными уровнями зарплаты ведут себя примерно одинакаво, следовательно у нас все хорошо с такими программами. "
   ]
  },
  {
   "cell_type": "markdown",
   "metadata": {},
   "source": [
    "**Вывод по подразделу:** Построенные гистограммы распределения числа клиентов в зависимости от различных признаков показывают наиболее проблематичные признаки и те признаки, для которых наши программы работают корректно.\n",
    "\n",
    "Для дальнейшего более подробного анализа я бы выделил следующие признаки: \n",
    "1. **city** или регион исследования;\n",
    "2. **gender** или пол клиентов;\n",
    "3. **products** или количество используемых продуктов;\n",
    "4. **age** или возраст клиентов.\n",
    "\n",
    "По остальным признакам количество оставшихся и ушедших клиентов примерно одинаковое и для выполнения сегментации клиентов не будет играть столь существенной роли.\n"
   ]
  },
  {
   "cell_type": "markdown",
   "metadata": {},
   "source": [
    "Отдельно отмечу, что только построив гистограммы распределения клиентов по признакам, можно наметить первые потенциально возможные меры для уменьшения оттока клиентов:\n",
    "1. Обратить внимание на существующие программы банка в регионе Ростов Великий, возможно они некорректны или не подходят для данного региона. Кроме того, возможно, что нам необходимо организовать дополнительные семинары для наших сотрудников из этого филиала по улучшению качества работы с клиентами.\n",
    "\n",
    "2. Подумать над созданием специальных условий для женщин, которые заинтересованы в услугах нашего банка; например, создать специальный вклад с привлекательными процентными ставками, доступный в период с 5 по 10 марта. \n",
    "\n",
    "3. Подумать над усовершенствованием программ для пенсионеров и людей предпенсионного возраста, для которых наблюдается превалирующий отток.\n",
    "\n",
    "4. Больше предлагаемых продуктов - не значит лучше. Исходя из анализа данных отмечу, что наши клиенты, использующие 3 и более продуктов банка, почти в 100% случаев уходят от нас. Следовательно, нам надо подумать над качеством наших дополнительных программ и, возможно, уменьшить долю рекламы банка для таких клиентов.  "
   ]
  },
  {
   "cell_type": "markdown",
   "metadata": {},
   "source": [
    "####  Сегментация пользователей по потреблению банковских продуктов"
   ]
  },
  {
   "cell_type": "code",
   "execution_count": 26,
   "metadata": {},
   "outputs": [],
   "source": [
    "def segment_vis(df, x_data, y_data, hue_data,  # data for analysis\n",
    "                title, xlabel, ylabel       ,  # titles\n",
    "                ymin , ymax  , step         ): # limits for axis\n",
    "    '''\n",
    "    Эта функция содержит набор команд для визуализации сегментов.\n",
    "    df       : DataFrame \n",
    "        Dataframe with data\n",
    "    x_data   : Objects\n",
    "        Name of column for analysis\n",
    "    y_data   : Objects\n",
    "        Name of column for analysis        \n",
    "    hue_data : Objects \n",
    "        Name of column for dividing x_data\n",
    "    title    : Objects\n",
    "        Name of plot (plot title)\n",
    "    xlabel   : Objects \n",
    "        Name of x axis (label)         \n",
    "    ylabel   : Objects \n",
    "        Name of y axis (label) \n",
    "    ymin      : Float \n",
    "    ymax      : Float\n",
    "    step      : Float\n",
    "        Limits for y axis\n",
    "    '''\n",
    "    sns.set_theme(style=\"whitegrid\")\n",
    "    fig = plt.figure(figsize = (15, 5))\n",
    "    ax  = fig.add_subplot(111) \n",
    "\n",
    "    # Plot labels\n",
    "    ax.set_title(title  , color = 'black', fontsize = 14, pad = 20)\n",
    "    ax.set_xlabel(xlabel, color = 'black', fontsize = 14, labelpad = 20)\n",
    "    ax.set_ylabel(ylabel, color = 'black', fontsize = 14, labelpad = 20)\n",
    "    \n",
    "    # Draw a nested violinplot and split the violins for easier comparison\n",
    "    sns.violinplot(data  = df  , x = x_data, y = y_data, hue  = hue_data, \n",
    "                   split = True, inner = \"quart\", linewidth = 1, ax = ax)\n",
    "\n",
    "    sns.despine(left = True)\n",
    "    \n",
    "    ax.grid(True , which     = 'major', \n",
    "                   color     = 'k'    ,\n",
    "                   linestyle = 'solid',\n",
    "                   alpha     = 0.1    )\n",
    "    \n",
    "    ax.set_yticks(np.arange(ymin, ymax, step))\n",
    "    \n",
    "    for label in ax.xaxis.get_ticklabels():\n",
    "        label.set_color('black')\n",
    "        label.set_rotation(0)\n",
    "        label.set_fontsize(14)\n",
    "    for label in ax.yaxis.get_ticklabels():\n",
    "        label.set_color('black')\n",
    "        label.set_fontsize(14)  \n",
    "           \n",
    "    plt.show()"
   ]
  },
  {
   "cell_type": "code",
   "execution_count": 27,
   "metadata": {},
   "outputs": [
    {
     "name": "stdout",
     "output_type": "stream",
     "text": [
      "Доля оттока в трех продуктовых группах\n"
     ]
    },
    {
     "data": {
      "text/html": [
       "<div>\n",
       "<style scoped>\n",
       "    .dataframe tbody tr th:only-of-type {\n",
       "        vertical-align: middle;\n",
       "    }\n",
       "\n",
       "    .dataframe tbody tr th {\n",
       "        vertical-align: top;\n",
       "    }\n",
       "\n",
       "    .dataframe thead th {\n",
       "        text-align: right;\n",
       "    }\n",
       "</style>\n",
       "<table border=\"1\" class=\"dataframe\">\n",
       "  <thead>\n",
       "    <tr style=\"text-align: right;\">\n",
       "      <th></th>\n",
       "      <th>products_grout</th>\n",
       "      <th>client_status</th>\n",
       "      <th>mean_age_client</th>\n",
       "      <th>client_numbers, %</th>\n",
       "    </tr>\n",
       "  </thead>\n",
       "  <tbody>\n",
       "    <tr>\n",
       "      <th>0</th>\n",
       "      <td>1</td>\n",
       "      <td>0</td>\n",
       "      <td>37.67</td>\n",
       "      <td>36.75</td>\n",
       "    </tr>\n",
       "    <tr>\n",
       "      <th>1</th>\n",
       "      <td>1</td>\n",
       "      <td>1</td>\n",
       "      <td>44.91</td>\n",
       "      <td>14.09</td>\n",
       "    </tr>\n",
       "    <tr>\n",
       "      <th>2</th>\n",
       "      <td>2</td>\n",
       "      <td>0</td>\n",
       "      <td>37.19</td>\n",
       "      <td>42.42</td>\n",
       "    </tr>\n",
       "    <tr>\n",
       "      <th>3</th>\n",
       "      <td>2</td>\n",
       "      <td>1</td>\n",
       "      <td>44.66</td>\n",
       "      <td>3.48</td>\n",
       "    </tr>\n",
       "    <tr>\n",
       "      <th>4</th>\n",
       "      <td>3</td>\n",
       "      <td>0</td>\n",
       "      <td>37.30</td>\n",
       "      <td>0.46</td>\n",
       "    </tr>\n",
       "    <tr>\n",
       "      <th>5</th>\n",
       "      <td>3</td>\n",
       "      <td>1</td>\n",
       "      <td>44.70</td>\n",
       "      <td>2.80</td>\n",
       "    </tr>\n",
       "  </tbody>\n",
       "</table>\n",
       "</div>"
      ],
      "text/plain": [
       "   products_grout  client_status  mean_age_client  client_numbers, %\n",
       "0               1              0            37.67              36.75\n",
       "1               1              1            44.91              14.09\n",
       "2               2              0            37.19              42.42\n",
       "3               2              1            44.66               3.48\n",
       "4               3              0            37.30               0.46\n",
       "5               3              1            44.70               2.80"
      ]
     },
     "execution_count": 27,
     "metadata": {},
     "output_type": "execute_result"
    }
   ],
   "source": [
    "report = (df_bank\n",
    "            .groupby(['products','churn'])\n",
    "            .agg({'age':['mean', 'count']})\n",
    "            .reset_index()\n",
    "         )\n",
    "\n",
    "# Rename columns\n",
    "report.columns = ['products_grout' , \n",
    "                  'client_status'  , \n",
    "                  'mean_age_client',\n",
    "                  'client_numbers, %' ]\n",
    "\n",
    "report['client_numbers, %'] = (report['client_numbers, %'] / np.sum(report['client_numbers, %'])) * 100\n",
    "print('Доля оттока в трех продуктовых группах')\n",
    "pd.set_option('display.float_format', '{:.2f}'.format)\n",
    "report"
   ]
  },
  {
   "cell_type": "code",
   "execution_count": 28,
   "metadata": {},
   "outputs": [
    {
     "data": {
      "image/png": "[encoded data removed]",
      "text/plain": [
       "<Figure size 1080x360 with 1 Axes>"
      ]
     },
     "metadata": {},
     "output_type": "display_data"
    }
   ],
   "source": [
    "# Plot for age product segments\n",
    "segment_vis(df_bank, 'products', 'age', 'churn', \n",
    "            'График распределения продуктовых сегментов в зависимости от возраста клиента',\n",
    "            'age', 'products', ymin = 10.0, ymax = 91, step = 10.0)"
   ]
  },
  {
   "cell_type": "markdown",
   "metadata": {},
   "source": [
    "*Вывод:* Во всех трех группах наибольшее число ушедших клиентов имеют возраст от 39 до 52 лет. Скорее всего таких людей не устраивают банковские программы, направленные на формирование будущей пенсии или иных накопительных программ. "
   ]
  },
  {
   "cell_type": "code",
   "execution_count": 29,
   "metadata": {},
   "outputs": [
    {
     "data": {
      "image/png": "[encoded data removed]",
      "text/plain": [
       "<Figure size 1080x360 with 1 Axes>"
      ]
     },
     "metadata": {},
     "output_type": "display_data"
    }
   ],
   "source": [
    "# Plot for age product segments\n",
    "segment_vis(df_bank, 'products', 'city', 'churn', \n",
    "            'График распределения продуктовых сегментов в зависимости от региона клиента',\n",
    "            'Возраст клиента', 'Количество клиентов', \n",
    "            ymin = 1.0, ymax = 3.1, step = 1.0             )"
   ]
  },
  {
   "cell_type": "markdown",
   "metadata": {},
   "source": [
    "*Вывод:* Клиенты из Ростова Великий наиболее склонны к оттоку по сравнению с другими городами"
   ]
  },
  {
   "cell_type": "code",
   "execution_count": 30,
   "metadata": {},
   "outputs": [
    {
     "data": {
      "image/png": "[encoded data removed]",
      "text/plain": [
       "<Figure size 1080x360 with 1 Axes>"
      ]
     },
     "metadata": {},
     "output_type": "display_data"
    }
   ],
   "source": [
    "# Plot for age product segments\n",
    "segment_vis(df_bank, 'products', 'gender', 'churn', \n",
    "            'График распределения продуктовых сегментов в зависимости от пола клиента',\n",
    "            'gender', 'products', ymin = 0.0, ymax = 1.1, step = 1.0                  )"
   ]
  },
  {
   "cell_type": "markdown",
   "metadata": {},
   "source": [
    "*Вывод:* Женщины чуть более склоны к оттоку"
   ]
  },
  {
   "cell_type": "code",
   "execution_count": 31,
   "metadata": {},
   "outputs": [
    {
     "data": {
      "image/png": "[encoded data removed]",
      "text/plain": [
       "<Figure size 1080x360 with 1 Axes>"
      ]
     },
     "metadata": {},
     "output_type": "display_data"
    }
   ],
   "source": [
    "segment_vis(df_bank, 'products', 'loyalty', 'churn', \n",
    "            'График распределения продуктовых сегментов в зависимости от активности клиента',\n",
    "            'loyalty', 'products', ymin = 0.0, ymax = 1.1, step = 1.0)"
   ]
  },
  {
   "cell_type": "markdown",
   "metadata": {},
   "source": [
    "*Вывод:* Лояльные (активные) пользователи чаще остаются с банком, чем нелояльные. Скорее всего такие пользователи стали участниками наших программ в результате каких-нибудь рекламных компаний или специальных акций, по окочанию которых клиенты перестали пользоваться нашими услугами."
   ]
  },
  {
   "cell_type": "markdown",
   "metadata": {},
   "source": [
    "**Вывод по разделу:** Выполненная сегментация по количеству используемых продуктов с применением дополнительных критериев потвердила ранее озвученные предположения."
   ]
  },
  {
   "cell_type": "markdown",
   "metadata": {},
   "source": [
    "#### Проверка гипотез"
   ]
  },
  {
   "cell_type": "markdown",
   "metadata": {},
   "source": [
    "1. Проверьте гипотезу различия дохода между теми клиентами, которые пользуются двумя продуктами банка, и теми, которые пользуются одним.\n"
   ]
  },
  {
   "cell_type": "markdown",
   "metadata": {},
   "source": [
    "Прежде, чем приступить к проверке гипотез нужно подготовить данные для анализа:\n",
    "\n",
    "1. Извлечь из общего клиентов, только тех кто пользуется одним или двумя продуктами банка;\n",
    "2. Поскольку за доход отвечает столбец **estimated_salary**, а в нем нет пропусков, то удалять пропущенные значения из столбца **balance** нет необходимости.\n",
    "3. Рассчитать значение математического ожидания для того чтобы сформулировать гипотезы."
   ]
  },
  {
   "cell_type": "code",
   "execution_count": 32,
   "metadata": {},
   "outputs": [
    {
     "name": "stdout",
     "output_type": "stream",
     "text": [
      "Group01 mean salary: 99486.76101494886 \n",
      "Group02 mean salary: 100451.52418300654\n"
     ]
    }
   ],
   "source": [
    "# Group01 use 1 bank product\n",
    "df_group_01 = df_bank.query('products == 1')\n",
    "gr01_salary = df_group_01['estimated_salary'].values\n",
    "\n",
    "# Group02 use 2 bank products\n",
    "df_group_02 = df_bank.query('products == 2')\n",
    "gr02_salary = df_group_02['estimated_salary'].values\n",
    "\n",
    "print(  'Group01 mean salary:', np.mean(gr01_salary), \n",
    "      '\\nGroup02 mean salary:', np.mean(gr02_salary))"
   ]
  },
  {
   "cell_type": "markdown",
   "metadata": {},
   "source": [
    "Сформулируем статистическую гипотезу."
   ]
  },
  {
   "cell_type": "markdown",
   "metadata": {},
   "source": [
    "**Нулевая гипотеза:** средний уровень дохода клиентов использующих два продукта банка, равен среднему уровню дохода клиентов использующих только один продукт ($H_{0}: m_{z_{group02}} = m_{z_{group01}}$) . \n",
    "\n",
    "**Альтернативная гипотеза:** средний уровень дохода клиентов использующих два продукта банка, отличается от среднего уровня доходов клиентов использующих только один продукт ($H_{0} \\neq m_{z_{group02}} \\neq m_{z_{group01}}$)\n"
   ]
  },
  {
   "cell_type": "markdown",
   "metadata": {},
   "source": [
    "Для проверки гипотезы использую использую специальный тест - критерий Стьюдента (t-критерий), который базируется на использовании статистики Стьюдента. В частности нам нужно проверить гипотезу о равенстве средних двух выборок."
   ]
  },
  {
   "cell_type": "code",
   "execution_count": 33,
   "metadata": {},
   "outputs": [
    {
     "name": "stdout",
     "output_type": "stream",
     "text": [
      "p-значение: 0.41046832068869554\n",
      "Не получилось отвергнуть нулевую гипотезу\n"
     ]
    }
   ],
   "source": [
    "alpha = 0.05  # критический уровень статистической значимости\n",
    "# если p-value окажется меньше него - отвергнем гипотезу\n",
    "\n",
    "results = st.ttest_ind(gr01_salary, gr02_salary)\n",
    "\n",
    "print('p-значение:', results.pvalue)\n",
    "\n",
    "if results.pvalue < alpha:\n",
    "    print('Отвергаем нулевую гипотезу')\n",
    "else:\n",
    "    print('Не получилось отвергнуть нулевую гипотезу') "
   ]
  },
  {
   "cell_type": "markdown",
   "metadata": {},
   "source": [
    "**Вывод:** Гипотеза о равенстве средних двух выборок при уровне значимости 2а = 10% не опровергается и следовательно, предположение о том, что средний уровень дохода клиентов использующих один или два банковских продукта является одинаковым - верно."
   ]
  },
  {
   "cell_type": "markdown",
   "metadata": {},
   "source": [
    "2. Проверьте гипотезу различия среднего уровня заработной платы клиентов, мужского и женского пола, которые пользуются одним продуктом банка."
   ]
  },
  {
   "cell_type": "code",
   "execution_count": 34,
   "metadata": {},
   "outputs": [
    {
     "name": "stdout",
     "output_type": "stream",
     "text": [
      "Man mean salary: 98674.51255380201 \n",
      "Women mean salary: 100473.06271777004\n"
     ]
    }
   ],
   "source": [
    "# Group01 use 1 bank product\n",
    "df_man = df_bank.query('(gender == 1) & (products == 1)')\n",
    "df_man_salary = df_man['estimated_salary'].values\n",
    "\n",
    "# Group02 use 2 bank products\n",
    "df_women = df_bank.query('gender == 0 & (products == 1)')\n",
    "df_women_salary = df_women['estimated_salary'].values\n",
    "\n",
    "print(  'Man mean salary:'  , np.mean(df_man_salary), \n",
    "      '\\nWomen mean salary:', np.mean(df_women_salary))"
   ]
  },
  {
   "cell_type": "markdown",
   "metadata": {},
   "source": [
    "Сформулируем статистическую гипотезу.\n",
    "\n",
    "**Нулевая гипотеза:** средний уровень дохода клиентов мужского пола, равен среднему уровню дохода клиентов женского пола ($H_{0}: m_{z_{group02}} = m_{z_{group01}}$) . \n",
    "\n",
    "**Альтернативная гипотеза:** средний уровень дохода клиентов мужского пола, отличается от среднего уровня доходов клиентов женского пола ($H_{0}: m_{z_{group02}} \\neq m_{z_{group01}}$)"
   ]
  },
  {
   "cell_type": "code",
   "execution_count": 35,
   "metadata": {},
   "outputs": [
    {
     "name": "stdout",
     "output_type": "stream",
     "text": [
      "p-значение: 0.26594762299023605\n",
      "Не получилось отвергнуть нулевую гипотезу\n"
     ]
    }
   ],
   "source": [
    "alpha = 0.05  # критический уровень статистической значимости\n",
    "# если p-value окажется меньше него - отвергнем гипотезу\n",
    "\n",
    "results = st.ttest_ind(df_man_salary, df_women_salary)\n",
    "\n",
    "print('p-значение:', results.pvalue)\n",
    "\n",
    "if results.pvalue < alpha:\n",
    "    print('Отвергаем нулевую гипотезу')\n",
    "else:\n",
    "    print('Не получилось отвергнуть нулевую гипотезу') "
   ]
  },
  {
   "cell_type": "markdown",
   "metadata": {},
   "source": [
    "**Вывод:** Гипотеза о равенстве средних двух выборок при уровне значимости 2а = 10% не опровергается и следовательно, предположение о том, что средний уровень дохода клиентов мужского и женского пола является одинаковым - верно."
   ]
  },
  {
   "cell_type": "markdown",
   "metadata": {},
   "source": [
    "#### Проверка значимости признаков "
   ]
  },
  {
   "cell_type": "markdown",
   "metadata": {},
   "source": [
    "***Модель прогнозирования оттока клиентов***"
   ]
  },
  {
   "cell_type": "markdown",
   "metadata": {},
   "source": [
    "При использовании машинного обучения в данных не должно быть пропусков. Поэтому, чтобы не удалять 3600 значений из столбца **balance**, я заполню их на основе медианных значений по колонке **region**. "
   ]
  },
  {
   "cell_type": "code",
   "execution_count": 36,
   "metadata": {},
   "outputs": [
    {
     "name": "stdout",
     "output_type": "stream",
     "text": [
      "Numbers of NaN values in the dataset - df_bank_ml\n",
      "userid                 0\n",
      "score                  0\n",
      "city                   0\n",
      "gender                 0\n",
      "age                    0\n",
      "objects                0\n",
      "balance             3617\n",
      "products               0\n",
      "creditcard             0\n",
      "loyalty                0\n",
      "estimated_salary       0\n",
      "churn                  0\n",
      "dtype: int64\n",
      "\n",
      "Numbers of NaN values in the dataset - df_bank_ml\n",
      "userid              0\n",
      "score               0\n",
      "city                0\n",
      "gender              0\n",
      "age                 0\n",
      "objects             0\n",
      "balance             0\n",
      "products            0\n",
      "creditcard          0\n",
      "loyalty             0\n",
      "estimated_salary    0\n",
      "churn               0\n",
      "dtype: int64\n"
     ]
    }
   ],
   "source": [
    "# Create spesial dataframe for machine learning\n",
    "df_bank_ml = df_bank\n",
    "\n",
    "# Check nan values\n",
    "print('Numbers of NaN values in the dataset - df_bank_ml')\n",
    "print(df_bank_ml.isnull().sum())\n",
    "    \n",
    "df_bank_ml['balance'] = df_bank_ml.groupby(['city'])['balance'].apply(lambda x: x.fillna(x.median()))\n",
    "\n",
    "# Check nan values - again\n",
    "print('')\n",
    "print('Numbers of NaN values in the dataset - df_bank_ml')\n",
    "print(df_bank_ml.isnull().sum())"
   ]
  },
  {
   "cell_type": "markdown",
   "metadata": {},
   "source": [
    "Пропусков больше нет, но заполнены они грубым способом"
   ]
  },
  {
   "cell_type": "markdown",
   "metadata": {},
   "source": [
    "Далее я буду использовать бинарную классификация, поскольку у меня есть только два события: 0 - клиент остался, 1 - клиент ушел. Кроме того, из исходного набора данных я удалю следующие колонки **userid** и **creditcard**, поскольку они практически не имеют никакой связи с исследуемой переменной (см. матрицу корреляций). "
   ]
  },
  {
   "cell_type": "code",
   "execution_count": 37,
   "metadata": {},
   "outputs": [
    {
     "name": "stdout",
     "output_type": "stream",
     "text": [
      "LogisticRegression(random_state=0)\n",
      "Accuracy:0.81 Precision:0.62 Recall:0.22 \n",
      "\n",
      "RandomForestClassifier(random_state=0)\n",
      "Accuracy:0.87 Precision:0.76 Recall:0.52 \n",
      "\n",
      "GradientBoostingClassifier(random_state=0)\n",
      "Accuracy:0.87 Precision:0.74 Recall:0.52 \n",
      "\n"
     ]
    }
   ],
   "source": [
    "# Разделяю данные на признаки (матрица X) и целевую переменную (y)\n",
    "\n",
    "X = df_bank.drop(['churn', 'userid', 'creditcard'], axis = 1)\n",
    "y = df_bank['churn']\n",
    "\n",
    "# Разделяю модель на обучающую и валидационную выборку\n",
    "X_train, X_test, y_train, y_test = train_test_split(X, y, test_size=0.2, random_state=0)\n",
    "\n",
    "# Создаю объект класса StandardScaler и применяю его к обучающей выборке\n",
    "scaler = StandardScaler()\n",
    "\n",
    "# Обучаю scaler и одновременно трансформирую матрицу для обучающей выборки\n",
    "X_train_st = scaler.fit_transform(X_train)  \n",
    "\n",
    "# Применяю стандартизацию к матрице признаков для тестовой выборки\n",
    "X_test_st = scaler.transform(X_test)\n",
    "\n",
    "# Задаю список моделей для определения наилучшей\n",
    "models = [LogisticRegression(random_state = 0)        ,\n",
    "          RandomForestClassifier(random_state = 0)    ,\n",
    "          GradientBoostingClassifier(random_state = 0)]   \n",
    "    \n",
    "# функция, которая принимает на вход модель и данные и выводит метрики\n",
    "def make_prediction(mod, X_train, y_train, X_test, y_test):\n",
    "    # алгоритм для модели\n",
    "    model = mod\n",
    "    # обучаю модель\n",
    "    model.fit(X_train, y_train)   \n",
    "    # делаю прогноз с использованием обученной модели\n",
    "    y_pred = model.predict(X_test)\n",
    "    # Считаю метрики для моделей\n",
    "    print('Accuracy:{:.2f} Precision:{:.2f} Recall:{:.2f} '.format(accuracy_score (y_test, y_pred),\n",
    "                                                                   precision_score(y_test, y_pred),\n",
    "                                                                   recall_score   (y_test, y_pred))\n",
    "         )\n",
    "    \n",
    "# цикл, который выводит метрики по списку моделей\n",
    "for i in models:\n",
    "    print(i)\n",
    "    make_prediction(i, X_train_st, y_train, X_test_st, y_test)\n",
    "    print('')"
   ]
  },
  {
   "cell_type": "markdown",
   "metadata": {},
   "source": [
    "**Вывод по разделу:** В ходе выполения данной задачи я обучил и использовал три модели (**LogisticRegression**, **RandomForestClassifier**, **GradientBoostingClassifier**), которые позволяют выполнить бинарную классификацию с учителем. Выполнив предварительную стандартизацию и разбивку выборки в соотношении 80 на 20, я рассчитал метрики для оценки эффективности обученных моделей. "
   ]
  },
  {
   "cell_type": "markdown",
   "metadata": {},
   "source": [
    "Для оценки я использовал такие показатели как: **accuracy**, **precision** и **recall**, которые отображают общие представления о качестве работы моделей.\n",
    "\n",
    "На основании этих показателей мне удалось определить, что модель **GradientBoostingClassifier** имеет наилучший результат. "
   ]
  },
  {
   "cell_type": "markdown",
   "metadata": {},
   "source": [
    "Дополнительно выполню повторное обучение лучшей модели для определения наиболее важных признаков, которые влияют на отток клиентов."
   ]
  },
  {
   "cell_type": "code",
   "execution_count": 38,
   "metadata": {},
   "outputs": [
    {
     "name": "stdout",
     "output_type": "stream",
     "text": [
      "            Priznak  Importance\n",
      "3               age        0.40\n",
      "6          products        0.30\n",
      "7           loyalty        0.11\n",
      "5           balance        0.08\n",
      "1              city        0.06\n",
      "0             score        0.02\n",
      "2            gender        0.02\n",
      "8  estimated_salary        0.01\n",
      "4           objects        0.00\n"
     ]
    }
   ],
   "source": [
    "# Обучаю  финальную модель\n",
    "final_model = GradientBoostingClassifier()\n",
    "final_model.fit(X_train, y_train)\n",
    "y_pred = final_model.predict(X_test)\n",
    "\n",
    "importances = final_model.feature_importances_\n",
    "\n",
    "priznak = []\n",
    "for i in X_test.columns:\n",
    "    priznak.append(i)\n",
    "\n",
    "data_init = {'Priznak': priznak, 'Importance': importances}\n",
    "df = pd.DataFrame(data = data_init)\n",
    "print(df.sort_values(by = 'Importance', ascending = False)) "
   ]
  },
  {
   "cell_type": "markdown",
   "metadata": {},
   "source": [
    "**Вывод по разделу:** Наиболее важными признаками, на которые стоит обращать внимания являются:\n",
    "* `age ` — возраст клиента;\n",
    "* `products` — количество продуктов, которыми пользуется клиент, \n",
    "* `loyalty` — статус активного клиента.\n",
    "\n",
    "Следовательно, можно предположить, что основная задача, для того, чтобы уменьшить отток клиентов, заключается в создании таких программ, которые были бы одинаково привлекательными различным возрастным группам клиентов. Кроме того, для каждого клиента совсем не объязательно предоставлять как можно больше банковских продуктов, а требуется сосредоточить наше внимание на 1, максимум 2 продуктах, но сделать их максимально клиентоориентированными. Дополнительно, для нас является важным постоянная качественная поддержка активных клиентов, например, за счет создания специальных условий кэшбэка. \n",
    "\n",
    "P.S.: Результаты машинного обучения с целью нахождения наиболее актуальных признаков полностью совпали с ранее упомянутыми признаками на основе корреляционной матрицы."
   ]
  },
  {
   "cell_type": "markdown",
   "metadata": {},
   "source": [
    "## Вывод по проекту"
   ]
  },
  {
   "cell_type": "markdown",
   "metadata": {},
   "source": [
    "В ходе выполнения работы был проведен анализ данных, на основе которого выполнено сегментирования клиентов банка по потреблению количества банковских продуктов с учетом доли оттока клиентов и различных признаков, которые могут влиять на поведенческие алгоритмы клиентов:\n",
    "1. Возраста клиентов;\n",
    "2. Региона проживания клиента;\n",
    "3. Пола;\n",
    "4. Степени активности клиента."
   ]
  },
  {
   "cell_type": "markdown",
   "metadata": {},
   "source": [
    "**Сегментирование с учетом возраста:**\n",
    "\n",
    "Данный анализ показал, что в нашем банке количество молодых клиентов банка явно превалирует над количеством более возрастных клиентов. Такие клиенты остаются с нашим банком и пользуются его услугами. Анализ данных показал, что начиная с 49 - 50 лет отток клиентов превалирует над числом оставшихся клиентов. Такая тенденция сохраняется вплоть до 63 лет. \n",
    "\n",
    "Следовательно, нам нужно подумать над усовершенствование программ для пенсионеров или людей предпенсионного возраста. В качестве подобных программ можно предложить выпуск специальных банковских карт для перевода пенсий и специальную программу поддержки клиентов, у которых могут возникать сложности с оплатой услуг в интернете, что особенно актуально для пенсионеров. "
   ]
  },
  {
   "cell_type": "markdown",
   "metadata": {},
   "source": [
    "**Сегментирование с учетом региона проживания клиента:**\n",
    "\n",
    "Данный анализ показал, что наибольший отток клиентов зафиксирован в Ростове Великом (8.5%). Следовательно, необходимо обратить внимание на существующие программы банка в регионе Ростов Великий, возможно, они некорректно работают или не подходят для данного региона. Кроме того, возможно, необходимо организовать дополнительные семинары для наших сотрудников из этого филиала по улучшению качества работы с клиентами."
   ]
  },
  {
   "cell_type": "markdown",
   "metadata": {},
   "source": [
    "**Сегментирование с учетом пола клиентов:** \n",
    "\n",
    "Данный анализ показал, что женщины наиболее склонны к оттоку, чем мужчины. Поэтому необходимо подумать над созданием специальных условий (акций) для женщин, которые заинтересованы в услугах нашего банка, например, создать специальный вклад с привлекательными процентными ставками, доступный в период с 5 по 10 марта."
   ]
  },
  {
   "cell_type": "markdown",
   "metadata": {},
   "source": [
    "**Сегментирование с учетом лояльности клиентов:**\n",
    "\n",
    "Для большинства наших лояльных клиентов оказывается важным использовать от 1 до 2 банковских продуктов. Следовательно, больше предлагаемых продуктов - не значит лучше. Исходя из анализа данных, отмечу, что наши клиенты, использующие 3 и более продуктов банка, почти в 100% случаев уходят от нас. Следовательно требуется сфокусировать большее внимание на 1 - 2 качественных продуктах учитывающих особенности региона, возраста и пола, что в конечном итоге позволит сделать банк более клиентоориентированным. Возможно, для наших активных клиентов, следует уменьшить количество рекламных предложений, посколько они вкурсе актуальных программ, что позволит нам не раздражать клиентов излишней навязчивостью. "
   ]
  },
  {
   "cell_type": "markdown",
   "metadata": {},
   "source": [
    "Также в ходе работы были проверены две гипотезы:\n",
    "1. Проверьте гипотезу различия дохода между теми клиентами, которые пользуются двумя продуктами банка, и теми, которые пользуются одним.\n",
    "2. Проверьте гипотезу различия среднего уровня заработной платы клиентов, мужского и женского пола, которые пользуются одним продуктом банка."
   ]
  },
  {
   "cell_type": "markdown",
   "metadata": {},
   "source": [
    "Показавшие, что:\n",
    "1. в исследуемой выборке, нет существенной разницы между средним уровенем дохода клиентов использующих один или несколько банковских продуктов;\n",
    "2. в исследуемой выборке, нет существенной разницы между средним уровенем дохода мужчин и женщин."
   ]
  },
  {
   "cell_type": "markdown",
   "metadata": {},
   "source": [
    "## Дополнительные материалы"
   ]
  },
  {
   "cell_type": "markdown",
   "metadata": {},
   "source": [
    "1. [Презентация в формате pdf][1]\n",
    "2. [Дашборд][2]\n",
    "\n",
    "[1]: https://docs.google.com/presentation/d/1GKQ_Jg4wzSAPsLpUyq-DvHMVNON3pDfU/edit?usp=sharing&ouid=115370727695513060066&rtpof=true&sd=true\n",
    "[2]: https://public.tableau.com/views/Finalproject_16509803045450/Dashboard1?:language=en-US&publish=yes&:display_count=n&:origin=viz_share_link"
   ]
  }
 ],
 "metadata": {
  "ExecuteTimeLog": [
   {
    "duration": 1752,
    "start_time": "2022-04-25T14:05:22.913Z"
   },
   {
    "duration": 176,
    "start_time": "2022-04-25T14:05:27.172Z"
   },
   {
    "duration": 4,
    "start_time": "2022-04-25T14:05:43.825Z"
   },
   {
    "duration": 35,
    "start_time": "2022-04-25T14:05:44.464Z"
   },
   {
    "duration": 48,
    "start_time": "2022-04-25T14:05:45.352Z"
   },
   {
    "duration": 15,
    "start_time": "2022-04-25T14:06:28.122Z"
   },
   {
    "duration": 30,
    "start_time": "2022-04-25T14:07:03.365Z"
   },
   {
    "duration": 6,
    "start_time": "2022-04-25T14:07:29.907Z"
   },
   {
    "duration": 994,
    "start_time": "2022-04-25T14:07:51.331Z"
   },
   {
    "duration": 25,
    "start_time": "2022-04-25T14:08:14.129Z"
   },
   {
    "duration": 1581,
    "start_time": "2022-04-25T14:08:53.117Z"
   },
   {
    "duration": 27,
    "start_time": "2022-04-25T14:08:54.701Z"
   },
   {
    "duration": 39,
    "start_time": "2022-04-25T14:08:54.730Z"
   },
   {
    "duration": 27,
    "start_time": "2022-04-25T14:08:54.771Z"
   },
   {
    "duration": 4,
    "start_time": "2022-04-25T14:08:54.802Z"
   },
   {
    "duration": 881,
    "start_time": "2022-04-25T14:08:54.808Z"
   },
   {
    "duration": 23,
    "start_time": "2022-04-25T14:08:59.401Z"
   },
   {
    "duration": 16,
    "start_time": "2022-04-25T14:09:10.790Z"
   },
   {
    "duration": 16,
    "start_time": "2022-04-25T14:09:29.828Z"
   },
   {
    "duration": 12,
    "start_time": "2022-04-25T14:10:08.224Z"
   },
   {
    "duration": 12,
    "start_time": "2022-04-25T14:10:33.207Z"
   },
   {
    "duration": 13,
    "start_time": "2022-04-25T14:10:49.066Z"
   },
   {
    "duration": 13,
    "start_time": "2022-04-25T14:11:09.660Z"
   },
   {
    "duration": 5,
    "start_time": "2022-04-25T14:11:19.035Z"
   },
   {
    "duration": 35,
    "start_time": "2022-04-25T14:11:19.647Z"
   },
   {
    "duration": 33,
    "start_time": "2022-04-25T14:11:20.236Z"
   },
   {
    "duration": 12,
    "start_time": "2022-04-25T14:11:21.737Z"
   },
   {
    "duration": 4,
    "start_time": "2022-04-25T14:11:22.697Z"
   },
   {
    "duration": 943,
    "start_time": "2022-04-25T14:11:24.338Z"
   },
   {
    "duration": 18,
    "start_time": "2022-04-25T14:11:26.922Z"
   },
   {
    "duration": 13,
    "start_time": "2022-04-25T14:11:50.519Z"
   },
   {
    "duration": 13,
    "start_time": "2022-04-25T14:12:14.479Z"
   },
   {
    "duration": 12,
    "start_time": "2022-04-25T14:12:29.672Z"
   },
   {
    "duration": 12,
    "start_time": "2022-04-25T14:12:46.150Z"
   },
   {
    "duration": 95,
    "start_time": "2022-04-25T14:13:23.345Z"
   },
   {
    "duration": 20,
    "start_time": "2022-04-25T14:13:34.211Z"
   },
   {
    "duration": 27,
    "start_time": "2022-04-25T14:13:57.348Z"
   },
   {
    "duration": 7,
    "start_time": "2022-04-25T14:14:19.401Z"
   },
   {
    "duration": 258,
    "start_time": "2022-04-25T14:14:28.578Z"
   },
   {
    "duration": 124,
    "start_time": "2022-04-25T14:15:29.709Z"
   },
   {
    "duration": 4,
    "start_time": "2022-04-25T14:17:11.834Z"
   },
   {
    "duration": 797,
    "start_time": "2022-04-25T14:17:13.934Z"
   },
   {
    "duration": 12,
    "start_time": "2022-04-25T14:17:16.909Z"
   },
   {
    "duration": 13,
    "start_time": "2022-04-25T14:17:26.581Z"
   },
   {
    "duration": 20,
    "start_time": "2022-04-25T14:17:51.343Z"
   },
   {
    "duration": 20,
    "start_time": "2022-04-25T14:18:06.654Z"
   },
   {
    "duration": 14,
    "start_time": "2022-04-25T14:18:14.352Z"
   },
   {
    "duration": 12,
    "start_time": "2022-04-25T14:19:21.462Z"
   },
   {
    "duration": 201,
    "start_time": "2022-04-25T14:20:03.085Z"
   },
   {
    "duration": 5,
    "start_time": "2022-04-25T14:20:08.994Z"
   },
   {
    "duration": 855,
    "start_time": "2022-04-25T14:20:11.189Z"
   },
   {
    "duration": 11,
    "start_time": "2022-04-25T14:20:12.046Z"
   },
   {
    "duration": 12,
    "start_time": "2022-04-25T14:20:17.392Z"
   },
   {
    "duration": 12,
    "start_time": "2022-04-25T14:20:29.515Z"
   },
   {
    "duration": 20,
    "start_time": "2022-04-25T14:21:47.490Z"
   },
   {
    "duration": 14,
    "start_time": "2022-04-25T14:22:16.599Z"
   },
   {
    "duration": 19,
    "start_time": "2022-04-25T14:22:24.873Z"
   },
   {
    "duration": 1572,
    "start_time": "2022-04-25T14:23:02.409Z"
   },
   {
    "duration": 27,
    "start_time": "2022-04-25T14:23:03.983Z"
   },
   {
    "duration": 37,
    "start_time": "2022-04-25T14:23:04.012Z"
   },
   {
    "duration": 12,
    "start_time": "2022-04-25T14:23:04.051Z"
   },
   {
    "duration": 28,
    "start_time": "2022-04-25T14:23:04.065Z"
   },
   {
    "duration": 842,
    "start_time": "2022-04-25T14:23:04.095Z"
   },
   {
    "duration": 28,
    "start_time": "2022-04-25T14:23:12.379Z"
   },
   {
    "duration": 31,
    "start_time": "2022-04-25T14:23:40.892Z"
   },
   {
    "duration": 23,
    "start_time": "2022-04-25T14:23:43.429Z"
   },
   {
    "duration": 105,
    "start_time": "2022-04-25T14:26:18.717Z"
   },
   {
    "duration": 31,
    "start_time": "2022-04-25T14:26:31.403Z"
   },
   {
    "duration": 9,
    "start_time": "2022-04-25T14:26:33.219Z"
   },
   {
    "duration": 313,
    "start_time": "2022-04-25T14:26:34.149Z"
   },
   {
    "duration": 224,
    "start_time": "2022-04-25T14:41:04.751Z"
   },
   {
    "duration": 16,
    "start_time": "2022-04-25T14:42:30.269Z"
   },
   {
    "duration": 424,
    "start_time": "2022-04-25T14:44:12.826Z"
   },
   {
    "duration": 279,
    "start_time": "2022-04-25T14:44:44.417Z"
   },
   {
    "duration": 223,
    "start_time": "2022-04-25T14:44:54.203Z"
   },
   {
    "duration": 238,
    "start_time": "2022-04-25T14:45:00.838Z"
   },
   {
    "duration": 417,
    "start_time": "2022-04-25T14:49:26.496Z"
   },
   {
    "duration": 393,
    "start_time": "2022-04-25T14:49:49.880Z"
   },
   {
    "duration": 509,
    "start_time": "2022-04-25T14:50:07.237Z"
   },
   {
    "duration": 214,
    "start_time": "2022-04-25T14:51:20.545Z"
   },
   {
    "duration": 271,
    "start_time": "2022-04-25T14:56:29.855Z"
   },
   {
    "duration": 275,
    "start_time": "2022-04-25T14:57:43.710Z"
   },
   {
    "duration": 382,
    "start_time": "2022-04-25T14:57:50.690Z"
   },
   {
    "duration": 131,
    "start_time": "2022-04-25T15:00:37.907Z"
   },
   {
    "duration": 417,
    "start_time": "2022-04-25T15:00:43.099Z"
   },
   {
    "duration": 288,
    "start_time": "2022-04-25T15:00:49.484Z"
   },
   {
    "duration": 513,
    "start_time": "2022-04-25T15:01:11.210Z"
   },
   {
    "duration": 408,
    "start_time": "2022-04-25T15:05:19.348Z"
   },
   {
    "duration": 362,
    "start_time": "2022-04-25T15:06:22.327Z"
   },
   {
    "duration": 444,
    "start_time": "2022-04-25T15:07:14.210Z"
   },
   {
    "duration": 277,
    "start_time": "2022-04-25T15:08:51.056Z"
   },
   {
    "duration": 382,
    "start_time": "2022-04-25T15:09:05.006Z"
   },
   {
    "duration": 418,
    "start_time": "2022-04-25T15:09:58.094Z"
   },
   {
    "duration": 296,
    "start_time": "2022-04-25T15:10:44.375Z"
   },
   {
    "duration": 329,
    "start_time": "2022-04-25T15:10:49.603Z"
   },
   {
    "duration": 408,
    "start_time": "2022-04-25T15:11:08.459Z"
   },
   {
    "duration": 304,
    "start_time": "2022-04-25T15:11:45.209Z"
   },
   {
    "duration": 267,
    "start_time": "2022-04-25T15:15:40.050Z"
   },
   {
    "duration": 301,
    "start_time": "2022-04-25T15:16:04.466Z"
   },
   {
    "duration": 313,
    "start_time": "2022-04-25T15:17:31.704Z"
   },
   {
    "duration": 268,
    "start_time": "2022-04-25T15:17:38.271Z"
   },
   {
    "duration": 268,
    "start_time": "2022-04-25T15:19:25.413Z"
   },
   {
    "duration": 520,
    "start_time": "2022-04-25T15:20:35.506Z"
   },
   {
    "duration": 557,
    "start_time": "2022-04-25T15:20:49.513Z"
   },
   {
    "duration": 386,
    "start_time": "2022-04-25T15:20:54.860Z"
   },
   {
    "duration": 7,
    "start_time": "2022-04-25T15:25:17.014Z"
   },
   {
    "duration": 289,
    "start_time": "2022-04-25T15:25:24.343Z"
   },
   {
    "duration": 261,
    "start_time": "2022-04-25T15:25:28.428Z"
   },
   {
    "duration": 14,
    "start_time": "2022-04-25T15:26:35.598Z"
   },
   {
    "duration": 368,
    "start_time": "2022-04-25T15:26:40.235Z"
   },
   {
    "duration": 7,
    "start_time": "2022-04-25T15:27:25.361Z"
   },
   {
    "duration": 379,
    "start_time": "2022-04-25T15:27:26.072Z"
   },
   {
    "duration": 8,
    "start_time": "2022-04-25T15:27:41.763Z"
   },
   {
    "duration": 370,
    "start_time": "2022-04-25T15:27:43.011Z"
   },
   {
    "duration": 428,
    "start_time": "2022-04-25T15:27:53.224Z"
   },
   {
    "duration": 8,
    "start_time": "2022-04-25T15:28:32.647Z"
   },
   {
    "duration": 356,
    "start_time": "2022-04-25T15:28:33.376Z"
   },
   {
    "duration": 248,
    "start_time": "2022-04-25T15:28:38.736Z"
   },
   {
    "duration": 352,
    "start_time": "2022-04-25T15:28:40.557Z"
   },
   {
    "duration": 533,
    "start_time": "2022-04-25T15:28:43.814Z"
   },
   {
    "duration": 476,
    "start_time": "2022-04-25T15:28:47.012Z"
   },
   {
    "duration": 119,
    "start_time": "2022-04-25T15:28:56.609Z"
   },
   {
    "duration": 546,
    "start_time": "2022-04-25T15:28:57.270Z"
   },
   {
    "duration": 316,
    "start_time": "2022-04-25T15:28:58.021Z"
   },
   {
    "duration": 322,
    "start_time": "2022-04-25T15:28:59.566Z"
   },
   {
    "duration": 465,
    "start_time": "2022-04-25T15:29:00.921Z"
   },
   {
    "duration": 358,
    "start_time": "2022-04-25T15:29:01.821Z"
   },
   {
    "duration": 467,
    "start_time": "2022-04-25T15:29:03.985Z"
   },
   {
    "duration": 456,
    "start_time": "2022-04-25T15:29:11.193Z"
   },
   {
    "duration": 321,
    "start_time": "2022-04-25T15:29:13.411Z"
   },
   {
    "duration": 339,
    "start_time": "2022-04-25T15:29:15.040Z"
   },
   {
    "duration": 348,
    "start_time": "2022-04-25T15:29:17.114Z"
   },
   {
    "duration": 16,
    "start_time": "2022-04-25T16:30:59.044Z"
   },
   {
    "duration": 12,
    "start_time": "2022-04-25T16:31:46.835Z"
   },
   {
    "duration": 18,
    "start_time": "2022-04-25T16:32:05.873Z"
   },
   {
    "duration": 15,
    "start_time": "2022-04-25T16:32:11.947Z"
   },
   {
    "duration": 15,
    "start_time": "2022-04-25T16:32:15.286Z"
   },
   {
    "duration": 213,
    "start_time": "2022-04-25T16:35:01.998Z"
   },
   {
    "duration": 13,
    "start_time": "2022-04-25T16:35:15.053Z"
   },
   {
    "duration": 12,
    "start_time": "2022-04-25T16:36:19.767Z"
   },
   {
    "duration": 52,
    "start_time": "2022-04-25T16:36:53.214Z"
   },
   {
    "duration": 16,
    "start_time": "2022-04-25T16:38:14.178Z"
   },
   {
    "duration": 890,
    "start_time": "2022-04-25T16:42:58.684Z"
   },
   {
    "duration": 25,
    "start_time": "2022-04-25T16:43:39.694Z"
   },
   {
    "duration": 15,
    "start_time": "2022-04-25T16:45:25.004Z"
   },
   {
    "duration": 20,
    "start_time": "2022-04-25T16:45:33.565Z"
   },
   {
    "duration": 15,
    "start_time": "2022-04-25T16:46:17.087Z"
   },
   {
    "duration": 21,
    "start_time": "2022-04-25T16:47:01.341Z"
   },
   {
    "duration": 207,
    "start_time": "2022-04-25T16:47:20.549Z"
   },
   {
    "duration": 235,
    "start_time": "2022-04-25T16:48:03.407Z"
   },
   {
    "duration": 24,
    "start_time": "2022-04-25T16:48:35.461Z"
   },
   {
    "duration": 221,
    "start_time": "2022-04-25T16:49:00.476Z"
   },
   {
    "duration": 212,
    "start_time": "2022-04-25T16:49:44.442Z"
   },
   {
    "duration": 13,
    "start_time": "2022-04-25T16:55:18.961Z"
   },
   {
    "duration": 12,
    "start_time": "2022-04-25T16:59:02.574Z"
   },
   {
    "duration": 12,
    "start_time": "2022-04-25T16:59:09.050Z"
   },
   {
    "duration": 15,
    "start_time": "2022-04-25T16:59:15.184Z"
   },
   {
    "duration": 18,
    "start_time": "2022-04-25T17:00:17.952Z"
   },
   {
    "duration": 17,
    "start_time": "2022-04-25T17:00:45.993Z"
   },
   {
    "duration": 8,
    "start_time": "2022-04-25T17:00:57.246Z"
   },
   {
    "duration": 12,
    "start_time": "2022-04-25T17:01:49.908Z"
   },
   {
    "duration": 600,
    "start_time": "2022-04-25T17:02:32.769Z"
   },
   {
    "duration": 12,
    "start_time": "2022-04-25T17:02:57.405Z"
   },
   {
    "duration": 122,
    "start_time": "2022-04-25T17:04:07.264Z"
   },
   {
    "duration": 15,
    "start_time": "2022-04-25T17:04:35.600Z"
   },
   {
    "duration": 10,
    "start_time": "2022-04-25T17:05:00.405Z"
   },
   {
    "duration": 2133,
    "start_time": "2022-04-25T17:06:21.728Z"
   },
   {
    "duration": 14,
    "start_time": "2022-04-25T17:06:36.540Z"
   },
   {
    "duration": 2279,
    "start_time": "2022-04-25T17:08:46.676Z"
   },
   {
    "duration": 14,
    "start_time": "2022-04-25T17:08:57.788Z"
   },
   {
    "duration": 15,
    "start_time": "2022-04-25T17:09:04.991Z"
   },
   {
    "duration": 14,
    "start_time": "2022-04-25T17:20:08.157Z"
   },
   {
    "duration": 5,
    "start_time": "2022-04-25T17:21:29.377Z"
   },
   {
    "duration": 271,
    "start_time": "2022-04-25T17:21:33.721Z"
   },
   {
    "duration": 268,
    "start_time": "2022-04-25T17:21:43.442Z"
   },
   {
    "duration": 330,
    "start_time": "2022-04-25T17:21:45.368Z"
   },
   {
    "duration": 14,
    "start_time": "2022-04-25T17:21:50.875Z"
   },
   {
    "duration": 176,
    "start_time": "2022-04-25T17:22:18.454Z"
   },
   {
    "duration": 2154,
    "start_time": "2022-04-25T17:23:27.126Z"
   },
   {
    "duration": 16,
    "start_time": "2022-04-25T17:25:39.795Z"
   },
   {
    "duration": 11,
    "start_time": "2022-04-25T17:27:10.347Z"
   },
   {
    "duration": 17,
    "start_time": "2022-04-25T17:27:21.241Z"
   },
   {
    "duration": 17,
    "start_time": "2022-04-25T17:27:38.104Z"
   },
   {
    "duration": 131,
    "start_time": "2022-04-25T17:28:42.268Z"
   },
   {
    "duration": 206,
    "start_time": "2022-04-25T17:28:47.618Z"
   },
   {
    "duration": 151,
    "start_time": "2022-04-25T17:52:46.124Z"
   },
   {
    "duration": 138,
    "start_time": "2022-04-25T17:53:58.117Z"
   },
   {
    "duration": 137,
    "start_time": "2022-04-25T17:54:07.018Z"
   },
   {
    "duration": 7,
    "start_time": "2022-04-25T17:54:27.406Z"
   },
   {
    "duration": 8,
    "start_time": "2022-04-25T17:54:36.160Z"
   },
   {
    "duration": 18,
    "start_time": "2022-04-25T17:57:11.886Z"
   },
   {
    "duration": 6,
    "start_time": "2022-04-25T17:57:16.713Z"
   },
   {
    "duration": 273,
    "start_time": "2022-04-25T17:57:17.922Z"
   },
   {
    "duration": 238,
    "start_time": "2022-04-25T17:57:32.270Z"
   },
   {
    "duration": 263,
    "start_time": "2022-04-25T17:57:42.787Z"
   },
   {
    "duration": 234,
    "start_time": "2022-04-25T17:57:59.306Z"
   },
   {
    "duration": 17,
    "start_time": "2022-04-25T17:58:34.278Z"
   },
   {
    "duration": 249,
    "start_time": "2022-04-25T17:58:51.628Z"
   },
   {
    "duration": 265,
    "start_time": "2022-04-25T17:59:12.579Z"
   },
   {
    "duration": 7,
    "start_time": "2022-04-25T17:59:17.845Z"
   },
   {
    "duration": 11,
    "start_time": "2022-04-25T17:59:20.786Z"
   },
   {
    "duration": 176,
    "start_time": "2022-04-25T17:59:28.012Z"
   },
   {
    "duration": 7,
    "start_time": "2022-04-25T17:59:47.830Z"
   },
   {
    "duration": 162,
    "start_time": "2022-04-25T17:59:50.950Z"
   },
   {
    "duration": 6,
    "start_time": "2022-04-25T18:00:02.301Z"
   },
   {
    "duration": 236,
    "start_time": "2022-04-25T18:00:05.495Z"
   },
   {
    "duration": 7,
    "start_time": "2022-04-25T18:00:23.281Z"
   },
   {
    "duration": 18,
    "start_time": "2022-04-25T18:00:25.328Z"
   },
   {
    "duration": 12,
    "start_time": "2022-04-25T18:00:25.833Z"
   },
   {
    "duration": 238,
    "start_time": "2022-04-25T18:00:32.976Z"
   },
   {
    "duration": 251,
    "start_time": "2022-04-25T18:08:48.182Z"
   },
   {
    "duration": 6,
    "start_time": "2022-04-25T18:09:35.558Z"
   },
   {
    "duration": 273,
    "start_time": "2022-04-25T18:09:40.803Z"
   },
   {
    "duration": 219,
    "start_time": "2022-04-25T18:10:20.039Z"
   },
   {
    "duration": 17,
    "start_time": "2022-04-25T18:11:09.038Z"
   },
   {
    "duration": 18,
    "start_time": "2022-04-25T18:13:23.188Z"
   },
   {
    "duration": 229,
    "start_time": "2022-04-25T18:15:05.085Z"
   },
   {
    "duration": 250,
    "start_time": "2022-04-25T18:15:07.632Z"
   },
   {
    "duration": 211,
    "start_time": "2022-04-25T18:15:11.440Z"
   },
   {
    "duration": 19,
    "start_time": "2022-04-25T18:23:58.895Z"
   },
   {
    "duration": 28,
    "start_time": "2022-04-25T18:24:10.453Z"
   },
   {
    "duration": 30,
    "start_time": "2022-04-25T18:25:54.165Z"
   },
   {
    "duration": 17,
    "start_time": "2022-04-25T18:27:40.921Z"
   },
   {
    "duration": 15,
    "start_time": "2022-04-25T18:29:30.845Z"
   },
   {
    "duration": 16,
    "start_time": "2022-04-25T18:29:44.145Z"
   },
   {
    "duration": 10,
    "start_time": "2022-04-25T18:30:18.372Z"
   },
   {
    "duration": 21,
    "start_time": "2022-04-25T18:30:41.644Z"
   },
   {
    "duration": 22,
    "start_time": "2022-04-25T18:33:21.386Z"
   },
   {
    "duration": 7,
    "start_time": "2022-04-25T18:33:30.951Z"
   },
   {
    "duration": 41,
    "start_time": "2022-04-25T18:34:40.623Z"
   },
   {
    "duration": 15,
    "start_time": "2022-04-25T18:39:33.991Z"
   },
   {
    "duration": 26,
    "start_time": "2022-04-25T18:43:19.363Z"
   },
   {
    "duration": 10,
    "start_time": "2022-04-25T18:43:26.299Z"
   },
   {
    "duration": 11,
    "start_time": "2022-04-25T18:43:38.918Z"
   },
   {
    "duration": 27,
    "start_time": "2022-04-25T18:43:47.751Z"
   },
   {
    "duration": 14,
    "start_time": "2022-04-25T18:44:45.831Z"
   },
   {
    "duration": 20,
    "start_time": "2022-04-25T18:45:22.099Z"
   },
   {
    "duration": 14,
    "start_time": "2022-04-25T18:45:51.386Z"
   },
   {
    "duration": 2246,
    "start_time": "2022-04-25T18:46:31.017Z"
   },
   {
    "duration": 2688,
    "start_time": "2022-04-25T18:47:26.386Z"
   },
   {
    "duration": 5,
    "start_time": "2022-04-25T18:47:38.771Z"
   },
   {
    "duration": 1351,
    "start_time": "2022-04-25T18:50:58.018Z"
   },
   {
    "duration": 263,
    "start_time": "2022-04-25T18:58:36.904Z"
   },
   {
    "duration": 15,
    "start_time": "2022-04-25T19:26:24.887Z"
   },
   {
    "duration": 598,
    "start_time": "2022-04-25T19:27:24.208Z"
   },
   {
    "duration": 16,
    "start_time": "2022-04-25T19:27:45.714Z"
   },
   {
    "duration": 1718,
    "start_time": "2022-04-25T19:33:15.479Z"
   },
   {
    "duration": 28,
    "start_time": "2022-04-25T19:33:17.200Z"
   },
   {
    "duration": 38,
    "start_time": "2022-04-25T19:33:17.230Z"
   },
   {
    "duration": 31,
    "start_time": "2022-04-25T19:33:17.271Z"
   },
   {
    "duration": 10,
    "start_time": "2022-04-25T19:33:17.304Z"
   },
   {
    "duration": 1025,
    "start_time": "2022-04-25T19:33:17.316Z"
   },
   {
    "duration": 27,
    "start_time": "2022-04-25T19:33:18.343Z"
   },
   {
    "duration": 30,
    "start_time": "2022-04-25T19:33:18.371Z"
   },
   {
    "duration": 23,
    "start_time": "2022-04-25T19:33:18.403Z"
   },
   {
    "duration": 32,
    "start_time": "2022-04-25T19:33:18.429Z"
   },
   {
    "duration": 8,
    "start_time": "2022-04-25T19:33:18.463Z"
   },
   {
    "duration": 365,
    "start_time": "2022-04-25T19:33:18.473Z"
   },
   {
    "duration": 422,
    "start_time": "2022-04-25T19:33:18.841Z"
   },
   {
    "duration": 52,
    "start_time": "2022-04-25T19:33:19.266Z"
   },
   {
    "duration": 293,
    "start_time": "2022-04-25T19:33:19.320Z"
   },
   {
    "duration": 554,
    "start_time": "2022-04-25T19:33:19.615Z"
   },
   {
    "duration": 363,
    "start_time": "2022-04-25T19:33:20.171Z"
   },
   {
    "duration": 508,
    "start_time": "2022-04-25T19:33:20.535Z"
   },
   {
    "duration": 424,
    "start_time": "2022-04-25T19:33:21.046Z"
   },
   {
    "duration": 22,
    "start_time": "2022-04-25T19:33:21.472Z"
   },
   {
    "duration": 5,
    "start_time": "2022-04-25T19:33:21.497Z"
   },
   {
    "duration": 443,
    "start_time": "2022-04-25T19:33:21.504Z"
   },
   {
    "duration": 278,
    "start_time": "2022-04-25T19:33:21.949Z"
   },
   {
    "duration": 318,
    "start_time": "2022-04-25T19:33:22.230Z"
   },
   {
    "duration": 8,
    "start_time": "2022-04-25T19:33:22.550Z"
   },
   {
    "duration": 35,
    "start_time": "2022-04-25T19:33:22.559Z"
   },
   {
    "duration": 250,
    "start_time": "2022-04-25T19:33:22.595Z"
   },
   {
    "duration": 278,
    "start_time": "2022-04-25T19:33:22.849Z"
   },
   {
    "duration": 238,
    "start_time": "2022-04-25T19:33:23.128Z"
   },
   {
    "duration": 259,
    "start_time": "2022-04-25T19:33:23.368Z"
   },
   {
    "duration": 16,
    "start_time": "2022-04-25T19:33:23.629Z"
   },
   {
    "duration": 15,
    "start_time": "2022-04-25T19:33:23.647Z"
   },
   {
    "duration": 2301,
    "start_time": "2022-04-25T19:33:23.664Z"
   },
   {
    "duration": 1019,
    "start_time": "2022-04-25T19:33:25.967Z"
   },
   {
    "duration": 1579,
    "start_time": "2022-04-26T07:03:36.906Z"
   },
   {
    "duration": 54,
    "start_time": "2022-04-26T07:03:38.487Z"
   },
   {
    "duration": 35,
    "start_time": "2022-04-26T07:03:38.733Z"
   },
   {
    "duration": 11,
    "start_time": "2022-04-26T07:03:40.639Z"
   },
   {
    "duration": 4,
    "start_time": "2022-04-26T07:03:42.398Z"
   },
   {
    "duration": 966,
    "start_time": "2022-04-26T07:03:44.927Z"
   },
   {
    "duration": 24,
    "start_time": "2022-04-26T07:03:47.220Z"
   },
   {
    "duration": 6,
    "start_time": "2022-04-26T07:06:39.171Z"
   },
   {
    "duration": 25,
    "start_time": "2022-04-26T07:06:51.790Z"
   },
   {
    "duration": 24,
    "start_time": "2022-04-26T07:07:09.184Z"
   },
   {
    "duration": 34,
    "start_time": "2022-04-26T07:08:55.980Z"
   },
   {
    "duration": 1962,
    "start_time": "2022-04-26T07:09:40.073Z"
   },
   {
    "duration": 35,
    "start_time": "2022-04-26T07:10:01.095Z"
   },
   {
    "duration": 17,
    "start_time": "2022-04-26T07:12:50.242Z"
   },
   {
    "duration": 45,
    "start_time": "2022-04-26T07:13:08.149Z"
   },
   {
    "duration": 27,
    "start_time": "2022-04-26T07:13:13.298Z"
   },
   {
    "duration": 21,
    "start_time": "2022-04-26T07:38:09.636Z"
   },
   {
    "duration": 16,
    "start_time": "2022-04-26T07:42:18.502Z"
   },
   {
    "duration": 13,
    "start_time": "2022-04-26T08:01:03.042Z"
   },
   {
    "duration": 5,
    "start_time": "2022-04-26T08:02:24.699Z"
   },
   {
    "duration": 24,
    "start_time": "2022-04-26T08:05:39.770Z"
   },
   {
    "duration": 12,
    "start_time": "2022-04-26T08:07:39.430Z"
   },
   {
    "duration": 6,
    "start_time": "2022-04-26T08:10:40.123Z"
   },
   {
    "duration": 13,
    "start_time": "2022-04-26T08:26:08.057Z"
   },
   {
    "duration": 6,
    "start_time": "2022-04-26T08:26:13.842Z"
   },
   {
    "duration": 11,
    "start_time": "2022-04-26T08:28:25.193Z"
   },
   {
    "duration": 224,
    "start_time": "2022-04-26T08:28:30.138Z"
   },
   {
    "duration": 10,
    "start_time": "2022-04-26T08:33:01.846Z"
   },
   {
    "duration": 277,
    "start_time": "2022-04-26T08:33:05.799Z"
   },
   {
    "duration": 1545,
    "start_time": "2022-04-26T08:33:18.901Z"
   },
   {
    "duration": 37,
    "start_time": "2022-04-26T08:33:20.449Z"
   },
   {
    "duration": 39,
    "start_time": "2022-04-26T08:33:20.488Z"
   },
   {
    "duration": 11,
    "start_time": "2022-04-26T08:33:20.530Z"
   },
   {
    "duration": 8,
    "start_time": "2022-04-26T08:33:20.542Z"
   },
   {
    "duration": 969,
    "start_time": "2022-04-26T08:33:20.552Z"
   },
   {
    "duration": 27,
    "start_time": "2022-04-26T08:33:21.523Z"
   },
   {
    "duration": 45,
    "start_time": "2022-04-26T08:33:21.551Z"
   },
   {
    "duration": 27,
    "start_time": "2022-04-26T08:33:21.598Z"
   },
   {
    "duration": 58,
    "start_time": "2022-04-26T08:33:21.628Z"
   },
   {
    "duration": 14,
    "start_time": "2022-04-26T08:33:21.688Z"
   },
   {
    "duration": 364,
    "start_time": "2022-04-26T08:33:21.704Z"
   },
   {
    "duration": 340,
    "start_time": "2022-04-26T08:33:22.070Z"
   },
   {
    "duration": 17,
    "start_time": "2022-04-26T08:33:22.412Z"
   },
   {
    "duration": 240,
    "start_time": "2022-04-26T08:33:22.430Z"
   },
   {
    "duration": 481,
    "start_time": "2022-04-26T08:33:22.673Z"
   },
   {
    "duration": 373,
    "start_time": "2022-04-26T08:33:23.156Z"
   },
   {
    "duration": 415,
    "start_time": "2022-04-26T08:33:23.530Z"
   },
   {
    "duration": 375,
    "start_time": "2022-04-26T08:33:23.947Z"
   },
   {
    "duration": 16,
    "start_time": "2022-04-26T08:33:24.324Z"
   },
   {
    "duration": 4,
    "start_time": "2022-04-26T08:33:24.342Z"
   },
   {
    "duration": 450,
    "start_time": "2022-04-26T08:33:24.348Z"
   },
   {
    "duration": 277,
    "start_time": "2022-04-26T08:33:24.800Z"
   },
   {
    "duration": 329,
    "start_time": "2022-04-26T08:33:25.079Z"
   },
   {
    "duration": 6,
    "start_time": "2022-04-26T08:33:25.410Z"
   },
   {
    "duration": 23,
    "start_time": "2022-04-26T08:33:25.417Z"
   },
   {
    "duration": 279,
    "start_time": "2022-04-26T08:33:25.441Z"
   },
   {
    "duration": 303,
    "start_time": "2022-04-26T08:33:25.723Z"
   },
   {
    "duration": 262,
    "start_time": "2022-04-26T08:33:26.028Z"
   },
   {
    "duration": 272,
    "start_time": "2022-04-26T08:33:26.292Z"
   },
   {
    "duration": 18,
    "start_time": "2022-04-26T08:33:26.565Z"
   },
   {
    "duration": 27,
    "start_time": "2022-04-26T08:33:26.585Z"
   },
   {
    "duration": 12,
    "start_time": "2022-04-26T08:33:26.614Z"
   },
   {
    "duration": 5,
    "start_time": "2022-04-26T08:33:26.628Z"
   },
   {
    "duration": 20,
    "start_time": "2022-04-26T08:33:26.635Z"
   },
   {
    "duration": 28,
    "start_time": "2022-04-26T08:33:26.656Z"
   },
   {
    "duration": 2426,
    "start_time": "2022-04-26T08:33:26.689Z"
   },
   {
    "duration": 983,
    "start_time": "2022-04-26T08:33:29.116Z"
   },
   {
    "duration": 511,
    "start_time": "2022-04-26T09:08:15.915Z"
   },
   {
    "duration": 616,
    "start_time": "2022-04-26T09:08:24.431Z"
   },
   {
    "duration": 368,
    "start_time": "2022-04-26T09:09:14.611Z"
   },
   {
    "duration": 295,
    "start_time": "2022-04-26T09:09:27.142Z"
   },
   {
    "duration": 263,
    "start_time": "2022-04-26T09:09:48.803Z"
   },
   {
    "duration": 254,
    "start_time": "2022-04-26T09:10:00.580Z"
   },
   {
    "duration": 245,
    "start_time": "2022-04-26T09:11:06.843Z"
   },
   {
    "duration": 7,
    "start_time": "2022-04-26T09:12:33.233Z"
   },
   {
    "duration": 258,
    "start_time": "2022-04-26T09:12:36.155Z"
   },
   {
    "duration": 285,
    "start_time": "2022-04-26T09:12:42.678Z"
   },
   {
    "duration": 234,
    "start_time": "2022-04-26T09:12:58.836Z"
   },
   {
    "duration": 352,
    "start_time": "2022-04-26T09:13:22.742Z"
   },
   {
    "duration": 224,
    "start_time": "2022-04-26T09:13:48.205Z"
   },
   {
    "duration": 290,
    "start_time": "2022-04-26T09:13:56.028Z"
   },
   {
    "duration": 218,
    "start_time": "2022-04-26T09:14:03.717Z"
   },
   {
    "duration": 1569,
    "start_time": "2022-04-26T09:20:48.155Z"
   },
   {
    "duration": 34,
    "start_time": "2022-04-26T09:20:49.726Z"
   },
   {
    "duration": 36,
    "start_time": "2022-04-26T09:20:49.762Z"
   },
   {
    "duration": 12,
    "start_time": "2022-04-26T09:21:01.748Z"
   },
   {
    "duration": 5,
    "start_time": "2022-04-26T09:21:03.210Z"
   },
   {
    "duration": 951,
    "start_time": "2022-04-26T09:21:06.259Z"
   },
   {
    "duration": 117,
    "start_time": "2022-04-26T09:21:19.017Z"
   },
   {
    "duration": 11,
    "start_time": "2022-04-26T09:21:30.574Z"
   },
   {
    "duration": 27,
    "start_time": "2022-04-26T09:21:38.822Z"
   },
   {
    "duration": 34,
    "start_time": "2022-04-26T09:23:25.733Z"
   },
   {
    "duration": 5,
    "start_time": "2022-04-26T09:23:38.787Z"
   },
   {
    "duration": 24,
    "start_time": "2022-04-26T09:23:39.693Z"
   },
   {
    "duration": 1546,
    "start_time": "2022-04-26T09:23:54.499Z"
   },
   {
    "duration": 33,
    "start_time": "2022-04-26T09:23:56.048Z"
   },
   {
    "duration": 36,
    "start_time": "2022-04-26T09:23:56.083Z"
   },
   {
    "duration": 12,
    "start_time": "2022-04-26T09:23:57.889Z"
   },
   {
    "duration": 4,
    "start_time": "2022-04-26T09:23:59.132Z"
   },
   {
    "duration": 988,
    "start_time": "2022-04-26T09:24:01.438Z"
   },
   {
    "duration": 14,
    "start_time": "2022-04-26T09:24:13.936Z"
   },
   {
    "duration": 27,
    "start_time": "2022-04-26T09:24:16.315Z"
   },
   {
    "duration": 26,
    "start_time": "2022-04-26T09:26:12.869Z"
   },
   {
    "duration": 24,
    "start_time": "2022-04-26T09:26:24.111Z"
   },
   {
    "duration": 24,
    "start_time": "2022-04-26T09:26:59.717Z"
   },
   {
    "duration": 63,
    "start_time": "2022-04-26T09:28:08.855Z"
   },
   {
    "duration": 25,
    "start_time": "2022-04-26T09:29:21.697Z"
   },
   {
    "duration": 118,
    "start_time": "2022-04-26T09:29:35.512Z"
   },
   {
    "duration": 24,
    "start_time": "2022-04-26T09:29:47.435Z"
   },
   {
    "duration": 24,
    "start_time": "2022-04-26T09:30:18.920Z"
   },
   {
    "duration": 24,
    "start_time": "2022-04-26T09:30:40.397Z"
   },
   {
    "duration": 1906,
    "start_time": "2022-04-26T09:31:33.741Z"
   },
   {
    "duration": 23,
    "start_time": "2022-04-26T09:32:01.316Z"
   },
   {
    "duration": 5378,
    "start_time": "2022-04-26T09:32:38.006Z"
   },
   {
    "duration": 28,
    "start_time": "2022-04-26T09:32:43.387Z"
   },
   {
    "duration": 39,
    "start_time": "2022-04-26T09:32:43.417Z"
   },
   {
    "duration": 13,
    "start_time": "2022-04-26T09:32:47.520Z"
   },
   {
    "duration": 5,
    "start_time": "2022-04-26T09:32:48.919Z"
   },
   {
    "duration": 929,
    "start_time": "2022-04-26T09:32:50.521Z"
   },
   {
    "duration": 15,
    "start_time": "2022-04-26T09:32:54.015Z"
   },
   {
    "duration": 28,
    "start_time": "2022-04-26T09:32:55.222Z"
   },
   {
    "duration": 1963,
    "start_time": "2022-04-26T09:33:53.807Z"
   },
   {
    "duration": 32,
    "start_time": "2022-04-26T09:34:12.478Z"
   },
   {
    "duration": 31,
    "start_time": "2022-04-26T09:35:08.909Z"
   },
   {
    "duration": 26,
    "start_time": "2022-04-26T09:35:23.873Z"
   },
   {
    "duration": 8,
    "start_time": "2022-04-26T09:35:42.426Z"
   },
   {
    "duration": 354,
    "start_time": "2022-04-26T09:35:44.094Z"
   },
   {
    "duration": 366,
    "start_time": "2022-04-26T09:35:48.219Z"
   },
   {
    "duration": 9,
    "start_time": "2022-04-26T09:36:40.041Z"
   },
   {
    "duration": 327,
    "start_time": "2022-04-26T09:36:40.624Z"
   },
   {
    "duration": 255,
    "start_time": "2022-04-26T09:36:42.198Z"
   },
   {
    "duration": 16,
    "start_time": "2022-04-26T09:36:47.349Z"
   },
   {
    "duration": 19,
    "start_time": "2022-04-26T09:37:48.872Z"
   },
   {
    "duration": 272,
    "start_time": "2022-04-26T09:39:49.763Z"
   },
   {
    "duration": 475,
    "start_time": "2022-04-26T09:40:21.066Z"
   },
   {
    "duration": 339,
    "start_time": "2022-04-26T09:40:25.127Z"
   },
   {
    "duration": 502,
    "start_time": "2022-04-26T09:40:27.338Z"
   },
   {
    "duration": 337,
    "start_time": "2022-04-26T09:40:29.206Z"
   },
   {
    "duration": 15,
    "start_time": "2022-04-26T09:40:31.615Z"
   },
   {
    "duration": 15,
    "start_time": "2022-04-26T09:41:07.760Z"
   },
   {
    "duration": 4,
    "start_time": "2022-04-26T09:41:11.998Z"
   },
   {
    "duration": 315,
    "start_time": "2022-04-26T09:41:13.874Z"
   },
   {
    "duration": 295,
    "start_time": "2022-04-26T09:41:22.035Z"
   },
   {
    "duration": 327,
    "start_time": "2022-04-26T09:41:24.315Z"
   },
   {
    "duration": 7,
    "start_time": "2022-04-26T09:41:30.590Z"
   },
   {
    "duration": 19,
    "start_time": "2022-04-26T09:41:54.695Z"
   },
   {
    "duration": 19,
    "start_time": "2022-04-26T09:43:19.208Z"
   },
   {
    "duration": 19,
    "start_time": "2022-04-26T09:43:42.271Z"
   },
   {
    "duration": 234,
    "start_time": "2022-04-26T09:43:51.141Z"
   },
   {
    "duration": 219,
    "start_time": "2022-04-26T09:43:55.791Z"
   },
   {
    "duration": 239,
    "start_time": "2022-04-26T09:44:04.935Z"
   },
   {
    "duration": 214,
    "start_time": "2022-04-26T09:44:29.443Z"
   },
   {
    "duration": 346,
    "start_time": "2022-04-26T09:44:35.340Z"
   },
   {
    "duration": 217,
    "start_time": "2022-04-26T09:44:54.777Z"
   },
   {
    "duration": 208,
    "start_time": "2022-04-26T09:45:25.285Z"
   },
   {
    "duration": 11,
    "start_time": "2022-04-26T09:45:36.566Z"
   },
   {
    "duration": 6,
    "start_time": "2022-04-26T09:45:40.631Z"
   },
   {
    "duration": 11,
    "start_time": "2022-04-26T09:45:54.175Z"
   },
   {
    "duration": 5,
    "start_time": "2022-04-26T09:45:56.251Z"
   },
   {
    "duration": 18,
    "start_time": "2022-04-26T09:46:01.816Z"
   },
   {
    "duration": 2284,
    "start_time": "2022-04-26T09:46:07.348Z"
   },
   {
    "duration": 942,
    "start_time": "2022-04-26T09:46:18.868Z"
   },
   {
    "duration": 2303,
    "start_time": "2022-04-26T09:46:41.020Z"
   },
   {
    "duration": 31,
    "start_time": "2022-04-26T09:46:43.325Z"
   },
   {
    "duration": 36,
    "start_time": "2022-04-26T09:46:43.358Z"
   },
   {
    "duration": 12,
    "start_time": "2022-04-26T09:46:43.396Z"
   },
   {
    "duration": 4,
    "start_time": "2022-04-26T09:46:43.410Z"
   },
   {
    "duration": 1074,
    "start_time": "2022-04-26T09:46:43.416Z"
   },
   {
    "duration": 17,
    "start_time": "2022-04-26T09:46:44.492Z"
   },
   {
    "duration": 32,
    "start_time": "2022-04-26T09:46:44.511Z"
   },
   {
    "duration": 46,
    "start_time": "2022-04-26T09:46:44.545Z"
   },
   {
    "duration": 27,
    "start_time": "2022-04-26T09:46:44.595Z"
   },
   {
    "duration": 58,
    "start_time": "2022-04-26T09:46:44.623Z"
   },
   {
    "duration": 12,
    "start_time": "2022-04-26T09:46:44.684Z"
   },
   {
    "duration": 364,
    "start_time": "2022-04-26T09:46:44.698Z"
   },
   {
    "duration": 397,
    "start_time": "2022-04-26T09:46:45.064Z"
   },
   {
    "duration": 25,
    "start_time": "2022-04-26T09:46:45.463Z"
   },
   {
    "duration": 307,
    "start_time": "2022-04-26T09:46:45.491Z"
   },
   {
    "duration": 553,
    "start_time": "2022-04-26T09:46:45.800Z"
   },
   {
    "duration": 359,
    "start_time": "2022-04-26T09:46:46.355Z"
   },
   {
    "duration": 417,
    "start_time": "2022-04-26T09:46:46.716Z"
   },
   {
    "duration": 370,
    "start_time": "2022-04-26T09:46:47.135Z"
   },
   {
    "duration": 14,
    "start_time": "2022-04-26T09:46:47.507Z"
   },
   {
    "duration": 5,
    "start_time": "2022-04-26T09:46:47.523Z"
   },
   {
    "duration": 460,
    "start_time": "2022-04-26T09:46:47.530Z"
   },
   {
    "duration": 297,
    "start_time": "2022-04-26T09:46:47.992Z"
   },
   {
    "duration": 327,
    "start_time": "2022-04-26T09:46:48.291Z"
   },
   {
    "duration": 7,
    "start_time": "2022-04-26T09:46:48.621Z"
   },
   {
    "duration": 29,
    "start_time": "2022-04-26T09:46:48.629Z"
   },
   {
    "duration": 258,
    "start_time": "2022-04-26T09:46:48.661Z"
   },
   {
    "duration": 234,
    "start_time": "2022-04-26T09:46:48.921Z"
   },
   {
    "duration": 231,
    "start_time": "2022-04-26T09:46:49.157Z"
   },
   {
    "duration": 224,
    "start_time": "2022-04-26T09:46:49.390Z"
   },
   {
    "duration": 10,
    "start_time": "2022-04-26T09:46:49.616Z"
   },
   {
    "duration": 13,
    "start_time": "2022-04-26T09:46:49.628Z"
   },
   {
    "duration": 15,
    "start_time": "2022-04-26T09:46:49.643Z"
   },
   {
    "duration": 6,
    "start_time": "2022-04-26T09:46:49.674Z"
   },
   {
    "duration": 18,
    "start_time": "2022-04-26T09:46:49.682Z"
   },
   {
    "duration": 2460,
    "start_time": "2022-04-26T09:46:49.702Z"
   },
   {
    "duration": 909,
    "start_time": "2022-04-26T09:46:52.164Z"
   },
   {
    "duration": 340,
    "start_time": "2022-04-26T09:50:16.873Z"
   },
   {
    "duration": 330,
    "start_time": "2022-04-26T09:51:00.714Z"
   },
   {
    "duration": 135,
    "start_time": "2022-04-26T10:09:34.028Z"
   },
   {
    "duration": 510,
    "start_time": "2022-04-26T10:09:42.995Z"
   },
   {
    "duration": 311,
    "start_time": "2022-04-26T10:44:47.180Z"
   },
   {
    "duration": 1558,
    "start_time": "2022-04-26T13:58:50.687Z"
   },
   {
    "duration": 59,
    "start_time": "2022-04-26T13:58:52.248Z"
   },
   {
    "duration": 37,
    "start_time": "2022-04-26T13:58:52.309Z"
   },
   {
    "duration": 12,
    "start_time": "2022-04-26T13:58:52.348Z"
   },
   {
    "duration": 13,
    "start_time": "2022-04-26T13:58:52.362Z"
   },
   {
    "duration": 941,
    "start_time": "2022-04-26T13:58:52.377Z"
   },
   {
    "duration": 14,
    "start_time": "2022-04-26T13:58:53.320Z"
   },
   {
    "duration": 27,
    "start_time": "2022-04-26T13:58:53.336Z"
   },
   {
    "duration": 41,
    "start_time": "2022-04-26T13:58:53.365Z"
   },
   {
    "duration": 23,
    "start_time": "2022-04-26T13:58:53.408Z"
   },
   {
    "duration": 48,
    "start_time": "2022-04-26T13:58:53.433Z"
   },
   {
    "duration": 11,
    "start_time": "2022-04-26T13:58:53.483Z"
   },
   {
    "duration": 347,
    "start_time": "2022-04-26T13:58:53.496Z"
   },
   {
    "duration": 377,
    "start_time": "2022-04-26T13:58:53.846Z"
   },
   {
    "duration": 18,
    "start_time": "2022-04-26T13:58:54.226Z"
   },
   {
    "duration": 275,
    "start_time": "2022-04-26T13:58:54.245Z"
   },
   {
    "duration": 475,
    "start_time": "2022-04-26T13:58:54.522Z"
   },
   {
    "duration": 343,
    "start_time": "2022-04-26T13:58:54.999Z"
   },
   {
    "duration": 402,
    "start_time": "2022-04-26T13:58:55.344Z"
   },
   {
    "duration": 346,
    "start_time": "2022-04-26T13:58:55.748Z"
   },
   {
    "duration": 14,
    "start_time": "2022-04-26T13:58:56.096Z"
   },
   {
    "duration": 7,
    "start_time": "2022-04-26T13:58:56.112Z"
   },
   {
    "duration": 430,
    "start_time": "2022-04-26T13:58:56.121Z"
   },
   {
    "duration": 271,
    "start_time": "2022-04-26T13:58:56.553Z"
   },
   {
    "duration": 307,
    "start_time": "2022-04-26T13:58:56.826Z"
   },
   {
    "duration": 7,
    "start_time": "2022-04-26T13:58:57.135Z"
   },
   {
    "duration": 24,
    "start_time": "2022-04-26T13:58:57.143Z"
   },
   {
    "duration": 290,
    "start_time": "2022-04-26T13:58:57.173Z"
   },
   {
    "duration": 237,
    "start_time": "2022-04-26T13:58:57.464Z"
   },
   {
    "duration": 232,
    "start_time": "2022-04-26T13:58:57.702Z"
   },
   {
    "duration": 231,
    "start_time": "2022-04-26T13:58:57.937Z"
   },
   {
    "duration": 17,
    "start_time": "2022-04-26T13:58:58.169Z"
   },
   {
    "duration": 17,
    "start_time": "2022-04-26T13:58:58.188Z"
   },
   {
    "duration": 13,
    "start_time": "2022-04-26T13:58:58.207Z"
   },
   {
    "duration": 4,
    "start_time": "2022-04-26T13:58:58.222Z"
   },
   {
    "duration": 18,
    "start_time": "2022-04-26T13:58:58.228Z"
   },
   {
    "duration": 2304,
    "start_time": "2022-04-26T13:58:58.248Z"
   },
   {
    "duration": 1002,
    "start_time": "2022-04-26T13:59:00.553Z"
   },
   {
    "duration": 201,
    "start_time": "2022-04-27T15:51:26.863Z"
   },
   {
    "duration": 211,
    "start_time": "2022-04-27T15:52:18.508Z"
   },
   {
    "duration": 26161,
    "start_time": "2022-04-27T15:52:37.953Z"
   },
   {
    "duration": 56,
    "start_time": "2022-04-27T15:53:04.117Z"
   },
   {
    "duration": 56,
    "start_time": "2022-04-27T15:53:04.175Z"
   },
   {
    "duration": 20,
    "start_time": "2022-04-27T15:53:04.233Z"
   },
   {
    "duration": 12,
    "start_time": "2022-04-27T15:53:04.256Z"
   },
   {
    "duration": 265,
    "start_time": "2022-04-27T15:58:06.086Z"
   },
   {
    "duration": 112,
    "start_time": "2022-04-28T06:35:00.769Z"
   },
   {
    "duration": 90,
    "start_time": "2022-04-28T07:29:35.835Z"
   }
  ],
  "kernelspec": {
   "display_name": "Python 3",
   "language": "python",
   "name": "python3"
  },
  "language_info": {
   "codemirror_mode": {
    "name": "ipython",
    "version": 3
   },
   "file_extension": ".py",
   "mimetype": "text/x-python",
   "name": "python",
   "nbconvert_exporter": "python",
   "pygments_lexer": "ipython3",
   "version": "3.8.3"
  },
  "toc": {
   "base_numbering": 1,
   "nav_menu": {},
   "number_sections": true,
   "sideBar": true,
   "skip_h1_title": true,
   "title_cell": "Table of Contents",
   "title_sidebar": "Contents",
   "toc_cell": false,
   "toc_position": {},
   "toc_section_display": true,
   "toc_window_display": true
  },
  "varInspector": {
   "cols": {
    "lenName": 16,
    "lenType": 16,
    "lenVar": 40
   },
   "kernels_config": {
    "python": {
     "delete_cmd_postfix": "",
     "delete_cmd_prefix": "del ",
     "library": "var_list.py",
     "varRefreshCmd": "print(var_dic_list())"
    },
    "r": {
     "delete_cmd_postfix": ") ",
     "delete_cmd_prefix": "rm(",
     "library": "var_list.r",
     "varRefreshCmd": "cat(var_dic_list()) "
    }
   },
   "types_to_exclude": [
    "module",
    "function",
    "builtin_function_or_method",
    "instance",
    "_Feature"
   ],
   "window_display": false
  }
 },
 "nbformat": 4,
 "nbformat_minor": 2
}
