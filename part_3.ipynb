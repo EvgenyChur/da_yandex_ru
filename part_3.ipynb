{
 "cells": [
  {
   "cell_type": "markdown",
   "metadata": {},
   "source": [
    "# Выпускной проект"
   ]
  },
  {
   "cell_type": "markdown",
   "metadata": {},
   "source": [
    "**A/B-тестирование**"
   ]
  },
  {
   "cell_type": "markdown",
   "metadata": {},
   "source": [
    "##  Сбор первичной информации о проекте"
   ]
  },
  {
   "cell_type": "markdown",
   "metadata": {},
   "source": [
    "### Описание проекта"
   ]
  },
  {
   "cell_type": "markdown",
   "metadata": {},
   "source": [
    "Предоставлен набор данных с действиями пользователей, которые нужно использовать для выявления последствий от внедрения новой улучшенной системы рекомендаций."
   ]
  },
  {
   "cell_type": "markdown",
   "metadata": {},
   "source": [
    "### Задачи проекта"
   ]
  },
  {
   "cell_type": "markdown",
   "metadata": {},
   "source": [
    "Провести оценку результатов A/B-теста. В распоряжении есть датасет с действиями пользователей, техническое задание и несколько вспомогательных датасетов.\n",
    "\n",
    "- Оцените корректность проведения теста\n",
    "- Проанализируйте результаты теста\n",
    "\n",
    "Чтобы оценить корректность проведения теста, проверьте:\n",
    "\n",
    "- пересечение тестовой аудитории с конкурирующим тестом,\n",
    "- совпадение теста и маркетинговых событий, другие проблемы временных границ теста."
   ]
  },
  {
   "cell_type": "markdown",
   "metadata": {},
   "source": [
    "### Техническое задание"
   ]
  },
  {
   "cell_type": "markdown",
   "metadata": {},
   "source": [
    "- Название теста: `recommender_system_test`;\n",
    "- группы: А — контрольная, B — новая платёжная воронка;\n",
    "- дата запуска: 2020-12-07;\n",
    "- дата остановки набора новых пользователей: 2020-12-21;\n",
    "- дата остановки: 2021-01-04;\n",
    "- аудитория: 15% новых пользователей из региона EU;\n",
    "- назначение теста: тестирование изменений, связанных с внедрением улучшенной рекомендательной системы;\n",
    "- ожидаемое количество участников теста: 6000.\n",
    "- ожидаемый эффект: за 14 дней с момента регистрации пользователи покажут улучшение каждой метрики не менее, чем на 10%:\n",
    "    - конверсии в просмотр карточек товаров — событие `product_page`,\n",
    "    - просмотры корзины — `product_cart`,\n",
    "    - покупки — `purchase`."
   ]
  },
  {
   "cell_type": "markdown",
   "metadata": {},
   "source": [
    "### Описание данных"
   ]
  },
  {
   "cell_type": "markdown",
   "metadata": {},
   "source": [
    "`ab_project_marketing_events.csv` — календарь маркетинговых событий на 2020 год.\n",
    "\n",
    "Структура файла:\n",
    "- `name` — название маркетингового события;\n",
    "- `regions` — регионы, в которых будет проводиться рекламная кампания;\n",
    "- `start_dt` — дата начала кампании;\n",
    "- `finish_dt` — дата завершения кампании."
   ]
  },
  {
   "cell_type": "markdown",
   "metadata": {},
   "source": [
    "`final_ab_new_users.csv` — пользователи, зарегистрировавшиеся с 7 по 21 декабря 2020 года.\n",
    "\n",
    "Структура файла:\n",
    "- `user_id` — идентификатор пользователя;\n",
    "- `first_date` — дата регистрации;\n",
    "- `region` — регион пользователя;\n",
    "- `device` — устройство, с которого происходила регистрация."
   ]
  },
  {
   "cell_type": "markdown",
   "metadata": {},
   "source": [
    "`final_ab_events.csv` — действия новых пользователей в период с 7 декабря 2020 по 4 января 2021 года.\n",
    "\n",
    "Структура файла:\n",
    "- `user_id` — идентификатор пользователя;\n",
    "- `event_dt` — дата и время покупки;\n",
    "- `event_name` — тип события;\n",
    "- `details` — дополнительные данные о событии. Например, для покупок, `purchase,` в этом поле хранится стоимость покупки в долларах."
   ]
  },
  {
   "cell_type": "markdown",
   "metadata": {},
   "source": [
    "`final_ab_participants.csv` — таблица участников тестов.\n",
    "\n",
    "Структура файла:\n",
    "- `user_id` — идентификатор пользователя;\n",
    "- `ab_test` — название теста;\n",
    "- `group` — группа пользователя."
   ]
  },
  {
   "cell_type": "markdown",
   "metadata": {},
   "source": [
    "## Основной проект"
   ]
  },
  {
   "cell_type": "markdown",
   "metadata": {},
   "source": [
    "### Предобработка данных:"
   ]
  },
  {
   "cell_type": "code",
   "execution_count": 1,
   "metadata": {},
   "outputs": [],
   "source": [
    "# Add modules to the project\n",
    "import math as mth\n",
    "import numpy as np\n",
    "import pandas as pd\n",
    "import datetime as dt\n",
    "import scipy.stats as stats\n",
    "from scipy import stats as st\n",
    "import matplotlib.pyplot as plt \n",
    "\n",
    "import warnings\n",
    "warnings.filterwarnings(\"ignore\")\n",
    "\n",
    "# Logical indicator for local and yandex machine\n",
    "lmachine = 'yandex'\n",
    "#lmachine = 'local'"
   ]
  },
  {
   "cell_type": "code",
   "execution_count": 2,
   "metadata": {},
   "outputs": [
    {
     "name": "stdout",
     "output_type": "stream",
     "text": [
      "Using Yandex machine\n"
     ]
    }
   ],
   "source": [
    "# Get common information about datasets\n",
    "def get_info(df, df_name):\n",
    "    '''\n",
    "    Эта функция содержит набор команд для предварительной обработки данных\n",
    "    df : Dataframe,\n",
    "        The dataset with data for the project\n",
    "    df_name : Objects\n",
    "        The name of the dataset for information\n",
    "        \n",
    "    Return:\n",
    "        There are no return fields\n",
    "    '''\n",
    "    print(f'Common information about - {df_name}')\n",
    "    display(df.head(5))\n",
    "    print('')\n",
    "    df.info()\n",
    "    print('\\n', 'Columns name', '\\n')\n",
    "    print(df.columns, '\\n')   \n",
    "    print(f'Numbers of NaN values in the dataset - {df_name}')\n",
    "    print(df.isnull().sum())\n",
    "    print('')\n",
    "    print(f'Numbers of duplicates (explicit)in the dataset - {df_name}')\n",
    "    print(df.duplicated().sum())\n",
    "     \n",
    "\n",
    "# Get data\n",
    "if lmachine == 'local':\n",
    "    print('Using local machine')\n",
    "    main_path = 'C:/Users/Churiulin/Desktop/Yandex/FINAL PROJECT/AB_test_data'\n",
    "    df_market_events  = pd.read_csv(f'{main_path}/ab_project_marketing_events.csv')\n",
    "    df_final_users    = pd.read_csv(f'{main_path}/final_ab_new_users.csv'         )\n",
    "    df_final_events   = pd.read_csv(f'{main_path}/final_ab_events.csv'            )\n",
    "    df_final_particip = pd.read_csv(f'{main_path}/final_ab_participants.csv'      ) \n",
    "else:\n",
    "    print('Using Yandex machine')\n",
    "    df_bank   = pd.read_csv('/datasets/bank_dataset.csv')\n",
    "    df_market_events  = pd.read_csv('/datasets/ab_project_marketing_events.csv'   )\n",
    "    df_final_users    = pd.read_csv('/datasets/final_ab_new_users.csv'            )\n",
    "    df_final_events   = pd.read_csv('/datasets/final_ab_events.csv'               )\n",
    "    df_final_particip = pd.read_csv('/datasets/final_ab_participants.csv'         )"
   ]
  },
  {
   "cell_type": "markdown",
   "metadata": {},
   "source": [
    "#### Датасет - ab_project_marketing_events:"
   ]
  },
  {
   "cell_type": "code",
   "execution_count": 3,
   "metadata": {},
   "outputs": [
    {
     "name": "stdout",
     "output_type": "stream",
     "text": [
      "Common information about - ab_project_marketing_events\n"
     ]
    },
    {
     "data": {
      "text/html": [
       "<div>\n",
       "<style scoped>\n",
       "    .dataframe tbody tr th:only-of-type {\n",
       "        vertical-align: middle;\n",
       "    }\n",
       "\n",
       "    .dataframe tbody tr th {\n",
       "        vertical-align: top;\n",
       "    }\n",
       "\n",
       "    .dataframe thead th {\n",
       "        text-align: right;\n",
       "    }\n",
       "</style>\n",
       "<table border=\"1\" class=\"dataframe\">\n",
       "  <thead>\n",
       "    <tr style=\"text-align: right;\">\n",
       "      <th></th>\n",
       "      <th>name</th>\n",
       "      <th>regions</th>\n",
       "      <th>start_dt</th>\n",
       "      <th>finish_dt</th>\n",
       "    </tr>\n",
       "  </thead>\n",
       "  <tbody>\n",
       "    <tr>\n",
       "      <th>0</th>\n",
       "      <td>Christmas&amp;New Year Promo</td>\n",
       "      <td>EU, N.America</td>\n",
       "      <td>2020-12-25</td>\n",
       "      <td>2021-01-03</td>\n",
       "    </tr>\n",
       "    <tr>\n",
       "      <th>1</th>\n",
       "      <td>St. Valentine's Day Giveaway</td>\n",
       "      <td>EU, CIS, APAC, N.America</td>\n",
       "      <td>2020-02-14</td>\n",
       "      <td>2020-02-16</td>\n",
       "    </tr>\n",
       "    <tr>\n",
       "      <th>2</th>\n",
       "      <td>St. Patric's Day Promo</td>\n",
       "      <td>EU, N.America</td>\n",
       "      <td>2020-03-17</td>\n",
       "      <td>2020-03-19</td>\n",
       "    </tr>\n",
       "    <tr>\n",
       "      <th>3</th>\n",
       "      <td>Easter Promo</td>\n",
       "      <td>EU, CIS, APAC, N.America</td>\n",
       "      <td>2020-04-12</td>\n",
       "      <td>2020-04-19</td>\n",
       "    </tr>\n",
       "    <tr>\n",
       "      <th>4</th>\n",
       "      <td>4th of July Promo</td>\n",
       "      <td>N.America</td>\n",
       "      <td>2020-07-04</td>\n",
       "      <td>2020-07-11</td>\n",
       "    </tr>\n",
       "  </tbody>\n",
       "</table>\n",
       "</div>"
      ],
      "text/plain": [
       "                           name                   regions    start_dt  \\\n",
       "0      Christmas&New Year Promo             EU, N.America  2020-12-25   \n",
       "1  St. Valentine's Day Giveaway  EU, CIS, APAC, N.America  2020-02-14   \n",
       "2        St. Patric's Day Promo             EU, N.America  2020-03-17   \n",
       "3                  Easter Promo  EU, CIS, APAC, N.America  2020-04-12   \n",
       "4             4th of July Promo                 N.America  2020-07-04   \n",
       "\n",
       "    finish_dt  \n",
       "0  2021-01-03  \n",
       "1  2020-02-16  \n",
       "2  2020-03-19  \n",
       "3  2020-04-19  \n",
       "4  2020-07-11  "
      ]
     },
     "metadata": {},
     "output_type": "display_data"
    },
    {
     "name": "stdout",
     "output_type": "stream",
     "text": [
      "\n",
      "<class 'pandas.core.frame.DataFrame'>\n",
      "RangeIndex: 14 entries, 0 to 13\n",
      "Data columns (total 4 columns):\n",
      " #   Column     Non-Null Count  Dtype \n",
      "---  ------     --------------  ----- \n",
      " 0   name       14 non-null     object\n",
      " 1   regions    14 non-null     object\n",
      " 2   start_dt   14 non-null     object\n",
      " 3   finish_dt  14 non-null     object\n",
      "dtypes: object(4)\n",
      "memory usage: 576.0+ bytes\n",
      "\n",
      " Columns name \n",
      "\n",
      "Index(['name', 'regions', 'start_dt', 'finish_dt'], dtype='object') \n",
      "\n",
      "Numbers of NaN values in the dataset - ab_project_marketing_events\n",
      "name         0\n",
      "regions      0\n",
      "start_dt     0\n",
      "finish_dt    0\n",
      "dtype: int64\n",
      "\n",
      "Numbers of duplicates (explicit)in the dataset - ab_project_marketing_events\n",
      "0\n",
      "None\n"
     ]
    }
   ],
   "source": [
    "print(get_info(df_market_events, 'ab_project_marketing_events')) "
   ]
  },
  {
   "cell_type": "markdown",
   "metadata": {},
   "source": [
    "**Комментарий по датасету - ab_project_marketing_events:**"
   ]
  },
  {
   "cell_type": "markdown",
   "metadata": {},
   "source": [
    "1. Требуется изменить формат данных в колонках **start_dt** и **finish_dt**. В настоящий момент тип *Objects*, нужный формат *datetime64[ns]*;\n",
    "2. В стобце **name** представлено 14 уникальных событий, записаных с использование разных регистров, что не является критичным, но лучше все привести к прописным буквам."
   ]
  },
  {
   "cell_type": "code",
   "execution_count": 4,
   "metadata": {},
   "outputs": [],
   "source": [
    "# Change type of data\n",
    "df_market_events['start_dt']  =  df_market_events['start_dt'].map(lambda x: dt.datetime.strptime(x, '%Y-%m-%d'))\n",
    "df_market_events['finish_dt'] = df_market_events['finish_dt'].map(lambda x: dt.datetime.strptime(x, '%Y-%m-%d'))\n",
    "\n",
    "# Change register\n",
    "column_list = ['name', 'regions']\n",
    "for col in column_list:\n",
    "    df_market_events[col] = df_market_events[col].str.lower() "
   ]
  },
  {
   "cell_type": "markdown",
   "metadata": {},
   "source": [
    "Проверим датасет еще раз"
   ]
  },
  {
   "cell_type": "code",
   "execution_count": 5,
   "metadata": {},
   "outputs": [
    {
     "name": "stdout",
     "output_type": "stream",
     "text": [
      "Common information about - ab_project_marketing_events\n"
     ]
    },
    {
     "data": {
      "text/html": [
       "<div>\n",
       "<style scoped>\n",
       "    .dataframe tbody tr th:only-of-type {\n",
       "        vertical-align: middle;\n",
       "    }\n",
       "\n",
       "    .dataframe tbody tr th {\n",
       "        vertical-align: top;\n",
       "    }\n",
       "\n",
       "    .dataframe thead th {\n",
       "        text-align: right;\n",
       "    }\n",
       "</style>\n",
       "<table border=\"1\" class=\"dataframe\">\n",
       "  <thead>\n",
       "    <tr style=\"text-align: right;\">\n",
       "      <th></th>\n",
       "      <th>name</th>\n",
       "      <th>regions</th>\n",
       "      <th>start_dt</th>\n",
       "      <th>finish_dt</th>\n",
       "    </tr>\n",
       "  </thead>\n",
       "  <tbody>\n",
       "    <tr>\n",
       "      <th>0</th>\n",
       "      <td>christmas&amp;new year promo</td>\n",
       "      <td>eu, n.america</td>\n",
       "      <td>2020-12-25</td>\n",
       "      <td>2021-01-03</td>\n",
       "    </tr>\n",
       "    <tr>\n",
       "      <th>1</th>\n",
       "      <td>st. valentine's day giveaway</td>\n",
       "      <td>eu, cis, apac, n.america</td>\n",
       "      <td>2020-02-14</td>\n",
       "      <td>2020-02-16</td>\n",
       "    </tr>\n",
       "    <tr>\n",
       "      <th>2</th>\n",
       "      <td>st. patric's day promo</td>\n",
       "      <td>eu, n.america</td>\n",
       "      <td>2020-03-17</td>\n",
       "      <td>2020-03-19</td>\n",
       "    </tr>\n",
       "    <tr>\n",
       "      <th>3</th>\n",
       "      <td>easter promo</td>\n",
       "      <td>eu, cis, apac, n.america</td>\n",
       "      <td>2020-04-12</td>\n",
       "      <td>2020-04-19</td>\n",
       "    </tr>\n",
       "    <tr>\n",
       "      <th>4</th>\n",
       "      <td>4th of july promo</td>\n",
       "      <td>n.america</td>\n",
       "      <td>2020-07-04</td>\n",
       "      <td>2020-07-11</td>\n",
       "    </tr>\n",
       "  </tbody>\n",
       "</table>\n",
       "</div>"
      ],
      "text/plain": [
       "                           name                   regions   start_dt  \\\n",
       "0      christmas&new year promo             eu, n.america 2020-12-25   \n",
       "1  st. valentine's day giveaway  eu, cis, apac, n.america 2020-02-14   \n",
       "2        st. patric's day promo             eu, n.america 2020-03-17   \n",
       "3                  easter promo  eu, cis, apac, n.america 2020-04-12   \n",
       "4             4th of july promo                 n.america 2020-07-04   \n",
       "\n",
       "   finish_dt  \n",
       "0 2021-01-03  \n",
       "1 2020-02-16  \n",
       "2 2020-03-19  \n",
       "3 2020-04-19  \n",
       "4 2020-07-11  "
      ]
     },
     "metadata": {},
     "output_type": "display_data"
    },
    {
     "name": "stdout",
     "output_type": "stream",
     "text": [
      "\n",
      "<class 'pandas.core.frame.DataFrame'>\n",
      "RangeIndex: 14 entries, 0 to 13\n",
      "Data columns (total 4 columns):\n",
      " #   Column     Non-Null Count  Dtype         \n",
      "---  ------     --------------  -----         \n",
      " 0   name       14 non-null     object        \n",
      " 1   regions    14 non-null     object        \n",
      " 2   start_dt   14 non-null     datetime64[ns]\n",
      " 3   finish_dt  14 non-null     datetime64[ns]\n",
      "dtypes: datetime64[ns](2), object(2)\n",
      "memory usage: 576.0+ bytes\n",
      "\n",
      " Columns name \n",
      "\n",
      "Index(['name', 'regions', 'start_dt', 'finish_dt'], dtype='object') \n",
      "\n",
      "Numbers of NaN values in the dataset - ab_project_marketing_events\n",
      "name         0\n",
      "regions      0\n",
      "start_dt     0\n",
      "finish_dt    0\n",
      "dtype: int64\n",
      "\n",
      "Numbers of duplicates (explicit)in the dataset - ab_project_marketing_events\n",
      "0\n",
      "None\n"
     ]
    }
   ],
   "source": [
    "print(get_info(df_market_events, 'ab_project_marketing_events')) "
   ]
  },
  {
   "cell_type": "markdown",
   "metadata": {},
   "source": [
    "*Вывод:* Набор данных подготовлен для последующей работы. "
   ]
  },
  {
   "cell_type": "markdown",
   "metadata": {},
   "source": [
    "#### Датасет - final_ab_new_users:"
   ]
  },
  {
   "cell_type": "code",
   "execution_count": 6,
   "metadata": {},
   "outputs": [
    {
     "name": "stdout",
     "output_type": "stream",
     "text": [
      "Common information about - final_ab_new_users\n"
     ]
    },
    {
     "data": {
      "text/html": [
       "<div>\n",
       "<style scoped>\n",
       "    .dataframe tbody tr th:only-of-type {\n",
       "        vertical-align: middle;\n",
       "    }\n",
       "\n",
       "    .dataframe tbody tr th {\n",
       "        vertical-align: top;\n",
       "    }\n",
       "\n",
       "    .dataframe thead th {\n",
       "        text-align: right;\n",
       "    }\n",
       "</style>\n",
       "<table border=\"1\" class=\"dataframe\">\n",
       "  <thead>\n",
       "    <tr style=\"text-align: right;\">\n",
       "      <th></th>\n",
       "      <th>user_id</th>\n",
       "      <th>first_date</th>\n",
       "      <th>region</th>\n",
       "      <th>device</th>\n",
       "    </tr>\n",
       "  </thead>\n",
       "  <tbody>\n",
       "    <tr>\n",
       "      <th>0</th>\n",
       "      <td>D72A72121175D8BE</td>\n",
       "      <td>2020-12-07</td>\n",
       "      <td>EU</td>\n",
       "      <td>PC</td>\n",
       "    </tr>\n",
       "    <tr>\n",
       "      <th>1</th>\n",
       "      <td>F1C668619DFE6E65</td>\n",
       "      <td>2020-12-07</td>\n",
       "      <td>N.America</td>\n",
       "      <td>Android</td>\n",
       "    </tr>\n",
       "    <tr>\n",
       "      <th>2</th>\n",
       "      <td>2E1BF1D4C37EA01F</td>\n",
       "      <td>2020-12-07</td>\n",
       "      <td>EU</td>\n",
       "      <td>PC</td>\n",
       "    </tr>\n",
       "    <tr>\n",
       "      <th>3</th>\n",
       "      <td>50734A22C0C63768</td>\n",
       "      <td>2020-12-07</td>\n",
       "      <td>EU</td>\n",
       "      <td>iPhone</td>\n",
       "    </tr>\n",
       "    <tr>\n",
       "      <th>4</th>\n",
       "      <td>E1BDDCE0DAFA2679</td>\n",
       "      <td>2020-12-07</td>\n",
       "      <td>N.America</td>\n",
       "      <td>iPhone</td>\n",
       "    </tr>\n",
       "  </tbody>\n",
       "</table>\n",
       "</div>"
      ],
      "text/plain": [
       "            user_id  first_date     region   device\n",
       "0  D72A72121175D8BE  2020-12-07         EU       PC\n",
       "1  F1C668619DFE6E65  2020-12-07  N.America  Android\n",
       "2  2E1BF1D4C37EA01F  2020-12-07         EU       PC\n",
       "3  50734A22C0C63768  2020-12-07         EU   iPhone\n",
       "4  E1BDDCE0DAFA2679  2020-12-07  N.America   iPhone"
      ]
     },
     "metadata": {},
     "output_type": "display_data"
    },
    {
     "name": "stdout",
     "output_type": "stream",
     "text": [
      "\n",
      "<class 'pandas.core.frame.DataFrame'>\n",
      "RangeIndex: 61733 entries, 0 to 61732\n",
      "Data columns (total 4 columns):\n",
      " #   Column      Non-Null Count  Dtype \n",
      "---  ------      --------------  ----- \n",
      " 0   user_id     61733 non-null  object\n",
      " 1   first_date  61733 non-null  object\n",
      " 2   region      61733 non-null  object\n",
      " 3   device      61733 non-null  object\n",
      "dtypes: object(4)\n",
      "memory usage: 1.9+ MB\n",
      "\n",
      " Columns name \n",
      "\n",
      "Index(['user_id', 'first_date', 'region', 'device'], dtype='object') \n",
      "\n",
      "Numbers of NaN values in the dataset - final_ab_new_users\n",
      "user_id       0\n",
      "first_date    0\n",
      "region        0\n",
      "device        0\n",
      "dtype: int64\n",
      "\n",
      "Numbers of duplicates (explicit)in the dataset - final_ab_new_users\n",
      "0\n",
      "None\n"
     ]
    }
   ],
   "source": [
    "print(get_info(df_final_users, 'final_ab_new_users'))"
   ]
  },
  {
   "cell_type": "markdown",
   "metadata": {},
   "source": [
    "**Комментарий по датасету - final_ab_new_users:**"
   ]
  },
  {
   "cell_type": "markdown",
   "metadata": {},
   "source": [
    "1. Требуется изменить формат данных в колонках **first_date**. В настоящий момент тип Objects, нужный формат datetime64[ns];\n",
    "2. Изменить регистр в столбцах **region**,**device**, **user_id**;\n",
    "3. Убедиться, что запись регионов осуществляется корректно."
   ]
  },
  {
   "cell_type": "code",
   "execution_count": 7,
   "metadata": {},
   "outputs": [
    {
     "name": "stdout",
     "output_type": "stream",
     "text": [
      "['eu' 'n.america' 'apac' 'cis']\n"
     ]
    }
   ],
   "source": [
    "# Change type of data\n",
    "df_final_users['first_date']  =  df_final_users['first_date'].map(lambda x: dt.datetime.strptime(x, '%Y-%m-%d'))\n",
    "\n",
    "# Change register\n",
    "column_list = ['region', 'device', 'user_id']\n",
    "for col in column_list:\n",
    "    df_final_users[col] = df_final_users[col].str.lower() \n",
    "\n",
    "# Check unique regions \n",
    "print(df_final_users['region'].unique())"
   ]
  },
  {
   "cell_type": "markdown",
   "metadata": {},
   "source": [
    "Проверим датасет еще раз"
   ]
  },
  {
   "cell_type": "code",
   "execution_count": 8,
   "metadata": {},
   "outputs": [
    {
     "name": "stdout",
     "output_type": "stream",
     "text": [
      "Common information about - final_ab_new_users\n"
     ]
    },
    {
     "data": {
      "text/html": [
       "<div>\n",
       "<style scoped>\n",
       "    .dataframe tbody tr th:only-of-type {\n",
       "        vertical-align: middle;\n",
       "    }\n",
       "\n",
       "    .dataframe tbody tr th {\n",
       "        vertical-align: top;\n",
       "    }\n",
       "\n",
       "    .dataframe thead th {\n",
       "        text-align: right;\n",
       "    }\n",
       "</style>\n",
       "<table border=\"1\" class=\"dataframe\">\n",
       "  <thead>\n",
       "    <tr style=\"text-align: right;\">\n",
       "      <th></th>\n",
       "      <th>user_id</th>\n",
       "      <th>first_date</th>\n",
       "      <th>region</th>\n",
       "      <th>device</th>\n",
       "    </tr>\n",
       "  </thead>\n",
       "  <tbody>\n",
       "    <tr>\n",
       "      <th>0</th>\n",
       "      <td>d72a72121175d8be</td>\n",
       "      <td>2020-12-07</td>\n",
       "      <td>eu</td>\n",
       "      <td>pc</td>\n",
       "    </tr>\n",
       "    <tr>\n",
       "      <th>1</th>\n",
       "      <td>f1c668619dfe6e65</td>\n",
       "      <td>2020-12-07</td>\n",
       "      <td>n.america</td>\n",
       "      <td>android</td>\n",
       "    </tr>\n",
       "    <tr>\n",
       "      <th>2</th>\n",
       "      <td>2e1bf1d4c37ea01f</td>\n",
       "      <td>2020-12-07</td>\n",
       "      <td>eu</td>\n",
       "      <td>pc</td>\n",
       "    </tr>\n",
       "    <tr>\n",
       "      <th>3</th>\n",
       "      <td>50734a22c0c63768</td>\n",
       "      <td>2020-12-07</td>\n",
       "      <td>eu</td>\n",
       "      <td>iphone</td>\n",
       "    </tr>\n",
       "    <tr>\n",
       "      <th>4</th>\n",
       "      <td>e1bddce0dafa2679</td>\n",
       "      <td>2020-12-07</td>\n",
       "      <td>n.america</td>\n",
       "      <td>iphone</td>\n",
       "    </tr>\n",
       "  </tbody>\n",
       "</table>\n",
       "</div>"
      ],
      "text/plain": [
       "            user_id first_date     region   device\n",
       "0  d72a72121175d8be 2020-12-07         eu       pc\n",
       "1  f1c668619dfe6e65 2020-12-07  n.america  android\n",
       "2  2e1bf1d4c37ea01f 2020-12-07         eu       pc\n",
       "3  50734a22c0c63768 2020-12-07         eu   iphone\n",
       "4  e1bddce0dafa2679 2020-12-07  n.america   iphone"
      ]
     },
     "metadata": {},
     "output_type": "display_data"
    },
    {
     "name": "stdout",
     "output_type": "stream",
     "text": [
      "\n",
      "<class 'pandas.core.frame.DataFrame'>\n",
      "RangeIndex: 61733 entries, 0 to 61732\n",
      "Data columns (total 4 columns):\n",
      " #   Column      Non-Null Count  Dtype         \n",
      "---  ------      --------------  -----         \n",
      " 0   user_id     61733 non-null  object        \n",
      " 1   first_date  61733 non-null  datetime64[ns]\n",
      " 2   region      61733 non-null  object        \n",
      " 3   device      61733 non-null  object        \n",
      "dtypes: datetime64[ns](1), object(3)\n",
      "memory usage: 1.9+ MB\n",
      "\n",
      " Columns name \n",
      "\n",
      "Index(['user_id', 'first_date', 'region', 'device'], dtype='object') \n",
      "\n",
      "Numbers of NaN values in the dataset - final_ab_new_users\n",
      "user_id       0\n",
      "first_date    0\n",
      "region        0\n",
      "device        0\n",
      "dtype: int64\n",
      "\n",
      "Numbers of duplicates (explicit)in the dataset - final_ab_new_users\n",
      "0\n",
      "None\n"
     ]
    }
   ],
   "source": [
    "print(get_info(df_final_users, 'final_ab_new_users'))"
   ]
  },
  {
   "cell_type": "markdown",
   "metadata": {},
   "source": [
    "*Вывод:* Набор данных подготовлен для последующей работы. "
   ]
  },
  {
   "cell_type": "markdown",
   "metadata": {},
   "source": [
    "#### Датасет - final_ab_events:"
   ]
  },
  {
   "cell_type": "code",
   "execution_count": 9,
   "metadata": {},
   "outputs": [
    {
     "name": "stdout",
     "output_type": "stream",
     "text": [
      "Common information about - final_ab_events\n"
     ]
    },
    {
     "data": {
      "text/html": [
       "<div>\n",
       "<style scoped>\n",
       "    .dataframe tbody tr th:only-of-type {\n",
       "        vertical-align: middle;\n",
       "    }\n",
       "\n",
       "    .dataframe tbody tr th {\n",
       "        vertical-align: top;\n",
       "    }\n",
       "\n",
       "    .dataframe thead th {\n",
       "        text-align: right;\n",
       "    }\n",
       "</style>\n",
       "<table border=\"1\" class=\"dataframe\">\n",
       "  <thead>\n",
       "    <tr style=\"text-align: right;\">\n",
       "      <th></th>\n",
       "      <th>user_id</th>\n",
       "      <th>event_dt</th>\n",
       "      <th>event_name</th>\n",
       "      <th>details</th>\n",
       "    </tr>\n",
       "  </thead>\n",
       "  <tbody>\n",
       "    <tr>\n",
       "      <th>0</th>\n",
       "      <td>E1BDDCE0DAFA2679</td>\n",
       "      <td>2020-12-07 20:22:03</td>\n",
       "      <td>purchase</td>\n",
       "      <td>99.99</td>\n",
       "    </tr>\n",
       "    <tr>\n",
       "      <th>1</th>\n",
       "      <td>7B6452F081F49504</td>\n",
       "      <td>2020-12-07 09:22:53</td>\n",
       "      <td>purchase</td>\n",
       "      <td>9.99</td>\n",
       "    </tr>\n",
       "    <tr>\n",
       "      <th>2</th>\n",
       "      <td>9CD9F34546DF254C</td>\n",
       "      <td>2020-12-07 12:59:29</td>\n",
       "      <td>purchase</td>\n",
       "      <td>4.99</td>\n",
       "    </tr>\n",
       "    <tr>\n",
       "      <th>3</th>\n",
       "      <td>96F27A054B191457</td>\n",
       "      <td>2020-12-07 04:02:40</td>\n",
       "      <td>purchase</td>\n",
       "      <td>4.99</td>\n",
       "    </tr>\n",
       "    <tr>\n",
       "      <th>4</th>\n",
       "      <td>1FD7660FDF94CA1F</td>\n",
       "      <td>2020-12-07 10:15:09</td>\n",
       "      <td>purchase</td>\n",
       "      <td>4.99</td>\n",
       "    </tr>\n",
       "  </tbody>\n",
       "</table>\n",
       "</div>"
      ],
      "text/plain": [
       "            user_id             event_dt event_name  details\n",
       "0  E1BDDCE0DAFA2679  2020-12-07 20:22:03   purchase    99.99\n",
       "1  7B6452F081F49504  2020-12-07 09:22:53   purchase     9.99\n",
       "2  9CD9F34546DF254C  2020-12-07 12:59:29   purchase     4.99\n",
       "3  96F27A054B191457  2020-12-07 04:02:40   purchase     4.99\n",
       "4  1FD7660FDF94CA1F  2020-12-07 10:15:09   purchase     4.99"
      ]
     },
     "metadata": {},
     "output_type": "display_data"
    },
    {
     "name": "stdout",
     "output_type": "stream",
     "text": [
      "\n",
      "<class 'pandas.core.frame.DataFrame'>\n",
      "RangeIndex: 440317 entries, 0 to 440316\n",
      "Data columns (total 4 columns):\n",
      " #   Column      Non-Null Count   Dtype  \n",
      "---  ------      --------------   -----  \n",
      " 0   user_id     440317 non-null  object \n",
      " 1   event_dt    440317 non-null  object \n",
      " 2   event_name  440317 non-null  object \n",
      " 3   details     62740 non-null   float64\n",
      "dtypes: float64(1), object(3)\n",
      "memory usage: 13.4+ MB\n",
      "\n",
      " Columns name \n",
      "\n",
      "Index(['user_id', 'event_dt', 'event_name', 'details'], dtype='object') \n",
      "\n",
      "Numbers of NaN values in the dataset - final_ab_events\n",
      "user_id            0\n",
      "event_dt           0\n",
      "event_name         0\n",
      "details       377577\n",
      "dtype: int64\n",
      "\n",
      "Numbers of duplicates (explicit)in the dataset - final_ab_events\n",
      "0\n",
      "None\n"
     ]
    }
   ],
   "source": [
    "print(get_info(df_final_events, 'final_ab_events')) "
   ]
  },
  {
   "cell_type": "markdown",
   "metadata": {},
   "source": [
    "**Комментарий по датасету - final_ab_events:**"
   ]
  },
  {
   "cell_type": "markdown",
   "metadata": {},
   "source": [
    "1. Изменить регистр в столбцах **user_id**, **event_name**;\n",
    "2. В данных есть множество пропусков в столбце **details** - пока оставлю без изменения, поскольку корректно заполнить их не представляется возможным: например, в случае значения *login*, который пользователь решил не указывать. Тем не менее, выполню более детальный анализ пропусков для того чтобы посмотреть, насколько ситуация критичная.\n",
    "3. Требуется изменить формат данных в колонках **event_dt**. В настоящий момент тип *Objects*, нужный формат *datetime64[ns]*;"
   ]
  },
  {
   "cell_type": "code",
   "execution_count": 10,
   "metadata": {},
   "outputs": [
    {
     "name": "stdout",
     "output_type": "stream",
     "text": [
      "['purchase' 'product_cart' 'product_page' 'login']\n"
     ]
    }
   ],
   "source": [
    "# Change type of data\n",
    "df_final_events['event_dt']  =  df_final_events['event_dt'].map(lambda x: dt.datetime.strptime(x, '%Y-%m-%d %H:%M:%S'))\n",
    "\n",
    "# Change register\n",
    "column_list = ['user_id', 'event_name']\n",
    "for col in column_list:\n",
    "    df_final_events[col] = df_final_events[col].str.lower() \n",
    "\n",
    "# Check unique event_name \n",
    "print(df_final_events['event_name'].unique())"
   ]
  },
  {
   "cell_type": "markdown",
   "metadata": {},
   "source": [
    "Проверим датасет еще раз"
   ]
  },
  {
   "cell_type": "code",
   "execution_count": 11,
   "metadata": {},
   "outputs": [
    {
     "name": "stdout",
     "output_type": "stream",
     "text": [
      "Common information about - final_ab_events\n"
     ]
    },
    {
     "data": {
      "text/html": [
       "<div>\n",
       "<style scoped>\n",
       "    .dataframe tbody tr th:only-of-type {\n",
       "        vertical-align: middle;\n",
       "    }\n",
       "\n",
       "    .dataframe tbody tr th {\n",
       "        vertical-align: top;\n",
       "    }\n",
       "\n",
       "    .dataframe thead th {\n",
       "        text-align: right;\n",
       "    }\n",
       "</style>\n",
       "<table border=\"1\" class=\"dataframe\">\n",
       "  <thead>\n",
       "    <tr style=\"text-align: right;\">\n",
       "      <th></th>\n",
       "      <th>user_id</th>\n",
       "      <th>event_dt</th>\n",
       "      <th>event_name</th>\n",
       "      <th>details</th>\n",
       "    </tr>\n",
       "  </thead>\n",
       "  <tbody>\n",
       "    <tr>\n",
       "      <th>0</th>\n",
       "      <td>e1bddce0dafa2679</td>\n",
       "      <td>2020-12-07 20:22:03</td>\n",
       "      <td>purchase</td>\n",
       "      <td>99.99</td>\n",
       "    </tr>\n",
       "    <tr>\n",
       "      <th>1</th>\n",
       "      <td>7b6452f081f49504</td>\n",
       "      <td>2020-12-07 09:22:53</td>\n",
       "      <td>purchase</td>\n",
       "      <td>9.99</td>\n",
       "    </tr>\n",
       "    <tr>\n",
       "      <th>2</th>\n",
       "      <td>9cd9f34546df254c</td>\n",
       "      <td>2020-12-07 12:59:29</td>\n",
       "      <td>purchase</td>\n",
       "      <td>4.99</td>\n",
       "    </tr>\n",
       "    <tr>\n",
       "      <th>3</th>\n",
       "      <td>96f27a054b191457</td>\n",
       "      <td>2020-12-07 04:02:40</td>\n",
       "      <td>purchase</td>\n",
       "      <td>4.99</td>\n",
       "    </tr>\n",
       "    <tr>\n",
       "      <th>4</th>\n",
       "      <td>1fd7660fdf94ca1f</td>\n",
       "      <td>2020-12-07 10:15:09</td>\n",
       "      <td>purchase</td>\n",
       "      <td>4.99</td>\n",
       "    </tr>\n",
       "  </tbody>\n",
       "</table>\n",
       "</div>"
      ],
      "text/plain": [
       "            user_id            event_dt event_name  details\n",
       "0  e1bddce0dafa2679 2020-12-07 20:22:03   purchase    99.99\n",
       "1  7b6452f081f49504 2020-12-07 09:22:53   purchase     9.99\n",
       "2  9cd9f34546df254c 2020-12-07 12:59:29   purchase     4.99\n",
       "3  96f27a054b191457 2020-12-07 04:02:40   purchase     4.99\n",
       "4  1fd7660fdf94ca1f 2020-12-07 10:15:09   purchase     4.99"
      ]
     },
     "metadata": {},
     "output_type": "display_data"
    },
    {
     "name": "stdout",
     "output_type": "stream",
     "text": [
      "\n",
      "<class 'pandas.core.frame.DataFrame'>\n",
      "RangeIndex: 440317 entries, 0 to 440316\n",
      "Data columns (total 4 columns):\n",
      " #   Column      Non-Null Count   Dtype         \n",
      "---  ------      --------------   -----         \n",
      " 0   user_id     440317 non-null  object        \n",
      " 1   event_dt    440317 non-null  datetime64[ns]\n",
      " 2   event_name  440317 non-null  object        \n",
      " 3   details     62740 non-null   float64       \n",
      "dtypes: datetime64[ns](1), float64(1), object(2)\n",
      "memory usage: 13.4+ MB\n",
      "\n",
      " Columns name \n",
      "\n",
      "Index(['user_id', 'event_dt', 'event_name', 'details'], dtype='object') \n",
      "\n",
      "Numbers of NaN values in the dataset - final_ab_events\n",
      "user_id            0\n",
      "event_dt           0\n",
      "event_name         0\n",
      "details       377577\n",
      "dtype: int64\n",
      "\n",
      "Numbers of duplicates (explicit)in the dataset - final_ab_events\n",
      "0\n",
      "None\n"
     ]
    }
   ],
   "source": [
    "print(get_info(df_final_events, 'final_ab_events')) "
   ]
  },
  {
   "cell_type": "markdown",
   "metadata": {},
   "source": [
    "**Детальный анализ пропусков:**"
   ]
  },
  {
   "cell_type": "code",
   "execution_count": 12,
   "metadata": {},
   "outputs": [],
   "source": [
    "report = df_final_events.groupby('event_name').agg({'details':'count'})"
   ]
  },
  {
   "cell_type": "markdown",
   "metadata": {},
   "source": [
    "*Вывод:* Набор данных подготовлен для последующей работы. Наличие пропусков в столбце **details** исправлять не требуется, поскольку достоверно заполнить такую информацию, как логин или продуктовая корзина, не получится без реальных данных. Более того, все покупки, которые совершали пользователи, имеют заполненные значения, что удовлетворяет цели исследования."
   ]
  },
  {
   "cell_type": "markdown",
   "metadata": {},
   "source": [
    "#### Датасет - final_ab_participants:"
   ]
  },
  {
   "cell_type": "code",
   "execution_count": 13,
   "metadata": {},
   "outputs": [
    {
     "name": "stdout",
     "output_type": "stream",
     "text": [
      "Common information about - final_ab_participants\n"
     ]
    },
    {
     "data": {
      "text/html": [
       "<div>\n",
       "<style scoped>\n",
       "    .dataframe tbody tr th:only-of-type {\n",
       "        vertical-align: middle;\n",
       "    }\n",
       "\n",
       "    .dataframe tbody tr th {\n",
       "        vertical-align: top;\n",
       "    }\n",
       "\n",
       "    .dataframe thead th {\n",
       "        text-align: right;\n",
       "    }\n",
       "</style>\n",
       "<table border=\"1\" class=\"dataframe\">\n",
       "  <thead>\n",
       "    <tr style=\"text-align: right;\">\n",
       "      <th></th>\n",
       "      <th>user_id</th>\n",
       "      <th>group</th>\n",
       "      <th>ab_test</th>\n",
       "    </tr>\n",
       "  </thead>\n",
       "  <tbody>\n",
       "    <tr>\n",
       "      <th>0</th>\n",
       "      <td>D1ABA3E2887B6A73</td>\n",
       "      <td>A</td>\n",
       "      <td>recommender_system_test</td>\n",
       "    </tr>\n",
       "    <tr>\n",
       "      <th>1</th>\n",
       "      <td>A7A3664BD6242119</td>\n",
       "      <td>A</td>\n",
       "      <td>recommender_system_test</td>\n",
       "    </tr>\n",
       "    <tr>\n",
       "      <th>2</th>\n",
       "      <td>DABC14FDDFADD29E</td>\n",
       "      <td>A</td>\n",
       "      <td>recommender_system_test</td>\n",
       "    </tr>\n",
       "    <tr>\n",
       "      <th>3</th>\n",
       "      <td>04988C5DF189632E</td>\n",
       "      <td>A</td>\n",
       "      <td>recommender_system_test</td>\n",
       "    </tr>\n",
       "    <tr>\n",
       "      <th>4</th>\n",
       "      <td>482F14783456D21B</td>\n",
       "      <td>B</td>\n",
       "      <td>recommender_system_test</td>\n",
       "    </tr>\n",
       "  </tbody>\n",
       "</table>\n",
       "</div>"
      ],
      "text/plain": [
       "            user_id group                  ab_test\n",
       "0  D1ABA3E2887B6A73     A  recommender_system_test\n",
       "1  A7A3664BD6242119     A  recommender_system_test\n",
       "2  DABC14FDDFADD29E     A  recommender_system_test\n",
       "3  04988C5DF189632E     A  recommender_system_test\n",
       "4  482F14783456D21B     B  recommender_system_test"
      ]
     },
     "metadata": {},
     "output_type": "display_data"
    },
    {
     "name": "stdout",
     "output_type": "stream",
     "text": [
      "\n",
      "<class 'pandas.core.frame.DataFrame'>\n",
      "RangeIndex: 18268 entries, 0 to 18267\n",
      "Data columns (total 3 columns):\n",
      " #   Column   Non-Null Count  Dtype \n",
      "---  ------   --------------  ----- \n",
      " 0   user_id  18268 non-null  object\n",
      " 1   group    18268 non-null  object\n",
      " 2   ab_test  18268 non-null  object\n",
      "dtypes: object(3)\n",
      "memory usage: 428.3+ KB\n",
      "\n",
      " Columns name \n",
      "\n",
      "Index(['user_id', 'group', 'ab_test'], dtype='object') \n",
      "\n",
      "Numbers of NaN values in the dataset - final_ab_participants\n",
      "user_id    0\n",
      "group      0\n",
      "ab_test    0\n",
      "dtype: int64\n",
      "\n",
      "Numbers of duplicates (explicit)in the dataset - final_ab_participants\n",
      "0\n",
      "None\n"
     ]
    }
   ],
   "source": [
    "print(get_info(df_final_particip, 'final_ab_participants')) "
   ]
  },
  {
   "cell_type": "markdown",
   "metadata": {},
   "source": [
    "**Комментарий по датасету - final_ab_participants:**"
   ]
  },
  {
   "cell_type": "markdown",
   "metadata": {},
   "source": [
    "1. Изменить регистр в столбцах user_id, group и уточнить значения в столбце **ab_test**;\n",
    "2. Проверить, что **user_id** не пересекаются в столце **group**."
   ]
  },
  {
   "cell_type": "code",
   "execution_count": 14,
   "metadata": {},
   "outputs": [
    {
     "name": "stdout",
     "output_type": "stream",
     "text": [
      "['recommender_system_test' 'interface_eu_test']\n"
     ]
    }
   ],
   "source": [
    "# Change register\n",
    "column_list = ['user_id', 'group', 'ab_test']\n",
    "for col in column_list:\n",
    "    df_final_particip[col] = df_final_particip[col].str.lower()\n",
    "    \n",
    "# Check unique ab_test \n",
    "print(df_final_particip['ab_test'].unique())"
   ]
  },
  {
   "cell_type": "markdown",
   "metadata": {},
   "source": [
    "Поиск по уникальным значениям показал, что в датасете представлено два типа тестов: *recommender_system_test* и *interface_eu_test*. Согласно техническому заданию, нас интересует только первый вид теста. Следовательно, лишние данные можно убрать, но сделаю я это немного позже"
   ]
  },
  {
   "cell_type": "markdown",
   "metadata": {},
   "source": [
    "Проверим датасет еще раз"
   ]
  },
  {
   "cell_type": "code",
   "execution_count": 15,
   "metadata": {},
   "outputs": [
    {
     "name": "stdout",
     "output_type": "stream",
     "text": [
      "Common information about - final_ab_participants\n"
     ]
    },
    {
     "data": {
      "text/html": [
       "<div>\n",
       "<style scoped>\n",
       "    .dataframe tbody tr th:only-of-type {\n",
       "        vertical-align: middle;\n",
       "    }\n",
       "\n",
       "    .dataframe tbody tr th {\n",
       "        vertical-align: top;\n",
       "    }\n",
       "\n",
       "    .dataframe thead th {\n",
       "        text-align: right;\n",
       "    }\n",
       "</style>\n",
       "<table border=\"1\" class=\"dataframe\">\n",
       "  <thead>\n",
       "    <tr style=\"text-align: right;\">\n",
       "      <th></th>\n",
       "      <th>user_id</th>\n",
       "      <th>group</th>\n",
       "      <th>ab_test</th>\n",
       "    </tr>\n",
       "  </thead>\n",
       "  <tbody>\n",
       "    <tr>\n",
       "      <th>0</th>\n",
       "      <td>d1aba3e2887b6a73</td>\n",
       "      <td>a</td>\n",
       "      <td>recommender_system_test</td>\n",
       "    </tr>\n",
       "    <tr>\n",
       "      <th>1</th>\n",
       "      <td>a7a3664bd6242119</td>\n",
       "      <td>a</td>\n",
       "      <td>recommender_system_test</td>\n",
       "    </tr>\n",
       "    <tr>\n",
       "      <th>2</th>\n",
       "      <td>dabc14fddfadd29e</td>\n",
       "      <td>a</td>\n",
       "      <td>recommender_system_test</td>\n",
       "    </tr>\n",
       "    <tr>\n",
       "      <th>3</th>\n",
       "      <td>04988c5df189632e</td>\n",
       "      <td>a</td>\n",
       "      <td>recommender_system_test</td>\n",
       "    </tr>\n",
       "    <tr>\n",
       "      <th>4</th>\n",
       "      <td>482f14783456d21b</td>\n",
       "      <td>b</td>\n",
       "      <td>recommender_system_test</td>\n",
       "    </tr>\n",
       "  </tbody>\n",
       "</table>\n",
       "</div>"
      ],
      "text/plain": [
       "            user_id group                  ab_test\n",
       "0  d1aba3e2887b6a73     a  recommender_system_test\n",
       "1  a7a3664bd6242119     a  recommender_system_test\n",
       "2  dabc14fddfadd29e     a  recommender_system_test\n",
       "3  04988c5df189632e     a  recommender_system_test\n",
       "4  482f14783456d21b     b  recommender_system_test"
      ]
     },
     "metadata": {},
     "output_type": "display_data"
    },
    {
     "name": "stdout",
     "output_type": "stream",
     "text": [
      "\n",
      "<class 'pandas.core.frame.DataFrame'>\n",
      "RangeIndex: 18268 entries, 0 to 18267\n",
      "Data columns (total 3 columns):\n",
      " #   Column   Non-Null Count  Dtype \n",
      "---  ------   --------------  ----- \n",
      " 0   user_id  18268 non-null  object\n",
      " 1   group    18268 non-null  object\n",
      " 2   ab_test  18268 non-null  object\n",
      "dtypes: object(3)\n",
      "memory usage: 428.3+ KB\n",
      "\n",
      " Columns name \n",
      "\n",
      "Index(['user_id', 'group', 'ab_test'], dtype='object') \n",
      "\n",
      "Numbers of NaN values in the dataset - final_ab_participants\n",
      "user_id    0\n",
      "group      0\n",
      "ab_test    0\n",
      "dtype: int64\n",
      "\n",
      "Numbers of duplicates (explicit)in the dataset - final_ab_participants\n",
      "0\n",
      "None\n"
     ]
    }
   ],
   "source": [
    "print(get_info(df_final_particip, 'final_ab_participants'))"
   ]
  },
  {
   "cell_type": "markdown",
   "metadata": {},
   "source": [
    "Теперь выполню проверку на пересечение пользователей по разным группам."
   ]
  },
  {
   "cell_type": "code",
   "execution_count": 16,
   "metadata": {},
   "outputs": [
    {
     "name": "stdout",
     "output_type": "stream",
     "text": [
      "Clients in both groups - problem clients:\n",
      "776\n"
     ]
    }
   ],
   "source": [
    "groupA        = df_final_particip.query('group == \"a\"')\n",
    "groupB        = df_final_particip.query('group == \"b\"') \n",
    "unic_visitorA = groupA['user_id'].unique()\n",
    "unic_visitorB = groupB['user_id'].unique()\n",
    "\n",
    "user_id_list = []\n",
    "for id_A in unic_visitorA:\n",
    "    for id_B in unic_visitorB:\n",
    "        if id_A == id_B:\n",
    "            user_id_list.append(id_B)\n",
    "            \n",
    "print('Clients in both groups - problem clients:')\n",
    "print(len(user_id_list))            "
   ]
  },
  {
   "cell_type": "markdown",
   "metadata": {},
   "source": [
    "Список проблемных клиентов готов, но количество попавших в него участников довольно большое (776 пользователей), что наталкивает на мысль, что что-то здесь не так. Тем не менее, изучив количество пользователей, можно придти к выводу, что, скорее всего, в обоих тестах в группу Б входили одни и те же пользователи. Поэтому я выполню отдельную проверку только для пользователей из теста `\"recommender_system_test\"`."
   ]
  },
  {
   "cell_type": "code",
   "execution_count": 17,
   "metadata": {},
   "outputs": [
    {
     "name": "stdout",
     "output_type": "stream",
     "text": [
      "Clients in both groups from recommender_system_test:\n",
      "0\n",
      "\n",
      "Numbers of unique users in each group:\n",
      "3824\n",
      "2877\n"
     ]
    }
   ],
   "source": [
    "# Check my assamption:\n",
    "test    = \"recommender_system_test\"\n",
    "df_test = df_final_particip.query('ab_test == @test')\n",
    "\n",
    "# Check again\n",
    "groupA = df_test.query('group == \"a\"')['user_id'].unique()\n",
    "groupB = df_test.query('group == \"b\"')['user_id'].unique()\n",
    "\n",
    "# Control run\n",
    "user_id_list2 = []\n",
    "for id_A in groupA:\n",
    "    for id_B in groupB:\n",
    "        if id_A == id_B:\n",
    "            user_id_list2.append(id_B)\n",
    "            \n",
    "print('Clients in both groups from recommender_system_test:')\n",
    "print(len(user_id_list2))  \n",
    "\n",
    "# Check unic users_id\n",
    "print('')\n",
    "print('Numbers of unique users in each group:')\n",
    "print(df_test.query('group == \"a\"')['user_id'].nunique())\n",
    "print(df_test.query('group == \"b\"')['user_id'].nunique())"
   ]
  },
  {
   "cell_type": "markdown",
   "metadata": {},
   "source": [
    "Сделав отдельную выборку только для интересующего нас теста, вышеупомянутое предположение об использовании одной контрольной группы для двух тестов становится более релевантным. Тем не менее, для выяснения истинных причин стоило бы обратиться к поставщику данных для тестов и уточнить эти детали. Кроме того, из анализа данных видно, что количество участников распределенно неравномерно. Участников из группы А примерно на тысячу больше, чем участников из группы Б."
   ]
  },
  {
   "cell_type": "markdown",
   "metadata": {},
   "source": [
    "*Вывод:* Набор данных подготовлен для последующей работы. "
   ]
  },
  {
   "cell_type": "markdown",
   "metadata": {},
   "source": [
    "###  Анализ данных"
   ]
  },
  {
   "cell_type": "markdown",
   "metadata": {},
   "source": [
    "#### Подготовка данных под техническое задание:"
   ]
  },
  {
   "cell_type": "markdown",
   "metadata": {},
   "source": [
    "Для того, чтобы подготовить необходимый для работы набор данных, требуется сделать несколько подготовительных операций:\n",
    "1. Отобрать только новых пользователей - *<= 2020-12-21*;\n",
    "2. Использовать только данные из тестового набора - *recommender_system_test*;\n",
    "3. Регион исследования - *EU*; \n",
    "4. Исключить пользователей, присутсвтвующих в обоих группах."
   ]
  },
  {
   "cell_type": "code",
   "execution_count": 18,
   "metadata": {},
   "outputs": [
    {
     "name": "stdout",
     "output_type": "stream",
     "text": [
      "Numbers of NaN values in the dataset\n",
      "user_id       0\n",
      "first_date    0\n",
      "region        0\n",
      "device        0\n",
      "group         0\n",
      "ab_test       0\n",
      "dtype: int64\n"
     ]
    }
   ],
   "source": [
    "# Create parameters for filters\n",
    "control_data   = pd.to_datetime('2020-12-21')\n",
    "control_test   = \"recommender_system_test\"\n",
    "control_region = \"eu\"\n",
    "\n",
    "# Get new dataframes\n",
    "df_final_users    = df_final_users.query('first_date <= @control_data')\n",
    "df_final_particip = df_final_particip.query('ab_test == @control_test')\n",
    "\n",
    "# Merge - step 1\n",
    "df_final          = df_final_users.merge(df_final_particip, on = 'user_id', how = 'right')\n",
    "\n",
    "print(f'Numbers of NaN values in the dataset')\n",
    "print(df_final.isnull().sum())"
   ]
  },
  {
   "cell_type": "code",
   "execution_count": 19,
   "metadata": {},
   "outputs": [
    {
     "name": "stdout",
     "output_type": "stream",
     "text": [
      "Numbers of NaN values in the dataset\n",
      "user_id           0\n",
      "first_date        0\n",
      "region            0\n",
      "device            0\n",
      "group             0\n",
      "ab_test           0\n",
      "event_dt       3026\n",
      "event_name     3026\n",
      "details       24393\n",
      "dtype: int64\n"
     ]
    }
   ],
   "source": [
    "# Merge - step 2 (old option)\n",
    "df_final          = df_final.merge(df_final_events        , on = 'user_id', how = 'left' )\n",
    "\n",
    "print(f'Numbers of NaN values in the dataset')\n",
    "print(df_final.isnull().sum())"
   ]
  },
  {
   "cell_type": "code",
   "execution_count": 20,
   "metadata": {},
   "outputs": [
    {
     "data": {
      "text/html": [
       "<div>\n",
       "<style scoped>\n",
       "    .dataframe tbody tr th:only-of-type {\n",
       "        vertical-align: middle;\n",
       "    }\n",
       "\n",
       "    .dataframe tbody tr th {\n",
       "        vertical-align: top;\n",
       "    }\n",
       "\n",
       "    .dataframe thead th {\n",
       "        text-align: right;\n",
       "    }\n",
       "</style>\n",
       "<table border=\"1\" class=\"dataframe\">\n",
       "  <thead>\n",
       "    <tr style=\"text-align: right;\">\n",
       "      <th></th>\n",
       "      <th>user_id</th>\n",
       "      <th>first_date</th>\n",
       "      <th>region</th>\n",
       "      <th>device</th>\n",
       "      <th>group</th>\n",
       "      <th>ab_test</th>\n",
       "      <th>event_dt</th>\n",
       "      <th>event_name</th>\n",
       "      <th>details</th>\n",
       "    </tr>\n",
       "  </thead>\n",
       "  <tbody>\n",
       "    <tr>\n",
       "      <th>0</th>\n",
       "      <td>d1aba3e2887b6a73</td>\n",
       "      <td>2020-12-07</td>\n",
       "      <td>eu</td>\n",
       "      <td>pc</td>\n",
       "      <td>a</td>\n",
       "      <td>recommender_system_test</td>\n",
       "      <td>2020-12-07 14:43:27</td>\n",
       "      <td>purchase</td>\n",
       "      <td>99.99</td>\n",
       "    </tr>\n",
       "    <tr>\n",
       "      <th>1</th>\n",
       "      <td>d1aba3e2887b6a73</td>\n",
       "      <td>2020-12-07</td>\n",
       "      <td>eu</td>\n",
       "      <td>pc</td>\n",
       "      <td>a</td>\n",
       "      <td>recommender_system_test</td>\n",
       "      <td>2020-12-25 00:04:56</td>\n",
       "      <td>purchase</td>\n",
       "      <td>4.99</td>\n",
       "    </tr>\n",
       "    <tr>\n",
       "      <th>2</th>\n",
       "      <td>d1aba3e2887b6a73</td>\n",
       "      <td>2020-12-07</td>\n",
       "      <td>eu</td>\n",
       "      <td>pc</td>\n",
       "      <td>a</td>\n",
       "      <td>recommender_system_test</td>\n",
       "      <td>2020-12-07 14:43:29</td>\n",
       "      <td>product_cart</td>\n",
       "      <td>NaN</td>\n",
       "    </tr>\n",
       "    <tr>\n",
       "      <th>3</th>\n",
       "      <td>d1aba3e2887b6a73</td>\n",
       "      <td>2020-12-07</td>\n",
       "      <td>eu</td>\n",
       "      <td>pc</td>\n",
       "      <td>a</td>\n",
       "      <td>recommender_system_test</td>\n",
       "      <td>2020-12-25 00:04:57</td>\n",
       "      <td>product_cart</td>\n",
       "      <td>NaN</td>\n",
       "    </tr>\n",
       "    <tr>\n",
       "      <th>4</th>\n",
       "      <td>d1aba3e2887b6a73</td>\n",
       "      <td>2020-12-07</td>\n",
       "      <td>eu</td>\n",
       "      <td>pc</td>\n",
       "      <td>a</td>\n",
       "      <td>recommender_system_test</td>\n",
       "      <td>2020-12-07 14:43:27</td>\n",
       "      <td>product_page</td>\n",
       "      <td>NaN</td>\n",
       "    </tr>\n",
       "    <tr>\n",
       "      <th>...</th>\n",
       "      <td>...</td>\n",
       "      <td>...</td>\n",
       "      <td>...</td>\n",
       "      <td>...</td>\n",
       "      <td>...</td>\n",
       "      <td>...</td>\n",
       "      <td>...</td>\n",
       "      <td>...</td>\n",
       "      <td>...</td>\n",
       "    </tr>\n",
       "    <tr>\n",
       "      <th>26285</th>\n",
       "      <td>80712ed4ea1b52a5</td>\n",
       "      <td>2020-12-14</td>\n",
       "      <td>eu</td>\n",
       "      <td>android</td>\n",
       "      <td>a</td>\n",
       "      <td>recommender_system_test</td>\n",
       "      <td>2020-12-15 20:10:06</td>\n",
       "      <td>product_page</td>\n",
       "      <td>NaN</td>\n",
       "    </tr>\n",
       "    <tr>\n",
       "      <th>26286</th>\n",
       "      <td>80712ed4ea1b52a5</td>\n",
       "      <td>2020-12-14</td>\n",
       "      <td>eu</td>\n",
       "      <td>android</td>\n",
       "      <td>a</td>\n",
       "      <td>recommender_system_test</td>\n",
       "      <td>2020-12-20 20:01:34</td>\n",
       "      <td>product_page</td>\n",
       "      <td>NaN</td>\n",
       "    </tr>\n",
       "    <tr>\n",
       "      <th>26287</th>\n",
       "      <td>80712ed4ea1b52a5</td>\n",
       "      <td>2020-12-14</td>\n",
       "      <td>eu</td>\n",
       "      <td>android</td>\n",
       "      <td>a</td>\n",
       "      <td>recommender_system_test</td>\n",
       "      <td>2020-12-14 05:48:50</td>\n",
       "      <td>login</td>\n",
       "      <td>NaN</td>\n",
       "    </tr>\n",
       "    <tr>\n",
       "      <th>26288</th>\n",
       "      <td>80712ed4ea1b52a5</td>\n",
       "      <td>2020-12-14</td>\n",
       "      <td>eu</td>\n",
       "      <td>android</td>\n",
       "      <td>a</td>\n",
       "      <td>recommender_system_test</td>\n",
       "      <td>2020-12-15 20:10:03</td>\n",
       "      <td>login</td>\n",
       "      <td>NaN</td>\n",
       "    </tr>\n",
       "    <tr>\n",
       "      <th>26289</th>\n",
       "      <td>80712ed4ea1b52a5</td>\n",
       "      <td>2020-12-14</td>\n",
       "      <td>eu</td>\n",
       "      <td>android</td>\n",
       "      <td>a</td>\n",
       "      <td>recommender_system_test</td>\n",
       "      <td>2020-12-20 20:01:32</td>\n",
       "      <td>login</td>\n",
       "      <td>NaN</td>\n",
       "    </tr>\n",
       "  </tbody>\n",
       "</table>\n",
       "<p>23174 rows × 9 columns</p>\n",
       "</div>"
      ],
      "text/plain": [
       "                user_id first_date region   device group  \\\n",
       "0      d1aba3e2887b6a73 2020-12-07     eu       pc     a   \n",
       "1      d1aba3e2887b6a73 2020-12-07     eu       pc     a   \n",
       "2      d1aba3e2887b6a73 2020-12-07     eu       pc     a   \n",
       "3      d1aba3e2887b6a73 2020-12-07     eu       pc     a   \n",
       "4      d1aba3e2887b6a73 2020-12-07     eu       pc     a   \n",
       "...                 ...        ...    ...      ...   ...   \n",
       "26285  80712ed4ea1b52a5 2020-12-14     eu  android     a   \n",
       "26286  80712ed4ea1b52a5 2020-12-14     eu  android     a   \n",
       "26287  80712ed4ea1b52a5 2020-12-14     eu  android     a   \n",
       "26288  80712ed4ea1b52a5 2020-12-14     eu  android     a   \n",
       "26289  80712ed4ea1b52a5 2020-12-14     eu  android     a   \n",
       "\n",
       "                       ab_test            event_dt    event_name  details  \n",
       "0      recommender_system_test 2020-12-07 14:43:27      purchase    99.99  \n",
       "1      recommender_system_test 2020-12-25 00:04:56      purchase     4.99  \n",
       "2      recommender_system_test 2020-12-07 14:43:29  product_cart      NaN  \n",
       "3      recommender_system_test 2020-12-25 00:04:57  product_cart      NaN  \n",
       "4      recommender_system_test 2020-12-07 14:43:27  product_page      NaN  \n",
       "...                        ...                 ...           ...      ...  \n",
       "26285  recommender_system_test 2020-12-15 20:10:06  product_page      NaN  \n",
       "26286  recommender_system_test 2020-12-20 20:01:34  product_page      NaN  \n",
       "26287  recommender_system_test 2020-12-14 05:48:50         login      NaN  \n",
       "26288  recommender_system_test 2020-12-15 20:10:03         login      NaN  \n",
       "26289  recommender_system_test 2020-12-20 20:01:32         login      NaN  \n",
       "\n",
       "[23174 rows x 9 columns]"
      ]
     },
     "metadata": {},
     "output_type": "display_data"
    },
    {
     "name": "stdout",
     "output_type": "stream",
     "text": [
      "Numbers of NaN values in the dataset\n",
      "user_id           0\n",
      "first_date        0\n",
      "region            0\n",
      "device            0\n",
      "group             0\n",
      "ab_test           0\n",
      "event_dt       2535\n",
      "event_name     2535\n",
      "details       20344\n",
      "dtype: int64\n"
     ]
    }
   ],
   "source": [
    "# Correct values\n",
    "df_final_eu = df_final.query('region == @control_region')\n",
    "df_final_eu = df_final_eu.query('user_id not in @user_id_list')\n",
    "display(df_final_eu)\n",
    "\n",
    "print(f'Numbers of NaN values in the dataset')\n",
    "print(df_final_eu.isnull().sum())"
   ]
  },
  {
   "cell_type": "markdown",
   "metadata": {},
   "source": [
    "Вывод: Скорее всего пропуски в колонках *event_dt* и *event_name* означают, что пользователю была отправлена рекомендация, но он по каким-то причинам даже ее не открыл."
   ]
  },
  {
   "cell_type": "markdown",
   "metadata": {},
   "source": [
    "Теперь набор данных является полностью готовым для работы, но, прежде чем приступить, проверю еще распределение пользователей по группам."
   ]
  },
  {
   "cell_type": "markdown",
   "metadata": {},
   "source": [
    "#### Проверка набора данных на соответствие требования ТЗ по объему выборки"
   ]
  },
  {
   "cell_type": "code",
   "execution_count": 22,
   "metadata": {},
   "outputs": [
    {
     "name": "stdout",
     "output_type": "stream",
     "text": [
      "Numbers of unique users in each group:\n",
      "3195\n",
      "2380\n"
     ]
    }
   ],
   "source": [
    "groupA        = df_final_eu.query('group == \"a\"')\n",
    "groupB        = df_final_eu.query('group == \"b\"')\n",
    "\n",
    "print('Numbers of unique users in each group:')\n",
    "print(groupA['user_id'].nunique())\n",
    "print(groupB['user_id'].nunique())"
   ]
  },
  {
   "cell_type": "markdown",
   "metadata": {},
   "source": [
    "*Вывод:* Пользователи по группа распределены неравномерно, что уже является плохим сигналом для анализа А/В теста.\n",
    "\n",
    "Теперь выполню проверку требования технического задания о 15% пользователей в исходной выборке и подготовленной:\n",
    "1. Посчитаю общее количество новых пользователей по регионам в исходном наборе данных и данных после выборки интересующего нас теста."
   ]
  },
  {
   "cell_type": "code",
   "execution_count": 23,
   "metadata": {},
   "outputs": [
    {
     "data": {
      "text/html": [
       "<div>\n",
       "<style scoped>\n",
       "    .dataframe tbody tr th:only-of-type {\n",
       "        vertical-align: middle;\n",
       "    }\n",
       "\n",
       "    .dataframe tbody tr th {\n",
       "        vertical-align: top;\n",
       "    }\n",
       "\n",
       "    .dataframe thead th {\n",
       "        text-align: right;\n",
       "    }\n",
       "</style>\n",
       "<table border=\"1\" class=\"dataframe\">\n",
       "  <thead>\n",
       "    <tr style=\"text-align: right;\">\n",
       "      <th></th>\n",
       "      <th>region</th>\n",
       "      <th>all_users</th>\n",
       "      <th>new_users</th>\n",
       "      <th>% users</th>\n",
       "    </tr>\n",
       "  </thead>\n",
       "  <tbody>\n",
       "    <tr>\n",
       "      <th>0</th>\n",
       "      <td>apac</td>\n",
       "      <td>2883</td>\n",
       "      <td>72</td>\n",
       "      <td>2.5</td>\n",
       "    </tr>\n",
       "    <tr>\n",
       "      <th>1</th>\n",
       "      <td>cis</td>\n",
       "      <td>2900</td>\n",
       "      <td>55</td>\n",
       "      <td>1.9</td>\n",
       "    </tr>\n",
       "    <tr>\n",
       "      <th>2</th>\n",
       "      <td>eu</td>\n",
       "      <td>42340</td>\n",
       "      <td>6351</td>\n",
       "      <td>15.0</td>\n",
       "    </tr>\n",
       "    <tr>\n",
       "      <th>3</th>\n",
       "      <td>n.america</td>\n",
       "      <td>8347</td>\n",
       "      <td>223</td>\n",
       "      <td>2.7</td>\n",
       "    </tr>\n",
       "  </tbody>\n",
       "</table>\n",
       "</div>"
      ],
      "text/plain": [
       "      region  all_users  new_users  % users\n",
       "0       apac       2883         72      2.5\n",
       "1        cis       2900         55      1.9\n",
       "2         eu      42340       6351     15.0\n",
       "3  n.america       8347        223      2.7"
      ]
     },
     "execution_count": 23,
     "metadata": {},
     "output_type": "execute_result"
    }
   ],
   "source": [
    "# Get original users\n",
    "users_report = (df_final_users\n",
    "                    .groupby(['region'])\n",
    "                    .agg({'user_id':'count'})\n",
    "                    .reset_index()\n",
    "                    .sort_values(by = 'region')\n",
    "               )\n",
    "users_report.columns = ['region', 'all_users']\n",
    "\n",
    "# Get new users\n",
    "users_report2 = (df_final\n",
    "                     .groupby(['region'])\n",
    "                     .agg({'user_id':'nunique'})\n",
    "                     .reset_index()\n",
    "                     .sort_values(by = 'region')\n",
    "                )\n",
    "\n",
    "users_report2.columns = ['region', 'new_users']\n",
    "users_report2\n",
    "\n",
    "# Merge reports\n",
    "freport = users_report.merge(users_report2,  on = 'region', how = 'left' )\n",
    "freport['% users'] = (freport['new_users'] / freport['all_users'] * 100).round(1)\n",
    "freport"
   ]
  },
  {
   "cell_type": "markdown",
   "metadata": {},
   "source": [
    "*Вывод:* Количество участников из региона EU в исходной выборке с перекликающимся user_id равно 15%, что подтверждает требование ТЗ."
   ]
  },
  {
   "cell_type": "markdown",
   "metadata": {},
   "source": [
    "2. Посчитаю общее количество новых пользователей по EU в подготовленном наборе данных."
   ]
  },
  {
   "cell_type": "code",
   "execution_count": 24,
   "metadata": {},
   "outputs": [
    {
     "data": {
      "text/html": [
       "<div>\n",
       "<style scoped>\n",
       "    .dataframe tbody tr th:only-of-type {\n",
       "        vertical-align: middle;\n",
       "    }\n",
       "\n",
       "    .dataframe tbody tr th {\n",
       "        vertical-align: top;\n",
       "    }\n",
       "\n",
       "    .dataframe thead th {\n",
       "        text-align: right;\n",
       "    }\n",
       "</style>\n",
       "<table border=\"1\" class=\"dataframe\">\n",
       "  <thead>\n",
       "    <tr style=\"text-align: right;\">\n",
       "      <th></th>\n",
       "      <th>region</th>\n",
       "      <th>all_users</th>\n",
       "      <th>new_users</th>\n",
       "      <th>% users</th>\n",
       "    </tr>\n",
       "  </thead>\n",
       "  <tbody>\n",
       "    <tr>\n",
       "      <th>0</th>\n",
       "      <td>eu</td>\n",
       "      <td>42340</td>\n",
       "      <td>5575</td>\n",
       "      <td>13.2</td>\n",
       "    </tr>\n",
       "  </tbody>\n",
       "</table>\n",
       "</div>"
      ],
      "text/plain": [
       "  region  all_users  new_users  % users\n",
       "0     eu      42340       5575     13.2"
      ]
     },
     "execution_count": 24,
     "metadata": {},
     "output_type": "execute_result"
    }
   ],
   "source": [
    "# Get original users\n",
    "users_report_eu = users_report.query('region == \"eu\"')\n",
    "#users_report_eu\n",
    "\n",
    "# Get new users\n",
    "users_report2 = (df_final_eu\n",
    "                     .groupby(['region'])\n",
    "                     .agg({'user_id':'nunique'})\n",
    "                     .reset_index()\n",
    "                     .sort_values(by = 'region')\n",
    "                )\n",
    "\n",
    "users_report2.columns = ['region', 'new_users']\n",
    "\n",
    "# Merge reports\n",
    "freport = users_report_eu.merge(users_report2,  on = 'region', how = 'left' )\n",
    "freport['% users'] = (freport['new_users'] / freport['all_users'] * 100).round(1)\n",
    "freport"
   ]
  },
  {
   "cell_type": "markdown",
   "metadata": {},
   "source": [
    "**Вывод:** Количество участников из региона EU в подготовленном наборе данных равно 13.2%, что протеворечит требованию ТЗ, но с учетом того, что из данного набора данных исключены перекликающиеся пользователи, скорее всего, это ошибка в ТЗ."
   ]
  },
  {
   "cell_type": "markdown",
   "metadata": {},
   "source": [
    "#### Проверка набора данных на соответствие требования ТЗ по дате начала и оканчания эксперимента"
   ]
  },
  {
   "cell_type": "code",
   "execution_count": 25,
   "metadata": {},
   "outputs": [],
   "source": [
    "# Settings for plots\n",
    "def plot_settings(ax, title, xlabel, ylabel, deg):                    \n",
    "    \n",
    "    ''' \n",
    "    Function with setting for plots\n",
    "    ax             - Figure\n",
    "        Area for visualization\n",
    "    title          - Objects\n",
    "        The plot title\n",
    "    xlabel, ylabel - Objects\n",
    "        labels of x and y axis\n",
    "    deg            - Int\n",
    "    '''  \n",
    "    ax.set_title(title  , color = 'black', fontsize = 14, pad = 20)\n",
    "    ax.set_xlabel(xlabel, color = 'black', fontsize = 14, labelpad = 20)\n",
    "    ax.set_ylabel(ylabel, color = 'black', fontsize = 14, labelpad = 20)\n",
    "    \n",
    "    ax.set_xticks(np.arange(5, 30.1, 1))\n",
    "    \n",
    "    ax.grid(True, which     = 'major', \n",
    "                  color     = 'k'    ,\n",
    "                  linestyle = 'solid',\n",
    "                  alpha     = 0.5    )\n",
    "\n",
    "    for label in ax.xaxis.get_ticklabels():\n",
    "        label.set_color('black')\n",
    "        label.set_rotation(deg)\n",
    "        label.set_fontsize(14)\n",
    "    for label in ax.yaxis.get_ticklabels():\n",
    "        label.set_color('black')\n",
    "        label.set_fontsize(14)  \n",
    "    plt.show();   "
   ]
  },
  {
   "cell_type": "code",
   "execution_count": 26,
   "metadata": {},
   "outputs": [],
   "source": [
    "def get_date_info(df, group):\n",
    "    '''\n",
    "    Function for analysis of timeranges\n",
    "    df : DateFrame\n",
    "        Research data\n",
    "    group : Objects\n",
    "        Research group\n",
    "    Return\n",
    "    report : DataFrame\n",
    "        dataset with information about users per day\n",
    "    '''\n",
    "    df_new = df\n",
    "    # Get min and max data for analysis.\n",
    "    min_date = df_new['event_dt'].min()\n",
    "    max_date = df_new['event_dt'].max() \n",
    "\n",
    "    # Print info\n",
    "    print('Самая раняя   дата совершения события:', min_date)\n",
    "    print('Самая поздняя дата совершения события:', max_date)\n",
    "    \n",
    "    df_new['day'] = df_new['event_dt'].dt.day\n",
    "    \n",
    "    # Get data collected by date\n",
    "    report = df_new.groupby('day').agg({'event_dt': 'count'})# .count()\n",
    "      \n",
    "    # Plot histogramm\n",
    "    fig = plt.figure(figsize = (12, 7))\n",
    "    ax  = fig.add_subplot(111) \n",
    "\n",
    "    # visualization\n",
    "    ax.plot(report.index, report['event_dt'], color = 'blue')\n",
    "    # plot settings\n",
    "    plots =  plot_settings(ax, \n",
    "                           f'Распределение информации о пользователях по дате поступления сведений - группа {group}',\n",
    "                           'Номер дня в декабря 2020', 'Количество пользователей',   deg = 0)\n",
    "  \n",
    "    plt.show()\n",
    "    \n",
    "    return report"
   ]
  },
  {
   "cell_type": "code",
   "execution_count": 27,
   "metadata": {},
   "outputs": [
    {
     "name": "stdout",
     "output_type": "stream",
     "text": [
      "Самая раняя   дата совершения события: 2020-12-07 00:16:00\n",
      "Самая поздняя дата совершения события: 2020-12-29 23:38:29\n"
     ]
    },
    {
     "data": {
      "image/png": "[encoded data removed]",
      "text/plain": [
       "<Figure size 864x504 with 1 Axes>"
      ]
     },
     "metadata": {
      "needs_background": "light"
     },
     "output_type": "display_data"
    }
   ],
   "source": [
    "# Check group A\n",
    "actions_groupA = get_date_info(groupA, \"A\")"
   ]
  },
  {
   "cell_type": "code",
   "execution_count": 28,
   "metadata": {},
   "outputs": [
    {
     "name": "stdout",
     "output_type": "stream",
     "text": [
      "Самая раняя   дата совершения события: 2020-12-07 00:25:02\n",
      "Самая поздняя дата совершения события: 2020-12-30 06:42:52\n"
     ]
    },
    {
     "data": {
      "image/png": "[encoded data removed]",
      "text/plain": [
       "<Figure size 864x504 with 1 Axes>"
      ]
     },
     "metadata": {
      "needs_background": "light"
     },
     "output_type": "display_data"
    }
   ],
   "source": [
    "# Check group B\n",
    "actions_groupB = get_date_info(groupB, \"B\")"
   ]
  },
  {
   "cell_type": "code",
   "execution_count": 29,
   "metadata": {},
   "outputs": [
    {
     "data": {
      "text/html": [
       "<div>\n",
       "<style scoped>\n",
       "    .dataframe tbody tr th:only-of-type {\n",
       "        vertical-align: middle;\n",
       "    }\n",
       "\n",
       "    .dataframe tbody tr th {\n",
       "        vertical-align: top;\n",
       "    }\n",
       "\n",
       "    .dataframe thead th {\n",
       "        text-align: right;\n",
       "    }\n",
       "</style>\n",
       "<table border=\"1\" class=\"dataframe\">\n",
       "  <thead>\n",
       "    <tr style=\"text-align: right;\">\n",
       "      <th></th>\n",
       "      <th>groupA_events</th>\n",
       "      <th>groupB_events</th>\n",
       "    </tr>\n",
       "    <tr>\n",
       "      <th>day</th>\n",
       "      <th></th>\n",
       "      <th></th>\n",
       "    </tr>\n",
       "  </thead>\n",
       "  <tbody>\n",
       "    <tr>\n",
       "      <th>7.0</th>\n",
       "      <td>263.0</td>\n",
       "      <td>309</td>\n",
       "    </tr>\n",
       "    <tr>\n",
       "      <th>8.0</th>\n",
       "      <td>283.0</td>\n",
       "      <td>200</td>\n",
       "    </tr>\n",
       "    <tr>\n",
       "      <th>9.0</th>\n",
       "      <td>331.0</td>\n",
       "      <td>299</td>\n",
       "    </tr>\n",
       "    <tr>\n",
       "      <th>10.0</th>\n",
       "      <td>294.0</td>\n",
       "      <td>213</td>\n",
       "    </tr>\n",
       "    <tr>\n",
       "      <th>11.0</th>\n",
       "      <td>309.0</td>\n",
       "      <td>139</td>\n",
       "    </tr>\n",
       "    <tr>\n",
       "      <th>12.0</th>\n",
       "      <td>319.0</td>\n",
       "      <td>180</td>\n",
       "    </tr>\n",
       "    <tr>\n",
       "      <th>13.0</th>\n",
       "      <td>273.0</td>\n",
       "      <td>145</td>\n",
       "    </tr>\n",
       "    <tr>\n",
       "      <th>14.0</th>\n",
       "      <td>880.0</td>\n",
       "      <td>214</td>\n",
       "    </tr>\n",
       "    <tr>\n",
       "      <th>15.0</th>\n",
       "      <td>915.0</td>\n",
       "      <td>199</td>\n",
       "    </tr>\n",
       "    <tr>\n",
       "      <th>16.0</th>\n",
       "      <td>870.0</td>\n",
       "      <td>322</td>\n",
       "    </tr>\n",
       "    <tr>\n",
       "      <th>17.0</th>\n",
       "      <td>1046.0</td>\n",
       "      <td>245</td>\n",
       "    </tr>\n",
       "    <tr>\n",
       "      <th>18.0</th>\n",
       "      <td>1085.0</td>\n",
       "      <td>235</td>\n",
       "    </tr>\n",
       "    <tr>\n",
       "      <th>19.0</th>\n",
       "      <td>1262.0</td>\n",
       "      <td>265</td>\n",
       "    </tr>\n",
       "    <tr>\n",
       "      <th>20.0</th>\n",
       "      <td>1298.0</td>\n",
       "      <td>274</td>\n",
       "    </tr>\n",
       "    <tr>\n",
       "      <th>21.0</th>\n",
       "      <td>1690.0</td>\n",
       "      <td>351</td>\n",
       "    </tr>\n",
       "    <tr>\n",
       "      <th>22.0</th>\n",
       "      <td>1114.0</td>\n",
       "      <td>159</td>\n",
       "    </tr>\n",
       "    <tr>\n",
       "      <th>23.0</th>\n",
       "      <td>837.0</td>\n",
       "      <td>170</td>\n",
       "    </tr>\n",
       "    <tr>\n",
       "      <th>24.0</th>\n",
       "      <td>747.0</td>\n",
       "      <td>130</td>\n",
       "    </tr>\n",
       "    <tr>\n",
       "      <th>25.0</th>\n",
       "      <td>564.0</td>\n",
       "      <td>92</td>\n",
       "    </tr>\n",
       "    <tr>\n",
       "      <th>26.0</th>\n",
       "      <td>504.0</td>\n",
       "      <td>96</td>\n",
       "    </tr>\n",
       "    <tr>\n",
       "      <th>27.0</th>\n",
       "      <td>485.0</td>\n",
       "      <td>102</td>\n",
       "    </tr>\n",
       "    <tr>\n",
       "      <th>28.0</th>\n",
       "      <td>413.0</td>\n",
       "      <td>80</td>\n",
       "    </tr>\n",
       "    <tr>\n",
       "      <th>29.0</th>\n",
       "      <td>372.0</td>\n",
       "      <td>64</td>\n",
       "    </tr>\n",
       "    <tr>\n",
       "      <th>30.0</th>\n",
       "      <td>NaN</td>\n",
       "      <td>2</td>\n",
       "    </tr>\n",
       "  </tbody>\n",
       "</table>\n",
       "</div>"
      ],
      "text/plain": [
       "      groupA_events  groupB_events\n",
       "day                               \n",
       "7.0           263.0            309\n",
       "8.0           283.0            200\n",
       "9.0           331.0            299\n",
       "10.0          294.0            213\n",
       "11.0          309.0            139\n",
       "12.0          319.0            180\n",
       "13.0          273.0            145\n",
       "14.0          880.0            214\n",
       "15.0          915.0            199\n",
       "16.0          870.0            322\n",
       "17.0         1046.0            245\n",
       "18.0         1085.0            235\n",
       "19.0         1262.0            265\n",
       "20.0         1298.0            274\n",
       "21.0         1690.0            351\n",
       "22.0         1114.0            159\n",
       "23.0          837.0            170\n",
       "24.0          747.0            130\n",
       "25.0          564.0             92\n",
       "26.0          504.0             96\n",
       "27.0          485.0            102\n",
       "28.0          413.0             80\n",
       "29.0          372.0             64\n",
       "30.0            NaN              2"
      ]
     },
     "execution_count": 29,
     "metadata": {},
     "output_type": "execute_result"
    }
   ],
   "source": [
    "freport = actions_groupA.merge(actions_groupB, on = 'day', how = 'outer')\n",
    "freport.columns = ['groupA_events', 'groupB_events']\n",
    "freport"
   ]
  },
  {
   "cell_type": "markdown",
   "metadata": {},
   "source": [
    "**Вывод:** Согслано ТЗ, последний день остановки теста `2021-01-04`, но, по факту, последние действия в группе А были `2020-12-29`, в группе B - `2020-12-30`, что не соответствует ТЗ."
   ]
  },
  {
   "cell_type": "markdown",
   "metadata": {},
   "source": [
    "#### Количество действий совершаемых пользователями"
   ]
  },
  {
   "cell_type": "markdown",
   "metadata": {},
   "source": [
    "Количество уникальных пользователей:"
   ]
  },
  {
   "cell_type": "code",
   "execution_count": 30,
   "metadata": {},
   "outputs": [
    {
     "name": "stdout",
     "output_type": "stream",
     "text": [
      "Всего уникальных пользователей  - группа А: 3195\n",
      "Всего уникальных пользователей  - группа B: 2380\n"
     ]
    }
   ],
   "source": [
    "print('Всего уникальных пользователей  - группа А:', groupA['user_id'].nunique())\n",
    "print('Всего уникальных пользователей  - группа B:', groupB['user_id'].nunique())"
   ]
  },
  {
   "cell_type": "markdown",
   "metadata": {},
   "source": [
    "Для ответа на вопрос, сколько в среднем событий приходится по группам на одного пользователя, воспользуюсь группировкой и методом groupby:"
   ]
  },
  {
   "cell_type": "code",
   "execution_count": 31,
   "metadata": {},
   "outputs": [
    {
     "name": "stdout",
     "output_type": "stream",
     "text": [
      "Research group a:\n",
      "\n",
      "Top users actions:\n",
      "            user_id  mean_event\n",
      "0  ced71698585a2e46          24\n",
      "1  1bfee479308eff44          24\n",
      "2  6e3df9c69a6b607e          21\n",
      "3  b8ef6f0325a9979f          21\n",
      "4  4b159898de46ac3a          20\n",
      "5  109fe65ee47113c9          20\n",
      "6  f9d53f0ba957f728          20\n",
      "7  77fc0e20aeac1506          20\n",
      "8  e20504d0cad45af3          20\n",
      "9  a2db18f90d9e3362          20\n",
      "\n",
      "Research group b:\n",
      "\n",
      "Top users actions:\n",
      "            user_id  mean_event\n",
      "0  1198061f6af34b7b          28\n",
      "1  115ebc1ca027854a          27\n",
      "2  89545c7f903dba34          21\n",
      "3  2c2be85372033f77          20\n",
      "4  4efb5e89ac11ac6d          20\n",
      "5  7e8720db6a21cf66          20\n",
      "6  fe76759fe6bf8c68          20\n",
      "7  b0244412983000c5          18\n",
      "8  c8460ff8bef553a4          18\n",
      "9  c48127e2fa8d4f18          18\n",
      "\n"
     ]
    }
   ],
   "source": [
    "def get_users(df, group):\n",
    "    '''\n",
    "    df : DataFrame\n",
    "        Data for research\n",
    "    group: Objects\n",
    "        Group of test\n",
    "    Return\n",
    "    mean_users : DataFrame\n",
    "        Results of function\n",
    "    '''\n",
    "    mean_user = (df\n",
    "                  .query('group ==@group')  \n",
    "                  .groupby('user_id')\n",
    "                  .agg({'event_dt':'count'})\n",
    "                  .rename(columns = {'event_dt' : 'mean_event'})\n",
    "                  .sort_values('mean_event', ascending = False)\n",
    "                 ).reset_index()    \n",
    "    \n",
    "    # Users ID for excluding\n",
    "    top10_list = mean_user.head(10)\n",
    "    print(f'Research group {group}:')\n",
    "    print('')\n",
    "    print(\"Top users actions:\")   \n",
    "    print(top10_list)\n",
    "    print('')\n",
    "    return mean_user\n",
    "    \n",
    "# Get data\n",
    "mean_users_A = get_users(df_final_eu, \"a\") \n",
    "mean_users_B = get_users(df_final_eu, \"b\") "
   ]
  },
  {
   "cell_type": "markdown",
   "metadata": {},
   "source": [
    "*Вывод:* \n",
    "* В группе А - 10 самых активных пользователей совершают от 20 до 24 активных действий.\n",
    "* В группе B - 10 самых активных пользователей совершают от 18 до 28 активных действий.\n",
    "\n",
    "Теперь, когда я знаю, сколько действий приходится на пользователей, построю гистограмму рассеивания, чтобы посмотреть как в целом распределены действия пользователей."
   ]
  },
  {
   "cell_type": "code",
   "execution_count": 32,
   "metadata": {},
   "outputs": [
    {
     "data": {
      "image/png": "[encoded data removed]",
      "text/plain": [
       "<Figure size 864x360 with 2 Axes>"
      ]
     },
     "metadata": {
      "needs_background": "light"
     },
     "output_type": "display_data"
    }
   ],
   "source": [
    "# Function for histogramm\n",
    "def histogram(df, col, bin, ax, **kwargs):\n",
    "    return df.plot(y    = col   , title = col,\n",
    "                   kind = 'hist', bins  = bin,\n",
    "                   ax   = ax    , **kwargs   )\n",
    "\n",
    "# Get figure area\n",
    "fig = plt.figure(figsize = (12,5))\n",
    "\n",
    "# Сетка состоит из 1 строки и 4 столбцов.\n",
    "egrid = (1,3)\n",
    "ax1 = plt.subplot2grid(egrid, (0, 0), colspan=1)\n",
    "ax2 = plt.subplot2grid(egrid, (0, 2), colspan=1)\n",
    "\n",
    "# Start visualization\n",
    "for i, ax in enumerate(fig.axes):\n",
    "    if i == 0:\n",
    "        mean_users = mean_users_A # data for group A\n",
    "        plot_name  = 'Число событий на уникального пользователя в группе А'\n",
    "    else:\n",
    "        mean_users = mean_users_B # data for group B\n",
    "        plot_name  = 'Число событий на уникального пользователя в группе B'\n",
    "        \n",
    "    ylabel = 'Количество пользователей' \n",
    "    xlabel = 'Количество действий'\n",
    "    \n",
    "    # Create plot\n",
    "    histogram(mean_users  , 'mean_event',                   \n",
    "              bin  = 20   , ax   = ax   ,\n",
    "              xlim = (0.0 ,   30.1)     ,\n",
    "              ylim = (0.0 ,  2000.1)     )\n",
    "\n",
    " \n",
    "    # Add plot title\n",
    "    ax.text(0.5, 1.1, f'{plot_name}'    ,                \n",
    "                va        = 'center'    , \n",
    "                ha        = 'center'    , \n",
    "                color     = 'red'       ,\n",
    "                fontsize  = 12          ,\n",
    "                transform = ax.transAxes)\n",
    "    \n",
    "    # Labels for axis\n",
    "    ax.set_ylabel(ylabel, color = 'black', fontsize = 14, labelpad = 20)\n",
    "    ax.set_xlabel(xlabel, color = 'black', fontsize = 14, labelpad = 20)\n",
    "    \n",
    "    # Grid\n",
    "    ax.grid(True)    \n",
    " \n",
    "    # Settings for axis\n",
    "    for label in ax.xaxis.get_ticklabels():\n",
    "                label.set_color('black')\n",
    "                label.set_rotation(0)\n",
    "                label.set_fontsize(12)\n",
    "                \n",
    "    for label in ax.yaxis.get_ticklabels():\n",
    "        label.set_color('black')\n",
    "        label.set_fontsize(14)  \n",
    "plt.show()"
   ]
  },
  {
   "cell_type": "markdown",
   "metadata": {},
   "source": [
    "*Вывод:* Большинство пользователей совершают от 1 до 2 действия, после чего прекращают свою деятельность, что выглядит на первый взгляд не очень эффективным. Дополнительно посмотрю на выбросы."
   ]
  },
  {
   "cell_type": "code",
   "execution_count": 33,
   "metadata": {},
   "outputs": [
    {
     "data": {
      "image/png": "[encoded data removed]",
      "text/plain": [
       "<Figure size 864x360 with 2 Axes>"
      ]
     },
     "metadata": {
      "needs_background": "light"
     },
     "output_type": "display_data"
    }
   ],
   "source": [
    "# Create boxplot\n",
    "def boxplots(df, col, ax, **kwargs):\n",
    "    return df.plot(y    = col  , title = col, \n",
    "                   kind = 'box', ax    = ax ,\n",
    "                   grid = True , **kwargs   ) \n",
    "\n",
    "# Get figure area\n",
    "fig = plt.figure(figsize = (12,5))\n",
    "\n",
    "# Сетка состоит из 1 строки и 4 столбцов.\n",
    "egrid = (1,3)\n",
    "ax1 = plt.subplot2grid(egrid, (0, 0), colspan=1)\n",
    "ax2 = plt.subplot2grid(egrid, (0, 2), colspan=1)\n",
    "\n",
    "# Start visualization\n",
    "for i, ax in enumerate(fig.axes):\n",
    "    if i == 0:\n",
    "        mean_users = mean_users_A # data for group A\n",
    "        plot_name  = 'группа А'\n",
    "    else:\n",
    "        mean_users = mean_users_B # data for group B\n",
    "        plot_name  = 'группа B'\n",
    "        \n",
    "    ylabel = 'Количество действий' \n",
    "   \n",
    "    # Create plot\n",
    "    boxplots(mean_users, 'mean_event'      ,                   \n",
    "             ax = ax   , ylim = (0.0, 30.1))\n",
    " \n",
    "    # Add plot title\n",
    "    ax.text(0.5, 1.1, f'{plot_name}'    ,                \n",
    "                va        = 'center'    , \n",
    "                ha        = 'center'    , \n",
    "                color     = 'red'       ,\n",
    "                fontsize  = 12          ,\n",
    "                transform = ax.transAxes)\n",
    "    \n",
    "    # Labels for axis\n",
    "    ax.set_ylabel(ylabel, color = 'black', fontsize = 14, labelpad = 20)\n",
    "    \n",
    "    # Grid\n",
    "    ax.grid(True)    \n",
    " \n",
    "    # Settings for axis\n",
    "    for label in ax.xaxis.get_ticklabels():\n",
    "                label.set_color('black')\n",
    "                label.set_rotation(0)\n",
    "                label.set_fontsize(12)               \n",
    "    for label in ax.yaxis.get_ticklabels():\n",
    "        label.set_color('black')\n",
    "        label.set_fontsize(14)  \n",
    "plt.show()"
   ]
  },
  {
   "cell_type": "markdown",
   "metadata": {},
   "source": [
    "**Вывод:**  В среднем пользователи совершают 1-3 действия, после чего прекращают деятельность или просмотр рекомендации, что выглядит подозрительно. Зафиксировать существенную разницу между действиям пользователей в разных группа не удалось. Соответственно, нет особой пользы от внедрения новой системы рекомендаций."
   ]
  },
  {
   "cell_type": "markdown",
   "metadata": {},
   "source": [
    "#### Изучение воронки событий"
   ]
  },
  {
   "cell_type": "markdown",
   "metadata": {},
   "source": [
    "Для того, чтобы ответить на вопрос, сколько всего событий в логе, сначала нужно определить, что же такое событие. Я предполагаю, что событие - есть каждая уникальная строчка в столбце **event_name**. Поэтому нужно найти уникальные значения и посчитать их количество в разных группах:"
   ]
  },
  {
   "cell_type": "code",
   "execution_count": 34,
   "metadata": {},
   "outputs": [
    {
     "name": "stdout",
     "output_type": "stream",
     "text": [
      "Всего событий в логе - группа А: 4 \n",
      "\n",
      "Уникальные события в логе - группа А: ['purchase' 'product_cart' 'product_page' 'login' nan] \n",
      "\n"
     ]
    },
    {
     "data": {
      "text/html": [
       "<div>\n",
       "<style scoped>\n",
       "    .dataframe tbody tr th:only-of-type {\n",
       "        vertical-align: middle;\n",
       "    }\n",
       "\n",
       "    .dataframe tbody tr th {\n",
       "        vertical-align: top;\n",
       "    }\n",
       "\n",
       "    .dataframe thead th {\n",
       "        text-align: right;\n",
       "    }\n",
       "</style>\n",
       "<table border=\"1\" class=\"dataframe\">\n",
       "  <thead>\n",
       "    <tr style=\"text-align: right;\">\n",
       "      <th></th>\n",
       "      <th>event_name</th>\n",
       "      <th>event_numbers</th>\n",
       "    </tr>\n",
       "  </thead>\n",
       "  <tbody>\n",
       "    <tr>\n",
       "      <th>0</th>\n",
       "      <td>login</td>\n",
       "      <td>7160</td>\n",
       "    </tr>\n",
       "    <tr>\n",
       "      <th>1</th>\n",
       "      <td>product_page</td>\n",
       "      <td>4606</td>\n",
       "    </tr>\n",
       "    <tr>\n",
       "      <th>2</th>\n",
       "      <td>product_cart</td>\n",
       "      <td>2148</td>\n",
       "    </tr>\n",
       "    <tr>\n",
       "      <th>3</th>\n",
       "      <td>purchase</td>\n",
       "      <td>2240</td>\n",
       "    </tr>\n",
       "  </tbody>\n",
       "</table>\n",
       "</div>"
      ],
      "text/plain": [
       "     event_name  event_numbers\n",
       "0         login           7160\n",
       "1  product_page           4606\n",
       "2  product_cart           2148\n",
       "3      purchase           2240"
      ]
     },
     "metadata": {},
     "output_type": "display_data"
    },
    {
     "name": "stdout",
     "output_type": "stream",
     "text": [
      "Всего событий в логе - группа А: 4 \n",
      "\n",
      "Уникальные события в логе - группа А: [nan 'product_page' 'login' 'purchase' 'product_cart'] \n",
      "\n"
     ]
    },
    {
     "data": {
      "text/html": [
       "<div>\n",
       "<style scoped>\n",
       "    .dataframe tbody tr th:only-of-type {\n",
       "        vertical-align: middle;\n",
       "    }\n",
       "\n",
       "    .dataframe tbody tr th {\n",
       "        vertical-align: top;\n",
       "    }\n",
       "\n",
       "    .dataframe thead th {\n",
       "        text-align: right;\n",
       "    }\n",
       "</style>\n",
       "<table border=\"1\" class=\"dataframe\">\n",
       "  <thead>\n",
       "    <tr style=\"text-align: right;\">\n",
       "      <th></th>\n",
       "      <th>event_name</th>\n",
       "      <th>event_numbers</th>\n",
       "    </tr>\n",
       "  </thead>\n",
       "  <tbody>\n",
       "    <tr>\n",
       "      <th>0</th>\n",
       "      <td>login</td>\n",
       "      <td>2148</td>\n",
       "    </tr>\n",
       "    <tr>\n",
       "      <th>1</th>\n",
       "      <td>product_page</td>\n",
       "      <td>1163</td>\n",
       "    </tr>\n",
       "    <tr>\n",
       "      <th>2</th>\n",
       "      <td>product_cart</td>\n",
       "      <td>584</td>\n",
       "    </tr>\n",
       "    <tr>\n",
       "      <th>3</th>\n",
       "      <td>purchase</td>\n",
       "      <td>590</td>\n",
       "    </tr>\n",
       "  </tbody>\n",
       "</table>\n",
       "</div>"
      ],
      "text/plain": [
       "     event_name  event_numbers\n",
       "0         login           2148\n",
       "1  product_page           1163\n",
       "2  product_cart            584\n",
       "3      purchase            590"
      ]
     },
     "metadata": {},
     "output_type": "display_data"
    }
   ],
   "source": [
    "def event_groups(df):\n",
    "    '''\n",
    "    Функция, содержит набор команд для получения событий в логах, их названий и количество.\n",
    "    df : DataFrame\n",
    "        data for analysis \n",
    "        \n",
    "    Return\n",
    "    df_out : DataFrame\n",
    "        Data collected information about events\n",
    "    '''\n",
    "    print('Всего событий в логе - группа А:'     , (df['event_name'].nunique()), '\\n')\n",
    "    print('Уникальные события в логе - группа А:', (df['event_name'].unique()) , '\\n')\n",
    "\n",
    "    event_count = (df\n",
    "                    .groupby('event_name')\n",
    "                    .agg({'user_id' : 'count'})\n",
    "                    .reset_index()\n",
    "                    .rename(columns = {'user_id' : 'event_numbers'})\n",
    "                    .sort_values('event_numbers', ascending = False)\n",
    "                  ).reset_index(drop = True).reindex([0,1,3,2]).reset_index(drop = True)\n",
    "    return event_count\n",
    "\n",
    "# Get information about events in 2 groups\n",
    "event_countA = event_groups(groupA)\n",
    "display(event_countA)\n",
    "\n",
    "event_countB = event_groups(groupB)\n",
    "display(event_countB)"
   ]
  },
  {
   "cell_type": "markdown",
   "metadata": {},
   "source": [
    "*Вывод:*  Большего всего пользователи встречаются с появлением события *login*. Примерно 1/2 от общего числа событий переходит на следующий шаг *product_page*. Этот шаг стоит отметить отдельно по нескольким причинам:\n",
    "\n",
    "1. Скорее всего, пользователи на этом шаге могут сразу добавить товар в корзину и, исключив дополнительный шаг - *product_cart*, сразу перейти к оплате. Это подтверждается большим количество уникальных событий в строке *purchase*.\n",
    "2. Из-за такой структуры приложения или сайта, шаг с посещением корзины становится необязательным, и ряд пользователей его минуют. Это также подтверждается данными: значения на шаге *product_cart* меньше, чем на шаге *purchase*.\n",
    "\n",
    "Отмечу также, что мне не удалось выявить существенной разницы в поведении числа событий из двух групп."
   ]
  },
  {
   "cell_type": "markdown",
   "metadata": {},
   "source": [
    "Теперь посмотрим, сколько всего пользователей и рассчитаем конверсию"
   ]
  },
  {
   "cell_type": "code",
   "execution_count": 35,
   "metadata": {},
   "outputs": [
    {
     "data": {
      "text/html": [
       "<div>\n",
       "<style scoped>\n",
       "    .dataframe tbody tr th:only-of-type {\n",
       "        vertical-align: middle;\n",
       "    }\n",
       "\n",
       "    .dataframe tbody tr th {\n",
       "        vertical-align: top;\n",
       "    }\n",
       "\n",
       "    .dataframe thead th {\n",
       "        text-align: right;\n",
       "    }\n",
       "</style>\n",
       "<table border=\"1\" class=\"dataframe\">\n",
       "  <thead>\n",
       "    <tr style=\"text-align: right;\">\n",
       "      <th></th>\n",
       "      <th>event_name</th>\n",
       "      <th>user_numbers</th>\n",
       "      <th>CR</th>\n",
       "      <th>CR_step, %</th>\n",
       "    </tr>\n",
       "  </thead>\n",
       "  <tbody>\n",
       "    <tr>\n",
       "      <th>0</th>\n",
       "      <td>login</td>\n",
       "      <td>2279</td>\n",
       "      <td>71.330203</td>\n",
       "      <td>100.0</td>\n",
       "    </tr>\n",
       "    <tr>\n",
       "      <th>1</th>\n",
       "      <td>product_page</td>\n",
       "      <td>1476</td>\n",
       "      <td>46.197183</td>\n",
       "      <td>64.8</td>\n",
       "    </tr>\n",
       "    <tr>\n",
       "      <th>2</th>\n",
       "      <td>product_cart</td>\n",
       "      <td>686</td>\n",
       "      <td>21.471049</td>\n",
       "      <td>46.5</td>\n",
       "    </tr>\n",
       "    <tr>\n",
       "      <th>3</th>\n",
       "      <td>purchase</td>\n",
       "      <td>734</td>\n",
       "      <td>22.973396</td>\n",
       "      <td>107.0</td>\n",
       "    </tr>\n",
       "  </tbody>\n",
       "</table>\n",
       "</div>"
      ],
      "text/plain": [
       "     event_name  user_numbers         CR  CR_step, %\n",
       "0         login          2279  71.330203       100.0\n",
       "1  product_page          1476  46.197183        64.8\n",
       "2  product_cart           686  21.471049        46.5\n",
       "3      purchase           734  22.973396       107.0"
      ]
     },
     "metadata": {},
     "output_type": "display_data"
    },
    {
     "data": {
      "text/html": [
       "<div>\n",
       "<style scoped>\n",
       "    .dataframe tbody tr th:only-of-type {\n",
       "        vertical-align: middle;\n",
       "    }\n",
       "\n",
       "    .dataframe tbody tr th {\n",
       "        vertical-align: top;\n",
       "    }\n",
       "\n",
       "    .dataframe thead th {\n",
       "        text-align: right;\n",
       "    }\n",
       "</style>\n",
       "<table border=\"1\" class=\"dataframe\">\n",
       "  <thead>\n",
       "    <tr style=\"text-align: right;\">\n",
       "      <th></th>\n",
       "      <th>event_name</th>\n",
       "      <th>user_numbers</th>\n",
       "      <th>CR</th>\n",
       "      <th>CR_step, %</th>\n",
       "    </tr>\n",
       "  </thead>\n",
       "  <tbody>\n",
       "    <tr>\n",
       "      <th>0</th>\n",
       "      <td>login</td>\n",
       "      <td>761</td>\n",
       "      <td>31.974790</td>\n",
       "      <td>100.0</td>\n",
       "    </tr>\n",
       "    <tr>\n",
       "      <th>1</th>\n",
       "      <td>product_page</td>\n",
       "      <td>431</td>\n",
       "      <td>18.109244</td>\n",
       "      <td>56.6</td>\n",
       "    </tr>\n",
       "    <tr>\n",
       "      <th>2</th>\n",
       "      <td>product_cart</td>\n",
       "      <td>214</td>\n",
       "      <td>8.991597</td>\n",
       "      <td>49.7</td>\n",
       "    </tr>\n",
       "    <tr>\n",
       "      <th>3</th>\n",
       "      <td>purchase</td>\n",
       "      <td>221</td>\n",
       "      <td>9.285714</td>\n",
       "      <td>103.3</td>\n",
       "    </tr>\n",
       "  </tbody>\n",
       "</table>\n",
       "</div>"
      ],
      "text/plain": [
       "     event_name  user_numbers         CR  CR_step, %\n",
       "0         login           761  31.974790       100.0\n",
       "1  product_page           431  18.109244        56.6\n",
       "2  product_cart           214   8.991597        49.7\n",
       "3      purchase           221   9.285714       103.3"
      ]
     },
     "metadata": {},
     "output_type": "display_data"
    }
   ],
   "source": [
    "def users_group(df):\n",
    "    '''\n",
    "    Функция содержит набор команд для расчета конверсии пользователей\n",
    "    df : DataFrame\n",
    "        Data for analysis\n",
    "        \n",
    "    users_count : DataFrame\n",
    "        information about users conversion\n",
    "    '''\n",
    "    users_count = (df\n",
    "                    .groupby('event_name')\n",
    "                    .agg({'user_id': 'nunique'})\n",
    "                    .sort_values(by = 'user_id', ascending = False)\n",
    "                    .rename(columns = {'user_id' : 'user_numbers'})\n",
    "                  ).reset_index().reindex([0,1,3,2]).reset_index(drop = True)\n",
    "\n",
    "    users_count['CR'] = (users_count['user_numbers'] / df['user_id'].nunique())* 100\n",
    "\n",
    "    # Create a zero timeseries for converstion in step\n",
    "    cp_step = pd.Series(np.nan, index = users_count.index) # new event_name with space\n",
    "\n",
    "    for i in range(len(users_count)):\n",
    "        if i == 0:\n",
    "            cp_step[i] = (users_count['user_numbers'][i] / users_count['user_numbers'][i]) * 100\n",
    "        else:\n",
    "            cp_step[i] = (users_count['user_numbers'][i] / users_count['user_numbers'][i - 1]) * 100\n",
    "\n",
    "    users_count['CR_step, %'] = cp_step.round(1)\n",
    "    \n",
    "    return users_count\n",
    "\n",
    "# Get information about events in 2 groups\n",
    "users_count_A = users_group(groupA)\n",
    "display(users_count_A)\n",
    "\n",
    "users_count_B = users_group(groupB)\n",
    "display(users_count_B)"
   ]
  },
  {
   "cell_type": "markdown",
   "metadata": {},
   "source": [
    "*Вывод:* Рассчитав конверсию на каждом шаге для каждой из групп можно отметить, что ни на одном шаге нет 100 %, поскольку ни один пункт не является объязательным. Кроме того, рассчитанные значения подтверждают выдвинутое ранее предположение о том, что шаг *product_cart* является необъязательным и может быть удален.\n",
    "\n",
    "Также значения в столбце *CR_step, %* (конверсия в шаг) равное 107% и 103% означают, что пользователи могут перейти к стадии покупки, как со страницы *\tproduct_page*, так и *product_cart*."
   ]
  },
  {
   "cell_type": "markdown",
   "metadata": {},
   "source": [
    "Соединю итоговые таблицы для формирования результата"
   ]
  },
  {
   "cell_type": "code",
   "execution_count": 36,
   "metadata": {},
   "outputs": [
    {
     "name": "stdout",
     "output_type": "stream",
     "text": [
      "Full report - group A\n"
     ]
    },
    {
     "data": {
      "text/html": [
       "<div>\n",
       "<style scoped>\n",
       "    .dataframe tbody tr th:only-of-type {\n",
       "        vertical-align: middle;\n",
       "    }\n",
       "\n",
       "    .dataframe tbody tr th {\n",
       "        vertical-align: top;\n",
       "    }\n",
       "\n",
       "    .dataframe thead th {\n",
       "        text-align: right;\n",
       "    }\n",
       "</style>\n",
       "<table border=\"1\" class=\"dataframe\">\n",
       "  <thead>\n",
       "    <tr style=\"text-align: right;\">\n",
       "      <th></th>\n",
       "      <th>event_name</th>\n",
       "      <th>event_numbers</th>\n",
       "      <th>user_numbers</th>\n",
       "      <th>CR</th>\n",
       "      <th>CR_step, %</th>\n",
       "    </tr>\n",
       "  </thead>\n",
       "  <tbody>\n",
       "    <tr>\n",
       "      <th>0</th>\n",
       "      <td>login</td>\n",
       "      <td>7160</td>\n",
       "      <td>2279</td>\n",
       "      <td>71.330203</td>\n",
       "      <td>100.0</td>\n",
       "    </tr>\n",
       "    <tr>\n",
       "      <th>1</th>\n",
       "      <td>product_page</td>\n",
       "      <td>4606</td>\n",
       "      <td>1476</td>\n",
       "      <td>46.197183</td>\n",
       "      <td>64.8</td>\n",
       "    </tr>\n",
       "    <tr>\n",
       "      <th>2</th>\n",
       "      <td>product_cart</td>\n",
       "      <td>2148</td>\n",
       "      <td>686</td>\n",
       "      <td>21.471049</td>\n",
       "      <td>46.5</td>\n",
       "    </tr>\n",
       "    <tr>\n",
       "      <th>3</th>\n",
       "      <td>purchase</td>\n",
       "      <td>2240</td>\n",
       "      <td>734</td>\n",
       "      <td>22.973396</td>\n",
       "      <td>107.0</td>\n",
       "    </tr>\n",
       "  </tbody>\n",
       "</table>\n",
       "</div>"
      ],
      "text/plain": [
       "     event_name  event_numbers  user_numbers         CR  CR_step, %\n",
       "0         login           7160          2279  71.330203       100.0\n",
       "1  product_page           4606          1476  46.197183        64.8\n",
       "2  product_cart           2148           686  21.471049        46.5\n",
       "3      purchase           2240           734  22.973396       107.0"
      ]
     },
     "metadata": {},
     "output_type": "display_data"
    },
    {
     "name": "stdout",
     "output_type": "stream",
     "text": [
      "Full report - group B\n"
     ]
    },
    {
     "data": {
      "text/html": [
       "<div>\n",
       "<style scoped>\n",
       "    .dataframe tbody tr th:only-of-type {\n",
       "        vertical-align: middle;\n",
       "    }\n",
       "\n",
       "    .dataframe tbody tr th {\n",
       "        vertical-align: top;\n",
       "    }\n",
       "\n",
       "    .dataframe thead th {\n",
       "        text-align: right;\n",
       "    }\n",
       "</style>\n",
       "<table border=\"1\" class=\"dataframe\">\n",
       "  <thead>\n",
       "    <tr style=\"text-align: right;\">\n",
       "      <th></th>\n",
       "      <th>event_name</th>\n",
       "      <th>event_numbers</th>\n",
       "      <th>user_numbers</th>\n",
       "      <th>CR</th>\n",
       "      <th>CR_step, %</th>\n",
       "    </tr>\n",
       "  </thead>\n",
       "  <tbody>\n",
       "    <tr>\n",
       "      <th>0</th>\n",
       "      <td>login</td>\n",
       "      <td>2148</td>\n",
       "      <td>761</td>\n",
       "      <td>31.974790</td>\n",
       "      <td>100.0</td>\n",
       "    </tr>\n",
       "    <tr>\n",
       "      <th>1</th>\n",
       "      <td>product_page</td>\n",
       "      <td>1163</td>\n",
       "      <td>431</td>\n",
       "      <td>18.109244</td>\n",
       "      <td>56.6</td>\n",
       "    </tr>\n",
       "    <tr>\n",
       "      <th>2</th>\n",
       "      <td>product_cart</td>\n",
       "      <td>584</td>\n",
       "      <td>214</td>\n",
       "      <td>8.991597</td>\n",
       "      <td>49.7</td>\n",
       "    </tr>\n",
       "    <tr>\n",
       "      <th>3</th>\n",
       "      <td>purchase</td>\n",
       "      <td>590</td>\n",
       "      <td>221</td>\n",
       "      <td>9.285714</td>\n",
       "      <td>103.3</td>\n",
       "    </tr>\n",
       "  </tbody>\n",
       "</table>\n",
       "</div>"
      ],
      "text/plain": [
       "     event_name  event_numbers  user_numbers         CR  CR_step, %\n",
       "0         login           2148           761  31.974790       100.0\n",
       "1  product_page           1163           431  18.109244        56.6\n",
       "2  product_cart            584           214   8.991597        49.7\n",
       "3      purchase            590           221   9.285714       103.3"
      ]
     },
     "metadata": {},
     "output_type": "display_data"
    }
   ],
   "source": [
    "reportA = event_countA.merge(users_count_A, on = ['event_name'], how = 'left')\n",
    "reportB = event_countB.merge(users_count_B, on = ['event_name'], how = 'left')\n",
    "\n",
    "print('Full report - group A')\n",
    "display(reportA)\n",
    "\n",
    "print('Full report - group B')\n",
    "display(reportB)"
   ]
  },
  {
   "cell_type": "markdown",
   "metadata": {},
   "source": [
    "Построю воронки событий"
   ]
  },
  {
   "cell_type": "code",
   "execution_count": 37,
   "metadata": {},
   "outputs": [
    {
     "data": {
      "image/png": "[encoded data removed]",
      "text/plain": [
       "<Figure size 864x432 with 1 Axes>"
      ]
     },
     "metadata": {
      "needs_background": "light"
     },
     "output_type": "display_data"
    },
    {
     "data": {
      "image/png": "[encoded data removed]",
      "text/plain": [
       "<Figure size 864x432 with 1 Axes>"
      ]
     },
     "metadata": {
      "needs_background": "light"
     },
     "output_type": "display_data"
    }
   ],
   "source": [
    "def get_funnel(x, y, labels, group_name):\n",
    "    '''\n",
    "    Function for visualization of marketing funnel\n",
    "    x : Int\n",
    "        Numbers of events in funnel\n",
    "    y : Float\n",
    "        % of conversion\n",
    "    labels : Objects\n",
    "        Names of events\n",
    "    group_name : Obgects\n",
    "        Title for funnel\n",
    "    '''\n",
    "    \n",
    "    x_max = 100\n",
    "    x_min = 0\n",
    "    x_range = x_max - x_min\n",
    "\n",
    "    fig, ax = plt.subplots(1, figsize=(12,6))\n",
    "    for idx, val in enumerate(x):\n",
    "        left = (x_range - val)/2\n",
    "        plt.barh(y[idx], x[idx], left      = left     , \n",
    "                                 color     = '#808B96',\n",
    "                                 height    = 0.8      , \n",
    "                                 edgecolor = 'black'  )\n",
    "        # label\n",
    "        plt.text(50, y[idx]+0.1, labels[idx], ha       = 'center' ,\n",
    "                                              fontsize = 16       ,\n",
    "                                              color    = '#2A2A2A')\n",
    "        # value\n",
    "        plt.text(50, y[idx]-0.3, x[idx], ha       = 'center' , \n",
    "                                         fontsize = 16       ,\n",
    "                                         color    = '#2A2A2A')\n",
    "\n",
    "        if idx != len(x)-1:\n",
    "            next_left = (x_range - x[idx + 1]) / 2\n",
    "            shadow_x  = [left, next_left, \n",
    "                         100 - next_left, 100 - left, left]\n",
    "\n",
    "            shadow_y  = [y[idx] - 0.4    , y[idx + 1] + 0.4, \n",
    "                         y[idx + 1] + 0.4, y[idx] - 0.4, y[idx] - 0.4]\n",
    "            plt.plot(shadow_x, shadow_y)\n",
    "    plt.xlim(x_min, x_max)\n",
    "    plt.axis('off')\n",
    "    plt.title(group_name, loc = 'center', fontsize = 24, color = '#2A2A2A')\n",
    "    plt.show()\n",
    "    \n",
    "    \n",
    "# Get data for funnel \n",
    "y      = [4, 3  ,  2  ,  1  ]\n",
    "\n",
    "# Group A\n",
    "x1      = reportA['CR'].round(1)\n",
    "labels1 = reportA['event_name']\n",
    "get_funnel(x1, y, labels1, 'Marketing funnel - group A')\n",
    "\n",
    "# Group B\n",
    "x2      = reportB['CR'].round(1)\n",
    "labels2 = reportB['event_name']\n",
    "get_funnel(x2, y, labels2, 'Marketing funnel - group B')  "
   ]
  },
  {
   "cell_type": "markdown",
   "metadata": {},
   "source": [
    "*Вывод:* Только половина пользователей совершают покупку, при этом ожидаемого повышения покупательской способности с вводом новой системы рекомендаций выявить не удалось."
   ]
  },
  {
   "cell_type": "markdown",
   "metadata": {},
   "source": [
    "#### Изучение результатов экспериментов:"
   ]
  },
  {
   "cell_type": "code",
   "execution_count": 38,
   "metadata": {},
   "outputs": [
    {
     "data": {
      "text/html": [
       "<div>\n",
       "<style scoped>\n",
       "    .dataframe tbody tr th:only-of-type {\n",
       "        vertical-align: middle;\n",
       "    }\n",
       "\n",
       "    .dataframe tbody tr th {\n",
       "        vertical-align: top;\n",
       "    }\n",
       "\n",
       "    .dataframe thead th {\n",
       "        text-align: right;\n",
       "    }\n",
       "</style>\n",
       "<table border=\"1\" class=\"dataframe\">\n",
       "  <thead>\n",
       "    <tr style=\"text-align: right;\">\n",
       "      <th></th>\n",
       "      <th>group</th>\n",
       "      <th>users</th>\n",
       "      <th>users %</th>\n",
       "    </tr>\n",
       "  </thead>\n",
       "  <tbody>\n",
       "    <tr>\n",
       "      <th>0</th>\n",
       "      <td>a</td>\n",
       "      <td>3195</td>\n",
       "      <td>57.3</td>\n",
       "    </tr>\n",
       "    <tr>\n",
       "      <th>1</th>\n",
       "      <td>b</td>\n",
       "      <td>2380</td>\n",
       "      <td>42.7</td>\n",
       "    </tr>\n",
       "  </tbody>\n",
       "</table>\n",
       "</div>"
      ],
      "text/plain": [
       "  group  users  users %\n",
       "0     a   3195     57.3\n",
       "1     b   2380     42.7"
      ]
     },
     "execution_count": 38,
     "metadata": {},
     "output_type": "execute_result"
    }
   ],
   "source": [
    "group_members = (df_final_eu.groupby('group')\n",
    "                            .agg({'user_id':'nunique'})\n",
    "                            .rename(columns = {'user_id': 'users'})\n",
    "                            .reset_index()\n",
    "                )\n",
    "\n",
    "group_members['users %'] = ((group_members['users'] / df_final_eu['user_id'].nunique()) * 100).round(1)\n",
    "group_members"
   ]
  },
  {
   "cell_type": "markdown",
   "metadata": {},
   "source": [
    "Вывод: Количество участников в каждой группе абсолютно разное. В контрольной группe, использующей старую систему рекомендаций, количество участников 3195 (57.3%). В экспериментальную группу попало намного меньше участников - 2380 (42.7%). На мой взгляд, такой распределение не является эффективным, поскольку превалирующее количество участников в одной группе может привести к дибалансу эксперимента и провалу теста. Кроме того, в результате такого теста мы можем получить недостоверные результаты."
   ]
  },
  {
   "cell_type": "markdown",
   "metadata": {},
   "source": [
    "#### A/B тест"
   ]
  },
  {
   "cell_type": "code",
   "execution_count": 39,
   "metadata": {},
   "outputs": [],
   "source": [
    "# Function for calculation of conversion for each group\n",
    "def get_group_conversion(df):\n",
    "    '''\n",
    "    df - DataFrame\n",
    "        The data from the research group\n",
    "    return: funnel - DataFrame\n",
    "    \n",
    "    '''\n",
    "    funnel = (df\n",
    "               .groupby('event_name')\n",
    "               .agg({'user_id': 'nunique'})\n",
    "               .sort_values(by = 'user_id', ascending = False)\n",
    "               .rename(columns = {'user_id' : 'user_numbers'})\n",
    "             ).reset_index()\n",
    "\n",
    "    funnel['tot_users'] = df['user_id'].nunique()\n",
    "    funnel['CR']        = (funnel['user_numbers'] / funnel['tot_users'])* 100\n",
    "    return funnel"
   ]
  },
  {
   "cell_type": "code",
   "execution_count": 40,
   "metadata": {},
   "outputs": [],
   "source": [
    "# Function for calculation of z-tests\n",
    "def get_z_test(df1, df2, alpha, event):\n",
    "    '''\n",
    "    df1 - DataFrame\n",
    "        The first group data\n",
    "    df2 - DataFrame\n",
    "        The second group data\n",
    "    alpha - Float\n",
    "       критический уровень статистической значимости \n",
    "    event - Objects\n",
    "        the name of the event\n",
    "    '''\n",
    "    # Numbers of people in each step\n",
    "    successes = np.array([df1.loc[df1.loc[:, 'event_name'] == event]['user_numbers'].values,\n",
    "                          df2.loc[df2.loc[:, 'event_name'] == event]['user_numbers'].values])\n",
    "\n",
    "    # Total numbers\n",
    "    trials    = np.array([df1.loc[df1.loc[:, 'event_name'] == event]['tot_users'].values,\n",
    "                          df2.loc[df2.loc[:, 'event_name'] == event]['tot_users'].values])\n",
    "\n",
    "    # пропорция успехов в первой и второй группе:\n",
    "    p1 = successes[0] / trials[0]\n",
    "    p2 = successes[1] / trials[1]\n",
    "    \n",
    "\n",
    "    # пропорция успехов в комбинированном датасете:\n",
    "    p_combined = (successes[0] + successes[1]) / (trials[0] + trials[1])\n",
    "\n",
    "    # разница пропорций в датасетах\n",
    "    difference = p1 - p2 \n",
    "\n",
    "    # считаем статистику в ст.отклонениях стандартного нормального распределения\n",
    "    z_value = difference / mth.sqrt(p_combined * (1 - p_combined) * (1 / trials[0] + 1 / trials[1]))\n",
    "\n",
    "    \n",
    "    # задаем стандартное нормальное распределение (среднее 0, ст.отклонение 1)\n",
    "    distr = st.norm(0, 1)  \n",
    "\n",
    "    # считаем p_value\n",
    "    p_value = (1 - distr.cdf(abs(z_value))) * 2\n",
    "\n",
    "    print('p-значение: ', p_value)\n",
    "\n",
    "    if p_value < alpha:\n",
    "        print('Отвергаем нулевую гипотезу: между долями есть значимая разница')\n",
    "    else:\n",
    "        print('Не получилось отвергнуть нулевую гипотезу, нет оснований считать доли разными') "
   ]
  },
  {
   "cell_type": "markdown",
   "metadata": {},
   "source": [
    "Изучим, изменилось ли что-то после внедрения новой системы рекомендаций или все осталось примерно также. Кроме того, проверим, есть ли разница между группами по статистическим критериям и разница между группой для исследования и контрольной группой. "
   ]
  },
  {
   "cell_type": "markdown",
   "metadata": {},
   "source": [
    "1. **z - тест**"
   ]
  },
  {
   "cell_type": "markdown",
   "metadata": {},
   "source": [
    "Определим конверсии для каждой из групп для того, чтобы выполнить проверку с использованием **z теста**. "
   ]
  },
  {
   "cell_type": "code",
   "execution_count": 41,
   "metadata": {},
   "outputs": [
    {
     "name": "stdout",
     "output_type": "stream",
     "text": [
      "Control group A\n"
     ]
    },
    {
     "data": {
      "text/html": [
       "<div>\n",
       "<style scoped>\n",
       "    .dataframe tbody tr th:only-of-type {\n",
       "        vertical-align: middle;\n",
       "    }\n",
       "\n",
       "    .dataframe tbody tr th {\n",
       "        vertical-align: top;\n",
       "    }\n",
       "\n",
       "    .dataframe thead th {\n",
       "        text-align: right;\n",
       "    }\n",
       "</style>\n",
       "<table border=\"1\" class=\"dataframe\">\n",
       "  <thead>\n",
       "    <tr style=\"text-align: right;\">\n",
       "      <th></th>\n",
       "      <th>event_name</th>\n",
       "      <th>user_numbers</th>\n",
       "      <th>tot_users</th>\n",
       "      <th>CR</th>\n",
       "    </tr>\n",
       "  </thead>\n",
       "  <tbody>\n",
       "    <tr>\n",
       "      <th>0</th>\n",
       "      <td>login</td>\n",
       "      <td>2279</td>\n",
       "      <td>3195</td>\n",
       "      <td>71.330203</td>\n",
       "    </tr>\n",
       "    <tr>\n",
       "      <th>1</th>\n",
       "      <td>product_page</td>\n",
       "      <td>1476</td>\n",
       "      <td>3195</td>\n",
       "      <td>46.197183</td>\n",
       "    </tr>\n",
       "    <tr>\n",
       "      <th>2</th>\n",
       "      <td>purchase</td>\n",
       "      <td>734</td>\n",
       "      <td>3195</td>\n",
       "      <td>22.973396</td>\n",
       "    </tr>\n",
       "    <tr>\n",
       "      <th>3</th>\n",
       "      <td>product_cart</td>\n",
       "      <td>686</td>\n",
       "      <td>3195</td>\n",
       "      <td>21.471049</td>\n",
       "    </tr>\n",
       "  </tbody>\n",
       "</table>\n",
       "</div>"
      ],
      "text/plain": [
       "     event_name  user_numbers  tot_users         CR\n",
       "0         login          2279       3195  71.330203\n",
       "1  product_page          1476       3195  46.197183\n",
       "2      purchase           734       3195  22.973396\n",
       "3  product_cart           686       3195  21.471049"
      ]
     },
     "execution_count": 41,
     "metadata": {},
     "output_type": "execute_result"
    }
   ],
   "source": [
    "# Get funnel for group A\n",
    "funnel_A = get_group_conversion(groupA)\n",
    "print('Control group A')\n",
    "funnel_A"
   ]
  },
  {
   "cell_type": "code",
   "execution_count": 42,
   "metadata": {},
   "outputs": [
    {
     "name": "stdout",
     "output_type": "stream",
     "text": [
      "Control group B\n"
     ]
    },
    {
     "data": {
      "text/html": [
       "<div>\n",
       "<style scoped>\n",
       "    .dataframe tbody tr th:only-of-type {\n",
       "        vertical-align: middle;\n",
       "    }\n",
       "\n",
       "    .dataframe tbody tr th {\n",
       "        vertical-align: top;\n",
       "    }\n",
       "\n",
       "    .dataframe thead th {\n",
       "        text-align: right;\n",
       "    }\n",
       "</style>\n",
       "<table border=\"1\" class=\"dataframe\">\n",
       "  <thead>\n",
       "    <tr style=\"text-align: right;\">\n",
       "      <th></th>\n",
       "      <th>event_name</th>\n",
       "      <th>user_numbers</th>\n",
       "      <th>tot_users</th>\n",
       "      <th>CR</th>\n",
       "    </tr>\n",
       "  </thead>\n",
       "  <tbody>\n",
       "    <tr>\n",
       "      <th>0</th>\n",
       "      <td>login</td>\n",
       "      <td>761</td>\n",
       "      <td>2380</td>\n",
       "      <td>31.974790</td>\n",
       "    </tr>\n",
       "    <tr>\n",
       "      <th>1</th>\n",
       "      <td>product_page</td>\n",
       "      <td>431</td>\n",
       "      <td>2380</td>\n",
       "      <td>18.109244</td>\n",
       "    </tr>\n",
       "    <tr>\n",
       "      <th>2</th>\n",
       "      <td>purchase</td>\n",
       "      <td>221</td>\n",
       "      <td>2380</td>\n",
       "      <td>9.285714</td>\n",
       "    </tr>\n",
       "    <tr>\n",
       "      <th>3</th>\n",
       "      <td>product_cart</td>\n",
       "      <td>214</td>\n",
       "      <td>2380</td>\n",
       "      <td>8.991597</td>\n",
       "    </tr>\n",
       "  </tbody>\n",
       "</table>\n",
       "</div>"
      ],
      "text/plain": [
       "     event_name  user_numbers  tot_users         CR\n",
       "0         login           761       2380  31.974790\n",
       "1  product_page           431       2380  18.109244\n",
       "2      purchase           221       2380   9.285714\n",
       "3  product_cart           214       2380   8.991597"
      ]
     },
     "execution_count": 42,
     "metadata": {},
     "output_type": "execute_result"
    }
   ],
   "source": [
    "# Get funnel for group B\n",
    "funnel_B = get_group_conversion(groupB)\n",
    "print('Control group B')\n",
    "funnel_B"
   ]
  },
  {
   "cell_type": "markdown",
   "metadata": {},
   "source": [
    "Проверим равенство пропорций для первой и второй контрольной группы:"
   ]
  },
  {
   "cell_type": "markdown",
   "metadata": {},
   "source": [
    "**Нулевая гипотеза:** Доля клиентов, посетивших главную страницу приложения (страницу предложений, выполнивших оплату), из контрольной группы A равна доле клиентов из контрольной группы B. **Альтернативная гипотеза:** пропорция одной из групп больше или меньше другой."
   ]
  },
  {
   "cell_type": "code",
   "execution_count": 43,
   "metadata": {},
   "outputs": [
    {
     "name": "stdout",
     "output_type": "stream",
     "text": [
      "p-значение:  [0.]\n",
      "Отвергаем нулевую гипотезу: между долями есть значимая разница\n",
      "p-значение:  [0.]\n",
      "Отвергаем нулевую гипотезу: между долями есть значимая разница\n",
      "p-значение:  [0.]\n",
      "Отвергаем нулевую гипотезу: между долями есть значимая разница\n",
      "p-значение:  [0.]\n",
      "Отвергаем нулевую гипотезу: между долями есть значимая разница\n"
     ]
    }
   ],
   "source": [
    "# login\n",
    "get_z_test(funnel_A, funnel_B, 0.05, 'login'       )\n",
    "# product_page\n",
    "get_z_test(funnel_A, funnel_B, 0.05, 'product_page')\n",
    "# product_cart\n",
    "get_z_test(funnel_A, funnel_B, 0.05, 'product_cart')\n",
    "# purchase\n",
    "get_z_test(funnel_A, funnel_B, 0.05, 'purchase'    )"
   ]
  },
  {
   "cell_type": "markdown",
   "metadata": {},
   "source": [
    "**Вывод:** На основании *z теста* удалось установить, что нет разницы между пропорциями контрольных групп A и B по 3 из четырех событий. Разницу удалось зафиксировать только для события **product_page**."
   ]
  },
  {
   "cell_type": "markdown",
   "metadata": {},
   "source": [
    "Дополнительно выполню проверку на ложнопозитивный результат. У нас есть 4 гипотезы, которые я проверяю. Соответственно из формулы:\n",
    "![Bof](https://pictures.s3.yandex.net/resources/Untitled-f33fc295-f007-4b31-b2dd-89ee237989d1_1569201056.png)"
   ]
  },
  {
   "cell_type": "markdown",
   "metadata": {},
   "source": [
    "я получаю 0.05 / 4 = 0.0125. Соответственно, я должен понизить уровень значимости, чтобы исключить эффект ложнопозитивного результата при множественном тестировании гипотез."
   ]
  },
  {
   "cell_type": "code",
   "execution_count": 44,
   "metadata": {},
   "outputs": [
    {
     "name": "stdout",
     "output_type": "stream",
     "text": [
      "p-значение:  [0.]\n",
      "Отвергаем нулевую гипотезу: между долями есть значимая разница\n",
      "p-значение:  [0.]\n",
      "Отвергаем нулевую гипотезу: между долями есть значимая разница\n",
      "p-значение:  [0.]\n",
      "Отвергаем нулевую гипотезу: между долями есть значимая разница\n",
      "p-значение:  [0.]\n",
      "Отвергаем нулевую гипотезу: между долями есть значимая разница\n"
     ]
    }
   ],
   "source": [
    "# login\n",
    "get_z_test(funnel_A, funnel_B, 0.0125, 'login'       )\n",
    "# product_page\n",
    "get_z_test(funnel_A, funnel_B, 0.0125, 'product_page')\n",
    "# product_cart\n",
    "get_z_test(funnel_A, funnel_B, 0.0125, 'product_cart')\n",
    "# purchase\n",
    "get_z_test(funnel_A, funnel_B, 0.0125, 'purchase'    )"
   ]
  },
  {
   "cell_type": "markdown",
   "metadata": {},
   "source": [
    "Теперь, скорректировав уровень значимости, я могу с уверенностью сказать, что нет особой разницы между пользователями, использующими новую и старую системы рекомендаций для посещения главной страницы приложения и оплативших ее."
   ]
  },
  {
   "cell_type": "markdown",
   "metadata": {},
   "source": [
    "## Общий вывод по работе"
   ]
  },
  {
   "cell_type": "markdown",
   "metadata": {},
   "source": [
    "В результате анализа данных было установлено, что внедрение новой системы рекомендаций никак не влияет на количество посещений клиентами приложения. Наибольшее количество клиентов уходит после посещения главной страницы и не переходит к дальнейшим покупкам. Со страницы выбора продуктов только 50% совершают покупки, что является не очень эффективным.\n",
    "\n",
    "Соответственно, в качестве рекоммендации можно предположить, что проблема не в системе рекомендаций, а, скажем, в шрифтах страниц приложения или неудобной системе оплаты и т.д. Это требует дальнейшего анализа, кроме того, для более качественных результатов нужно использовать равномерное распределение пользователей по контрольным группам."
   ]
  },
  {
   "cell_type": "markdown",
   "metadata": {},
   "source": [
    "На данном этапе тест можно завершить. Отдельно отмечу, что часть данных, полученных в работе, не соответствует изначально поставленному техническому заданию.\n",
    "1. Ожидаемое количество участников теста: 6000. По факту имеем 5575 пользователей;\n",
    "2. Доля новых пользователей 13.2% вместо заявленых 15%;\n",
    "3. Дата остановки теста согласно ТЗ: `2021-01-04`; По факту последняя активность в **группе А** зафиксированна `2020-12-29`, а в **группе В** `2020-12-30`."
   ]
  }
 ],
 "metadata": {
  "ExecuteTimeLog": [
   {
    "duration": 1187,
    "start_time": "2022-04-30T10:25:36.926Z"
   },
   {
    "duration": 212,
    "start_time": "2022-04-30T10:25:53.033Z"
   },
   {
    "duration": 3,
    "start_time": "2022-04-30T10:26:02.019Z"
   },
   {
    "duration": 538,
    "start_time": "2022-04-30T10:26:02.788Z"
   },
   {
    "duration": 26,
    "start_time": "2022-04-30T10:26:51.716Z"
   },
   {
    "duration": 19,
    "start_time": "2022-04-30T10:34:32.408Z"
   },
   {
    "duration": 1054,
    "start_time": "2022-04-30T10:38:20.024Z"
   },
   {
    "duration": 641,
    "start_time": "2022-04-30T10:38:21.080Z"
   },
   {
    "duration": 29,
    "start_time": "2022-04-30T10:38:26.735Z"
   },
   {
    "duration": 7,
    "start_time": "2022-04-30T10:38:35.212Z"
   },
   {
    "duration": 11,
    "start_time": "2022-04-30T10:38:35.859Z"
   },
   {
    "duration": 22,
    "start_time": "2022-04-30T10:38:37.860Z"
   },
   {
    "duration": 69,
    "start_time": "2022-04-30T10:38:41.709Z"
   },
   {
    "duration": 476,
    "start_time": "2022-04-30T10:38:46.053Z"
   },
   {
    "duration": 10,
    "start_time": "2022-04-30T10:38:48.877Z"
   },
   {
    "duration": 56,
    "start_time": "2022-04-30T10:38:50.597Z"
   },
   {
    "duration": 369,
    "start_time": "2022-04-30T10:38:52.468Z"
   },
   {
    "duration": 3597,
    "start_time": "2022-04-30T10:38:54.158Z"
   },
   {
    "duration": 244,
    "start_time": "2022-04-30T10:38:57.757Z"
   },
   {
    "duration": 25,
    "start_time": "2022-04-30T10:38:59.052Z"
   },
   {
    "duration": 21,
    "start_time": "2022-04-30T10:39:01.947Z"
   },
   {
    "duration": 6,
    "start_time": "2022-04-30T10:39:14.149Z"
   },
   {
    "duration": 19,
    "start_time": "2022-04-30T10:39:15.581Z"
   },
   {
    "duration": 1066,
    "start_time": "2022-04-30T10:39:16.747Z"
   },
   {
    "duration": 6,
    "start_time": "2022-04-30T10:39:18.565Z"
   },
   {
    "duration": 7,
    "start_time": "2022-04-30T10:39:19.797Z"
   },
   {
    "duration": 25,
    "start_time": "2022-04-30T10:56:22.594Z"
   },
   {
    "duration": 1253,
    "start_time": "2022-04-30T10:56:31.618Z"
   },
   {
    "duration": 633,
    "start_time": "2022-04-30T10:56:32.873Z"
   },
   {
    "duration": 24,
    "start_time": "2022-04-30T10:56:35.345Z"
   },
   {
    "duration": 8,
    "start_time": "2022-04-30T10:56:45.195Z"
   },
   {
    "duration": 20,
    "start_time": "2022-04-30T10:56:47.682Z"
   },
   {
    "duration": 60,
    "start_time": "2022-04-30T10:57:00.163Z"
   },
   {
    "duration": 428,
    "start_time": "2022-04-30T10:57:17.239Z"
   },
   {
    "duration": 59,
    "start_time": "2022-04-30T10:57:32.363Z"
   },
   {
    "duration": 389,
    "start_time": "2022-04-30T10:57:36.979Z"
   },
   {
    "duration": 4162,
    "start_time": "2022-04-30T10:58:59.571Z"
   },
   {
    "duration": 250,
    "start_time": "2022-04-30T10:59:07.611Z"
   },
   {
    "duration": 152,
    "start_time": "2022-04-30T11:01:16.730Z"
   },
   {
    "duration": 35,
    "start_time": "2022-04-30T11:02:04.940Z"
   },
   {
    "duration": 33,
    "start_time": "2022-04-30T11:06:27.838Z"
   },
   {
    "duration": 28,
    "start_time": "2022-04-30T11:07:34.355Z"
   },
   {
    "duration": 11,
    "start_time": "2022-04-30T11:08:17.971Z"
   },
   {
    "duration": 4,
    "start_time": "2022-04-30T11:08:46.899Z"
   },
   {
    "duration": 1261,
    "start_time": "2022-04-30T11:09:17.863Z"
   },
   {
    "duration": 805,
    "start_time": "2022-04-30T11:09:19.126Z"
   },
   {
    "duration": 28,
    "start_time": "2022-04-30T11:09:19.933Z"
   },
   {
    "duration": 7,
    "start_time": "2022-04-30T11:09:19.963Z"
   },
   {
    "duration": 26,
    "start_time": "2022-04-30T11:09:19.972Z"
   },
   {
    "duration": 106,
    "start_time": "2022-04-30T11:09:19.999Z"
   },
   {
    "duration": 682,
    "start_time": "2022-04-30T11:09:20.107Z"
   },
   {
    "duration": 76,
    "start_time": "2022-04-30T11:09:20.790Z"
   },
   {
    "duration": 602,
    "start_time": "2022-04-30T11:09:20.868Z"
   },
   {
    "duration": 5561,
    "start_time": "2022-04-30T11:09:21.472Z"
   },
   {
    "duration": 244,
    "start_time": "2022-04-30T11:09:27.035Z"
   },
   {
    "duration": 30,
    "start_time": "2022-04-30T11:09:27.280Z"
   },
   {
    "duration": 39,
    "start_time": "2022-04-30T11:09:27.312Z"
   },
   {
    "duration": 20,
    "start_time": "2022-04-30T11:09:43.041Z"
   },
   {
    "duration": 29,
    "start_time": "2022-04-30T11:09:46.305Z"
   },
   {
    "duration": 5859,
    "start_time": "2022-04-30T14:22:00.335Z"
   },
   {
    "duration": 8,
    "start_time": "2022-04-30T14:22:31.031Z"
   },
   {
    "duration": 3,
    "start_time": "2022-04-30T14:23:20.758Z"
   },
   {
    "duration": 3,
    "start_time": "2022-04-30T14:23:27.663Z"
   },
   {
    "duration": 6289,
    "start_time": "2022-04-30T14:25:18.191Z"
   },
   {
    "duration": 6129,
    "start_time": "2022-04-30T14:25:45.126Z"
   },
   {
    "duration": 6220,
    "start_time": "2022-04-30T14:26:11.559Z"
   },
   {
    "duration": 6171,
    "start_time": "2022-04-30T14:26:30.736Z"
   },
   {
    "duration": 6121,
    "start_time": "2022-04-30T14:27:20.303Z"
   },
   {
    "duration": 121,
    "start_time": "2022-04-30T14:29:27.524Z"
   },
   {
    "duration": 4553,
    "start_time": "2022-04-30T14:29:34.904Z"
   },
   {
    "duration": 7,
    "start_time": "2022-04-30T14:30:15.135Z"
   },
   {
    "duration": 10,
    "start_time": "2022-04-30T14:30:19.607Z"
   },
   {
    "duration": 12,
    "start_time": "2022-04-30T14:39:42.599Z"
   },
   {
    "duration": 10,
    "start_time": "2022-04-30T14:39:52.450Z"
   },
   {
    "duration": 16,
    "start_time": "2022-04-30T14:40:05.551Z"
   },
   {
    "duration": 120,
    "start_time": "2022-04-30T14:50:16.335Z"
   },
   {
    "duration": 5,
    "start_time": "2022-04-30T14:51:50.295Z"
   },
   {
    "duration": 4,
    "start_time": "2022-04-30T14:52:03.255Z"
   },
   {
    "duration": 7,
    "start_time": "2022-04-30T14:52:20.567Z"
   },
   {
    "duration": 12,
    "start_time": "2022-04-30T14:52:24.255Z"
   },
   {
    "duration": 12,
    "start_time": "2022-04-30T14:54:16.703Z"
   },
   {
    "duration": 11,
    "start_time": "2022-04-30T14:54:40.559Z"
   },
   {
    "duration": 10,
    "start_time": "2022-04-30T14:54:41.358Z"
   },
   {
    "duration": 75,
    "start_time": "2022-04-30T14:56:35.087Z"
   },
   {
    "duration": 46,
    "start_time": "2022-04-30T14:56:52.830Z"
   },
   {
    "duration": 267,
    "start_time": "2022-04-30T14:59:18.120Z"
   },
   {
    "duration": 20,
    "start_time": "2022-04-30T15:00:45.851Z"
   },
   {
    "duration": 13,
    "start_time": "2022-04-30T15:01:04.440Z"
   },
   {
    "duration": 41,
    "start_time": "2022-04-30T15:11:50.247Z"
   },
   {
    "duration": 19,
    "start_time": "2022-04-30T15:12:11.303Z"
   },
   {
    "duration": 1069,
    "start_time": "2022-04-30T15:12:37.049Z"
   },
   {
    "duration": 593,
    "start_time": "2022-04-30T15:12:38.121Z"
   },
   {
    "duration": 22,
    "start_time": "2022-04-30T15:12:38.716Z"
   },
   {
    "duration": 7,
    "start_time": "2022-04-30T15:12:38.739Z"
   },
   {
    "duration": 28,
    "start_time": "2022-04-30T15:12:38.748Z"
   },
   {
    "duration": 83,
    "start_time": "2022-04-30T15:12:38.778Z"
   },
   {
    "duration": 461,
    "start_time": "2022-04-30T15:12:38.863Z"
   },
   {
    "duration": 51,
    "start_time": "2022-04-30T15:12:39.325Z"
   },
   {
    "duration": 428,
    "start_time": "2022-04-30T15:12:39.378Z"
   },
   {
    "duration": 3438,
    "start_time": "2022-04-30T15:12:39.808Z"
   },
   {
    "duration": 236,
    "start_time": "2022-04-30T15:12:43.247Z"
   },
   {
    "duration": 42,
    "start_time": "2022-04-30T15:12:43.485Z"
   },
   {
    "duration": 25,
    "start_time": "2022-04-30T15:12:43.529Z"
   },
   {
    "duration": 19,
    "start_time": "2022-04-30T15:12:43.557Z"
   },
   {
    "duration": 58,
    "start_time": "2022-04-30T15:12:43.578Z"
   },
   {
    "duration": 4194,
    "start_time": "2022-04-30T15:12:43.638Z"
   },
   {
    "duration": 0,
    "start_time": "2022-04-30T15:12:47.834Z"
   },
   {
    "duration": 1007,
    "start_time": "2022-04-30T15:13:06.866Z"
   },
   {
    "duration": 636,
    "start_time": "2022-04-30T15:13:07.875Z"
   },
   {
    "duration": 31,
    "start_time": "2022-04-30T15:13:08.513Z"
   },
   {
    "duration": 6,
    "start_time": "2022-04-30T15:13:08.546Z"
   },
   {
    "duration": 24,
    "start_time": "2022-04-30T15:13:08.554Z"
   },
   {
    "duration": 86,
    "start_time": "2022-04-30T15:13:08.580Z"
   },
   {
    "duration": 535,
    "start_time": "2022-04-30T15:13:08.668Z"
   },
   {
    "duration": 66,
    "start_time": "2022-04-30T15:13:09.205Z"
   },
   {
    "duration": 378,
    "start_time": "2022-04-30T15:13:09.273Z"
   },
   {
    "duration": 3697,
    "start_time": "2022-04-30T15:13:09.655Z"
   },
   {
    "duration": 254,
    "start_time": "2022-04-30T15:13:13.354Z"
   },
   {
    "duration": 38,
    "start_time": "2022-04-30T15:13:13.610Z"
   },
   {
    "duration": 26,
    "start_time": "2022-04-30T15:13:13.650Z"
   },
   {
    "duration": 20,
    "start_time": "2022-04-30T15:13:13.678Z"
   },
   {
    "duration": 26,
    "start_time": "2022-04-30T15:13:13.723Z"
   },
   {
    "duration": 5161,
    "start_time": "2022-04-30T15:13:13.750Z"
   },
   {
    "duration": 96,
    "start_time": "2022-04-30T15:13:32.504Z"
   },
   {
    "duration": 44,
    "start_time": "2022-04-30T15:13:41.774Z"
   },
   {
    "duration": 178,
    "start_time": "2022-04-30T16:01:08.376Z"
   },
   {
    "duration": 255,
    "start_time": "2022-04-30T16:02:09.800Z"
   },
   {
    "duration": 173,
    "start_time": "2022-04-30T16:03:24.007Z"
   },
   {
    "duration": 58,
    "start_time": "2022-04-30T16:09:16.640Z"
   },
   {
    "duration": 17,
    "start_time": "2022-04-30T16:12:06.777Z"
   },
   {
    "duration": 15,
    "start_time": "2022-04-30T16:13:22.367Z"
   },
   {
    "duration": 21,
    "start_time": "2022-04-30T16:13:26.520Z"
   },
   {
    "duration": 8,
    "start_time": "2022-04-30T16:14:27.094Z"
   },
   {
    "duration": 17,
    "start_time": "2022-04-30T16:14:27.662Z"
   },
   {
    "duration": 1049,
    "start_time": "2022-04-30T16:14:35.393Z"
   },
   {
    "duration": 554,
    "start_time": "2022-04-30T16:14:36.444Z"
   },
   {
    "duration": 29,
    "start_time": "2022-04-30T16:14:37.000Z"
   },
   {
    "duration": 7,
    "start_time": "2022-04-30T16:14:37.030Z"
   },
   {
    "duration": 27,
    "start_time": "2022-04-30T16:14:37.039Z"
   },
   {
    "duration": 70,
    "start_time": "2022-04-30T16:14:37.068Z"
   },
   {
    "duration": 402,
    "start_time": "2022-04-30T16:14:37.139Z"
   },
   {
    "duration": 54,
    "start_time": "2022-04-30T16:14:37.542Z"
   },
   {
    "duration": 392,
    "start_time": "2022-04-30T16:14:37.598Z"
   },
   {
    "duration": 3361,
    "start_time": "2022-04-30T16:14:37.991Z"
   },
   {
    "duration": 233,
    "start_time": "2022-04-30T16:14:41.353Z"
   },
   {
    "duration": 42,
    "start_time": "2022-04-30T16:14:41.588Z"
   },
   {
    "duration": 24,
    "start_time": "2022-04-30T16:14:41.631Z"
   },
   {
    "duration": 19,
    "start_time": "2022-04-30T16:14:41.657Z"
   },
   {
    "duration": 50,
    "start_time": "2022-04-30T16:14:41.678Z"
   },
   {
    "duration": 4989,
    "start_time": "2022-04-30T16:14:41.729Z"
   },
   {
    "duration": 202,
    "start_time": "2022-04-30T16:14:46.724Z"
   },
   {
    "duration": 58,
    "start_time": "2022-04-30T16:14:46.928Z"
   },
   {
    "duration": 17,
    "start_time": "2022-04-30T16:14:54.036Z"
   },
   {
    "duration": 18,
    "start_time": "2022-04-30T16:14:54.756Z"
   },
   {
    "duration": 17,
    "start_time": "2022-04-30T16:16:28.404Z"
   },
   {
    "duration": 18,
    "start_time": "2022-04-30T16:16:28.978Z"
   },
   {
    "duration": 52,
    "start_time": "2022-04-30T16:16:42.835Z"
   },
   {
    "duration": 24,
    "start_time": "2022-04-30T16:18:13.037Z"
   },
   {
    "duration": 20,
    "start_time": "2022-04-30T16:19:07.753Z"
   },
   {
    "duration": 13,
    "start_time": "2022-04-30T16:19:13.009Z"
   },
   {
    "duration": 1234,
    "start_time": "2022-05-01T09:28:01.882Z"
   },
   {
    "duration": 826,
    "start_time": "2022-05-01T09:28:03.119Z"
   },
   {
    "duration": 26,
    "start_time": "2022-05-01T09:28:03.946Z"
   },
   {
    "duration": 8,
    "start_time": "2022-05-01T09:28:03.974Z"
   },
   {
    "duration": 36,
    "start_time": "2022-05-01T09:28:03.984Z"
   },
   {
    "duration": 86,
    "start_time": "2022-05-01T09:28:04.022Z"
   },
   {
    "duration": 450,
    "start_time": "2022-05-01T09:28:04.110Z"
   },
   {
    "duration": 73,
    "start_time": "2022-05-01T09:28:04.562Z"
   },
   {
    "duration": 412,
    "start_time": "2022-05-01T09:28:04.637Z"
   },
   {
    "duration": 3641,
    "start_time": "2022-05-01T09:28:05.052Z"
   },
   {
    "duration": 268,
    "start_time": "2022-05-01T09:28:08.695Z"
   },
   {
    "duration": 44,
    "start_time": "2022-05-01T09:28:08.965Z"
   },
   {
    "duration": 26,
    "start_time": "2022-05-01T09:28:09.011Z"
   },
   {
    "duration": 23,
    "start_time": "2022-05-01T09:28:09.039Z"
   },
   {
    "duration": 58,
    "start_time": "2022-05-01T09:28:09.063Z"
   },
   {
    "duration": 6499,
    "start_time": "2022-05-01T09:28:09.123Z"
   },
   {
    "duration": 963,
    "start_time": "2022-05-01T09:28:15.624Z"
   },
   {
    "duration": 7,
    "start_time": "2022-05-01T09:30:27.101Z"
   },
   {
    "duration": 9,
    "start_time": "2022-05-01T09:30:36.056Z"
   },
   {
    "duration": 1046,
    "start_time": "2022-05-01T09:31:49.798Z"
   },
   {
    "duration": 608,
    "start_time": "2022-05-01T09:31:50.846Z"
   },
   {
    "duration": 24,
    "start_time": "2022-05-01T09:31:51.456Z"
   },
   {
    "duration": 7,
    "start_time": "2022-05-01T09:31:51.482Z"
   },
   {
    "duration": 39,
    "start_time": "2022-05-01T09:31:51.491Z"
   },
   {
    "duration": 75,
    "start_time": "2022-05-01T09:31:51.532Z"
   },
   {
    "duration": 449,
    "start_time": "2022-05-01T09:31:51.609Z"
   },
   {
    "duration": 72,
    "start_time": "2022-05-01T09:31:52.059Z"
   },
   {
    "duration": 411,
    "start_time": "2022-05-01T09:31:52.133Z"
   },
   {
    "duration": 3672,
    "start_time": "2022-05-01T09:31:52.546Z"
   },
   {
    "duration": 259,
    "start_time": "2022-05-01T09:31:56.220Z"
   },
   {
    "duration": 43,
    "start_time": "2022-05-01T09:31:56.481Z"
   },
   {
    "duration": 27,
    "start_time": "2022-05-01T09:31:56.526Z"
   },
   {
    "duration": 21,
    "start_time": "2022-05-01T09:31:56.554Z"
   },
   {
    "duration": 54,
    "start_time": "2022-05-01T09:31:56.577Z"
   },
   {
    "duration": 5953,
    "start_time": "2022-05-01T09:31:56.633Z"
   },
   {
    "duration": 891,
    "start_time": "2022-05-01T09:32:02.587Z"
   },
   {
    "duration": 7,
    "start_time": "2022-05-01T09:32:03.479Z"
   },
   {
    "duration": 8,
    "start_time": "2022-05-01T09:32:08.180Z"
   },
   {
    "duration": 12,
    "start_time": "2022-05-01T09:32:37.182Z"
   },
   {
    "duration": 15,
    "start_time": "2022-05-01T09:33:21.140Z"
   },
   {
    "duration": 15,
    "start_time": "2022-05-01T09:33:28.810Z"
   },
   {
    "duration": 10,
    "start_time": "2022-05-01T09:33:43.639Z"
   },
   {
    "duration": 11,
    "start_time": "2022-05-01T09:34:45.871Z"
   },
   {
    "duration": 185,
    "start_time": "2022-05-01T09:35:12.538Z"
   },
   {
    "duration": 98,
    "start_time": "2022-05-01T09:35:39.017Z"
   },
   {
    "duration": 15,
    "start_time": "2022-05-01T09:35:47.514Z"
   },
   {
    "duration": 10,
    "start_time": "2022-05-01T09:36:37.718Z"
   },
   {
    "duration": 10,
    "start_time": "2022-05-01T09:36:44.483Z"
   },
   {
    "duration": 5,
    "start_time": "2022-05-01T09:36:58.077Z"
   },
   {
    "duration": 211,
    "start_time": "2022-05-01T09:38:25.131Z"
   },
   {
    "duration": 69,
    "start_time": "2022-05-01T09:38:34.268Z"
   },
   {
    "duration": 32,
    "start_time": "2022-05-01T09:38:44.987Z"
   },
   {
    "duration": 7,
    "start_time": "2022-05-01T09:39:02.271Z"
   },
   {
    "duration": 17,
    "start_time": "2022-05-01T09:41:19.409Z"
   },
   {
    "duration": 13,
    "start_time": "2022-05-01T09:43:12.102Z"
   },
   {
    "duration": 207,
    "start_time": "2022-05-01T09:46:22.022Z"
   },
   {
    "duration": 73,
    "start_time": "2022-05-01T09:46:35.848Z"
   },
   {
    "duration": 98,
    "start_time": "2022-05-01T09:46:48.157Z"
   },
   {
    "duration": 33,
    "start_time": "2022-05-01T09:46:59.605Z"
   },
   {
    "duration": 32,
    "start_time": "2022-05-01T09:47:05.124Z"
   },
   {
    "duration": 6,
    "start_time": "2022-05-01T09:47:14.972Z"
   },
   {
    "duration": 19,
    "start_time": "2022-05-01T09:48:07.258Z"
   },
   {
    "duration": 15,
    "start_time": "2022-05-01T09:51:03.229Z"
   },
   {
    "duration": 197,
    "start_time": "2022-05-01T09:53:31.909Z"
   },
   {
    "duration": 244,
    "start_time": "2022-05-01T09:54:31.932Z"
   },
   {
    "duration": 17,
    "start_time": "2022-05-01T09:55:29.667Z"
   },
   {
    "duration": 18,
    "start_time": "2022-05-01T09:56:24.837Z"
   },
   {
    "duration": 226,
    "start_time": "2022-05-01T09:57:18.123Z"
   },
   {
    "duration": 65,
    "start_time": "2022-05-01T09:57:26.622Z"
   },
   {
    "duration": 21,
    "start_time": "2022-05-01T09:57:41.968Z"
   },
   {
    "duration": 245,
    "start_time": "2022-05-01T09:59:14.089Z"
   },
   {
    "duration": 1046,
    "start_time": "2022-05-01T10:01:04.120Z"
   },
   {
    "duration": 662,
    "start_time": "2022-05-01T10:01:05.168Z"
   },
   {
    "duration": 25,
    "start_time": "2022-05-01T10:01:05.832Z"
   },
   {
    "duration": 8,
    "start_time": "2022-05-01T10:01:05.859Z"
   },
   {
    "duration": 43,
    "start_time": "2022-05-01T10:01:05.870Z"
   },
   {
    "duration": 68,
    "start_time": "2022-05-01T10:01:05.914Z"
   },
   {
    "duration": 480,
    "start_time": "2022-05-01T10:01:05.983Z"
   },
   {
    "duration": 74,
    "start_time": "2022-05-01T10:01:06.465Z"
   },
   {
    "duration": 423,
    "start_time": "2022-05-01T10:01:06.541Z"
   },
   {
    "duration": 3722,
    "start_time": "2022-05-01T10:01:06.966Z"
   },
   {
    "duration": 288,
    "start_time": "2022-05-01T10:01:10.689Z"
   },
   {
    "duration": 41,
    "start_time": "2022-05-01T10:01:10.979Z"
   },
   {
    "duration": 28,
    "start_time": "2022-05-01T10:01:11.022Z"
   },
   {
    "duration": 24,
    "start_time": "2022-05-01T10:01:11.053Z"
   },
   {
    "duration": 57,
    "start_time": "2022-05-01T10:01:11.078Z"
   },
   {
    "duration": 6324,
    "start_time": "2022-05-01T10:01:11.137Z"
   },
   {
    "duration": 234,
    "start_time": "2022-05-01T10:01:24.219Z"
   },
   {
    "duration": 64,
    "start_time": "2022-05-01T10:01:33.858Z"
   },
   {
    "duration": 21,
    "start_time": "2022-05-01T10:01:43.158Z"
   },
   {
    "duration": 13,
    "start_time": "2022-05-01T10:02:25.195Z"
   },
   {
    "duration": 14,
    "start_time": "2022-05-01T10:02:43.857Z"
   },
   {
    "duration": 1076,
    "start_time": "2022-05-01T10:03:28.272Z"
   },
   {
    "duration": 631,
    "start_time": "2022-05-01T10:03:29.350Z"
   },
   {
    "duration": 24,
    "start_time": "2022-05-01T10:03:29.983Z"
   },
   {
    "duration": 8,
    "start_time": "2022-05-01T10:03:30.009Z"
   },
   {
    "duration": 29,
    "start_time": "2022-05-01T10:03:30.019Z"
   },
   {
    "duration": 84,
    "start_time": "2022-05-01T10:03:30.049Z"
   },
   {
    "duration": 442,
    "start_time": "2022-05-01T10:03:30.135Z"
   },
   {
    "duration": 68,
    "start_time": "2022-05-01T10:03:30.579Z"
   },
   {
    "duration": 421,
    "start_time": "2022-05-01T10:03:30.649Z"
   },
   {
    "duration": 3698,
    "start_time": "2022-05-01T10:03:31.072Z"
   },
   {
    "duration": 258,
    "start_time": "2022-05-01T10:03:34.772Z"
   },
   {
    "duration": 30,
    "start_time": "2022-05-01T10:03:35.032Z"
   },
   {
    "duration": 43,
    "start_time": "2022-05-01T10:03:35.064Z"
   },
   {
    "duration": 22,
    "start_time": "2022-05-01T10:03:35.109Z"
   },
   {
    "duration": 26,
    "start_time": "2022-05-01T10:03:35.133Z"
   },
   {
    "duration": 5428,
    "start_time": "2022-05-01T10:03:35.161Z"
   },
   {
    "duration": 215,
    "start_time": "2022-05-01T10:03:45.852Z"
   },
   {
    "duration": 74,
    "start_time": "2022-05-01T10:03:48.704Z"
   },
   {
    "duration": 21,
    "start_time": "2022-05-01T10:03:54.434Z"
   },
   {
    "duration": 14,
    "start_time": "2022-05-01T10:03:58.492Z"
   },
   {
    "duration": 16,
    "start_time": "2022-05-01T10:04:03.132Z"
   },
   {
    "duration": 11,
    "start_time": "2022-05-01T10:07:45.966Z"
   },
   {
    "duration": 820,
    "start_time": "2022-05-01T10:09:22.782Z"
   },
   {
    "duration": 13,
    "start_time": "2022-05-01T10:10:07.813Z"
   },
   {
    "duration": 840,
    "start_time": "2022-05-01T10:10:15.693Z"
   },
   {
    "duration": 928,
    "start_time": "2022-05-01T10:10:56.612Z"
   },
   {
    "duration": 863,
    "start_time": "2022-05-01T10:11:19.072Z"
   },
   {
    "duration": 827,
    "start_time": "2022-05-01T10:11:32.292Z"
   },
   {
    "duration": 855,
    "start_time": "2022-05-01T10:12:04.688Z"
   },
   {
    "duration": 1096,
    "start_time": "2022-05-01T10:13:16.566Z"
   },
   {
    "duration": 669,
    "start_time": "2022-05-01T10:13:17.664Z"
   },
   {
    "duration": 25,
    "start_time": "2022-05-01T10:13:18.335Z"
   },
   {
    "duration": 7,
    "start_time": "2022-05-01T10:13:18.362Z"
   },
   {
    "duration": 43,
    "start_time": "2022-05-01T10:13:18.371Z"
   },
   {
    "duration": 72,
    "start_time": "2022-05-01T10:13:18.416Z"
   },
   {
    "duration": 455,
    "start_time": "2022-05-01T10:13:18.507Z"
   },
   {
    "duration": 76,
    "start_time": "2022-05-01T10:13:18.964Z"
   },
   {
    "duration": 426,
    "start_time": "2022-05-01T10:13:19.042Z"
   },
   {
    "duration": 3713,
    "start_time": "2022-05-01T10:13:19.470Z"
   },
   {
    "duration": 281,
    "start_time": "2022-05-01T10:13:23.184Z"
   },
   {
    "duration": 41,
    "start_time": "2022-05-01T10:13:23.467Z"
   },
   {
    "duration": 27,
    "start_time": "2022-05-01T10:13:23.510Z"
   },
   {
    "duration": 23,
    "start_time": "2022-05-01T10:13:23.540Z"
   },
   {
    "duration": 58,
    "start_time": "2022-05-01T10:13:23.565Z"
   },
   {
    "duration": 5435,
    "start_time": "2022-05-01T10:13:23.625Z"
   },
   {
    "duration": 120,
    "start_time": "2022-05-01T10:14:28.085Z"
   },
   {
    "duration": 783,
    "start_time": "2022-05-01T10:14:41.537Z"
   },
   {
    "duration": 10,
    "start_time": "2022-05-01T10:16:02.613Z"
   },
   {
    "duration": 4,
    "start_time": "2022-05-01T10:17:06.818Z"
   },
   {
    "duration": 7,
    "start_time": "2022-05-01T10:17:29.650Z"
   },
   {
    "duration": 7,
    "start_time": "2022-05-01T10:18:10.435Z"
   },
   {
    "duration": 260,
    "start_time": "2022-05-01T10:20:23.922Z"
   },
   {
    "duration": 85,
    "start_time": "2022-05-01T10:20:55.053Z"
   },
   {
    "duration": 19,
    "start_time": "2022-05-01T10:21:48.555Z"
   },
   {
    "duration": 16,
    "start_time": "2022-05-01T11:05:10.389Z"
   },
   {
    "duration": 16,
    "start_time": "2022-05-01T11:05:38.177Z"
   },
   {
    "duration": 28,
    "start_time": "2022-05-01T11:08:03.806Z"
   },
   {
    "duration": 1045,
    "start_time": "2022-05-01T11:09:15.856Z"
   },
   {
    "duration": 670,
    "start_time": "2022-05-01T11:09:16.903Z"
   },
   {
    "duration": 26,
    "start_time": "2022-05-01T11:09:17.574Z"
   },
   {
    "duration": 7,
    "start_time": "2022-05-01T11:09:17.609Z"
   },
   {
    "duration": 23,
    "start_time": "2022-05-01T11:09:17.618Z"
   },
   {
    "duration": 90,
    "start_time": "2022-05-01T11:09:17.643Z"
   },
   {
    "duration": 466,
    "start_time": "2022-05-01T11:09:17.735Z"
   },
   {
    "duration": 63,
    "start_time": "2022-05-01T11:09:18.208Z"
   },
   {
    "duration": 449,
    "start_time": "2022-05-01T11:09:18.273Z"
   },
   {
    "duration": 3749,
    "start_time": "2022-05-01T11:09:18.725Z"
   },
   {
    "duration": 266,
    "start_time": "2022-05-01T11:09:22.476Z"
   },
   {
    "duration": 31,
    "start_time": "2022-05-01T11:09:22.744Z"
   },
   {
    "duration": 42,
    "start_time": "2022-05-01T11:09:22.777Z"
   },
   {
    "duration": 31,
    "start_time": "2022-05-01T11:09:22.822Z"
   },
   {
    "duration": 53,
    "start_time": "2022-05-01T11:09:22.855Z"
   },
   {
    "duration": 5441,
    "start_time": "2022-05-01T11:09:22.910Z"
   },
   {
    "duration": 810,
    "start_time": "2022-05-01T11:09:28.353Z"
   },
   {
    "duration": 218,
    "start_time": "2022-05-01T11:09:29.165Z"
   },
   {
    "duration": 27,
    "start_time": "2022-05-01T11:09:29.385Z"
   },
   {
    "duration": 25,
    "start_time": "2022-05-01T11:09:41.894Z"
   },
   {
    "duration": 30,
    "start_time": "2022-05-01T11:10:52.178Z"
   },
   {
    "duration": 31,
    "start_time": "2022-05-01T11:11:55.364Z"
   },
   {
    "duration": 207,
    "start_time": "2022-05-01T11:20:27.878Z"
   },
   {
    "duration": 223,
    "start_time": "2022-05-01T11:20:40.432Z"
   },
   {
    "duration": 1052,
    "start_time": "2022-05-01T11:21:23.127Z"
   },
   {
    "duration": 666,
    "start_time": "2022-05-01T11:21:24.181Z"
   },
   {
    "duration": 25,
    "start_time": "2022-05-01T11:21:24.848Z"
   },
   {
    "duration": 7,
    "start_time": "2022-05-01T11:21:24.874Z"
   },
   {
    "duration": 36,
    "start_time": "2022-05-01T11:21:24.883Z"
   },
   {
    "duration": 65,
    "start_time": "2022-05-01T11:21:24.921Z"
   },
   {
    "duration": 442,
    "start_time": "2022-05-01T11:21:25.008Z"
   },
   {
    "duration": 74,
    "start_time": "2022-05-01T11:21:25.452Z"
   },
   {
    "duration": 419,
    "start_time": "2022-05-01T11:21:25.527Z"
   },
   {
    "duration": 3655,
    "start_time": "2022-05-01T11:21:25.948Z"
   },
   {
    "duration": 294,
    "start_time": "2022-05-01T11:21:29.604Z"
   },
   {
    "duration": 34,
    "start_time": "2022-05-01T11:21:29.907Z"
   },
   {
    "duration": 28,
    "start_time": "2022-05-01T11:21:29.943Z"
   },
   {
    "duration": 47,
    "start_time": "2022-05-01T11:21:29.973Z"
   },
   {
    "duration": 30,
    "start_time": "2022-05-01T11:21:30.022Z"
   },
   {
    "duration": 5375,
    "start_time": "2022-05-01T11:21:30.054Z"
   },
   {
    "duration": 814,
    "start_time": "2022-05-01T11:21:35.431Z"
   },
   {
    "duration": 227,
    "start_time": "2022-05-01T11:21:40.696Z"
   },
   {
    "duration": 19,
    "start_time": "2022-05-01T11:21:48.374Z"
   },
   {
    "duration": 93,
    "start_time": "2022-05-01T11:25:33.113Z"
   },
   {
    "duration": 1007,
    "start_time": "2022-05-01T11:25:50.432Z"
   },
   {
    "duration": 637,
    "start_time": "2022-05-01T11:25:51.441Z"
   },
   {
    "duration": 30,
    "start_time": "2022-05-01T11:25:52.080Z"
   },
   {
    "duration": 6,
    "start_time": "2022-05-01T11:25:52.112Z"
   },
   {
    "duration": 24,
    "start_time": "2022-05-01T11:25:52.121Z"
   },
   {
    "duration": 87,
    "start_time": "2022-05-01T11:25:52.147Z"
   },
   {
    "duration": 447,
    "start_time": "2022-05-01T11:25:52.236Z"
   },
   {
    "duration": 64,
    "start_time": "2022-05-01T11:25:52.685Z"
   },
   {
    "duration": 425,
    "start_time": "2022-05-01T11:25:52.751Z"
   },
   {
    "duration": 3701,
    "start_time": "2022-05-01T11:25:53.178Z"
   },
   {
    "duration": 275,
    "start_time": "2022-05-01T11:25:56.881Z"
   },
   {
    "duration": 33,
    "start_time": "2022-05-01T11:25:57.158Z"
   },
   {
    "duration": 42,
    "start_time": "2022-05-01T11:25:57.193Z"
   },
   {
    "duration": 24,
    "start_time": "2022-05-01T11:25:57.238Z"
   },
   {
    "duration": 60,
    "start_time": "2022-05-01T11:25:57.264Z"
   },
   {
    "duration": 5834,
    "start_time": "2022-05-01T11:25:57.326Z"
   },
   {
    "duration": 879,
    "start_time": "2022-05-01T11:26:03.162Z"
   },
   {
    "duration": 247,
    "start_time": "2022-05-01T11:26:04.044Z"
   },
   {
    "duration": 28,
    "start_time": "2022-05-01T11:26:04.293Z"
   },
   {
    "duration": 32,
    "start_time": "2022-05-01T11:26:04.323Z"
   },
   {
    "duration": 7,
    "start_time": "2022-05-01T11:26:13.662Z"
   },
   {
    "duration": 8,
    "start_time": "2022-05-01T11:26:40.800Z"
   },
   {
    "duration": 18,
    "start_time": "2022-05-01T11:27:09.226Z"
   },
   {
    "duration": 216,
    "start_time": "2022-05-01T11:27:33.764Z"
   },
   {
    "duration": 21,
    "start_time": "2022-05-01T11:27:37.012Z"
   },
   {
    "duration": 32,
    "start_time": "2022-05-01T11:27:38.304Z"
   },
   {
    "duration": 19,
    "start_time": "2022-05-01T11:27:40.409Z"
   },
   {
    "duration": 24,
    "start_time": "2022-05-01T11:28:06.237Z"
   },
   {
    "duration": 19,
    "start_time": "2022-05-01T11:32:54.170Z"
   },
   {
    "duration": 18,
    "start_time": "2022-05-01T11:35:07.392Z"
   },
   {
    "duration": 17,
    "start_time": "2022-05-01T11:36:30.391Z"
   },
   {
    "duration": 7,
    "start_time": "2022-05-01T11:38:48.454Z"
   },
   {
    "duration": 280,
    "start_time": "2022-05-01T11:39:11.341Z"
   },
   {
    "duration": 246,
    "start_time": "2022-05-01T11:39:33.445Z"
   },
   {
    "duration": 225,
    "start_time": "2022-05-01T11:39:45.163Z"
   },
   {
    "duration": 209,
    "start_time": "2022-05-01T11:39:58.372Z"
   },
   {
    "duration": 222,
    "start_time": "2022-05-01T11:40:05.121Z"
   },
   {
    "duration": 222,
    "start_time": "2022-05-01T11:40:12.630Z"
   },
   {
    "duration": 219,
    "start_time": "2022-05-01T11:41:03.873Z"
   },
   {
    "duration": 129,
    "start_time": "2022-05-01T11:42:11.293Z"
   },
   {
    "duration": 206,
    "start_time": "2022-05-01T11:42:24.510Z"
   },
   {
    "duration": 119,
    "start_time": "2022-05-01T11:42:32.943Z"
   },
   {
    "duration": 123,
    "start_time": "2022-05-01T11:42:40.332Z"
   },
   {
    "duration": 219,
    "start_time": "2022-05-01T11:44:53.552Z"
   },
   {
    "duration": 134,
    "start_time": "2022-05-01T11:48:33.811Z"
   },
   {
    "duration": 31,
    "start_time": "2022-05-01T11:51:51.658Z"
   },
   {
    "duration": 19,
    "start_time": "2022-05-01T11:52:13.857Z"
   },
   {
    "duration": 26,
    "start_time": "2022-05-01T11:54:19.924Z"
   },
   {
    "duration": 24,
    "start_time": "2022-05-01T11:54:47.347Z"
   },
   {
    "duration": 22,
    "start_time": "2022-05-01T11:59:09.597Z"
   },
   {
    "duration": 30,
    "start_time": "2022-05-01T11:59:54.757Z"
   },
   {
    "duration": 23,
    "start_time": "2022-05-01T12:00:20.129Z"
   },
   {
    "duration": 34,
    "start_time": "2022-05-01T12:00:34.106Z"
   },
   {
    "duration": 33,
    "start_time": "2022-05-01T12:00:47.231Z"
   },
   {
    "duration": 35,
    "start_time": "2022-05-01T12:00:54.620Z"
   },
   {
    "duration": 5,
    "start_time": "2022-05-01T12:02:13.380Z"
   },
   {
    "duration": 173,
    "start_time": "2022-05-01T12:04:59.893Z"
   },
   {
    "duration": 171,
    "start_time": "2022-05-01T12:05:06.480Z"
   },
   {
    "duration": 177,
    "start_time": "2022-05-01T12:05:16.423Z"
   },
   {
    "duration": 168,
    "start_time": "2022-05-01T12:05:29.622Z"
   },
   {
    "duration": 167,
    "start_time": "2022-05-01T12:05:51.108Z"
   },
   {
    "duration": 199,
    "start_time": "2022-05-01T12:05:56.638Z"
   },
   {
    "duration": 259,
    "start_time": "2022-05-01T12:06:05.694Z"
   },
   {
    "duration": 286,
    "start_time": "2022-05-01T12:06:47.665Z"
   },
   {
    "duration": 318,
    "start_time": "2022-05-01T12:07:36.299Z"
   },
   {
    "duration": 315,
    "start_time": "2022-05-01T12:08:19.204Z"
   },
   {
    "duration": 169,
    "start_time": "2022-05-01T12:08:49.520Z"
   },
   {
    "duration": 169,
    "start_time": "2022-05-01T12:08:53.975Z"
   },
   {
    "duration": 16,
    "start_time": "2022-05-01T12:09:01.960Z"
   },
   {
    "duration": 16,
    "start_time": "2022-05-01T12:09:04.753Z"
   },
   {
    "duration": 263,
    "start_time": "2022-05-01T12:09:12.547Z"
   },
   {
    "duration": 183,
    "start_time": "2022-05-01T12:09:19.410Z"
   },
   {
    "duration": 177,
    "start_time": "2022-05-01T12:09:25.820Z"
   },
   {
    "duration": 167,
    "start_time": "2022-05-01T12:09:30.137Z"
   },
   {
    "duration": 172,
    "start_time": "2022-05-01T12:09:34.919Z"
   },
   {
    "duration": 332,
    "start_time": "2022-05-01T12:11:16.005Z"
   },
   {
    "duration": 390,
    "start_time": "2022-05-01T12:11:26.110Z"
   },
   {
    "duration": 192,
    "start_time": "2022-05-01T12:12:31.557Z"
   },
   {
    "duration": 195,
    "start_time": "2022-05-01T12:12:41.675Z"
   },
   {
    "duration": 283,
    "start_time": "2022-05-01T12:13:00.534Z"
   },
   {
    "duration": 197,
    "start_time": "2022-05-01T12:13:10.254Z"
   },
   {
    "duration": 234,
    "start_time": "2022-05-01T12:14:09.731Z"
   },
   {
    "duration": 329,
    "start_time": "2022-05-01T12:16:12.491Z"
   },
   {
    "duration": 321,
    "start_time": "2022-05-01T12:16:21.722Z"
   },
   {
    "duration": 321,
    "start_time": "2022-05-01T12:17:26.441Z"
   },
   {
    "duration": 415,
    "start_time": "2022-05-01T12:17:53.165Z"
   },
   {
    "duration": 374,
    "start_time": "2022-05-01T12:18:05.503Z"
   },
   {
    "duration": 4,
    "start_time": "2022-05-01T12:18:41.909Z"
   },
   {
    "duration": 313,
    "start_time": "2022-05-01T12:18:42.432Z"
   },
   {
    "duration": 426,
    "start_time": "2022-05-01T12:19:04.205Z"
   },
   {
    "duration": 488,
    "start_time": "2022-05-01T12:19:10.248Z"
   },
   {
    "duration": 4,
    "start_time": "2022-05-01T12:19:37.348Z"
   },
   {
    "duration": 323,
    "start_time": "2022-05-01T12:19:42.205Z"
   },
   {
    "duration": 420,
    "start_time": "2022-05-01T12:20:11.656Z"
   },
   {
    "duration": 331,
    "start_time": "2022-05-01T12:20:17.849Z"
   },
   {
    "duration": 337,
    "start_time": "2022-05-01T12:20:23.210Z"
   },
   {
    "duration": 328,
    "start_time": "2022-05-01T12:20:34.877Z"
   },
   {
    "duration": 348,
    "start_time": "2022-05-01T12:20:41.319Z"
   },
   {
    "duration": 332,
    "start_time": "2022-05-01T12:22:35.929Z"
   },
   {
    "duration": 450,
    "start_time": "2022-05-01T12:23:27.465Z"
   },
   {
    "duration": 361,
    "start_time": "2022-05-01T12:23:34.994Z"
   },
   {
    "duration": 364,
    "start_time": "2022-05-01T12:24:34.655Z"
   },
   {
    "duration": 18,
    "start_time": "2022-05-01T12:26:23.862Z"
   },
   {
    "duration": 374,
    "start_time": "2022-05-01T12:27:39.283Z"
   },
   {
    "duration": 354,
    "start_time": "2022-05-01T12:27:49.981Z"
   },
   {
    "duration": 351,
    "start_time": "2022-05-01T12:27:56.483Z"
   },
   {
    "duration": 375,
    "start_time": "2022-05-01T12:28:16.667Z"
   },
   {
    "duration": 358,
    "start_time": "2022-05-01T12:28:36.256Z"
   },
   {
    "duration": 367,
    "start_time": "2022-05-01T12:29:44.127Z"
   },
   {
    "duration": 19,
    "start_time": "2022-05-01T12:30:58.428Z"
   },
   {
    "duration": 600,
    "start_time": "2022-05-01T12:31:08.045Z"
   },
   {
    "duration": 373,
    "start_time": "2022-05-01T12:31:22.461Z"
   },
   {
    "duration": 433,
    "start_time": "2022-05-01T12:32:20.302Z"
   },
   {
    "duration": 401,
    "start_time": "2022-05-01T12:33:20.596Z"
   },
   {
    "duration": 403,
    "start_time": "2022-05-01T12:34:39.406Z"
   },
   {
    "duration": 357,
    "start_time": "2022-05-01T12:34:59.572Z"
   },
   {
    "duration": 378,
    "start_time": "2022-05-01T12:35:09.694Z"
   },
   {
    "duration": 250,
    "start_time": "2022-05-01T12:36:29.734Z"
   },
   {
    "duration": 237,
    "start_time": "2022-05-01T12:37:39.206Z"
   },
   {
    "duration": 223,
    "start_time": "2022-05-01T12:38:26.637Z"
   },
   {
    "duration": 218,
    "start_time": "2022-05-01T12:38:32.749Z"
   },
   {
    "duration": 203,
    "start_time": "2022-05-01T12:38:41.912Z"
   },
   {
    "duration": 571,
    "start_time": "2022-05-01T12:38:51.185Z"
   },
   {
    "duration": 18,
    "start_time": "2022-05-01T12:45:40.742Z"
   },
   {
    "duration": 17,
    "start_time": "2022-05-01T12:46:17.484Z"
   },
   {
    "duration": 8,
    "start_time": "2022-05-01T12:46:43.300Z"
   },
   {
    "duration": 9,
    "start_time": "2022-05-01T12:48:12.669Z"
   },
   {
    "duration": 19,
    "start_time": "2022-05-01T12:52:08.048Z"
   },
   {
    "duration": 26,
    "start_time": "2022-05-01T12:52:23.402Z"
   },
   {
    "duration": 28,
    "start_time": "2022-05-01T12:54:21.042Z"
   },
   {
    "duration": 34,
    "start_time": "2022-05-01T12:54:32.445Z"
   },
   {
    "duration": 26,
    "start_time": "2022-05-01T12:54:57.793Z"
   },
   {
    "duration": 26,
    "start_time": "2022-05-01T12:55:16.110Z"
   },
   {
    "duration": 18,
    "start_time": "2022-05-01T12:55:32.527Z"
   },
   {
    "duration": 19,
    "start_time": "2022-05-01T12:58:05.938Z"
   },
   {
    "duration": 26,
    "start_time": "2022-05-01T15:40:19.745Z"
   },
   {
    "duration": 19,
    "start_time": "2022-05-01T15:40:22.534Z"
   },
   {
    "duration": 20,
    "start_time": "2022-05-01T15:44:20.283Z"
   },
   {
    "duration": 22,
    "start_time": "2022-05-01T15:49:42.841Z"
   },
   {
    "duration": 28,
    "start_time": "2022-05-01T15:49:46.879Z"
   },
   {
    "duration": 43,
    "start_time": "2022-05-01T15:51:20.526Z"
   },
   {
    "duration": 32,
    "start_time": "2022-05-01T15:52:08.118Z"
   },
   {
    "duration": 23,
    "start_time": "2022-05-01T15:53:02.325Z"
   },
   {
    "duration": 27,
    "start_time": "2022-05-01T15:53:35.757Z"
   },
   {
    "duration": 39,
    "start_time": "2022-05-01T15:55:03.904Z"
   },
   {
    "duration": 41,
    "start_time": "2022-05-01T16:00:38.364Z"
   },
   {
    "duration": 44,
    "start_time": "2022-05-01T16:00:45.407Z"
   },
   {
    "duration": 14,
    "start_time": "2022-05-01T16:02:32.612Z"
   },
   {
    "duration": 13,
    "start_time": "2022-05-01T16:02:46.679Z"
   },
   {
    "duration": 23,
    "start_time": "2022-05-01T16:03:06.456Z"
   },
   {
    "duration": 128,
    "start_time": "2022-05-01T16:06:36.541Z"
   },
   {
    "duration": 108,
    "start_time": "2022-05-01T16:07:41.161Z"
   },
   {
    "duration": 15,
    "start_time": "2022-05-01T16:13:59.248Z"
   },
   {
    "duration": 140,
    "start_time": "2022-05-01T16:14:07.258Z"
   },
   {
    "duration": 192,
    "start_time": "2022-05-01T16:16:40.723Z"
   },
   {
    "duration": 199,
    "start_time": "2022-05-01T16:16:54.417Z"
   },
   {
    "duration": 289,
    "start_time": "2022-05-01T16:18:38.608Z"
   },
   {
    "duration": 202,
    "start_time": "2022-05-01T16:19:01.091Z"
   },
   {
    "duration": 434,
    "start_time": "2022-05-01T16:19:11.659Z"
   },
   {
    "duration": 246,
    "start_time": "2022-05-01T16:19:37.182Z"
   },
   {
    "duration": 223,
    "start_time": "2022-05-01T16:19:49.277Z"
   },
   {
    "duration": 286,
    "start_time": "2022-05-01T16:20:03.916Z"
   },
   {
    "duration": 501,
    "start_time": "2022-05-01T16:20:46.160Z"
   },
   {
    "duration": 302,
    "start_time": "2022-05-01T16:21:12.455Z"
   },
   {
    "duration": 288,
    "start_time": "2022-05-01T16:21:23.611Z"
   },
   {
    "duration": 283,
    "start_time": "2022-05-01T16:21:32.247Z"
   },
   {
    "duration": 284,
    "start_time": "2022-05-01T16:22:28.609Z"
   },
   {
    "duration": 211,
    "start_time": "2022-05-01T16:24:13.089Z"
   },
   {
    "duration": 43,
    "start_time": "2022-05-01T16:25:41.630Z"
   },
   {
    "duration": 43,
    "start_time": "2022-05-01T16:26:19.905Z"
   },
   {
    "duration": 24,
    "start_time": "2022-05-01T16:26:32.527Z"
   },
   {
    "duration": 211,
    "start_time": "2022-05-01T16:26:35.747Z"
   },
   {
    "duration": 38,
    "start_time": "2022-05-01T16:30:25.671Z"
   },
   {
    "duration": 27,
    "start_time": "2022-05-01T16:31:06.180Z"
   },
   {
    "duration": 41,
    "start_time": "2022-05-01T16:32:42.836Z"
   },
   {
    "duration": 42,
    "start_time": "2022-05-01T16:33:20.489Z"
   },
   {
    "duration": 41,
    "start_time": "2022-05-01T16:33:50.782Z"
   },
   {
    "duration": 39,
    "start_time": "2022-05-01T16:34:37.333Z"
   },
   {
    "duration": 41,
    "start_time": "2022-05-01T16:36:39.212Z"
   },
   {
    "duration": 41,
    "start_time": "2022-05-01T16:44:18.357Z"
   },
   {
    "duration": 39,
    "start_time": "2022-05-01T16:56:48.445Z"
   },
   {
    "duration": 23,
    "start_time": "2022-05-01T16:58:51.994Z"
   },
   {
    "duration": 23,
    "start_time": "2022-05-01T16:59:20.649Z"
   },
   {
    "duration": 23,
    "start_time": "2022-05-01T16:59:42.298Z"
   },
   {
    "duration": 187,
    "start_time": "2022-05-01T16:59:46.580Z"
   },
   {
    "duration": 203,
    "start_time": "2022-05-01T16:59:55.963Z"
   },
   {
    "duration": 184,
    "start_time": "2022-05-01T17:00:55.751Z"
   },
   {
    "duration": 24,
    "start_time": "2022-05-01T17:04:31.733Z"
   },
   {
    "duration": 63,
    "start_time": "2022-05-01T17:05:50.891Z"
   },
   {
    "duration": 39,
    "start_time": "2022-05-01T17:06:06.182Z"
   },
   {
    "duration": 20,
    "start_time": "2022-05-01T17:12:12.965Z"
   },
   {
    "duration": 7,
    "start_time": "2022-05-01T17:13:32.780Z"
   },
   {
    "duration": 293,
    "start_time": "2022-05-01T17:13:33.553Z"
   },
   {
    "duration": 226,
    "start_time": "2022-05-01T17:13:44.928Z"
   },
   {
    "duration": 6,
    "start_time": "2022-05-01T17:18:39.585Z"
   },
   {
    "duration": 12,
    "start_time": "2022-05-01T17:19:22.874Z"
   },
   {
    "duration": 473,
    "start_time": "2022-05-01T17:19:27.747Z"
   },
   {
    "duration": 226,
    "start_time": "2022-05-01T17:19:49.927Z"
   },
   {
    "duration": 5,
    "start_time": "2022-05-01T17:20:57.111Z"
   },
   {
    "duration": 16197,
    "start_time": "2022-05-01T17:21:00.711Z"
   },
   {
    "duration": 5589,
    "start_time": "2022-05-01T17:21:43.994Z"
   },
   {
    "duration": 5,
    "start_time": "2022-05-01T17:22:40.225Z"
   },
   {
    "duration": 346,
    "start_time": "2022-05-01T17:22:41.861Z"
   },
   {
    "duration": 68,
    "start_time": "2022-05-01T17:25:39.171Z"
   },
   {
    "duration": 343,
    "start_time": "2022-05-01T17:25:39.835Z"
   },
   {
    "duration": 4,
    "start_time": "2022-05-01T17:25:45.779Z"
   },
   {
    "duration": 15,
    "start_time": "2022-05-01T17:25:46.535Z"
   },
   {
    "duration": 10,
    "start_time": "2022-05-01T17:32:06.677Z"
   },
   {
    "duration": 10,
    "start_time": "2022-05-01T17:32:26.969Z"
   },
   {
    "duration": 13,
    "start_time": "2022-05-01T17:32:33.056Z"
   },
   {
    "duration": 15,
    "start_time": "2022-05-01T17:32:43.071Z"
   },
   {
    "duration": 15,
    "start_time": "2022-05-01T17:32:51.522Z"
   },
   {
    "duration": 10,
    "start_time": "2022-05-01T17:42:13.775Z"
   },
   {
    "duration": 11,
    "start_time": "2022-05-01T17:42:26.405Z"
   },
   {
    "duration": 13,
    "start_time": "2022-05-01T17:44:24.883Z"
   },
   {
    "duration": 14,
    "start_time": "2022-05-01T17:44:29.924Z"
   },
   {
    "duration": 908,
    "start_time": "2022-05-01T17:46:02.845Z"
   },
   {
    "duration": 22,
    "start_time": "2022-05-01T17:47:15.580Z"
   },
   {
    "duration": 27,
    "start_time": "2022-05-01T17:47:19.685Z"
   },
   {
    "duration": 5,
    "start_time": "2022-05-01T17:50:50.649Z"
   },
   {
    "duration": 8,
    "start_time": "2022-05-01T17:50:54.822Z"
   },
   {
    "duration": 4,
    "start_time": "2022-05-01T18:02:27.626Z"
   },
   {
    "duration": 20,
    "start_time": "2022-05-01T18:02:29.754Z"
   },
   {
    "duration": 11,
    "start_time": "2022-05-01T18:03:00.986Z"
   },
   {
    "duration": 4,
    "start_time": "2022-05-01T18:03:33.689Z"
   },
   {
    "duration": 8,
    "start_time": "2022-05-01T18:03:36.552Z"
   },
   {
    "duration": 4,
    "start_time": "2022-05-01T18:03:49.149Z"
   },
   {
    "duration": 6,
    "start_time": "2022-05-01T18:03:51.859Z"
   },
   {
    "duration": 7,
    "start_time": "2022-05-01T18:04:20.426Z"
   },
   {
    "duration": 4,
    "start_time": "2022-05-01T18:04:28.867Z"
   },
   {
    "duration": 8,
    "start_time": "2022-05-01T18:04:31.303Z"
   },
   {
    "duration": 4,
    "start_time": "2022-05-01T18:04:59.642Z"
   },
   {
    "duration": 8,
    "start_time": "2022-05-01T18:05:02.067Z"
   },
   {
    "duration": 4,
    "start_time": "2022-05-01T18:05:12.153Z"
   },
   {
    "duration": 7,
    "start_time": "2022-05-01T18:05:14.700Z"
   },
   {
    "duration": 4,
    "start_time": "2022-05-01T18:05:24.042Z"
   },
   {
    "duration": 14,
    "start_time": "2022-05-01T18:05:27.505Z"
   },
   {
    "duration": 4,
    "start_time": "2022-05-01T18:05:35.053Z"
   },
   {
    "duration": 23,
    "start_time": "2022-05-01T18:05:38.533Z"
   },
   {
    "duration": 22,
    "start_time": "2022-05-01T18:05:47.580Z"
   },
   {
    "duration": 6,
    "start_time": "2022-05-01T18:06:56.303Z"
   },
   {
    "duration": 32,
    "start_time": "2022-05-01T18:06:59.214Z"
   },
   {
    "duration": 4,
    "start_time": "2022-05-01T18:08:29.707Z"
   },
   {
    "duration": 47,
    "start_time": "2022-05-01T18:08:32.946Z"
   },
   {
    "duration": 4,
    "start_time": "2022-05-01T18:09:37.069Z"
   },
   {
    "duration": 34,
    "start_time": "2022-05-01T18:09:39.797Z"
   },
   {
    "duration": 5,
    "start_time": "2022-05-01T18:10:30.316Z"
   },
   {
    "duration": 186,
    "start_time": "2022-05-01T18:10:33.172Z"
   },
   {
    "duration": 6,
    "start_time": "2022-05-01T18:12:05.115Z"
   },
   {
    "duration": 193,
    "start_time": "2022-05-01T18:12:06.620Z"
   },
   {
    "duration": 6,
    "start_time": "2022-05-01T18:12:13.993Z"
   },
   {
    "duration": 198,
    "start_time": "2022-05-01T18:12:14.937Z"
   },
   {
    "duration": 187,
    "start_time": "2022-05-01T18:12:22.080Z"
   },
   {
    "duration": 65,
    "start_time": "2022-05-01T18:16:47.030Z"
   },
   {
    "duration": 6,
    "start_time": "2022-05-01T18:17:19.636Z"
   },
   {
    "duration": 302,
    "start_time": "2022-05-01T18:17:20.815Z"
   },
   {
    "duration": 8,
    "start_time": "2022-05-01T18:18:41.370Z"
   },
   {
    "duration": 176,
    "start_time": "2022-05-01T18:18:57.268Z"
   },
   {
    "duration": 180,
    "start_time": "2022-05-01T18:19:23.737Z"
   },
   {
    "duration": 6,
    "start_time": "2022-05-01T18:20:21.780Z"
   },
   {
    "duration": 8,
    "start_time": "2022-05-01T18:20:23.124Z"
   },
   {
    "duration": 187,
    "start_time": "2022-05-01T18:20:24.170Z"
   },
   {
    "duration": 8,
    "start_time": "2022-05-01T18:20:40.543Z"
   },
   {
    "duration": 6,
    "start_time": "2022-05-01T18:20:41.460Z"
   },
   {
    "duration": 176,
    "start_time": "2022-05-01T18:20:46.951Z"
   },
   {
    "duration": 176,
    "start_time": "2022-05-01T18:20:49.740Z"
   },
   {
    "duration": 5,
    "start_time": "2022-05-01T18:21:04.442Z"
   },
   {
    "duration": 5,
    "start_time": "2022-05-01T18:21:05.608Z"
   },
   {
    "duration": 275,
    "start_time": "2022-05-01T18:21:07.148Z"
   },
   {
    "duration": 279,
    "start_time": "2022-05-01T18:21:09.105Z"
   },
   {
    "duration": 10,
    "start_time": "2022-05-01T18:21:36.769Z"
   },
   {
    "duration": 8,
    "start_time": "2022-05-01T18:21:45.098Z"
   },
   {
    "duration": 23,
    "start_time": "2022-05-01T18:31:52.686Z"
   },
   {
    "duration": 1013,
    "start_time": "2022-05-01T18:32:09.862Z"
   },
   {
    "duration": 684,
    "start_time": "2022-05-01T18:32:10.877Z"
   },
   {
    "duration": 24,
    "start_time": "2022-05-01T18:32:11.563Z"
   },
   {
    "duration": 17,
    "start_time": "2022-05-01T18:32:11.590Z"
   },
   {
    "duration": 24,
    "start_time": "2022-05-01T18:32:11.609Z"
   },
   {
    "duration": 86,
    "start_time": "2022-05-01T18:32:11.635Z"
   },
   {
    "duration": 479,
    "start_time": "2022-05-01T18:32:11.723Z"
   },
   {
    "duration": 66,
    "start_time": "2022-05-01T18:32:12.204Z"
   },
   {
    "duration": 451,
    "start_time": "2022-05-01T18:32:12.272Z"
   },
   {
    "duration": 3885,
    "start_time": "2022-05-01T18:32:12.726Z"
   },
   {
    "duration": 296,
    "start_time": "2022-05-01T18:32:16.613Z"
   },
   {
    "duration": 36,
    "start_time": "2022-05-01T18:32:16.911Z"
   },
   {
    "duration": 64,
    "start_time": "2022-05-01T18:32:16.948Z"
   },
   {
    "duration": 39,
    "start_time": "2022-05-01T18:32:17.014Z"
   },
   {
    "duration": 57,
    "start_time": "2022-05-01T18:32:17.055Z"
   },
   {
    "duration": 5864,
    "start_time": "2022-05-01T18:32:17.114Z"
   },
   {
    "duration": 936,
    "start_time": "2022-05-01T18:32:22.980Z"
   },
   {
    "duration": 242,
    "start_time": "2022-05-01T18:32:23.918Z"
   },
   {
    "duration": 19,
    "start_time": "2022-05-01T18:32:24.162Z"
   },
   {
    "duration": 51,
    "start_time": "2022-05-01T18:32:24.183Z"
   },
   {
    "duration": 24,
    "start_time": "2022-05-01T18:32:24.235Z"
   },
   {
    "duration": 81,
    "start_time": "2022-05-01T18:32:24.261Z"
   },
   {
    "duration": 63,
    "start_time": "2022-05-01T18:32:24.344Z"
   },
   {
    "duration": 5,
    "start_time": "2022-05-01T18:32:24.410Z"
   },
   {
    "duration": 12,
    "start_time": "2022-05-01T18:32:24.417Z"
   },
   {
    "duration": 308,
    "start_time": "2022-05-01T18:32:24.431Z"
   },
   {
    "duration": 284,
    "start_time": "2022-05-01T18:32:24.741Z"
   },
   {
    "duration": 9,
    "start_time": "2022-05-01T18:32:25.028Z"
   },
   {
    "duration": 32,
    "start_time": "2022-05-01T18:32:25.038Z"
   },
   {
    "duration": 402,
    "start_time": "2022-05-01T18:32:25.072Z"
   },
   {
    "duration": 286,
    "start_time": "2022-05-01T18:32:25.475Z"
   },
   {
    "duration": 0,
    "start_time": "2022-05-01T18:32:25.763Z"
   },
   {
    "duration": 0,
    "start_time": "2022-05-01T18:32:25.764Z"
   },
   {
    "duration": 0,
    "start_time": "2022-05-01T18:32:25.765Z"
   },
   {
    "duration": 0,
    "start_time": "2022-05-01T18:32:25.767Z"
   },
   {
    "duration": 12,
    "start_time": "2022-05-01T18:37:34.269Z"
   },
   {
    "duration": 74,
    "start_time": "2022-05-01T18:38:43.590Z"
   },
   {
    "duration": 30,
    "start_time": "2022-05-01T18:39:54.331Z"
   },
   {
    "duration": 46,
    "start_time": "2022-05-01T18:40:18.320Z"
   },
   {
    "duration": 1052,
    "start_time": "2022-05-01T18:40:47.792Z"
   },
   {
    "duration": 658,
    "start_time": "2022-05-01T18:40:48.846Z"
   },
   {
    "duration": 27,
    "start_time": "2022-05-01T18:40:49.506Z"
   },
   {
    "duration": 7,
    "start_time": "2022-05-01T18:40:49.536Z"
   },
   {
    "duration": 25,
    "start_time": "2022-05-01T18:40:49.545Z"
   },
   {
    "duration": 96,
    "start_time": "2022-05-01T18:40:49.572Z"
   },
   {
    "duration": 469,
    "start_time": "2022-05-01T18:40:49.671Z"
   },
   {
    "duration": 72,
    "start_time": "2022-05-01T18:40:50.142Z"
   },
   {
    "duration": 427,
    "start_time": "2022-05-01T18:40:50.215Z"
   },
   {
    "duration": 3754,
    "start_time": "2022-05-01T18:40:50.645Z"
   },
   {
    "duration": 263,
    "start_time": "2022-05-01T18:40:54.400Z"
   },
   {
    "duration": 45,
    "start_time": "2022-05-01T18:40:54.665Z"
   },
   {
    "duration": 28,
    "start_time": "2022-05-01T18:40:54.712Z"
   },
   {
    "duration": 23,
    "start_time": "2022-05-01T18:40:54.741Z"
   },
   {
    "duration": 59,
    "start_time": "2022-05-01T18:40:54.766Z"
   },
   {
    "duration": 5673,
    "start_time": "2022-05-01T18:40:54.826Z"
   },
   {
    "duration": 839,
    "start_time": "2022-05-01T18:41:00.501Z"
   },
   {
    "duration": 237,
    "start_time": "2022-05-01T18:41:01.342Z"
   },
   {
    "duration": 75,
    "start_time": "2022-05-01T18:41:01.581Z"
   },
   {
    "duration": 67,
    "start_time": "2022-05-01T18:41:01.659Z"
   },
   {
    "duration": 19,
    "start_time": "2022-05-01T18:41:12.858Z"
   },
   {
    "duration": 33,
    "start_time": "2022-05-01T18:42:37.807Z"
   },
   {
    "duration": 21,
    "start_time": "2022-05-01T18:42:44.692Z"
   },
   {
    "duration": 7,
    "start_time": "2022-05-01T18:43:21.875Z"
   },
   {
    "duration": 7,
    "start_time": "2022-05-01T18:43:23.254Z"
   },
   {
    "duration": 288,
    "start_time": "2022-05-01T18:43:24.804Z"
   },
   {
    "duration": 269,
    "start_time": "2022-05-01T18:43:28.566Z"
   },
   {
    "duration": 12,
    "start_time": "2022-05-01T18:44:13.295Z"
   },
   {
    "duration": 13,
    "start_time": "2022-05-01T18:44:24.059Z"
   },
   {
    "duration": 15,
    "start_time": "2022-05-01T18:44:41.019Z"
   },
   {
    "duration": 15,
    "start_time": "2022-05-01T18:44:55.223Z"
   },
   {
    "duration": 18,
    "start_time": "2022-05-01T18:45:29.600Z"
   },
   {
    "duration": 1079,
    "start_time": "2022-05-01T18:50:42.164Z"
   },
   {
    "duration": 693,
    "start_time": "2022-05-01T18:50:43.245Z"
   },
   {
    "duration": 26,
    "start_time": "2022-05-01T18:50:43.940Z"
   },
   {
    "duration": 7,
    "start_time": "2022-05-01T18:50:43.969Z"
   },
   {
    "duration": 51,
    "start_time": "2022-05-01T18:50:43.978Z"
   },
   {
    "duration": 89,
    "start_time": "2022-05-01T18:50:44.032Z"
   },
   {
    "duration": 466,
    "start_time": "2022-05-01T18:50:44.123Z"
   },
   {
    "duration": 64,
    "start_time": "2022-05-01T18:50:44.591Z"
   },
   {
    "duration": 459,
    "start_time": "2022-05-01T18:50:44.657Z"
   },
   {
    "duration": 3818,
    "start_time": "2022-05-01T18:50:45.120Z"
   },
   {
    "duration": 288,
    "start_time": "2022-05-01T18:50:48.940Z"
   },
   {
    "duration": 33,
    "start_time": "2022-05-01T18:50:49.229Z"
   },
   {
    "duration": 49,
    "start_time": "2022-05-01T18:50:49.264Z"
   },
   {
    "duration": 24,
    "start_time": "2022-05-01T18:50:49.314Z"
   },
   {
    "duration": 28,
    "start_time": "2022-05-01T18:50:49.340Z"
   },
   {
    "duration": 6023,
    "start_time": "2022-05-01T18:50:49.370Z"
   },
   {
    "duration": 875,
    "start_time": "2022-05-01T18:50:55.395Z"
   },
   {
    "duration": 231,
    "start_time": "2022-05-01T18:50:56.271Z"
   },
   {
    "duration": 62,
    "start_time": "2022-05-01T18:50:56.507Z"
   },
   {
    "duration": 65,
    "start_time": "2022-05-01T18:50:56.571Z"
   },
   {
    "duration": 19,
    "start_time": "2022-05-01T18:50:56.638Z"
   },
   {
    "duration": 55,
    "start_time": "2022-05-01T18:50:56.659Z"
   },
   {
    "duration": 23,
    "start_time": "2022-05-01T18:50:56.716Z"
   },
   {
    "duration": 6,
    "start_time": "2022-05-01T18:50:56.741Z"
   },
   {
    "duration": 7,
    "start_time": "2022-05-01T18:50:56.749Z"
   },
   {
    "duration": 323,
    "start_time": "2022-05-01T18:50:56.758Z"
   },
   {
    "duration": 289,
    "start_time": "2022-05-01T18:50:57.083Z"
   },
   {
    "duration": 14,
    "start_time": "2022-05-01T18:50:57.376Z"
   },
   {
    "duration": 10,
    "start_time": "2022-05-01T18:51:10.171Z"
   },
   {
    "duration": 32,
    "start_time": "2022-05-01T18:51:13.462Z"
   },
   {
    "duration": 377,
    "start_time": "2022-05-01T18:51:17.979Z"
   },
   {
    "duration": 354,
    "start_time": "2022-05-01T18:52:04.355Z"
   },
   {
    "duration": 294,
    "start_time": "2022-05-01T18:53:05.595Z"
   },
   {
    "duration": 1063,
    "start_time": "2022-05-01T18:53:59.720Z"
   },
   {
    "duration": 664,
    "start_time": "2022-05-01T18:54:00.785Z"
   },
   {
    "duration": 24,
    "start_time": "2022-05-01T18:54:01.451Z"
   },
   {
    "duration": 7,
    "start_time": "2022-05-01T18:54:01.478Z"
   },
   {
    "duration": 48,
    "start_time": "2022-05-01T18:54:01.487Z"
   },
   {
    "duration": 74,
    "start_time": "2022-05-01T18:54:01.537Z"
   },
   {
    "duration": 454,
    "start_time": "2022-05-01T18:54:01.612Z"
   },
   {
    "duration": 77,
    "start_time": "2022-05-01T18:54:02.068Z"
   },
   {
    "duration": 443,
    "start_time": "2022-05-01T18:54:02.147Z"
   },
   {
    "duration": 3905,
    "start_time": "2022-05-01T18:54:02.592Z"
   },
   {
    "duration": 313,
    "start_time": "2022-05-01T18:54:06.500Z"
   },
   {
    "duration": 35,
    "start_time": "2022-05-01T18:54:06.814Z"
   },
   {
    "duration": 29,
    "start_time": "2022-05-01T18:54:06.850Z"
   },
   {
    "duration": 50,
    "start_time": "2022-05-01T18:54:06.881Z"
   },
   {
    "duration": 28,
    "start_time": "2022-05-01T18:54:06.933Z"
   },
   {
    "duration": 6478,
    "start_time": "2022-05-01T18:54:06.963Z"
   },
   {
    "duration": 961,
    "start_time": "2022-05-01T18:54:13.443Z"
   },
   {
    "duration": 259,
    "start_time": "2022-05-01T18:54:14.407Z"
   },
   {
    "duration": 78,
    "start_time": "2022-05-01T18:54:14.668Z"
   },
   {
    "duration": 60,
    "start_time": "2022-05-01T18:54:14.748Z"
   },
   {
    "duration": 19,
    "start_time": "2022-05-01T18:54:14.810Z"
   },
   {
    "duration": 35,
    "start_time": "2022-05-01T18:54:14.831Z"
   },
   {
    "duration": 50,
    "start_time": "2022-05-01T18:54:14.868Z"
   },
   {
    "duration": 6,
    "start_time": "2022-05-01T18:54:14.920Z"
   },
   {
    "duration": 9,
    "start_time": "2022-05-01T18:54:14.928Z"
   },
   {
    "duration": 323,
    "start_time": "2022-05-01T18:54:14.939Z"
   },
   {
    "duration": 296,
    "start_time": "2022-05-01T18:54:15.264Z"
   },
   {
    "duration": 13,
    "start_time": "2022-05-01T18:54:15.565Z"
   },
   {
    "duration": 9,
    "start_time": "2022-05-01T18:54:15.579Z"
   },
   {
    "duration": 33,
    "start_time": "2022-05-01T18:54:15.607Z"
   },
   {
    "duration": 393,
    "start_time": "2022-05-01T18:54:15.642Z"
   },
   {
    "duration": 289,
    "start_time": "2022-05-01T18:54:30.556Z"
   },
   {
    "duration": 240,
    "start_time": "2022-05-01T18:55:13.560Z"
   },
   {
    "duration": 41,
    "start_time": "2022-05-01T18:55:42.283Z"
   },
   {
    "duration": 42,
    "start_time": "2022-05-01T18:55:48.917Z"
   },
   {
    "duration": 24,
    "start_time": "2022-05-01T18:55:56.763Z"
   },
   {
    "duration": 197,
    "start_time": "2022-05-01T18:56:01.279Z"
   },
   {
    "duration": 7,
    "start_time": "2022-05-01T18:57:55.785Z"
   },
   {
    "duration": 20,
    "start_time": "2022-05-01T18:58:14.669Z"
   },
   {
    "duration": 20,
    "start_time": "2022-05-01T18:58:35.705Z"
   },
   {
    "duration": 21,
    "start_time": "2022-05-01T18:58:51.874Z"
   },
   {
    "duration": 5,
    "start_time": "2022-05-01T19:06:36.161Z"
   },
   {
    "duration": 5,
    "start_time": "2022-05-01T19:07:13.088Z"
   },
   {
    "duration": 10,
    "start_time": "2022-05-01T19:07:14.640Z"
   },
   {
    "duration": 16,
    "start_time": "2022-05-01T19:08:18.005Z"
   },
   {
    "duration": 28,
    "start_time": "2022-05-01T19:08:40.765Z"
   },
   {
    "duration": 26,
    "start_time": "2022-05-01T19:09:08.804Z"
   },
   {
    "duration": 23,
    "start_time": "2022-05-01T19:12:27.938Z"
   },
   {
    "duration": 18,
    "start_time": "2022-05-01T19:16:23.937Z"
   },
   {
    "duration": 1054,
    "start_time": "2022-05-01T19:31:43.663Z"
   },
   {
    "duration": 1019,
    "start_time": "2022-05-01T19:31:44.719Z"
   },
   {
    "duration": 25,
    "start_time": "2022-05-01T19:31:45.740Z"
   },
   {
    "duration": 7,
    "start_time": "2022-05-01T19:31:45.768Z"
   },
   {
    "duration": 41,
    "start_time": "2022-05-01T19:31:45.776Z"
   },
   {
    "duration": 67,
    "start_time": "2022-05-01T19:31:45.819Z"
   },
   {
    "duration": 451,
    "start_time": "2022-05-01T19:31:45.907Z"
   },
   {
    "duration": 84,
    "start_time": "2022-05-01T19:31:46.360Z"
   },
   {
    "duration": 423,
    "start_time": "2022-05-01T19:31:46.446Z"
   },
   {
    "duration": 3737,
    "start_time": "2022-05-01T19:31:46.872Z"
   },
   {
    "duration": 296,
    "start_time": "2022-05-01T19:31:50.611Z"
   },
   {
    "duration": 34,
    "start_time": "2022-05-01T19:31:50.909Z"
   },
   {
    "duration": 29,
    "start_time": "2022-05-01T19:31:50.945Z"
   },
   {
    "duration": 48,
    "start_time": "2022-05-01T19:31:50.976Z"
   },
   {
    "duration": 30,
    "start_time": "2022-05-01T19:31:51.026Z"
   },
   {
    "duration": 5566,
    "start_time": "2022-05-01T19:31:51.058Z"
   },
   {
    "duration": 886,
    "start_time": "2022-05-01T19:31:56.626Z"
   },
   {
    "duration": 239,
    "start_time": "2022-05-01T19:31:57.514Z"
   },
   {
    "duration": 101,
    "start_time": "2022-05-01T19:31:57.755Z"
   },
   {
    "duration": 67,
    "start_time": "2022-05-01T19:31:57.857Z"
   },
   {
    "duration": 21,
    "start_time": "2022-05-01T19:31:57.926Z"
   },
   {
    "duration": 69,
    "start_time": "2022-05-01T19:31:57.949Z"
   },
   {
    "duration": 31,
    "start_time": "2022-05-01T19:31:58.020Z"
   },
   {
    "duration": 8,
    "start_time": "2022-05-01T19:31:58.053Z"
   },
   {
    "duration": 10,
    "start_time": "2022-05-01T19:31:58.064Z"
   },
   {
    "duration": 331,
    "start_time": "2022-05-01T19:31:58.076Z"
   },
   {
    "duration": 312,
    "start_time": "2022-05-01T19:31:58.409Z"
   },
   {
    "duration": 12,
    "start_time": "2022-05-01T19:31:58.727Z"
   },
   {
    "duration": 10,
    "start_time": "2022-05-01T19:31:58.741Z"
   },
   {
    "duration": 56,
    "start_time": "2022-05-01T19:31:58.752Z"
   },
   {
    "duration": 386,
    "start_time": "2022-05-01T19:31:58.811Z"
   },
   {
    "duration": 236,
    "start_time": "2022-05-01T19:31:59.199Z"
   },
   {
    "duration": 41,
    "start_time": "2022-05-01T19:31:59.436Z"
   },
   {
    "duration": 63,
    "start_time": "2022-05-01T19:31:59.478Z"
   },
   {
    "duration": 24,
    "start_time": "2022-05-01T19:31:59.543Z"
   },
   {
    "duration": 251,
    "start_time": "2022-05-01T19:31:59.568Z"
   },
   {
    "duration": 29,
    "start_time": "2022-05-01T19:31:59.822Z"
   },
   {
    "duration": 6,
    "start_time": "2022-05-01T19:31:59.853Z"
   },
   {
    "duration": 10,
    "start_time": "2022-05-01T19:31:59.861Z"
   },
   {
    "duration": 55,
    "start_time": "2022-05-01T19:31:59.873Z"
   },
   {
    "duration": 17,
    "start_time": "2022-05-01T19:31:59.931Z"
   },
   {
    "duration": 21,
    "start_time": "2022-05-01T19:31:59.950Z"
   },
   {
    "duration": 50,
    "start_time": "2022-05-01T19:31:59.974Z"
   },
   {
    "duration": 1142,
    "start_time": "2022-05-01T19:39:53.703Z"
   },
   {
    "duration": 732,
    "start_time": "2022-05-01T19:39:54.848Z"
   },
   {
    "duration": 23,
    "start_time": "2022-05-01T19:39:55.582Z"
   },
   {
    "duration": 14,
    "start_time": "2022-05-01T19:39:55.611Z"
   },
   {
    "duration": 20,
    "start_time": "2022-05-01T19:39:55.627Z"
   },
   {
    "duration": 97,
    "start_time": "2022-05-01T19:39:55.648Z"
   },
   {
    "duration": 497,
    "start_time": "2022-05-01T19:39:55.747Z"
   },
   {
    "duration": 70,
    "start_time": "2022-05-01T19:39:56.245Z"
   },
   {
    "duration": 446,
    "start_time": "2022-05-01T19:39:56.318Z"
   },
   {
    "duration": 4325,
    "start_time": "2022-05-01T19:39:56.767Z"
   },
   {
    "duration": 325,
    "start_time": "2022-05-01T19:40:01.094Z"
   },
   {
    "duration": 35,
    "start_time": "2022-05-01T19:40:01.422Z"
   },
   {
    "duration": 52,
    "start_time": "2022-05-01T19:40:01.459Z"
   },
   {
    "duration": 28,
    "start_time": "2022-05-01T19:40:01.515Z"
   },
   {
    "duration": 33,
    "start_time": "2022-05-01T19:40:01.545Z"
   },
   {
    "duration": 6898,
    "start_time": "2022-05-01T19:40:01.580Z"
   },
   {
    "duration": 1093,
    "start_time": "2022-05-01T19:40:08.480Z"
   },
   {
    "duration": 281,
    "start_time": "2022-05-01T19:40:09.575Z"
   },
   {
    "duration": 88,
    "start_time": "2022-05-01T19:40:09.859Z"
   },
   {
    "duration": 47,
    "start_time": "2022-05-01T19:40:09.949Z"
   },
   {
    "duration": 26,
    "start_time": "2022-05-01T19:40:10.010Z"
   },
   {
    "duration": 34,
    "start_time": "2022-05-01T19:40:10.038Z"
   },
   {
    "duration": 55,
    "start_time": "2022-05-01T19:40:10.073Z"
   },
   {
    "duration": 5,
    "start_time": "2022-05-01T19:40:10.130Z"
   },
   {
    "duration": 6,
    "start_time": "2022-05-01T19:40:10.138Z"
   },
   {
    "duration": 332,
    "start_time": "2022-05-01T19:40:10.146Z"
   },
   {
    "duration": 303,
    "start_time": "2022-05-01T19:40:10.480Z"
   },
   {
    "duration": 12,
    "start_time": "2022-05-01T19:40:10.787Z"
   },
   {
    "duration": 20,
    "start_time": "2022-05-01T19:40:10.801Z"
   },
   {
    "duration": 40,
    "start_time": "2022-05-01T19:40:10.824Z"
   },
   {
    "duration": 432,
    "start_time": "2022-05-01T19:40:10.866Z"
   },
   {
    "duration": 258,
    "start_time": "2022-05-01T19:40:11.300Z"
   },
   {
    "duration": 66,
    "start_time": "2022-05-01T19:40:11.560Z"
   },
   {
    "duration": 41,
    "start_time": "2022-05-01T19:40:11.628Z"
   },
   {
    "duration": 55,
    "start_time": "2022-05-01T19:40:11.671Z"
   },
   {
    "duration": 243,
    "start_time": "2022-05-01T19:40:11.728Z"
   },
   {
    "duration": 20,
    "start_time": "2022-05-01T19:40:11.973Z"
   },
   {
    "duration": 13,
    "start_time": "2022-05-01T19:40:11.995Z"
   },
   {
    "duration": 13,
    "start_time": "2022-05-01T19:40:12.011Z"
   },
   {
    "duration": 26,
    "start_time": "2022-05-01T19:40:12.027Z"
   },
   {
    "duration": 18,
    "start_time": "2022-05-01T19:40:12.055Z"
   },
   {
    "duration": 28,
    "start_time": "2022-05-01T19:40:12.107Z"
   },
   {
    "duration": 22,
    "start_time": "2022-05-01T19:40:12.137Z"
   },
   {
    "duration": 1196,
    "start_time": "2022-05-03T05:34:47.332Z"
   },
   {
    "duration": 670,
    "start_time": "2022-05-03T05:34:48.530Z"
   },
   {
    "duration": 32,
    "start_time": "2022-05-03T05:34:49.202Z"
   },
   {
    "duration": 8,
    "start_time": "2022-05-03T05:34:49.237Z"
   },
   {
    "duration": 66,
    "start_time": "2022-05-03T05:34:49.247Z"
   },
   {
    "duration": 88,
    "start_time": "2022-05-03T05:34:49.315Z"
   },
   {
    "duration": 444,
    "start_time": "2022-05-03T05:34:49.405Z"
   },
   {
    "duration": 72,
    "start_time": "2022-05-03T05:34:49.850Z"
   },
   {
    "duration": 414,
    "start_time": "2022-05-03T05:34:49.924Z"
   },
   {
    "duration": 3445,
    "start_time": "2022-05-03T05:34:50.342Z"
   },
   {
    "duration": 263,
    "start_time": "2022-05-03T05:34:53.792Z"
   },
   {
    "duration": 44,
    "start_time": "2022-05-03T05:34:54.057Z"
   },
   {
    "duration": 27,
    "start_time": "2022-05-03T05:34:54.102Z"
   },
   {
    "duration": 20,
    "start_time": "2022-05-03T05:34:54.131Z"
   },
   {
    "duration": 57,
    "start_time": "2022-05-03T05:34:54.154Z"
   },
   {
    "duration": 5513,
    "start_time": "2022-05-03T05:34:54.213Z"
   },
   {
    "duration": 798,
    "start_time": "2022-05-03T05:34:59.727Z"
   },
   {
    "duration": 229,
    "start_time": "2022-05-03T05:35:00.527Z"
   },
   {
    "duration": 75,
    "start_time": "2022-05-03T05:35:00.758Z"
   },
   {
    "duration": 59,
    "start_time": "2022-05-03T05:35:00.835Z"
   },
   {
    "duration": 17,
    "start_time": "2022-05-03T05:35:00.897Z"
   },
   {
    "duration": 58,
    "start_time": "2022-05-03T05:35:00.916Z"
   },
   {
    "duration": 23,
    "start_time": "2022-05-03T05:35:00.976Z"
   },
   {
    "duration": 5,
    "start_time": "2022-05-03T05:35:01.001Z"
   },
   {
    "duration": 53,
    "start_time": "2022-05-03T05:35:01.007Z"
   },
   {
    "duration": 268,
    "start_time": "2022-05-03T05:35:01.061Z"
   },
   {
    "duration": 256,
    "start_time": "2022-05-03T05:35:01.331Z"
   },
   {
    "duration": 12,
    "start_time": "2022-05-03T05:35:01.595Z"
   },
   {
    "duration": 22,
    "start_time": "2022-05-03T05:35:01.609Z"
   },
   {
    "duration": 33,
    "start_time": "2022-05-03T05:35:01.633Z"
   },
   {
    "duration": 329,
    "start_time": "2022-05-03T05:35:01.667Z"
   },
   {
    "duration": 205,
    "start_time": "2022-05-03T05:35:01.998Z"
   },
   {
    "duration": 37,
    "start_time": "2022-05-03T05:35:02.205Z"
   },
   {
    "duration": 62,
    "start_time": "2022-05-03T05:35:02.244Z"
   },
   {
    "duration": 23,
    "start_time": "2022-05-03T05:35:02.308Z"
   },
   {
    "duration": 205,
    "start_time": "2022-05-03T05:35:02.334Z"
   },
   {
    "duration": 21,
    "start_time": "2022-05-03T05:35:02.541Z"
   },
   {
    "duration": 6,
    "start_time": "2022-05-03T05:35:02.564Z"
   },
   {
    "duration": 8,
    "start_time": "2022-05-03T05:35:02.593Z"
   },
   {
    "duration": 29,
    "start_time": "2022-05-03T05:35:02.603Z"
   },
   {
    "duration": 17,
    "start_time": "2022-05-03T05:35:02.634Z"
   },
   {
    "duration": 46,
    "start_time": "2022-05-03T05:35:02.653Z"
   },
   {
    "duration": 15,
    "start_time": "2022-05-03T05:35:02.702Z"
   },
   {
    "duration": 1220,
    "start_time": "2022-05-03T10:25:52.085Z"
   },
   {
    "duration": 540,
    "start_time": "2022-05-03T10:25:53.307Z"
   },
   {
    "duration": 25,
    "start_time": "2022-05-03T10:25:53.849Z"
   },
   {
    "duration": 6,
    "start_time": "2022-05-03T10:25:53.876Z"
   },
   {
    "duration": 40,
    "start_time": "2022-05-03T10:25:53.884Z"
   },
   {
    "duration": 54,
    "start_time": "2022-05-03T10:25:53.926Z"
   },
   {
    "duration": 417,
    "start_time": "2022-05-03T10:25:53.982Z"
   },
   {
    "duration": 64,
    "start_time": "2022-05-03T10:25:54.400Z"
   },
   {
    "duration": 336,
    "start_time": "2022-05-03T10:25:54.466Z"
   },
   {
    "duration": 3569,
    "start_time": "2022-05-03T10:25:54.804Z"
   },
   {
    "duration": 229,
    "start_time": "2022-05-03T10:25:58.375Z"
   },
   {
    "duration": 38,
    "start_time": "2022-05-03T10:25:58.605Z"
   },
   {
    "duration": 27,
    "start_time": "2022-05-03T10:25:58.645Z"
   },
   {
    "duration": 20,
    "start_time": "2022-05-03T10:25:58.674Z"
   },
   {
    "duration": 51,
    "start_time": "2022-05-03T10:25:58.696Z"
   },
   {
    "duration": 4426,
    "start_time": "2022-05-03T10:25:58.749Z"
   },
   {
    "duration": 626,
    "start_time": "2022-05-03T10:26:03.177Z"
   },
   {
    "duration": 17,
    "start_time": "2022-05-03T10:28:06.742Z"
   },
   {
    "duration": 14,
    "start_time": "2022-05-03T10:28:15.883Z"
   },
   {
    "duration": 36,
    "start_time": "2022-05-03T10:28:25.926Z"
   },
   {
    "duration": 137,
    "start_time": "2022-05-03T10:30:38.679Z"
   },
   {
    "duration": 13,
    "start_time": "2022-05-03T10:31:20.029Z"
   },
   {
    "duration": 716,
    "start_time": "2022-05-03T10:32:30.907Z"
   },
   {
    "duration": 32,
    "start_time": "2022-05-03T10:32:42.162Z"
   },
   {
    "duration": 308,
    "start_time": "2022-05-03T10:33:02.852Z"
   },
   {
    "duration": 206,
    "start_time": "2022-05-03T10:33:08.333Z"
   },
   {
    "duration": 5189,
    "start_time": "2022-05-03T10:33:36.624Z"
   },
   {
    "duration": 29,
    "start_time": "2022-05-03T10:33:46.487Z"
   },
   {
    "duration": 1625,
    "start_time": "2022-05-03T10:34:21.578Z"
   },
   {
    "duration": 972,
    "start_time": "2022-05-03T10:34:23.205Z"
   },
   {
    "duration": 24,
    "start_time": "2022-05-03T10:34:24.179Z"
   },
   {
    "duration": 7,
    "start_time": "2022-05-03T10:34:24.205Z"
   },
   {
    "duration": 26,
    "start_time": "2022-05-03T10:34:24.214Z"
   },
   {
    "duration": 55,
    "start_time": "2022-05-03T10:34:24.242Z"
   },
   {
    "duration": 437,
    "start_time": "2022-05-03T10:34:24.299Z"
   },
   {
    "duration": 55,
    "start_time": "2022-05-03T10:34:24.738Z"
   },
   {
    "duration": 383,
    "start_time": "2022-05-03T10:34:24.795Z"
   },
   {
    "duration": 3403,
    "start_time": "2022-05-03T10:34:25.181Z"
   },
   {
    "duration": 225,
    "start_time": "2022-05-03T10:34:28.585Z"
   },
   {
    "duration": 38,
    "start_time": "2022-05-03T10:34:28.812Z"
   },
   {
    "duration": 23,
    "start_time": "2022-05-03T10:34:28.852Z"
   },
   {
    "duration": 20,
    "start_time": "2022-05-03T10:34:28.876Z"
   },
   {
    "duration": 50,
    "start_time": "2022-05-03T10:34:28.897Z"
   },
   {
    "duration": 4909,
    "start_time": "2022-05-03T10:34:28.948Z"
   },
   {
    "duration": 856,
    "start_time": "2022-05-03T10:34:33.858Z"
   },
   {
    "duration": 44,
    "start_time": "2022-05-03T10:34:34.716Z"
   },
   {
    "duration": 15,
    "start_time": "2022-05-03T10:34:37.176Z"
   },
   {
    "duration": 13,
    "start_time": "2022-05-03T10:34:58.051Z"
   },
   {
    "duration": 146,
    "start_time": "2022-05-03T10:35:56.914Z"
   },
   {
    "duration": 18,
    "start_time": "2022-05-03T10:36:06.402Z"
   },
   {
    "duration": 16,
    "start_time": "2022-05-03T10:36:27.388Z"
   },
   {
    "duration": 24,
    "start_time": "2022-05-03T10:42:47.549Z"
   },
   {
    "duration": 25,
    "start_time": "2022-05-03T10:42:59.612Z"
   },
   {
    "duration": 19,
    "start_time": "2022-05-03T10:43:07.785Z"
   },
   {
    "duration": 40,
    "start_time": "2022-05-03T10:43:41.252Z"
   },
   {
    "duration": 50,
    "start_time": "2022-05-03T10:44:50.359Z"
   },
   {
    "duration": 987,
    "start_time": "2022-05-03T10:45:36.476Z"
   },
   {
    "duration": 586,
    "start_time": "2022-05-03T10:45:37.464Z"
   },
   {
    "duration": 23,
    "start_time": "2022-05-03T10:45:38.052Z"
   },
   {
    "duration": 8,
    "start_time": "2022-05-03T10:45:38.077Z"
   },
   {
    "duration": 37,
    "start_time": "2022-05-03T10:45:38.087Z"
   },
   {
    "duration": 63,
    "start_time": "2022-05-03T10:45:38.125Z"
   },
   {
    "duration": 441,
    "start_time": "2022-05-03T10:45:38.190Z"
   },
   {
    "duration": 57,
    "start_time": "2022-05-03T10:45:38.633Z"
   },
   {
    "duration": 385,
    "start_time": "2022-05-03T10:45:38.692Z"
   },
   {
    "duration": 3380,
    "start_time": "2022-05-03T10:45:39.080Z"
   },
   {
    "duration": 235,
    "start_time": "2022-05-03T10:45:42.461Z"
   },
   {
    "duration": 40,
    "start_time": "2022-05-03T10:45:42.698Z"
   },
   {
    "duration": 24,
    "start_time": "2022-05-03T10:45:42.740Z"
   },
   {
    "duration": 19,
    "start_time": "2022-05-03T10:45:42.766Z"
   },
   {
    "duration": 49,
    "start_time": "2022-05-03T10:45:42.787Z"
   },
   {
    "duration": 4781,
    "start_time": "2022-05-03T10:45:42.838Z"
   },
   {
    "duration": 640,
    "start_time": "2022-05-03T10:45:47.623Z"
   },
   {
    "duration": 39,
    "start_time": "2022-05-03T10:45:48.265Z"
   },
   {
    "duration": 157,
    "start_time": "2022-05-03T10:45:48.306Z"
   },
   {
    "duration": 43,
    "start_time": "2022-05-03T10:45:48.465Z"
   },
   {
    "duration": 53,
    "start_time": "2022-05-03T10:46:10.986Z"
   },
   {
    "duration": 19,
    "start_time": "2022-05-03T10:48:13.198Z"
   },
   {
    "duration": 29,
    "start_time": "2022-05-03T10:48:27.505Z"
   },
   {
    "duration": 21,
    "start_time": "2022-05-03T10:48:40.789Z"
   },
   {
    "duration": 5,
    "start_time": "2022-05-03T10:51:15.784Z"
   },
   {
    "duration": 5,
    "start_time": "2022-05-03T10:51:16.805Z"
   },
   {
    "duration": 241,
    "start_time": "2022-05-03T10:51:17.475Z"
   },
   {
    "duration": 377,
    "start_time": "2022-05-03T10:51:19.061Z"
   },
   {
    "duration": 13,
    "start_time": "2022-05-03T10:51:20.543Z"
   },
   {
    "duration": 9,
    "start_time": "2022-05-03T10:51:24.041Z"
   },
   {
    "duration": 28,
    "start_time": "2022-05-03T10:51:26.287Z"
   },
   {
    "duration": 311,
    "start_time": "2022-05-03T10:51:28.209Z"
   },
   {
    "duration": 191,
    "start_time": "2022-05-03T10:51:38.719Z"
   },
   {
    "duration": 38,
    "start_time": "2022-05-03T10:51:47.621Z"
   },
   {
    "duration": 35,
    "start_time": "2022-05-03T10:55:31.871Z"
   },
   {
    "duration": 35,
    "start_time": "2022-05-03T10:55:44.035Z"
   },
   {
    "duration": 38,
    "start_time": "2022-05-03T10:55:57.877Z"
   },
   {
    "duration": 35,
    "start_time": "2022-05-03T10:56:41.486Z"
   },
   {
    "duration": 22,
    "start_time": "2022-05-03T10:56:47.314Z"
   },
   {
    "duration": 22,
    "start_time": "2022-05-03T10:56:54.124Z"
   },
   {
    "duration": 35,
    "start_time": "2022-05-03T10:57:27.551Z"
   },
   {
    "duration": 53,
    "start_time": "2022-05-03T10:58:15.455Z"
   },
   {
    "duration": 27,
    "start_time": "2022-05-03T10:58:27.055Z"
   },
   {
    "duration": 237,
    "start_time": "2022-05-03T10:58:35.317Z"
   },
   {
    "duration": 187,
    "start_time": "2022-05-03T10:58:46.949Z"
   },
   {
    "duration": 212,
    "start_time": "2022-05-03T10:59:05.777Z"
   },
   {
    "duration": 19,
    "start_time": "2022-05-03T11:00:14.867Z"
   },
   {
    "duration": 4,
    "start_time": "2022-05-03T11:00:25.577Z"
   },
   {
    "duration": 85,
    "start_time": "2022-05-03T11:00:26.929Z"
   },
   {
    "duration": 23,
    "start_time": "2022-05-03T11:00:29.999Z"
   },
   {
    "duration": 16,
    "start_time": "2022-05-03T11:00:33.100Z"
   },
   {
    "duration": 5,
    "start_time": "2022-05-03T11:00:42.911Z"
   },
   {
    "duration": 6,
    "start_time": "2022-05-03T11:00:45.692Z"
   },
   {
    "duration": 24,
    "start_time": "2022-05-03T11:00:47.479Z"
   },
   {
    "duration": 22,
    "start_time": "2022-05-03T11:00:51.794Z"
   },
   {
    "duration": 28,
    "start_time": "2022-05-03T11:01:22.898Z"
   },
   {
    "duration": 22,
    "start_time": "2022-05-03T11:05:51.100Z"
   },
   {
    "duration": 1153,
    "start_time": "2022-05-03T11:15:30.479Z"
   },
   {
    "duration": 590,
    "start_time": "2022-05-03T11:15:31.634Z"
   },
   {
    "duration": 26,
    "start_time": "2022-05-03T11:15:32.225Z"
   },
   {
    "duration": 7,
    "start_time": "2022-05-03T11:15:32.253Z"
   },
   {
    "duration": 27,
    "start_time": "2022-05-03T11:15:32.261Z"
   },
   {
    "duration": 82,
    "start_time": "2022-05-03T11:15:32.290Z"
   },
   {
    "duration": 404,
    "start_time": "2022-05-03T11:15:32.373Z"
   },
   {
    "duration": 69,
    "start_time": "2022-05-03T11:15:32.778Z"
   },
   {
    "duration": 378,
    "start_time": "2022-05-03T11:15:32.849Z"
   },
   {
    "duration": 3529,
    "start_time": "2022-05-03T11:15:33.229Z"
   },
   {
    "duration": 249,
    "start_time": "2022-05-03T11:15:36.760Z"
   },
   {
    "duration": 39,
    "start_time": "2022-05-03T11:15:37.011Z"
   },
   {
    "duration": 27,
    "start_time": "2022-05-03T11:15:37.052Z"
   },
   {
    "duration": 44,
    "start_time": "2022-05-03T11:15:37.081Z"
   },
   {
    "duration": 31,
    "start_time": "2022-05-03T11:15:37.126Z"
   },
   {
    "duration": 5416,
    "start_time": "2022-05-03T11:15:37.158Z"
   },
   {
    "duration": 975,
    "start_time": "2022-05-03T11:15:42.575Z"
   },
   {
    "duration": 41,
    "start_time": "2022-05-03T11:15:48.593Z"
   },
   {
    "duration": 154,
    "start_time": "2022-05-03T11:15:51.987Z"
   },
   {
    "duration": 1096,
    "start_time": "2022-05-03T11:39:47.071Z"
   },
   {
    "duration": 3225,
    "start_time": "2022-05-03T11:39:48.169Z"
   },
   {
    "duration": 0,
    "start_time": "2022-05-03T11:39:51.399Z"
   },
   {
    "duration": 0,
    "start_time": "2022-05-03T11:39:51.401Z"
   },
   {
    "duration": 0,
    "start_time": "2022-05-03T11:39:51.403Z"
   },
   {
    "duration": 0,
    "start_time": "2022-05-03T11:39:51.405Z"
   },
   {
    "duration": 0,
    "start_time": "2022-05-03T11:39:51.406Z"
   },
   {
    "duration": 0,
    "start_time": "2022-05-03T11:39:51.408Z"
   },
   {
    "duration": 0,
    "start_time": "2022-05-03T11:39:51.409Z"
   },
   {
    "duration": 0,
    "start_time": "2022-05-03T11:39:51.411Z"
   },
   {
    "duration": 0,
    "start_time": "2022-05-03T11:39:51.412Z"
   },
   {
    "duration": 0,
    "start_time": "2022-05-03T11:39:51.414Z"
   },
   {
    "duration": 0,
    "start_time": "2022-05-03T11:39:51.415Z"
   },
   {
    "duration": 0,
    "start_time": "2022-05-03T11:39:51.418Z"
   },
   {
    "duration": 0,
    "start_time": "2022-05-03T11:39:51.419Z"
   },
   {
    "duration": 0,
    "start_time": "2022-05-03T11:39:51.420Z"
   },
   {
    "duration": 0,
    "start_time": "2022-05-03T11:39:51.421Z"
   },
   {
    "duration": 0,
    "start_time": "2022-05-03T11:39:51.423Z"
   },
   {
    "duration": 0,
    "start_time": "2022-05-03T11:39:51.424Z"
   },
   {
    "duration": 0,
    "start_time": "2022-05-03T11:39:51.424Z"
   },
   {
    "duration": 0,
    "start_time": "2022-05-03T11:39:51.427Z"
   },
   {
    "duration": 0,
    "start_time": "2022-05-03T11:39:51.428Z"
   },
   {
    "duration": 0,
    "start_time": "2022-05-03T11:39:51.430Z"
   },
   {
    "duration": 0,
    "start_time": "2022-05-03T11:39:51.431Z"
   },
   {
    "duration": 0,
    "start_time": "2022-05-03T11:39:51.432Z"
   },
   {
    "duration": 0,
    "start_time": "2022-05-03T11:39:51.433Z"
   },
   {
    "duration": 0,
    "start_time": "2022-05-03T11:39:51.434Z"
   },
   {
    "duration": 0,
    "start_time": "2022-05-03T11:39:51.434Z"
   },
   {
    "duration": 0,
    "start_time": "2022-05-03T11:39:51.435Z"
   },
   {
    "duration": 0,
    "start_time": "2022-05-03T11:39:51.436Z"
   },
   {
    "duration": 0,
    "start_time": "2022-05-03T11:39:51.437Z"
   },
   {
    "duration": 0,
    "start_time": "2022-05-03T11:39:51.439Z"
   },
   {
    "duration": 0,
    "start_time": "2022-05-03T11:39:51.440Z"
   },
   {
    "duration": 0,
    "start_time": "2022-05-03T11:39:51.441Z"
   },
   {
    "duration": 0,
    "start_time": "2022-05-03T11:39:51.443Z"
   },
   {
    "duration": 0,
    "start_time": "2022-05-03T11:39:51.444Z"
   },
   {
    "duration": 0,
    "start_time": "2022-05-03T11:39:51.445Z"
   },
   {
    "duration": 0,
    "start_time": "2022-05-03T11:39:51.446Z"
   },
   {
    "duration": 0,
    "start_time": "2022-05-03T11:39:51.448Z"
   },
   {
    "duration": 0,
    "start_time": "2022-05-03T11:39:51.449Z"
   },
   {
    "duration": 0,
    "start_time": "2022-05-03T11:39:51.450Z"
   },
   {
    "duration": 0,
    "start_time": "2022-05-03T11:39:51.451Z"
   },
   {
    "duration": 0,
    "start_time": "2022-05-03T11:39:51.452Z"
   },
   {
    "duration": 0,
    "start_time": "2022-05-03T11:39:51.453Z"
   },
   {
    "duration": 0,
    "start_time": "2022-05-03T11:39:51.454Z"
   },
   {
    "duration": 1177,
    "start_time": "2022-05-03T11:40:21.606Z"
   },
   {
    "duration": 731,
    "start_time": "2022-05-03T11:40:22.785Z"
   },
   {
    "duration": 33,
    "start_time": "2022-05-03T11:40:23.518Z"
   },
   {
    "duration": 10,
    "start_time": "2022-05-03T11:40:23.553Z"
   },
   {
    "duration": 27,
    "start_time": "2022-05-03T11:40:23.564Z"
   },
   {
    "duration": 121,
    "start_time": "2022-05-03T11:40:23.593Z"
   },
   {
    "duration": 433,
    "start_time": "2022-05-03T11:40:23.717Z"
   },
   {
    "duration": 73,
    "start_time": "2022-05-03T11:40:24.151Z"
   },
   {
    "duration": 631,
    "start_time": "2022-05-03T11:40:24.228Z"
   },
   {
    "duration": 5789,
    "start_time": "2022-05-03T11:40:24.862Z"
   },
   {
    "duration": 306,
    "start_time": "2022-05-03T11:40:30.653Z"
   },
   {
    "duration": 38,
    "start_time": "2022-05-03T11:40:30.961Z"
   },
   {
    "duration": 51,
    "start_time": "2022-05-03T11:40:31.002Z"
   },
   {
    "duration": 38,
    "start_time": "2022-05-03T11:40:31.055Z"
   },
   {
    "duration": 37,
    "start_time": "2022-05-03T11:40:31.095Z"
   },
   {
    "duration": 5747,
    "start_time": "2022-05-03T11:40:31.134Z"
   },
   {
    "duration": 719,
    "start_time": "2022-05-03T11:40:36.884Z"
   },
   {
    "duration": 56,
    "start_time": "2022-05-03T11:40:37.605Z"
   },
   {
    "duration": 14,
    "start_time": "2022-05-03T11:40:43.384Z"
   },
   {
    "duration": 19,
    "start_time": "2022-05-03T11:40:50.212Z"
   },
   {
    "duration": 13,
    "start_time": "2022-05-03T11:40:58.839Z"
   },
   {
    "duration": 162,
    "start_time": "2022-05-03T11:43:03.937Z"
   },
   {
    "duration": 83,
    "start_time": "2022-05-03T11:44:00.305Z"
   },
   {
    "duration": 60,
    "start_time": "2022-05-03T11:50:08.449Z"
   },
   {
    "duration": 26,
    "start_time": "2022-05-03T11:50:23.883Z"
   },
   {
    "duration": 33,
    "start_time": "2022-05-03T11:50:28.243Z"
   },
   {
    "duration": 26,
    "start_time": "2022-05-03T11:50:33.424Z"
   },
   {
    "duration": 6,
    "start_time": "2022-05-03T11:50:50.305Z"
   },
   {
    "duration": 5,
    "start_time": "2022-05-03T11:50:51.379Z"
   },
   {
    "duration": 260,
    "start_time": "2022-05-03T11:50:52.543Z"
   },
   {
    "duration": 257,
    "start_time": "2022-05-03T11:50:56.004Z"
   },
   {
    "duration": 15,
    "start_time": "2022-05-03T11:50:56.440Z"
   },
   {
    "duration": 11,
    "start_time": "2022-05-03T11:51:00.252Z"
   },
   {
    "duration": 56,
    "start_time": "2022-05-03T11:51:01.606Z"
   },
   {
    "duration": 330,
    "start_time": "2022-05-03T11:51:04.741Z"
   },
   {
    "duration": 327,
    "start_time": "2022-05-03T11:51:15.243Z"
   },
   {
    "duration": 365,
    "start_time": "2022-05-03T11:51:21.912Z"
   },
   {
    "duration": 39,
    "start_time": "2022-05-03T11:53:23.466Z"
   },
   {
    "duration": 45,
    "start_time": "2022-05-03T11:53:36.206Z"
   },
   {
    "duration": 36,
    "start_time": "2022-05-03T11:55:29.284Z"
   },
   {
    "duration": 330,
    "start_time": "2022-05-03T11:55:36.042Z"
   },
   {
    "duration": 22,
    "start_time": "2022-05-03T11:56:26.442Z"
   },
   {
    "duration": 5,
    "start_time": "2022-05-03T11:56:33.376Z"
   },
   {
    "duration": 96,
    "start_time": "2022-05-03T11:56:34.246Z"
   },
   {
    "duration": 26,
    "start_time": "2022-05-03T11:56:36.619Z"
   },
   {
    "duration": 22,
    "start_time": "2022-05-03T11:56:37.466Z"
   },
   {
    "duration": 20,
    "start_time": "2022-05-03T11:56:44.749Z"
   },
   {
    "duration": 22,
    "start_time": "2022-05-03T11:56:50.176Z"
   },
   {
    "duration": 1233,
    "start_time": "2022-05-03T11:59:21.699Z"
   },
   {
    "duration": 857,
    "start_time": "2022-05-03T11:59:22.935Z"
   },
   {
    "duration": 32,
    "start_time": "2022-05-03T11:59:23.793Z"
   },
   {
    "duration": 12,
    "start_time": "2022-05-03T11:59:23.827Z"
   },
   {
    "duration": 26,
    "start_time": "2022-05-03T11:59:23.841Z"
   },
   {
    "duration": 87,
    "start_time": "2022-05-03T11:59:23.868Z"
   },
   {
    "duration": 700,
    "start_time": "2022-05-03T11:59:23.956Z"
   },
   {
    "duration": 102,
    "start_time": "2022-05-03T11:59:24.658Z"
   },
   {
    "duration": 610,
    "start_time": "2022-05-03T11:59:24.762Z"
   },
   {
    "duration": 4549,
    "start_time": "2022-05-03T11:59:25.375Z"
   },
   {
    "duration": 372,
    "start_time": "2022-05-03T11:59:29.926Z"
   },
   {
    "duration": 66,
    "start_time": "2022-05-03T11:59:30.300Z"
   },
   {
    "duration": 31,
    "start_time": "2022-05-03T11:59:30.368Z"
   },
   {
    "duration": 50,
    "start_time": "2022-05-03T11:59:30.401Z"
   },
   {
    "duration": 39,
    "start_time": "2022-05-03T11:59:30.453Z"
   },
   {
    "duration": 5318,
    "start_time": "2022-05-03T11:59:30.494Z"
   },
   {
    "duration": 967,
    "start_time": "2022-05-03T11:59:35.814Z"
   },
   {
    "duration": 71,
    "start_time": "2022-05-03T11:59:36.783Z"
   },
   {
    "duration": 219,
    "start_time": "2022-05-03T11:59:36.856Z"
   },
   {
    "duration": 66,
    "start_time": "2022-05-03T11:59:37.076Z"
   },
   {
    "duration": 2,
    "start_time": "2022-05-03T11:59:44.104Z"
   },
   {
    "duration": 20,
    "start_time": "2022-05-03T11:59:47.303Z"
   },
   {
    "duration": 32,
    "start_time": "2022-05-03T11:59:49.277Z"
   },
   {
    "duration": 24,
    "start_time": "2022-05-03T11:59:50.984Z"
   },
   {
    "duration": 5,
    "start_time": "2022-05-03T11:59:54.777Z"
   },
   {
    "duration": 5,
    "start_time": "2022-05-03T11:59:55.466Z"
   },
   {
    "duration": 256,
    "start_time": "2022-05-03T11:59:56.154Z"
   },
   {
    "duration": 247,
    "start_time": "2022-05-03T11:59:57.542Z"
   },
   {
    "duration": 20,
    "start_time": "2022-05-03T11:59:59.337Z"
   },
   {
    "duration": 11,
    "start_time": "2022-05-03T12:00:03.331Z"
   },
   {
    "duration": 37,
    "start_time": "2022-05-03T12:00:04.781Z"
   },
   {
    "duration": 362,
    "start_time": "2022-05-03T12:00:07.849Z"
   },
   {
    "duration": 207,
    "start_time": "2022-05-03T12:00:09.742Z"
   },
   {
    "duration": 41,
    "start_time": "2022-05-03T12:00:16.154Z"
   },
   {
    "duration": 62,
    "start_time": "2022-05-03T12:00:20.227Z"
   },
   {
    "duration": 25,
    "start_time": "2022-05-03T12:00:33.537Z"
   },
   {
    "duration": 224,
    "start_time": "2022-05-03T12:00:35.530Z"
   },
   {
    "duration": 36,
    "start_time": "2022-05-03T12:00:38.532Z"
   },
   {
    "duration": 5,
    "start_time": "2022-05-03T12:00:41.221Z"
   },
   {
    "duration": 6,
    "start_time": "2022-05-03T12:00:43.455Z"
   },
   {
    "duration": 23,
    "start_time": "2022-05-03T12:00:44.951Z"
   },
   {
    "duration": 18,
    "start_time": "2022-05-03T12:00:45.737Z"
   },
   {
    "duration": 31,
    "start_time": "2022-05-03T12:00:49.406Z"
   },
   {
    "duration": 20,
    "start_time": "2022-05-03T12:00:55.148Z"
   },
   {
    "duration": 1047,
    "start_time": "2022-05-04T03:58:08.777Z"
   },
   {
    "duration": 672,
    "start_time": "2022-05-04T03:58:09.827Z"
   },
   {
    "duration": 24,
    "start_time": "2022-05-04T03:58:10.500Z"
   },
   {
    "duration": 7,
    "start_time": "2022-05-04T03:58:10.526Z"
   },
   {
    "duration": 43,
    "start_time": "2022-05-04T03:58:10.535Z"
   },
   {
    "duration": 64,
    "start_time": "2022-05-04T03:58:10.579Z"
   },
   {
    "duration": 430,
    "start_time": "2022-05-04T03:58:10.645Z"
   },
   {
    "duration": 59,
    "start_time": "2022-05-04T03:58:11.077Z"
   },
   {
    "duration": 456,
    "start_time": "2022-05-04T03:58:11.138Z"
   },
   {
    "duration": 3262,
    "start_time": "2022-05-04T03:58:11.596Z"
   },
   {
    "duration": 303,
    "start_time": "2022-05-04T03:58:14.859Z"
   },
   {
    "duration": 33,
    "start_time": "2022-05-04T03:58:15.164Z"
   },
   {
    "duration": 28,
    "start_time": "2022-05-04T03:58:15.199Z"
   },
   {
    "duration": 51,
    "start_time": "2022-05-04T03:58:15.229Z"
   },
   {
    "duration": 31,
    "start_time": "2022-05-04T03:58:15.282Z"
   },
   {
    "duration": 4957,
    "start_time": "2022-05-04T03:58:15.315Z"
   },
   {
    "duration": 731,
    "start_time": "2022-05-04T03:58:20.274Z"
   },
   {
    "duration": 52,
    "start_time": "2022-05-04T03:58:21.007Z"
   },
   {
    "duration": 212,
    "start_time": "2022-05-04T03:58:21.074Z"
   },
   {
    "duration": 57,
    "start_time": "2022-05-04T03:58:21.288Z"
   },
   {
    "duration": 3,
    "start_time": "2022-05-04T03:58:21.347Z"
   },
   {
    "duration": 42,
    "start_time": "2022-05-04T03:58:21.351Z"
   },
   {
    "duration": 34,
    "start_time": "2022-05-04T03:58:21.395Z"
   },
   {
    "duration": 44,
    "start_time": "2022-05-04T03:58:21.431Z"
   },
   {
    "duration": 5,
    "start_time": "2022-05-04T03:58:21.477Z"
   },
   {
    "duration": 9,
    "start_time": "2022-05-04T03:58:21.484Z"
   },
   {
    "duration": 281,
    "start_time": "2022-05-04T03:58:21.494Z"
   },
   {
    "duration": 253,
    "start_time": "2022-05-04T03:58:21.779Z"
   },
   {
    "duration": 13,
    "start_time": "2022-05-04T03:58:22.034Z"
   },
   {
    "duration": 29,
    "start_time": "2022-05-04T03:58:22.049Z"
   },
   {
    "duration": 32,
    "start_time": "2022-05-04T03:58:22.080Z"
   },
   {
    "duration": 347,
    "start_time": "2022-05-04T03:58:22.113Z"
   },
   {
    "duration": 212,
    "start_time": "2022-05-04T03:58:22.461Z"
   },
   {
    "duration": 42,
    "start_time": "2022-05-04T03:58:22.675Z"
   },
   {
    "duration": 68,
    "start_time": "2022-05-04T03:58:22.718Z"
   },
   {
    "duration": 23,
    "start_time": "2022-05-04T03:58:22.787Z"
   },
   {
    "duration": 234,
    "start_time": "2022-05-04T03:58:22.812Z"
   },
   {
    "duration": 30,
    "start_time": "2022-05-04T03:58:23.048Z"
   },
   {
    "duration": 4,
    "start_time": "2022-05-04T03:58:23.079Z"
   },
   {
    "duration": 8,
    "start_time": "2022-05-04T03:58:23.085Z"
   },
   {
    "duration": 29,
    "start_time": "2022-05-04T03:58:23.094Z"
   },
   {
    "duration": 16,
    "start_time": "2022-05-04T03:58:23.124Z"
   },
   {
    "duration": 46,
    "start_time": "2022-05-04T03:58:23.142Z"
   },
   {
    "duration": 19,
    "start_time": "2022-05-04T03:58:23.190Z"
   }
  ],
  "kernelspec": {
   "display_name": "Python 3",
   "language": "python",
   "name": "python3"
  },
  "language_info": {
   "codemirror_mode": {
    "name": "ipython",
    "version": 3
   },
   "file_extension": ".py",
   "mimetype": "text/x-python",
   "name": "python",
   "nbconvert_exporter": "python",
   "pygments_lexer": "ipython3",
   "version": "3.8.3"
  },
  "toc": {
   "base_numbering": 1,
   "nav_menu": {},
   "number_sections": true,
   "sideBar": true,
   "skip_h1_title": true,
   "title_cell": "Table of Contents",
   "title_sidebar": "Contents",
   "toc_cell": false,
   "toc_position": {},
   "toc_section_display": true,
   "toc_window_display": true
  },
  "varInspector": {
   "cols": {
    "lenName": 16,
    "lenType": 16,
    "lenVar": 40
   },
   "kernels_config": {
    "python": {
     "delete_cmd_postfix": "",
     "delete_cmd_prefix": "del ",
     "library": "var_list.py",
     "varRefreshCmd": "print(var_dic_list())"
    },
    "r": {
     "delete_cmd_postfix": ") ",
     "delete_cmd_prefix": "rm(",
     "library": "var_list.r",
     "varRefreshCmd": "cat(var_dic_list()) "
    }
   },
   "types_to_exclude": [
    "module",
    "function",
    "builtin_function_or_method",
    "instance",
    "_Feature"
   ],
   "window_display": false
  }
 },
 "nbformat": 4,
 "nbformat_minor": 2
}
