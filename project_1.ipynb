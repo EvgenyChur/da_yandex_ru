{
 "cells": [
  {
   "cell_type": "markdown",
   "metadata": {
    "id": "E0vqbgi9ay0H"
   },
   "source": [
    "# Яндекс.Музыка"
   ]
  },
  {
   "cell_type": "markdown",
   "metadata": {
    "id": "VUC88oWjTJw2"
   },
   "source": [
    "Сравнение Москвы и Петербурга окружено мифами. Например:\n",
    " * Москва — мегаполис, подчинённый жёсткому ритму рабочей недели;\n",
    " * Петербург — культурная столица, со своими вкусами.\n",
    "\n",
    "На данных Яндекс.Музыки вы сравните поведение пользователей двух столиц.\n",
    "\n",
    "**Цель исследования** — проверьте три гипотезы:\n",
    "1. Активность пользователей зависит от дня недели. Причём в Москве и Петербурге это проявляется по-разному.\n",
    "2. В понедельник утром в Москве преобладают одни жанры, а в Петербурге — другие. Так же и вечером пятницы преобладают разные жанры — в зависимости от города. \n",
    "3. Москва и Петербург предпочитают разные жанры музыки. В Москве чаще слушают поп-музыку, в Петербурге — русский рэп.\n",
    "\n",
    "**Ход исследования**\n",
    "\n",
    "Данные о поведении пользователей вы получите из файла `yandex_music_project.csv`. О качестве данных ничего не известно. Поэтому перед проверкой гипотез понадобится обзор данных. \n",
    "\n",
    "Вы проверите данные на ошибки и оцените их влияние на исследование. Затем, на этапе предобработки вы поищете возможность исправить самые критичные ошибки данных.\n",
    " \n",
    "Таким образом, исследование пройдёт в три этапа:\n",
    " 1. Обзор данных.\n",
    " 2. Предобработка данных.\n",
    " 3. Проверка гипотез.\n",
    "\n"
   ]
  },
  {
   "cell_type": "markdown",
   "metadata": {
    "id": "Ml1hmfXC_Zcs"
   },
   "source": [
    "## Обзор данных\n",
    "\n",
    "Составьте первое представление о данных Яндекс.Музыки.\n",
    "\n",
    "\n"
   ]
  },
  {
   "cell_type": "code",
   "execution_count": 1,
   "metadata": {
    "id": "AXN7PHPN_Zcs"
   },
   "outputs": [
    {
     "data": {
      "text/html": [
       "<div>\n",
       "<style scoped>\n",
       "    .dataframe tbody tr th:only-of-type {\n",
       "        vertical-align: middle;\n",
       "    }\n",
       "\n",
       "    .dataframe tbody tr th {\n",
       "        vertical-align: top;\n",
       "    }\n",
       "\n",
       "    .dataframe thead th {\n",
       "        text-align: right;\n",
       "    }\n",
       "</style>\n",
       "<table border=\"1\" class=\"dataframe\">\n",
       "  <thead>\n",
       "    <tr style=\"text-align: right;\">\n",
       "      <th></th>\n",
       "      <th>userID</th>\n",
       "      <th>Track</th>\n",
       "      <th>artist</th>\n",
       "      <th>genre</th>\n",
       "      <th>City</th>\n",
       "      <th>time</th>\n",
       "      <th>Day</th>\n",
       "    </tr>\n",
       "  </thead>\n",
       "  <tbody>\n",
       "    <tr>\n",
       "      <th>0</th>\n",
       "      <td>FFB692EC</td>\n",
       "      <td>Kamigata To Boots</td>\n",
       "      <td>The Mass Missile</td>\n",
       "      <td>rock</td>\n",
       "      <td>Saint-Petersburg</td>\n",
       "      <td>20:28:33</td>\n",
       "      <td>Wednesday</td>\n",
       "    </tr>\n",
       "    <tr>\n",
       "      <th>1</th>\n",
       "      <td>55204538</td>\n",
       "      <td>Delayed Because of Accident</td>\n",
       "      <td>Andreas Rönnberg</td>\n",
       "      <td>rock</td>\n",
       "      <td>Moscow</td>\n",
       "      <td>14:07:09</td>\n",
       "      <td>Friday</td>\n",
       "    </tr>\n",
       "    <tr>\n",
       "      <th>2</th>\n",
       "      <td>20EC38</td>\n",
       "      <td>Funiculì funiculà</td>\n",
       "      <td>Mario Lanza</td>\n",
       "      <td>pop</td>\n",
       "      <td>Saint-Petersburg</td>\n",
       "      <td>20:58:07</td>\n",
       "      <td>Wednesday</td>\n",
       "    </tr>\n",
       "    <tr>\n",
       "      <th>3</th>\n",
       "      <td>A3DD03C9</td>\n",
       "      <td>Dragons in the Sunset</td>\n",
       "      <td>Fire + Ice</td>\n",
       "      <td>folk</td>\n",
       "      <td>Saint-Petersburg</td>\n",
       "      <td>08:37:09</td>\n",
       "      <td>Monday</td>\n",
       "    </tr>\n",
       "    <tr>\n",
       "      <th>4</th>\n",
       "      <td>E2DC1FAE</td>\n",
       "      <td>Soul People</td>\n",
       "      <td>Space Echo</td>\n",
       "      <td>dance</td>\n",
       "      <td>Moscow</td>\n",
       "      <td>08:34:34</td>\n",
       "      <td>Monday</td>\n",
       "    </tr>\n",
       "    <tr>\n",
       "      <th>5</th>\n",
       "      <td>842029A1</td>\n",
       "      <td>Преданная</td>\n",
       "      <td>IMPERVTOR</td>\n",
       "      <td>rusrap</td>\n",
       "      <td>Saint-Petersburg</td>\n",
       "      <td>13:09:41</td>\n",
       "      <td>Friday</td>\n",
       "    </tr>\n",
       "    <tr>\n",
       "      <th>6</th>\n",
       "      <td>4CB90AA5</td>\n",
       "      <td>True</td>\n",
       "      <td>Roman Messer</td>\n",
       "      <td>dance</td>\n",
       "      <td>Moscow</td>\n",
       "      <td>13:00:07</td>\n",
       "      <td>Wednesday</td>\n",
       "    </tr>\n",
       "    <tr>\n",
       "      <th>7</th>\n",
       "      <td>F03E1C1F</td>\n",
       "      <td>Feeling This Way</td>\n",
       "      <td>Polina Griffith</td>\n",
       "      <td>dance</td>\n",
       "      <td>Moscow</td>\n",
       "      <td>20:47:49</td>\n",
       "      <td>Wednesday</td>\n",
       "    </tr>\n",
       "    <tr>\n",
       "      <th>8</th>\n",
       "      <td>8FA1D3BE</td>\n",
       "      <td>И вновь продолжается бой</td>\n",
       "      <td>NaN</td>\n",
       "      <td>ruspop</td>\n",
       "      <td>Moscow</td>\n",
       "      <td>09:17:40</td>\n",
       "      <td>Friday</td>\n",
       "    </tr>\n",
       "    <tr>\n",
       "      <th>9</th>\n",
       "      <td>E772D5C0</td>\n",
       "      <td>Pessimist</td>\n",
       "      <td>NaN</td>\n",
       "      <td>dance</td>\n",
       "      <td>Saint-Petersburg</td>\n",
       "      <td>21:20:49</td>\n",
       "      <td>Wednesday</td>\n",
       "    </tr>\n",
       "  </tbody>\n",
       "</table>\n",
       "</div>"
      ],
      "text/plain": [
       "     userID                        Track            artist   genre  \\\n",
       "0  FFB692EC            Kamigata To Boots  The Mass Missile    rock   \n",
       "1  55204538  Delayed Because of Accident  Andreas Rönnberg    rock   \n",
       "2    20EC38            Funiculì funiculà       Mario Lanza     pop   \n",
       "3  A3DD03C9        Dragons in the Sunset        Fire + Ice    folk   \n",
       "4  E2DC1FAE                  Soul People        Space Echo   dance   \n",
       "5  842029A1                    Преданная         IMPERVTOR  rusrap   \n",
       "6  4CB90AA5                         True      Roman Messer   dance   \n",
       "7  F03E1C1F             Feeling This Way   Polina Griffith   dance   \n",
       "8  8FA1D3BE     И вновь продолжается бой               NaN  ruspop   \n",
       "9  E772D5C0                    Pessimist               NaN   dance   \n",
       "\n",
       "             City        time        Day  \n",
       "0  Saint-Petersburg  20:28:33  Wednesday  \n",
       "1            Moscow  14:07:09     Friday  \n",
       "2  Saint-Petersburg  20:58:07  Wednesday  \n",
       "3  Saint-Petersburg  08:37:09     Monday  \n",
       "4            Moscow  08:34:34     Monday  \n",
       "5  Saint-Petersburg  13:09:41     Friday  \n",
       "6            Moscow  13:00:07  Wednesday  \n",
       "7            Moscow  20:47:49  Wednesday  \n",
       "8            Moscow  09:17:40     Friday  \n",
       "9  Saint-Petersburg  21:20:49  Wednesday  "
      ]
     },
     "execution_count": 1,
     "metadata": {},
     "output_type": "execute_result"
    }
   ],
   "source": [
    "import pandas as pd \n",
    "\n",
    "# read data\n",
    "df = pd.read_csv('/datasets/music_project.csv')\n",
    "\n",
    "# display data\n",
    "df.head(10)"
   ]
  },
  {
   "cell_type": "code",
   "execution_count": 2,
   "metadata": {
    "id": "DSf2kIb-_Zct"
   },
   "outputs": [
    {
     "name": "stdout",
     "output_type": "stream",
     "text": [
      "<class 'pandas.core.frame.DataFrame'>\n",
      "RangeIndex: 65079 entries, 0 to 65078\n",
      "Data columns (total 7 columns):\n",
      " #   Column    Non-Null Count  Dtype \n",
      "---  ------    --------------  ----- \n",
      " 0     userID  65079 non-null  object\n",
      " 1   Track     63848 non-null  object\n",
      " 2   artist    57876 non-null  object\n",
      " 3   genre     63881 non-null  object\n",
      " 4     City    65079 non-null  object\n",
      " 5   time      65079 non-null  object\n",
      " 6   Day       65079 non-null  object\n",
      "dtypes: object(7)\n",
      "memory usage: 3.5+ MB\n"
     ]
    }
   ],
   "source": [
    "# get common information about data\n",
    "df.info()"
   ]
  },
  {
   "cell_type": "markdown",
   "metadata": {
    "id": "TaQ2Iwbr_Zct"
   },
   "source": [
    "Итак, в таблице семь столбцов. Тип данных во всех столбцах — `object`.\n",
    "\n",
    "Согласно документации к данным:\n",
    "* `userID` — идентификатор пользователя;\n",
    "* `Track` — название трека;  \n",
    "* `artist` — имя исполнителя;\n",
    "* `genre` — название жанра;\n",
    "* `City` — город пользователя;\n",
    "* `time` — время начала прослушивания;\n",
    "* `Day` — день недели.\n",
    "\n",
    "В названиях колонок видны три нарушения стиля:\n",
    "1. Строчные буквы сочетаются с прописными.\n",
    "2. Встречаются пробелы.\n",
    "3. Найдите ещё одну проблему в названии колонок и опишите её в этом пункте.\n",
    "\n",
    "\n",
    "\n",
    "Количество значений в столбцах различается. Значит, в данных есть пропущенные значения.\n"
   ]
  },
  {
   "cell_type": "markdown",
   "metadata": {
    "id": "MCB6-dXG_Zct"
   },
   "source": [
    "**Выводы**\n",
    "\n",
    "В каждой строке таблицы — данные о прослушанном треке. Часть колонок описывает саму композицию: название, исполнителя и жанр. Остальные данные рассказывают о пользователе: из какого он города, когда он слушал музыку. \n",
    "\n",
    "Предварительно можно утверждать, что, данных достаточно для проверки гипотез. Но встречаются пропуски в данных, а в названиях колонок — расхождения с хорошим стилем.\n",
    "\n",
    "Чтобы двигаться дальше, нужно устранить проблемы в данных."
   ]
  },
  {
   "cell_type": "markdown",
   "metadata": {
    "id": "SjYF6Ub9_Zct"
   },
   "source": [
    "## Предобработка данных\n",
    "Исправьте стиль в заголовках столбцов, исключите пропуски. Затем проверьте данные на дубликаты."
   ]
  },
  {
   "cell_type": "markdown",
   "metadata": {
    "id": "dIaKXr29_Zct"
   },
   "source": [
    "### Стиль заголовков"
   ]
  },
  {
   "cell_type": "code",
   "execution_count": 3,
   "metadata": {
    "id": "oKOTdF_Q_Zct"
   },
   "outputs": [
    {
     "name": "stdout",
     "output_type": "stream",
     "text": [
      "Index(['  userID', 'Track', 'artist', 'genre', '  City  ', 'time', 'Day'], dtype='object')\n",
      "Index(['user_id', 'track', 'artist', 'genre', 'city', 'time', 'day'], dtype='object')\n"
     ]
    }
   ],
   "source": [
    "# Check columns name\n",
    "print(df.columns)\n",
    "\n",
    "# Change columns name\n",
    "df = df.rename(columns = {'  userID' : 'user_id',\n",
    "                          'Track'    : 'track'  ,\n",
    "                          '  City  ' : 'city'   ,\n",
    "                          'Day'      : 'day'})\n",
    "\n",
    "# Check columns name\n",
    "print(df.columns)"
   ]
  },
  {
   "cell_type": "markdown",
   "metadata": {
    "id": "5ISfbcfY_Zct"
   },
   "source": [
    "### Пропуски значений\n",
    "Сначала посчитайте, сколько в таблице пропущенных значений. Для этого достаточно двух методов `pandas`:"
   ]
  },
  {
   "cell_type": "code",
   "execution_count": 4,
   "metadata": {
    "id": "RskX29qr_Zct"
   },
   "outputs": [
    {
     "name": "stdout",
     "output_type": "stream",
     "text": [
      "user_id       0\n",
      "track      1231\n",
      "artist     7203\n",
      "genre      1198\n",
      "city          0\n",
      "time          0\n",
      "day           0\n",
      "dtype: int64\n"
     ]
    }
   ],
   "source": [
    "# Check nan values\n",
    "print(df.isnull().sum())"
   ]
  },
  {
   "cell_type": "markdown",
   "metadata": {
    "id": "qubhgnlO_Zct"
   },
   "source": [
    "Не все пропущенные значения влияют на исследование. Так в `track` и `artist` пропуски не важны для работы. Достаточно заменить их явными обозначениями. Но пропуски в `genre` могут помешать сравнению музыкальных вкусов в Москве и Санкт-Петербурге. \n",
    "\n",
    "Было бы правильно установить причину пропусков и восстановить данные, но такой возможности нет. Придётся:\n",
    "* заполнить и эти пропуски явными обозначениями,\n",
    "* оценить, насколько они повредят расчётам. "
   ]
  },
  {
   "cell_type": "code",
   "execution_count": 5,
   "metadata": {
    "id": "KplB5qWs_Zct"
   },
   "outputs": [],
   "source": [
    "columns_to_replace = ['track', 'artist', 'genre']\n",
    "\n",
    "for col in columns_to_replace:\n",
    "    df[col] = df[col].fillna('unknown')"
   ]
  },
  {
   "cell_type": "code",
   "execution_count": 6,
   "metadata": {
    "id": "Tq4nYRX4_Zct"
   },
   "outputs": [
    {
     "name": "stdout",
     "output_type": "stream",
     "text": [
      "user_id    0\n",
      "track      0\n",
      "artist     0\n",
      "genre      0\n",
      "city       0\n",
      "time       0\n",
      "day        0\n",
      "dtype: int64\n"
     ]
    }
   ],
   "source": [
    "# Check nan values again\n",
    "print(df.isnull().sum())"
   ]
  },
  {
   "cell_type": "markdown",
   "metadata": {
    "id": "BWKRtBJ3_Zct"
   },
   "source": [
    "### Дубликаты"
   ]
  },
  {
   "cell_type": "code",
   "execution_count": 7,
   "metadata": {
    "id": "36eES_S0_Zct"
   },
   "outputs": [
    {
     "name": "stdout",
     "output_type": "stream",
     "text": [
      "3826\n",
      "0\n"
     ]
    }
   ],
   "source": [
    "# Check duplicates\n",
    "print(df.duplicated().sum())# подсчёт явных дубликатов\n",
    "\n",
    "# Delete duplicates\n",
    "# удаление явных дубликатов (с удалением старых индексов и формированием новых)\n",
    "df = df.drop_duplicates().reset_index(drop = True)\n",
    "\n",
    "print(df.duplicated().sum()) # проверка на отсутствие дубликатов"
   ]
  },
  {
   "cell_type": "markdown",
   "metadata": {
    "id": "QlFBsxAr_Zct"
   },
   "source": [
    "Теперь избавьтесь от неявных дубликатов в колонке `genre`. Например, название одного и того же жанра может быть записано немного по-разному. Такие ошибки тоже повлияют на результат исследования."
   ]
  },
  {
   "cell_type": "markdown",
   "metadata": {
    "id": "eSjWwsOh_Zct"
   },
   "source": [
    "Выведите на экран список уникальных названий жанров, отсортированный в алфавитном порядке. Для этого:\n",
    "* извлеките нужный столбец датафрейма, \n",
    "* примените к нему метод сортировки,\n",
    "* для отсортированного столбца вызовите метод, который вернёт уникальные значения из столбца."
   ]
  },
  {
   "cell_type": "code",
   "execution_count": 8,
   "metadata": {
    "id": "JIUcqzZN_Zct"
   },
   "outputs": [
    {
     "name": "stdout",
     "output_type": "stream",
     "text": [
      "['acid', 'acoustic', 'action', 'adult', 'africa', 'afrikaans', 'alternative', 'alternativepunk', 'ambient', 'americana', 'animated', 'anime', 'arabesk', 'arabic', 'arena', 'argentinetango', 'art', 'audiobook', 'author', 'avantgarde', 'axé', 'baile', 'balkan', 'beats', 'bigroom', 'black', 'bluegrass', 'blues', 'bollywood', 'bossa', 'brazilian', 'breakbeat', 'breaks', 'broadway', 'cantautori', 'cantopop', 'canzone', 'caribbean', 'caucasian', 'celtic', 'chamber', 'chanson', 'children', 'chill', 'chinese', 'choral', 'christian', 'christmas', 'classical', 'classicmetal', 'club', 'colombian', 'comedy', 'conjazz', 'contemporary', 'country', 'cuban', 'dance', 'dancehall', 'dancepop', 'dark', 'death', 'deep', 'deutschrock', 'deutschspr', 'dirty', 'disco', 'dnb', 'documentary', 'downbeat', 'downtempo', 'drum', 'dub', 'dubstep', 'eastern', 'easy', 'electronic', 'electropop', 'emo', 'entehno', 'epicmetal', 'estrada', 'ethnic', 'eurofolk', 'european', 'experimental', 'extrememetal', 'fado', 'fairytail', 'film', 'fitness', 'flamenco', 'folk', 'folklore', 'folkmetal', 'folkrock', 'folktronica', 'forró', 'frankreich', 'französisch', 'french', 'funk', 'future', 'gangsta', 'garage', 'german', 'ghazal', 'gitarre', 'glitch', 'gospel', 'gothic', 'grime', 'grunge', 'gypsy', 'handsup', \"hard'n'heavy\", 'hardcore', 'hardstyle', 'hardtechno', 'hip', 'hiphop', 'historisch', 'holiday', 'horror', 'house', 'hymn', 'idm', 'independent', 'indian', 'indie', 'indipop', 'industrial', 'inspirational', 'instrumental', 'international', 'irish', 'jam', 'japanese', 'jazz', 'jewish', 'jpop', 'jungle', 'k-pop', 'karadeniz', 'karaoke', 'kayokyoku', 'korean', 'laiko', 'latin', 'latino', 'leftfield', 'local', 'lounge', 'loungeelectronic', 'lovers', 'malaysian', 'mandopop', 'marschmusik', 'meditative', 'mediterranean', 'melodic', 'metal', 'metalcore', 'mexican', 'middle', 'minimal', 'miscellaneous', 'modern', 'mood', 'mpb', 'muslim', 'native', 'neoklassik', 'neue', 'new', 'newage', 'newwave', 'nu', 'nujazz', 'numetal', 'oceania', 'old', 'opera', 'orchestral', 'other', 'piano', 'podcasts', 'pop', 'popdance', 'popelectronic', 'popeurodance', 'poprussian', 'post', 'posthardcore', 'postrock', 'power', 'progmetal', 'progressive', 'psychedelic', 'punjabi', 'punk', 'quebecois', 'ragga', 'ram', 'rancheras', 'rap', 'rave', 'reggae', 'reggaeton', 'regional', 'relax', 'religious', 'retro', 'rhythm', 'rnb', 'rnr', 'rock', 'rockabilly', 'rockalternative', 'rockindie', 'rockother', 'romance', 'roots', 'ruspop', 'rusrap', 'rusrock', 'russian', 'salsa', 'samba', 'scenic', 'schlager', 'self', 'sertanejo', 'shanson', 'shoegazing', 'showtunes', 'singer', 'ska', 'skarock', 'slow', 'smooth', 'soft', 'soul', 'soulful', 'sound', 'soundtrack', 'southern', 'specialty', 'speech', 'spiritual', 'sport', 'stonerrock', 'surf', 'swing', 'synthpop', 'synthrock', 'sängerportrait', 'tango', 'tanzorchester', 'taraftar', 'tatar', 'tech', 'techno', 'teen', 'thrash', 'top', 'traditional', 'tradjazz', 'trance', 'tribal', 'trip', 'triphop', 'tropical', 'türk', 'türkçe', 'ukrrock', 'unknown', 'urban', 'uzbek', 'variété', 'vi', 'videogame', 'vocal', 'western', 'world', 'worldbeat', 'ïîï', 'электроника']\n"
     ]
    }
   ],
   "source": [
    "genres_list = df['genre'].unique() # Просмотр уникальных названий жанров\n",
    "print(sorted(genres_list))"
   ]
  },
  {
   "cell_type": "markdown",
   "metadata": {
    "id": "qej-Qmuo_Zct"
   },
   "source": [
    "Просмотрите список и найдите неявные дубликаты названия `hiphop`. Это могут быть названия с ошибками или альтернативные названия того же жанра.\n",
    "\n",
    "Вы увидите следующие неявные дубликаты:\n",
    "* *hip*,\n",
    "* *hop*,\n",
    "* *hip-hop*.\n",
    "\n",
    "Чтобы очистить от них таблицу, напишите функцию `replace_wrong_genres()` с двумя параметрами: \n",
    "* `wrong_genres` — список дубликатов,\n",
    "* `correct_genre` — строка с правильным значением.\n",
    "\n",
    "Функция должна исправить колонку `genre` в таблице `df`: заменить каждое значение из списка `wrong_genres` на значение из `correct_genre`."
   ]
  },
  {
   "cell_type": "code",
   "execution_count": 9,
   "metadata": {
    "id": "ErNDkmns_Zct"
   },
   "outputs": [],
   "source": [
    "# Функция для замены неявных дубликатов\n",
    "def replace_wrong_genres(wrong_genres, correct_genre):\n",
    "    for wrong in wrong_genres:\n",
    "        df['genre'] = df['genre'].replace(wrong, correct_genre)"
   ]
  },
  {
   "cell_type": "markdown",
   "metadata": {
    "id": "aDoBJxbA_Zct"
   },
   "source": [
    "Вызовите `replace_wrong_genres()` и передайте ей такие аргументы, чтобы она устранила неявные дубликаты: вместо `hip`, `hop` и `hip-hop` в таблице должно быть значение `hiphop`:"
   ]
  },
  {
   "cell_type": "code",
   "execution_count": 10,
   "metadata": {
    "id": "YN5i2hpmSo09"
   },
   "outputs": [],
   "source": [
    "duplicates = ['hip', 'hop', 'hip-hop'] # список неправильных имён жанра\n",
    "correct = 'hiphop' # правильное имя жанра\n",
    "\n",
    "# Устранение неявных дубликатов\n",
    "replace_wrong_genres(duplicates, correct)\n"
   ]
  },
  {
   "cell_type": "markdown",
   "metadata": {
    "id": "zQKF16_RG15m"
   },
   "source": [
    "Проверьте, что заменили неправильные названия:\n",
    "\n",
    "*   hip\n",
    "*   hop\n",
    "*   hip-hop\n",
    "\n",
    "Выведите отсортированный список уникальных значений столбца `genre`:"
   ]
  },
  {
   "cell_type": "code",
   "execution_count": 11,
   "metadata": {
    "id": "wvixALnFG15m"
   },
   "outputs": [
    {
     "name": "stdout",
     "output_type": "stream",
     "text": [
      "['acid', 'acoustic', 'action', 'adult', 'africa', 'afrikaans', 'alternative', 'alternativepunk', 'ambient', 'americana', 'animated', 'anime', 'arabesk', 'arabic', 'arena', 'argentinetango', 'art', 'audiobook', 'author', 'avantgarde', 'axé', 'baile', 'balkan', 'beats', 'bigroom', 'black', 'bluegrass', 'blues', 'bollywood', 'bossa', 'brazilian', 'breakbeat', 'breaks', 'broadway', 'cantautori', 'cantopop', 'canzone', 'caribbean', 'caucasian', 'celtic', 'chamber', 'chanson', 'children', 'chill', 'chinese', 'choral', 'christian', 'christmas', 'classical', 'classicmetal', 'club', 'colombian', 'comedy', 'conjazz', 'contemporary', 'country', 'cuban', 'dance', 'dancehall', 'dancepop', 'dark', 'death', 'deep', 'deutschrock', 'deutschspr', 'dirty', 'disco', 'dnb', 'documentary', 'downbeat', 'downtempo', 'drum', 'dub', 'dubstep', 'eastern', 'easy', 'electronic', 'electropop', 'emo', 'entehno', 'epicmetal', 'estrada', 'ethnic', 'eurofolk', 'european', 'experimental', 'extrememetal', 'fado', 'fairytail', 'film', 'fitness', 'flamenco', 'folk', 'folklore', 'folkmetal', 'folkrock', 'folktronica', 'forró', 'frankreich', 'französisch', 'french', 'funk', 'future', 'gangsta', 'garage', 'german', 'ghazal', 'gitarre', 'glitch', 'gospel', 'gothic', 'grime', 'grunge', 'gypsy', 'handsup', \"hard'n'heavy\", 'hardcore', 'hardstyle', 'hardtechno', 'hiphop', 'historisch', 'holiday', 'horror', 'house', 'hymn', 'idm', 'independent', 'indian', 'indie', 'indipop', 'industrial', 'inspirational', 'instrumental', 'international', 'irish', 'jam', 'japanese', 'jazz', 'jewish', 'jpop', 'jungle', 'k-pop', 'karadeniz', 'karaoke', 'kayokyoku', 'korean', 'laiko', 'latin', 'latino', 'leftfield', 'local', 'lounge', 'loungeelectronic', 'lovers', 'malaysian', 'mandopop', 'marschmusik', 'meditative', 'mediterranean', 'melodic', 'metal', 'metalcore', 'mexican', 'middle', 'minimal', 'miscellaneous', 'modern', 'mood', 'mpb', 'muslim', 'native', 'neoklassik', 'neue', 'new', 'newage', 'newwave', 'nu', 'nujazz', 'numetal', 'oceania', 'old', 'opera', 'orchestral', 'other', 'piano', 'podcasts', 'pop', 'popdance', 'popelectronic', 'popeurodance', 'poprussian', 'post', 'posthardcore', 'postrock', 'power', 'progmetal', 'progressive', 'psychedelic', 'punjabi', 'punk', 'quebecois', 'ragga', 'ram', 'rancheras', 'rap', 'rave', 'reggae', 'reggaeton', 'regional', 'relax', 'religious', 'retro', 'rhythm', 'rnb', 'rnr', 'rock', 'rockabilly', 'rockalternative', 'rockindie', 'rockother', 'romance', 'roots', 'ruspop', 'rusrap', 'rusrock', 'russian', 'salsa', 'samba', 'scenic', 'schlager', 'self', 'sertanejo', 'shanson', 'shoegazing', 'showtunes', 'singer', 'ska', 'skarock', 'slow', 'smooth', 'soft', 'soul', 'soulful', 'sound', 'soundtrack', 'southern', 'specialty', 'speech', 'spiritual', 'sport', 'stonerrock', 'surf', 'swing', 'synthpop', 'synthrock', 'sängerportrait', 'tango', 'tanzorchester', 'taraftar', 'tatar', 'tech', 'techno', 'teen', 'thrash', 'top', 'traditional', 'tradjazz', 'trance', 'tribal', 'trip', 'triphop', 'tropical', 'türk', 'türkçe', 'ukrrock', 'unknown', 'urban', 'uzbek', 'variété', 'vi', 'videogame', 'vocal', 'western', 'world', 'worldbeat', 'ïîï', 'электроника']\n"
     ]
    }
   ],
   "source": [
    "genres_list = df['genre'].unique() # Просмотр уникальных названий жанров\n",
    "print(sorted(genres_list)) # Проверка на неявные дубликаты\n"
   ]
  },
  {
   "cell_type": "markdown",
   "metadata": {},
   "source": [
    "Получаем общую информацию о данных. Убеждаемся, что чистка выполнена успешно."
   ]
  },
  {
   "cell_type": "code",
   "execution_count": 12,
   "metadata": {},
   "outputs": [
    {
     "name": "stdout",
     "output_type": "stream",
     "text": [
      "<class 'pandas.core.frame.DataFrame'>\n",
      "RangeIndex: 61253 entries, 0 to 61252\n",
      "Data columns (total 7 columns):\n",
      " #   Column   Non-Null Count  Dtype \n",
      "---  ------   --------------  ----- \n",
      " 0   user_id  61253 non-null  object\n",
      " 1   track    61253 non-null  object\n",
      " 2   artist   61253 non-null  object\n",
      " 3   genre    61253 non-null  object\n",
      " 4   city     61253 non-null  object\n",
      " 5   time     61253 non-null  object\n",
      " 6   day      61253 non-null  object\n",
      "dtypes: object(7)\n",
      "memory usage: 3.3+ MB\n"
     ]
    }
   ],
   "source": [
    "df.info()"
   ]
  },
  {
   "cell_type": "markdown",
   "metadata": {
    "id": "jz6a9-7HQUDd"
   },
   "source": [
    "**Выводы**\n",
    "\n",
    "Предобработка обнаружила три проблемы в данных:\n",
    "\n",
    "- нарушения в стиле заголовков,\n",
    "- пропущенные значения,\n",
    "- дубликаты — явные и неявные.\n",
    "\n",
    "Вы исправили заголовки, чтобы упростить работу с таблицей. Без дубликатов исследование станет более точным.\n",
    "\n",
    "Пропущенные значения вы заменили на `'unknown'`. Ещё предстоит увидеть, не повредят ли исследованию пропуски в колонке `genre`.\n",
    "\n",
    "Теперь можно перейти к проверке гипотез. "
   ]
  },
  {
   "cell_type": "markdown",
   "metadata": {
    "id": "WttZHXH0SqKk"
   },
   "source": [
    "## Проверка гипотез"
   ]
  },
  {
   "cell_type": "markdown",
   "metadata": {
    "id": "Im936VVi_Zcu"
   },
   "source": [
    "### Сравнение поведения пользователей двух столиц"
   ]
  },
  {
   "cell_type": "markdown",
   "metadata": {
    "id": "nwt_MuaL_Zcu"
   },
   "source": [
    "Первая гипотеза утверждает, что пользователи по-разному слушают музыку в Москве и Санкт-Петербурге. Проверьте это предположение по данным о трёх днях недели — понедельнике, среде и пятнице. Для этого:\n",
    "\n",
    "* Разделите пользователей Москвы и Санкт-Петербурга\n",
    "* Сравните, сколько треков послушала каждая группа пользователей в понедельник, среду и пятницу.\n"
   ]
  },
  {
   "cell_type": "markdown",
   "metadata": {
    "id": "8Dw_YMmT_Zcu"
   },
   "source": [
    "Для тренировки сначала выполните каждый из расчётов по отдельности. \n",
    "\n",
    "Оцените активность пользователей в каждом городе. Сгруппируйте данные по городу и посчитайте прослушивания в каждой группе.\n",
    "\n"
   ]
  },
  {
   "cell_type": "code",
   "execution_count": 13,
   "metadata": {
    "id": "0_Qs96oh_Zcu"
   },
   "outputs": [
    {
     "name": "stdout",
     "output_type": "stream",
     "text": [
      "city\n",
      "Moscow              42741\n",
      "Saint-Petersburg    18512\n",
      "Name: genre, dtype: int64\n"
     ]
    }
   ],
   "source": [
    "city = df.groupby('city')['genre'].count() # Подсчёт прослушиваний в каждом городе\n",
    "print(city)"
   ]
  },
  {
   "cell_type": "markdown",
   "metadata": {
    "id": "dzli3w8o_Zcu"
   },
   "source": [
    "В Москве прослушиваний больше, чем в Петербурге. Из этого не следует, что московские пользователи чаще слушают музыку. Просто самих пользователей в Москве больше.\n",
    "\n",
    "Теперь сгруппируйте данные по дню недели и подсчитайте прослушивания в понедельник, среду и пятницу. Учтите, что в данных есть информация только о прослушиваниях только за эти дни.\n"
   ]
  },
  {
   "cell_type": "code",
   "execution_count": 14,
   "metadata": {
    "id": "uZMKjiJz_Zcu"
   },
   "outputs": [
    {
     "name": "stdout",
     "output_type": "stream",
     "text": [
      "day\n",
      "Friday       21840\n",
      "Monday       21354\n",
      "Wednesday    18059\n",
      "Name: genre, dtype: int64\n"
     ]
    }
   ],
   "source": [
    "day = df.groupby('day')['genre'].count() # Подсчёт прослушиваний в каждый из трёх дней\n",
    "print(day)"
   ]
  },
  {
   "cell_type": "markdown",
   "metadata": {
    "id": "cC2tNrlL_Zcu"
   },
   "source": [
    "В среднем пользователи из двух городов менее активны по средам. Но картина может измениться, если рассмотреть каждый город в отдельности."
   ]
  },
  {
   "cell_type": "markdown",
   "metadata": {
    "id": "POzs8bGa_Zcu"
   },
   "source": [
    "Вы видели, как работает группировка по городу и по дням недели. Теперь напишите функцию, которая объединит два эти расчёта.\n",
    "\n",
    "Создайте функцию `number_tracks()`, которая посчитает прослушивания для заданного дня и города. Ей понадобятся два параметра:\n",
    "* день недели,\n",
    "* название города.\n",
    "\n",
    "В функции сохраните в переменную строки исходной таблицы, у которых значение:\n",
    "  * в колонке `day` равно параметру `day`,\n",
    "  * в колонке `city` равно параметру `city`.\n",
    "\n",
    "Для этого примените последовательную фильтрацию с логической индексацией.\n",
    "\n",
    "Затем посчитайте значения в столбце `user_id` получившейся таблицы. Результат сохраните в новую переменную. Верните эту переменную из функции."
   ]
  },
  {
   "cell_type": "code",
   "execution_count": 15,
   "metadata": {
    "id": "Nz3GdQB1_Zcu"
   },
   "outputs": [],
   "source": [
    "def number_tracks(df, day, city): \n",
    "    track_list = df[(df['day'] == day) & (df['city'] == city)]\n",
    "    track_list_count = track_list['user_id'].count()\n",
    "    return track_list_count"
   ]
  },
  {
   "cell_type": "markdown",
   "metadata": {
    "id": "ytf7xFrFJQ2r"
   },
   "source": [
    "Вызовите `number_tracks()` шесть раз, меняя значение параметров — так, чтобы получить данные для каждого города в каждый из трёх дней."
   ]
  },
  {
   "cell_type": "code",
   "execution_count": 16,
   "metadata": {
    "id": "rJcRATNQ_Zcu"
   },
   "outputs": [
    {
     "name": "stdout",
     "output_type": "stream",
     "text": [
      "количество прослушиваний в Москве по понедельникам: 15740\n",
      "количество прослушиваний в Санкт-Петербурге по понедельникам: 5614\n"
     ]
    }
   ],
   "source": [
    "msk_mon  = number_tracks(df, 'Monday','Moscow')\n",
    "print(f'количество прослушиваний в Москве по понедельникам: {msk_mon}')\n",
    "\n",
    "spb_mon = number_tracks(df, 'Monday','Saint-Petersburg') \n",
    "print(f'количество прослушиваний в Санкт-Петербурге по понедельникам: {spb_mon}')"
   ]
  },
  {
   "cell_type": "code",
   "execution_count": 17,
   "metadata": {
    "id": "_NTy2VPU_Zcu"
   },
   "outputs": [
    {
     "name": "stdout",
     "output_type": "stream",
     "text": [
      "количество прослушиваний в Москве по средам: 11056\n",
      "количество прослушиваний в Санкт-Петербурге по средам: 7003\n"
     ]
    }
   ],
   "source": [
    "msk_wen  = number_tracks(df, 'Wednesday','Moscow')\n",
    "print(f'количество прослушиваний в Москве по средам: {msk_wen}')\n",
    "\n",
    "spb_wen = number_tracks(df, 'Wednesday','Saint-Petersburg')\n",
    "print(f'количество прослушиваний в Санкт-Петербурге по средам: {spb_wen}')"
   ]
  },
  {
   "cell_type": "code",
   "execution_count": 18,
   "metadata": {
    "id": "vYDw5u_K_Zcu"
   },
   "outputs": [
    {
     "name": "stdout",
     "output_type": "stream",
     "text": [
      "количество прослушиваний в Москве по пятницам: 15945\n",
      "количество прослушиваний в Санкт-Петербурге по пятницам: 5895\n"
     ]
    }
   ],
   "source": [
    "msk_fri  = number_tracks(df, 'Friday','Moscow')\n",
    "print(f'количество прослушиваний в Москве по пятницам: {msk_fri}')\n",
    "\n",
    "spb_fri = number_tracks(df, 'Friday','Saint-Petersburg')\n",
    "print(f'количество прослушиваний в Санкт-Петербурге по пятницам: {spb_fri}')"
   ]
  },
  {
   "cell_type": "markdown",
   "metadata": {
    "id": "7QXffbO-_Zcu"
   },
   "source": [
    "Создайте c помощью конструктора `pd.DataFrame` таблицу, где\n",
    "* названия колонок — `['city', 'monday', 'wednesday', 'friday']`;\n",
    "* данные — результаты, которые вы получили с помощью `number_tracks`."
   ]
  },
  {
   "cell_type": "code",
   "execution_count": 19,
   "metadata": {
    "id": "APAcLpOr_Zcu"
   },
   "outputs": [
    {
     "data": {
      "text/html": [
       "<div>\n",
       "<style scoped>\n",
       "    .dataframe tbody tr th:only-of-type {\n",
       "        vertical-align: middle;\n",
       "    }\n",
       "\n",
       "    .dataframe tbody tr th {\n",
       "        vertical-align: top;\n",
       "    }\n",
       "\n",
       "    .dataframe thead th {\n",
       "        text-align: right;\n",
       "    }\n",
       "</style>\n",
       "<table border=\"1\" class=\"dataframe\">\n",
       "  <thead>\n",
       "    <tr style=\"text-align: right;\">\n",
       "      <th></th>\n",
       "      <th>city</th>\n",
       "      <th>monday</th>\n",
       "      <th>wednesday</th>\n",
       "      <th>friday</th>\n",
       "    </tr>\n",
       "  </thead>\n",
       "  <tbody>\n",
       "    <tr>\n",
       "      <th>0</th>\n",
       "      <td>Moscow</td>\n",
       "      <td>15740</td>\n",
       "      <td>11056</td>\n",
       "      <td>15945</td>\n",
       "    </tr>\n",
       "    <tr>\n",
       "      <th>1</th>\n",
       "      <td>Saint-Petersburg</td>\n",
       "      <td>5614</td>\n",
       "      <td>7003</td>\n",
       "      <td>5895</td>\n",
       "    </tr>\n",
       "  </tbody>\n",
       "</table>\n",
       "</div>"
      ],
      "text/plain": [
       "               city  monday  wednesday  friday\n",
       "0            Moscow   15740      11056   15945\n",
       "1  Saint-Petersburg    5614       7003    5895"
      ]
     },
     "metadata": {},
     "output_type": "display_data"
    }
   ],
   "source": [
    "columns = ['city', 'monday', 'wednesday', 'friday'] \n",
    "\n",
    "data    = [['Moscow'          , msk_mon, msk_wen, msk_fri],\n",
    "           ['Saint-Petersburg', spb_mon, spb_wen, spb_fri]]\n",
    "\n",
    "table = pd.DataFrame(data=data, columns=columns)# <таблица с полученными данными>\n",
    "display(table)# Таблица с результатами"
   ]
  },
  {
   "cell_type": "markdown",
   "metadata": {
    "id": "-EgPIHYu_Zcu"
   },
   "source": [
    "**Выводы**\n",
    "\n",
    "Данные показывают разницу поведения пользователей:\n",
    "\n",
    "- В Москве пик прослушиваний приходится на понедельник и пятницу, а в среду заметен спад.\n",
    "- В Петербурге, наоборот, больше слушают музыку по средам. Активность в понедельник и пятницу здесь почти в равной мере уступает среде.\n",
    "\n",
    "Значит, данные говорят в пользу первой гипотезы."
   ]
  },
  {
   "cell_type": "markdown",
   "metadata": {
    "id": "atZAxtq4_Zcu"
   },
   "source": [
    "### Музыка в начале и в конце недели"
   ]
  },
  {
   "cell_type": "markdown",
   "metadata": {
    "id": "eXrQqXFH_Zcu"
   },
   "source": [
    "Согласно второй гипотезе, утром в понедельник в Москве преобладают одни жанры, а в Петербурге — другие. Так же и вечером пятницы преобладают разные жанры — в зависимости от города."
   ]
  },
  {
   "cell_type": "markdown",
   "metadata": {
    "id": "S8UcW6Hw_Zcu"
   },
   "source": [
    "Сохраните таблицы с данными в две переменные:\n",
    "* по Москве — в `moscow_general`;\n",
    "* по Санкт-Петербургу — в `spb_general`."
   ]
  },
  {
   "cell_type": "code",
   "execution_count": 21,
   "metadata": {
    "id": "qeaFfM_P_Zcu"
   },
   "outputs": [
    {
     "data": {
      "text/html": [
       "<div>\n",
       "<style scoped>\n",
       "    .dataframe tbody tr th:only-of-type {\n",
       "        vertical-align: middle;\n",
       "    }\n",
       "\n",
       "    .dataframe tbody tr th {\n",
       "        vertical-align: top;\n",
       "    }\n",
       "\n",
       "    .dataframe thead th {\n",
       "        text-align: right;\n",
       "    }\n",
       "</style>\n",
       "<table border=\"1\" class=\"dataframe\">\n",
       "  <thead>\n",
       "    <tr style=\"text-align: right;\">\n",
       "      <th></th>\n",
       "      <th>user_id</th>\n",
       "      <th>track</th>\n",
       "      <th>artist</th>\n",
       "      <th>genre</th>\n",
       "      <th>city</th>\n",
       "      <th>time</th>\n",
       "      <th>day</th>\n",
       "    </tr>\n",
       "  </thead>\n",
       "  <tbody>\n",
       "    <tr>\n",
       "      <th>1</th>\n",
       "      <td>55204538</td>\n",
       "      <td>Delayed Because of Accident</td>\n",
       "      <td>Andreas Rönnberg</td>\n",
       "      <td>rock</td>\n",
       "      <td>Moscow</td>\n",
       "      <td>14:07:09</td>\n",
       "      <td>Friday</td>\n",
       "    </tr>\n",
       "    <tr>\n",
       "      <th>4</th>\n",
       "      <td>E2DC1FAE</td>\n",
       "      <td>Soul People</td>\n",
       "      <td>Space Echo</td>\n",
       "      <td>dance</td>\n",
       "      <td>Moscow</td>\n",
       "      <td>08:34:34</td>\n",
       "      <td>Monday</td>\n",
       "    </tr>\n",
       "    <tr>\n",
       "      <th>6</th>\n",
       "      <td>4CB90AA5</td>\n",
       "      <td>True</td>\n",
       "      <td>Roman Messer</td>\n",
       "      <td>dance</td>\n",
       "      <td>Moscow</td>\n",
       "      <td>13:00:07</td>\n",
       "      <td>Wednesday</td>\n",
       "    </tr>\n",
       "    <tr>\n",
       "      <th>7</th>\n",
       "      <td>F03E1C1F</td>\n",
       "      <td>Feeling This Way</td>\n",
       "      <td>Polina Griffith</td>\n",
       "      <td>dance</td>\n",
       "      <td>Moscow</td>\n",
       "      <td>20:47:49</td>\n",
       "      <td>Wednesday</td>\n",
       "    </tr>\n",
       "    <tr>\n",
       "      <th>8</th>\n",
       "      <td>8FA1D3BE</td>\n",
       "      <td>И вновь продолжается бой</td>\n",
       "      <td>unknown</td>\n",
       "      <td>ruspop</td>\n",
       "      <td>Moscow</td>\n",
       "      <td>09:17:40</td>\n",
       "      <td>Friday</td>\n",
       "    </tr>\n",
       "    <tr>\n",
       "      <th>...</th>\n",
       "      <td>...</td>\n",
       "      <td>...</td>\n",
       "      <td>...</td>\n",
       "      <td>...</td>\n",
       "      <td>...</td>\n",
       "      <td>...</td>\n",
       "      <td>...</td>\n",
       "    </tr>\n",
       "    <tr>\n",
       "      <th>61247</th>\n",
       "      <td>83A474E7</td>\n",
       "      <td>I Worship Only What You Bleed</td>\n",
       "      <td>The Black Dahlia Murder</td>\n",
       "      <td>extrememetal</td>\n",
       "      <td>Moscow</td>\n",
       "      <td>21:07:12</td>\n",
       "      <td>Monday</td>\n",
       "    </tr>\n",
       "    <tr>\n",
       "      <th>61248</th>\n",
       "      <td>729CBB09</td>\n",
       "      <td>My Name</td>\n",
       "      <td>McLean</td>\n",
       "      <td>rnb</td>\n",
       "      <td>Moscow</td>\n",
       "      <td>13:32:28</td>\n",
       "      <td>Wednesday</td>\n",
       "    </tr>\n",
       "    <tr>\n",
       "      <th>61250</th>\n",
       "      <td>C5E3A0D5</td>\n",
       "      <td>Jalopiina</td>\n",
       "      <td>unknown</td>\n",
       "      <td>industrial</td>\n",
       "      <td>Moscow</td>\n",
       "      <td>20:09:26</td>\n",
       "      <td>Friday</td>\n",
       "    </tr>\n",
       "    <tr>\n",
       "      <th>61251</th>\n",
       "      <td>321D0506</td>\n",
       "      <td>Freight Train</td>\n",
       "      <td>Chas McDevitt</td>\n",
       "      <td>rock</td>\n",
       "      <td>Moscow</td>\n",
       "      <td>21:43:59</td>\n",
       "      <td>Friday</td>\n",
       "    </tr>\n",
       "    <tr>\n",
       "      <th>61252</th>\n",
       "      <td>3A64EF84</td>\n",
       "      <td>Tell Me Sweet Little Lies</td>\n",
       "      <td>Monica Lopez</td>\n",
       "      <td>country</td>\n",
       "      <td>Moscow</td>\n",
       "      <td>21:59:46</td>\n",
       "      <td>Friday</td>\n",
       "    </tr>\n",
       "  </tbody>\n",
       "</table>\n",
       "<p>42741 rows × 7 columns</p>\n",
       "</div>"
      ],
      "text/plain": [
       "        user_id                          track                   artist  \\\n",
       "1      55204538    Delayed Because of Accident         Andreas Rönnberg   \n",
       "4      E2DC1FAE                    Soul People               Space Echo   \n",
       "6      4CB90AA5                           True             Roman Messer   \n",
       "7      F03E1C1F               Feeling This Way          Polina Griffith   \n",
       "8      8FA1D3BE       И вновь продолжается бой                  unknown   \n",
       "...         ...                            ...                      ...   \n",
       "61247  83A474E7  I Worship Only What You Bleed  The Black Dahlia Murder   \n",
       "61248  729CBB09                        My Name                   McLean   \n",
       "61250  C5E3A0D5                      Jalopiina                  unknown   \n",
       "61251  321D0506                  Freight Train            Chas McDevitt   \n",
       "61252  3A64EF84      Tell Me Sweet Little Lies             Monica Lopez   \n",
       "\n",
       "              genre    city      time        day  \n",
       "1              rock  Moscow  14:07:09     Friday  \n",
       "4             dance  Moscow  08:34:34     Monday  \n",
       "6             dance  Moscow  13:00:07  Wednesday  \n",
       "7             dance  Moscow  20:47:49  Wednesday  \n",
       "8            ruspop  Moscow  09:17:40     Friday  \n",
       "...             ...     ...       ...        ...  \n",
       "61247  extrememetal  Moscow  21:07:12     Monday  \n",
       "61248           rnb  Moscow  13:32:28  Wednesday  \n",
       "61250    industrial  Moscow  20:09:26     Friday  \n",
       "61251          rock  Moscow  21:43:59     Friday  \n",
       "61252       country  Moscow  21:59:46     Friday  \n",
       "\n",
       "[42741 rows x 7 columns]"
      ]
     },
     "execution_count": 21,
     "metadata": {},
     "output_type": "execute_result"
    }
   ],
   "source": [
    "moscow_general = df[df['city'] == 'Moscow'] # получение таблицы moscow_general из тех строк таблицы df, \n",
    "moscow_general # для которых значение в столбце 'city' равно 'Moscow'\n"
   ]
  },
  {
   "cell_type": "code",
   "execution_count": 22,
   "metadata": {
    "id": "ORaVRKto_Zcu"
   },
   "outputs": [
    {
     "data": {
      "text/html": [
       "<div>\n",
       "<style scoped>\n",
       "    .dataframe tbody tr th:only-of-type {\n",
       "        vertical-align: middle;\n",
       "    }\n",
       "\n",
       "    .dataframe tbody tr th {\n",
       "        vertical-align: top;\n",
       "    }\n",
       "\n",
       "    .dataframe thead th {\n",
       "        text-align: right;\n",
       "    }\n",
       "</style>\n",
       "<table border=\"1\" class=\"dataframe\">\n",
       "  <thead>\n",
       "    <tr style=\"text-align: right;\">\n",
       "      <th></th>\n",
       "      <th>user_id</th>\n",
       "      <th>track</th>\n",
       "      <th>artist</th>\n",
       "      <th>genre</th>\n",
       "      <th>city</th>\n",
       "      <th>time</th>\n",
       "      <th>day</th>\n",
       "    </tr>\n",
       "  </thead>\n",
       "  <tbody>\n",
       "    <tr>\n",
       "      <th>0</th>\n",
       "      <td>FFB692EC</td>\n",
       "      <td>Kamigata To Boots</td>\n",
       "      <td>The Mass Missile</td>\n",
       "      <td>rock</td>\n",
       "      <td>Saint-Petersburg</td>\n",
       "      <td>20:28:33</td>\n",
       "      <td>Wednesday</td>\n",
       "    </tr>\n",
       "    <tr>\n",
       "      <th>2</th>\n",
       "      <td>20EC38</td>\n",
       "      <td>Funiculì funiculà</td>\n",
       "      <td>Mario Lanza</td>\n",
       "      <td>pop</td>\n",
       "      <td>Saint-Petersburg</td>\n",
       "      <td>20:58:07</td>\n",
       "      <td>Wednesday</td>\n",
       "    </tr>\n",
       "    <tr>\n",
       "      <th>3</th>\n",
       "      <td>A3DD03C9</td>\n",
       "      <td>Dragons in the Sunset</td>\n",
       "      <td>Fire + Ice</td>\n",
       "      <td>folk</td>\n",
       "      <td>Saint-Petersburg</td>\n",
       "      <td>08:37:09</td>\n",
       "      <td>Monday</td>\n",
       "    </tr>\n",
       "    <tr>\n",
       "      <th>5</th>\n",
       "      <td>842029A1</td>\n",
       "      <td>Преданная</td>\n",
       "      <td>IMPERVTOR</td>\n",
       "      <td>rusrap</td>\n",
       "      <td>Saint-Petersburg</td>\n",
       "      <td>13:09:41</td>\n",
       "      <td>Friday</td>\n",
       "    </tr>\n",
       "    <tr>\n",
       "      <th>9</th>\n",
       "      <td>E772D5C0</td>\n",
       "      <td>Pessimist</td>\n",
       "      <td>unknown</td>\n",
       "      <td>dance</td>\n",
       "      <td>Saint-Petersburg</td>\n",
       "      <td>21:20:49</td>\n",
       "      <td>Wednesday</td>\n",
       "    </tr>\n",
       "    <tr>\n",
       "      <th>...</th>\n",
       "      <td>...</td>\n",
       "      <td>...</td>\n",
       "      <td>...</td>\n",
       "      <td>...</td>\n",
       "      <td>...</td>\n",
       "      <td>...</td>\n",
       "      <td>...</td>\n",
       "    </tr>\n",
       "    <tr>\n",
       "      <th>61239</th>\n",
       "      <td>D94F810B</td>\n",
       "      <td>Theme from the Walking Dead</td>\n",
       "      <td>Proyecto Halloween</td>\n",
       "      <td>film</td>\n",
       "      <td>Saint-Petersburg</td>\n",
       "      <td>21:14:40</td>\n",
       "      <td>Monday</td>\n",
       "    </tr>\n",
       "    <tr>\n",
       "      <th>61240</th>\n",
       "      <td>BC8EC5CF</td>\n",
       "      <td>Red Lips: Gta (Rover Rework)</td>\n",
       "      <td>Rover</td>\n",
       "      <td>electronic</td>\n",
       "      <td>Saint-Petersburg</td>\n",
       "      <td>21:06:50</td>\n",
       "      <td>Monday</td>\n",
       "    </tr>\n",
       "    <tr>\n",
       "      <th>61241</th>\n",
       "      <td>29E04611</td>\n",
       "      <td>Bre Petrunko</td>\n",
       "      <td>Perunika Trio</td>\n",
       "      <td>world</td>\n",
       "      <td>Saint-Petersburg</td>\n",
       "      <td>13:56:00</td>\n",
       "      <td>Monday</td>\n",
       "    </tr>\n",
       "    <tr>\n",
       "      <th>61242</th>\n",
       "      <td>1B91C621</td>\n",
       "      <td>(Hello) Cloud Mountain</td>\n",
       "      <td>sleepmakeswaves</td>\n",
       "      <td>postrock</td>\n",
       "      <td>Saint-Petersburg</td>\n",
       "      <td>09:22:13</td>\n",
       "      <td>Monday</td>\n",
       "    </tr>\n",
       "    <tr>\n",
       "      <th>61249</th>\n",
       "      <td>D08D4A55</td>\n",
       "      <td>Maybe One Day (feat. Black Spade)</td>\n",
       "      <td>Blu &amp; Exile</td>\n",
       "      <td>hiphop</td>\n",
       "      <td>Saint-Petersburg</td>\n",
       "      <td>10:00:00</td>\n",
       "      <td>Monday</td>\n",
       "    </tr>\n",
       "  </tbody>\n",
       "</table>\n",
       "<p>18512 rows × 7 columns</p>\n",
       "</div>"
      ],
      "text/plain": [
       "        user_id                              track              artist  \\\n",
       "0      FFB692EC                  Kamigata To Boots    The Mass Missile   \n",
       "2        20EC38                  Funiculì funiculà         Mario Lanza   \n",
       "3      A3DD03C9              Dragons in the Sunset          Fire + Ice   \n",
       "5      842029A1                          Преданная           IMPERVTOR   \n",
       "9      E772D5C0                          Pessimist             unknown   \n",
       "...         ...                                ...                 ...   \n",
       "61239  D94F810B        Theme from the Walking Dead  Proyecto Halloween   \n",
       "61240  BC8EC5CF       Red Lips: Gta (Rover Rework)               Rover   \n",
       "61241  29E04611                       Bre Petrunko       Perunika Trio   \n",
       "61242  1B91C621             (Hello) Cloud Mountain     sleepmakeswaves   \n",
       "61249  D08D4A55  Maybe One Day (feat. Black Spade)         Blu & Exile   \n",
       "\n",
       "            genre              city      time        day  \n",
       "0            rock  Saint-Petersburg  20:28:33  Wednesday  \n",
       "2             pop  Saint-Petersburg  20:58:07  Wednesday  \n",
       "3            folk  Saint-Petersburg  08:37:09     Monday  \n",
       "5          rusrap  Saint-Petersburg  13:09:41     Friday  \n",
       "9           dance  Saint-Petersburg  21:20:49  Wednesday  \n",
       "...           ...               ...       ...        ...  \n",
       "61239        film  Saint-Petersburg  21:14:40     Monday  \n",
       "61240  electronic  Saint-Petersburg  21:06:50     Monday  \n",
       "61241       world  Saint-Petersburg  13:56:00     Monday  \n",
       "61242    postrock  Saint-Petersburg  09:22:13     Monday  \n",
       "61249      hiphop  Saint-Petersburg  10:00:00     Monday  \n",
       "\n",
       "[18512 rows x 7 columns]"
      ]
     },
     "execution_count": 22,
     "metadata": {},
     "output_type": "execute_result"
    }
   ],
   "source": [
    "spb_general = df[df['city'] == 'Saint-Petersburg'] # получение таблицы spb_general из тех строк таблицы df,\n",
    "spb_general # для которых значение в столбце 'city' равно 'Saint-Petersburg'"
   ]
  },
  {
   "cell_type": "markdown",
   "metadata": {
    "id": "MEJV-CX2_Zcu"
   },
   "source": [
    "Создайте функцию `genre_weekday()` с четырьмя параметрами:\n",
    "* таблица (датафрейм) с данными,\n",
    "* день недели,\n",
    "* начальная временная метка в формате 'hh:mm', \n",
    "* последняя временная метка в формате 'hh:mm'.\n",
    "\n",
    "Функция должна вернуть информацию о топ-10 жанров тех треков, которые прослушивали в указанный день, в промежутке между двумя отметками времени."
   ]
  },
  {
   "cell_type": "code",
   "execution_count": 23,
   "metadata": {
    "id": "laJT9BYl_Zcu"
   },
   "outputs": [],
   "source": [
    "def genre_weekday(table, day, time1, time2):\n",
    "    # Task 1\n",
    "    genre_df = table[(table['day'] == day) & (table['time'] > time1) & (table['time'] <= time2)]\n",
    "    # Task 2\n",
    "    genre_df_count = genre_df.groupby('genre')['genre'].count()\n",
    "    # Task 3 and Task 4\n",
    "    genre_df_sorted = genre_df_count.sort_values(ascending = False).head(10)\n",
    "    return genre_df_sorted    "
   ]
  },
  {
   "cell_type": "markdown",
   "metadata": {
    "id": "la2s2_PF_Zcu"
   },
   "source": [
    "Cравните результаты функции `genre_weekday()` для Москвы и Санкт-Петербурга в понедельник утром (с 7:00 до 11:00) и в пятницу вечером (с 17:00 до 23:00):"
   ]
  },
  {
   "cell_type": "code",
   "execution_count": 24,
   "metadata": {
    "id": "yz7itPUQ_Zcu"
   },
   "outputs": [
    {
     "data": {
      "text/plain": [
       "genre\n",
       "pop            781\n",
       "dance          549\n",
       "electronic     480\n",
       "rock           474\n",
       "hiphop         286\n",
       "ruspop         186\n",
       "world          181\n",
       "rusrap         175\n",
       "alternative    164\n",
       "unknown        161\n",
       "Name: genre, dtype: int64"
      ]
     },
     "metadata": {},
     "output_type": "display_data"
    },
    {
     "data": {
      "text/plain": [
       "genre\n",
       "pop            218\n",
       "dance          182\n",
       "rock           162\n",
       "electronic     147\n",
       "hiphop          80\n",
       "ruspop          64\n",
       "alternative     58\n",
       "rusrap          55\n",
       "jazz            44\n",
       "classical       40\n",
       "Name: genre, dtype: int64"
      ]
     },
     "metadata": {},
     "output_type": "display_data"
    }
   ],
   "source": [
    "# Data for Moscow\n",
    "display(genre_weekday(moscow_general, 'Monday', '07:00:00', '11:00:00'))\n",
    "\n",
    "# Data for Saint-Petersburg\n",
    "display(genre_weekday(spb_general   , 'Monday', '07:00:00', '11:00:00'))"
   ]
  },
  {
   "cell_type": "code",
   "execution_count": 25,
   "metadata": {
    "id": "EzXVRE1o_Zcu"
   },
   "outputs": [
    {
     "data": {
      "text/plain": [
       "genre\n",
       "pop            713\n",
       "rock           517\n",
       "dance          495\n",
       "electronic     482\n",
       "hiphop         273\n",
       "world          208\n",
       "ruspop         170\n",
       "alternative    163\n",
       "classical      163\n",
       "rusrap         142\n",
       "Name: genre, dtype: int64"
      ]
     },
     "metadata": {},
     "output_type": "display_data"
    },
    {
     "data": {
      "text/plain": [
       "genre\n",
       "pop            256\n",
       "electronic     216\n",
       "rock           216\n",
       "dance          210\n",
       "hiphop          97\n",
       "alternative     63\n",
       "jazz            61\n",
       "classical       60\n",
       "rusrap          59\n",
       "world           54\n",
       "Name: genre, dtype: int64"
      ]
     },
     "metadata": {},
     "output_type": "display_data"
    }
   ],
   "source": [
    "# Data for Moscow\n",
    "display(genre_weekday(moscow_general, 'Friday', '17:00:00', '23:00:00'))\n",
    "\n",
    "# Data for Saint-Petersburg\n",
    "display(genre_weekday(spb_general   , 'Friday', '17:00:00', '23:00:00'))"
   ]
  },
  {
   "cell_type": "markdown",
   "metadata": {
    "id": "wrCe4MNX_Zcu"
   },
   "source": [
    "**Выводы**\n",
    "\n",
    "Если сравнить топ-10 жанров в понедельник утром, можно сделать такие выводы:\n",
    "\n",
    "1. В Москве и Петербурге слушают похожую музыку. Единственное отличие — в московский рейтинг вошёл жанр “world”, а в петербургский — джаз и классика.\n",
    "\n",
    "2. В Москве пропущенных значений оказалось так много, что значение `'unknown'` заняло десятое место среди самых популярных жанров. Значит, пропущенные значения занимают существенную долю в данных и угрожают достоверности исследования.\n",
    "\n",
    "Вечер пятницы не меняет эту картину. Некоторые жанры поднимаются немного выше, другие спускаются, но в целом топ-10 остаётся тем же самым.\n",
    "\n",
    "Таким образом, вторая гипотеза подтвердилась лишь частично:\n",
    "* Пользователи слушают похожую музыку в начале недели и в конце.\n",
    "* Разница между Москвой и Петербургом не слишком выражена. В Москве чаще слушают русскую популярную музыку, в Петербурге — джаз.\n",
    "\n",
    "Однако пропуски в данных ставят под сомнение этот результат. В Москве их так много, что рейтинг топ-10 мог бы выглядеть иначе, если бы не утерянные  данные о жанрах."
   ]
  },
  {
   "cell_type": "markdown",
   "metadata": {
    "id": "JolODAqr_Zcu"
   },
   "source": [
    "### Жанровые предпочтения в Москве и Петербурге\n",
    "\n",
    "Гипотеза: Петербург — столица рэпа, музыку этого жанра там слушают чаще, чем в Москве.  А Москва — город контрастов, в котором, тем не менее, преобладает поп-музыка."
   ]
  },
  {
   "cell_type": "markdown",
   "metadata": {
    "id": "DlegSvaT_Zcu"
   },
   "source": [
    "Сгруппируйте таблицу `moscow_general` по жанру и посчитайте прослушивания треков каждого жанра методом `count()`. Затем отсортируйте результат в порядке убывания и сохраните его в таблице `moscow_genres`."
   ]
  },
  {
   "cell_type": "code",
   "execution_count": 26,
   "metadata": {
    "id": "r19lIPke_Zcu"
   },
   "outputs": [],
   "source": [
    "# одной строкой: группировка таблицы moscow_general по столбцу 'genre', \n",
    "# подсчёт числа значений 'genre' в этой группировке методом count(), \n",
    "# сортировка получившегося Series в порядке убывания и сохранение в moscow_genres\n",
    "\n",
    "moscow_genres = moscow_general.groupby('genre')['genre'].count().sort_values(ascending = False)"
   ]
  },
  {
   "cell_type": "markdown",
   "metadata": {
    "id": "6kMuomxTiIr8"
   },
   "source": [
    "Выведите на экран первые десять строк `moscow_genres`:"
   ]
  },
  {
   "cell_type": "code",
   "execution_count": 27,
   "metadata": {
    "id": "WhCSooF8_Zcv"
   },
   "outputs": [
    {
     "data": {
      "text/plain": [
       "genre\n",
       "pop            5892\n",
       "dance          4435\n",
       "rock           3965\n",
       "electronic     3786\n",
       "hiphop         2096\n",
       "classical      1616\n",
       "world          1432\n",
       "alternative    1379\n",
       "ruspop         1372\n",
       "rusrap         1161\n",
       "Name: genre, dtype: int64"
      ]
     },
     "execution_count": 27,
     "metadata": {},
     "output_type": "execute_result"
    }
   ],
   "source": [
    "moscow_genres.head(10) # просмотр первых 10 строк moscow_genres"
   ]
  },
  {
   "cell_type": "markdown",
   "metadata": {
    "id": "cnPG2vnN_Zcv"
   },
   "source": [
    "Теперь повторите то же и для Петербурга.\n",
    "\n",
    "Сгруппируйте таблицу `spb_general` по жанру. Посчитайте прослушивания треков каждого жанра. Результат отсортируйте в порядке убывания и сохраните в таблице `spb_genres`:\n"
   ]
  },
  {
   "cell_type": "code",
   "execution_count": 28,
   "metadata": {
    "id": "gluLIpE7_Zcv"
   },
   "outputs": [],
   "source": [
    "# одной строкой: группировка таблицы spb_general по столбцу 'genre', \n",
    "# подсчёт числа значений 'genre' в этой группировке методом count(), \n",
    "# сортировка получившегося Series в порядке убывания и сохранение в spb_genres\n",
    "\n",
    "spb_genres=spb_general.groupby('genre')['genre'].count().sort_values(ascending=False)"
   ]
  },
  {
   "cell_type": "markdown",
   "metadata": {
    "id": "5Doha_ODgyQ8"
   },
   "source": [
    "Выведите на экран первые десять строк `spb_genres`:"
   ]
  },
  {
   "cell_type": "code",
   "execution_count": 29,
   "metadata": {
    "id": "uaGJHjVU_Zcv"
   },
   "outputs": [
    {
     "data": {
      "text/plain": [
       "genre\n",
       "pop            2431\n",
       "dance          1932\n",
       "rock           1879\n",
       "electronic     1736\n",
       "hiphop          960\n",
       "alternative     649\n",
       "classical       646\n",
       "rusrap          564\n",
       "ruspop          538\n",
       "world           515\n",
       "Name: genre, dtype: int64"
      ]
     },
     "execution_count": 29,
     "metadata": {},
     "output_type": "execute_result"
    }
   ],
   "source": [
    "spb_genres.head(10) # просмотр первых 10 строк spb_genres"
   ]
  },
  {
   "cell_type": "markdown",
   "metadata": {
    "id": "RY51YJYu_Zcv"
   },
   "source": [
    "**Выводы**"
   ]
  },
  {
   "cell_type": "markdown",
   "metadata": {
    "id": "nVhnJEm__Zcv"
   },
   "source": [
    "Гипотеза частично подтвердилась:\n",
    "* Поп-музыка — самый популярный жанр в Москве, как и предполагала гипотеза. Более того, в топ-10 жанров встречается близкий жанр — русская популярная музыка.\n",
    "* Вопреки ожиданиям, рэп одинаково популярен в Москве и Петербурге. \n"
   ]
  },
  {
   "cell_type": "markdown",
   "metadata": {
    "id": "ykKQ0N65_Zcv"
   },
   "source": [
    "## Итоги исследования"
   ]
  },
  {
   "cell_type": "markdown",
   "metadata": {
    "id": "tjUwbHb3_Zcv"
   },
   "source": [
    "Вы проверили три гипотезы и установили:\n",
    "\n",
    "1. День недели по-разному влияет на активность пользователей в Москве и Петербурге. \n",
    "\n",
    "Первая гипотеза полностью подтвердилась.\n",
    "\n",
    "2. Музыкальные предпочтения не сильно меняются в течение недели — будь то Москва или Петербург. Небольшие различия заметны в начале недели, по понедельникам:\n",
    "* в Москве слушают музыку жанра “world”,\n",
    "* в Петербурге — джаз и классику.\n",
    "\n",
    "Таким образом, вторая гипотеза подтвердилась лишь отчасти. Этот результат мог оказаться иным, если бы не пропуски в данных.\n",
    "\n",
    "3. Во вкусах пользователей Москвы и Петербурга больше общего чем различий. Вопреки ожиданиям, предпочтения жанров в Петербурге напоминают московские.\n",
    "\n",
    "Третья гипотеза не подтвердилась. Если различия в предпочтениях и существуют, на основной массе пользователей они незаметны.\n",
    "\n",
    "**На практике исследования содержат проверки статистических гипотез.**\n",
    "Из данных одного сервиса не всегда можно сделать вывод о всех жителях города.\n",
    "Проверки статистических гипотез покажут, насколько они достоверны, исходя из имеющихся данных. \n",
    "С методами проверок гипотез вы ещё познакомитесь в следующих темах."
   ]
  }
 ],
 "metadata": {
  "ExecuteTimeLog": [
   {
    "duration": 759,
    "start_time": "2021-10-25T09:37:37.550Z"
   },
   {
    "duration": 200,
    "start_time": "2021-10-25T09:37:42.443Z"
   },
   {
    "duration": 10,
    "start_time": "2021-10-25T09:37:51.477Z"
   },
   {
    "duration": 41,
    "start_time": "2021-10-25T09:38:00.818Z"
   },
   {
    "duration": 13,
    "start_time": "2021-10-25T09:38:14.949Z"
   },
   {
    "duration": 5,
    "start_time": "2021-10-25T09:38:55.791Z"
   },
   {
    "duration": 11,
    "start_time": "2021-10-25T09:38:58.221Z"
   },
   {
    "duration": 32,
    "start_time": "2021-10-25T09:39:10.054Z"
   },
   {
    "duration": 7951,
    "start_time": "2021-10-25T09:40:51.831Z"
   },
   {
    "duration": 6,
    "start_time": "2021-10-25T09:42:31.026Z"
   },
   {
    "duration": 5,
    "start_time": "2021-10-25T09:42:33.535Z"
   },
   {
    "duration": 31,
    "start_time": "2021-10-25T09:42:35.753Z"
   },
   {
    "duration": 31,
    "start_time": "2021-10-25T09:42:39.018Z"
   },
   {
    "duration": 30,
    "start_time": "2021-10-25T09:42:55.887Z"
   },
   {
    "duration": 108,
    "start_time": "2021-10-25T09:43:31.121Z"
   },
   {
    "duration": 113,
    "start_time": "2021-10-25T09:43:43.562Z"
   },
   {
    "duration": 79,
    "start_time": "2021-10-25T09:43:51.449Z"
   },
   {
    "duration": 7,
    "start_time": "2021-10-25T09:44:13.871Z"
   },
   {
    "duration": 4,
    "start_time": "2021-10-25T09:44:39.504Z"
   },
   {
    "duration": 13,
    "start_time": "2021-10-25T09:47:26.821Z"
   },
   {
    "duration": 8,
    "start_time": "2021-10-25T10:07:38.772Z"
   },
   {
    "duration": 4,
    "start_time": "2021-10-25T10:15:39.851Z"
   },
   {
    "duration": 14,
    "start_time": "2021-10-25T10:15:41.292Z"
   },
   {
    "duration": 9,
    "start_time": "2021-10-25T10:16:21.359Z"
   },
   {
    "duration": 37,
    "start_time": "2021-10-25T10:16:53.205Z"
   },
   {
    "duration": 10,
    "start_time": "2021-10-25T10:17:24.775Z"
   },
   {
    "duration": 34,
    "start_time": "2021-10-25T10:17:26.679Z"
   },
   {
    "duration": 382,
    "start_time": "2021-10-25T10:19:01.681Z"
   },
   {
    "duration": 15,
    "start_time": "2021-10-25T10:19:12.104Z"
   },
   {
    "duration": 353,
    "start_time": "2021-10-25T10:20:04.563Z"
   },
   {
    "duration": 301,
    "start_time": "2021-10-25T10:20:10.983Z"
   },
   {
    "duration": 22,
    "start_time": "2021-10-25T10:20:22.526Z"
   },
   {
    "duration": 5,
    "start_time": "2021-10-25T10:28:14.798Z"
   },
   {
    "duration": 7364,
    "start_time": "2021-10-25T10:28:30.705Z"
   },
   {
    "duration": 9,
    "start_time": "2021-10-25T10:28:52.623Z"
   },
   {
    "duration": 21,
    "start_time": "2021-10-25T10:28:56.061Z"
   },
   {
    "duration": 19,
    "start_time": "2021-10-25T10:29:18.667Z"
   },
   {
    "duration": 19,
    "start_time": "2021-10-25T10:30:06.356Z"
   },
   {
    "duration": 26,
    "start_time": "2021-10-25T10:30:35.827Z"
   },
   {
    "duration": 19,
    "start_time": "2021-10-25T10:30:57.557Z"
   },
   {
    "duration": 24,
    "start_time": "2021-10-25T10:31:25.037Z"
   },
   {
    "duration": 26,
    "start_time": "2021-10-25T10:32:19.125Z"
   },
   {
    "duration": 21,
    "start_time": "2021-10-25T10:32:44.611Z"
   },
   {
    "duration": 9,
    "start_time": "2021-10-25T10:34:08.853Z"
   },
   {
    "duration": 5,
    "start_time": "2021-10-25T10:36:11.495Z"
   },
   {
    "duration": 23,
    "start_time": "2021-10-25T10:36:13.712Z"
   },
   {
    "duration": 18,
    "start_time": "2021-10-25T10:36:14.887Z"
   },
   {
    "duration": 19,
    "start_time": "2021-10-25T10:36:16.488Z"
   },
   {
    "duration": 17,
    "start_time": "2021-10-25T10:36:18.297Z"
   },
   {
    "duration": 21,
    "start_time": "2021-10-25T10:36:18.317Z"
   },
   {
    "duration": 17,
    "start_time": "2021-10-25T10:36:18.342Z"
   },
   {
    "duration": 13,
    "start_time": "2021-10-25T10:36:20.344Z"
   },
   {
    "duration": 678,
    "start_time": "2021-10-26T07:46:44.170Z"
   },
   {
    "duration": 145,
    "start_time": "2021-10-26T07:46:45.492Z"
   },
   {
    "duration": 22,
    "start_time": "2021-10-26T07:47:30.484Z"
   },
   {
    "duration": 11,
    "start_time": "2021-10-26T07:53:02.628Z"
   },
   {
    "duration": 24,
    "start_time": "2021-10-26T07:53:10.610Z"
   },
   {
    "duration": 4,
    "start_time": "2021-10-26T07:53:41.732Z"
   },
   {
    "duration": 3,
    "start_time": "2021-10-26T07:53:46.035Z"
   },
   {
    "duration": 3,
    "start_time": "2021-10-26T07:54:17.180Z"
   },
   {
    "duration": 4,
    "start_time": "2021-10-26T07:54:19.331Z"
   },
   {
    "duration": 24,
    "start_time": "2021-10-26T07:54:28.617Z"
   },
   {
    "duration": 21,
    "start_time": "2021-10-26T07:55:29.356Z"
   },
   {
    "duration": 23,
    "start_time": "2021-10-26T07:55:31.756Z"
   },
   {
    "duration": 61,
    "start_time": "2021-10-26T07:55:37.797Z"
   },
   {
    "duration": 76,
    "start_time": "2021-10-26T07:55:45.245Z"
   },
   {
    "duration": 56,
    "start_time": "2021-10-26T07:55:47.187Z"
   },
   {
    "duration": 6,
    "start_time": "2021-10-26T07:55:55.404Z"
   },
   {
    "duration": 3,
    "start_time": "2021-10-26T07:56:08.507Z"
   },
   {
    "duration": 11,
    "start_time": "2021-10-26T07:56:16.421Z"
   },
   {
    "duration": 6,
    "start_time": "2021-10-26T07:56:18.637Z"
   },
   {
    "duration": 22,
    "start_time": "2021-10-26T07:56:25.677Z"
   },
   {
    "duration": 13,
    "start_time": "2021-10-26T07:57:05.028Z"
   },
   {
    "duration": 12,
    "start_time": "2021-10-26T07:57:06.860Z"
   },
   {
    "duration": 11,
    "start_time": "2021-10-26T07:57:22.581Z"
   },
   {
    "duration": 12,
    "start_time": "2021-10-26T07:57:37.974Z"
   },
   {
    "duration": 10,
    "start_time": "2021-10-26T07:57:50.988Z"
   },
   {
    "duration": 12,
    "start_time": "2021-10-26T07:57:55.572Z"
   },
   {
    "duration": 11,
    "start_time": "2021-10-26T07:58:08.399Z"
   },
   {
    "duration": 3,
    "start_time": "2021-10-26T07:59:35.369Z"
   },
   {
    "duration": 4,
    "start_time": "2021-10-26T08:00:40.383Z"
   },
   {
    "duration": 22,
    "start_time": "2021-10-26T08:00:41.615Z"
   },
   {
    "duration": 16,
    "start_time": "2021-10-26T08:00:42.384Z"
   },
   {
    "duration": 17,
    "start_time": "2021-10-26T08:00:43.033Z"
   },
   {
    "duration": 15,
    "start_time": "2021-10-26T08:00:45.094Z"
   },
   {
    "duration": 18,
    "start_time": "2021-10-26T08:00:45.649Z"
   },
   {
    "duration": 16,
    "start_time": "2021-10-26T08:00:46.560Z"
   },
   {
    "duration": 7,
    "start_time": "2021-10-26T08:00:48.336Z"
   },
   {
    "duration": 9,
    "start_time": "2021-10-26T08:01:03.222Z"
   },
   {
    "duration": 19,
    "start_time": "2021-10-26T08:03:19.929Z"
   },
   {
    "duration": 18,
    "start_time": "2021-10-26T08:03:57.946Z"
   },
   {
    "duration": 418,
    "start_time": "2021-10-26T08:09:34.394Z"
   },
   {
    "duration": 4,
    "start_time": "2021-10-26T08:10:00.905Z"
   },
   {
    "duration": 18,
    "start_time": "2021-10-26T08:10:02.840Z"
   },
   {
    "duration": 17,
    "start_time": "2021-10-26T08:10:35.548Z"
   },
   {
    "duration": 18,
    "start_time": "2021-10-26T08:10:42.873Z"
   },
   {
    "duration": 14,
    "start_time": "2021-10-26T08:10:46.233Z"
   },
   {
    "duration": 18,
    "start_time": "2021-10-26T08:11:05.273Z"
   },
   {
    "duration": 14,
    "start_time": "2021-10-26T08:11:06.153Z"
   },
   {
    "duration": 401,
    "start_time": "2021-10-26T08:11:39.362Z"
   },
   {
    "duration": 9,
    "start_time": "2021-10-26T08:11:48.210Z"
   },
   {
    "duration": 6,
    "start_time": "2021-10-26T08:12:19.475Z"
   },
   {
    "duration": 6,
    "start_time": "2021-10-26T08:12:47.964Z"
   },
   {
    "duration": 5,
    "start_time": "2021-10-26T08:12:49.115Z"
   },
   {
    "duration": 667,
    "start_time": "2021-10-26T12:43:28.917Z"
   },
   {
    "duration": 189,
    "start_time": "2021-10-26T12:43:29.587Z"
   },
   {
    "duration": 32,
    "start_time": "2021-10-26T12:43:29.779Z"
   },
   {
    "duration": 41,
    "start_time": "2021-10-26T12:43:29.823Z"
   },
   {
    "duration": 6,
    "start_time": "2021-10-26T12:43:29.866Z"
   },
   {
    "duration": 7,
    "start_time": "2021-10-26T12:43:29.875Z"
   },
   {
    "duration": 39,
    "start_time": "2021-10-26T12:43:29.885Z"
   },
   {
    "duration": 32,
    "start_time": "2021-10-26T12:43:29.928Z"
   },
   {
    "duration": 26,
    "start_time": "2021-10-26T12:43:29.963Z"
   },
   {
    "duration": 57,
    "start_time": "2021-10-26T12:43:29.991Z"
   },
   {
    "duration": 106,
    "start_time": "2021-10-26T12:43:30.051Z"
   },
   {
    "duration": 122,
    "start_time": "2021-10-26T12:43:30.160Z"
   },
   {
    "duration": 94,
    "start_time": "2021-10-26T12:43:30.285Z"
   },
   {
    "duration": 10,
    "start_time": "2021-10-26T12:43:30.381Z"
   },
   {
    "duration": 16,
    "start_time": "2021-10-26T12:43:30.394Z"
   },
   {
    "duration": 31,
    "start_time": "2021-10-26T12:43:30.412Z"
   },
   {
    "duration": 10,
    "start_time": "2021-10-26T12:43:30.446Z"
   },
   {
    "duration": 46,
    "start_time": "2021-10-26T12:43:30.458Z"
   },
   {
    "duration": 28,
    "start_time": "2021-10-26T12:43:30.506Z"
   },
   {
    "duration": 17,
    "start_time": "2021-10-26T12:43:30.536Z"
   },
   {
    "duration": 12,
    "start_time": "2021-10-26T12:43:30.556Z"
   },
   {
    "duration": 42,
    "start_time": "2021-10-26T12:43:30.570Z"
   },
   {
    "duration": 19,
    "start_time": "2021-10-26T12:43:30.625Z"
   },
   {
    "duration": 39,
    "start_time": "2021-10-26T12:43:30.647Z"
   },
   {
    "duration": 25,
    "start_time": "2021-10-26T12:43:30.689Z"
   },
   {
    "duration": 35,
    "start_time": "2021-10-26T12:43:30.716Z"
   },
   {
    "duration": 29,
    "start_time": "2021-10-26T12:43:30.754Z"
   },
   {
    "duration": 50,
    "start_time": "2021-10-26T12:43:30.785Z"
   },
   {
    "duration": 41,
    "start_time": "2021-10-26T12:43:30.837Z"
   },
   {
    "duration": 60,
    "start_time": "2021-10-26T12:43:30.881Z"
   },
   {
    "duration": 35,
    "start_time": "2021-10-26T12:43:30.943Z"
   },
   {
    "duration": 6,
    "start_time": "2021-10-26T12:43:30.981Z"
   },
   {
    "duration": 47,
    "start_time": "2021-10-26T12:43:30.989Z"
   },
   {
    "duration": 20,
    "start_time": "2021-10-26T12:43:31.039Z"
   },
   {
    "duration": 32,
    "start_time": "2021-10-26T12:43:31.063Z"
   },
   {
    "duration": 31,
    "start_time": "2021-10-26T12:43:31.098Z"
   },
   {
    "duration": 32,
    "start_time": "2021-10-26T12:43:31.131Z"
   },
   {
    "duration": 14,
    "start_time": "2021-10-26T12:43:31.165Z"
   },
   {
    "duration": 18,
    "start_time": "2021-10-26T12:43:31.181Z"
   },
   {
    "duration": 21,
    "start_time": "2021-10-26T12:43:31.202Z"
   },
   {
    "duration": 320,
    "start_time": "2021-10-28T07:38:37.097Z"
   },
   {
    "duration": 818,
    "start_time": "2021-10-28T07:38:42.182Z"
   },
   {
    "duration": 184,
    "start_time": "2021-10-28T07:38:43.567Z"
   },
   {
    "duration": 28,
    "start_time": "2021-10-28T07:38:45.892Z"
   },
   {
    "duration": 26,
    "start_time": "2021-10-28T07:41:41.304Z"
   },
   {
    "duration": 6,
    "start_time": "2021-10-28T07:41:43.889Z"
   },
   {
    "duration": 29,
    "start_time": "2021-10-28T07:41:55.171Z"
   },
   {
    "duration": 6,
    "start_time": "2021-10-28T07:41:57.128Z"
   },
   {
    "duration": 30,
    "start_time": "2021-10-28T07:41:59.144Z"
   },
   {
    "duration": 24,
    "start_time": "2021-10-28T07:42:04.457Z"
   },
   {
    "duration": 30,
    "start_time": "2021-10-28T07:42:15.433Z"
   },
   {
    "duration": 86,
    "start_time": "2021-10-28T07:42:17.448Z"
   },
   {
    "duration": 99,
    "start_time": "2021-10-28T07:42:19.935Z"
   },
   {
    "duration": 80,
    "start_time": "2021-10-28T07:42:21.311Z"
   },
   {
    "duration": 8,
    "start_time": "2021-10-28T07:42:23.360Z"
   },
   {
    "duration": 4,
    "start_time": "2021-10-28T07:42:27.311Z"
   },
   {
    "duration": 16,
    "start_time": "2021-10-28T07:42:28.566Z"
   },
   {
    "duration": 11,
    "start_time": "2021-10-28T07:42:48.929Z"
   },
   {
    "duration": 33,
    "start_time": "2021-10-28T07:42:50.913Z"
   },
   {
    "duration": 15,
    "start_time": "2021-10-28T07:42:55.113Z"
   },
   {
    "duration": 14,
    "start_time": "2021-10-28T07:42:56.175Z"
   },
   {
    "duration": 6,
    "start_time": "2021-10-28T07:42:57.697Z"
   },
   {
    "duration": 20,
    "start_time": "2021-10-28T07:42:58.993Z"
   },
   {
    "duration": 18,
    "start_time": "2021-10-28T07:42:59.505Z"
   },
   {
    "duration": 18,
    "start_time": "2021-10-28T07:42:59.935Z"
   },
   {
    "duration": 19,
    "start_time": "2021-10-28T07:43:00.335Z"
   },
   {
    "duration": 20,
    "start_time": "2021-10-28T07:43:00.713Z"
   },
   {
    "duration": 18,
    "start_time": "2021-10-28T07:43:01.313Z"
   },
   {
    "duration": 13,
    "start_time": "2021-10-28T07:43:03.413Z"
   },
   {
    "duration": 12,
    "start_time": "2021-10-28T07:43:13.481Z"
   },
   {
    "duration": 11,
    "start_time": "2021-10-28T07:43:37.064Z"
   },
   {
    "duration": 11,
    "start_time": "2021-10-28T07:43:51.338Z"
   },
   {
    "duration": 26,
    "start_time": "2021-10-28T07:43:54.327Z"
   },
   {
    "duration": 24,
    "start_time": "2021-10-28T07:43:55.296Z"
   },
   {
    "duration": 32,
    "start_time": "2021-10-28T07:44:07.098Z"
   },
   {
    "duration": 27,
    "start_time": "2021-10-28T07:44:17.467Z"
   },
   {
    "duration": 6,
    "start_time": "2021-10-28T07:44:23.764Z"
   },
   {
    "duration": 26,
    "start_time": "2021-10-28T07:44:25.234Z"
   },
   {
    "duration": 18,
    "start_time": "2021-10-28T07:44:26.257Z"
   },
   {
    "duration": 25,
    "start_time": "2021-10-28T07:44:26.849Z"
   },
   {
    "duration": 18,
    "start_time": "2021-10-28T07:44:27.586Z"
   },
   {
    "duration": 11,
    "start_time": "2021-10-28T07:44:32.411Z"
   },
   {
    "duration": 7,
    "start_time": "2021-10-28T07:44:33.498Z"
   },
   {
    "duration": 9,
    "start_time": "2021-10-28T07:44:38.451Z"
   },
   {
    "duration": 7,
    "start_time": "2021-10-28T07:44:39.208Z"
   },
   {
    "duration": 537,
    "start_time": "2022-01-14T08:17:18.385Z"
   },
   {
    "duration": 479,
    "start_time": "2022-01-14T08:18:34.901Z"
   },
   {
    "duration": 375,
    "start_time": "2022-01-14T08:18:59.804Z"
   },
   {
    "duration": 1225,
    "start_time": "2022-05-05T09:12:01.154Z"
   },
   {
    "duration": 28,
    "start_time": "2022-05-05T09:12:37.809Z"
   },
   {
    "duration": 3,
    "start_time": "2022-05-05T09:12:51.049Z"
   },
   {
    "duration": 10,
    "start_time": "2022-05-05T09:12:52.823Z"
   },
   {
    "duration": 3,
    "start_time": "2022-05-05T09:13:35.108Z"
   },
   {
    "duration": 13,
    "start_time": "2022-05-05T09:13:59.543Z"
   },
   {
    "duration": 13,
    "start_time": "2022-05-05T09:14:12.960Z"
   },
   {
    "duration": 519,
    "start_time": "2022-05-05T09:18:44.127Z"
   },
   {
    "duration": 25,
    "start_time": "2022-05-05T09:18:44.648Z"
   },
   {
    "duration": 10,
    "start_time": "2022-05-05T09:18:44.675Z"
   },
   {
    "duration": 31,
    "start_time": "2022-05-05T09:18:44.687Z"
   },
   {
    "duration": 17,
    "start_time": "2022-05-05T09:18:44.720Z"
   },
   {
    "duration": 19,
    "start_time": "2022-05-05T09:18:44.739Z"
   },
   {
    "duration": 192,
    "start_time": "2022-05-05T09:18:44.759Z"
   },
   {
    "duration": 5,
    "start_time": "2022-05-05T09:18:44.953Z"
   },
   {
    "duration": 4,
    "start_time": "2022-05-05T09:18:44.960Z"
   },
   {
    "duration": 9,
    "start_time": "2022-05-05T09:18:44.966Z"
   },
   {
    "duration": 6,
    "start_time": "2022-05-05T09:18:44.976Z"
   },
   {
    "duration": 34,
    "start_time": "2022-05-05T09:18:45.000Z"
   },
   {
    "duration": 10,
    "start_time": "2022-05-05T09:18:45.035Z"
   },
   {
    "duration": 10,
    "start_time": "2022-05-05T09:18:45.047Z"
   },
   {
    "duration": 3,
    "start_time": "2022-05-05T09:18:45.058Z"
   },
   {
    "duration": 43,
    "start_time": "2022-05-05T09:18:45.062Z"
   },
   {
    "duration": 23,
    "start_time": "2022-05-05T09:18:45.107Z"
   },
   {
    "duration": 24,
    "start_time": "2022-05-05T09:18:45.132Z"
   },
   {
    "duration": 8,
    "start_time": "2022-05-05T09:18:45.158Z"
   },
   {
    "duration": 8,
    "start_time": "2022-05-05T09:18:45.200Z"
   },
   {
    "duration": 21,
    "start_time": "2022-05-05T09:18:45.210Z"
   },
   {
    "duration": 18,
    "start_time": "2022-05-05T09:18:45.233Z"
   },
   {
    "duration": 3,
    "start_time": "2022-05-05T09:18:45.253Z"
   },
   {
    "duration": 49,
    "start_time": "2022-05-05T09:18:45.257Z"
   },
   {
    "duration": 20,
    "start_time": "2022-05-05T09:18:45.307Z"
   },
   {
    "duration": 8,
    "start_time": "2022-05-05T09:18:45.328Z"
   },
   {
    "duration": 4,
    "start_time": "2022-05-05T09:18:45.338Z"
   },
   {
    "duration": 7,
    "start_time": "2022-05-05T09:18:45.344Z"
   },
   {
    "duration": 5,
    "start_time": "2022-05-05T09:18:45.352Z"
   },
   {
    "duration": 23,
    "start_time": "2022-05-05T09:19:20.050Z"
   },
   {
    "duration": 506,
    "start_time": "2022-05-05T09:20:06.351Z"
   },
   {
    "duration": 26,
    "start_time": "2022-05-05T09:20:06.859Z"
   },
   {
    "duration": 13,
    "start_time": "2022-05-05T09:20:06.887Z"
   },
   {
    "duration": 23,
    "start_time": "2022-05-05T09:20:06.902Z"
   },
   {
    "duration": 18,
    "start_time": "2022-05-05T09:20:06.927Z"
   },
   {
    "duration": 23,
    "start_time": "2022-05-05T09:20:06.947Z"
   },
   {
    "duration": 209,
    "start_time": "2022-05-05T09:20:06.971Z"
   },
   {
    "duration": 18,
    "start_time": "2022-05-05T09:20:07.182Z"
   },
   {
    "duration": 3,
    "start_time": "2022-05-05T09:20:07.202Z"
   },
   {
    "duration": 11,
    "start_time": "2022-05-05T09:20:07.209Z"
   },
   {
    "duration": 12,
    "start_time": "2022-05-05T09:20:07.221Z"
   },
   {
    "duration": 30,
    "start_time": "2022-05-05T09:20:07.234Z"
   },
   {
    "duration": 11,
    "start_time": "2022-05-05T09:20:07.266Z"
   },
   {
    "duration": 12,
    "start_time": "2022-05-05T09:20:07.300Z"
   },
   {
    "duration": 14,
    "start_time": "2022-05-05T09:20:07.314Z"
   },
   {
    "duration": 29,
    "start_time": "2022-05-05T09:20:07.330Z"
   },
   {
    "duration": 39,
    "start_time": "2022-05-05T09:20:07.361Z"
   },
   {
    "duration": 26,
    "start_time": "2022-05-05T09:20:07.402Z"
   },
   {
    "duration": 8,
    "start_time": "2022-05-05T09:20:07.430Z"
   },
   {
    "duration": 11,
    "start_time": "2022-05-05T09:20:07.440Z"
   },
   {
    "duration": 21,
    "start_time": "2022-05-05T09:20:07.453Z"
   },
   {
    "duration": 37,
    "start_time": "2022-05-05T09:20:07.475Z"
   },
   {
    "duration": 3,
    "start_time": "2022-05-05T09:20:07.514Z"
   },
   {
    "duration": 24,
    "start_time": "2022-05-05T09:20:07.518Z"
   },
   {
    "duration": 20,
    "start_time": "2022-05-05T09:20:07.544Z"
   },
   {
    "duration": 9,
    "start_time": "2022-05-05T09:20:07.565Z"
   },
   {
    "duration": 29,
    "start_time": "2022-05-05T09:20:07.575Z"
   },
   {
    "duration": 8,
    "start_time": "2022-05-05T09:20:07.607Z"
   },
   {
    "duration": 7,
    "start_time": "2022-05-05T09:20:07.616Z"
   }
  ],
  "colab": {
   "collapsed_sections": [
    "E0vqbgi9ay0H",
    "VUC88oWjTJw2"
   ],
   "name": "yandex_music_project_2021.2.ipynb",
   "provenance": []
  },
  "kernelspec": {
   "display_name": "Python 3",
   "language": "python",
   "name": "python3"
  },
  "language_info": {
   "codemirror_mode": {
    "name": "ipython",
    "version": 3
   },
   "file_extension": ".py",
   "mimetype": "text/x-python",
   "name": "python",
   "nbconvert_exporter": "python",
   "pygments_lexer": "ipython3",
   "version": "3.8.3"
  },
  "toc": {
   "base_numbering": 1,
   "nav_menu": {},
   "number_sections": true,
   "sideBar": true,
   "skip_h1_title": true,
   "title_cell": "Table of Contents",
   "title_sidebar": "Contents",
   "toc_cell": false,
   "toc_position": {},
   "toc_section_display": true,
   "toc_window_display": true
  },
  "varInspector": {
   "cols": {
    "lenName": 16,
    "lenType": 16,
    "lenVar": 40
   },
   "kernels_config": {
    "python": {
     "delete_cmd_postfix": "",
     "delete_cmd_prefix": "del ",
     "library": "var_list.py",
     "varRefreshCmd": "print(var_dic_list())"
    },
    "r": {
     "delete_cmd_postfix": ") ",
     "delete_cmd_prefix": "rm(",
     "library": "var_list.r",
     "varRefreshCmd": "cat(var_dic_list()) "
    }
   },
   "types_to_exclude": [
    "module",
    "function",
    "builtin_function_or_method",
    "instance",
    "_Feature"
   ],
   "window_display": false
  }
 },
 "nbformat": 4,
 "nbformat_minor": 1
}
