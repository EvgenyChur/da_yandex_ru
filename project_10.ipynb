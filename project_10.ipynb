{
 "cells": [
  {
   "cell_type": "markdown",
   "metadata": {},
   "source": [
    "# Сборный проект 2"
   ]
  },
  {
   "cell_type": "markdown",
   "metadata": {},
   "source": [
    "**Анализ поведения пользователей мобильного приложения.**"
   ]
  },
  {
   "cell_type": "markdown",
   "metadata": {},
   "source": [
    "## Сбор первичной информации о проекте"
   ]
  },
  {
   "cell_type": "markdown",
   "metadata": {},
   "source": [
    "### Описание проекта:"
   ]
  },
  {
   "cell_type": "markdown",
   "metadata": {},
   "source": [
    "Вы работаете в стартапе, который продаёт продукты питания. Нужно разобраться, как ведут себя пользователи вашего мобильного приложения. Изучите воронку продаж. Узнайте, как пользователи доходят до покупки. Сколько пользователей доходит до покупки, а сколько — «застревает» на предыдущих шагах? На каких именно?"
   ]
  },
  {
   "cell_type": "markdown",
   "metadata": {},
   "source": [
    "После этого исследуйте результаты A/A/B-эксперимента. Дизайнеры захотели поменять шрифты во всём приложении, а менеджеры испугались, что пользователям будет непривычно. Договорились принять решение по результатам A/A/B-теста. Пользователей разбили на 3 группы: 2 контрольные со старыми шрифтами и одну экспериментальную — с новыми. Выясните, какой шрифт лучше."
   ]
  },
  {
   "cell_type": "markdown",
   "metadata": {},
   "source": [
    "Создание двух групп A вместо одной имеет определённые преимущества. Если две контрольные группы окажутся равны, вы можете быть уверены в точности проведенного тестирования. Если же между значениями A и A будут существенные различия, это поможет обнаружить факторы, которые привели к искажению результатов. Сравнение контрольных групп также помогает понять, сколько времени и данных потребуется для дальнейших тестов."
   ]
  },
  {
   "cell_type": "markdown",
   "metadata": {},
   "source": [
    "В случае общей аналитики и A/A/B-эксперимента работайте с одними и теми же данными. В реальных проектах всегда идут эксперименты. Аналитики исследуют качество работы приложения по общим данным, не учитывая принадлежность пользователей к экспериментам."
   ]
  },
  {
   "cell_type": "markdown",
   "metadata": {},
   "source": [
    "### Описание данных:"
   ]
  },
  {
   "cell_type": "markdown",
   "metadata": {},
   "source": [
    "Каждая запись в логе — это действие пользователя, или событие.\n",
    "1. `EventName` — название события;\n",
    "2. `DeviceIDHash` — уникальный идентификатор пользователя;\n",
    "3. `EventTimestamp` — время события;\n",
    "4. `ExpId` — номер эксперимента: 246 и 247 — контрольные группы, а 248 — экспериментальная."
   ]
  },
  {
   "cell_type": "markdown",
   "metadata": {},
   "source": [
    "### Задачи проекта:"
   ]
  },
  {
   "cell_type": "markdown",
   "metadata": {},
   "source": [
    "1. **Откройте файл** с данными и изучите общую информацию.\n",
    "`/datasets/logs_exp.csv`"
   ]
  },
  {
   "cell_type": "markdown",
   "metadata": {},
   "source": [
    "2. **Подготовьте данные:**\n",
    "    1. Замените названия столбцов на удобные для вас;\n",
    "    2. Проверьте пропуски и типы данных. Откорректируйте, если нужно;\n",
    "    3. Добавьте столбец даты и времени, а также отдельный столбец дат;"
   ]
  },
  {
   "cell_type": "markdown",
   "metadata": {},
   "source": [
    "3. **Изучите и проверьте данные:**\n",
    "    1. Сколько всего событий в логе?\n",
    "    2. Сколько всего пользователей в логе?\n",
    "    3. Сколько в среднем событий приходится на пользователя?\n",
    "    4. Данными за какой период вы располагаете? Найдите максимальную и минимальную дату. Постройте гистограмму по дате и времени. Можно ли быть уверенным, что у вас одинаково полные данные за весь период? Технически в логи новых дней по некоторым пользователям могут «доезжать» события из прошлого — это может «перекашивать данные». Определите, с какого момента данные полные и отбросьте более старые. Данными за какой период времени вы располагаете на самом деле?\n",
    "    5. Много ли событий и пользователей вы потеряли, отбросив старые данные?\n",
    "    6. Проверьте, что у вас есть пользователи из всех трёх экспериментальных групп."
   ]
  },
  {
   "cell_type": "markdown",
   "metadata": {},
   "source": [
    "4. **Изучите воронку событий:**\n",
    "    1. Посмотрите, какие события есть в логах, как часто они встречаются. Отсортируйте события по частоте.\n",
    "    2. Посчитайте, сколько пользователей совершали каждое из этих событий. Отсортируйте события по числу пользователей. Посчитайте долю пользователей, которые хоть раз совершали событие.\n",
    "    3. Предположите, в каком порядке происходят события. Все ли они выстраиваются в последовательную цепочку? Их не нужно учитывать при расчёте воронки.\n",
    "    4. По воронке событий посчитайте, какая доля пользователей проходит на следующий шаг воронки (от числа пользователей на предыдущем). То есть для последовательности событий A → B → C посчитайте отношение числа пользователей с событием B к количеству пользователей с событием A, а также отношение числа пользователей с событием C к количеству пользователей с событием B.\n",
    "    5. На каком шаге теряете больше всего пользователей?\n",
    "    6. Какая доля пользователей доходит от первого события до оплаты?"
   ]
  },
  {
   "cell_type": "markdown",
   "metadata": {},
   "source": [
    "5. **Изучите результаты эксперимента:**\n",
    "    1. Сколько пользователей в каждой экспериментальной группе?\n",
    "    2. Есть 2 контрольные группы для А/А-эксперимента, чтобы проверить корректность всех механизмов и расчётов. Проверьте, находят ли статистические критерии разницу между выборками 246 и 247.\n",
    "    3. Выберите самое популярное событие. Посчитайте число пользователей, совершивших это событие в каждой из контрольных групп. Посчитайте долю пользователей, совершивших это событие. Проверьте, будет ли отличие между группами статистически достоверным. Проделайте то же самое для всех других событий (удобно обернуть проверку в отдельную функцию). Можно ли сказать, что разбиение на группы работает корректно?\n",
    "    4. Аналогично поступите с группой с изменённым шрифтом. Сравните результаты с каждой из контрольных групп в отдельности по каждому событию. Сравните результаты с объединённой контрольной группой. Какие выводы из эксперимента можно сделать?\n",
    "    5. Какой уровень значимости вы выбрали при проверке статистических гипотез выше? Посчитайте, сколько проверок статистических гипотез вы сделали. При уровне значимости 0.1 каждый десятый раз можно получать ложный результат. Какой уровень значимости стоит применить? Если вы хотите изменить его, проделайте предыдущие пункты и проверьте свои выводы."
   ]
  },
  {
   "cell_type": "markdown",
   "metadata": {},
   "source": [
    "## Основной проект:"
   ]
  },
  {
   "cell_type": "markdown",
   "metadata": {},
   "source": [
    "### Подготовка данных"
   ]
  },
  {
   "cell_type": "code",
   "execution_count": 1,
   "metadata": {},
   "outputs": [],
   "source": [
    "# Add modules to the project\n",
    "from io import BytesIO\n",
    "import requests\n",
    "\n",
    "import re\n",
    "import math as mth\n",
    "import numpy as np\n",
    "import pandas as pd\n",
    "import datetime as dt\n",
    "import seaborn as sns\n",
    "import scipy.stats as stats\n",
    "from scipy import stats as st\n",
    "from datetime import datetime\n",
    "import matplotlib.pyplot as plt \n",
    "\n",
    "import warnings\n",
    "warnings.filterwarnings(\"ignore\")"
   ]
  },
  {
   "cell_type": "code",
   "execution_count": 2,
   "metadata": {},
   "outputs": [
    {
     "name": "stdout",
     "output_type": "stream",
     "text": [
      "Using local machine\n",
      "Using Yandex machine\n"
     ]
    }
   ],
   "source": [
    "# Get common information about datasets\n",
    "def get_info(df, df_name):\n",
    "    '''\n",
    "    df : Dataframe,\n",
    "        The dataset with data for the project\n",
    "    df_name : Objects\n",
    "        The name of the dataset for information     \n",
    "    Return:\n",
    "        There are no return fields\n",
    "    '''\n",
    "    print(f'Common information about - {df_name}')\n",
    "    display(df.head())\n",
    "    df.info()\n",
    "    print(' ')\n",
    "    print(df.columns)   \n",
    "    print(' ')\n",
    "    print(f'Numbers of NaN values in the dataset - {df_name}')\n",
    "    print(df.isnull().sum())\n",
    "    print(' ')\n",
    "    print(f'Numbers of duplicates (explicit)in the dataset - {df_name}')\n",
    "    print(df.duplicated().sum())\n",
    "     \n",
    "\n",
    "# Get data\n",
    "try:\n",
    "    print('Using local machine')\n",
    "    main_path = 'C:/Users/Churiulin/Desktop/Yandex/Projects/DATASETS'\n",
    "    df_data   = pd.read_csv(f'{main_path}/logs_exp.csv', sep = '\\t')\n",
    "except FileNotFoundError:\n",
    "    print('Using Yandex machine')\n",
    "    df_data   = pd.read_csv('/datasets/logs_exp.csv', sep = '\\t' )"
   ]
  },
  {
   "cell_type": "code",
   "execution_count": 3,
   "metadata": {},
   "outputs": [
    {
     "name": "stdout",
     "output_type": "stream",
     "text": [
      "Common information about - logs_exp\n"
     ]
    },
    {
     "data": {
      "text/html": [
       "<div>\n",
       "<style scoped>\n",
       "    .dataframe tbody tr th:only-of-type {\n",
       "        vertical-align: middle;\n",
       "    }\n",
       "\n",
       "    .dataframe tbody tr th {\n",
       "        vertical-align: top;\n",
       "    }\n",
       "\n",
       "    .dataframe thead th {\n",
       "        text-align: right;\n",
       "    }\n",
       "</style>\n",
       "<table border=\"1\" class=\"dataframe\">\n",
       "  <thead>\n",
       "    <tr style=\"text-align: right;\">\n",
       "      <th></th>\n",
       "      <th>EventName</th>\n",
       "      <th>DeviceIDHash</th>\n",
       "      <th>EventTimestamp</th>\n",
       "      <th>ExpId</th>\n",
       "    </tr>\n",
       "  </thead>\n",
       "  <tbody>\n",
       "    <tr>\n",
       "      <td>0</td>\n",
       "      <td>MainScreenAppear</td>\n",
       "      <td>4575588528974610257</td>\n",
       "      <td>1564029816</td>\n",
       "      <td>246</td>\n",
       "    </tr>\n",
       "    <tr>\n",
       "      <td>1</td>\n",
       "      <td>MainScreenAppear</td>\n",
       "      <td>7416695313311560658</td>\n",
       "      <td>1564053102</td>\n",
       "      <td>246</td>\n",
       "    </tr>\n",
       "    <tr>\n",
       "      <td>2</td>\n",
       "      <td>PaymentScreenSuccessful</td>\n",
       "      <td>3518123091307005509</td>\n",
       "      <td>1564054127</td>\n",
       "      <td>248</td>\n",
       "    </tr>\n",
       "    <tr>\n",
       "      <td>3</td>\n",
       "      <td>CartScreenAppear</td>\n",
       "      <td>3518123091307005509</td>\n",
       "      <td>1564054127</td>\n",
       "      <td>248</td>\n",
       "    </tr>\n",
       "    <tr>\n",
       "      <td>4</td>\n",
       "      <td>PaymentScreenSuccessful</td>\n",
       "      <td>6217807653094995999</td>\n",
       "      <td>1564055322</td>\n",
       "      <td>248</td>\n",
       "    </tr>\n",
       "  </tbody>\n",
       "</table>\n",
       "</div>"
      ],
      "text/plain": [
       "                 EventName         DeviceIDHash  EventTimestamp  ExpId\n",
       "0         MainScreenAppear  4575588528974610257      1564029816    246\n",
       "1         MainScreenAppear  7416695313311560658      1564053102    246\n",
       "2  PaymentScreenSuccessful  3518123091307005509      1564054127    248\n",
       "3         CartScreenAppear  3518123091307005509      1564054127    248\n",
       "4  PaymentScreenSuccessful  6217807653094995999      1564055322    248"
      ]
     },
     "metadata": {},
     "output_type": "display_data"
    },
    {
     "name": "stdout",
     "output_type": "stream",
     "text": [
      "<class 'pandas.core.frame.DataFrame'>\n",
      "RangeIndex: 244126 entries, 0 to 244125\n",
      "Data columns (total 4 columns):\n",
      "EventName         244126 non-null object\n",
      "DeviceIDHash      244126 non-null int64\n",
      "EventTimestamp    244126 non-null int64\n",
      "ExpId             244126 non-null int64\n",
      "dtypes: int64(3), object(1)\n",
      "memory usage: 7.5+ MB\n",
      " \n",
      "Index(['EventName', 'DeviceIDHash', 'EventTimestamp', 'ExpId'], dtype='object')\n",
      " \n",
      "Numbers of NaN values in the dataset - logs_exp\n",
      "EventName         0\n",
      "DeviceIDHash      0\n",
      "EventTimestamp    0\n",
      "ExpId             0\n",
      "dtype: int64\n",
      " \n",
      "Numbers of duplicates (explicit)in the dataset - logs_exp\n",
      "413\n",
      "None\n"
     ]
    }
   ],
   "source": [
    "print(get_info(df_data, 'logs_exp')) "
   ]
  },
  {
   "cell_type": "markdown",
   "metadata": {},
   "source": [
    "Исходя из полученных данных, можно сразу отметить нескольку пунктов, которые нужно сделать в первую очередь:\n",
    "1. Переименовать колонки;\n",
    "2. Привести текстовые значения в колонке **EventName** - к одному регистру;\n",
    "3. Проверить еще раз на наличие дубликатов после изменения регистра"
   ]
  },
  {
   "cell_type": "code",
   "execution_count": 4,
   "metadata": {},
   "outputs": [],
   "source": [
    "# change columns names\n",
    "df_data.columns = ['event_name', 'user_id', 'event_time', 'exp_id']\n",
    "\n",
    "# Create a nan timeseries\n",
    "event = pd.Series(np.nan, index = df_data.index) # new event_name with space\n",
    "fdate = pd.Series(np.nan, index = df_data.index) # new column with data (date + time)\n",
    "sdate = pd.Series(np.nan, index = df_data.index) # new column with data (date)"
   ]
  },
  {
   "cell_type": "code",
   "execution_count": 5,
   "metadata": {},
   "outputs": [],
   "source": [
    "# Correct NaN timeseries\n",
    "for i in range(len(df_data)):\n",
    "    # add space between cover letter\n",
    "    event[i] = re.sub('(\\w)([A-Z])', r'\\1 \\2', df_data['event_name'][i])\n",
    "    # add column with data (date + time)\n",
    "    fdate[i] = datetime.utcfromtimestamp(df_data['event_time'][i]).strftime('%Y-%m-%d %H:%M:%S')\n",
    "    # add column only with date\n",
    "    sdate[i] = datetime.utcfromtimestamp(df_data['event_time'][i]).strftime('%Y-%m-%d')"
   ]
  },
  {
   "cell_type": "code",
   "execution_count": 6,
   "metadata": {},
   "outputs": [
    {
     "name": "stdout",
     "output_type": "stream",
     "text": [
      "Common information about - final dataset\n"
     ]
    },
    {
     "data": {
      "text/html": [
       "<div>\n",
       "<style scoped>\n",
       "    .dataframe tbody tr th:only-of-type {\n",
       "        vertical-align: middle;\n",
       "    }\n",
       "\n",
       "    .dataframe tbody tr th {\n",
       "        vertical-align: top;\n",
       "    }\n",
       "\n",
       "    .dataframe thead th {\n",
       "        text-align: right;\n",
       "    }\n",
       "</style>\n",
       "<table border=\"1\" class=\"dataframe\">\n",
       "  <thead>\n",
       "    <tr style=\"text-align: right;\">\n",
       "      <th></th>\n",
       "      <th>event_name</th>\n",
       "      <th>user_id</th>\n",
       "      <th>group</th>\n",
       "      <th>full_date</th>\n",
       "      <th>short_data</th>\n",
       "    </tr>\n",
       "  </thead>\n",
       "  <tbody>\n",
       "    <tr>\n",
       "      <td>0</td>\n",
       "      <td>main screen appear</td>\n",
       "      <td>4575588528974610257</td>\n",
       "      <td>246</td>\n",
       "      <td>2019-07-25 04:43:36</td>\n",
       "      <td>2019-07-25</td>\n",
       "    </tr>\n",
       "    <tr>\n",
       "      <td>1</td>\n",
       "      <td>main screen appear</td>\n",
       "      <td>7416695313311560658</td>\n",
       "      <td>246</td>\n",
       "      <td>2019-07-25 11:11:42</td>\n",
       "      <td>2019-07-25</td>\n",
       "    </tr>\n",
       "    <tr>\n",
       "      <td>2</td>\n",
       "      <td>payment screen successful</td>\n",
       "      <td>3518123091307005509</td>\n",
       "      <td>248</td>\n",
       "      <td>2019-07-25 11:28:47</td>\n",
       "      <td>2019-07-25</td>\n",
       "    </tr>\n",
       "    <tr>\n",
       "      <td>3</td>\n",
       "      <td>cart screen appear</td>\n",
       "      <td>3518123091307005509</td>\n",
       "      <td>248</td>\n",
       "      <td>2019-07-25 11:28:47</td>\n",
       "      <td>2019-07-25</td>\n",
       "    </tr>\n",
       "    <tr>\n",
       "      <td>4</td>\n",
       "      <td>payment screen successful</td>\n",
       "      <td>6217807653094995999</td>\n",
       "      <td>248</td>\n",
       "      <td>2019-07-25 11:48:42</td>\n",
       "      <td>2019-07-25</td>\n",
       "    </tr>\n",
       "  </tbody>\n",
       "</table>\n",
       "</div>"
      ],
      "text/plain": [
       "                  event_name              user_id  group           full_date  \\\n",
       "0         main screen appear  4575588528974610257    246 2019-07-25 04:43:36   \n",
       "1         main screen appear  7416695313311560658    246 2019-07-25 11:11:42   \n",
       "2  payment screen successful  3518123091307005509    248 2019-07-25 11:28:47   \n",
       "3         cart screen appear  3518123091307005509    248 2019-07-25 11:28:47   \n",
       "4  payment screen successful  6217807653094995999    248 2019-07-25 11:48:42   \n",
       "\n",
       "  short_data  \n",
       "0 2019-07-25  \n",
       "1 2019-07-25  \n",
       "2 2019-07-25  \n",
       "3 2019-07-25  \n",
       "4 2019-07-25  "
      ]
     },
     "metadata": {},
     "output_type": "display_data"
    },
    {
     "name": "stdout",
     "output_type": "stream",
     "text": [
      "<class 'pandas.core.frame.DataFrame'>\n",
      "RangeIndex: 243713 entries, 0 to 243712\n",
      "Data columns (total 5 columns):\n",
      "event_name    243713 non-null object\n",
      "user_id       243713 non-null int64\n",
      "group         243713 non-null int64\n",
      "full_date     243713 non-null datetime64[ns]\n",
      "short_data    243713 non-null datetime64[ns]\n",
      "dtypes: datetime64[ns](2), int64(2), object(1)\n",
      "memory usage: 9.3+ MB\n",
      " \n",
      "Index(['event_name', 'user_id', 'group', 'full_date', 'short_data'], dtype='object')\n",
      " \n",
      "Numbers of NaN values in the dataset - final dataset\n",
      "event_name    0\n",
      "user_id       0\n",
      "group         0\n",
      "full_date     0\n",
      "short_data    0\n",
      "dtype: int64\n",
      " \n",
      "Numbers of duplicates (explicit)in the dataset - final dataset\n",
      "0\n",
      "None\n"
     ]
    }
   ],
   "source": [
    "# Create a final dataset with new columns\n",
    "df_final = (pd.concat([event, df_data,  fdate, sdate], axis = 1)).drop(['event_name', \n",
    "                                                                        'event_time'], axis = 1) \n",
    "# rename columns\n",
    "df_final.columns = ['event_name', 'user_id'  ,\n",
    "                    'group'     , 'full_date', \n",
    "                    'short_data'             ]\n",
    "\n",
    "# Change format to the new columns with date \n",
    "df_final['full_date']  = pd.to_datetime(df_final['full_date'])\n",
    "df_final['short_data'] = pd.to_datetime(df_final['short_data'])\n",
    "\n",
    "# Change register of event names\n",
    "df_final['event_name'] = df_final['event_name'].str.lower()\n",
    "\n",
    "# Drop duplicates\n",
    "df_final = df_final.drop_duplicates().dropna().reset_index(drop = True)\n",
    "\n",
    "print(get_info(df_final, 'final dataset')) "
   ]
  },
  {
   "cell_type": "markdown",
   "metadata": {},
   "source": [
    "Дополнительно проверю наличие одинаковых пользователей в 3 группах"
   ]
  },
  {
   "cell_type": "code",
   "execution_count": 7,
   "metadata": {},
   "outputs": [],
   "source": [
    "# check users_id\n",
    "def check_users(groupA, groupB): \n",
    "    count = 0\n",
    "    for id_A in groupA:\n",
    "        for id_B in groupB:\n",
    "            if id_A == id_B:\n",
    "                count += 1\n",
    "                print(f'User with ID {id_B} is in both groups')\n",
    "    if count == 0:\n",
    "        print('There are no user in the research groups')\n",
    "    \n",
    "# Get data\n",
    "group_246 = df_final.query('group == \"246\"')\n",
    "group_247 = df_final.query('group == \"247\"')\n",
    "group_248 = df_final.query('group == \"248\"')\n",
    "\n",
    "# get unique users_id\n",
    "unic_users246 = group_246['user_id'].unique()\n",
    "unic_users247 = group_247['user_id'].unique()\n",
    "unic_users248 = group_248['user_id'].unique()\n"
   ]
  },
  {
   "cell_type": "markdown",
   "metadata": {},
   "source": [
    "Выполню проверку по группе 246"
   ]
  },
  {
   "cell_type": "code",
   "execution_count": 8,
   "metadata": {},
   "outputs": [
    {
     "name": "stdout",
     "output_type": "stream",
     "text": [
      "There are no user in the research groups\n",
      "\n",
      "There are no user in the research groups\n"
     ]
    }
   ],
   "source": [
    "# Check group_246 and group_247\n",
    "check_users(unic_users246, unic_users247)\n",
    "print('')\n",
    "# Check group_246 and group_248\n",
    "check_users(unic_users246, unic_users248)"
   ]
  },
  {
   "cell_type": "markdown",
   "metadata": {},
   "source": [
    "**Вывод:** Пользователи из группа 246 - не встречаются в группах 247 и 248."
   ]
  },
  {
   "cell_type": "markdown",
   "metadata": {},
   "source": [
    "Выполню проверку по группе 247"
   ]
  },
  {
   "cell_type": "code",
   "execution_count": 9,
   "metadata": {},
   "outputs": [
    {
     "name": "stdout",
     "output_type": "stream",
     "text": [
      "There are no user in the research groups\n",
      "\n",
      "There are no user in the research groups\n"
     ]
    }
   ],
   "source": [
    "# Check group_247 and group_246\n",
    "check_users(unic_users247, unic_users246)\n",
    "print('')\n",
    "# Check group_247 and group_248\n",
    "check_users(unic_users247, unic_users248)"
   ]
  },
  {
   "cell_type": "markdown",
   "metadata": {},
   "source": [
    "**Вывод:** Пользователи из группа 246 - не встречаются в группах 247 и 248."
   ]
  },
  {
   "cell_type": "markdown",
   "metadata": {},
   "source": [
    "**Вывод по разделу:** В результате предобработки данных были исправлены названия столбцов (приведены к одному виду), удалены дубликаты, изменен формат данных для столбца с информацие о дате и времени (созданы два новых столбца) и внесены корректировки в колонку с текстовой информацией, в частности был добавлен пробел между словами и скорректирован регистр. Теперь набор данных готов к последующей обработке."
   ]
  },
  {
   "cell_type": "markdown",
   "metadata": {},
   "source": [
    "### Изучение и проверка данных:"
   ]
  },
  {
   "cell_type": "markdown",
   "metadata": {},
   "source": [
    "Для того чтобы ответить на вопрос **сколько всего событий в логе**, сначала нужно определится что же такое событие. Я предпологаю, что событие есть каждая уникальная строчка в столбце **event_name**. По этому нужно найти уникальные значения и посчитать их количество:"
   ]
  },
  {
   "cell_type": "code",
   "execution_count": 10,
   "metadata": {},
   "outputs": [
    {
     "name": "stdout",
     "output_type": "stream",
     "text": [
      "Всего событий в логе: 5 \n",
      "\n",
      "Уникальные события в логе: ['main screen appear' 'payment screen successful' 'cart screen appear'\n",
      " 'offers screen appear' 'tutorial'] \n",
      "\n"
     ]
    }
   ],
   "source": [
    "print('Всего событий в логе:', (df_final['event_name'].nunique()), '\\n')\n",
    "\n",
    "print('Уникальные события в логе:', (df_final['event_name'].unique()), '\\n')"
   ]
  },
  {
   "cell_type": "markdown",
   "metadata": {},
   "source": [
    "Для того чтобы найти **количество уникальных пользователей** воспользуюсь методом `nunique`:"
   ]
  },
  {
   "cell_type": "code",
   "execution_count": 11,
   "metadata": {},
   "outputs": [
    {
     "name": "stdout",
     "output_type": "stream",
     "text": [
      "Всего уникальных пользователей: 7551\n"
     ]
    }
   ],
   "source": [
    "print('Всего уникальных пользователей:', df_final['user_id'].nunique())"
   ]
  },
  {
   "cell_type": "markdown",
   "metadata": {},
   "source": [
    "Для ответа сколько **в среднем событий** приходится **на одного пользователя** воспользуюсь группировкой и методом `groupby`:"
   ]
  },
  {
   "cell_type": "code",
   "execution_count": 12,
   "metadata": {},
   "outputs": [
    {
     "name": "stdout",
     "output_type": "stream",
     "text": [
      "                user_id  mean_event\n",
      "0   6304868067479728361        2307\n",
      "1    197027893265565660        1998\n",
      "2   4623191541214045580        1768\n",
      "3   6932517045703054087        1439\n",
      "4   1754140665440434215        1221\n",
      "5   3337471580007169353        1186\n",
      "6   7738058666231999878         888\n",
      "7   1055544042902443290         854\n",
      "8   4713748699910253089         824\n",
      "9   8118046800480174342         755\n",
      "10  1989685320445148348         729\n",
      "11  3521696259961091617         702\n",
      "12  3610536745613892312         661\n",
      "13  1100007125648169445         661\n",
      "14  2305766456715991733         658\n",
      "15  5996739817823449506         585\n",
      "16  3940194724501792579         569\n",
      "17  8173190940950873857         555\n",
      "18  2768580714092136945         529\n"
     ]
    }
   ],
   "source": [
    "mean_user = (df_final\n",
    "                 .groupby('user_id')\n",
    "                 .agg({'full_date':'count'})\n",
    "                 .rename(columns = {'full_date' : 'mean_event'})\n",
    "                 .sort_values('mean_event', ascending = False)\n",
    "            ).reset_index()\n",
    "# Users ID for excluding\n",
    "top19_list = mean_user.head(19)\n",
    "print(top19_list)"
   ]
  },
  {
   "cell_type": "markdown",
   "metadata": {},
   "source": [
    "Теперь когда я знаю сколько действий приходится на пользователей построю гистограмму рассеивания"
   ]
  },
  {
   "cell_type": "code",
   "execution_count": 13,
   "metadata": {},
   "outputs": [],
   "source": [
    "# Settings for plots\n",
    "def plot_settungs(ax, title, xlabel, ylabel, deg):\n",
    "                      \n",
    "    ''' \n",
    "    ax             - Figure\n",
    "        Area for visualization\n",
    "    title          - Objects\n",
    "        The plot title\n",
    "    xlabel, ylabel - Objects\n",
    "        labels of x and y axis\n",
    "    deg            - Int\n",
    "    '''  \n",
    "    ax.set_title(title  , color = 'black', fontsize = 14, pad = 20)\n",
    "    ax.set_xlabel(xlabel, color = 'black', fontsize = 14, labelpad = 20)\n",
    "    ax.set_ylabel(ylabel, color = 'black', fontsize = 14, labelpad = 20)\n",
    "\n",
    "    ax.grid(True, which     = 'major', \n",
    "                  color     = 'k'    ,\n",
    "                  linestyle = 'solid',\n",
    "                  alpha     = 0.5    )\n",
    "\n",
    "    for label in ax.xaxis.get_ticklabels():\n",
    "        label.set_color('black')\n",
    "        label.set_rotation(deg)\n",
    "        label.set_fontsize(14)\n",
    "    for label in ax.yaxis.get_ticklabels():\n",
    "        label.set_color('black')\n",
    "        label.set_fontsize(14)  \n",
    "    plt.show();"
   ]
  },
  {
   "cell_type": "code",
   "execution_count": 14,
   "metadata": {},
   "outputs": [
    {
     "data": {
      "image/png": "[encoded data removed]",
      "text/plain": [
       "<Figure size 864x504 with 1 Axes>"
      ]
     },
     "metadata": {
      "needs_background": "light"
     },
     "output_type": "display_data"
    }
   ],
   "source": [
    "# Function for histogramm\n",
    "def histogram(df, col, bin, ax, **kwargs):\n",
    "    return df.plot(y    = col   , title = col,\n",
    "                   kind = 'hist', bins  = bin,\n",
    "                   ax   = ax    , **kwargs   )\n",
    "\n",
    "# Create plot area\n",
    "fig = plt.figure(figsize = (12, 7))\n",
    "ax  = fig.add_subplot(111) \n",
    "\n",
    "# Create plot\n",
    "plots =  histogram(mean_user   , 'mean_event',                   \n",
    "                   bin  = 50   , ax   = ax   ,\n",
    "                   xlim = (0.0,  500.1)      ,\n",
    "                   ylim = (0.0, 6500.1)      )\n",
    "# Create settings\n",
    "plots =  plot_settungs(ax, 'Число событий на уникального пользователя',\n",
    "                           'Количество действий'                      ,\n",
    "                           'Количество пользователей',   deg = 0      )"
   ]
  },
  {
   "cell_type": "code",
   "execution_count": 15,
   "metadata": {},
   "outputs": [
    {
     "data": {
      "image/png": "[encoded data removed]",
      "text/plain": [
       "<Figure size 864x576 with 1 Axes>"
      ]
     },
     "metadata": {
      "needs_background": "light"
     },
     "output_type": "display_data"
    }
   ],
   "source": [
    "# Create boxplot\n",
    "def boxplots(df, col, ax, **kwargs):\n",
    "    return df.plot(y    = col  , title = col, \n",
    "                   kind = 'box', ax    = ax ,\n",
    "                   grid = True , **kwargs   ) \n",
    "\n",
    "fig = plt.figure(figsize = (12, 7))\n",
    "ax  = fig.add_subplot(111) \n",
    "\n",
    "# Create plot\n",
    "plots =  boxplots(mean_user, 'mean_event'        ,                   \n",
    "                  ax = ax  , ylim = (0.0, 2500.1),\n",
    "                  figsize = (12, 8)              )"
   ]
  },
  {
   "cell_type": "code",
   "execution_count": 16,
   "metadata": {},
   "outputs": [
    {
     "name": "stdout",
     "output_type": "stream",
     "text": [
      "Среднее количество событий на пользователя с учетом выбросов: 32.27559263673685 \n",
      "\n",
      "Среднее количество событий на пользователя без учета выбросов: 20.0 \n",
      "\n"
     ]
    }
   ],
   "source": [
    "print('Среднее количество событий на пользователя с учетом выбросов:' , \n",
    "      mean_user['mean_event'].mean()  , '\\n')\n",
    "\n",
    "print('Среднее количество событий на пользователя без учета выбросов:', \n",
    "      mean_user['mean_event'].median(), '\\n')"
   ]
  },
  {
   "cell_type": "markdown",
   "metadata": {},
   "source": [
    "Определим **минимальную и максимальную дату** совершения события пользователями и построю **гистограмму распределения** событий по времени."
   ]
  },
  {
   "cell_type": "code",
   "execution_count": 17,
   "metadata": {},
   "outputs": [
    {
     "name": "stdout",
     "output_type": "stream",
     "text": [
      "Самая раняя   дата совершения события: 2019-07-25 04:43:36\n",
      "Самая поздняя дата совершения события: 2019-08-07 21:15:17\n"
     ]
    },
    {
     "data": {
      "image/png": "[encoded data removed]",
      "text/plain": [
       "<Figure size 864x504 with 1 Axes>"
      ]
     },
     "metadata": {
      "needs_background": "light"
     },
     "output_type": "display_data"
    }
   ],
   "source": [
    "# Get min and max data for analysis.\n",
    "min_date = df_final['full_date'].min()\n",
    "max_date = df_final['full_date'].max()  \n",
    "\n",
    "print('Самая раняя   дата совершения события:', min_date)\n",
    "print('Самая поздняя дата совершения события:', max_date)\n",
    "\n",
    "# Get data collected by date\n",
    "report = df_final.groupby('short_data').agg({'user_id': 'count'})\n",
    "\n",
    "# Plot histogramm\n",
    "fig = plt.figure(figsize = (12, 7))\n",
    "ax  = fig.add_subplot(111) \n",
    "\n",
    "# visualization\n",
    "ax.bar(report.index, report['user_id'], color = 'blue')\n",
    "# plot settings\n",
    "plots =  plot_settungs(ax, 'Распределение информации о пользователях по дате поступления сведений ',\n",
    "                           'Дата'                    ,\n",
    "                           'Количество пользователей',   deg = 45)"
   ]
  },
  {
   "cell_type": "code",
   "execution_count": 18,
   "metadata": {},
   "outputs": [
    {
     "data": {
      "text/html": [
       "<div>\n",
       "<style scoped>\n",
       "    .dataframe tbody tr th:only-of-type {\n",
       "        vertical-align: middle;\n",
       "    }\n",
       "\n",
       "    .dataframe tbody tr th {\n",
       "        vertical-align: top;\n",
       "    }\n",
       "\n",
       "    .dataframe thead th {\n",
       "        text-align: right;\n",
       "    }\n",
       "</style>\n",
       "<table border=\"1\" class=\"dataframe\">\n",
       "  <thead>\n",
       "    <tr style=\"text-align: right;\">\n",
       "      <th></th>\n",
       "      <th>event_name</th>\n",
       "      <th>user_id</th>\n",
       "      <th>group</th>\n",
       "      <th>full_date</th>\n",
       "      <th>short_data</th>\n",
       "    </tr>\n",
       "  </thead>\n",
       "  <tbody>\n",
       "    <tr>\n",
       "      <td>0</td>\n",
       "      <td>main screen appear</td>\n",
       "      <td>4575588528974610257</td>\n",
       "      <td>246</td>\n",
       "      <td>2019-07-25 04:43:36</td>\n",
       "      <td>2019-07-25</td>\n",
       "    </tr>\n",
       "    <tr>\n",
       "      <td>1</td>\n",
       "      <td>main screen appear</td>\n",
       "      <td>7416695313311560658</td>\n",
       "      <td>246</td>\n",
       "      <td>2019-07-25 11:11:42</td>\n",
       "      <td>2019-07-25</td>\n",
       "    </tr>\n",
       "    <tr>\n",
       "      <td>2</td>\n",
       "      <td>payment screen successful</td>\n",
       "      <td>3518123091307005509</td>\n",
       "      <td>248</td>\n",
       "      <td>2019-07-25 11:28:47</td>\n",
       "      <td>2019-07-25</td>\n",
       "    </tr>\n",
       "    <tr>\n",
       "      <td>3</td>\n",
       "      <td>cart screen appear</td>\n",
       "      <td>3518123091307005509</td>\n",
       "      <td>248</td>\n",
       "      <td>2019-07-25 11:28:47</td>\n",
       "      <td>2019-07-25</td>\n",
       "    </tr>\n",
       "    <tr>\n",
       "      <td>4</td>\n",
       "      <td>payment screen successful</td>\n",
       "      <td>6217807653094995999</td>\n",
       "      <td>248</td>\n",
       "      <td>2019-07-25 11:48:42</td>\n",
       "      <td>2019-07-25</td>\n",
       "    </tr>\n",
       "    <tr>\n",
       "      <td>...</td>\n",
       "      <td>...</td>\n",
       "      <td>...</td>\n",
       "      <td>...</td>\n",
       "      <td>...</td>\n",
       "      <td>...</td>\n",
       "    </tr>\n",
       "    <tr>\n",
       "      <td>243708</td>\n",
       "      <td>main screen appear</td>\n",
       "      <td>4599628364049201812</td>\n",
       "      <td>247</td>\n",
       "      <td>2019-08-07 21:12:25</td>\n",
       "      <td>2019-08-07</td>\n",
       "    </tr>\n",
       "    <tr>\n",
       "      <td>243709</td>\n",
       "      <td>main screen appear</td>\n",
       "      <td>5849806612437486590</td>\n",
       "      <td>246</td>\n",
       "      <td>2019-08-07 21:13:59</td>\n",
       "      <td>2019-08-07</td>\n",
       "    </tr>\n",
       "    <tr>\n",
       "      <td>243710</td>\n",
       "      <td>main screen appear</td>\n",
       "      <td>5746969938801999050</td>\n",
       "      <td>246</td>\n",
       "      <td>2019-08-07 21:14:43</td>\n",
       "      <td>2019-08-07</td>\n",
       "    </tr>\n",
       "    <tr>\n",
       "      <td>243711</td>\n",
       "      <td>main screen appear</td>\n",
       "      <td>5746969938801999050</td>\n",
       "      <td>246</td>\n",
       "      <td>2019-08-07 21:14:58</td>\n",
       "      <td>2019-08-07</td>\n",
       "    </tr>\n",
       "    <tr>\n",
       "      <td>243712</td>\n",
       "      <td>offers screen appear</td>\n",
       "      <td>5746969938801999050</td>\n",
       "      <td>246</td>\n",
       "      <td>2019-08-07 21:15:17</td>\n",
       "      <td>2019-08-07</td>\n",
       "    </tr>\n",
       "  </tbody>\n",
       "</table>\n",
       "<p>243713 rows × 5 columns</p>\n",
       "</div>"
      ],
      "text/plain": [
       "                       event_name              user_id  group  \\\n",
       "0              main screen appear  4575588528974610257    246   \n",
       "1              main screen appear  7416695313311560658    246   \n",
       "2       payment screen successful  3518123091307005509    248   \n",
       "3              cart screen appear  3518123091307005509    248   \n",
       "4       payment screen successful  6217807653094995999    248   \n",
       "...                           ...                  ...    ...   \n",
       "243708         main screen appear  4599628364049201812    247   \n",
       "243709         main screen appear  5849806612437486590    246   \n",
       "243710         main screen appear  5746969938801999050    246   \n",
       "243711         main screen appear  5746969938801999050    246   \n",
       "243712       offers screen appear  5746969938801999050    246   \n",
       "\n",
       "                 full_date short_data  \n",
       "0      2019-07-25 04:43:36 2019-07-25  \n",
       "1      2019-07-25 11:11:42 2019-07-25  \n",
       "2      2019-07-25 11:28:47 2019-07-25  \n",
       "3      2019-07-25 11:28:47 2019-07-25  \n",
       "4      2019-07-25 11:48:42 2019-07-25  \n",
       "...                    ...        ...  \n",
       "243708 2019-08-07 21:12:25 2019-08-07  \n",
       "243709 2019-08-07 21:13:59 2019-08-07  \n",
       "243710 2019-08-07 21:14:43 2019-08-07  \n",
       "243711 2019-08-07 21:14:58 2019-08-07  \n",
       "243712 2019-08-07 21:15:17 2019-08-07  \n",
       "\n",
       "[243713 rows x 5 columns]"
      ]
     },
     "execution_count": 18,
     "metadata": {},
     "output_type": "execute_result"
    }
   ],
   "source": [
    "df_final"
   ]
  },
  {
   "cell_type": "code",
   "execution_count": 19,
   "metadata": {},
   "outputs": [
    {
     "name": "stdout",
     "output_type": "stream",
     "text": [
      "Количество данных, которые нужно отбросить: 796\n",
      "Процент удаленных строк: 0.33%\n",
      "Процент удаленных пользователей: 7.35%\n"
     ]
    }
   ],
   "source": [
    "old_data = df_final.query('short_data < \"2019-07-31\"')\n",
    "\n",
    "# Calculate string and user numbers\n",
    "del_strings = len(old_data['short_data']) / len(df_final['short_data'])\n",
    "del_users   = old_data['user_id'].nunique() / df_final['user_id'].nunique()\n",
    "\n",
    "print('Количество данных, которые нужно отбросить:', len(old_data['short_data']))\n",
    "print(f'Процент удаленных строк: {del_strings:.2%}')\n",
    "print(f'Процент удаленных пользователей: {del_users:.2%}') "
   ]
  },
  {
   "cell_type": "markdown",
   "metadata": {},
   "source": [
    "Вывод: В результате проверки удалось установить, что в наш набор данных для исследований попало 796 (0.3%) позиций относящихся к предыдушему периоду. Кроме того, в этих строчка содержится 7.4% пользователей. Скорее всего такой значительный процент связан с тем, что это постоянные покупатели, кто использует наше приложение уже какое-то время. Поэтому не удивительно, что информация об их заказах есть в данных за предыдуший период."
   ]
  },
  {
   "cell_type": "markdown",
   "metadata": {},
   "source": [
    "**Вывод по разделу**: "
   ]
  },
  {
   "cell_type": "markdown",
   "metadata": {},
   "source": [
    "Изучив набор данных, я определил что в изначальном наборе данных с учетом удаленных дубликатов есть всего **5 уникальных событий**: *main screen appear*, *payment screen successful*, *cart screen appear*, *offers screen appear*, *tutorial*. Эти события относятся к **7551 уникальных пользователя** интернет магазина. Каждый уникальный пользователь совершает **в среднем от 20 до 33 действий на сайте**. При этом есть особенные клиенты, которые совершают от 100 - 500 действие, также есть группа лиц, которые совершили более 500 действий. Но это либо постоянные клиенты, которые совершают множество заказов или тестировщики, либо это просто ошибки (выбросы) и для более достоверных результатов таких пользователей я исключу из финальной выборки.\n",
    "\n"
   ]
  },
  {
   "cell_type": "markdown",
   "metadata": {},
   "source": [
    "Кроме того, я определи, что в изначальном наборе данных есть данные за период с 25.07.2019 по 07.08.2019. При этом выполнив более детальный анализ данных, мне удалось выявить четку границу, после которой количество данных резко увеличивается - 01.08.2019. Поэтому, я считаю что дата 01.08.2019 является датой, с которой начинается актуальные сведения о пользователях. События, которые случились раннее нужно отбросить из нашего анализа. Соответственно актуальные период составляет всего 1 неделю с 01.08.2019 по 07.08.2019."
   ]
  },
  {
   "cell_type": "markdown",
   "metadata": {},
   "source": [
    "Я также установил, что количество устаревших данных который нужно отбросить равняется 2826 позиций."
   ]
  },
  {
   "cell_type": "code",
   "execution_count": 20,
   "metadata": {},
   "outputs": [
    {
     "name": "stdout",
     "output_type": "stream",
     "text": [
      "Common information about - data\n"
     ]
    },
    {
     "data": {
      "text/html": [
       "<div>\n",
       "<style scoped>\n",
       "    .dataframe tbody tr th:only-of-type {\n",
       "        vertical-align: middle;\n",
       "    }\n",
       "\n",
       "    .dataframe tbody tr th {\n",
       "        vertical-align: top;\n",
       "    }\n",
       "\n",
       "    .dataframe thead th {\n",
       "        text-align: right;\n",
       "    }\n",
       "</style>\n",
       "<table border=\"1\" class=\"dataframe\">\n",
       "  <thead>\n",
       "    <tr style=\"text-align: right;\">\n",
       "      <th></th>\n",
       "      <th>event_name</th>\n",
       "      <th>user_id</th>\n",
       "      <th>group</th>\n",
       "      <th>full_date</th>\n",
       "      <th>short_data</th>\n",
       "    </tr>\n",
       "  </thead>\n",
       "  <tbody>\n",
       "    <tr>\n",
       "      <td>2826</td>\n",
       "      <td>tutorial</td>\n",
       "      <td>3737462046622621720</td>\n",
       "      <td>246</td>\n",
       "      <td>2019-08-01 00:07:28</td>\n",
       "      <td>2019-08-01</td>\n",
       "    </tr>\n",
       "    <tr>\n",
       "      <td>2827</td>\n",
       "      <td>main screen appear</td>\n",
       "      <td>3737462046622621720</td>\n",
       "      <td>246</td>\n",
       "      <td>2019-08-01 00:08:00</td>\n",
       "      <td>2019-08-01</td>\n",
       "    </tr>\n",
       "    <tr>\n",
       "      <td>2828</td>\n",
       "      <td>main screen appear</td>\n",
       "      <td>3737462046622621720</td>\n",
       "      <td>246</td>\n",
       "      <td>2019-08-01 00:08:55</td>\n",
       "      <td>2019-08-01</td>\n",
       "    </tr>\n",
       "    <tr>\n",
       "      <td>2829</td>\n",
       "      <td>offers screen appear</td>\n",
       "      <td>3737462046622621720</td>\n",
       "      <td>246</td>\n",
       "      <td>2019-08-01 00:08:58</td>\n",
       "      <td>2019-08-01</td>\n",
       "    </tr>\n",
       "    <tr>\n",
       "      <td>2830</td>\n",
       "      <td>main screen appear</td>\n",
       "      <td>1433840883824088890</td>\n",
       "      <td>247</td>\n",
       "      <td>2019-08-01 00:08:59</td>\n",
       "      <td>2019-08-01</td>\n",
       "    </tr>\n",
       "  </tbody>\n",
       "</table>\n",
       "</div>"
      ],
      "text/plain": [
       "                event_name              user_id  group           full_date  \\\n",
       "2826              tutorial  3737462046622621720    246 2019-08-01 00:07:28   \n",
       "2827    main screen appear  3737462046622621720    246 2019-08-01 00:08:00   \n",
       "2828    main screen appear  3737462046622621720    246 2019-08-01 00:08:55   \n",
       "2829  offers screen appear  3737462046622621720    246 2019-08-01 00:08:58   \n",
       "2830    main screen appear  1433840883824088890    247 2019-08-01 00:08:59   \n",
       "\n",
       "     short_data  \n",
       "2826 2019-08-01  \n",
       "2827 2019-08-01  \n",
       "2828 2019-08-01  \n",
       "2829 2019-08-01  \n",
       "2830 2019-08-01  "
      ]
     },
     "metadata": {},
     "output_type": "display_data"
    },
    {
     "name": "stdout",
     "output_type": "stream",
     "text": [
      "<class 'pandas.core.frame.DataFrame'>\n",
      "Int64Index: 222011 entries, 2826 to 243712\n",
      "Data columns (total 5 columns):\n",
      "event_name    222011 non-null object\n",
      "user_id       222011 non-null int64\n",
      "group         222011 non-null int64\n",
      "full_date     222011 non-null datetime64[ns]\n",
      "short_data    222011 non-null datetime64[ns]\n",
      "dtypes: datetime64[ns](2), int64(2), object(1)\n",
      "memory usage: 10.2+ MB\n",
      " \n",
      "Index(['event_name', 'user_id', 'group', 'full_date', 'short_data'], dtype='object')\n",
      " \n",
      "Numbers of NaN values in the dataset - data\n",
      "event_name    0\n",
      "user_id       0\n",
      "group         0\n",
      "full_date     0\n",
      "short_data    0\n",
      "dtype: int64\n",
      " \n",
      "Numbers of duplicates (explicit)in the dataset - data\n",
      "0\n"
     ]
    }
   ],
   "source": [
    "# Define correct data for actual period\n",
    "data4analysis = df_final.query('short_data >= \"2019-08-01\"')\n",
    "\n",
    "# Define users with extreme numbers\n",
    "for user in top19_list['user_id']:\n",
    "    data4analysis = data4analysis.query('user_id != @user')\n",
    "\n",
    "# Check values again\n",
    "get_info(data4analysis, 'data')"
   ]
  },
  {
   "cell_type": "code",
   "execution_count": 21,
   "metadata": {},
   "outputs": [
    {
     "name": "stdout",
     "output_type": "stream",
     "text": [
      "Количество пользователей в каждой группе: \n",
      "\n",
      "       users\n",
      "group       \n",
      "246     2478\n",
      "247     2509\n",
      "248     2528\n"
     ]
    }
   ],
   "source": [
    "print('Количество пользователей в каждой группе: \\n')\n",
    "print(data4analysis.groupby('group').agg({'user_id':'nunique'}).rename(columns = {'user_id': 'users'}))"
   ]
  },
  {
   "cell_type": "markdown",
   "metadata": {},
   "source": [
    "**Вывод:** Набор данных полностью проверен, откинуты данные за предыдущий период, кроме того, выполнена отбраковка пользователей, которые совершают от 500 и более действий. Финальные набор данных находится в переменной **data4analysis**."
   ]
  },
  {
   "cell_type": "markdown",
   "metadata": {},
   "source": [
    "### Изучение воронки событий:"
   ]
  },
  {
   "cell_type": "markdown",
   "metadata": {},
   "source": [
    "#### Посмотрите, какие события есть в логах, как часто они встречаются. "
   ]
  },
  {
   "cell_type": "code",
   "execution_count": 22,
   "metadata": {},
   "outputs": [
    {
     "data": {
      "text/html": [
       "<div>\n",
       "<style scoped>\n",
       "    .dataframe tbody tr th:only-of-type {\n",
       "        vertical-align: middle;\n",
       "    }\n",
       "\n",
       "    .dataframe tbody tr th {\n",
       "        vertical-align: top;\n",
       "    }\n",
       "\n",
       "    .dataframe thead th {\n",
       "        text-align: right;\n",
       "    }\n",
       "</style>\n",
       "<table border=\"1\" class=\"dataframe\">\n",
       "  <thead>\n",
       "    <tr style=\"text-align: right;\">\n",
       "      <th></th>\n",
       "      <th>event_name</th>\n",
       "      <th>event_numbers</th>\n",
       "    </tr>\n",
       "  </thead>\n",
       "  <tbody>\n",
       "    <tr>\n",
       "      <td>0</td>\n",
       "      <td>main screen appear</td>\n",
       "      <td>116209</td>\n",
       "    </tr>\n",
       "    <tr>\n",
       "      <td>1</td>\n",
       "      <td>offers screen appear</td>\n",
       "      <td>44438</td>\n",
       "    </tr>\n",
       "    <tr>\n",
       "      <td>2</td>\n",
       "      <td>cart screen appear</td>\n",
       "      <td>34122</td>\n",
       "    </tr>\n",
       "    <tr>\n",
       "      <td>3</td>\n",
       "      <td>payment screen successful</td>\n",
       "      <td>26240</td>\n",
       "    </tr>\n",
       "    <tr>\n",
       "      <td>4</td>\n",
       "      <td>tutorial</td>\n",
       "      <td>1002</td>\n",
       "    </tr>\n",
       "  </tbody>\n",
       "</table>\n",
       "</div>"
      ],
      "text/plain": [
       "                  event_name  event_numbers\n",
       "0         main screen appear         116209\n",
       "1       offers screen appear          44438\n",
       "2         cart screen appear          34122\n",
       "3  payment screen successful          26240\n",
       "4                   tutorial           1002"
      ]
     },
     "execution_count": 22,
     "metadata": {},
     "output_type": "execute_result"
    }
   ],
   "source": [
    "event_count = (data4analysis\n",
    "                     .groupby('event_name')\n",
    "                     .agg({'user_id' : 'count'})\n",
    "                     .reset_index()\n",
    "                     .rename(columns = {'user_id' : 'event_numbers'})\n",
    "                     .sort_values('event_numbers', ascending = False)\n",
    "                 ).reset_index(drop = True)\n",
    "event_count"
   ]
  },
  {
   "cell_type": "markdown",
   "metadata": {},
   "source": [
    "**Вывод:** Большего всего пользователи встречаются с появлением главного экрана, после чего большая часть из них закрывает приложение. Примерно 1/3 от общего числа пользователей переходит на следующий шаг. До оплаты доходит примерно половина пользователей от числа всех пользователей получивших предложение. Реже всего пользователи обращаются к справочной информации, что косвенно свидетельствует о том, что интерфейс приложения интуитивно понятен."
   ]
  },
  {
   "cell_type": "code",
   "execution_count": 23,
   "metadata": {},
   "outputs": [
    {
     "data": {
      "text/html": [
       "<div>\n",
       "<style scoped>\n",
       "    .dataframe tbody tr th:only-of-type {\n",
       "        vertical-align: middle;\n",
       "    }\n",
       "\n",
       "    .dataframe tbody tr th {\n",
       "        vertical-align: top;\n",
       "    }\n",
       "\n",
       "    .dataframe thead th {\n",
       "        text-align: right;\n",
       "    }\n",
       "</style>\n",
       "<table border=\"1\" class=\"dataframe\">\n",
       "  <thead>\n",
       "    <tr style=\"text-align: right;\">\n",
       "      <th></th>\n",
       "      <th>event_name</th>\n",
       "      <th>user_numbers</th>\n",
       "      <th>CR</th>\n",
       "      <th>CR_step</th>\n",
       "    </tr>\n",
       "  </thead>\n",
       "  <tbody>\n",
       "    <tr>\n",
       "      <td>0</td>\n",
       "      <td>main screen appear</td>\n",
       "      <td>7400</td>\n",
       "      <td>98.469727</td>\n",
       "      <td>100.000000</td>\n",
       "    </tr>\n",
       "    <tr>\n",
       "      <td>1</td>\n",
       "      <td>offers screen appear</td>\n",
       "      <td>4574</td>\n",
       "      <td>60.864937</td>\n",
       "      <td>61.810811</td>\n",
       "    </tr>\n",
       "    <tr>\n",
       "      <td>2</td>\n",
       "      <td>cart screen appear</td>\n",
       "      <td>3715</td>\n",
       "      <td>49.434464</td>\n",
       "      <td>81.219939</td>\n",
       "    </tr>\n",
       "    <tr>\n",
       "      <td>3</td>\n",
       "      <td>payment screen successful</td>\n",
       "      <td>3520</td>\n",
       "      <td>46.839654</td>\n",
       "      <td>94.751009</td>\n",
       "    </tr>\n",
       "    <tr>\n",
       "      <td>4</td>\n",
       "      <td>tutorial</td>\n",
       "      <td>837</td>\n",
       "      <td>11.137725</td>\n",
       "      <td>23.778409</td>\n",
       "    </tr>\n",
       "  </tbody>\n",
       "</table>\n",
       "</div>"
      ],
      "text/plain": [
       "                  event_name  user_numbers         CR     CR_step\n",
       "0         main screen appear          7400  98.469727  100.000000\n",
       "1       offers screen appear          4574  60.864937   61.810811\n",
       "2         cart screen appear          3715  49.434464   81.219939\n",
       "3  payment screen successful          3520  46.839654   94.751009\n",
       "4                   tutorial           837  11.137725   23.778409"
      ]
     },
     "execution_count": 23,
     "metadata": {},
     "output_type": "execute_result"
    }
   ],
   "source": [
    "users_count = (data4analysis\n",
    "                       .groupby('event_name')\n",
    "                       .agg({'user_id': 'nunique'})\n",
    "                       .sort_values(by = 'user_id', ascending = False)\n",
    "                       .rename(columns = {'user_id' : 'user_numbers'})\n",
    "              ).reset_index()\n",
    "users_count['CR'] = (users_count['user_numbers'] / data4analysis['user_id'].nunique())* 100\n",
    "\n",
    "# Create a zero timeseries for converstion in step\n",
    "cp_step = pd.Series(np.nan, index = users_count.index) # new event_name with space\n",
    "\n",
    "for i in range(len(users_count)):\n",
    "    if i == 0:\n",
    "        cp_step[i] = (users_count['user_numbers'][i] / users_count['user_numbers'][i]) * 100\n",
    "    else:\n",
    "        cp_step[i] = (users_count['user_numbers'][i] / users_count['user_numbers'][i - 1]) * 100\n",
    "        \n",
    "users_count['CR_step'] = cp_step\n",
    "users_count"
   ]
  },
  {
   "cell_type": "markdown",
   "metadata": {},
   "source": [
    "Вывод: Рассчитав конверсию на каждом шаге можно отметить, что ни на одном шаге нет 100%. Поэтому предположу, что эти 2% пользователей закрывают наше приложение даже не просмотрев главную страницу."
   ]
  },
  {
   "cell_type": "code",
   "execution_count": 24,
   "metadata": {},
   "outputs": [
    {
     "name": "stdout",
     "output_type": "stream",
     "text": [
      "Full report\n"
     ]
    },
    {
     "data": {
      "text/html": [
       "<div>\n",
       "<style scoped>\n",
       "    .dataframe tbody tr th:only-of-type {\n",
       "        vertical-align: middle;\n",
       "    }\n",
       "\n",
       "    .dataframe tbody tr th {\n",
       "        vertical-align: top;\n",
       "    }\n",
       "\n",
       "    .dataframe thead th {\n",
       "        text-align: right;\n",
       "    }\n",
       "</style>\n",
       "<table border=\"1\" class=\"dataframe\">\n",
       "  <thead>\n",
       "    <tr style=\"text-align: right;\">\n",
       "      <th></th>\n",
       "      <th>event_name</th>\n",
       "      <th>event_numbers</th>\n",
       "      <th>user_numbers</th>\n",
       "      <th>CR</th>\n",
       "      <th>CR_step</th>\n",
       "    </tr>\n",
       "  </thead>\n",
       "  <tbody>\n",
       "    <tr>\n",
       "      <td>0</td>\n",
       "      <td>main screen appear</td>\n",
       "      <td>116209</td>\n",
       "      <td>7400</td>\n",
       "      <td>98.5</td>\n",
       "      <td>100.0</td>\n",
       "    </tr>\n",
       "    <tr>\n",
       "      <td>1</td>\n",
       "      <td>offers screen appear</td>\n",
       "      <td>44438</td>\n",
       "      <td>4574</td>\n",
       "      <td>60.9</td>\n",
       "      <td>61.8</td>\n",
       "    </tr>\n",
       "    <tr>\n",
       "      <td>2</td>\n",
       "      <td>cart screen appear</td>\n",
       "      <td>34122</td>\n",
       "      <td>3715</td>\n",
       "      <td>49.4</td>\n",
       "      <td>81.2</td>\n",
       "    </tr>\n",
       "    <tr>\n",
       "      <td>3</td>\n",
       "      <td>payment screen successful</td>\n",
       "      <td>26240</td>\n",
       "      <td>3520</td>\n",
       "      <td>46.8</td>\n",
       "      <td>94.8</td>\n",
       "    </tr>\n",
       "    <tr>\n",
       "      <td>4</td>\n",
       "      <td>tutorial</td>\n",
       "      <td>1002</td>\n",
       "      <td>837</td>\n",
       "      <td>11.1</td>\n",
       "      <td>23.8</td>\n",
       "    </tr>\n",
       "  </tbody>\n",
       "</table>\n",
       "</div>"
      ],
      "text/plain": [
       "                  event_name  event_numbers  user_numbers    CR  CR_step\n",
       "0         main screen appear         116209          7400  98.5    100.0\n",
       "1       offers screen appear          44438          4574  60.9     61.8\n",
       "2         cart screen appear          34122          3715  49.4     81.2\n",
       "3  payment screen successful          26240          3520  46.8     94.8\n",
       "4                   tutorial           1002           837  11.1     23.8"
      ]
     },
     "metadata": {},
     "output_type": "display_data"
    }
   ],
   "source": [
    "report = event_count.merge(users_count, on = ['event_name'], how = 'left')\n",
    "\n",
    "pd.set_option('display.precision', 1)\n",
    "\n",
    "print('Full report')\n",
    "display(report)"
   ]
  },
  {
   "cell_type": "markdown",
   "metadata": {},
   "source": [
    "Вывод: В полном отчете представлен набор данных, который получился с использованием всех событий. Отмечу, что справочный материал - tutorial, не является основной целью для продаж нашего приложения, поэтому исключу данные пункт из воронки."
   ]
  },
  {
   "cell_type": "code",
   "execution_count": 25,
   "metadata": {},
   "outputs": [
    {
     "name": "stdout",
     "output_type": "stream",
     "text": [
      "Marketing funnel\n"
     ]
    },
    {
     "data": {
      "text/html": [
       "<div>\n",
       "<style scoped>\n",
       "    .dataframe tbody tr th:only-of-type {\n",
       "        vertical-align: middle;\n",
       "    }\n",
       "\n",
       "    .dataframe tbody tr th {\n",
       "        vertical-align: top;\n",
       "    }\n",
       "\n",
       "    .dataframe thead th {\n",
       "        text-align: right;\n",
       "    }\n",
       "</style>\n",
       "<table border=\"1\" class=\"dataframe\">\n",
       "  <thead>\n",
       "    <tr style=\"text-align: right;\">\n",
       "      <th></th>\n",
       "      <th>event_name</th>\n",
       "      <th>event_numbers</th>\n",
       "      <th>user_numbers</th>\n",
       "      <th>CR</th>\n",
       "      <th>CR_step</th>\n",
       "    </tr>\n",
       "  </thead>\n",
       "  <tbody>\n",
       "    <tr>\n",
       "      <td>0</td>\n",
       "      <td>main screen appear</td>\n",
       "      <td>116209</td>\n",
       "      <td>7400</td>\n",
       "      <td>98.5</td>\n",
       "      <td>100.0</td>\n",
       "    </tr>\n",
       "    <tr>\n",
       "      <td>1</td>\n",
       "      <td>offers screen appear</td>\n",
       "      <td>44438</td>\n",
       "      <td>4574</td>\n",
       "      <td>60.9</td>\n",
       "      <td>61.8</td>\n",
       "    </tr>\n",
       "    <tr>\n",
       "      <td>2</td>\n",
       "      <td>cart screen appear</td>\n",
       "      <td>34122</td>\n",
       "      <td>3715</td>\n",
       "      <td>49.4</td>\n",
       "      <td>81.2</td>\n",
       "    </tr>\n",
       "    <tr>\n",
       "      <td>3</td>\n",
       "      <td>payment screen successful</td>\n",
       "      <td>26240</td>\n",
       "      <td>3520</td>\n",
       "      <td>46.8</td>\n",
       "      <td>94.8</td>\n",
       "    </tr>\n",
       "  </tbody>\n",
       "</table>\n",
       "</div>"
      ],
      "text/plain": [
       "                  event_name  event_numbers  user_numbers    CR  CR_step\n",
       "0         main screen appear         116209          7400  98.5    100.0\n",
       "1       offers screen appear          44438          4574  60.9     61.8\n",
       "2         cart screen appear          34122          3715  49.4     81.2\n",
       "3  payment screen successful          26240          3520  46.8     94.8"
      ]
     },
     "metadata": {},
     "output_type": "display_data"
    },
    {
     "data": {
      "image/png": "[encoded data removed]",
      "text/plain": [
       "<Figure size 864x432 with 1 Axes>"
      ]
     },
     "metadata": {
      "needs_background": "light"
     },
     "output_type": "display_data"
    }
   ],
   "source": [
    "voronka = report[0:4]\n",
    "print('Marketing funnel')\n",
    "display(voronka)\n",
    "\n",
    "y      = [ 4  ,  3  ,  2  ,  1  ]\n",
    "x      = [96.5, 60.9, 49.4, 46.8]\n",
    "labels = voronka['event_name']\n",
    "\n",
    "x_max = 100\n",
    "x_min = 0\n",
    "x_range = x_max - x_min\n",
    "\n",
    "fig, ax = plt.subplots(1, figsize=(12,6))\n",
    "for idx, val in enumerate(x):\n",
    "    left = (x_range - val)/2\n",
    "    plt.barh(y[idx], x[idx], left      = left     , \n",
    "                             color     = '#808B96',\n",
    "                             height    = 0.8      , \n",
    "                             edgecolor = 'black'  )\n",
    "    # label\n",
    "    plt.text(50, y[idx]+0.1, labels[idx], ha       = 'center' ,\n",
    "                                          fontsize = 16       ,\n",
    "                                          color    = '#2A2A2A')\n",
    "    # value\n",
    "    plt.text(50, y[idx]-0.3, x[idx], ha       = 'center' , \n",
    "                                     fontsize = 16       ,\n",
    "                                     color    = '#2A2A2A')\n",
    "    \n",
    "    if idx != len(x)-1:\n",
    "        next_left = (x_range - x[idx + 1]) / 2\n",
    "        shadow_x  = [left, next_left, \n",
    "                     100 - next_left, 100 - left, left]\n",
    "        \n",
    "        shadow_y  = [y[idx] - 0.4    , y[idx + 1] + 0.4, \n",
    "                     y[idx + 1] + 0.4, y[idx] - 0.4, y[idx] - 0.4]\n",
    "        plt.plot(shadow_x, shadow_y)\n",
    "plt.xlim(x_min, x_max)\n",
    "plt.axis('off')\n",
    "plt.title('Food application', loc      = 'center' ,\n",
    "                              fontsize = 24       ,\n",
    "                              color    = '#2A2A2A')\n",
    "plt.show()"
   ]
  },
  {
   "cell_type": "markdown",
   "metadata": {},
   "source": [
    "**Вывод по разделу:** Построив продуктовую воронку можно отметить, что больше всего пользователей попадают на главную страницу сайта. На следующий шаг, а именно просмотр страницы с предложениями переходит только 61%. Из оставшихся пользователей к странице оплаты переходит 81% оставшихся пользователей, при этом  большинство из них (94%) совершают успешную покупку. Кроме того, наше приложение интуитивно понятно для большинства пользователей. При  этом данное событие не относится к воронке событий.  Также, отмечу что больше всего пользователей (почти 40%) мы теряем на моменте перехода с главной страницы приложения к странице приложения с различными предложениями. Следовательно надо что-то с этим делать."
   ]
  },
  {
   "cell_type": "markdown",
   "metadata": {},
   "source": [
    "### Изучение результатов экспериментов: "
   ]
  },
  {
   "cell_type": "code",
   "execution_count": 26,
   "metadata": {},
   "outputs": [
    {
     "data": {
      "text/html": [
       "<div>\n",
       "<style scoped>\n",
       "    .dataframe tbody tr th:only-of-type {\n",
       "        vertical-align: middle;\n",
       "    }\n",
       "\n",
       "    .dataframe tbody tr th {\n",
       "        vertical-align: top;\n",
       "    }\n",
       "\n",
       "    .dataframe thead th {\n",
       "        text-align: right;\n",
       "    }\n",
       "</style>\n",
       "<table border=\"1\" class=\"dataframe\">\n",
       "  <thead>\n",
       "    <tr style=\"text-align: right;\">\n",
       "      <th></th>\n",
       "      <th>group</th>\n",
       "      <th>users</th>\n",
       "      <th>users %</th>\n",
       "    </tr>\n",
       "  </thead>\n",
       "  <tbody>\n",
       "    <tr>\n",
       "      <td>0</td>\n",
       "      <td>246</td>\n",
       "      <td>2478</td>\n",
       "      <td>33.0</td>\n",
       "    </tr>\n",
       "    <tr>\n",
       "      <td>1</td>\n",
       "      <td>247</td>\n",
       "      <td>2509</td>\n",
       "      <td>33.4</td>\n",
       "    </tr>\n",
       "    <tr>\n",
       "      <td>2</td>\n",
       "      <td>248</td>\n",
       "      <td>2528</td>\n",
       "      <td>33.6</td>\n",
       "    </tr>\n",
       "  </tbody>\n",
       "</table>\n",
       "</div>"
      ],
      "text/plain": [
       "   group  users  users %\n",
       "0    246   2478     33.0\n",
       "1    247   2509     33.4\n",
       "2    248   2528     33.6"
      ]
     },
     "execution_count": 26,
     "metadata": {},
     "output_type": "execute_result"
    }
   ],
   "source": [
    "group_members = (data4analysis.groupby('group')\n",
    "                              .agg({'user_id':'nunique'})\n",
    "                              .rename(columns = {'user_id': 'users'})\n",
    "                              .reset_index()\n",
    "                )\n",
    "\n",
    "group_members['users %'] = (group_members['users'] / data4analysis['user_id'].nunique()) * 100\n",
    "group_members"
   ]
  },
  {
   "cell_type": "markdown",
   "metadata": {},
   "source": [
    "Вывод: Количество участников в каждой группе, примерно одинаковое. В двух контрольных группах использующими старые шрифты количество участников 2478 (33.0%) и 2509 (33.4%). В экспериментальную группу попало больше участников - 2528 (33.6%). На мой взгляд такой распределение является довольно эффективным поскольку чуть большее количество участников в экспериментальный группе, сравнивается с 2 контрольными группами чуть меньшего размера. В результате чего мы может получить достоверные данные."
   ]
  },
  {
   "cell_type": "markdown",
   "metadata": {},
   "source": [
    "Для ответа на следующие вопросы мне придется создать вначале необходимые функции"
   ]
  },
  {
   "cell_type": "code",
   "execution_count": 27,
   "metadata": {},
   "outputs": [],
   "source": [
    "# Function for calculation of conversion for each group\n",
    "def get_group_conversion(df):\n",
    "    '''\n",
    "    df - DataFrame\n",
    "        The data from the research group\n",
    "    return: funnel - DataFrame\n",
    "    \n",
    "    '''\n",
    "    funnel = (df\n",
    "               .groupby('event_name')\n",
    "               .agg({'user_id': 'nunique'})\n",
    "               .sort_values(by = 'user_id', ascending = False)\n",
    "               .rename(columns = {'user_id' : 'user_numbers'})\n",
    "             ).reset_index()\n",
    "\n",
    "    funnel['tot_users'] = df['user_id'].nunique()\n",
    "    funnel['CR']        = (funnel['user_numbers'] / funnel['tot_users'])* 100\n",
    "    return funnel[0:4]"
   ]
  },
  {
   "cell_type": "code",
   "execution_count": 28,
   "metadata": {},
   "outputs": [],
   "source": [
    "# Function for calculation of z-tests\n",
    "def get_z_test(df1, df2, alpha, event):\n",
    "    '''\n",
    "    df1 - DataFrame\n",
    "        The first group data\n",
    "    df2 - DataFrame\n",
    "        The second group data\n",
    "    alpha - Float\n",
    "       критический уровень статистической значимости \n",
    "    event - Objects\n",
    "        the name of the event\n",
    "    '''\n",
    "    # Numbers of people in each step\n",
    "    successes = np.array([df1.loc[df1.loc[:, 'event_name'] == event]['user_numbers'].values,\n",
    "                          df2.loc[df2.loc[:, 'event_name'] == event]['user_numbers'].values])\n",
    "\n",
    "    # Total numbers\n",
    "    trials    = np.array([df1.loc[df1.loc[:, 'event_name'] == event]['tot_users'].values,\n",
    "                          df2.loc[df2.loc[:, 'event_name'] == event]['tot_users'].values])\n",
    "\n",
    "    # пропорция успехов в первой и второй группе:\n",
    "    p1 = successes[0] / trials[0]\n",
    "    p2 = successes[1] / trials[1]\n",
    "    \n",
    "\n",
    "    # пропорция успехов в комбинированном датасете:\n",
    "    p_combined = (successes[0] + successes[1]) / (trials[0] + trials[1])\n",
    "\n",
    "    # разница пропорций в датасетах\n",
    "    difference = p1 - p2 \n",
    "\n",
    "    # считаем статистику в ст.отклонениях стандартного нормального распределения\n",
    "    z_value = difference / mth.sqrt(p_combined * (1 - p_combined) * (1 / trials[0] + 1 / trials[1]))\n",
    "\n",
    "    \n",
    "    # задаем стандартное нормальное распределение (среднее 0, ст.отклонение 1)\n",
    "    distr = st.norm(0, 1)  \n",
    "\n",
    "    # считаем p_value\n",
    "    p_value = (1 - distr.cdf(abs(z_value))) * 2\n",
    "\n",
    "    print('p-значение: ', p_value)\n",
    "\n",
    "    if p_value < alpha:\n",
    "        print('Отвергаем нулевую гипотезу: между долями есть значимая разница')\n",
    "    else:\n",
    "        print('Не получилось отвергнуть нулевую гипотезу, нет оснований считать доли разными') "
   ]
  },
  {
   "cell_type": "markdown",
   "metadata": {},
   "source": [
    "Изучим изменилось ли что-то после внедрения новых шрифтов или все осталось примерно также. Кроме того проверим есть ли у нас разница между группами по статистическим критериям и разница между группами для исследования и контрольной группой. "
   ]
  },
  {
   "cell_type": "markdown",
   "metadata": {},
   "source": [
    "1. **z - тест**"
   ]
  },
  {
   "cell_type": "markdown",
   "metadata": {},
   "source": [
    "Определим конверсии для каждой из группы для того чтобы выполнить проверку с использование **z теста**. "
   ]
  },
  {
   "cell_type": "code",
   "execution_count": 29,
   "metadata": {},
   "outputs": [
    {
     "name": "stdout",
     "output_type": "stream",
     "text": [
      "Control group 1\n"
     ]
    },
    {
     "data": {
      "text/html": [
       "<div>\n",
       "<style scoped>\n",
       "    .dataframe tbody tr th:only-of-type {\n",
       "        vertical-align: middle;\n",
       "    }\n",
       "\n",
       "    .dataframe tbody tr th {\n",
       "        vertical-align: top;\n",
       "    }\n",
       "\n",
       "    .dataframe thead th {\n",
       "        text-align: right;\n",
       "    }\n",
       "</style>\n",
       "<table border=\"1\" class=\"dataframe\">\n",
       "  <thead>\n",
       "    <tr style=\"text-align: right;\">\n",
       "      <th></th>\n",
       "      <th>event_name</th>\n",
       "      <th>user_numbers</th>\n",
       "      <th>tot_users</th>\n",
       "      <th>CR</th>\n",
       "    </tr>\n",
       "  </thead>\n",
       "  <tbody>\n",
       "    <tr>\n",
       "      <td>0</td>\n",
       "      <td>main screen appear</td>\n",
       "      <td>2444</td>\n",
       "      <td>2478</td>\n",
       "      <td>98.6</td>\n",
       "    </tr>\n",
       "    <tr>\n",
       "      <td>1</td>\n",
       "      <td>offers screen appear</td>\n",
       "      <td>1536</td>\n",
       "      <td>2478</td>\n",
       "      <td>62.0</td>\n",
       "    </tr>\n",
       "    <tr>\n",
       "      <td>2</td>\n",
       "      <td>cart screen appear</td>\n",
       "      <td>1260</td>\n",
       "      <td>2478</td>\n",
       "      <td>50.8</td>\n",
       "    </tr>\n",
       "    <tr>\n",
       "      <td>3</td>\n",
       "      <td>payment screen successful</td>\n",
       "      <td>1194</td>\n",
       "      <td>2478</td>\n",
       "      <td>48.2</td>\n",
       "    </tr>\n",
       "  </tbody>\n",
       "</table>\n",
       "</div>"
      ],
      "text/plain": [
       "                  event_name  user_numbers  tot_users    CR\n",
       "0         main screen appear          2444       2478  98.6\n",
       "1       offers screen appear          1536       2478  62.0\n",
       "2         cart screen appear          1260       2478  50.8\n",
       "3  payment screen successful          1194       2478  48.2"
      ]
     },
     "execution_count": 29,
     "metadata": {},
     "output_type": "execute_result"
    }
   ],
   "source": [
    "# Get data for eqch group\n",
    "group_246 = data4analysis.query('group == \"246\"')\n",
    "# Get funnel for group 1\n",
    "funnel_246 = get_group_conversion(group_246)\n",
    "print('Control group 1')\n",
    "funnel_246"
   ]
  },
  {
   "cell_type": "code",
   "execution_count": 30,
   "metadata": {},
   "outputs": [
    {
     "name": "stdout",
     "output_type": "stream",
     "text": [
      "Control group 2\n"
     ]
    },
    {
     "data": {
      "text/html": [
       "<div>\n",
       "<style scoped>\n",
       "    .dataframe tbody tr th:only-of-type {\n",
       "        vertical-align: middle;\n",
       "    }\n",
       "\n",
       "    .dataframe tbody tr th {\n",
       "        vertical-align: top;\n",
       "    }\n",
       "\n",
       "    .dataframe thead th {\n",
       "        text-align: right;\n",
       "    }\n",
       "</style>\n",
       "<table border=\"1\" class=\"dataframe\">\n",
       "  <thead>\n",
       "    <tr style=\"text-align: right;\">\n",
       "      <th></th>\n",
       "      <th>event_name</th>\n",
       "      <th>user_numbers</th>\n",
       "      <th>tot_users</th>\n",
       "      <th>CR</th>\n",
       "    </tr>\n",
       "  </thead>\n",
       "  <tbody>\n",
       "    <tr>\n",
       "      <td>0</td>\n",
       "      <td>main screen appear</td>\n",
       "      <td>2472</td>\n",
       "      <td>2509</td>\n",
       "      <td>98.5</td>\n",
       "    </tr>\n",
       "    <tr>\n",
       "      <td>1</td>\n",
       "      <td>offers screen appear</td>\n",
       "      <td>1516</td>\n",
       "      <td>2509</td>\n",
       "      <td>60.4</td>\n",
       "    </tr>\n",
       "    <tr>\n",
       "      <td>2</td>\n",
       "      <td>cart screen appear</td>\n",
       "      <td>1234</td>\n",
       "      <td>2509</td>\n",
       "      <td>49.2</td>\n",
       "    </tr>\n",
       "    <tr>\n",
       "      <td>3</td>\n",
       "      <td>payment screen successful</td>\n",
       "      <td>1154</td>\n",
       "      <td>2509</td>\n",
       "      <td>46.0</td>\n",
       "    </tr>\n",
       "  </tbody>\n",
       "</table>\n",
       "</div>"
      ],
      "text/plain": [
       "                  event_name  user_numbers  tot_users    CR\n",
       "0         main screen appear          2472       2509  98.5\n",
       "1       offers screen appear          1516       2509  60.4\n",
       "2         cart screen appear          1234       2509  49.2\n",
       "3  payment screen successful          1154       2509  46.0"
      ]
     },
     "execution_count": 30,
     "metadata": {},
     "output_type": "execute_result"
    }
   ],
   "source": [
    "# Get data for eqch group\n",
    "group_247 = data4analysis.query('group == \"247\"')\n",
    "# Get funnel for group 2\n",
    "funnel_247 = get_group_conversion(group_247)\n",
    "print('Control group 2')\n",
    "funnel_247"
   ]
  },
  {
   "cell_type": "markdown",
   "metadata": {},
   "source": [
    "Проверим равенство пропорций для первой и второй контрольной группы:"
   ]
  },
  {
   "cell_type": "markdown",
   "metadata": {},
   "source": [
    "**Нулевые гипотезы:** Доля клиентов посетивших главную страницу приложения (страницу предложений, корзину, выполнивших оплату) из контрольной группы 1 равна доле клиентов из контрольной группы 2. **Альтернативная гипотеза:** пропорция одной из групп больше или меньше другой."
   ]
  },
  {
   "cell_type": "code",
   "execution_count": 31,
   "metadata": {
    "scrolled": true
   },
   "outputs": [
    {
     "name": "stdout",
     "output_type": "stream",
     "text": [
      "p-значение:  [0.75972112]\n",
      "Не получилось отвергнуть нулевую гипотезу, нет оснований считать доли разными\n",
      "p-значение:  [0.25741688]\n",
      "Не получилось отвергнуть нулевую гипотезу, нет оснований считать доли разными\n",
      "p-значение:  [0.23981995]\n",
      "Не получилось отвергнуть нулевую гипотезу, нет оснований считать доли разными\n",
      "p-значение:  [0.1214116]\n",
      "Не получилось отвергнуть нулевую гипотезу, нет оснований считать доли разными\n"
     ]
    }
   ],
   "source": [
    "# main screen appear\n",
    "get_z_test(funnel_246, funnel_247, 0.05, 'main screen appear'       )\n",
    "# offers screen appear\n",
    "get_z_test(funnel_246, funnel_247, 0.05, 'offers screen appear'     )\n",
    "# cart screen appear\n",
    "get_z_test(funnel_246, funnel_247, 0.05, 'cart screen appear'       )\n",
    "# payment screen successful\n",
    "get_z_test(funnel_246, funnel_247, 0.05, 'payment screen successful')"
   ]
  },
  {
   "cell_type": "markdown",
   "metadata": {},
   "source": [
    "**Вывод:** На основании *z теста* удалось установить что нет разницы между пропорциями контрольных групп 1 и 2 по всем событиям."
   ]
  },
  {
   "cell_type": "markdown",
   "metadata": {},
   "source": [
    "Создам общую группу на основе двух контрольных групп"
   ]
  },
  {
   "cell_type": "code",
   "execution_count": 32,
   "metadata": {},
   "outputs": [
    {
     "name": "stdout",
     "output_type": "stream",
     "text": [
      "Control groups 1 and 2, together\n"
     ]
    },
    {
     "data": {
      "text/html": [
       "<div>\n",
       "<style scoped>\n",
       "    .dataframe tbody tr th:only-of-type {\n",
       "        vertical-align: middle;\n",
       "    }\n",
       "\n",
       "    .dataframe tbody tr th {\n",
       "        vertical-align: top;\n",
       "    }\n",
       "\n",
       "    .dataframe thead th {\n",
       "        text-align: right;\n",
       "    }\n",
       "</style>\n",
       "<table border=\"1\" class=\"dataframe\">\n",
       "  <thead>\n",
       "    <tr style=\"text-align: right;\">\n",
       "      <th></th>\n",
       "      <th>event_name</th>\n",
       "      <th>user_numbers</th>\n",
       "      <th>tot_users</th>\n",
       "      <th>CR</th>\n",
       "    </tr>\n",
       "  </thead>\n",
       "  <tbody>\n",
       "    <tr>\n",
       "      <td>0</td>\n",
       "      <td>main screen appear</td>\n",
       "      <td>4916</td>\n",
       "      <td>4987</td>\n",
       "      <td>98.6</td>\n",
       "    </tr>\n",
       "    <tr>\n",
       "      <td>1</td>\n",
       "      <td>offers screen appear</td>\n",
       "      <td>3052</td>\n",
       "      <td>4987</td>\n",
       "      <td>61.2</td>\n",
       "    </tr>\n",
       "    <tr>\n",
       "      <td>2</td>\n",
       "      <td>cart screen appear</td>\n",
       "      <td>2494</td>\n",
       "      <td>4987</td>\n",
       "      <td>50.0</td>\n",
       "    </tr>\n",
       "    <tr>\n",
       "      <td>3</td>\n",
       "      <td>payment screen successful</td>\n",
       "      <td>2348</td>\n",
       "      <td>4987</td>\n",
       "      <td>47.1</td>\n",
       "    </tr>\n",
       "  </tbody>\n",
       "</table>\n",
       "</div>"
      ],
      "text/plain": [
       "                  event_name  user_numbers  tot_users    CR\n",
       "0         main screen appear          4916       4987  98.6\n",
       "1       offers screen appear          3052       4987  61.2\n",
       "2         cart screen appear          2494       4987  50.0\n",
       "3  payment screen successful          2348       4987  47.1"
      ]
     },
     "execution_count": 32,
     "metadata": {},
     "output_type": "execute_result"
    }
   ],
   "source": [
    "# Get data for common group\n",
    "group_246_247 = data4analysis.query('group == \"246\" or group == \"247\"')\n",
    "# Get funnel for common group\n",
    "funnel_246_247 = get_group_conversion(group_246_247)\n",
    "print('Control groups 1 and 2, together')\n",
    "funnel_246_247"
   ]
  },
  {
   "cell_type": "markdown",
   "metadata": {},
   "source": [
    "Создам экспериментальную группу"
   ]
  },
  {
   "cell_type": "code",
   "execution_count": 33,
   "metadata": {},
   "outputs": [
    {
     "name": "stdout",
     "output_type": "stream",
     "text": [
      "Research group\n"
     ]
    },
    {
     "data": {
      "text/html": [
       "<div>\n",
       "<style scoped>\n",
       "    .dataframe tbody tr th:only-of-type {\n",
       "        vertical-align: middle;\n",
       "    }\n",
       "\n",
       "    .dataframe tbody tr th {\n",
       "        vertical-align: top;\n",
       "    }\n",
       "\n",
       "    .dataframe thead th {\n",
       "        text-align: right;\n",
       "    }\n",
       "</style>\n",
       "<table border=\"1\" class=\"dataframe\">\n",
       "  <thead>\n",
       "    <tr style=\"text-align: right;\">\n",
       "      <th></th>\n",
       "      <th>event_name</th>\n",
       "      <th>user_numbers</th>\n",
       "      <th>tot_users</th>\n",
       "      <th>CR</th>\n",
       "    </tr>\n",
       "  </thead>\n",
       "  <tbody>\n",
       "    <tr>\n",
       "      <td>0</td>\n",
       "      <td>main screen appear</td>\n",
       "      <td>2484</td>\n",
       "      <td>2528</td>\n",
       "      <td>98.3</td>\n",
       "    </tr>\n",
       "    <tr>\n",
       "      <td>1</td>\n",
       "      <td>offers screen appear</td>\n",
       "      <td>1522</td>\n",
       "      <td>2528</td>\n",
       "      <td>60.2</td>\n",
       "    </tr>\n",
       "    <tr>\n",
       "      <td>2</td>\n",
       "      <td>cart screen appear</td>\n",
       "      <td>1221</td>\n",
       "      <td>2528</td>\n",
       "      <td>48.3</td>\n",
       "    </tr>\n",
       "    <tr>\n",
       "      <td>3</td>\n",
       "      <td>payment screen successful</td>\n",
       "      <td>1172</td>\n",
       "      <td>2528</td>\n",
       "      <td>46.4</td>\n",
       "    </tr>\n",
       "  </tbody>\n",
       "</table>\n",
       "</div>"
      ],
      "text/plain": [
       "                  event_name  user_numbers  tot_users    CR\n",
       "0         main screen appear          2484       2528  98.3\n",
       "1       offers screen appear          1522       2528  60.2\n",
       "2         cart screen appear          1221       2528  48.3\n",
       "3  payment screen successful          1172       2528  46.4"
      ]
     },
     "execution_count": 33,
     "metadata": {},
     "output_type": "execute_result"
    }
   ],
   "source": [
    "# Get data for eqch group\n",
    "group_248 = data4analysis.query('group == \"248\"')\n",
    "# Get funnel for experiment group\n",
    "funnel_248 = get_group_conversion(group_248)\n",
    "print('Research group')\n",
    "funnel_248"
   ]
  },
  {
   "cell_type": "markdown",
   "metadata": {},
   "source": [
    "Проверим равенство пропорций для первой контрольной группы и экспериментальной:"
   ]
  },
  {
   "cell_type": "markdown",
   "metadata": {},
   "source": [
    "**Нулевые гипотезы:** Доля клиентов посетивших главную страницу приложения (страницу предложений, корзину, выполнивших оплату) из контрольной группы 1 равна доле клиентов из экспериментальной группы. **Альтернативная гипотеза:** пропорция одной из групп больше или меньше другой."
   ]
  },
  {
   "cell_type": "code",
   "execution_count": 34,
   "metadata": {},
   "outputs": [
    {
     "name": "stdout",
     "output_type": "stream",
     "text": [
      "p-значение:  [0.29263991]\n",
      "Не получилось отвергнуть нулевую гипотезу, нет оснований считать доли разными\n",
      "p-значение:  [0.1965898]\n",
      "Не получилось отвергнуть нулевую гипотезу, нет оснований считать доли разными\n",
      "p-значение:  [0.07137935]\n",
      "Не получилось отвергнуть нулевую гипотезу, нет оснований считать доли разными\n",
      "p-значение:  [0.19639698]\n",
      "Не получилось отвергнуть нулевую гипотезу, нет оснований считать доли разными\n"
     ]
    }
   ],
   "source": [
    "# main screen appear\n",
    "get_z_test(funnel_246, funnel_248, 0.05, 'main screen appear'       )\n",
    "# offers screen appear\n",
    "get_z_test(funnel_246, funnel_248, 0.05, 'offers screen appear'     )\n",
    "# cart screen appear\n",
    "get_z_test(funnel_246, funnel_248, 0.05, 'cart screen appear'       )\n",
    "# payment screen successful\n",
    "get_z_test(funnel_246, funnel_248, 0.05, 'payment screen successful')"
   ]
  },
  {
   "cell_type": "markdown",
   "metadata": {},
   "source": [
    "**Вывод:** На основании *z теста* удалось установить что нет разницы между пропорциями контрольной группы 1 и экспериментальной группы по всем событиям."
   ]
  },
  {
   "cell_type": "markdown",
   "metadata": {},
   "source": [
    "Проверим равенство пропорций для второй контрольной группы и экспериментальной:"
   ]
  },
  {
   "cell_type": "markdown",
   "metadata": {},
   "source": [
    "**Нулевые гипотезы:** Доля клиентов посетивших главную страницу приложения (страницу предложений, корзину, выполнивших оплату) из контрольной группы 2 равна доле клиентов из экспериментальной группы. **Альтернативная гипотеза:** пропорция одной из групп больше или меньше другой."
   ]
  },
  {
   "cell_type": "code",
   "execution_count": 35,
   "metadata": {},
   "outputs": [
    {
     "name": "stdout",
     "output_type": "stream",
     "text": [
      "p-значение:  [0.45332204]\n",
      "Не получилось отвергнуть нулевую гипотезу, нет оснований считать доли разными\n",
      "p-значение:  [0.87505956]\n",
      "Не получилось отвергнуть нулевую гипотезу, нет оснований считать доли разными\n",
      "p-значение:  [0.530326]\n",
      "Не получилось отвергнуть нулевую гипотезу, нет оснований считать доли разными\n",
      "p-значение:  [0.79427857]\n",
      "Не получилось отвергнуть нулевую гипотезу, нет оснований считать доли разными\n"
     ]
    }
   ],
   "source": [
    "# main screen appear\n",
    "get_z_test(funnel_247, funnel_248, 0.05, 'main screen appear'       )\n",
    "# offers screen appear\n",
    "get_z_test(funnel_247, funnel_248, 0.05, 'offers screen appear'     )\n",
    "# cart screen appear\n",
    "get_z_test(funnel_247, funnel_248, 0.05, 'cart screen appear'       )\n",
    "# payment screen successful\n",
    "get_z_test(funnel_247, funnel_248, 0.05, 'payment screen successful')"
   ]
  },
  {
   "cell_type": "markdown",
   "metadata": {},
   "source": [
    "**Вывод:** На основании *z теста* удалось установить что нет разницы между пропорциями контрольной группы 2 и экспериментальной группы по всем событиям."
   ]
  },
  {
   "cell_type": "markdown",
   "metadata": {},
   "source": [
    "Проверим равенство пропорций для общей  контрольной группы (246 и 247) и экспериментальной:"
   ]
  },
  {
   "cell_type": "markdown",
   "metadata": {},
   "source": [
    "**Нулевые гипотезы:** Доля клиентов посетивших главную страницу приложения (страницу предложений, корзину, выполнивших оплату) из общей контрольной группы равна доле клиентов из экспериментальной группы. **Альтернативная гипотеза:** пропорция одной из групп больше или меньше другой."
   ]
  },
  {
   "cell_type": "code",
   "execution_count": 36,
   "metadata": {},
   "outputs": [
    {
     "name": "stdout",
     "output_type": "stream",
     "text": [
      "p-значение:  [0.2904843]\n",
      "Не получилось отвергнуть нулевую гипотезу, нет оснований считать доли разными\n",
      "p-значение:  [0.40444911]\n",
      "Не получилось отвергнуть нулевую гипотезу, нет оснований считать доли разными\n",
      "p-значение:  [0.1610143]\n",
      "Не получилось отвергнуть нулевую гипотезу, нет оснований считать доли разными\n",
      "p-значение:  [0.55362164]\n",
      "Не получилось отвергнуть нулевую гипотезу, нет оснований считать доли разными\n"
     ]
    }
   ],
   "source": [
    "# main screen appear\n",
    "get_z_test(funnel_246_247, funnel_248, 0.05, 'main screen appear'       )\n",
    "# offers screen appear\n",
    "get_z_test(funnel_246_247, funnel_248, 0.05, 'offers screen appear'     )\n",
    "# cart screen appear\n",
    "get_z_test(funnel_246_247, funnel_248, 0.05, 'cart screen appear'       )\n",
    "# payment screen successful\n",
    "get_z_test(funnel_246_247, funnel_248, 0.05, 'payment screen successful')"
   ]
  },
  {
   "cell_type": "markdown",
   "metadata": {},
   "source": [
    "**Вывод:** На основании *z теста* удалось установить что нет разницы между пропорциями общей контрольной группы и экспериментальной группы по всем событиям."
   ]
  },
  {
   "cell_type": "markdown",
   "metadata": {},
   "source": [
    "Если я правильно понял: У нас есть 16 гипотез (по 4 на каждое событие + 4 группы), которые я проверяю исходя из события. Соответственно из формулы ![Bof](https://pictures.s3.yandex.net/resources/Untitled-f33fc295-f007-4b31-b2dd-89ee237989d1_1569201056.png)"
   ]
  },
  {
   "cell_type": "markdown",
   "metadata": {},
   "source": [
    "я получаю 0.05 / 16 = 0.003. Соответственно, я должен понизить уровень значимости, чтобы исключить эффект ложнопозитивного результата при множественном тестировании гипотез"
   ]
  },
  {
   "cell_type": "code",
   "execution_count": 37,
   "metadata": {},
   "outputs": [
    {
     "name": "stdout",
     "output_type": "stream",
     "text": [
      "p-значение:  [0.29263991]\n",
      "Не получилось отвергнуть нулевую гипотезу, нет оснований считать доли разными\n",
      "p-значение:  [0.1965898]\n",
      "Не получилось отвергнуть нулевую гипотезу, нет оснований считать доли разными\n",
      "p-значение:  [0.07137935]\n",
      "Не получилось отвергнуть нулевую гипотезу, нет оснований считать доли разными\n",
      "p-значение:  [0.19639698]\n",
      "Не получилось отвергнуть нулевую гипотезу, нет оснований считать доли разными\n"
     ]
    }
   ],
   "source": [
    "# main screen appear\n",
    "get_z_test(funnel_246, funnel_248, 0.003, 'main screen appear'       )\n",
    "# offers screen appear\n",
    "get_z_test(funnel_246, funnel_248, 0.003, 'offers screen appear'     )\n",
    "# cart screen appear\n",
    "get_z_test(funnel_246, funnel_248, 0.003, 'cart screen appear'       )\n",
    "# payment screen successful\n",
    "get_z_test(funnel_246, funnel_248, 0.003, 'payment screen successful')"
   ]
  },
  {
   "cell_type": "code",
   "execution_count": 38,
   "metadata": {},
   "outputs": [
    {
     "name": "stdout",
     "output_type": "stream",
     "text": [
      "p-значение:  [0.45332204]\n",
      "Не получилось отвергнуть нулевую гипотезу, нет оснований считать доли разными\n",
      "p-значение:  [0.87505956]\n",
      "Не получилось отвергнуть нулевую гипотезу, нет оснований считать доли разными\n",
      "p-значение:  [0.530326]\n",
      "Не получилось отвергнуть нулевую гипотезу, нет оснований считать доли разными\n",
      "p-значение:  [0.79427857]\n",
      "Не получилось отвергнуть нулевую гипотезу, нет оснований считать доли разными\n"
     ]
    }
   ],
   "source": [
    "# main screen appear\n",
    "get_z_test(funnel_247, funnel_248, 0.003, 'main screen appear'       )\n",
    "# offers screen appear\n",
    "get_z_test(funnel_247, funnel_248, 0.003, 'offers screen appear'     )\n",
    "# cart screen appear\n",
    "get_z_test(funnel_247, funnel_248, 0.003, 'cart screen appear'       )\n",
    "# payment screen successful\n",
    "get_z_test(funnel_247, funnel_248, 0.003, 'payment screen successful')"
   ]
  },
  {
   "cell_type": "code",
   "execution_count": 39,
   "metadata": {},
   "outputs": [
    {
     "name": "stdout",
     "output_type": "stream",
     "text": [
      "p-значение:  [0.2904843]\n",
      "Не получилось отвергнуть нулевую гипотезу, нет оснований считать доли разными\n",
      "p-значение:  [0.40444911]\n",
      "Не получилось отвергнуть нулевую гипотезу, нет оснований считать доли разными\n",
      "p-значение:  [0.1610143]\n",
      "Не получилось отвергнуть нулевую гипотезу, нет оснований считать доли разными\n",
      "p-значение:  [0.55362164]\n",
      "Не получилось отвергнуть нулевую гипотезу, нет оснований считать доли разными\n"
     ]
    }
   ],
   "source": [
    "# main screen appear\n",
    "get_z_test(funnel_246_247, funnel_248, 0.003, 'main screen appear'       )\n",
    "# offers screen appear\n",
    "get_z_test(funnel_246_247, funnel_248, 0.003, 'offers screen appear'     )\n",
    "# cart screen appear\n",
    "get_z_test(funnel_246_247, funnel_248, 0.003, 'cart screen appear'       )\n",
    "# payment screen successful\n",
    "get_z_test(funnel_246_247, funnel_248, 0.003, 'payment screen successful')"
   ]
  },
  {
   "cell_type": "markdown",
   "metadata": {},
   "source": [
    "Теперь скорректировав уровень значимости. Я могу с уверенностью сказать, что разницы нет."
   ]
  },
  {
   "cell_type": "markdown",
   "metadata": {},
   "source": [
    "## Общий вывод по работе"
   ]
  },
  {
   "cell_type": "markdown",
   "metadata": {},
   "source": [
    "В результате анализа данных было установлено, что внедрение новых шрифтом никак не влияет на количество посещений клиентами приложения. Наибольшее количество клиентов уходит после посещения главной страницы и не переходит к дальнейшим покупкам. При этом отмечается крайне позитивная динамика среди тех пользователей кто перешел на страницу приложения с предложениями - большинство из них совершают покупки. "
   ]
  },
  {
   "cell_type": "markdown",
   "metadata": {},
   "source": [
    "Поскольку не очень понятно как трактовать слово tutorial - предположу, что это количество людей заказавших какой-то продуктовый справочник в нашем магазине и уже его получившие. Если исходить из этого предположения. Нам стоит задуматься как проработать службу доставки и сделать так, чтобы пользователи оставляли больше положительных комментариев.\n",
    "\n",
    "В случае, если tutorial - относится просто к руководству пользования интернет магазином - то тогда данные шаг не стоит рассматривать. И расценивать его как тот факт, что наше приложение интуитивно понятно для большинства пользователей."
   ]
  },
  {
   "cell_type": "markdown",
   "metadata": {},
   "source": [
    "Соответственно в качестве рекоммендации можно попытаться продумать новый дизайн главной страницы или сделать переход на страницу с предложениями более наглядной. "
   ]
  }
 ],
 "metadata": {
  "ExecuteTimeLog": [
   {
    "duration": 1223,
    "start_time": "2022-02-28T09:15:17.132Z"
   },
   {
    "duration": 393,
    "start_time": "2022-02-28T09:19:49.987Z"
   },
   {
    "duration": 175,
    "start_time": "2022-02-28T09:20:12.659Z"
   },
   {
    "duration": 62,
    "start_time": "2022-02-28T09:21:31.621Z"
   },
   {
    "duration": 60,
    "start_time": "2022-02-28T09:21:47.605Z"
   },
   {
    "duration": 59,
    "start_time": "2022-02-28T09:21:55.059Z"
   },
   {
    "duration": 60,
    "start_time": "2022-02-28T09:22:16.677Z"
   },
   {
    "duration": 64,
    "start_time": "2022-02-28T09:23:14.486Z"
   },
   {
    "duration": 60,
    "start_time": "2022-02-28T09:23:32.373Z"
   },
   {
    "duration": 383,
    "start_time": "2022-02-28T09:23:41.566Z"
   },
   {
    "duration": 749,
    "start_time": "2022-02-28T09:23:52.958Z"
   },
   {
    "duration": 160,
    "start_time": "2022-02-28T09:23:53.809Z"
   },
   {
    "duration": 683,
    "start_time": "2022-02-28T09:24:01.373Z"
   },
   {
    "duration": 171,
    "start_time": "2022-02-28T09:24:02.294Z"
   },
   {
    "duration": 8,
    "start_time": "2022-02-28T09:24:24.894Z"
   },
   {
    "duration": 94,
    "start_time": "2022-02-28T09:24:38.407Z"
   },
   {
    "duration": 347,
    "start_time": "2022-02-28T09:25:01.374Z"
   },
   {
    "duration": 71,
    "start_time": "2022-02-28T09:25:02.383Z"
   },
   {
    "duration": 224,
    "start_time": "2022-02-28T09:28:03.703Z"
   },
   {
    "duration": 67,
    "start_time": "2022-02-28T09:28:04.193Z"
   },
   {
    "duration": 1202,
    "start_time": "2022-02-28T09:34:10.656Z"
   },
   {
    "duration": 260,
    "start_time": "2022-02-28T09:34:41.993Z"
   },
   {
    "duration": 272,
    "start_time": "2022-02-28T09:35:06.418Z"
   },
   {
    "duration": 1049,
    "start_time": "2022-02-28T09:35:15.896Z"
   },
   {
    "duration": 78,
    "start_time": "2022-02-28T09:35:36.618Z"
   },
   {
    "duration": 9,
    "start_time": "2022-02-28T09:35:37.665Z"
   },
   {
    "duration": 176,
    "start_time": "2022-02-28T09:43:01.536Z"
   },
   {
    "duration": 7,
    "start_time": "2022-02-28T09:43:44.065Z"
   },
   {
    "duration": 61,
    "start_time": "2022-02-28T09:43:56.994Z"
   },
   {
    "duration": 4,
    "start_time": "2022-02-28T09:44:03.657Z"
   },
   {
    "duration": 150583,
    "start_time": "2022-02-28T09:48:07.222Z"
   },
   {
    "duration": 115,
    "start_time": "2022-02-28T09:50:37.692Z"
   },
   {
    "duration": 195,
    "start_time": "2022-02-28T09:50:45.216Z"
   },
   {
    "duration": 3,
    "start_time": "2022-02-28T09:51:29.449Z"
   },
   {
    "duration": 3,
    "start_time": "2022-02-28T09:51:52.489Z"
   },
   {
    "duration": 293,
    "start_time": "2022-02-28T09:51:52.945Z"
   },
   {
    "duration": 68,
    "start_time": "2022-02-28T09:51:54.664Z"
   },
   {
    "duration": 3,
    "start_time": "2022-02-28T09:51:58.993Z"
   },
   {
    "duration": 9,
    "start_time": "2022-02-28T09:52:00.962Z"
   },
   {
    "duration": 3,
    "start_time": "2022-02-28T09:52:14.585Z"
   },
   {
    "duration": 161689,
    "start_time": "2022-02-28T09:54:57.644Z"
   },
   {
    "duration": 12,
    "start_time": "2022-02-28T09:57:43.425Z"
   },
   {
    "duration": 5,
    "start_time": "2022-02-28T09:58:05.310Z"
   },
   {
    "duration": 5,
    "start_time": "2022-02-28T09:58:34.887Z"
   },
   {
    "duration": 4,
    "start_time": "2022-02-28T09:58:59.038Z"
   },
   {
    "duration": 181,
    "start_time": "2022-02-28T10:01:46.442Z"
   },
   {
    "duration": 843,
    "start_time": "2022-02-28T10:01:57.979Z"
   },
   {
    "duration": 695,
    "start_time": "2022-02-28T10:02:11.292Z"
   },
   {
    "duration": 611,
    "start_time": "2022-02-28T10:02:34.523Z"
   },
   {
    "duration": 187,
    "start_time": "2022-02-28T10:05:54.766Z"
   },
   {
    "duration": 4,
    "start_time": "2022-02-28T10:07:57.439Z"
   },
   {
    "duration": 3,
    "start_time": "2022-02-28T10:14:51.519Z"
   },
   {
    "duration": 4,
    "start_time": "2022-02-28T10:14:56.470Z"
   },
   {
    "duration": 4,
    "start_time": "2022-02-28T10:15:33.213Z"
   },
   {
    "duration": 4,
    "start_time": "2022-02-28T10:15:39.288Z"
   },
   {
    "duration": 4,
    "start_time": "2022-02-28T10:16:05.224Z"
   },
   {
    "duration": 408604,
    "start_time": "2022-02-28T10:19:05.194Z"
   },
   {
    "duration": 11,
    "start_time": "2022-02-28T10:26:00.218Z"
   },
   {
    "duration": 5,
    "start_time": "2022-02-28T10:26:49.426Z"
   },
   {
    "duration": 173,
    "start_time": "2022-02-28T10:28:50.686Z"
   },
   {
    "duration": 4,
    "start_time": "2022-02-28T10:29:40.332Z"
   },
   {
    "duration": 260,
    "start_time": "2022-02-28T10:31:09.893Z"
   },
   {
    "duration": 58,
    "start_time": "2022-02-28T10:31:48.471Z"
   },
   {
    "duration": 185,
    "start_time": "2022-02-28T10:31:52.709Z"
   },
   {
    "duration": 5,
    "start_time": "2022-02-28T10:32:05.934Z"
   },
   {
    "duration": 351,
    "start_time": "2022-02-28T10:33:23.096Z"
   },
   {
    "duration": 197,
    "start_time": "2022-02-28T10:34:44.850Z"
   },
   {
    "duration": 1368,
    "start_time": "2022-02-28T10:37:09.412Z"
   },
   {
    "duration": 1785,
    "start_time": "2022-02-28T10:37:36.403Z"
   },
   {
    "duration": 4,
    "start_time": "2022-02-28T10:38:22.493Z"
   },
   {
    "duration": 2098,
    "start_time": "2022-02-28T10:38:42.547Z"
   },
   {
    "duration": 1247,
    "start_time": "2022-02-28T10:39:09.117Z"
   },
   {
    "duration": 272,
    "start_time": "2022-02-28T10:40:36.590Z"
   },
   {
    "duration": 4,
    "start_time": "2022-02-28T10:41:11.166Z"
   },
   {
    "duration": 266,
    "start_time": "2022-02-28T10:41:58.264Z"
   },
   {
    "duration": 5,
    "start_time": "2022-02-28T10:42:48.616Z"
   },
   {
    "duration": 5,
    "start_time": "2022-02-28T10:43:21.895Z"
   },
   {
    "duration": 1216,
    "start_time": "2022-02-28T10:46:57.709Z"
   },
   {
    "duration": 272,
    "start_time": "2022-02-28T10:46:59.566Z"
   },
   {
    "duration": 96,
    "start_time": "2022-02-28T10:47:00.702Z"
   },
   {
    "duration": 4,
    "start_time": "2022-02-28T10:47:03.621Z"
   },
   {
    "duration": 11,
    "start_time": "2022-02-28T10:47:05.420Z"
   },
   {
    "duration": 5443,
    "start_time": "2022-02-28T10:47:06.940Z"
   },
   {
    "duration": 1537,
    "start_time": "2022-02-28T10:53:27.149Z"
   },
   {
    "duration": 323,
    "start_time": "2022-02-28T10:53:29.293Z"
   },
   {
    "duration": 122,
    "start_time": "2022-02-28T10:53:30.357Z"
   },
   {
    "duration": 7,
    "start_time": "2022-02-28T10:53:34.212Z"
   },
   {
    "duration": 12107,
    "start_time": "2022-02-28T10:53:36.115Z"
   },
   {
    "duration": 11,
    "start_time": "2022-02-28T10:56:16.536Z"
   },
   {
    "duration": 6,
    "start_time": "2022-02-28T10:56:26.279Z"
   },
   {
    "duration": 4,
    "start_time": "2022-02-28T10:56:34.199Z"
   },
   {
    "duration": 1209,
    "start_time": "2022-02-28T10:58:41.849Z"
   },
   {
    "duration": 227,
    "start_time": "2022-02-28T10:58:43.561Z"
   },
   {
    "duration": 87,
    "start_time": "2022-02-28T10:58:44.529Z"
   },
   {
    "duration": 7,
    "start_time": "2022-02-28T10:58:46.201Z"
   },
   {
    "duration": 14895,
    "start_time": "2022-02-28T10:58:50.978Z"
   },
   {
    "duration": 5,
    "start_time": "2022-02-28T10:59:51.754Z"
   },
   {
    "duration": 5,
    "start_time": "2022-02-28T10:59:58.355Z"
   },
   {
    "duration": 47,
    "start_time": "2022-02-28T11:00:27.555Z"
   },
   {
    "duration": 14,
    "start_time": "2022-02-28T11:00:30.841Z"
   },
   {
    "duration": 47,
    "start_time": "2022-02-28T11:01:23.809Z"
   },
   {
    "duration": 14,
    "start_time": "2022-02-28T11:01:24.469Z"
   },
   {
    "duration": 617,
    "start_time": "2022-02-28T11:02:59.300Z"
   },
   {
    "duration": 123,
    "start_time": "2022-02-28T11:04:14.509Z"
   },
   {
    "duration": 105,
    "start_time": "2022-02-28T11:08:37.262Z"
   },
   {
    "duration": 11,
    "start_time": "2022-02-28T11:08:39.531Z"
   },
   {
    "duration": 331,
    "start_time": "2022-02-28T11:09:23.946Z"
   },
   {
    "duration": 59,
    "start_time": "2022-02-28T11:11:11.981Z"
   },
   {
    "duration": 132,
    "start_time": "2022-02-28T11:11:23.772Z"
   },
   {
    "duration": 51,
    "start_time": "2022-02-28T11:11:50.709Z"
   },
   {
    "duration": 119,
    "start_time": "2022-02-28T11:11:51.326Z"
   },
   {
    "duration": 406,
    "start_time": "2022-02-28T11:34:06.654Z"
   },
   {
    "duration": 226,
    "start_time": "2022-02-28T11:35:15.832Z"
   },
   {
    "duration": 68,
    "start_time": "2022-02-28T11:35:16.791Z"
   },
   {
    "duration": 223,
    "start_time": "2022-02-28T11:35:29.544Z"
   },
   {
    "duration": 66,
    "start_time": "2022-02-28T11:35:30.394Z"
   },
   {
    "duration": 332,
    "start_time": "2022-02-28T11:36:02.936Z"
   },
   {
    "duration": 66,
    "start_time": "2022-02-28T11:36:03.928Z"
   },
   {
    "duration": 1157,
    "start_time": "2022-02-28T11:36:47.495Z"
   },
   {
    "duration": 239,
    "start_time": "2022-02-28T11:36:48.654Z"
   },
   {
    "duration": 92,
    "start_time": "2022-02-28T11:36:49.895Z"
   },
   {
    "duration": 7,
    "start_time": "2022-02-28T11:37:09.367Z"
   },
   {
    "duration": 15202,
    "start_time": "2022-02-28T11:37:11.655Z"
   },
   {
    "duration": 431,
    "start_time": "2022-02-28T11:37:47.185Z"
   },
   {
    "duration": 83,
    "start_time": "2022-02-28T11:39:23.258Z"
   },
   {
    "duration": 78,
    "start_time": "2022-02-28T11:39:26.521Z"
   },
   {
    "duration": 490,
    "start_time": "2022-02-28T11:40:17.524Z"
   },
   {
    "duration": 2165,
    "start_time": "2022-03-01T08:02:37.629Z"
   },
   {
    "duration": 369,
    "start_time": "2022-03-01T08:02:40.314Z"
   },
   {
    "duration": 136,
    "start_time": "2022-03-01T08:02:41.380Z"
   },
   {
    "duration": 9,
    "start_time": "2022-03-01T08:02:42.964Z"
   },
   {
    "duration": 31873,
    "start_time": "2022-03-01T08:02:44.675Z"
   },
   {
    "duration": 711,
    "start_time": "2022-03-01T08:03:25.285Z"
   },
   {
    "duration": 410,
    "start_time": "2022-03-01T08:08:30.068Z"
   },
   {
    "duration": 5,
    "start_time": "2022-03-01T08:08:47.741Z"
   },
   {
    "duration": 74,
    "start_time": "2022-03-01T08:10:53.410Z"
   },
   {
    "duration": 114,
    "start_time": "2022-03-01T08:11:05.528Z"
   },
   {
    "duration": 234,
    "start_time": "2022-03-01T08:11:09.690Z"
   },
   {
    "duration": 8,
    "start_time": "2022-03-01T08:11:17.409Z"
   },
   {
    "duration": 7,
    "start_time": "2022-03-01T08:11:59.610Z"
   },
   {
    "duration": 268,
    "start_time": "2022-03-01T08:17:59.229Z"
   },
   {
    "duration": 25,
    "start_time": "2022-03-01T08:18:30.823Z"
   },
   {
    "duration": 24,
    "start_time": "2022-03-01T08:19:10.296Z"
   },
   {
    "duration": 24,
    "start_time": "2022-03-01T08:19:21.127Z"
   },
   {
    "duration": 25,
    "start_time": "2022-03-01T08:19:52.185Z"
   },
   {
    "duration": 4,
    "start_time": "2022-03-01T08:22:49.338Z"
   },
   {
    "duration": 1715,
    "start_time": "2022-03-01T08:27:28.504Z"
   },
   {
    "duration": 922,
    "start_time": "2022-03-01T08:27:59.615Z"
   },
   {
    "duration": 829,
    "start_time": "2022-03-01T08:28:46.634Z"
   },
   {
    "duration": 476,
    "start_time": "2022-03-01T08:29:28.931Z"
   },
   {
    "duration": 7,
    "start_time": "2022-03-01T08:30:47.067Z"
   },
   {
    "duration": 8,
    "start_time": "2022-03-01T08:40:53.189Z"
   },
   {
    "duration": 81,
    "start_time": "2022-03-01T08:41:44.068Z"
   },
   {
    "duration": 494,
    "start_time": "2022-03-01T08:43:14.597Z"
   },
   {
    "duration": 492,
    "start_time": "2022-03-01T08:43:43.423Z"
   },
   {
    "duration": 778,
    "start_time": "2022-03-01T08:44:01.317Z"
   },
   {
    "duration": 490,
    "start_time": "2022-03-01T08:44:22.590Z"
   },
   {
    "duration": 74,
    "start_time": "2022-03-01T08:46:46.707Z"
   },
   {
    "duration": 708,
    "start_time": "2022-03-01T08:46:52.136Z"
   },
   {
    "duration": 7,
    "start_time": "2022-03-01T08:47:11.338Z"
   },
   {
    "duration": 513,
    "start_time": "2022-03-01T08:47:12.137Z"
   },
   {
    "duration": 570,
    "start_time": "2022-03-01T08:47:19.177Z"
   },
   {
    "duration": 573,
    "start_time": "2022-03-01T08:47:58.688Z"
   },
   {
    "duration": 100,
    "start_time": "2022-03-01T08:49:13.555Z"
   },
   {
    "duration": 593,
    "start_time": "2022-03-01T08:49:24.346Z"
   },
   {
    "duration": 570,
    "start_time": "2022-03-01T08:49:35.803Z"
   },
   {
    "duration": 569,
    "start_time": "2022-03-01T08:49:46.908Z"
   },
   {
    "duration": 1796,
    "start_time": "2022-03-01T08:50:34.268Z"
   },
   {
    "duration": 572,
    "start_time": "2022-03-01T08:52:55.447Z"
   },
   {
    "duration": 21,
    "start_time": "2022-03-01T08:54:01.476Z"
   },
   {
    "duration": 17,
    "start_time": "2022-03-01T08:54:08.463Z"
   },
   {
    "duration": 8,
    "start_time": "2022-03-01T08:54:09.655Z"
   },
   {
    "duration": 610,
    "start_time": "2022-03-01T08:54:10.752Z"
   },
   {
    "duration": 79,
    "start_time": "2022-03-01T08:57:37.426Z"
   },
   {
    "duration": 559,
    "start_time": "2022-03-01T08:57:53.251Z"
   },
   {
    "duration": 352,
    "start_time": "2022-03-01T09:00:10.661Z"
   },
   {
    "duration": 90,
    "start_time": "2022-03-01T09:00:48.303Z"
   },
   {
    "duration": 355,
    "start_time": "2022-03-01T09:00:56.278Z"
   },
   {
    "duration": 320,
    "start_time": "2022-03-01T09:01:52.775Z"
   },
   {
    "duration": 312,
    "start_time": "2022-03-01T09:02:25.135Z"
   },
   {
    "duration": 575,
    "start_time": "2022-03-01T09:03:28.263Z"
   },
   {
    "duration": 337,
    "start_time": "2022-03-01T09:03:29.952Z"
   },
   {
    "duration": 19,
    "start_time": "2022-03-01T09:04:36.689Z"
   },
   {
    "duration": 19,
    "start_time": "2022-03-01T09:05:23.514Z"
   },
   {
    "duration": 9,
    "start_time": "2022-03-01T09:07:08.394Z"
   },
   {
    "duration": 8,
    "start_time": "2022-03-01T09:07:33.715Z"
   },
   {
    "duration": 7,
    "start_time": "2022-03-01T09:07:57.195Z"
   },
   {
    "duration": 7,
    "start_time": "2022-03-01T09:35:41.037Z"
   },
   {
    "duration": 1215,
    "start_time": "2022-03-01T09:37:23.396Z"
   },
   {
    "duration": 1354,
    "start_time": "2022-03-01T09:38:33.848Z"
   },
   {
    "duration": 45,
    "start_time": "2022-03-01T09:42:03.697Z"
   },
   {
    "duration": 7,
    "start_time": "2022-03-01T09:44:03.276Z"
   },
   {
    "duration": 24,
    "start_time": "2022-03-01T09:44:17.160Z"
   },
   {
    "duration": 47,
    "start_time": "2022-03-01T09:44:33.419Z"
   },
   {
    "duration": 49,
    "start_time": "2022-03-01T09:46:12.021Z"
   },
   {
    "duration": 47,
    "start_time": "2022-03-01T09:46:19.302Z"
   },
   {
    "duration": 7,
    "start_time": "2022-03-01T09:46:20.421Z"
   },
   {
    "duration": 19,
    "start_time": "2022-03-01T09:46:43.550Z"
   },
   {
    "duration": 8,
    "start_time": "2022-03-01T09:46:44.584Z"
   },
   {
    "duration": 575,
    "start_time": "2022-03-01T09:46:45.318Z"
   },
   {
    "duration": 338,
    "start_time": "2022-03-01T09:46:46.134Z"
   },
   {
    "duration": 6,
    "start_time": "2022-03-01T09:46:52.605Z"
   },
   {
    "duration": 9882,
    "start_time": "2022-03-01T09:53:11.739Z"
   },
   {
    "duration": 178567,
    "start_time": "2022-03-01T09:53:46.963Z"
   },
   {
    "duration": 60,
    "start_time": "2022-03-01T09:56:45.475Z"
   },
   {
    "duration": 27,
    "start_time": "2022-03-01T09:56:53.230Z"
   },
   {
    "duration": 451,
    "start_time": "2022-03-01T09:57:07.088Z"
   },
   {
    "duration": 6,
    "start_time": "2022-03-01T09:59:32.897Z"
   },
   {
    "duration": 18,
    "start_time": "2022-03-01T09:59:33.393Z"
   },
   {
    "duration": 447,
    "start_time": "2022-03-01T09:59:35.933Z"
   },
   {
    "duration": 464,
    "start_time": "2022-03-01T10:02:39.548Z"
   },
   {
    "duration": 461,
    "start_time": "2022-03-01T10:03:24.934Z"
   },
   {
    "duration": 474,
    "start_time": "2022-03-01T10:03:33.956Z"
   },
   {
    "duration": 490,
    "start_time": "2022-03-01T10:08:06.136Z"
   },
   {
    "duration": 482,
    "start_time": "2022-03-01T10:12:00.432Z"
   },
   {
    "duration": 43,
    "start_time": "2022-03-01T10:29:28.620Z"
   },
   {
    "duration": 10,
    "start_time": "2022-03-01T10:31:26.783Z"
   },
   {
    "duration": 26,
    "start_time": "2022-03-01T10:39:47.061Z"
   },
   {
    "duration": 20,
    "start_time": "2022-03-01T10:40:11.094Z"
   },
   {
    "duration": 20,
    "start_time": "2022-03-01T10:40:42.412Z"
   },
   {
    "duration": 22,
    "start_time": "2022-03-01T10:41:17.711Z"
   },
   {
    "duration": 22,
    "start_time": "2022-03-01T10:41:39.542Z"
   },
   {
    "duration": 21,
    "start_time": "2022-03-01T10:41:50.926Z"
   },
   {
    "duration": 267,
    "start_time": "2022-03-01T10:42:01.381Z"
   },
   {
    "duration": 272,
    "start_time": "2022-03-01T10:42:10.350Z"
   },
   {
    "duration": 20,
    "start_time": "2022-03-01T10:42:15.199Z"
   },
   {
    "duration": 20,
    "start_time": "2022-03-01T10:42:48.991Z"
   },
   {
    "duration": 8,
    "start_time": "2022-03-01T10:43:08.432Z"
   },
   {
    "duration": 20,
    "start_time": "2022-03-01T10:43:42.801Z"
   },
   {
    "duration": 24,
    "start_time": "2022-03-01T10:43:47.247Z"
   },
   {
    "duration": 21,
    "start_time": "2022-03-01T10:44:15.585Z"
   },
   {
    "duration": 21,
    "start_time": "2022-03-01T10:44:36.969Z"
   },
   {
    "duration": 9,
    "start_time": "2022-03-01T10:45:14.270Z"
   },
   {
    "duration": 6,
    "start_time": "2022-03-01T10:49:30.557Z"
   },
   {
    "duration": 7,
    "start_time": "2022-03-01T10:50:47.512Z"
   },
   {
    "duration": 35,
    "start_time": "2022-03-01T10:51:51.168Z"
   },
   {
    "duration": 159,
    "start_time": "2022-03-01T10:52:21.379Z"
   },
   {
    "duration": 475,
    "start_time": "2022-03-01T10:54:08.946Z"
   },
   {
    "duration": 340,
    "start_time": "2022-03-01T11:41:33.267Z"
   },
   {
    "duration": 355,
    "start_time": "2022-03-01T11:41:45.500Z"
   },
   {
    "duration": 8,
    "start_time": "2022-03-01T11:41:49.388Z"
   },
   {
    "duration": 486,
    "start_time": "2022-03-01T11:41:50.357Z"
   },
   {
    "duration": 11,
    "start_time": "2022-03-01T11:41:51.196Z"
   },
   {
    "duration": 1650,
    "start_time": "2022-03-01T11:44:27.136Z"
   },
   {
    "duration": 306,
    "start_time": "2022-03-01T11:44:28.788Z"
   },
   {
    "duration": 144,
    "start_time": "2022-03-01T11:44:29.097Z"
   },
   {
    "duration": 9,
    "start_time": "2022-03-01T11:44:29.244Z"
   },
   {
    "duration": 31772,
    "start_time": "2022-03-01T11:44:29.256Z"
   },
   {
    "duration": 743,
    "start_time": "2022-03-01T11:45:01.030Z"
   },
   {
    "duration": 44,
    "start_time": "2022-03-01T11:45:01.776Z"
   },
   {
    "duration": 8,
    "start_time": "2022-03-01T11:45:01.823Z"
   },
   {
    "duration": 51,
    "start_time": "2022-03-01T11:45:01.833Z"
   },
   {
    "duration": 10,
    "start_time": "2022-03-01T11:45:01.887Z"
   },
   {
    "duration": 614,
    "start_time": "2022-03-01T11:45:01.900Z"
   },
   {
    "duration": 357,
    "start_time": "2022-03-01T11:45:02.516Z"
   },
   {
    "duration": 8,
    "start_time": "2022-03-01T11:45:02.875Z"
   },
   {
    "duration": 620,
    "start_time": "2022-03-01T11:45:02.885Z"
   },
   {
    "duration": 14,
    "start_time": "2022-03-01T11:45:03.507Z"
   },
   {
    "duration": 580,
    "start_time": "2022-03-01T11:45:03.524Z"
   },
   {
    "duration": 15,
    "start_time": "2022-03-01T11:49:23.568Z"
   },
   {
    "duration": 434,
    "start_time": "2022-03-01T11:50:49.041Z"
   },
   {
    "duration": 12,
    "start_time": "2022-03-01T11:51:04.013Z"
   },
   {
    "duration": 12,
    "start_time": "2022-03-01T12:49:10.493Z"
   },
   {
    "duration": 12,
    "start_time": "2022-03-01T12:49:23.798Z"
   },
   {
    "duration": 13,
    "start_time": "2022-03-01T12:49:52.751Z"
   },
   {
    "duration": 13,
    "start_time": "2022-03-01T12:49:59.583Z"
   },
   {
    "duration": 13,
    "start_time": "2022-03-01T12:50:51.958Z"
   },
   {
    "duration": 17,
    "start_time": "2022-03-01T13:02:29.341Z"
   },
   {
    "duration": 38,
    "start_time": "2022-03-01T13:03:35.775Z"
   },
   {
    "duration": 38,
    "start_time": "2022-03-01T13:03:49.615Z"
   },
   {
    "duration": 94,
    "start_time": "2022-03-01T13:14:32.850Z"
   },
   {
    "duration": 71,
    "start_time": "2022-03-01T13:15:00.419Z"
   },
   {
    "duration": 574,
    "start_time": "2022-03-01T13:15:19.877Z"
   },
   {
    "duration": 89,
    "start_time": "2022-03-01T13:15:28.792Z"
   },
   {
    "duration": 64,
    "start_time": "2022-03-01T13:15:43.838Z"
   },
   {
    "duration": 61,
    "start_time": "2022-03-01T13:16:20.016Z"
   },
   {
    "duration": 129,
    "start_time": "2022-03-01T13:26:45.010Z"
   },
   {
    "duration": 59,
    "start_time": "2022-03-01T13:26:52.832Z"
   },
   {
    "duration": 65,
    "start_time": "2022-03-01T13:28:25.621Z"
   },
   {
    "duration": 8,
    "start_time": "2022-03-01T13:34:03.430Z"
   },
   {
    "duration": 70,
    "start_time": "2022-03-01T13:36:16.081Z"
   },
   {
    "duration": 65,
    "start_time": "2022-03-01T13:37:17.398Z"
   },
   {
    "duration": 68,
    "start_time": "2022-03-01T13:37:37.762Z"
   },
   {
    "duration": 304,
    "start_time": "2022-03-01T13:38:59.810Z"
   },
   {
    "duration": 38,
    "start_time": "2022-03-01T13:39:09.571Z"
   },
   {
    "duration": 68,
    "start_time": "2022-03-01T13:39:12.418Z"
   },
   {
    "duration": 73,
    "start_time": "2022-03-01T13:40:27.693Z"
   },
   {
    "duration": 75,
    "start_time": "2022-03-01T13:48:01.378Z"
   },
   {
    "duration": 292,
    "start_time": "2022-03-01T13:57:24.978Z"
   },
   {
    "duration": 74,
    "start_time": "2022-03-01T13:58:20.883Z"
   },
   {
    "duration": 78,
    "start_time": "2022-03-01T13:59:11.587Z"
   },
   {
    "duration": 40,
    "start_time": "2022-03-01T14:02:53.962Z"
   },
   {
    "duration": 76,
    "start_time": "2022-03-01T14:02:58.188Z"
   },
   {
    "duration": 259,
    "start_time": "2022-03-01T14:03:54.751Z"
   },
   {
    "duration": 19,
    "start_time": "2022-03-01T14:04:05.255Z"
   },
   {
    "duration": 18,
    "start_time": "2022-03-01T14:08:03.560Z"
   },
   {
    "duration": 17,
    "start_time": "2022-03-01T14:08:22.579Z"
   },
   {
    "duration": 17,
    "start_time": "2022-03-01T14:08:30.067Z"
   },
   {
    "duration": 6,
    "start_time": "2022-03-01T14:42:39.620Z"
   },
   {
    "duration": 324,
    "start_time": "2022-03-01T14:42:39.635Z"
   },
   {
    "duration": 122,
    "start_time": "2022-03-01T14:42:39.962Z"
   },
   {
    "duration": 32,
    "start_time": "2022-03-01T14:42:40.087Z"
   },
   {
    "duration": 32113,
    "start_time": "2022-03-01T14:42:40.121Z"
   },
   {
    "duration": 703,
    "start_time": "2022-03-01T14:43:12.237Z"
   },
   {
    "duration": 62,
    "start_time": "2022-03-01T14:43:12.943Z"
   },
   {
    "duration": 9,
    "start_time": "2022-03-01T14:43:13.008Z"
   },
   {
    "duration": 55,
    "start_time": "2022-03-01T14:43:13.019Z"
   },
   {
    "duration": 12,
    "start_time": "2022-03-01T14:43:13.078Z"
   },
   {
    "duration": 658,
    "start_time": "2022-03-01T14:43:13.093Z"
   },
   {
    "duration": 364,
    "start_time": "2022-03-01T14:43:13.754Z"
   },
   {
    "duration": 8,
    "start_time": "2022-03-01T14:43:14.120Z"
   },
   {
    "duration": 510,
    "start_time": "2022-03-01T14:43:14.130Z"
   },
   {
    "duration": 10,
    "start_time": "2022-03-01T14:43:14.642Z"
   },
   {
    "duration": 486,
    "start_time": "2022-03-01T14:43:14.654Z"
   },
   {
    "duration": 14,
    "start_time": "2022-03-01T14:43:15.143Z"
   },
   {
    "duration": 38,
    "start_time": "2022-03-01T14:43:15.173Z"
   },
   {
    "duration": 103,
    "start_time": "2022-03-01T14:43:15.214Z"
   },
   {
    "duration": 19,
    "start_time": "2022-03-01T14:43:15.320Z"
   },
   {
    "duration": 1626,
    "start_time": "2022-03-01T14:43:44.336Z"
   },
   {
    "duration": 349,
    "start_time": "2022-03-01T14:43:45.965Z"
   },
   {
    "duration": 141,
    "start_time": "2022-03-01T14:43:46.317Z"
   },
   {
    "duration": 13,
    "start_time": "2022-03-01T14:43:46.460Z"
   },
   {
    "duration": 32758,
    "start_time": "2022-03-01T14:43:46.476Z"
   },
   {
    "duration": 745,
    "start_time": "2022-03-01T14:44:19.236Z"
   },
   {
    "duration": 45,
    "start_time": "2022-03-01T14:44:19.984Z"
   },
   {
    "duration": 7,
    "start_time": "2022-03-01T14:44:20.033Z"
   },
   {
    "duration": 55,
    "start_time": "2022-03-01T14:44:20.043Z"
   },
   {
    "duration": 7,
    "start_time": "2022-03-01T14:44:20.100Z"
   },
   {
    "duration": 626,
    "start_time": "2022-03-01T14:44:20.109Z"
   },
   {
    "duration": 358,
    "start_time": "2022-03-01T14:44:20.737Z"
   },
   {
    "duration": 7,
    "start_time": "2022-03-01T14:44:21.097Z"
   },
   {
    "duration": 517,
    "start_time": "2022-03-01T14:44:21.107Z"
   },
   {
    "duration": 13,
    "start_time": "2022-03-01T14:44:21.628Z"
   },
   {
    "duration": 573,
    "start_time": "2022-03-01T14:44:21.644Z"
   },
   {
    "duration": 13,
    "start_time": "2022-03-01T14:44:22.219Z"
   },
   {
    "duration": 43,
    "start_time": "2022-03-01T14:44:22.234Z"
   },
   {
    "duration": 78,
    "start_time": "2022-03-01T14:44:22.279Z"
   },
   {
    "duration": 26,
    "start_time": "2022-03-01T14:44:22.360Z"
   },
   {
    "duration": 15,
    "start_time": "2022-03-01T14:46:00.083Z"
   },
   {
    "duration": 41,
    "start_time": "2022-03-01T14:46:14.925Z"
   },
   {
    "duration": 40,
    "start_time": "2022-03-01T14:46:37.940Z"
   },
   {
    "duration": 49,
    "start_time": "2022-03-01T14:46:58.381Z"
   },
   {
    "duration": 42,
    "start_time": "2022-03-01T14:52:39.361Z"
   },
   {
    "duration": 17,
    "start_time": "2022-03-01T14:52:41.008Z"
   },
   {
    "duration": 47,
    "start_time": "2022-03-01T14:53:10.930Z"
   },
   {
    "duration": 49,
    "start_time": "2022-03-01T15:01:16.186Z"
   },
   {
    "duration": 5,
    "start_time": "2022-03-01T15:01:54.354Z"
   },
   {
    "duration": 52,
    "start_time": "2022-03-01T15:02:19.794Z"
   },
   {
    "duration": 1087,
    "start_time": "2022-03-01T15:03:23.947Z"
   },
   {
    "duration": 49,
    "start_time": "2022-03-01T15:05:11.293Z"
   },
   {
    "duration": 956,
    "start_time": "2022-03-01T15:05:12.805Z"
   },
   {
    "duration": 53,
    "start_time": "2022-03-01T15:06:06.662Z"
   },
   {
    "duration": 2229,
    "start_time": "2022-03-01T15:06:07.733Z"
   },
   {
    "duration": 2082,
    "start_time": "2022-03-01T15:08:52.183Z"
   },
   {
    "duration": 46,
    "start_time": "2022-03-01T15:12:28.038Z"
   },
   {
    "duration": 18,
    "start_time": "2022-03-01T15:14:27.221Z"
   },
   {
    "duration": 33,
    "start_time": "2022-03-01T15:17:18.528Z"
   },
   {
    "duration": 9,
    "start_time": "2022-03-01T15:21:03.075Z"
   },
   {
    "duration": 38,
    "start_time": "2022-03-01T15:23:05.670Z"
   },
   {
    "duration": 440,
    "start_time": "2022-03-01T15:23:36.606Z"
   },
   {
    "duration": 43,
    "start_time": "2022-03-01T15:23:45.581Z"
   },
   {
    "duration": 337,
    "start_time": "2022-03-01T15:25:57.040Z"
   },
   {
    "duration": 271,
    "start_time": "2022-03-01T15:26:06.344Z"
   },
   {
    "duration": 290,
    "start_time": "2022-03-01T15:26:15.545Z"
   },
   {
    "duration": 276,
    "start_time": "2022-03-01T15:26:20.697Z"
   },
   {
    "duration": 47,
    "start_time": "2022-03-01T15:26:52.034Z"
   },
   {
    "duration": 49,
    "start_time": "2022-03-01T15:28:16.464Z"
   },
   {
    "duration": 70,
    "start_time": "2022-03-01T15:30:24.557Z"
   },
   {
    "duration": 105,
    "start_time": "2022-03-01T15:32:08.012Z"
   },
   {
    "duration": 13,
    "start_time": "2022-03-01T15:40:01.658Z"
   },
   {
    "duration": 13,
    "start_time": "2022-03-01T15:44:14.615Z"
   },
   {
    "duration": 7,
    "start_time": "2022-03-01T15:50:53.526Z"
   },
   {
    "duration": 7,
    "start_time": "2022-03-01T15:53:31.664Z"
   },
   {
    "duration": 6,
    "start_time": "2022-03-01T15:53:37.935Z"
   },
   {
    "duration": 8,
    "start_time": "2022-03-01T16:03:48.219Z"
   },
   {
    "duration": 16,
    "start_time": "2022-03-01T16:05:43.539Z"
   },
   {
    "duration": 9,
    "start_time": "2022-03-01T16:18:29.496Z"
   },
   {
    "duration": 15,
    "start_time": "2022-03-01T16:18:41.024Z"
   },
   {
    "duration": 7,
    "start_time": "2022-03-01T16:27:04.673Z"
   },
   {
    "duration": 235,
    "start_time": "2022-03-01T16:32:32.013Z"
   },
   {
    "duration": 8,
    "start_time": "2022-03-01T16:32:44.631Z"
   },
   {
    "duration": 108,
    "start_time": "2022-03-01T16:32:45.405Z"
   },
   {
    "duration": 7,
    "start_time": "2022-03-01T16:32:52.943Z"
   },
   {
    "duration": 7,
    "start_time": "2022-03-01T16:33:06.786Z"
   },
   {
    "duration": 6,
    "start_time": "2022-03-01T16:48:21.709Z"
   },
   {
    "duration": 351,
    "start_time": "2022-03-01T16:49:04.789Z"
   },
   {
    "duration": 104,
    "start_time": "2022-03-01T16:49:16.508Z"
   },
   {
    "duration": 5,
    "start_time": "2022-03-01T16:53:53.952Z"
   },
   {
    "duration": 104,
    "start_time": "2022-03-01T16:54:14.442Z"
   },
   {
    "duration": 5,
    "start_time": "2022-03-01T16:56:26.012Z"
   },
   {
    "duration": 5,
    "start_time": "2022-03-01T16:57:24.446Z"
   },
   {
    "duration": 5,
    "start_time": "2022-03-01T16:57:38.570Z"
   },
   {
    "duration": 106,
    "start_time": "2022-03-01T16:58:25.694Z"
   },
   {
    "duration": 103,
    "start_time": "2022-03-01T17:02:35.578Z"
   },
   {
    "duration": 9,
    "start_time": "2022-03-01T17:03:22.939Z"
   },
   {
    "duration": 9,
    "start_time": "2022-03-01T17:05:26.909Z"
   },
   {
    "duration": 8,
    "start_time": "2022-03-01T17:11:27.484Z"
   },
   {
    "duration": 12,
    "start_time": "2022-03-01T17:14:50.607Z"
   },
   {
    "duration": 106,
    "start_time": "2022-03-01T17:29:04.932Z"
   },
   {
    "duration": 9,
    "start_time": "2022-03-01T17:29:45.687Z"
   },
   {
    "duration": 8,
    "start_time": "2022-03-01T17:31:09.562Z"
   },
   {
    "duration": 11,
    "start_time": "2022-03-01T17:32:59.086Z"
   },
   {
    "duration": 115,
    "start_time": "2022-03-01T17:33:54.876Z"
   },
   {
    "duration": 8,
    "start_time": "2022-03-01T17:34:53.724Z"
   },
   {
    "duration": 7,
    "start_time": "2022-03-01T17:36:14.454Z"
   },
   {
    "duration": 12,
    "start_time": "2022-03-01T17:38:22.966Z"
   },
   {
    "duration": 110,
    "start_time": "2022-03-01T17:43:33.363Z"
   },
   {
    "duration": 8,
    "start_time": "2022-03-01T17:44:17.318Z"
   },
   {
    "duration": 7,
    "start_time": "2022-03-01T17:45:31.456Z"
   },
   {
    "duration": 15,
    "start_time": "2022-03-01T17:46:59.160Z"
   },
   {
    "duration": 99,
    "start_time": "2022-03-01T17:47:42.577Z"
   },
   {
    "duration": 9,
    "start_time": "2022-03-01T17:48:35.953Z"
   },
   {
    "duration": 9,
    "start_time": "2022-03-01T17:49:08.114Z"
   },
   {
    "duration": 10,
    "start_time": "2022-03-01T17:50:15.651Z"
   },
   {
    "duration": 1670,
    "start_time": "2022-03-01T17:58:39.107Z"
   },
   {
    "duration": 319,
    "start_time": "2022-03-01T17:58:40.781Z"
   },
   {
    "duration": 144,
    "start_time": "2022-03-01T17:58:41.103Z"
   },
   {
    "duration": 9,
    "start_time": "2022-03-01T17:58:41.251Z"
   },
   {
    "duration": 32763,
    "start_time": "2022-03-01T17:58:41.274Z"
   },
   {
    "duration": 749,
    "start_time": "2022-03-01T17:59:14.040Z"
   },
   {
    "duration": 56,
    "start_time": "2022-03-01T17:59:14.791Z"
   },
   {
    "duration": 2025,
    "start_time": "2022-03-01T17:59:14.851Z"
   },
   {
    "duration": 2025,
    "start_time": "2022-03-01T17:59:16.879Z"
   },
   {
    "duration": 45,
    "start_time": "2022-03-01T17:59:18.906Z"
   },
   {
    "duration": 23,
    "start_time": "2022-03-01T17:59:18.954Z"
   },
   {
    "duration": 21,
    "start_time": "2022-03-01T17:59:18.979Z"
   },
   {
    "duration": 8,
    "start_time": "2022-03-01T17:59:19.002Z"
   },
   {
    "duration": 656,
    "start_time": "2022-03-01T17:59:19.012Z"
   },
   {
    "duration": 360,
    "start_time": "2022-03-01T17:59:19.673Z"
   },
   {
    "duration": 7,
    "start_time": "2022-03-01T17:59:20.035Z"
   },
   {
    "duration": 531,
    "start_time": "2022-03-01T17:59:20.045Z"
   },
   {
    "duration": 10,
    "start_time": "2022-03-01T17:59:20.578Z"
   },
   {
    "duration": 490,
    "start_time": "2022-03-01T17:59:20.590Z"
   },
   {
    "duration": 16,
    "start_time": "2022-03-01T17:59:21.083Z"
   },
   {
    "duration": 141,
    "start_time": "2022-03-01T17:59:21.101Z"
   },
   {
    "duration": 91,
    "start_time": "2022-03-01T17:59:21.245Z"
   },
   {
    "duration": 34,
    "start_time": "2022-03-01T17:59:21.344Z"
   },
   {
    "duration": 46,
    "start_time": "2022-03-01T17:59:21.381Z"
   },
   {
    "duration": 8,
    "start_time": "2022-03-01T17:59:21.429Z"
   },
   {
    "duration": 34,
    "start_time": "2022-03-01T17:59:21.439Z"
   },
   {
    "duration": 8,
    "start_time": "2022-03-01T17:59:21.475Z"
   },
   {
    "duration": 9,
    "start_time": "2022-03-01T17:59:21.485Z"
   },
   {
    "duration": 44,
    "start_time": "2022-03-01T17:59:21.496Z"
   },
   {
    "duration": 118,
    "start_time": "2022-03-01T17:59:21.542Z"
   },
   {
    "duration": 16,
    "start_time": "2022-03-01T17:59:21.662Z"
   },
   {
    "duration": 9,
    "start_time": "2022-03-01T17:59:21.680Z"
   },
   {
    "duration": 11,
    "start_time": "2022-03-01T17:59:21.691Z"
   },
   {
    "duration": 142,
    "start_time": "2022-03-01T17:59:21.704Z"
   },
   {
    "duration": 10,
    "start_time": "2022-03-01T17:59:21.848Z"
   },
   {
    "duration": 17,
    "start_time": "2022-03-01T17:59:21.860Z"
   },
   {
    "duration": 11,
    "start_time": "2022-03-01T17:59:21.879Z"
   },
   {
    "duration": 124,
    "start_time": "2022-03-01T17:59:21.892Z"
   },
   {
    "duration": 8,
    "start_time": "2022-03-01T17:59:22.019Z"
   },
   {
    "duration": 8,
    "start_time": "2022-03-01T17:59:22.029Z"
   },
   {
    "duration": 40,
    "start_time": "2022-03-01T17:59:22.040Z"
   },
   {
    "duration": 110,
    "start_time": "2022-03-01T17:59:22.082Z"
   },
   {
    "duration": 8,
    "start_time": "2022-03-01T17:59:22.194Z"
   },
   {
    "duration": 9,
    "start_time": "2022-03-01T17:59:22.205Z"
   },
   {
    "duration": 10,
    "start_time": "2022-03-01T17:59:22.216Z"
   },
   {
    "duration": 134,
    "start_time": "2022-03-01T17:59:22.228Z"
   },
   {
    "duration": 12,
    "start_time": "2022-03-01T17:59:22.365Z"
   },
   {
    "duration": 10,
    "start_time": "2022-03-01T17:59:22.379Z"
   },
   {
    "duration": 10,
    "start_time": "2022-03-01T17:59:22.391Z"
   },
   {
    "duration": 1551,
    "start_time": "2022-03-03T07:58:38.973Z"
   },
   {
    "duration": 305,
    "start_time": "2022-03-03T07:58:41.043Z"
   },
   {
    "duration": 115,
    "start_time": "2022-03-03T07:58:42.133Z"
   },
   {
    "duration": 9,
    "start_time": "2022-03-03T07:58:44.682Z"
   },
   {
    "duration": 32371,
    "start_time": "2022-03-03T07:58:46.651Z"
   },
   {
    "duration": 645,
    "start_time": "2022-03-03T07:59:20.891Z"
   },
   {
    "duration": 46,
    "start_time": "2022-03-03T07:59:24.660Z"
   },
   {
    "duration": 1853,
    "start_time": "2022-03-03T07:59:27.923Z"
   },
   {
    "duration": 1972,
    "start_time": "2022-03-03T07:59:31.982Z"
   },
   {
    "duration": 41,
    "start_time": "2022-03-03T07:59:40.126Z"
   },
   {
    "duration": 9,
    "start_time": "2022-03-03T07:59:41.655Z"
   },
   {
    "duration": 23,
    "start_time": "2022-03-03T07:59:43.567Z"
   },
   {
    "duration": 7,
    "start_time": "2022-03-03T07:59:45.357Z"
   },
   {
    "duration": 571,
    "start_time": "2022-03-03T07:59:46.231Z"
   },
   {
    "duration": 336,
    "start_time": "2022-03-03T07:59:47.263Z"
   },
   {
    "duration": 7,
    "start_time": "2022-03-03T07:59:50.574Z"
   },
   {
    "duration": 466,
    "start_time": "2022-03-03T07:59:53.862Z"
   },
   {
    "duration": 71,
    "start_time": "2022-03-03T08:04:54.632Z"
   },
   {
    "duration": 94,
    "start_time": "2022-03-03T08:05:05.255Z"
   },
   {
    "duration": 87,
    "start_time": "2022-03-03T08:07:19.085Z"
   },
   {
    "duration": 20,
    "start_time": "2022-03-03T08:07:36.773Z"
   },
   {
    "duration": 14,
    "start_time": "2022-03-03T08:07:45.930Z"
   },
   {
    "duration": 17,
    "start_time": "2022-03-03T08:08:49.341Z"
   },
   {
    "duration": 15,
    "start_time": "2022-03-03T08:10:01.582Z"
   },
   {
    "duration": 3496,
    "start_time": "2022-03-03T08:11:55.327Z"
   },
   {
    "duration": 14,
    "start_time": "2022-03-03T08:14:36.019Z"
   },
   {
    "duration": 17,
    "start_time": "2022-03-03T08:15:20.850Z"
   },
   {
    "duration": 412,
    "start_time": "2022-03-03T08:17:28.558Z"
   },
   {
    "duration": 35,
    "start_time": "2022-03-03T08:18:12.893Z"
   },
   {
    "duration": 13,
    "start_time": "2022-03-03T08:19:06.622Z"
   },
   {
    "duration": 407,
    "start_time": "2022-03-03T08:24:58.463Z"
   },
   {
    "duration": 36,
    "start_time": "2022-03-03T08:25:01.408Z"
   },
   {
    "duration": 35,
    "start_time": "2022-03-03T08:25:13.587Z"
   },
   {
    "duration": 35,
    "start_time": "2022-03-03T08:25:19.804Z"
   },
   {
    "duration": 33,
    "start_time": "2022-03-03T08:26:03.687Z"
   },
   {
    "duration": 74,
    "start_time": "2022-03-03T08:26:58.180Z"
   },
   {
    "duration": 16,
    "start_time": "2022-03-03T08:27:40.821Z"
   },
   {
    "duration": 16,
    "start_time": "2022-03-03T08:31:29.971Z"
   },
   {
    "duration": 17,
    "start_time": "2022-03-03T08:32:05.305Z"
   },
   {
    "duration": 18,
    "start_time": "2022-03-03T08:32:10.010Z"
   },
   {
    "duration": 18,
    "start_time": "2022-03-03T08:32:15.879Z"
   },
   {
    "duration": 29,
    "start_time": "2022-03-03T08:33:26.279Z"
   },
   {
    "duration": 17,
    "start_time": "2022-03-03T08:33:41.316Z"
   },
   {
    "duration": 533,
    "start_time": "2022-03-03T08:38:32.909Z"
   },
   {
    "duration": 537,
    "start_time": "2022-03-03T08:40:53.130Z"
   },
   {
    "duration": 248,
    "start_time": "2022-03-03T08:41:12.081Z"
   },
   {
    "duration": 281,
    "start_time": "2022-03-03T08:41:28.072Z"
   },
   {
    "duration": 570,
    "start_time": "2022-03-03T08:41:49.761Z"
   },
   {
    "duration": 224,
    "start_time": "2022-03-03T08:42:31.546Z"
   },
   {
    "duration": 250,
    "start_time": "2022-03-03T08:44:48.634Z"
   },
   {
    "duration": 268,
    "start_time": "2022-03-03T08:45:25.798Z"
   },
   {
    "duration": 257,
    "start_time": "2022-03-03T08:47:06.991Z"
   },
   {
    "duration": 239,
    "start_time": "2022-03-03T08:48:19.389Z"
   },
   {
    "duration": 269,
    "start_time": "2022-03-03T08:49:50.664Z"
   },
   {
    "duration": 344,
    "start_time": "2022-03-03T08:50:23.438Z"
   },
   {
    "duration": 324,
    "start_time": "2022-03-03T08:53:41.031Z"
   },
   {
    "duration": 46,
    "start_time": "2022-03-03T09:12:50.347Z"
   },
   {
    "duration": 43,
    "start_time": "2022-03-03T09:13:37.734Z"
   },
   {
    "duration": 5548,
    "start_time": "2022-03-03T09:27:40.198Z"
   },
   {
    "duration": 7,
    "start_time": "2022-03-03T09:27:50.779Z"
   },
   {
    "duration": 6,
    "start_time": "2022-03-03T09:27:51.537Z"
   },
   {
    "duration": 5,
    "start_time": "2022-03-03T09:27:52.123Z"
   },
   {
    "duration": 4,
    "start_time": "2022-03-03T09:27:53.275Z"
   },
   {
    "duration": 39,
    "start_time": "2022-03-03T09:27:55.323Z"
   },
   {
    "duration": 6176,
    "start_time": "2022-03-03T09:27:57.448Z"
   },
   {
    "duration": 18,
    "start_time": "2022-03-03T09:28:14.988Z"
   },
   {
    "duration": 33,
    "start_time": "2022-03-03T09:28:34.036Z"
   },
   {
    "duration": 32,
    "start_time": "2022-03-03T09:29:38.766Z"
   },
   {
    "duration": 5567,
    "start_time": "2022-03-03T09:30:36.813Z"
   },
   {
    "duration": 37,
    "start_time": "2022-03-03T09:30:55.791Z"
   },
   {
    "duration": 40,
    "start_time": "2022-03-03T09:31:16.501Z"
   },
   {
    "duration": 210,
    "start_time": "2022-03-03T09:35:23.130Z"
   },
   {
    "duration": 71,
    "start_time": "2022-03-03T09:35:27.785Z"
   },
   {
    "duration": 5,
    "start_time": "2022-03-03T09:35:36.151Z"
   },
   {
    "duration": 36,
    "start_time": "2022-03-03T09:35:36.938Z"
   },
   {
    "duration": 35,
    "start_time": "2022-03-03T09:39:12.814Z"
   },
   {
    "duration": 37,
    "start_time": "2022-03-03T09:39:28.064Z"
   },
   {
    "duration": 37,
    "start_time": "2022-03-03T09:39:43.787Z"
   },
   {
    "duration": 55,
    "start_time": "2022-03-03T09:43:46.842Z"
   },
   {
    "duration": 17,
    "start_time": "2022-03-03T09:43:55.982Z"
   },
   {
    "duration": 52,
    "start_time": "2022-03-03T09:45:02.067Z"
   },
   {
    "duration": 7,
    "start_time": "2022-03-03T09:50:35.383Z"
   },
   {
    "duration": 7,
    "start_time": "2022-03-03T09:51:07.036Z"
   },
   {
    "duration": 9,
    "start_time": "2022-03-03T09:52:32.585Z"
   },
   {
    "duration": 5,
    "start_time": "2022-03-03T09:55:08.284Z"
   },
   {
    "duration": 8,
    "start_time": "2022-03-03T09:55:08.924Z"
   },
   {
    "duration": 7,
    "start_time": "2022-03-03T09:55:09.340Z"
   },
   {
    "duration": 5,
    "start_time": "2022-03-03T09:55:09.731Z"
   },
   {
    "duration": 4,
    "start_time": "2022-03-03T09:55:10.340Z"
   },
   {
    "duration": 55,
    "start_time": "2022-03-03T09:55:12.458Z"
   },
   {
    "duration": 38,
    "start_time": "2022-03-03T09:55:15.710Z"
   },
   {
    "duration": 37,
    "start_time": "2022-03-03T09:55:23.252Z"
   },
   {
    "duration": 55,
    "start_time": "2022-03-03T09:55:28.908Z"
   },
   {
    "duration": 38,
    "start_time": "2022-03-03T09:55:33.683Z"
   },
   {
    "duration": 5,
    "start_time": "2022-03-03T09:55:58.645Z"
   },
   {
    "duration": 35,
    "start_time": "2022-03-03T09:56:02.601Z"
   },
   {
    "duration": 35,
    "start_time": "2022-03-03T09:56:03.433Z"
   },
   {
    "duration": 55,
    "start_time": "2022-03-03T09:56:03.905Z"
   },
   {
    "duration": 36,
    "start_time": "2022-03-03T09:56:04.521Z"
   },
   {
    "duration": 19,
    "start_time": "2022-03-03T09:59:11.128Z"
   },
   {
    "duration": 259,
    "start_time": "2022-03-03T10:04:44.810Z"
   },
   {
    "duration": 9,
    "start_time": "2022-03-03T10:04:59.361Z"
   },
   {
    "duration": 13,
    "start_time": "2022-03-03T10:05:00.417Z"
   },
   {
    "duration": 5,
    "start_time": "2022-03-03T10:05:51.463Z"
   },
   {
    "duration": 11,
    "start_time": "2022-03-03T10:05:51.854Z"
   },
   {
    "duration": 8,
    "start_time": "2022-03-03T10:05:52.291Z"
   },
   {
    "duration": 7,
    "start_time": "2022-03-03T10:05:52.653Z"
   },
   {
    "duration": 5,
    "start_time": "2022-03-03T10:05:53.074Z"
   },
   {
    "duration": 5,
    "start_time": "2022-03-03T10:05:53.668Z"
   },
   {
    "duration": 59,
    "start_time": "2022-03-03T10:05:57.203Z"
   },
   {
    "duration": 37,
    "start_time": "2022-03-03T10:06:02.121Z"
   },
   {
    "duration": 35,
    "start_time": "2022-03-03T10:06:03.483Z"
   },
   {
    "duration": 37,
    "start_time": "2022-03-03T10:12:21.812Z"
   },
   {
    "duration": 53,
    "start_time": "2022-03-03T10:15:06.125Z"
   },
   {
    "duration": 68,
    "start_time": "2022-03-03T10:17:48.910Z"
   },
   {
    "duration": 34,
    "start_time": "2022-03-03T10:19:59.547Z"
   },
   {
    "duration": 36,
    "start_time": "2022-03-03T10:22:05.450Z"
   },
   {
    "duration": 35,
    "start_time": "2022-03-03T10:24:04.750Z"
   },
   {
    "duration": 93,
    "start_time": "2022-03-03T10:33:14.028Z"
   },
   {
    "duration": 93,
    "start_time": "2022-03-03T10:36:11.969Z"
   },
   {
    "duration": 97,
    "start_time": "2022-03-03T10:36:14.704Z"
   },
   {
    "duration": 93,
    "start_time": "2022-03-03T10:36:16.999Z"
   },
   {
    "duration": 383,
    "start_time": "2022-03-03T10:41:17.877Z"
   },
   {
    "duration": 10,
    "start_time": "2022-03-03T10:47:40.817Z"
   },
   {
    "duration": 563,
    "start_time": "2022-03-03T10:49:52.820Z"
   },
   {
    "duration": 625,
    "start_time": "2022-03-03T10:51:18.421Z"
   },
   {
    "duration": 8,
    "start_time": "2022-03-03T10:54:47.488Z"
   },
   {
    "duration": 576,
    "start_time": "2022-03-03T10:56:45.063Z"
   },
   {
    "duration": 574,
    "start_time": "2022-03-03T10:56:58.801Z"
   },
   {
    "duration": 584,
    "start_time": "2022-03-03T10:57:41.404Z"
   },
   {
    "duration": 604,
    "start_time": "2022-03-03T10:57:55.122Z"
   },
   {
    "duration": 1545,
    "start_time": "2022-03-03T11:09:44.558Z"
   },
   {
    "duration": 379,
    "start_time": "2022-03-03T11:09:46.106Z"
   },
   {
    "duration": 128,
    "start_time": "2022-03-03T11:09:46.488Z"
   },
   {
    "duration": 8,
    "start_time": "2022-03-03T11:09:46.618Z"
   },
   {
    "duration": 29961,
    "start_time": "2022-03-03T11:09:46.628Z"
   },
   {
    "duration": 680,
    "start_time": "2022-03-03T11:10:16.591Z"
   },
   {
    "duration": 50,
    "start_time": "2022-03-03T11:10:17.273Z"
   },
   {
    "duration": 1892,
    "start_time": "2022-03-03T11:10:17.328Z"
   },
   {
    "duration": 1868,
    "start_time": "2022-03-03T11:10:19.223Z"
   },
   {
    "duration": 59,
    "start_time": "2022-03-03T11:10:21.094Z"
   },
   {
    "duration": 7,
    "start_time": "2022-03-03T11:10:21.155Z"
   },
   {
    "duration": 20,
    "start_time": "2022-03-03T11:10:21.164Z"
   },
   {
    "duration": 6,
    "start_time": "2022-03-03T11:10:21.187Z"
   },
   {
    "duration": 575,
    "start_time": "2022-03-03T11:10:21.196Z"
   },
   {
    "duration": 373,
    "start_time": "2022-03-03T11:10:21.773Z"
   },
   {
    "duration": 7,
    "start_time": "2022-03-03T11:10:22.151Z"
   },
   {
    "duration": 497,
    "start_time": "2022-03-03T11:10:22.160Z"
   },
   {
    "duration": 16,
    "start_time": "2022-03-03T11:10:22.659Z"
   },
   {
    "duration": 17,
    "start_time": "2022-03-03T11:10:22.677Z"
   },
   {
    "duration": 494,
    "start_time": "2022-03-03T11:10:22.696Z"
   },
   {
    "duration": 33,
    "start_time": "2022-03-03T11:10:23.192Z"
   },
   {
    "duration": 57,
    "start_time": "2022-03-03T11:10:23.228Z"
   },
   {
    "duration": 88,
    "start_time": "2022-03-03T11:10:23.290Z"
   },
   {
    "duration": 18,
    "start_time": "2022-03-03T11:10:23.382Z"
   },
   {
    "duration": 282,
    "start_time": "2022-03-03T11:10:23.403Z"
   },
   {
    "duration": 42,
    "start_time": "2022-03-03T11:10:23.688Z"
   },
   {
    "duration": 21,
    "start_time": "2022-03-03T11:10:23.733Z"
   },
   {
    "duration": 11,
    "start_time": "2022-03-03T11:10:23.757Z"
   },
   {
    "duration": 12,
    "start_time": "2022-03-03T11:10:23.770Z"
   },
   {
    "duration": 13,
    "start_time": "2022-03-03T11:10:23.785Z"
   },
   {
    "duration": 13,
    "start_time": "2022-03-03T11:10:23.800Z"
   },
   {
    "duration": 16,
    "start_time": "2022-03-03T11:10:23.815Z"
   },
   {
    "duration": 63,
    "start_time": "2022-03-03T11:10:23.833Z"
   },
   {
    "duration": 67,
    "start_time": "2022-03-03T11:10:23.899Z"
   },
   {
    "duration": 36,
    "start_time": "2022-03-03T11:10:23.970Z"
   },
   {
    "duration": 102,
    "start_time": "2022-03-03T11:10:24.009Z"
   },
   {
    "duration": 71,
    "start_time": "2022-03-03T11:10:24.114Z"
   },
   {
    "duration": 38,
    "start_time": "2022-03-03T11:10:24.188Z"
   },
   {
    "duration": 35,
    "start_time": "2022-03-03T11:10:24.252Z"
   },
   {
    "duration": 73,
    "start_time": "2022-03-03T11:10:24.290Z"
   },
   {
    "duration": 709,
    "start_time": "2022-03-03T11:10:24.366Z"
   },
   {
    "duration": 609,
    "start_time": "2022-03-03T11:10:25.078Z"
   },
   {
    "duration": 597,
    "start_time": "2022-03-03T11:10:25.690Z"
   },
   {
    "duration": 1545,
    "start_time": "2022-03-03T11:45:19.173Z"
   },
   {
    "duration": 462,
    "start_time": "2022-03-03T11:45:20.720Z"
   },
   {
    "duration": 143,
    "start_time": "2022-03-03T11:45:21.185Z"
   },
   {
    "duration": 10,
    "start_time": "2022-03-03T11:45:21.331Z"
   },
   {
    "duration": 32479,
    "start_time": "2022-03-03T11:45:21.349Z"
   },
   {
    "duration": 706,
    "start_time": "2022-03-03T11:45:53.832Z"
   },
   {
    "duration": 54,
    "start_time": "2022-03-03T11:45:54.546Z"
   },
   {
    "duration": 2080,
    "start_time": "2022-03-03T11:45:54.603Z"
   },
   {
    "duration": 2147,
    "start_time": "2022-03-03T11:45:56.685Z"
   },
   {
    "duration": 47,
    "start_time": "2022-03-03T11:45:58.836Z"
   },
   {
    "duration": 7,
    "start_time": "2022-03-03T11:45:58.885Z"
   },
   {
    "duration": 45,
    "start_time": "2022-03-03T11:45:58.894Z"
   },
   {
    "duration": 7,
    "start_time": "2022-03-03T11:45:58.942Z"
   },
   {
    "duration": 596,
    "start_time": "2022-03-03T11:45:58.951Z"
   },
   {
    "duration": 345,
    "start_time": "2022-03-03T11:45:59.549Z"
   },
   {
    "duration": 7,
    "start_time": "2022-03-03T11:45:59.896Z"
   },
   {
    "duration": 513,
    "start_time": "2022-03-03T11:45:59.905Z"
   },
   {
    "duration": 31,
    "start_time": "2022-03-03T11:46:00.420Z"
   },
   {
    "duration": 13,
    "start_time": "2022-03-03T11:46:00.453Z"
   },
   {
    "duration": 554,
    "start_time": "2022-03-03T11:46:00.469Z"
   },
   {
    "duration": 46,
    "start_time": "2022-03-03T11:46:01.026Z"
   },
   {
    "duration": 72,
    "start_time": "2022-03-03T11:46:01.075Z"
   },
   {
    "duration": 83,
    "start_time": "2022-03-03T11:46:01.151Z"
   },
   {
    "duration": 21,
    "start_time": "2022-03-03T11:46:01.237Z"
   },
   {
    "duration": 302,
    "start_time": "2022-03-03T11:46:01.261Z"
   },
   {
    "duration": 44,
    "start_time": "2022-03-03T11:46:01.565Z"
   },
   {
    "duration": 21,
    "start_time": "2022-03-03T11:46:01.612Z"
   },
   {
    "duration": 17,
    "start_time": "2022-03-03T11:46:01.636Z"
   },
   {
    "duration": 12,
    "start_time": "2022-03-03T11:46:16.997Z"
   },
   {
    "duration": 9,
    "start_time": "2022-03-03T11:46:26.861Z"
   },
   {
    "duration": 6,
    "start_time": "2022-03-03T11:46:29.333Z"
   },
   {
    "duration": 5,
    "start_time": "2022-03-03T11:46:29.812Z"
   },
   {
    "duration": 49,
    "start_time": "2022-03-03T11:46:34.780Z"
   },
   {
    "duration": 48,
    "start_time": "2022-03-03T11:46:36.684Z"
   },
   {
    "duration": 49,
    "start_time": "2022-03-03T11:46:38.956Z"
   },
   {
    "duration": 19,
    "start_time": "2022-03-03T11:47:00.030Z"
   },
   {
    "duration": 38,
    "start_time": "2022-03-03T11:47:20.839Z"
   },
   {
    "duration": 74,
    "start_time": "2022-03-03T11:47:23.764Z"
   },
   {
    "duration": 49,
    "start_time": "2022-03-03T11:47:24.956Z"
   },
   {
    "duration": 36,
    "start_time": "2022-03-03T11:47:27.326Z"
   },
   {
    "duration": 38,
    "start_time": "2022-03-03T11:47:29.508Z"
   },
   {
    "duration": 34,
    "start_time": "2022-03-03T11:47:34.145Z"
   },
   {
    "duration": 104,
    "start_time": "2022-03-03T11:52:03.906Z"
   },
   {
    "duration": 1255,
    "start_time": "2022-03-03T12:47:21.130Z"
   },
   {
    "duration": 246,
    "start_time": "2022-03-03T12:47:22.387Z"
   },
   {
    "duration": 103,
    "start_time": "2022-03-03T12:47:22.635Z"
   },
   {
    "duration": 8,
    "start_time": "2022-03-03T12:47:23.842Z"
   },
   {
    "duration": 15340,
    "start_time": "2022-03-03T12:47:24.485Z"
   },
   {
    "duration": 570,
    "start_time": "2022-03-03T12:47:39.827Z"
   },
   {
    "duration": 47,
    "start_time": "2022-03-03T12:47:40.399Z"
   },
   {
    "duration": 1193,
    "start_time": "2022-03-03T12:47:40.448Z"
   },
   {
    "duration": 1255,
    "start_time": "2022-03-03T12:47:41.643Z"
   },
   {
    "duration": 45,
    "start_time": "2022-03-03T12:47:42.900Z"
   },
   {
    "duration": 7,
    "start_time": "2022-03-03T12:47:42.947Z"
   },
   {
    "duration": 15,
    "start_time": "2022-03-03T12:47:42.956Z"
   },
   {
    "duration": 5,
    "start_time": "2022-03-03T12:47:42.972Z"
   },
   {
    "duration": 391,
    "start_time": "2022-03-03T12:47:42.979Z"
   },
   {
    "duration": 218,
    "start_time": "2022-03-03T12:47:43.372Z"
   },
   {
    "duration": 5,
    "start_time": "2022-03-03T12:47:43.592Z"
   },
   {
    "duration": 303,
    "start_time": "2022-03-03T12:47:55.668Z"
   },
   {
    "duration": 16,
    "start_time": "2022-03-03T12:48:00.014Z"
   },
   {
    "duration": 13,
    "start_time": "2022-03-03T12:48:22.014Z"
   },
   {
    "duration": 11,
    "start_time": "2022-03-03T12:48:41.566Z"
   },
   {
    "duration": 368,
    "start_time": "2022-03-03T12:53:40.035Z"
   },
   {
    "duration": 29,
    "start_time": "2022-03-03T12:53:40.922Z"
   },
   {
    "duration": 101,
    "start_time": "2022-03-03T12:53:44.642Z"
   },
   {
    "duration": 60,
    "start_time": "2022-03-03T12:53:46.027Z"
   },
   {
    "duration": 14,
    "start_time": "2022-03-03T12:53:52.106Z"
   },
   {
    "duration": 166,
    "start_time": "2022-03-03T12:53:53.514Z"
   },
   {
    "duration": 37,
    "start_time": "2022-03-03T12:53:59.914Z"
   },
   {
    "duration": 5,
    "start_time": "2022-03-03T12:54:06.826Z"
   },
   {
    "duration": 7,
    "start_time": "2022-03-03T12:54:09.115Z"
   },
   {
    "duration": 1339,
    "start_time": "2022-03-03T13:04:26.875Z"
   },
   {
    "duration": 1218,
    "start_time": "2022-03-03T13:06:01.781Z"
   },
   {
    "duration": 226,
    "start_time": "2022-03-03T13:06:03.002Z"
   },
   {
    "duration": 112,
    "start_time": "2022-03-03T13:06:03.231Z"
   },
   {
    "duration": 7,
    "start_time": "2022-03-03T13:06:03.346Z"
   },
   {
    "duration": 15795,
    "start_time": "2022-03-03T13:06:03.355Z"
   },
   {
    "duration": 579,
    "start_time": "2022-03-03T13:06:19.151Z"
   },
   {
    "duration": 43,
    "start_time": "2022-03-03T13:06:19.738Z"
   },
   {
    "duration": 1139,
    "start_time": "2022-03-03T13:06:19.783Z"
   },
   {
    "duration": 1194,
    "start_time": "2022-03-03T13:06:20.925Z"
   },
   {
    "duration": 42,
    "start_time": "2022-03-03T13:06:22.121Z"
   },
   {
    "duration": 5,
    "start_time": "2022-03-03T13:06:22.165Z"
   },
   {
    "duration": 20,
    "start_time": "2022-03-03T13:06:22.172Z"
   },
   {
    "duration": 5,
    "start_time": "2022-03-03T13:06:22.194Z"
   },
   {
    "duration": 388,
    "start_time": "2022-03-03T13:06:22.200Z"
   },
   {
    "duration": 220,
    "start_time": "2022-03-03T13:06:22.590Z"
   },
   {
    "duration": 6,
    "start_time": "2022-03-03T13:06:22.812Z"
   },
   {
    "duration": 337,
    "start_time": "2022-03-03T13:06:22.819Z"
   },
   {
    "duration": 13,
    "start_time": "2022-03-03T13:06:23.158Z"
   },
   {
    "duration": 18,
    "start_time": "2022-03-03T13:06:23.173Z"
   },
   {
    "duration": 454,
    "start_time": "2022-03-03T13:06:23.192Z"
   },
   {
    "duration": 30,
    "start_time": "2022-03-03T13:06:23.648Z"
   },
   {
    "duration": 29,
    "start_time": "2022-03-03T13:06:23.680Z"
   },
   {
    "duration": 62,
    "start_time": "2022-03-03T13:06:23.737Z"
   },
   {
    "duration": 13,
    "start_time": "2022-03-03T13:06:23.800Z"
   },
   {
    "duration": 186,
    "start_time": "2022-03-03T13:06:23.814Z"
   },
   {
    "duration": 45,
    "start_time": "2022-03-03T13:06:24.002Z"
   },
   {
    "duration": 4,
    "start_time": "2022-03-03T13:06:24.048Z"
   },
   {
    "duration": 11,
    "start_time": "2022-03-03T13:06:24.054Z"
   },
   {
    "duration": 12,
    "start_time": "2022-03-03T13:06:24.067Z"
   },
   {
    "duration": 10,
    "start_time": "2022-03-03T13:06:24.081Z"
   },
   {
    "duration": 11,
    "start_time": "2022-03-03T13:06:24.093Z"
   },
   {
    "duration": 53,
    "start_time": "2022-03-03T13:06:24.106Z"
   },
   {
    "duration": 40,
    "start_time": "2022-03-03T13:06:24.161Z"
   },
   {
    "duration": 45,
    "start_time": "2022-03-03T13:06:24.203Z"
   },
   {
    "duration": 59,
    "start_time": "2022-03-03T13:06:24.250Z"
   },
   {
    "duration": 58,
    "start_time": "2022-03-03T13:06:24.311Z"
   },
   {
    "duration": 25,
    "start_time": "2022-03-03T13:06:24.371Z"
   },
   {
    "duration": 43,
    "start_time": "2022-03-03T13:06:24.398Z"
   },
   {
    "duration": 25,
    "start_time": "2022-03-03T13:07:01.115Z"
   },
   {
    "duration": 30,
    "start_time": "2022-03-03T13:11:26.207Z"
   },
   {
    "duration": 25,
    "start_time": "2022-03-03T13:11:31.791Z"
   },
   {
    "duration": 28,
    "start_time": "2022-03-03T13:11:34.294Z"
   },
   {
    "duration": 1230,
    "start_time": "2022-03-03T13:18:52.338Z"
   },
   {
    "duration": 244,
    "start_time": "2022-03-03T13:18:53.570Z"
   },
   {
    "duration": 94,
    "start_time": "2022-03-03T13:18:53.816Z"
   },
   {
    "duration": 7,
    "start_time": "2022-03-03T13:18:53.912Z"
   },
   {
    "duration": 16505,
    "start_time": "2022-03-03T13:18:53.920Z"
   },
   {
    "duration": 560,
    "start_time": "2022-03-03T13:19:10.427Z"
   },
   {
    "duration": 52,
    "start_time": "2022-03-03T13:19:10.989Z"
   },
   {
    "duration": 1275,
    "start_time": "2022-03-03T13:19:11.044Z"
   },
   {
    "duration": 1188,
    "start_time": "2022-03-03T13:19:12.322Z"
   },
   {
    "duration": 45,
    "start_time": "2022-03-03T13:19:13.512Z"
   },
   {
    "duration": 5,
    "start_time": "2022-03-03T13:19:13.558Z"
   },
   {
    "duration": 17,
    "start_time": "2022-03-03T13:19:13.566Z"
   },
   {
    "duration": 5,
    "start_time": "2022-03-03T13:19:13.584Z"
   },
   {
    "duration": 411,
    "start_time": "2022-03-03T13:19:13.591Z"
   },
   {
    "duration": 237,
    "start_time": "2022-03-03T13:19:14.004Z"
   },
   {
    "duration": 5,
    "start_time": "2022-03-03T13:19:14.243Z"
   },
   {
    "duration": 326,
    "start_time": "2022-03-03T13:19:14.249Z"
   },
   {
    "duration": 12,
    "start_time": "2022-03-03T13:19:14.576Z"
   },
   {
    "duration": 22,
    "start_time": "2022-03-03T13:19:14.589Z"
   },
   {
    "duration": 431,
    "start_time": "2022-03-03T13:19:14.612Z"
   },
   {
    "duration": 41,
    "start_time": "2022-03-03T13:19:15.045Z"
   },
   {
    "duration": 51,
    "start_time": "2022-03-03T13:19:15.088Z"
   },
   {
    "duration": 61,
    "start_time": "2022-03-03T13:19:15.142Z"
   },
   {
    "duration": 12,
    "start_time": "2022-03-03T13:19:15.205Z"
   },
   {
    "duration": 198,
    "start_time": "2022-03-03T13:19:15.219Z"
   },
   {
    "duration": 43,
    "start_time": "2022-03-03T13:19:15.419Z"
   },
   {
    "duration": 4,
    "start_time": "2022-03-03T13:19:15.464Z"
   },
   {
    "duration": 8,
    "start_time": "2022-03-03T13:19:15.470Z"
   },
   {
    "duration": 45,
    "start_time": "2022-03-03T13:19:15.479Z"
   },
   {
    "duration": 38,
    "start_time": "2022-03-03T13:19:15.538Z"
   },
   {
    "duration": 22,
    "start_time": "2022-03-03T13:19:15.578Z"
   },
   {
    "duration": 80,
    "start_time": "2022-03-03T13:19:15.602Z"
   },
   {
    "duration": 40,
    "start_time": "2022-03-03T13:19:15.683Z"
   },
   {
    "duration": 32,
    "start_time": "2022-03-03T13:19:15.724Z"
   },
   {
    "duration": 22,
    "start_time": "2022-03-03T13:19:15.757Z"
   },
   {
    "duration": 58,
    "start_time": "2022-03-03T13:19:15.781Z"
   },
   {
    "duration": 25,
    "start_time": "2022-03-03T13:19:15.842Z"
   },
   {
    "duration": 24,
    "start_time": "2022-03-03T13:19:15.869Z"
   },
   {
    "duration": 59,
    "start_time": "2022-03-03T13:19:15.895Z"
   }
  ],
  "kernelspec": {
   "display_name": "Python 3",
   "language": "python",
   "name": "python3"
  },
  "language_info": {
   "codemirror_mode": {
    "name": "ipython",
    "version": 3
   },
   "file_extension": ".py",
   "mimetype": "text/x-python",
   "name": "python",
   "nbconvert_exporter": "python",
   "pygments_lexer": "ipython3",
   "version": "3.8.3"
  },
  "toc": {
   "base_numbering": 1,
   "nav_menu": {},
   "number_sections": true,
   "sideBar": true,
   "skip_h1_title": true,
   "title_cell": "Table of Contents",
   "title_sidebar": "Contents",
   "toc_cell": false,
   "toc_position": {},
   "toc_section_display": true,
   "toc_window_display": true
  },
  "varInspector": {
   "cols": {
    "lenName": 16,
    "lenType": 16,
    "lenVar": 40
   },
   "kernels_config": {
    "python": {
     "delete_cmd_postfix": "",
     "delete_cmd_prefix": "del ",
     "library": "var_list.py",
     "varRefreshCmd": "print(var_dic_list())"
    },
    "r": {
     "delete_cmd_postfix": ") ",
     "delete_cmd_prefix": "rm(",
     "library": "var_list.r",
     "varRefreshCmd": "cat(var_dic_list()) "
    }
   },
   "types_to_exclude": [
    "module",
    "function",
    "builtin_function_or_method",
    "instance",
    "_Feature"
   ],
   "window_display": false
  }
 },
 "nbformat": 4,
 "nbformat_minor": 2
}
