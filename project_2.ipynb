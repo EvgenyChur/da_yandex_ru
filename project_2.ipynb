{
 "cells": [
  {
   "cell_type": "markdown",
   "metadata": {},
   "source": [
    "# Исследование надёжности заёмщиков"
   ]
  },
  {
   "cell_type": "markdown",
   "metadata": {},
   "source": [
    "## Описание проекта:\n",
    "\n",
    "Заказчик — кредитный отдел банка. Нужно разобраться, **влияет ли семейное положение и количество детей клиента на факт погашения кредита в срок**. Входные данные от банка — статистика о платёжеспособности клиентов."
   ]
  },
  {
   "cell_type": "markdown",
   "metadata": {},
   "source": [
    "## Исходные данные и их описание: \n",
    "\n",
    "* *children* — количество детей в семье;\n",
    "* *days_employed* — общий трудовой стаж в днях\n",
    "* *dob_years* — возраст клиента в годах\n",
    "* *education* — уровень образования клиента\n",
    "* *education_id* — идентификатор уровня образования\n",
    "* *family_status* — семейное положение\n",
    "* *family_status_id* — идентификатор семейного положения\n",
    "* *gender* — пол клиента\n",
    "* *income_type* — тип занятости\n",
    "* *debt* — имел ли задолженность по возврату кредитов\n",
    "* *total_income* — ежемесячный доход\n",
    "* *purpose* — цель получения кредита"
   ]
  },
  {
   "cell_type": "code",
   "execution_count": 1,
   "metadata": {},
   "outputs": [
    {
     "data": {
      "text/html": [
       "<div>\n",
       "<style scoped>\n",
       "    .dataframe tbody tr th:only-of-type {\n",
       "        vertical-align: middle;\n",
       "    }\n",
       "\n",
       "    .dataframe tbody tr th {\n",
       "        vertical-align: top;\n",
       "    }\n",
       "\n",
       "    .dataframe thead th {\n",
       "        text-align: right;\n",
       "    }\n",
       "</style>\n",
       "<table border=\"1\" class=\"dataframe\">\n",
       "  <thead>\n",
       "    <tr style=\"text-align: right;\">\n",
       "      <th></th>\n",
       "      <th>children</th>\n",
       "      <th>days_employed</th>\n",
       "      <th>dob_years</th>\n",
       "      <th>education</th>\n",
       "      <th>education_id</th>\n",
       "      <th>family_status</th>\n",
       "      <th>family_status_id</th>\n",
       "      <th>gender</th>\n",
       "      <th>income_type</th>\n",
       "      <th>debt</th>\n",
       "      <th>total_income</th>\n",
       "      <th>purpose</th>\n",
       "    </tr>\n",
       "  </thead>\n",
       "  <tbody>\n",
       "    <tr>\n",
       "      <th>0</th>\n",
       "      <td>1</td>\n",
       "      <td>-8437.673028</td>\n",
       "      <td>42</td>\n",
       "      <td>высшее</td>\n",
       "      <td>0</td>\n",
       "      <td>женат / замужем</td>\n",
       "      <td>0</td>\n",
       "      <td>F</td>\n",
       "      <td>сотрудник</td>\n",
       "      <td>0</td>\n",
       "      <td>253875.639453</td>\n",
       "      <td>покупка жилья</td>\n",
       "    </tr>\n",
       "    <tr>\n",
       "      <th>1</th>\n",
       "      <td>1</td>\n",
       "      <td>-4024.803754</td>\n",
       "      <td>36</td>\n",
       "      <td>среднее</td>\n",
       "      <td>1</td>\n",
       "      <td>женат / замужем</td>\n",
       "      <td>0</td>\n",
       "      <td>F</td>\n",
       "      <td>сотрудник</td>\n",
       "      <td>0</td>\n",
       "      <td>112080.014102</td>\n",
       "      <td>приобретение автомобиля</td>\n",
       "    </tr>\n",
       "    <tr>\n",
       "      <th>2</th>\n",
       "      <td>0</td>\n",
       "      <td>-5623.422610</td>\n",
       "      <td>33</td>\n",
       "      <td>Среднее</td>\n",
       "      <td>1</td>\n",
       "      <td>женат / замужем</td>\n",
       "      <td>0</td>\n",
       "      <td>M</td>\n",
       "      <td>сотрудник</td>\n",
       "      <td>0</td>\n",
       "      <td>145885.952297</td>\n",
       "      <td>покупка жилья</td>\n",
       "    </tr>\n",
       "    <tr>\n",
       "      <th>3</th>\n",
       "      <td>3</td>\n",
       "      <td>-4124.747207</td>\n",
       "      <td>32</td>\n",
       "      <td>среднее</td>\n",
       "      <td>1</td>\n",
       "      <td>женат / замужем</td>\n",
       "      <td>0</td>\n",
       "      <td>M</td>\n",
       "      <td>сотрудник</td>\n",
       "      <td>0</td>\n",
       "      <td>267628.550329</td>\n",
       "      <td>дополнительное образование</td>\n",
       "    </tr>\n",
       "    <tr>\n",
       "      <th>4</th>\n",
       "      <td>0</td>\n",
       "      <td>340266.072047</td>\n",
       "      <td>53</td>\n",
       "      <td>среднее</td>\n",
       "      <td>1</td>\n",
       "      <td>гражданский брак</td>\n",
       "      <td>1</td>\n",
       "      <td>F</td>\n",
       "      <td>пенсионер</td>\n",
       "      <td>0</td>\n",
       "      <td>158616.077870</td>\n",
       "      <td>сыграть свадьбу</td>\n",
       "    </tr>\n",
       "    <tr>\n",
       "      <th>5</th>\n",
       "      <td>0</td>\n",
       "      <td>-926.185831</td>\n",
       "      <td>27</td>\n",
       "      <td>высшее</td>\n",
       "      <td>0</td>\n",
       "      <td>гражданский брак</td>\n",
       "      <td>1</td>\n",
       "      <td>M</td>\n",
       "      <td>компаньон</td>\n",
       "      <td>0</td>\n",
       "      <td>255763.565419</td>\n",
       "      <td>покупка жилья</td>\n",
       "    </tr>\n",
       "    <tr>\n",
       "      <th>6</th>\n",
       "      <td>0</td>\n",
       "      <td>-2879.202052</td>\n",
       "      <td>43</td>\n",
       "      <td>высшее</td>\n",
       "      <td>0</td>\n",
       "      <td>женат / замужем</td>\n",
       "      <td>0</td>\n",
       "      <td>F</td>\n",
       "      <td>компаньон</td>\n",
       "      <td>0</td>\n",
       "      <td>240525.971920</td>\n",
       "      <td>операции с жильем</td>\n",
       "    </tr>\n",
       "    <tr>\n",
       "      <th>7</th>\n",
       "      <td>0</td>\n",
       "      <td>-152.779569</td>\n",
       "      <td>50</td>\n",
       "      <td>СРЕДНЕЕ</td>\n",
       "      <td>1</td>\n",
       "      <td>женат / замужем</td>\n",
       "      <td>0</td>\n",
       "      <td>M</td>\n",
       "      <td>сотрудник</td>\n",
       "      <td>0</td>\n",
       "      <td>135823.934197</td>\n",
       "      <td>образование</td>\n",
       "    </tr>\n",
       "    <tr>\n",
       "      <th>8</th>\n",
       "      <td>2</td>\n",
       "      <td>-6929.865299</td>\n",
       "      <td>35</td>\n",
       "      <td>ВЫСШЕЕ</td>\n",
       "      <td>0</td>\n",
       "      <td>гражданский брак</td>\n",
       "      <td>1</td>\n",
       "      <td>F</td>\n",
       "      <td>сотрудник</td>\n",
       "      <td>0</td>\n",
       "      <td>95856.832424</td>\n",
       "      <td>на проведение свадьбы</td>\n",
       "    </tr>\n",
       "    <tr>\n",
       "      <th>9</th>\n",
       "      <td>0</td>\n",
       "      <td>-2188.756445</td>\n",
       "      <td>41</td>\n",
       "      <td>среднее</td>\n",
       "      <td>1</td>\n",
       "      <td>женат / замужем</td>\n",
       "      <td>0</td>\n",
       "      <td>M</td>\n",
       "      <td>сотрудник</td>\n",
       "      <td>0</td>\n",
       "      <td>144425.938277</td>\n",
       "      <td>покупка жилья для семьи</td>\n",
       "    </tr>\n",
       "  </tbody>\n",
       "</table>\n",
       "</div>"
      ],
      "text/plain": [
       "   children  days_employed  dob_years education  education_id  \\\n",
       "0         1   -8437.673028         42    высшее             0   \n",
       "1         1   -4024.803754         36   среднее             1   \n",
       "2         0   -5623.422610         33   Среднее             1   \n",
       "3         3   -4124.747207         32   среднее             1   \n",
       "4         0  340266.072047         53   среднее             1   \n",
       "5         0    -926.185831         27    высшее             0   \n",
       "6         0   -2879.202052         43    высшее             0   \n",
       "7         0    -152.779569         50   СРЕДНЕЕ             1   \n",
       "8         2   -6929.865299         35    ВЫСШЕЕ             0   \n",
       "9         0   -2188.756445         41   среднее             1   \n",
       "\n",
       "      family_status  family_status_id gender income_type  debt   total_income  \\\n",
       "0   женат / замужем                 0      F   сотрудник     0  253875.639453   \n",
       "1   женат / замужем                 0      F   сотрудник     0  112080.014102   \n",
       "2   женат / замужем                 0      M   сотрудник     0  145885.952297   \n",
       "3   женат / замужем                 0      M   сотрудник     0  267628.550329   \n",
       "4  гражданский брак                 1      F   пенсионер     0  158616.077870   \n",
       "5  гражданский брак                 1      M   компаньон     0  255763.565419   \n",
       "6   женат / замужем                 0      F   компаньон     0  240525.971920   \n",
       "7   женат / замужем                 0      M   сотрудник     0  135823.934197   \n",
       "8  гражданский брак                 1      F   сотрудник     0   95856.832424   \n",
       "9   женат / замужем                 0      M   сотрудник     0  144425.938277   \n",
       "\n",
       "                      purpose  \n",
       "0               покупка жилья  \n",
       "1     приобретение автомобиля  \n",
       "2               покупка жилья  \n",
       "3  дополнительное образование  \n",
       "4             сыграть свадьбу  \n",
       "5               покупка жилья  \n",
       "6           операции с жильем  \n",
       "7                 образование  \n",
       "8       на проведение свадьбы  \n",
       "9     покупка жилья для семьи  "
      ]
     },
     "execution_count": 1,
     "metadata": {},
     "output_type": "execute_result"
    }
   ],
   "source": [
    "import pandas as pd                      # импорт библиотеки pandas\n",
    "import numpy as np                       # импорт библиотеки pandas\n",
    "\n",
    "data = pd.read_csv('/datasets/data.csv') # чтение файла с данными и сохранение в data\n",
    "\n",
    "data.head(10)                            # получение первых 10 строк таблицы data"
   ]
  },
  {
   "cell_type": "code",
   "execution_count": 2,
   "metadata": {},
   "outputs": [
    {
     "name": "stdout",
     "output_type": "stream",
     "text": [
      "<class 'pandas.core.frame.DataFrame'>\n",
      "RangeIndex: 21525 entries, 0 to 21524\n",
      "Data columns (total 12 columns):\n",
      " #   Column            Non-Null Count  Dtype  \n",
      "---  ------            --------------  -----  \n",
      " 0   children          21525 non-null  int64  \n",
      " 1   days_employed     19351 non-null  float64\n",
      " 2   dob_years         21525 non-null  int64  \n",
      " 3   education         21525 non-null  object \n",
      " 4   education_id      21525 non-null  int64  \n",
      " 5   family_status     21525 non-null  object \n",
      " 6   family_status_id  21525 non-null  int64  \n",
      " 7   gender            21525 non-null  object \n",
      " 8   income_type       21525 non-null  object \n",
      " 9   debt              21525 non-null  int64  \n",
      " 10  total_income      19351 non-null  float64\n",
      " 11  purpose           21525 non-null  object \n",
      "dtypes: float64(2), int64(5), object(5)\n",
      "memory usage: 2.0+ MB\n"
     ]
    }
   ],
   "source": [
    "data.info()"
   ]
  },
  {
   "cell_type": "markdown",
   "metadata": {},
   "source": [
    "На основании пулученной информации можно сделать следующий предварительные выводы:\n",
    "1. В полученном датафрейме есть пропуски и их нужно исправить;\n",
    "2. В данных есть дубликаты;\n",
    "3. Данные в колонке **days_employed** (общий трудовой стаж в днях)смотрятся странно и лучше использовать другой формат данных - целочисленный + значения есть как положительные, так и отрицательные \n",
    "4. Колонка **education_id** вызывает некоторые вопросы\n",
    "5. Колонка **total_income** неудобно воспринимать\n",
    "6. Колонка **purpose** нужно привести к одному виду. Есть фразы с одинаковой сутью, но записанные по разному - нужно навести порядок."
   ]
  },
  {
   "cell_type": "markdown",
   "metadata": {},
   "source": [
    "## Предобработка данных"
   ]
  },
  {
   "cell_type": "code",
   "execution_count": 3,
   "metadata": {},
   "outputs": [
    {
     "data": {
      "text/plain": [
       "['children',\n",
       " 'days_employed',\n",
       " 'dob_years',\n",
       " 'education',\n",
       " 'education_id',\n",
       " 'family_status',\n",
       " 'family_status_id',\n",
       " 'gender',\n",
       " 'income_type',\n",
       " 'debt',\n",
       " 'total_income',\n",
       " 'purpose']"
      ]
     },
     "execution_count": 3,
     "metadata": {},
     "output_type": "execute_result"
    }
   ],
   "source": [
    "# Посмотрим на названия колонок\n",
    "data.columns.to_list()                     # перечень названий столбцов таблицы df"
   ]
  },
  {
   "cell_type": "markdown",
   "metadata": {},
   "source": [
    "### Поиск грубых ошибок"
   ]
  },
  {
   "cell_type": "markdown",
   "metadata": {},
   "source": [
    "В названия колонок, отсутствую пробелы, названия записаны в хорошем стиле и все символы строчные.\n",
    "\n",
    "**Но:**\n",
    "\n",
    "\n",
    "**3.1.1.** Текстовых столбцах информация записана с использование разных регистров, приведем все к единому стилю."
   ]
  },
  {
   "cell_type": "code",
   "execution_count": 4,
   "metadata": {},
   "outputs": [
    {
     "data": {
      "text/html": [
       "<div>\n",
       "<style scoped>\n",
       "    .dataframe tbody tr th:only-of-type {\n",
       "        vertical-align: middle;\n",
       "    }\n",
       "\n",
       "    .dataframe tbody tr th {\n",
       "        vertical-align: top;\n",
       "    }\n",
       "\n",
       "    .dataframe thead th {\n",
       "        text-align: right;\n",
       "    }\n",
       "</style>\n",
       "<table border=\"1\" class=\"dataframe\">\n",
       "  <thead>\n",
       "    <tr style=\"text-align: right;\">\n",
       "      <th></th>\n",
       "      <th>children</th>\n",
       "      <th>days_employed</th>\n",
       "      <th>dob_years</th>\n",
       "      <th>education</th>\n",
       "      <th>education_id</th>\n",
       "      <th>family_status</th>\n",
       "      <th>family_status_id</th>\n",
       "      <th>gender</th>\n",
       "      <th>income_type</th>\n",
       "      <th>debt</th>\n",
       "      <th>total_income</th>\n",
       "      <th>purpose</th>\n",
       "    </tr>\n",
       "  </thead>\n",
       "  <tbody>\n",
       "    <tr>\n",
       "      <th>0</th>\n",
       "      <td>1</td>\n",
       "      <td>-8437.673028</td>\n",
       "      <td>42</td>\n",
       "      <td>высшее</td>\n",
       "      <td>0</td>\n",
       "      <td>женат / замужем</td>\n",
       "      <td>0</td>\n",
       "      <td>f</td>\n",
       "      <td>сотрудник</td>\n",
       "      <td>0</td>\n",
       "      <td>253875.639453</td>\n",
       "      <td>покупка жилья</td>\n",
       "    </tr>\n",
       "    <tr>\n",
       "      <th>1</th>\n",
       "      <td>1</td>\n",
       "      <td>-4024.803754</td>\n",
       "      <td>36</td>\n",
       "      <td>среднее</td>\n",
       "      <td>1</td>\n",
       "      <td>женат / замужем</td>\n",
       "      <td>0</td>\n",
       "      <td>f</td>\n",
       "      <td>сотрудник</td>\n",
       "      <td>0</td>\n",
       "      <td>112080.014102</td>\n",
       "      <td>приобретение автомобиля</td>\n",
       "    </tr>\n",
       "    <tr>\n",
       "      <th>2</th>\n",
       "      <td>0</td>\n",
       "      <td>-5623.422610</td>\n",
       "      <td>33</td>\n",
       "      <td>среднее</td>\n",
       "      <td>1</td>\n",
       "      <td>женат / замужем</td>\n",
       "      <td>0</td>\n",
       "      <td>m</td>\n",
       "      <td>сотрудник</td>\n",
       "      <td>0</td>\n",
       "      <td>145885.952297</td>\n",
       "      <td>покупка жилья</td>\n",
       "    </tr>\n",
       "    <tr>\n",
       "      <th>3</th>\n",
       "      <td>3</td>\n",
       "      <td>-4124.747207</td>\n",
       "      <td>32</td>\n",
       "      <td>среднее</td>\n",
       "      <td>1</td>\n",
       "      <td>женат / замужем</td>\n",
       "      <td>0</td>\n",
       "      <td>m</td>\n",
       "      <td>сотрудник</td>\n",
       "      <td>0</td>\n",
       "      <td>267628.550329</td>\n",
       "      <td>дополнительное образование</td>\n",
       "    </tr>\n",
       "    <tr>\n",
       "      <th>4</th>\n",
       "      <td>0</td>\n",
       "      <td>340266.072047</td>\n",
       "      <td>53</td>\n",
       "      <td>среднее</td>\n",
       "      <td>1</td>\n",
       "      <td>гражданский брак</td>\n",
       "      <td>1</td>\n",
       "      <td>f</td>\n",
       "      <td>пенсионер</td>\n",
       "      <td>0</td>\n",
       "      <td>158616.077870</td>\n",
       "      <td>сыграть свадьбу</td>\n",
       "    </tr>\n",
       "    <tr>\n",
       "      <th>5</th>\n",
       "      <td>0</td>\n",
       "      <td>-926.185831</td>\n",
       "      <td>27</td>\n",
       "      <td>высшее</td>\n",
       "      <td>0</td>\n",
       "      <td>гражданский брак</td>\n",
       "      <td>1</td>\n",
       "      <td>m</td>\n",
       "      <td>компаньон</td>\n",
       "      <td>0</td>\n",
       "      <td>255763.565419</td>\n",
       "      <td>покупка жилья</td>\n",
       "    </tr>\n",
       "    <tr>\n",
       "      <th>6</th>\n",
       "      <td>0</td>\n",
       "      <td>-2879.202052</td>\n",
       "      <td>43</td>\n",
       "      <td>высшее</td>\n",
       "      <td>0</td>\n",
       "      <td>женат / замужем</td>\n",
       "      <td>0</td>\n",
       "      <td>f</td>\n",
       "      <td>компаньон</td>\n",
       "      <td>0</td>\n",
       "      <td>240525.971920</td>\n",
       "      <td>операции с жильем</td>\n",
       "    </tr>\n",
       "    <tr>\n",
       "      <th>7</th>\n",
       "      <td>0</td>\n",
       "      <td>-152.779569</td>\n",
       "      <td>50</td>\n",
       "      <td>среднее</td>\n",
       "      <td>1</td>\n",
       "      <td>женат / замужем</td>\n",
       "      <td>0</td>\n",
       "      <td>m</td>\n",
       "      <td>сотрудник</td>\n",
       "      <td>0</td>\n",
       "      <td>135823.934197</td>\n",
       "      <td>образование</td>\n",
       "    </tr>\n",
       "    <tr>\n",
       "      <th>8</th>\n",
       "      <td>2</td>\n",
       "      <td>-6929.865299</td>\n",
       "      <td>35</td>\n",
       "      <td>высшее</td>\n",
       "      <td>0</td>\n",
       "      <td>гражданский брак</td>\n",
       "      <td>1</td>\n",
       "      <td>f</td>\n",
       "      <td>сотрудник</td>\n",
       "      <td>0</td>\n",
       "      <td>95856.832424</td>\n",
       "      <td>на проведение свадьбы</td>\n",
       "    </tr>\n",
       "    <tr>\n",
       "      <th>9</th>\n",
       "      <td>0</td>\n",
       "      <td>-2188.756445</td>\n",
       "      <td>41</td>\n",
       "      <td>среднее</td>\n",
       "      <td>1</td>\n",
       "      <td>женат / замужем</td>\n",
       "      <td>0</td>\n",
       "      <td>m</td>\n",
       "      <td>сотрудник</td>\n",
       "      <td>0</td>\n",
       "      <td>144425.938277</td>\n",
       "      <td>покупка жилья для семьи</td>\n",
       "    </tr>\n",
       "  </tbody>\n",
       "</table>\n",
       "</div>"
      ],
      "text/plain": [
       "   children  days_employed  dob_years education  education_id  \\\n",
       "0         1   -8437.673028         42    высшее             0   \n",
       "1         1   -4024.803754         36   среднее             1   \n",
       "2         0   -5623.422610         33   среднее             1   \n",
       "3         3   -4124.747207         32   среднее             1   \n",
       "4         0  340266.072047         53   среднее             1   \n",
       "5         0    -926.185831         27    высшее             0   \n",
       "6         0   -2879.202052         43    высшее             0   \n",
       "7         0    -152.779569         50   среднее             1   \n",
       "8         2   -6929.865299         35    высшее             0   \n",
       "9         0   -2188.756445         41   среднее             1   \n",
       "\n",
       "      family_status  family_status_id gender income_type  debt   total_income  \\\n",
       "0   женат / замужем                 0      f   сотрудник     0  253875.639453   \n",
       "1   женат / замужем                 0      f   сотрудник     0  112080.014102   \n",
       "2   женат / замужем                 0      m   сотрудник     0  145885.952297   \n",
       "3   женат / замужем                 0      m   сотрудник     0  267628.550329   \n",
       "4  гражданский брак                 1      f   пенсионер     0  158616.077870   \n",
       "5  гражданский брак                 1      m   компаньон     0  255763.565419   \n",
       "6   женат / замужем                 0      f   компаньон     0  240525.971920   \n",
       "7   женат / замужем                 0      m   сотрудник     0  135823.934197   \n",
       "8  гражданский брак                 1      f   сотрудник     0   95856.832424   \n",
       "9   женат / замужем                 0      m   сотрудник     0  144425.938277   \n",
       "\n",
       "                      purpose  \n",
       "0               покупка жилья  \n",
       "1     приобретение автомобиля  \n",
       "2               покупка жилья  \n",
       "3  дополнительное образование  \n",
       "4             сыграть свадьбу  \n",
       "5               покупка жилья  \n",
       "6           операции с жильем  \n",
       "7                 образование  \n",
       "8       на проведение свадьбы  \n",
       "9     покупка жилья для семьи  "
      ]
     },
     "execution_count": 4,
     "metadata": {},
     "output_type": "execute_result"
    }
   ],
   "source": [
    "def change_registr(data_series):\n",
    "    '''\n",
    "    Функция change_registr нужна для приведения всех строковых колонок к единому стилю\n",
    "    data_series : Series\n",
    "    ts          : Series\n",
    "    '''\n",
    "    ts = data_series.str.lower()\n",
    "    return ts\n",
    "\n",
    "# The list of text columns fro data\n",
    "text_columns = ['education', 'family_status', \n",
    "                'gender'   , 'income_type'  ,\n",
    "                'purpose'  ]              \n",
    "\n",
    "# The cycle in text_columns\n",
    "for column in text_columns:\n",
    "    data[column] = change_registr(data[column])\n",
    "\n",
    "# Display the new data\n",
    "data.head(10) "
   ]
  },
  {
   "cell_type": "markdown",
   "metadata": {},
   "source": [
    "**3.1.2.** Необходимо проверить наличие ошибок или странных значений в данных и по возможности их исправить:"
   ]
  },
  {
   "cell_type": "markdown",
   "metadata": {},
   "source": [
    "Получим полный список колонок и используем его для поиска уникальных значений и количества значений для каждой уникальной категории. При это колонки **days_employed**, **total_income** и **purpose** на данном моменте пока рассматривать не будем, поскольку в этих колонках возможно большое количество различных вариантов. "
   ]
  },
  {
   "cell_type": "code",
   "execution_count": 5,
   "metadata": {},
   "outputs": [
    {
     "data": {
      "text/plain": [
       "Index(['children', 'days_employed', 'dob_years', 'education', 'education_id',\n",
       "       'family_status', 'family_status_id', 'gender', 'income_type', 'debt',\n",
       "       'total_income', 'purpose'],\n",
       "      dtype='object')"
      ]
     },
     "execution_count": 5,
     "metadata": {},
     "output_type": "execute_result"
    }
   ],
   "source": [
    "data.columns # "
   ]
  },
  {
   "cell_type": "code",
   "execution_count": 6,
   "metadata": {},
   "outputs": [
    {
     "name": "stdout",
     "output_type": "stream",
     "text": [
      "Уникальные значения в столбце: children [ 1  0  3  2 -1  4 20  5] \n",
      "\n"
     ]
    },
    {
     "data": {
      "text/plain": [
       "children\n",
       "-1        47\n",
       " 0     14149\n",
       " 1      4818\n",
       " 2      2055\n",
       " 3       330\n",
       " 4        41\n",
       " 5         9\n",
       " 20       76\n",
       "Name: children, dtype: int64"
      ]
     },
     "metadata": {},
     "output_type": "display_data"
    },
    {
     "name": "stdout",
     "output_type": "stream",
     "text": [
      "Уникальные значения в столбце: dob_years [42 36 33 32 53 27 43 50 35 41 40 65 54 56 26 48 24 21 57 67 28 63 62 47\n",
      " 34 68 25 31 30 20 49 37 45 61 64 44 52 46 23 38 39 51  0 59 29 60 55 58\n",
      " 71 22 73 66 69 19 72 70 74 75] \n",
      "\n"
     ]
    },
    {
     "data": {
      "text/plain": [
       "dob_years\n",
       "0     101\n",
       "19     14\n",
       "20     51\n",
       "21    111\n",
       "22    183\n",
       "23    254\n",
       "24    264\n",
       "25    357\n",
       "26    408\n",
       "27    493\n",
       "Name: dob_years, dtype: int64"
      ]
     },
     "metadata": {},
     "output_type": "display_data"
    },
    {
     "name": "stdout",
     "output_type": "stream",
     "text": [
      "Уникальные значения в столбце: education ['высшее' 'среднее' 'неоконченное высшее' 'начальное' 'ученая степень'] \n",
      "\n"
     ]
    },
    {
     "data": {
      "text/plain": [
       "education\n",
       "высшее                  5260\n",
       "начальное                282\n",
       "неоконченное высшее      744\n",
       "среднее                15233\n",
       "ученая степень             6\n",
       "Name: education, dtype: int64"
      ]
     },
     "metadata": {},
     "output_type": "display_data"
    },
    {
     "name": "stdout",
     "output_type": "stream",
     "text": [
      "Уникальные значения в столбце: education_id [0 1 2 3 4] \n",
      "\n"
     ]
    },
    {
     "data": {
      "text/plain": [
       "education_id\n",
       "0     5260\n",
       "1    15233\n",
       "2      744\n",
       "3      282\n",
       "4        6\n",
       "Name: education_id, dtype: int64"
      ]
     },
     "metadata": {},
     "output_type": "display_data"
    },
    {
     "name": "stdout",
     "output_type": "stream",
     "text": [
      "Уникальные значения в столбце: family_status ['женат / замужем' 'гражданский брак' 'вдовец / вдова' 'в разводе'\n",
      " 'не женат / не замужем'] \n",
      "\n"
     ]
    },
    {
     "data": {
      "text/plain": [
       "family_status\n",
       "в разводе                 1195\n",
       "вдовец / вдова             960\n",
       "гражданский брак          4177\n",
       "женат / замужем          12380\n",
       "не женат / не замужем     2813\n",
       "Name: family_status, dtype: int64"
      ]
     },
     "metadata": {},
     "output_type": "display_data"
    },
    {
     "name": "stdout",
     "output_type": "stream",
     "text": [
      "Уникальные значения в столбце: family_status_id [0 1 2 3 4] \n",
      "\n"
     ]
    },
    {
     "data": {
      "text/plain": [
       "family_status_id\n",
       "0    12380\n",
       "1     4177\n",
       "2      960\n",
       "3     1195\n",
       "4     2813\n",
       "Name: family_status_id, dtype: int64"
      ]
     },
     "metadata": {},
     "output_type": "display_data"
    },
    {
     "name": "stdout",
     "output_type": "stream",
     "text": [
      "Уникальные значения в столбце: gender ['f' 'm' 'xna'] \n",
      "\n"
     ]
    },
    {
     "data": {
      "text/plain": [
       "gender\n",
       "f      14236\n",
       "m       7288\n",
       "xna        1\n",
       "Name: gender, dtype: int64"
      ]
     },
     "metadata": {},
     "output_type": "display_data"
    },
    {
     "name": "stdout",
     "output_type": "stream",
     "text": [
      "Уникальные значения в столбце: income_type ['сотрудник' 'пенсионер' 'компаньон' 'госслужащий' 'безработный'\n",
      " 'предприниматель' 'студент' 'в декрете'] \n",
      "\n"
     ]
    },
    {
     "data": {
      "text/plain": [
       "income_type\n",
       "безработный            2\n",
       "в декрете              1\n",
       "госслужащий         1459\n",
       "компаньон           5085\n",
       "пенсионер           3856\n",
       "предприниматель        2\n",
       "сотрудник          11119\n",
       "студент                1\n",
       "Name: income_type, dtype: int64"
      ]
     },
     "metadata": {},
     "output_type": "display_data"
    },
    {
     "name": "stdout",
     "output_type": "stream",
     "text": [
      "Уникальные значения в столбце: debt [0 1] \n",
      "\n"
     ]
    },
    {
     "data": {
      "text/plain": [
       "debt\n",
       "0    19784\n",
       "1     1741\n",
       "Name: debt, dtype: int64"
      ]
     },
     "metadata": {},
     "output_type": "display_data"
    }
   ],
   "source": [
    "column_list = ['children'     , 'dob_years'       , 'education', 'education_id',\n",
    "               'family_status', 'family_status_id', 'gender'   , 'income_type' ,\n",
    "               'debt'         ]\n",
    "\n",
    "for col_name in column_list:\n",
    "    print(f'Уникальные значения в столбце: {col_name}', data[col_name].unique(), '\\n')\n",
    "    display(data.groupby(col_name)[col_name].count().head(10))"
   ]
  },
  {
   "cell_type": "markdown",
   "metadata": {},
   "source": [
    "**3.1.3.** В результате проверки удалось выявить следующие явные проблемы в данных:\n",
    "\n",
    "* В колонке **children** - присутствуют странные значения, например есть значения: **-1 ребенок** - 47 случаев и 20 случаев когда у человека **20 и более детей**. Предположу, что эти значения неправильные. \n",
    "\n",
    "\n",
    "* В колонке **dob_years** -  присутствуют странные значения, например есть значения **когда возвраст человека указан неверно**. По результатам проверки найден 101 случай когда возвраст равен 0. Что является ошибочной информацией; \n",
    "\n",
    "\n",
    "* В колонке **gender** -  присутствуют странные значения, например есть значениe: **xna** - что смотриться странным;\n",
    "\n",
    "\n",
    "+ Колонки **education** и **education_id** не содержат грубых ошибок и хорошо согласуются друг с другом;\n",
    "\n",
    "\n",
    "+ Колонки **family_status** и **family_status_id** не содержат грубых ошибок и хорошо согласуются друг с другом;\n",
    "\n",
    "\n",
    "+ Колонки **income_type** и **debt** не содержат грубых ошибок."
   ]
  },
  {
   "cell_type": "markdown",
   "metadata": {},
   "source": [
    "Исправим ошибки в колонках **children**, **dob_years** и **gender**:"
   ]
  },
  {
   "cell_type": "code",
   "execution_count": 7,
   "metadata": {},
   "outputs": [],
   "source": [
    "data['children']  = data['children'].replace(-1, 1)\n",
    "data['children']  = data['children'].replace(20, 2)\n",
    "data['dob_years'] = data['dob_years'].replace(0, np.nan)\n",
    "\n",
    "# Определю индекс строки\n",
    "#index_del_rows = data.loc[data['gender'] == 'xna']\n",
    "#print (index_del_rows)\n",
    "\n",
    "# Удаляю по индексу строки и делаю переиндексирование\n",
    "data = data.drop(labels=[10701], axis=0).reset_index(drop=True) "
   ]
  },
  {
   "cell_type": "markdown",
   "metadata": {},
   "source": [
    "Делаю дополнительную проверку и смотрю удалось ли исправить ошибки"
   ]
  },
  {
   "cell_type": "code",
   "execution_count": 8,
   "metadata": {},
   "outputs": [
    {
     "name": "stdout",
     "output_type": "stream",
     "text": [
      "Уникальные значения в столбце: children [1 0 3 2 4 5] \n",
      "\n"
     ]
    },
    {
     "data": {
      "text/plain": [
       "children\n",
       "0    14148\n",
       "1     4865\n",
       "2     2131\n",
       "3      330\n",
       "4       41\n",
       "5        9\n",
       "Name: children, dtype: int64"
      ]
     },
     "metadata": {},
     "output_type": "display_data"
    },
    {
     "name": "stdout",
     "output_type": "stream",
     "text": [
      "Уникальные значения в столбце: dob_years [42. 36. 33. 32. 53. 27. 43. 50. 35. 41. 40. 65. 54. 56. 26. 48. 24. 21.\n",
      " 57. 67. 28. 63. 62. 47. 34. 68. 25. 31. 30. 20. 49. 37. 45. 61. 64. 44.\n",
      " 52. 46. 23. 38. 39. 51. nan 59. 29. 60. 55. 58. 71. 22. 73. 66. 69. 19.\n",
      " 72. 70. 74. 75.] \n",
      "\n"
     ]
    },
    {
     "data": {
      "text/plain": [
       "dob_years\n",
       "19.0     14\n",
       "20.0     51\n",
       "21.0    111\n",
       "22.0    183\n",
       "23.0    254\n",
       "24.0    263\n",
       "25.0    357\n",
       "26.0    408\n",
       "27.0    493\n",
       "28.0    503\n",
       "Name: dob_years, dtype: int64"
      ]
     },
     "metadata": {},
     "output_type": "display_data"
    },
    {
     "name": "stdout",
     "output_type": "stream",
     "text": [
      "Уникальные значения в столбце: gender ['f' 'm'] \n",
      "\n"
     ]
    },
    {
     "data": {
      "text/plain": [
       "gender\n",
       "f    14236\n",
       "m     7288\n",
       "Name: gender, dtype: int64"
      ]
     },
     "metadata": {},
     "output_type": "display_data"
    }
   ],
   "source": [
    "column_list = ['children', 'dob_years', 'gender']\n",
    "\n",
    "for col_name in column_list:\n",
    "    print(f'Уникальные значения в столбце: {col_name}', data[col_name].unique(), '\\n')\n",
    "    display(data.groupby(col_name)[col_name].count().head(10))"
   ]
  },
  {
   "cell_type": "markdown",
   "metadata": {},
   "source": [
    "Да, часть ошибок удалось исправить. Но теперь в столбце **dob_years** появился nan. Настало время занятся пропусками."
   ]
  },
  {
   "cell_type": "markdown",
   "metadata": {},
   "source": [
    "### Пропуски значений"
   ]
  },
  {
   "cell_type": "markdown",
   "metadata": {},
   "source": [
    "Считаем пропуски и определяем сколько всего пропущенных значений в наших столбцах."
   ]
  },
  {
   "cell_type": "code",
   "execution_count": 9,
   "metadata": {},
   "outputs": [
    {
     "name": "stdout",
     "output_type": "stream",
     "text": [
      "children               0\n",
      "days_employed       2174\n",
      "dob_years            101\n",
      "education              0\n",
      "education_id           0\n",
      "family_status          0\n",
      "family_status_id       0\n",
      "gender                 0\n",
      "income_type            0\n",
      "debt                   0\n",
      "total_income        2174\n",
      "purpose                0\n",
      "dtype: int64\n"
     ]
    }
   ],
   "source": [
    "print(data.isnull().sum()) # подсчёт пропусков"
   ]
  },
  {
   "cell_type": "markdown",
   "metadata": {},
   "source": [
    "Пропуски есть в трех столбцах **days_employed**, **total_income** и **dob_years**. К основным причинам возникновения пропусков относятся:\n",
    "* Пропуски в колонке **dob_years** были созданы мною, для того чтобы исправить некорректные значения возвраста. Пропуски легко исправить на основе данных из колонки **income_type**."
   ]
  },
  {
   "cell_type": "code",
   "execution_count": 10,
   "metadata": {},
   "outputs": [
    {
     "name": "stdout",
     "output_type": "stream",
     "text": [
      "Пропуски до: 101 \n",
      "\n",
      "Пропуски после: 0 \n",
      "\n"
     ]
    }
   ],
   "source": [
    "print('Пропуски до:', data['dob_years'].isna().sum(), '\\n')\n",
    "\n",
    "for group_age in data['income_type'].unique():\n",
    "    median_value = data.loc[data['income_type'] == group_age, 'dob_years' ].median()\n",
    "    #print(group_age, median_value)\n",
    "    data.loc[(data['dob_years'].isna()) & (data['income_type'] == group_age), 'dob_years'] = median_value\n",
    "    \n",
    "print('Пропуски после:', data['dob_years'].isna().sum(), '\\n')"
   ]
  },
  {
   "cell_type": "markdown",
   "metadata": {},
   "source": [
    "* Количество пропусков в столбцах **days_employed** и **total_income** одинаковое, что позволяет предположить наличие связи между этими показателями. Например: нет работы --> нет зарплаты, либо клиент отказался предоставить эти сведения. \n",
    "\n",
    "Исходя из названия колонок и логики можно сделать следующее предположение, что заполнять пропуски в колонке **total_income** нужно в зависимости от значений в **days_employed**. Поскольку зарплата зависит от стажа и образования. \n",
    "\n",
    "В свою очередь, заполнить пропуски в колонке **days_employed** можно в зависимости от **dob_years**, **education**, **gender**. Дополнительно, можноо привлечь информацию из колонки **family_status**, но я этого делать не буду. Поскольку с увеличением количества параметров на основе, которых будет делаться коррекция увеличивается шанс, что количество пропусков без исправлений увеличится.\n"
   ]
  },
  {
   "cell_type": "code",
   "execution_count": 11,
   "metadata": {},
   "outputs": [
    {
     "name": "stdout",
     "output_type": "stream",
     "text": [
      "Пропуски до: 2174 \n",
      "\n",
      "Пропуски после: 3 \n",
      "\n"
     ]
    }
   ],
   "source": [
    "# Часть значений имеют отрицательные значения, часть положительные. В целом нужен единый стиль.\n",
    "# Поскольку стаж не может быть отрицательным приведем все к положительным значениям.\n",
    "data['days_employed'] = abs(data['days_employed'])\n",
    "\n",
    "\n",
    "print('Пропуски до:', data['days_employed'].isna().sum(), '\\n')\n",
    "\n",
    "medians = (data.groupby(['dob_years',\n",
    "                         'education', \n",
    "                         'gender'   ])).agg({'days_employed':'median'}).rename(columns = {'days_employed':'median_days_employed'})\n",
    "\n",
    "data = data.merge(medians, on = ['dob_years',\n",
    "                                 'education',\n",
    "                                 'gender'   ])\n",
    "\n",
    "#data[['dob_years'  , 'education',  'gender',\n",
    "#      'income_type', 'days_employed', 'median_days_employed']][data['days_employed'].isna()].head()\n",
    "\n",
    "data.loc[data['days_employed'].isna(), 'days_employed'] = data.loc[data['days_employed'].isna(), 'median_days_employed']\n",
    "\n",
    "print('Пропуски после:', data['days_employed'].isna().sum(), '\\n')\n"
   ]
  },
  {
   "cell_type": "markdown",
   "metadata": {},
   "source": [
    "После заполнения пропусков остались 3 строчки, где исправить пропуски не получилось. Удалим данные строчки в зависимости от их индекса. (Примечание: данная часть является не оптимальной, по возможности исправить)."
   ]
  },
  {
   "cell_type": "code",
   "execution_count": 12,
   "metadata": {},
   "outputs": [
    {
     "name": "stdout",
     "output_type": "stream",
     "text": [
      "before (21524, 13)\n",
      "after (21515, 13)\n"
     ]
    }
   ],
   "source": [
    "print('before', data.shape)\n",
    "# Определю индекс строк\n",
    "index_del_rows = data.loc[data['days_employed'].isna()]\n",
    "#print(index_del_rows.index)\n",
    "\n",
    "\n",
    "# Удаляю по индексу строки и делаю переиндексирование\n",
    "for index in range(len(index_del_rows)):\n",
    "    data = data.drop(labels = [21479, 21510, 21516], axis=0).reset_index(drop=True) \n",
    "    \n",
    "print('after', data.shape)"
   ]
  },
  {
   "cell_type": "markdown",
   "metadata": {},
   "source": [
    "Дополнительные действия для приведения колонки **days_employed** в удовлетворительный вид:"
   ]
  },
  {
   "cell_type": "code",
   "execution_count": 13,
   "metadata": {},
   "outputs": [
    {
     "data": {
      "text/html": [
       "<div>\n",
       "<style scoped>\n",
       "    .dataframe tbody tr th:only-of-type {\n",
       "        vertical-align: middle;\n",
       "    }\n",
       "\n",
       "    .dataframe tbody tr th {\n",
       "        vertical-align: top;\n",
       "    }\n",
       "\n",
       "    .dataframe thead th {\n",
       "        text-align: right;\n",
       "    }\n",
       "</style>\n",
       "<table border=\"1\" class=\"dataframe\">\n",
       "  <thead>\n",
       "    <tr style=\"text-align: right;\">\n",
       "      <th></th>\n",
       "      <th>children</th>\n",
       "      <th>days_employed</th>\n",
       "      <th>dob_years</th>\n",
       "      <th>education</th>\n",
       "      <th>education_id</th>\n",
       "      <th>family_status</th>\n",
       "      <th>family_status_id</th>\n",
       "      <th>gender</th>\n",
       "      <th>income_type</th>\n",
       "      <th>debt</th>\n",
       "      <th>total_income</th>\n",
       "      <th>purpose</th>\n",
       "      <th>median_days_employed</th>\n",
       "    </tr>\n",
       "  </thead>\n",
       "  <tbody>\n",
       "    <tr>\n",
       "      <th>13238</th>\n",
       "      <td>0</td>\n",
       "      <td>401755</td>\n",
       "      <td>56.0</td>\n",
       "      <td>среднее</td>\n",
       "      <td>1</td>\n",
       "      <td>вдовец / вдова</td>\n",
       "      <td>2</td>\n",
       "      <td>f</td>\n",
       "      <td>пенсионер</td>\n",
       "      <td>0</td>\n",
       "      <td>176278.441171</td>\n",
       "      <td>ремонт жилью</td>\n",
       "      <td>335974.254438</td>\n",
       "    </tr>\n",
       "    <tr>\n",
       "      <th>20731</th>\n",
       "      <td>0</td>\n",
       "      <td>401715</td>\n",
       "      <td>69.0</td>\n",
       "      <td>высшее</td>\n",
       "      <td>0</td>\n",
       "      <td>не женат / не замужем</td>\n",
       "      <td>4</td>\n",
       "      <td>f</td>\n",
       "      <td>пенсионер</td>\n",
       "      <td>0</td>\n",
       "      <td>57390.256908</td>\n",
       "      <td>получение образования</td>\n",
       "      <td>370420.179001</td>\n",
       "    </tr>\n",
       "    <tr>\n",
       "      <th>6034</th>\n",
       "      <td>1</td>\n",
       "      <td>401675</td>\n",
       "      <td>61.0</td>\n",
       "      <td>среднее</td>\n",
       "      <td>1</td>\n",
       "      <td>женат / замужем</td>\n",
       "      <td>0</td>\n",
       "      <td>f</td>\n",
       "      <td>пенсионер</td>\n",
       "      <td>0</td>\n",
       "      <td>126214.519212</td>\n",
       "      <td>операции с жильем</td>\n",
       "      <td>347226.626654</td>\n",
       "    </tr>\n",
       "    <tr>\n",
       "      <th>19064</th>\n",
       "      <td>0</td>\n",
       "      <td>401674</td>\n",
       "      <td>60.0</td>\n",
       "      <td>среднее</td>\n",
       "      <td>1</td>\n",
       "      <td>женат / замужем</td>\n",
       "      <td>0</td>\n",
       "      <td>m</td>\n",
       "      <td>пенсионер</td>\n",
       "      <td>0</td>\n",
       "      <td>325395.724541</td>\n",
       "      <td>автомобили</td>\n",
       "      <td>5635.422839</td>\n",
       "    </tr>\n",
       "    <tr>\n",
       "      <th>6038</th>\n",
       "      <td>0</td>\n",
       "      <td>401663</td>\n",
       "      <td>61.0</td>\n",
       "      <td>среднее</td>\n",
       "      <td>1</td>\n",
       "      <td>гражданский брак</td>\n",
       "      <td>1</td>\n",
       "      <td>f</td>\n",
       "      <td>пенсионер</td>\n",
       "      <td>0</td>\n",
       "      <td>48286.441362</td>\n",
       "      <td>свадьба</td>\n",
       "      <td>347226.626654</td>\n",
       "    </tr>\n",
       "    <tr>\n",
       "      <th>13210</th>\n",
       "      <td>0</td>\n",
       "      <td>401635</td>\n",
       "      <td>56.0</td>\n",
       "      <td>среднее</td>\n",
       "      <td>1</td>\n",
       "      <td>женат / замужем</td>\n",
       "      <td>0</td>\n",
       "      <td>f</td>\n",
       "      <td>пенсионер</td>\n",
       "      <td>0</td>\n",
       "      <td>48242.322502</td>\n",
       "      <td>покупка недвижимости</td>\n",
       "      <td>335974.254438</td>\n",
       "    </tr>\n",
       "    <tr>\n",
       "      <th>3550</th>\n",
       "      <td>0</td>\n",
       "      <td>401619</td>\n",
       "      <td>63.0</td>\n",
       "      <td>среднее</td>\n",
       "      <td>1</td>\n",
       "      <td>гражданский брак</td>\n",
       "      <td>1</td>\n",
       "      <td>f</td>\n",
       "      <td>пенсионер</td>\n",
       "      <td>0</td>\n",
       "      <td>51449.788325</td>\n",
       "      <td>сыграть свадьбу</td>\n",
       "      <td>362963.961475</td>\n",
       "    </tr>\n",
       "    <tr>\n",
       "      <th>9961</th>\n",
       "      <td>0</td>\n",
       "      <td>401614</td>\n",
       "      <td>59.0</td>\n",
       "      <td>среднее</td>\n",
       "      <td>1</td>\n",
       "      <td>женат / замужем</td>\n",
       "      <td>0</td>\n",
       "      <td>f</td>\n",
       "      <td>пенсионер</td>\n",
       "      <td>0</td>\n",
       "      <td>152769.694536</td>\n",
       "      <td>покупка жилья для сдачи</td>\n",
       "      <td>353311.040246</td>\n",
       "    </tr>\n",
       "    <tr>\n",
       "      <th>13280</th>\n",
       "      <td>0</td>\n",
       "      <td>401591</td>\n",
       "      <td>56.0</td>\n",
       "      <td>среднее</td>\n",
       "      <td>1</td>\n",
       "      <td>в разводе</td>\n",
       "      <td>3</td>\n",
       "      <td>f</td>\n",
       "      <td>пенсионер</td>\n",
       "      <td>0</td>\n",
       "      <td>39513.517543</td>\n",
       "      <td>получение дополнительного образования</td>\n",
       "      <td>335974.254438</td>\n",
       "    </tr>\n",
       "    <tr>\n",
       "      <th>13671</th>\n",
       "      <td>0</td>\n",
       "      <td>401590</td>\n",
       "      <td>58.0</td>\n",
       "      <td>среднее</td>\n",
       "      <td>1</td>\n",
       "      <td>женат / замужем</td>\n",
       "      <td>0</td>\n",
       "      <td>f</td>\n",
       "      <td>пенсионер</td>\n",
       "      <td>0</td>\n",
       "      <td>175306.312902</td>\n",
       "      <td>образование</td>\n",
       "      <td>340243.384325</td>\n",
       "    </tr>\n",
       "  </tbody>\n",
       "</table>\n",
       "</div>"
      ],
      "text/plain": [
       "       children  days_employed  dob_years education  education_id  \\\n",
       "13238         0         401755       56.0   среднее             1   \n",
       "20731         0         401715       69.0    высшее             0   \n",
       "6034          1         401675       61.0   среднее             1   \n",
       "19064         0         401674       60.0   среднее             1   \n",
       "6038          0         401663       61.0   среднее             1   \n",
       "13210         0         401635       56.0   среднее             1   \n",
       "3550          0         401619       63.0   среднее             1   \n",
       "9961          0         401614       59.0   среднее             1   \n",
       "13280         0         401591       56.0   среднее             1   \n",
       "13671         0         401590       58.0   среднее             1   \n",
       "\n",
       "               family_status  family_status_id gender income_type  debt  \\\n",
       "13238         вдовец / вдова                 2      f   пенсионер     0   \n",
       "20731  не женат / не замужем                 4      f   пенсионер     0   \n",
       "6034         женат / замужем                 0      f   пенсионер     0   \n",
       "19064        женат / замужем                 0      m   пенсионер     0   \n",
       "6038        гражданский брак                 1      f   пенсионер     0   \n",
       "13210        женат / замужем                 0      f   пенсионер     0   \n",
       "3550        гражданский брак                 1      f   пенсионер     0   \n",
       "9961         женат / замужем                 0      f   пенсионер     0   \n",
       "13280              в разводе                 3      f   пенсионер     0   \n",
       "13671        женат / замужем                 0      f   пенсионер     0   \n",
       "\n",
       "        total_income                                purpose  \\\n",
       "13238  176278.441171                           ремонт жилью   \n",
       "20731   57390.256908                  получение образования   \n",
       "6034   126214.519212                      операции с жильем   \n",
       "19064  325395.724541                             автомобили   \n",
       "6038    48286.441362                                свадьба   \n",
       "13210   48242.322502                   покупка недвижимости   \n",
       "3550    51449.788325                        сыграть свадьбу   \n",
       "9961   152769.694536                покупка жилья для сдачи   \n",
       "13280   39513.517543  получение дополнительного образования   \n",
       "13671  175306.312902                            образование   \n",
       "\n",
       "       median_days_employed  \n",
       "13238         335974.254438  \n",
       "20731         370420.179001  \n",
       "6034          347226.626654  \n",
       "19064           5635.422839  \n",
       "6038          347226.626654  \n",
       "13210         335974.254438  \n",
       "3550          362963.961475  \n",
       "9961          353311.040246  \n",
       "13280         335974.254438  \n",
       "13671         340243.384325  "
      ]
     },
     "metadata": {},
     "output_type": "display_data"
    }
   ],
   "source": [
    "# Данные в столбце  представлены в формате **float64**, который не удобно использовать \n",
    "# для подсчета количества дней. Изменим тип на целочисленный: \n",
    "data['days_employed'] = data['days_employed'].astype('int')\n",
    "\n",
    "# Отсортируем значения в столбце days_employed по убыванию и посмотрим все ли хорошо:\n",
    "display(data.sort_values('days_employed', ascending=False).head(10))\n",
    "\n",
    "# Как оказалось есть значения, которые сильно отличаются от остальных"
   ]
  },
  {
   "cell_type": "markdown",
   "metadata": {},
   "source": [
    "Исправим странные значения в колонке **days_employed**, которые связаны с другим типом хранения временных данных (скорее всего используются данные из другой базы данных). Новые данные добавим в колонку **new_days_employed**.  \n",
    "\n",
    "Следует отметить, что некоторые значения вызывают вопросы и после коррекции (значения больше 15000 дней). Но исправить или уточнить текущие значения не представляется возможным."
   ]
  },
  {
   "cell_type": "code",
   "execution_count": 14,
   "metadata": {},
   "outputs": [],
   "source": [
    "def change_year(row):\n",
    "    MIN_STAG = 16                   # Минимальный возвраст с которого можно начать работать,\n",
    "                                    # получив при этом среднее образование\n",
    "        \n",
    "    NUM_DAYS = 365                  # Количество дней в году, без учета високосных лет\n",
    "    \n",
    "    year = row['dob_years']\n",
    "    stag = row['days_employed']\n",
    "    \n",
    "    if stag > ((year - MIN_STAG) * NUM_DAYS):\n",
    "        return(stag / 24)\n",
    "    else:\n",
    "        return stag\n",
    "    \n",
    "data['new_days_employed'] = data.apply(change_year, axis = 1)               # Применим функцию для коррекции\n",
    "data['new_days_employed'] = data['new_days_employed'].astype('int')         # Изменим тип данных на целочисленный"
   ]
  },
  {
   "cell_type": "code",
   "execution_count": 15,
   "metadata": {},
   "outputs": [
    {
     "data": {
      "text/html": [
       "<div>\n",
       "<style scoped>\n",
       "    .dataframe tbody tr th:only-of-type {\n",
       "        vertical-align: middle;\n",
       "    }\n",
       "\n",
       "    .dataframe tbody tr th {\n",
       "        vertical-align: top;\n",
       "    }\n",
       "\n",
       "    .dataframe thead th {\n",
       "        text-align: right;\n",
       "    }\n",
       "</style>\n",
       "<table border=\"1\" class=\"dataframe\">\n",
       "  <thead>\n",
       "    <tr style=\"text-align: right;\">\n",
       "      <th></th>\n",
       "      <th>children</th>\n",
       "      <th>days_employed</th>\n",
       "      <th>dob_years</th>\n",
       "      <th>education</th>\n",
       "      <th>education_id</th>\n",
       "      <th>family_status</th>\n",
       "      <th>family_status_id</th>\n",
       "      <th>gender</th>\n",
       "      <th>income_type</th>\n",
       "      <th>debt</th>\n",
       "      <th>total_income</th>\n",
       "      <th>purpose</th>\n",
       "      <th>median_days_employed</th>\n",
       "      <th>new_days_employed</th>\n",
       "    </tr>\n",
       "  </thead>\n",
       "  <tbody>\n",
       "    <tr>\n",
       "      <th>13238</th>\n",
       "      <td>0</td>\n",
       "      <td>401755</td>\n",
       "      <td>56.0</td>\n",
       "      <td>среднее</td>\n",
       "      <td>1</td>\n",
       "      <td>вдовец / вдова</td>\n",
       "      <td>2</td>\n",
       "      <td>f</td>\n",
       "      <td>пенсионер</td>\n",
       "      <td>0</td>\n",
       "      <td>176278.441171</td>\n",
       "      <td>ремонт жилью</td>\n",
       "      <td>335974.254438</td>\n",
       "      <td>16739</td>\n",
       "    </tr>\n",
       "    <tr>\n",
       "      <th>20731</th>\n",
       "      <td>0</td>\n",
       "      <td>401715</td>\n",
       "      <td>69.0</td>\n",
       "      <td>высшее</td>\n",
       "      <td>0</td>\n",
       "      <td>не женат / не замужем</td>\n",
       "      <td>4</td>\n",
       "      <td>f</td>\n",
       "      <td>пенсионер</td>\n",
       "      <td>0</td>\n",
       "      <td>57390.256908</td>\n",
       "      <td>получение образования</td>\n",
       "      <td>370420.179001</td>\n",
       "      <td>16738</td>\n",
       "    </tr>\n",
       "    <tr>\n",
       "      <th>6034</th>\n",
       "      <td>1</td>\n",
       "      <td>401675</td>\n",
       "      <td>61.0</td>\n",
       "      <td>среднее</td>\n",
       "      <td>1</td>\n",
       "      <td>женат / замужем</td>\n",
       "      <td>0</td>\n",
       "      <td>f</td>\n",
       "      <td>пенсионер</td>\n",
       "      <td>0</td>\n",
       "      <td>126214.519212</td>\n",
       "      <td>операции с жильем</td>\n",
       "      <td>347226.626654</td>\n",
       "      <td>16736</td>\n",
       "    </tr>\n",
       "    <tr>\n",
       "      <th>19064</th>\n",
       "      <td>0</td>\n",
       "      <td>401674</td>\n",
       "      <td>60.0</td>\n",
       "      <td>среднее</td>\n",
       "      <td>1</td>\n",
       "      <td>женат / замужем</td>\n",
       "      <td>0</td>\n",
       "      <td>m</td>\n",
       "      <td>пенсионер</td>\n",
       "      <td>0</td>\n",
       "      <td>325395.724541</td>\n",
       "      <td>автомобили</td>\n",
       "      <td>5635.422839</td>\n",
       "      <td>16736</td>\n",
       "    </tr>\n",
       "    <tr>\n",
       "      <th>6038</th>\n",
       "      <td>0</td>\n",
       "      <td>401663</td>\n",
       "      <td>61.0</td>\n",
       "      <td>среднее</td>\n",
       "      <td>1</td>\n",
       "      <td>гражданский брак</td>\n",
       "      <td>1</td>\n",
       "      <td>f</td>\n",
       "      <td>пенсионер</td>\n",
       "      <td>0</td>\n",
       "      <td>48286.441362</td>\n",
       "      <td>свадьба</td>\n",
       "      <td>347226.626654</td>\n",
       "      <td>16735</td>\n",
       "    </tr>\n",
       "    <tr>\n",
       "      <th>13210</th>\n",
       "      <td>0</td>\n",
       "      <td>401635</td>\n",
       "      <td>56.0</td>\n",
       "      <td>среднее</td>\n",
       "      <td>1</td>\n",
       "      <td>женат / замужем</td>\n",
       "      <td>0</td>\n",
       "      <td>f</td>\n",
       "      <td>пенсионер</td>\n",
       "      <td>0</td>\n",
       "      <td>48242.322502</td>\n",
       "      <td>покупка недвижимости</td>\n",
       "      <td>335974.254438</td>\n",
       "      <td>16734</td>\n",
       "    </tr>\n",
       "    <tr>\n",
       "      <th>3550</th>\n",
       "      <td>0</td>\n",
       "      <td>401619</td>\n",
       "      <td>63.0</td>\n",
       "      <td>среднее</td>\n",
       "      <td>1</td>\n",
       "      <td>гражданский брак</td>\n",
       "      <td>1</td>\n",
       "      <td>f</td>\n",
       "      <td>пенсионер</td>\n",
       "      <td>0</td>\n",
       "      <td>51449.788325</td>\n",
       "      <td>сыграть свадьбу</td>\n",
       "      <td>362963.961475</td>\n",
       "      <td>16734</td>\n",
       "    </tr>\n",
       "    <tr>\n",
       "      <th>9961</th>\n",
       "      <td>0</td>\n",
       "      <td>401614</td>\n",
       "      <td>59.0</td>\n",
       "      <td>среднее</td>\n",
       "      <td>1</td>\n",
       "      <td>женат / замужем</td>\n",
       "      <td>0</td>\n",
       "      <td>f</td>\n",
       "      <td>пенсионер</td>\n",
       "      <td>0</td>\n",
       "      <td>152769.694536</td>\n",
       "      <td>покупка жилья для сдачи</td>\n",
       "      <td>353311.040246</td>\n",
       "      <td>16733</td>\n",
       "    </tr>\n",
       "    <tr>\n",
       "      <th>13280</th>\n",
       "      <td>0</td>\n",
       "      <td>401591</td>\n",
       "      <td>56.0</td>\n",
       "      <td>среднее</td>\n",
       "      <td>1</td>\n",
       "      <td>в разводе</td>\n",
       "      <td>3</td>\n",
       "      <td>f</td>\n",
       "      <td>пенсионер</td>\n",
       "      <td>0</td>\n",
       "      <td>39513.517543</td>\n",
       "      <td>получение дополнительного образования</td>\n",
       "      <td>335974.254438</td>\n",
       "      <td>16732</td>\n",
       "    </tr>\n",
       "    <tr>\n",
       "      <th>13671</th>\n",
       "      <td>0</td>\n",
       "      <td>401590</td>\n",
       "      <td>58.0</td>\n",
       "      <td>среднее</td>\n",
       "      <td>1</td>\n",
       "      <td>женат / замужем</td>\n",
       "      <td>0</td>\n",
       "      <td>f</td>\n",
       "      <td>пенсионер</td>\n",
       "      <td>0</td>\n",
       "      <td>175306.312902</td>\n",
       "      <td>образование</td>\n",
       "      <td>340243.384325</td>\n",
       "      <td>16732</td>\n",
       "    </tr>\n",
       "  </tbody>\n",
       "</table>\n",
       "</div>"
      ],
      "text/plain": [
       "       children  days_employed  dob_years education  education_id  \\\n",
       "13238         0         401755       56.0   среднее             1   \n",
       "20731         0         401715       69.0    высшее             0   \n",
       "6034          1         401675       61.0   среднее             1   \n",
       "19064         0         401674       60.0   среднее             1   \n",
       "6038          0         401663       61.0   среднее             1   \n",
       "13210         0         401635       56.0   среднее             1   \n",
       "3550          0         401619       63.0   среднее             1   \n",
       "9961          0         401614       59.0   среднее             1   \n",
       "13280         0         401591       56.0   среднее             1   \n",
       "13671         0         401590       58.0   среднее             1   \n",
       "\n",
       "               family_status  family_status_id gender income_type  debt  \\\n",
       "13238         вдовец / вдова                 2      f   пенсионер     0   \n",
       "20731  не женат / не замужем                 4      f   пенсионер     0   \n",
       "6034         женат / замужем                 0      f   пенсионер     0   \n",
       "19064        женат / замужем                 0      m   пенсионер     0   \n",
       "6038        гражданский брак                 1      f   пенсионер     0   \n",
       "13210        женат / замужем                 0      f   пенсионер     0   \n",
       "3550        гражданский брак                 1      f   пенсионер     0   \n",
       "9961         женат / замужем                 0      f   пенсионер     0   \n",
       "13280              в разводе                 3      f   пенсионер     0   \n",
       "13671        женат / замужем                 0      f   пенсионер     0   \n",
       "\n",
       "        total_income                                purpose  \\\n",
       "13238  176278.441171                           ремонт жилью   \n",
       "20731   57390.256908                  получение образования   \n",
       "6034   126214.519212                      операции с жильем   \n",
       "19064  325395.724541                             автомобили   \n",
       "6038    48286.441362                                свадьба   \n",
       "13210   48242.322502                   покупка недвижимости   \n",
       "3550    51449.788325                        сыграть свадьбу   \n",
       "9961   152769.694536                покупка жилья для сдачи   \n",
       "13280   39513.517543  получение дополнительного образования   \n",
       "13671  175306.312902                            образование   \n",
       "\n",
       "       median_days_employed  new_days_employed  \n",
       "13238         335974.254438              16739  \n",
       "20731         370420.179001              16738  \n",
       "6034          347226.626654              16736  \n",
       "19064           5635.422839              16736  \n",
       "6038          347226.626654              16735  \n",
       "13210         335974.254438              16734  \n",
       "3550          362963.961475              16734  \n",
       "9961          353311.040246              16733  \n",
       "13280         335974.254438              16732  \n",
       "13671         340243.384325              16732  "
      ]
     },
     "metadata": {},
     "output_type": "display_data"
    }
   ],
   "source": [
    "display(data.sort_values('days_employed', ascending=False).head(10))"
   ]
  },
  {
   "cell_type": "markdown",
   "metadata": {},
   "source": [
    "Исправим пропуски в колонке **total_income** в зависимости от **new_days_employed** и **education**. \n",
    "\n",
    "К сожалению из большого количества различных вариантов в **new_days_employed** заполнить сразу все пропуски в **total_income** используя только ранее используемый метод не получается. Остается большое количество пропусков. Поэтому, чтобы не потерять данные дополнительно создадим столбец **days_employed_kateg**. В стобце содержится текстовая информация о трудовом стаже разбитом на категории упростим задачу для Python."
   ]
  },
  {
   "cell_type": "code",
   "execution_count": 16,
   "metadata": {},
   "outputs": [],
   "source": [
    "def stag_by_category(row):\n",
    "    ONE_YEAR = 365\n",
    "    stag = row['new_days_employed']\n",
    "    \n",
    "    if 0 < stag < (ONE_YEAR * 5):\n",
    "        return 'Стаж 1 - 5 лет'\n",
    "    elif (ONE_YEAR * 5) < stag < (ONE_YEAR * 10):\n",
    "        return 'Стаж 5 - 10 лет'\n",
    "    elif (ONE_YEAR * 10) < stag < (ONE_YEAR * 15):\n",
    "        return 'Стаж 10 - 15 лет'\n",
    "    elif (ONE_YEAR * 15) < stag < (ONE_YEAR * 20):\n",
    "        return 'Стаж 15 - 20 лет'\n",
    "    elif (ONE_YEAR * 20) < stag < (ONE_YEAR * 25):\n",
    "        return 'Стаж 20 - 25 лет'\n",
    "    elif (ONE_YEAR * 25) < stag < (ONE_YEAR * 30):\n",
    "        return 'Стаж 25 - 30 лет'\n",
    "    else:\n",
    "        return 'более 30 лет'\n",
    "    \n",
    "data['days_employed_kateg'] = data.apply(stag_by_category, axis = 1)"
   ]
  },
  {
   "cell_type": "markdown",
   "metadata": {},
   "source": [
    "Наконец можно убрать все пропуски из столбца **total_income**"
   ]
  },
  {
   "cell_type": "code",
   "execution_count": 17,
   "metadata": {},
   "outputs": [],
   "source": [
    "medians = (data.groupby(['days_employed_kateg',\n",
    "                        'education'])).agg({'total_income':'median'}).rename(columns = {'total_income':'median_total_income'})\n",
    "\n",
    "data = data.merge(medians, on = ['days_employed_kateg',\n",
    "                                 'education'])\n",
    "\n",
    "data.loc[data['total_income'].isna(), 'total_income'] = data.loc[data['total_income'].isna(), 'median_total_income']\n",
    "\n",
    "data['total_income'] = data['total_income'].astype('int')"
   ]
  },
  {
   "cell_type": "code",
   "execution_count": 18,
   "metadata": {
    "scrolled": true
   },
   "outputs": [
    {
     "name": "stdout",
     "output_type": "stream",
     "text": [
      "children                0\n",
      "days_employed           0\n",
      "dob_years               0\n",
      "education               0\n",
      "education_id            0\n",
      "family_status           0\n",
      "family_status_id        0\n",
      "gender                  0\n",
      "income_type             0\n",
      "debt                    0\n",
      "total_income            0\n",
      "purpose                 0\n",
      "median_days_employed    0\n",
      "new_days_employed       0\n",
      "days_employed_kateg     0\n",
      "median_total_income     0\n",
      "dtype: int64\n"
     ]
    }
   ],
   "source": [
    "# Check nan values\n",
    "print(data.isnull().sum())"
   ]
  },
  {
   "cell_type": "markdown",
   "metadata": {},
   "source": [
    "Отлично, больше нет пропусков, можно приступить к следующему этапу."
   ]
  },
  {
   "cell_type": "markdown",
   "metadata": {},
   "source": [
    "### Дубликаты"
   ]
  },
  {
   "cell_type": "markdown",
   "metadata": {},
   "source": [
    "*Задача найти дубликаты и удалить их*. **Основных причин** появления дубликатов может быть несколько:\n",
    "+ При объединении разных быз данных, один и тотже человек мог быть добавлен несколько раз.\n",
    "+  В какой-то момент при заполнения человеком соответствующих данных компьютер завис после нажатия кнопки отправить, после чего выдал ошибку. При этом данные были отправлены в базу данных, но человек этого незнал и внес свои данные повторно."
   ]
  },
  {
   "cell_type": "markdown",
   "metadata": {},
   "source": [
    "**3.3.1** Считаем явные дубликаты в таблице"
   ]
  },
  {
   "cell_type": "code",
   "execution_count": 19,
   "metadata": {},
   "outputs": [
    {
     "name": "stdout",
     "output_type": "stream",
     "text": [
      "71\n"
     ]
    }
   ],
   "source": [
    "print(data.duplicated().sum())# подсчёт явных дубликатов"
   ]
  },
  {
   "cell_type": "markdown",
   "metadata": {},
   "source": [
    "**3.3.2** Вызываем специальный метод pandas и удаляем явные дубликаты"
   ]
  },
  {
   "cell_type": "code",
   "execution_count": 20,
   "metadata": {},
   "outputs": [],
   "source": [
    "data = data.drop_duplicates().reset_index(drop = True)  # удаление явных дубликатов\n",
    "                                                        # (с удалением старых индексов и формированием новых)"
   ]
  },
  {
   "cell_type": "markdown",
   "metadata": {},
   "source": [
    "**3.3.3** Убеждаемся, что все явные дубликаты в таблице удалены"
   ]
  },
  {
   "cell_type": "code",
   "execution_count": 21,
   "metadata": {},
   "outputs": [
    {
     "name": "stdout",
     "output_type": "stream",
     "text": [
      "0\n"
     ]
    }
   ],
   "source": [
    "print(data.duplicated().sum()) # проверка на отсутствие дубликатов"
   ]
  },
  {
   "cell_type": "markdown",
   "metadata": {},
   "source": [
    "**3.3.4** Поиск неявных дубликатов, или некорректных названий был выполнен ранее, поэтому в данном разделе данный поиск повторно выполнятся не будет."
   ]
  },
  {
   "cell_type": "markdown",
   "metadata": {},
   "source": [
    "### Лемматизация"
   ]
  },
  {
   "cell_type": "code",
   "execution_count": 22,
   "metadata": {},
   "outputs": [
    {
     "name": "stdout",
     "output_type": "stream",
     "text": [
      "Counter({' ': 54999, 'недвижимость': 6345, 'покупка': 5894, 'жилье': 4459, 'автомобиль': 4304, 'образование': 4013, 'с': 2917, 'операция': 2602, 'свадьба': 2323, 'свой': 2228, 'на': 2222, 'строительство': 1877, 'высокий': 1374, 'получение': 1314, 'коммерческий': 1310, 'для': 1289, 'жилой': 1230, 'сделка': 941, 'дополнительный': 906, 'заниматься': 904, 'подержать': 837, 'проведение': 768, 'сыграть': 764, 'сдача': 651, 'семья': 638, 'собственный': 634, 'со': 626, 'ремонт': 607, 'приобретение': 460, 'профильный': 436, 'подержанный': 127, '\\n': 1})\n"
     ]
    }
   ],
   "source": [
    "from pymystem3 import Mystem        # \n",
    "from collections import Counter\n",
    "\n",
    "m = Mystem() \n",
    "\n",
    "lemma = m.lemmatize(' '.join(data['purpose']))\n",
    "print(Counter(lemma)) "
   ]
  },
  {
   "cell_type": "markdown",
   "metadata": {},
   "source": [
    "На основе лемматизации определили, что есть несколько наиболее частотных слов, которые мы можем использовать для создания специальных категорий (Причем лучше использовать существительные, а не глаголы):\n",
    "1. недвижимость и жилье;\n",
    "2. автомобиль;\n",
    "3. образование;\n",
    "4. операция;\n",
    "5. свадьба"
   ]
  },
  {
   "cell_type": "code",
   "execution_count": 23,
   "metadata": {},
   "outputs": [],
   "source": [
    "def purpose_by_category(row):\n",
    "    purpose = row['purpose']\n",
    "    \n",
    "    if ('жиль' in purpose) or ('недвиж' in purpose):\n",
    "        return 'недвижимость'\n",
    "    elif ('авто' in purpose):\n",
    "        return 'авто'\n",
    "    elif ('образов' in purpose):\n",
    "        return 'образование'\n",
    "    #elif ('опер' in purpose):\n",
    "    #    return 'операция'\n",
    "    else:\n",
    "        return 'свадьба'\n",
    "\n",
    "    \n",
    "data['new_purpose'] = data.apply(purpose_by_category, axis = 1)"
   ]
  },
  {
   "cell_type": "markdown",
   "metadata": {},
   "source": [
    "Остался последний столбец, который нужно обратотать, прежде чем приступить к ответам на вопросы. А именно столбец с зарплатами. Создадим категории:"
   ]
  },
  {
   "cell_type": "code",
   "execution_count": 26,
   "metadata": {},
   "outputs": [],
   "source": [
    "# задам уровни дохода \n",
    "\n",
    "def salary_by_category(row):\n",
    "    salary = row['total_income']\n",
    "    \n",
    "    if 0 < salary <= 25000:\n",
    "        return 'очень бедные'\n",
    "    elif 25000 < salary <= 50000:\n",
    "        return 'бедные'\n",
    "    elif 50000 < salary <= 100000:\n",
    "        return 'средний класс'\n",
    "    elif 100000 < salary <= 200000:\n",
    "        return 'почти богаты'\n",
    "    else:\n",
    "        return 'богатые'\n",
    "\n",
    "    \n",
    "data['new_salary'] = data.apply(salary_by_category, axis = 1)"
   ]
  },
  {
   "cell_type": "markdown",
   "metadata": {},
   "source": [
    "В результате предобработки данных были созданы три  дополнительных столбца:**days_employed_kateg**, **new_purpose** и **new_salary**,приступим к ответам на вопросы."
   ]
  },
  {
   "cell_type": "markdown",
   "metadata": {},
   "source": [
    "## Ответьте на вопросы"
   ]
  },
  {
   "cell_type": "markdown",
   "metadata": {},
   "source": [
    "### Есть ли зависимость между наличием детей и возвратом кредита в срок?"
   ]
  },
  {
   "cell_type": "code",
   "execution_count": 31,
   "metadata": {},
   "outputs": [
    {
     "data": {
      "text/html": [
       "<style  type=\"text/css\" >\n",
       "</style><table id=\"T_e02f5_\" ><thead>    <tr>        <th class=\"blank level0\" ></th>        <th class=\"col_heading level0 col0\" colspan=\"2\">Описательная статистика</th>    </tr>    <tr>        <th class=\"blank level1\" ></th>        <th class=\"col_heading level1 col0\" >%невозврата</th>        <th class=\"col_heading level1 col1\" >Количество заемщиков</th>    </tr>    <tr>        <th class=\"index_name level0\" >Количество детей</th>        <th class=\"blank\" ></th>        <th class=\"blank\" ></th>    </tr></thead><tbody>\n",
       "                <tr>\n",
       "                        <th id=\"T_e02f5_level0_row0\" class=\"row_heading level0 row0\" >0</th>\n",
       "                        <td id=\"T_e02f5_row0_col0\" class=\"data row0 col0\" >7.55%</td>\n",
       "                        <td id=\"T_e02f5_row0_col1\" class=\"data row0 col1\" >14084.0</td>\n",
       "            </tr>\n",
       "            <tr>\n",
       "                        <th id=\"T_e02f5_level0_row1\" class=\"row_heading level0 row1\" >1</th>\n",
       "                        <td id=\"T_e02f5_row1_col0\" class=\"data row1 col0\" >9.17%</td>\n",
       "                        <td id=\"T_e02f5_row1_col1\" class=\"data row1 col1\" >4853.0</td>\n",
       "            </tr>\n",
       "            <tr>\n",
       "                        <th id=\"T_e02f5_level0_row2\" class=\"row_heading level0 row2\" >2</th>\n",
       "                        <td id=\"T_e02f5_row2_col0\" class=\"data row2 col0\" >9.45%</td>\n",
       "                        <td id=\"T_e02f5_row2_col1\" class=\"data row2 col1\" >2127.0</td>\n",
       "            </tr>\n",
       "            <tr>\n",
       "                        <th id=\"T_e02f5_level0_row3\" class=\"row_heading level0 row3\" >3</th>\n",
       "                        <td id=\"T_e02f5_row3_col0\" class=\"data row3 col0\" >8.18%</td>\n",
       "                        <td id=\"T_e02f5_row3_col1\" class=\"data row3 col1\" >330.0</td>\n",
       "            </tr>\n",
       "            <tr>\n",
       "                        <th id=\"T_e02f5_level0_row4\" class=\"row_heading level0 row4\" >4</th>\n",
       "                        <td id=\"T_e02f5_row4_col0\" class=\"data row4 col0\" >9.76%</td>\n",
       "                        <td id=\"T_e02f5_row4_col1\" class=\"data row4 col1\" >41.0</td>\n",
       "            </tr>\n",
       "            <tr>\n",
       "                        <th id=\"T_e02f5_level0_row5\" class=\"row_heading level0 row5\" >5</th>\n",
       "                        <td id=\"T_e02f5_row5_col0\" class=\"data row5 col0\" >0.00%</td>\n",
       "                        <td id=\"T_e02f5_row5_col1\" class=\"data row5 col1\" >9.0</td>\n",
       "            </tr>\n",
       "    </tbody></table>"
      ],
      "text/plain": [
       "<pandas.io.formats.style.Styler at 0x7fe6bbee9970>"
      ]
     },
     "execution_count": 31,
     "metadata": {},
     "output_type": "execute_result"
    }
   ],
   "source": [
    "report = data.groupby('children').agg({'debt':['mean', 'count']})\n",
    "\n",
    "report = report.rename(columns = {'debt' :'Описательная статистика'}, level = 0)\n",
    "report = report.rename(columns = {'count':'Количество заемщиков',\n",
    "                                  'mean' :'%невозврата'        }, level = 1)\n",
    "\n",
    "report.index = report.index.rename('Количество детей')\n",
    "\n",
    "report.style.format(formatter={('Описательная статистика', '%невозврата'         ): \"{:.2%}\",\n",
    "                                        ('Описательная статистика', 'Количество заемщиков'): \"{:.1f}\"})\n",
    "\n"
   ]
  },
  {
   "cell_type": "markdown",
   "metadata": {},
   "source": [
    "**Вывод**: Определить какую либо строгую связь между наличием детей и возвратом кредита в срок определить довольно сложно. Процентное соотношение приблизительно равно. При этом семьи с 5 детьми каждый раз возвращали кредиты вовремя. "
   ]
  },
  {
   "cell_type": "markdown",
   "metadata": {},
   "source": [
    "### Есть ли зависимость между семейным положением и возвратом кредита в срок?"
   ]
  },
  {
   "cell_type": "code",
   "execution_count": 34,
   "metadata": {},
   "outputs": [
    {
     "data": {
      "text/html": [
       "<style  type=\"text/css\" >\n",
       "</style><table id=\"T_13c7f_\" ><thead>    <tr>        <th class=\"blank level0\" ></th>        <th class=\"col_heading level0 col0\" colspan=\"2\">Описательная статистика</th>    </tr>    <tr>        <th class=\"blank level1\" ></th>        <th class=\"col_heading level1 col0\" >%невозврата</th>        <th class=\"col_heading level1 col1\" >Количество заемщиков</th>    </tr>    <tr>        <th class=\"index_name level0\" >Семейное положение</th>        <th class=\"blank\" ></th>        <th class=\"blank\" ></th>    </tr></thead><tbody>\n",
       "                <tr>\n",
       "                        <th id=\"T_13c7f_level0_row0\" class=\"row_heading level0 row0\" >в разводе</th>\n",
       "                        <td id=\"T_13c7f_row0_col0\" class=\"data row0 col0\" >7.12%</td>\n",
       "                        <td id=\"T_13c7f_row0_col1\" class=\"data row0 col1\" >1194.0</td>\n",
       "            </tr>\n",
       "            <tr>\n",
       "                        <th id=\"T_13c7f_level0_row1\" class=\"row_heading level0 row1\" >вдовец / вдова</th>\n",
       "                        <td id=\"T_13c7f_row1_col0\" class=\"data row1 col0\" >6.58%</td>\n",
       "                        <td id=\"T_13c7f_row1_col1\" class=\"data row1 col1\" >958.0</td>\n",
       "            </tr>\n",
       "            <tr>\n",
       "                        <th id=\"T_13c7f_level0_row2\" class=\"row_heading level0 row2\" >гражданский брак</th>\n",
       "                        <td id=\"T_13c7f_row2_col0\" class=\"data row2 col0\" >9.35%</td>\n",
       "                        <td id=\"T_13c7f_row2_col1\" class=\"data row2 col1\" >4149.0</td>\n",
       "            </tr>\n",
       "            <tr>\n",
       "                        <th id=\"T_13c7f_level0_row3\" class=\"row_heading level0 row3\" >женат / замужем</th>\n",
       "                        <td id=\"T_13c7f_row3_col0\" class=\"data row3 col0\" >7.54%</td>\n",
       "                        <td id=\"T_13c7f_row3_col1\" class=\"data row3 col1\" >12336.0</td>\n",
       "            </tr>\n",
       "            <tr>\n",
       "                        <th id=\"T_13c7f_level0_row4\" class=\"row_heading level0 row4\" >не женат / не замужем</th>\n",
       "                        <td id=\"T_13c7f_row4_col0\" class=\"data row4 col0\" >9.76%</td>\n",
       "                        <td id=\"T_13c7f_row4_col1\" class=\"data row4 col1\" >2807.0</td>\n",
       "            </tr>\n",
       "    </tbody></table>"
      ],
      "text/plain": [
       "<pandas.io.formats.style.Styler at 0x7fe6b83bf130>"
      ]
     },
     "execution_count": 34,
     "metadata": {},
     "output_type": "execute_result"
    }
   ],
   "source": [
    "report = data.groupby('family_status').agg({'debt':['mean', 'count']})\n",
    "\n",
    "report = report.rename(columns = {'debt' :'Описательная статистика'}, level = 0)\n",
    "report = report.rename(columns = {'count':'Количество заемщиков',\n",
    "                                  'mean' :'%невозврата'        }, level = 1)\n",
    "\n",
    "report.index = report.index.rename('Семейное положение')\n",
    "\n",
    "report.style.format(formatter={('Описательная статистика', '%невозврата'         ): \"{:.2%}\",\n",
    "                               ('Описательная статистика', 'Количество заемщиков'): \"{:.1f}\"})\n"
   ]
  },
  {
   "cell_type": "markdown",
   "metadata": {},
   "source": [
    "**Вывод**: Выделить строгую связь по прежнему проблематично. Данные показывают, что есть две категории граждан (гражданский брак и не женат / не замужен), где процент невозврата выше, но при этом отличия в 3 % непозволяет с уверенностью дать ответ на вопрос, что семейные пары возвращают кредит всегда в срок."
   ]
  },
  {
   "cell_type": "markdown",
   "metadata": {},
   "source": [
    "### Есть ли зависимость между уровнем дохода и возвратом кредита в срок?"
   ]
  },
  {
   "cell_type": "code",
   "execution_count": 35,
   "metadata": {},
   "outputs": [
    {
     "data": {
      "text/html": [
       "<style  type=\"text/css\" >\n",
       "</style><table id=\"T_c0c2c_\" ><thead>    <tr>        <th class=\"blank level0\" ></th>        <th class=\"col_heading level0 col0\" colspan=\"2\">Описательная статистика</th>    </tr>    <tr>        <th class=\"blank level1\" ></th>        <th class=\"col_heading level1 col0\" >%невозврата</th>        <th class=\"col_heading level1 col1\" >Количество заемщиков</th>    </tr>    <tr>        <th class=\"index_name level0\" >Уровень дохода</th>        <th class=\"blank\" ></th>        <th class=\"blank\" ></th>    </tr></thead><tbody>\n",
       "                <tr>\n",
       "                        <th id=\"T_c0c2c_level0_row0\" class=\"row_heading level0 row0\" >бедные</th>\n",
       "                        <td id=\"T_c0c2c_row0_col0\" class=\"data row0 col0\" >6.04%</td>\n",
       "                        <td id=\"T_c0c2c_row0_col1\" class=\"data row0 col1\" >364.0</td>\n",
       "            </tr>\n",
       "            <tr>\n",
       "                        <th id=\"T_c0c2c_level0_row1\" class=\"row_heading level0 row1\" >богатые</th>\n",
       "                        <td id=\"T_c0c2c_row1_col0\" class=\"data row1 col0\" >7.07%</td>\n",
       "                        <td id=\"T_c0c2c_row1_col1\" class=\"data row1 col1\" >5067.0</td>\n",
       "            </tr>\n",
       "            <tr>\n",
       "                        <th id=\"T_c0c2c_level0_row2\" class=\"row_heading level0 row2\" >очень бедные</th>\n",
       "                        <td id=\"T_c0c2c_row2_col0\" class=\"data row2 col0\" >12.50%</td>\n",
       "                        <td id=\"T_c0c2c_row2_col1\" class=\"data row2 col1\" >8.0</td>\n",
       "            </tr>\n",
       "            <tr>\n",
       "                        <th id=\"T_c0c2c_level0_row3\" class=\"row_heading level0 row3\" >почти богаты</th>\n",
       "                        <td id=\"T_c0c2c_row3_col0\" class=\"data row3 col0\" >8.63%</td>\n",
       "                        <td id=\"T_c0c2c_row3_col1\" class=\"data row3 col1\" >11914.0</td>\n",
       "            </tr>\n",
       "            <tr>\n",
       "                        <th id=\"T_c0c2c_level0_row4\" class=\"row_heading level0 row4\" >средний класс</th>\n",
       "                        <td id=\"T_c0c2c_row4_col0\" class=\"data row4 col0\" >8.09%</td>\n",
       "                        <td id=\"T_c0c2c_row4_col1\" class=\"data row4 col1\" >4091.0</td>\n",
       "            </tr>\n",
       "    </tbody></table>"
      ],
      "text/plain": [
       "<pandas.io.formats.style.Styler at 0x7fe6b8389760>"
      ]
     },
     "execution_count": 35,
     "metadata": {},
     "output_type": "execute_result"
    }
   ],
   "source": [
    "# Group data\n",
    "report = data.groupby('new_salary').agg({'debt':['mean', 'count']})\n",
    "\n",
    "# Rename columns \n",
    "report = report.rename(columns = {'debt' :'Описательная статистика'}, level = 0)\n",
    "report = report.rename(columns = {'count':'Количество заемщиков',\n",
    "                                  'mean' :'%невозврата'        }, level = 1)\n",
    "\n",
    "# Rename index\n",
    "report.index = report.index.rename('Уровень дохода')\n",
    "\n",
    "# Change output format --> only view\n",
    "report.style.format(formatter={('Описательная статистика', '%невозврата'         ): \"{:.2%}\",\n",
    "                               ('Описательная статистика', 'Количество заемщиков'): \"{:.1f}\"})"
   ]
  },
  {
   "cell_type": "markdown",
   "metadata": {},
   "source": [
    "**Вывод**: Данные показывают, что есть связь между % невозрата и уровнем зарплаты. Так в 8 случае с крайне низким доходом, наблюдается 12.5% невозвратов. При этом люди с низким доходом старатся выплачивать кредиты вовремя. "
   ]
  },
  {
   "cell_type": "markdown",
   "metadata": {},
   "source": [
    "### Как разные цели кредита влияют на его возврат в срок?"
   ]
  },
  {
   "cell_type": "code",
   "execution_count": 37,
   "metadata": {},
   "outputs": [
    {
     "data": {
      "text/html": [
       "<style  type=\"text/css\" >\n",
       "</style><table id=\"T_c4648_\" ><thead>    <tr>        <th class=\"blank level0\" ></th>        <th class=\"col_heading level0 col0\" colspan=\"2\">Описательная статистика</th>    </tr>    <tr>        <th class=\"blank level1\" ></th>        <th class=\"col_heading level1 col0\" >%невозврата</th>        <th class=\"col_heading level1 col1\" >Количество заемщиков</th>    </tr>    <tr>        <th class=\"index_name level0\" >Цель кредита</th>        <th class=\"blank\" ></th>        <th class=\"blank\" ></th>    </tr></thead><tbody>\n",
       "                <tr>\n",
       "                        <th id=\"T_c4648_level0_row0\" class=\"row_heading level0 row0\" >авто</th>\n",
       "                        <td id=\"T_c4648_row0_col0\" class=\"data row0 col0\" >9.36%</td>\n",
       "                        <td id=\"T_c4648_row0_col1\" class=\"data row0 col1\" >4304.0</td>\n",
       "            </tr>\n",
       "            <tr>\n",
       "                        <th id=\"T_c4648_level0_row1\" class=\"row_heading level0 row1\" >недвижимость</th>\n",
       "                        <td id=\"T_c4648_row1_col0\" class=\"data row1 col0\" >7.23%</td>\n",
       "                        <td id=\"T_c4648_row1_col1\" class=\"data row1 col1\" >10804.0</td>\n",
       "            </tr>\n",
       "            <tr>\n",
       "                        <th id=\"T_c4648_level0_row2\" class=\"row_heading level0 row2\" >образование</th>\n",
       "                        <td id=\"T_c4648_row2_col0\" class=\"data row2 col0\" >9.22%</td>\n",
       "                        <td id=\"T_c4648_row2_col1\" class=\"data row2 col1\" >4013.0</td>\n",
       "            </tr>\n",
       "            <tr>\n",
       "                        <th id=\"T_c4648_level0_row3\" class=\"row_heading level0 row3\" >свадьба</th>\n",
       "                        <td id=\"T_c4648_row3_col0\" class=\"data row3 col0\" >8.01%</td>\n",
       "                        <td id=\"T_c4648_row3_col1\" class=\"data row3 col1\" >2323.0</td>\n",
       "            </tr>\n",
       "    </tbody></table>"
      ],
      "text/plain": [
       "<pandas.io.formats.style.Styler at 0x7fe6b8d8da90>"
      ]
     },
     "execution_count": 37,
     "metadata": {},
     "output_type": "execute_result"
    }
   ],
   "source": [
    "report = data.groupby('new_purpose').agg({'debt':['mean', 'count']})\n",
    "\n",
    "report = report.rename(columns = {'debt' :'Описательная статистика'}, level = 0)\n",
    "report = report.rename(columns = {'count':'Количество заемщиков',\n",
    "                                  'mean' :'%невозврата'        }, level = 1)\n",
    "\n",
    "report.index = report.index.rename('Цель кредита')\n",
    "\n",
    "report.style.format(formatter={('Описательная статистика', '%невозврата'         ): \"{:.2%}\",\n",
    "                               ('Описательная статистика', 'Количество заемщиков'): \"{:.1f}\"})\n",
    "\n"
   ]
  },
  {
   "cell_type": "markdown",
   "metadata": {},
   "source": [
    "**Вывод**: Наибольший процент невозврата кредита в срок наблюдается при взятии кредита для образовательных целей. Данный факт можно объяснить тем, что получение образования стоит денег, а получения выгод из наличия образования может проявлятся не сразу. Наибольшее количество обращений связано с недвижимостью, при этом люди стараются выплачивать такие кредиты в срок и процент невозврата у данной категории наименьший. Данный факт также можно объяснить тем, что на покупку недвижимости люди решаются имея стабильную работу и зарплату (в большинстве случаев), что и позволяет им вовремя производить кредитный выплаты."
   ]
  },
  {
   "cell_type": "markdown",
   "metadata": {},
   "source": [
    "## Общий вывод"
   ]
  },
  {
   "cell_type": "markdown",
   "metadata": {},
   "source": [
    "В заключении можно отметить, что все выше полученные выводы являются спорными и для однозначного ответа на поставленные вопросы требуется проведение дополнительного статистического анализа данных. Только группировки, явно недостаточно. При этом можно отметить, что наиболее надежными являются люди, которые берут кредит с целью покупки недвижимости. Связано это прежде всего с тем, что чаще всего необходимость покупки собственного жилья возникает у женатых людей с наличием детей. Кроме того, как правило, такие люди имеют стабильную работу и определенный уровень образования, которые может гарантировать им некоторую уверенность. Поэтому кредиты на покупку недвижимости обладают наименьшим процентом невозврата.\n",
    "\n",
    "Наибольший риск невозврата по кредитам может быть отмечен у не женатых людей, без детей, которые берут кредит с целью получения образования или покупки авто.Данный факт, также можно легко объяснить человеческим фактором. Как правило - это молодые люди, которые неимеют стабильного дохода, что и не позволяет им делать выплаты в срок. Такие кредиты являются более рискованными. "
   ]
  }
 ],
 "metadata": {
  "ExecuteTimeLog": [
   {
    "duration": 1880,
    "start_time": "2021-11-08T17:07:18.129Z"
   },
   {
    "duration": 619,
    "start_time": "2021-11-08T17:08:38.683Z"
   },
   {
    "duration": 10,
    "start_time": "2021-11-08T17:08:50.243Z"
   },
   {
    "duration": 5,
    "start_time": "2021-11-08T17:09:27.374Z"
   },
   {
    "duration": 64,
    "start_time": "2021-11-08T17:10:05.020Z"
   },
   {
    "duration": 4,
    "start_time": "2021-11-08T17:10:26.701Z"
   },
   {
    "duration": 58,
    "start_time": "2021-11-08T17:11:04.667Z"
   },
   {
    "duration": 15,
    "start_time": "2021-11-08T17:11:31.062Z"
   },
   {
    "duration": 55,
    "start_time": "2021-11-08T17:11:39.045Z"
   },
   {
    "duration": 19,
    "start_time": "2021-11-08T17:11:48.069Z"
   },
   {
    "duration": 10,
    "start_time": "2021-11-08T17:12:27.956Z"
   },
   {
    "duration": 45,
    "start_time": "2021-11-08T17:12:41.495Z"
   },
   {
    "duration": 41,
    "start_time": "2021-11-08T17:12:56.471Z"
   },
   {
    "duration": 25,
    "start_time": "2021-11-08T17:13:15.167Z"
   },
   {
    "duration": 24,
    "start_time": "2021-11-08T17:13:30.824Z"
   },
   {
    "duration": 360,
    "start_time": "2021-11-08T17:13:48.271Z"
   },
   {
    "duration": 21,
    "start_time": "2021-11-08T17:13:54.792Z"
   },
   {
    "duration": 225,
    "start_time": "2021-11-08T17:14:17.704Z"
   },
   {
    "duration": 45,
    "start_time": "2021-11-08T17:14:33.969Z"
   },
   {
    "duration": 18,
    "start_time": "2021-11-08T17:14:44.400Z"
   },
   {
    "duration": 60,
    "start_time": "2021-11-08T17:15:17.320Z"
   },
   {
    "duration": 31,
    "start_time": "2021-11-08T17:16:07.161Z"
   },
   {
    "duration": 33,
    "start_time": "2021-11-08T17:16:22.099Z"
   },
   {
    "duration": 28,
    "start_time": "2021-11-08T17:16:39.739Z"
   },
   {
    "duration": 4,
    "start_time": "2021-11-08T17:17:50.482Z"
   },
   {
    "duration": 2597,
    "start_time": "2021-11-08T17:22:26.342Z"
   },
   {
    "duration": 2505,
    "start_time": "2021-11-08T17:22:34.639Z"
   },
   {
    "duration": 223,
    "start_time": "2021-11-08T17:34:11.448Z"
   },
   {
    "duration": 14,
    "start_time": "2021-11-08T17:36:15.316Z"
   },
   {
    "duration": 230,
    "start_time": "2021-11-08T17:37:08.851Z"
   },
   {
    "duration": 13,
    "start_time": "2021-11-08T17:37:10.349Z"
   },
   {
    "duration": 16,
    "start_time": "2021-11-08T17:37:34.116Z"
   },
   {
    "duration": 226,
    "start_time": "2021-11-08T17:38:14.286Z"
   },
   {
    "duration": 16,
    "start_time": "2021-11-08T17:38:15.150Z"
   },
   {
    "duration": 227,
    "start_time": "2021-11-08T17:39:48.439Z"
   },
   {
    "duration": 21,
    "start_time": "2021-11-08T17:39:52.472Z"
   },
   {
    "duration": 175,
    "start_time": "2021-11-08T17:45:31.651Z"
   },
   {
    "duration": 30,
    "start_time": "2021-11-08T17:45:37.660Z"
   },
   {
    "duration": 37,
    "start_time": "2021-11-08T17:45:52.172Z"
   },
   {
    "duration": 37,
    "start_time": "2021-11-08T17:46:01.302Z"
   },
   {
    "duration": 38,
    "start_time": "2021-11-08T17:46:06.684Z"
   },
   {
    "duration": 5,
    "start_time": "2021-11-08T17:50:14.327Z"
   },
   {
    "duration": 5,
    "start_time": "2021-11-08T17:50:40.880Z"
   },
   {
    "duration": 4,
    "start_time": "2021-11-08T17:51:27.065Z"
   },
   {
    "duration": 4,
    "start_time": "2021-11-08T17:53:39.962Z"
   },
   {
    "duration": 5,
    "start_time": "2021-11-08T17:55:49.381Z"
   },
   {
    "duration": 4,
    "start_time": "2021-11-08T17:56:57.229Z"
   },
   {
    "duration": 5039,
    "start_time": "2021-11-08T18:06:19.909Z"
   },
   {
    "duration": 222,
    "start_time": "2021-11-08T18:06:38.124Z"
   },
   {
    "duration": 17,
    "start_time": "2021-11-08T18:06:40.405Z"
   },
   {
    "duration": 12,
    "start_time": "2021-11-08T18:10:35.425Z"
   },
   {
    "duration": 57,
    "start_time": "2021-11-08T18:13:19.602Z"
   },
   {
    "duration": 8,
    "start_time": "2021-11-08T18:13:41.380Z"
   },
   {
    "duration": 13,
    "start_time": "2021-11-08T18:13:55.292Z"
   },
   {
    "duration": 329,
    "start_time": "2021-11-08T18:19:34.601Z"
   },
   {
    "duration": 17,
    "start_time": "2021-11-08T18:20:33.474Z"
   },
   {
    "duration": 17,
    "start_time": "2021-11-08T18:20:35.746Z"
   },
   {
    "duration": 21,
    "start_time": "2021-11-08T18:20:51.938Z"
   },
   {
    "duration": 21,
    "start_time": "2021-11-08T18:21:12.938Z"
   },
   {
    "duration": 334,
    "start_time": "2021-11-09T08:44:03.333Z"
   },
   {
    "duration": 844,
    "start_time": "2021-11-09T08:44:07.744Z"
   },
   {
    "duration": 14,
    "start_time": "2021-11-09T08:44:08.591Z"
   },
   {
    "duration": 6,
    "start_time": "2021-11-09T08:44:08.916Z"
   },
   {
    "duration": 83,
    "start_time": "2021-11-09T08:44:09.454Z"
   },
   {
    "duration": 5,
    "start_time": "2021-11-09T08:44:10.005Z"
   },
   {
    "duration": 79,
    "start_time": "2021-11-09T08:44:10.207Z"
   },
   {
    "duration": 22,
    "start_time": "2021-11-09T08:44:10.782Z"
   },
   {
    "duration": 26,
    "start_time": "2021-11-09T08:44:11.182Z"
   },
   {
    "duration": 25,
    "start_time": "2021-11-09T08:44:11.776Z"
   },
   {
    "duration": 67,
    "start_time": "2021-11-09T08:44:12.157Z"
   },
   {
    "duration": 72,
    "start_time": "2021-11-09T08:44:12.544Z"
   },
   {
    "duration": 35,
    "start_time": "2021-11-09T08:44:12.903Z"
   },
   {
    "duration": 36,
    "start_time": "2021-11-09T08:44:13.328Z"
   },
   {
    "duration": 618,
    "start_time": "2021-11-09T08:44:13.660Z"
   },
   {
    "duration": 46,
    "start_time": "2021-11-09T08:44:14.280Z"
   },
   {
    "duration": 421,
    "start_time": "2021-11-09T08:44:14.329Z"
   },
   {
    "duration": 71,
    "start_time": "2021-11-09T08:44:14.753Z"
   },
   {
    "duration": 23,
    "start_time": "2021-11-09T08:44:15.094Z"
   },
   {
    "duration": 49,
    "start_time": "2021-11-09T08:44:16.254Z"
   },
   {
    "duration": 44,
    "start_time": "2021-11-09T08:44:16.668Z"
   },
   {
    "duration": 37,
    "start_time": "2021-11-09T08:44:17.068Z"
   },
   {
    "duration": 3345,
    "start_time": "2021-11-09T08:44:17.677Z"
   },
   {
    "duration": 426,
    "start_time": "2021-11-09T08:44:21.025Z"
   },
   {
    "duration": 28,
    "start_time": "2021-11-09T08:44:21.454Z"
   },
   {
    "duration": 421,
    "start_time": "2021-11-09T08:44:21.485Z"
   },
   {
    "duration": 34,
    "start_time": "2021-11-09T08:44:21.909Z"
   },
   {
    "duration": 771,
    "start_time": "2021-11-09T08:44:26.431Z"
   },
   {
    "duration": 33,
    "start_time": "2021-11-09T08:44:40.709Z"
   },
   {
    "duration": 31,
    "start_time": "2021-11-09T08:45:35.690Z"
   },
   {
    "duration": 35,
    "start_time": "2021-11-09T08:46:15.919Z"
   },
   {
    "duration": 33,
    "start_time": "2021-11-09T08:47:52.576Z"
   },
   {
    "duration": 32,
    "start_time": "2021-11-09T08:47:54.767Z"
   },
   {
    "duration": 32,
    "start_time": "2021-11-09T08:48:02.751Z"
   },
   {
    "duration": 30,
    "start_time": "2021-11-09T08:48:06.143Z"
   },
   {
    "duration": 22,
    "start_time": "2021-11-09T08:48:29.856Z"
   },
   {
    "duration": 22,
    "start_time": "2021-11-09T08:48:50.369Z"
   },
   {
    "duration": 407,
    "start_time": "2021-11-09T08:49:47.234Z"
   },
   {
    "duration": 468,
    "start_time": "2021-11-09T08:50:37.866Z"
   },
   {
    "duration": 339,
    "start_time": "2021-11-09T08:51:14.931Z"
   },
   {
    "duration": 321,
    "start_time": "2021-11-09T08:52:13.980Z"
   },
   {
    "duration": 320,
    "start_time": "2021-11-09T08:52:50.108Z"
   },
   {
    "duration": 34,
    "start_time": "2021-11-09T08:53:03.525Z"
   },
   {
    "duration": 33,
    "start_time": "2021-11-09T08:53:07.340Z"
   },
   {
    "duration": 290,
    "start_time": "2021-11-09T08:53:19.476Z"
   },
   {
    "duration": 33,
    "start_time": "2021-11-09T08:53:26.198Z"
   },
   {
    "duration": 33,
    "start_time": "2021-11-09T08:53:37.620Z"
   },
   {
    "duration": 35,
    "start_time": "2021-11-09T08:54:29.924Z"
   },
   {
    "duration": 49,
    "start_time": "2021-11-09T08:54:45.420Z"
   },
   {
    "duration": 269,
    "start_time": "2021-11-09T08:58:21.503Z"
   },
   {
    "duration": 271,
    "start_time": "2021-11-09T08:58:32.023Z"
   },
   {
    "duration": 702,
    "start_time": "2021-11-09T08:58:49.112Z"
   },
   {
    "duration": 786,
    "start_time": "2021-11-09T08:59:27.424Z"
   },
   {
    "duration": 688,
    "start_time": "2021-11-09T08:59:43.241Z"
   },
   {
    "duration": 270,
    "start_time": "2021-11-09T09:00:07.944Z"
   },
   {
    "duration": 279,
    "start_time": "2021-11-09T09:00:18.800Z"
   },
   {
    "duration": 5,
    "start_time": "2021-11-09T09:00:35.281Z"
   },
   {
    "duration": 355,
    "start_time": "2021-11-09T09:02:44.978Z"
   },
   {
    "duration": 297,
    "start_time": "2021-11-09T09:03:21.783Z"
   },
   {
    "duration": 340,
    "start_time": "2021-11-09T09:06:45.990Z"
   },
   {
    "duration": 5,
    "start_time": "2021-11-09T09:06:55.517Z"
   },
   {
    "duration": 280,
    "start_time": "2021-11-09T09:08:26.239Z"
   },
   {
    "duration": 317,
    "start_time": "2021-11-09T09:09:12.400Z"
   },
   {
    "duration": 280,
    "start_time": "2021-11-09T09:09:41.504Z"
   },
   {
    "duration": 275,
    "start_time": "2021-11-09T09:10:53.129Z"
   },
   {
    "duration": 272,
    "start_time": "2021-11-09T09:11:54.651Z"
   },
   {
    "duration": 33,
    "start_time": "2021-11-09T09:11:58.362Z"
   },
   {
    "duration": 9,
    "start_time": "2021-11-09T09:12:03.186Z"
   },
   {
    "duration": 10,
    "start_time": "2021-11-09T09:12:53.555Z"
   },
   {
    "duration": 1104,
    "start_time": "2021-11-09T09:13:09.218Z"
   },
   {
    "duration": 1069,
    "start_time": "2021-11-09T09:13:16.179Z"
   },
   {
    "duration": 102,
    "start_time": "2021-11-09T09:15:26.612Z"
   },
   {
    "duration": 718,
    "start_time": "2021-11-09T09:15:32.084Z"
   },
   {
    "duration": 713,
    "start_time": "2021-11-09T09:15:38.580Z"
   },
   {
    "duration": 1652,
    "start_time": "2021-11-09T09:15:54.404Z"
   },
   {
    "duration": 1010,
    "start_time": "2021-11-09T09:16:32.317Z"
   },
   {
    "duration": 780,
    "start_time": "2021-11-09T09:16:49.476Z"
   },
   {
    "duration": 14,
    "start_time": "2021-11-09T09:17:15.430Z"
   },
   {
    "duration": 709,
    "start_time": "2021-11-09T09:19:06.998Z"
   },
   {
    "duration": 697,
    "start_time": "2021-11-09T09:19:37.167Z"
   },
   {
    "duration": 742,
    "start_time": "2021-11-09T09:20:15.378Z"
   },
   {
    "duration": 5616,
    "start_time": "2021-11-09T09:20:25.656Z"
   },
   {
    "duration": 11,
    "start_time": "2021-11-09T09:20:50.424Z"
   },
   {
    "duration": 715,
    "start_time": "2021-11-09T09:20:59.632Z"
   },
   {
    "duration": 603,
    "start_time": "2021-11-09T09:21:19.688Z"
   },
   {
    "duration": 9,
    "start_time": "2021-11-09T09:22:24.890Z"
   },
   {
    "duration": 29,
    "start_time": "2021-11-09T09:23:10.842Z"
   },
   {
    "duration": 29,
    "start_time": "2021-11-09T09:23:17.914Z"
   },
   {
    "duration": 32,
    "start_time": "2021-11-09T09:23:23.548Z"
   },
   {
    "duration": 30,
    "start_time": "2021-11-09T09:23:26.762Z"
   },
   {
    "duration": 9,
    "start_time": "2021-11-09T09:23:31.450Z"
   },
   {
    "duration": 12,
    "start_time": "2021-11-09T09:23:38.802Z"
   },
   {
    "duration": 282,
    "start_time": "2021-11-09T09:24:00.438Z"
   },
   {
    "duration": 7,
    "start_time": "2021-11-09T09:24:04.875Z"
   },
   {
    "duration": 291,
    "start_time": "2021-11-09T09:24:41.419Z"
   },
   {
    "duration": 8,
    "start_time": "2021-11-09T09:24:48.452Z"
   },
   {
    "duration": 9,
    "start_time": "2021-11-09T09:24:56.171Z"
   },
   {
    "duration": 721,
    "start_time": "2021-11-09T09:25:53.629Z"
   },
   {
    "duration": 8,
    "start_time": "2021-11-09T09:26:24.933Z"
   },
   {
    "duration": 8,
    "start_time": "2021-11-09T09:30:27.857Z"
   },
   {
    "duration": 32,
    "start_time": "2021-11-09T09:33:06.995Z"
   },
   {
    "duration": 34,
    "start_time": "2021-11-09T09:33:41.579Z"
   },
   {
    "duration": 35,
    "start_time": "2021-11-09T09:34:38.181Z"
   },
   {
    "duration": 31,
    "start_time": "2021-11-09T09:34:56.173Z"
   },
   {
    "duration": 38,
    "start_time": "2021-11-09T09:35:48.173Z"
   },
   {
    "duration": 32,
    "start_time": "2021-11-09T09:46:50.096Z"
   },
   {
    "duration": 91,
    "start_time": "2021-11-09T09:58:19.114Z"
   },
   {
    "duration": 17,
    "start_time": "2021-11-09T09:58:19.314Z"
   },
   {
    "duration": 5,
    "start_time": "2021-11-09T09:58:19.874Z"
   },
   {
    "duration": 86,
    "start_time": "2021-11-09T09:58:20.562Z"
   },
   {
    "duration": 6,
    "start_time": "2021-11-09T09:58:21.410Z"
   },
   {
    "duration": 120,
    "start_time": "2021-11-09T09:58:21.914Z"
   },
   {
    "duration": 20,
    "start_time": "2021-11-09T09:58:23.594Z"
   },
   {
    "duration": 27,
    "start_time": "2021-11-09T09:58:25.593Z"
   },
   {
    "duration": 17,
    "start_time": "2021-11-09T09:58:27.681Z"
   },
   {
    "duration": 67,
    "start_time": "2021-11-09T09:58:29.554Z"
   },
   {
    "duration": 79,
    "start_time": "2021-11-09T09:58:30.986Z"
   },
   {
    "duration": 36,
    "start_time": "2021-11-09T09:58:32.938Z"
   },
   {
    "duration": 34,
    "start_time": "2021-11-09T09:58:35.067Z"
   },
   {
    "duration": 685,
    "start_time": "2021-11-09T09:58:55.537Z"
   },
   {
    "duration": 36,
    "start_time": "2021-11-09T09:58:56.410Z"
   },
   {
    "duration": 421,
    "start_time": "2021-11-09T09:58:58.050Z"
   },
   {
    "duration": 71,
    "start_time": "2021-11-09T09:58:59.466Z"
   },
   {
    "duration": 86,
    "start_time": "2021-11-09T10:00:03.603Z"
   },
   {
    "duration": 15,
    "start_time": "2021-11-09T10:00:03.788Z"
   },
   {
    "duration": 6,
    "start_time": "2021-11-09T10:00:04.307Z"
   },
   {
    "duration": 80,
    "start_time": "2021-11-09T10:00:04.827Z"
   },
   {
    "duration": 5,
    "start_time": "2021-11-09T10:00:05.379Z"
   },
   {
    "duration": 101,
    "start_time": "2021-11-09T10:00:05.547Z"
   },
   {
    "duration": 18,
    "start_time": "2021-11-09T10:00:06.131Z"
   },
   {
    "duration": 32,
    "start_time": "2021-11-09T10:00:06.491Z"
   },
   {
    "duration": 15,
    "start_time": "2021-11-09T10:00:07.019Z"
   },
   {
    "duration": 65,
    "start_time": "2021-11-09T10:00:07.403Z"
   },
   {
    "duration": 68,
    "start_time": "2021-11-09T10:00:07.995Z"
   },
   {
    "duration": 32,
    "start_time": "2021-11-09T10:00:08.372Z"
   },
   {
    "duration": 34,
    "start_time": "2021-11-09T10:00:08.756Z"
   },
   {
    "duration": 629,
    "start_time": "2021-11-09T10:00:09.139Z"
   },
   {
    "duration": 34,
    "start_time": "2021-11-09T10:00:09.771Z"
   },
   {
    "duration": 425,
    "start_time": "2021-11-09T10:00:09.824Z"
   },
   {
    "duration": 85,
    "start_time": "2021-11-09T10:00:10.252Z"
   },
   {
    "duration": 24,
    "start_time": "2021-11-09T10:00:10.491Z"
   },
   {
    "duration": 44,
    "start_time": "2021-11-09T10:00:11.371Z"
   },
   {
    "duration": 43,
    "start_time": "2021-11-09T10:00:11.723Z"
   },
   {
    "duration": 38,
    "start_time": "2021-11-09T10:00:12.099Z"
   },
   {
    "duration": 3495,
    "start_time": "2021-11-09T10:00:12.667Z"
   },
   {
    "duration": 419,
    "start_time": "2021-11-09T10:00:16.165Z"
   },
   {
    "duration": 30,
    "start_time": "2021-11-09T10:00:17.220Z"
   },
   {
    "duration": 450,
    "start_time": "2021-11-09T10:00:18.308Z"
   },
   {
    "duration": 29,
    "start_time": "2021-11-09T10:00:18.803Z"
   },
   {
    "duration": 42,
    "start_time": "2021-11-09T10:00:20.916Z"
   },
   {
    "duration": 34,
    "start_time": "2021-11-09T10:00:22.268Z"
   },
   {
    "duration": 31,
    "start_time": "2021-11-09T10:00:23.596Z"
   },
   {
    "duration": 31,
    "start_time": "2021-11-09T10:00:24.750Z"
   },
   {
    "duration": 298,
    "start_time": "2021-11-09T10:08:42.803Z"
   },
   {
    "duration": 38,
    "start_time": "2021-11-09T10:09:07.540Z"
   },
   {
    "duration": 36,
    "start_time": "2021-11-09T10:09:48.469Z"
   },
   {
    "duration": 32,
    "start_time": "2021-11-09T10:09:56.596Z"
   },
   {
    "duration": 78,
    "start_time": "2021-11-09T10:12:35.988Z"
   },
   {
    "duration": 14,
    "start_time": "2021-11-09T10:12:37.699Z"
   },
   {
    "duration": 7,
    "start_time": "2021-11-09T10:12:39.507Z"
   },
   {
    "duration": 82,
    "start_time": "2021-11-09T10:12:40.627Z"
   },
   {
    "duration": 6,
    "start_time": "2021-11-09T10:12:41.203Z"
   },
   {
    "duration": 112,
    "start_time": "2021-11-09T10:12:41.412Z"
   },
   {
    "duration": 19,
    "start_time": "2021-11-09T10:12:42.003Z"
   },
   {
    "duration": 28,
    "start_time": "2021-11-09T10:12:42.370Z"
   },
   {
    "duration": 16,
    "start_time": "2021-11-09T10:12:42.923Z"
   },
   {
    "duration": 68,
    "start_time": "2021-11-09T10:12:43.290Z"
   },
   {
    "duration": 74,
    "start_time": "2021-11-09T10:12:43.684Z"
   },
   {
    "duration": 36,
    "start_time": "2021-11-09T10:12:44.106Z"
   },
   {
    "duration": 41,
    "start_time": "2021-11-09T10:12:44.851Z"
   },
   {
    "duration": 623,
    "start_time": "2021-11-09T10:12:45.482Z"
   },
   {
    "duration": 41,
    "start_time": "2021-11-09T10:12:46.107Z"
   },
   {
    "duration": 393,
    "start_time": "2021-11-09T10:12:48.499Z"
   },
   {
    "duration": 80,
    "start_time": "2021-11-09T10:12:49.955Z"
   },
   {
    "duration": 24,
    "start_time": "2021-11-09T10:12:51.082Z"
   },
   {
    "duration": 43,
    "start_time": "2021-11-09T10:12:53.459Z"
   },
   {
    "duration": 44,
    "start_time": "2021-11-09T10:12:54.419Z"
   },
   {
    "duration": 39,
    "start_time": "2021-11-09T10:12:55.307Z"
   },
   {
    "duration": 3595,
    "start_time": "2021-11-09T10:12:56.674Z"
   },
   {
    "duration": 425,
    "start_time": "2021-11-09T10:13:01.292Z"
   },
   {
    "duration": 42,
    "start_time": "2021-11-09T10:13:02.812Z"
   },
   {
    "duration": 424,
    "start_time": "2021-11-09T10:13:04.572Z"
   },
   {
    "duration": 29,
    "start_time": "2021-11-09T10:13:06.188Z"
   },
   {
    "duration": 42,
    "start_time": "2021-11-09T10:13:08.395Z"
   },
   {
    "duration": 34,
    "start_time": "2021-11-09T10:13:09.787Z"
   },
   {
    "duration": 30,
    "start_time": "2021-11-09T10:13:11.003Z"
   },
   {
    "duration": 31,
    "start_time": "2021-11-09T10:13:12.187Z"
   },
   {
    "duration": 754,
    "start_time": "2021-11-09T10:39:15.038Z"
   },
   {
    "duration": 12,
    "start_time": "2021-11-09T10:39:15.794Z"
   },
   {
    "duration": 4,
    "start_time": "2021-11-09T10:39:15.809Z"
   },
   {
    "duration": 83,
    "start_time": "2021-11-09T10:39:15.815Z"
   },
   {
    "duration": 4,
    "start_time": "2021-11-09T10:39:15.900Z"
   },
   {
    "duration": 80,
    "start_time": "2021-11-09T10:39:15.905Z"
   },
   {
    "duration": 19,
    "start_time": "2021-11-09T10:39:15.986Z"
   },
   {
    "duration": 20,
    "start_time": "2021-11-09T10:39:16.007Z"
   },
   {
    "duration": 10,
    "start_time": "2021-11-09T10:39:16.030Z"
   },
   {
    "duration": 61,
    "start_time": "2021-11-09T10:39:16.043Z"
   },
   {
    "duration": 78,
    "start_time": "2021-11-09T10:39:16.106Z"
   },
   {
    "duration": 42,
    "start_time": "2021-11-09T10:39:16.186Z"
   },
   {
    "duration": 33,
    "start_time": "2021-11-09T10:39:16.230Z"
   },
   {
    "duration": 402,
    "start_time": "2021-11-09T10:39:16.265Z"
   },
   {
    "duration": 24,
    "start_time": "2021-11-09T10:39:16.669Z"
   },
   {
    "duration": 356,
    "start_time": "2021-11-09T10:39:16.694Z"
   },
   {
    "duration": 70,
    "start_time": "2021-11-09T10:39:17.052Z"
   },
   {
    "duration": 19,
    "start_time": "2021-11-09T10:39:17.124Z"
   },
   {
    "duration": 45,
    "start_time": "2021-11-09T10:39:17.145Z"
   },
   {
    "duration": 40,
    "start_time": "2021-11-09T10:39:17.191Z"
   },
   {
    "duration": 32,
    "start_time": "2021-11-09T10:39:17.233Z"
   },
   {
    "duration": 2605,
    "start_time": "2021-11-09T10:39:17.267Z"
   },
   {
    "duration": 276,
    "start_time": "2021-11-09T10:39:19.874Z"
   },
   {
    "duration": 24,
    "start_time": "2021-11-09T10:39:20.152Z"
   },
   {
    "duration": 266,
    "start_time": "2021-11-09T10:39:20.178Z"
   },
   {
    "duration": 23,
    "start_time": "2021-11-09T10:39:20.446Z"
   },
   {
    "duration": 584,
    "start_time": "2021-11-09T10:39:20.472Z"
   },
   {
    "duration": 28,
    "start_time": "2021-11-09T10:39:21.058Z"
   },
   {
    "duration": 21,
    "start_time": "2021-11-09T10:39:21.088Z"
   },
   {
    "duration": 21,
    "start_time": "2021-11-09T10:39:21.111Z"
   },
   {
    "duration": 4,
    "start_time": "2021-11-09T10:40:24.010Z"
   },
   {
    "duration": 8,
    "start_time": "2021-11-09T10:50:57.570Z"
   },
   {
    "duration": 8,
    "start_time": "2021-11-09T10:54:54.287Z"
   },
   {
    "duration": 9,
    "start_time": "2021-11-09T10:56:31.526Z"
   },
   {
    "duration": 15,
    "start_time": "2021-11-09T10:56:36.631Z"
   },
   {
    "duration": 12,
    "start_time": "2021-11-09T10:56:41.517Z"
   },
   {
    "duration": 15,
    "start_time": "2021-11-09T10:57:57.382Z"
   },
   {
    "duration": 19,
    "start_time": "2021-11-09T10:58:46.743Z"
   },
   {
    "duration": 20,
    "start_time": "2021-11-09T11:01:44.315Z"
   },
   {
    "duration": 854,
    "start_time": "2021-11-10T18:42:35.006Z"
   },
   {
    "duration": 25,
    "start_time": "2021-11-10T18:42:40.823Z"
   },
   {
    "duration": 16,
    "start_time": "2021-11-10T18:42:46.069Z"
   },
   {
    "duration": 15,
    "start_time": "2021-11-10T18:42:59.040Z"
   },
   {
    "duration": 13,
    "start_time": "2021-11-10T18:43:18.938Z"
   },
   {
    "duration": 9,
    "start_time": "2021-11-10T18:49:07.484Z"
   },
   {
    "duration": 10,
    "start_time": "2021-11-10T18:49:53.570Z"
   },
   {
    "duration": 11,
    "start_time": "2021-11-10T18:49:55.882Z"
   },
   {
    "duration": 19,
    "start_time": "2021-11-10T18:50:11.254Z"
   },
   {
    "duration": 12,
    "start_time": "2021-11-10T18:50:13.885Z"
   },
   {
    "duration": 7,
    "start_time": "2021-11-10T18:50:55.921Z"
   },
   {
    "duration": 9,
    "start_time": "2021-11-10T18:51:05.394Z"
   },
   {
    "duration": 10,
    "start_time": "2021-11-10T18:51:33.944Z"
   },
   {
    "duration": 14,
    "start_time": "2021-11-10T18:55:39.494Z"
   },
   {
    "duration": 11,
    "start_time": "2021-11-10T18:55:59.241Z"
   },
   {
    "duration": 13,
    "start_time": "2021-11-10T18:57:36.333Z"
   },
   {
    "duration": 98,
    "start_time": "2021-11-10T19:06:02.700Z"
   },
   {
    "duration": 33,
    "start_time": "2021-11-10T19:06:02.800Z"
   },
   {
    "duration": 8,
    "start_time": "2021-11-10T19:06:02.837Z"
   },
   {
    "duration": 112,
    "start_time": "2021-11-10T19:06:02.849Z"
   },
   {
    "duration": 6,
    "start_time": "2021-11-10T19:06:02.964Z"
   },
   {
    "duration": 165,
    "start_time": "2021-11-10T19:06:02.974Z"
   },
   {
    "duration": 24,
    "start_time": "2021-11-10T19:06:03.145Z"
   },
   {
    "duration": 65,
    "start_time": "2021-11-10T19:06:03.172Z"
   },
   {
    "duration": 20,
    "start_time": "2021-11-10T19:06:03.244Z"
   },
   {
    "duration": 117,
    "start_time": "2021-11-10T19:06:03.267Z"
   },
   {
    "duration": 91,
    "start_time": "2021-11-10T19:06:03.387Z"
   },
   {
    "duration": 32,
    "start_time": "2021-11-10T19:06:03.480Z"
   },
   {
    "duration": 40,
    "start_time": "2021-11-10T19:06:03.530Z"
   },
   {
    "duration": 737,
    "start_time": "2021-11-10T19:06:03.573Z"
   },
   {
    "duration": 52,
    "start_time": "2021-11-10T19:06:04.312Z"
   },
   {
    "duration": 468,
    "start_time": "2021-11-10T19:06:04.366Z"
   },
   {
    "duration": 68,
    "start_time": "2021-11-10T19:06:04.837Z"
   },
   {
    "duration": 43,
    "start_time": "2021-11-10T19:06:04.908Z"
   },
   {
    "duration": 44,
    "start_time": "2021-11-10T19:06:04.954Z"
   },
   {
    "duration": 74,
    "start_time": "2021-11-10T19:06:05.001Z"
   },
   {
    "duration": 60,
    "start_time": "2021-11-10T19:06:05.078Z"
   },
   {
    "duration": 3783,
    "start_time": "2021-11-10T19:06:05.141Z"
   },
   {
    "duration": 444,
    "start_time": "2021-11-10T19:06:08.930Z"
   },
   {
    "duration": 9,
    "start_time": "2021-11-10T19:06:09.377Z"
   },
   {
    "duration": 50,
    "start_time": "2021-11-10T19:06:09.389Z"
   },
   {
    "duration": 457,
    "start_time": "2021-11-10T19:06:09.442Z"
   },
   {
    "duration": 10,
    "start_time": "2021-11-10T19:06:09.903Z"
   },
   {
    "duration": 48,
    "start_time": "2021-11-10T19:06:09.916Z"
   },
   {
    "duration": 16,
    "start_time": "2021-11-10T19:06:09.967Z"
   },
   {
    "duration": 50,
    "start_time": "2021-11-10T19:06:09.986Z"
   },
   {
    "duration": 68853,
    "start_time": "2021-11-10T19:06:10.039Z"
   },
   {
    "duration": 21,
    "start_time": "2021-11-10T19:07:18.895Z"
   },
   {
    "duration": 33,
    "start_time": "2021-11-10T19:07:18.930Z"
   },
   {
    "duration": 67,
    "start_time": "2021-11-10T19:07:18.967Z"
   },
   {
    "duration": 40,
    "start_time": "2021-11-10T19:07:19.036Z"
   },
   {
    "duration": 53,
    "start_time": "2021-11-10T19:07:19.078Z"
   },
   {
    "duration": 40,
    "start_time": "2021-11-10T19:07:19.134Z"
   },
   {
    "duration": 371,
    "start_time": "2021-11-10T19:07:43.625Z"
   },
   {
    "duration": 792,
    "start_time": "2021-11-10T19:08:26.761Z"
   },
   {
    "duration": 1026,
    "start_time": "2021-11-10T19:09:16.293Z"
   },
   {
    "duration": 865,
    "start_time": "2021-11-10T19:10:57.556Z"
   },
   {
    "duration": 816,
    "start_time": "2021-11-10T19:11:58.352Z"
   },
   {
    "duration": 1453,
    "start_time": "2021-11-10T19:12:04.597Z"
   },
   {
    "duration": 807,
    "start_time": "2021-11-10T19:12:12.868Z"
   },
   {
    "duration": 819,
    "start_time": "2021-11-10T19:13:15.155Z"
   },
   {
    "duration": 12,
    "start_time": "2021-11-10T19:15:24.227Z"
   },
   {
    "duration": 348,
    "start_time": "2021-11-10T19:15:34.753Z"
   },
   {
    "duration": 156,
    "start_time": "2021-11-10T19:15:57.627Z"
   },
   {
    "duration": 238,
    "start_time": "2021-11-10T19:16:00.149Z"
   },
   {
    "duration": 502,
    "start_time": "2022-05-05T09:33:59.663Z"
   },
   {
    "duration": 15,
    "start_time": "2022-05-05T09:34:00.167Z"
   },
   {
    "duration": 6,
    "start_time": "2022-05-05T09:34:00.183Z"
   },
   {
    "duration": 63,
    "start_time": "2022-05-05T09:34:00.190Z"
   },
   {
    "duration": 5,
    "start_time": "2022-05-05T09:34:00.256Z"
   },
   {
    "duration": 88,
    "start_time": "2022-05-05T09:34:00.262Z"
   },
   {
    "duration": 60,
    "start_time": "2022-05-05T09:34:00.352Z"
   },
   {
    "duration": 21,
    "start_time": "2022-05-05T09:34:00.414Z"
   },
   {
    "duration": 10,
    "start_time": "2022-05-05T09:34:00.437Z"
   },
   {
    "duration": 72,
    "start_time": "2022-05-05T09:34:00.449Z"
   },
   {
    "duration": 41,
    "start_time": "2022-05-05T09:34:00.522Z"
   },
   {
    "duration": 50,
    "start_time": "2022-05-05T09:34:00.564Z"
   },
   {
    "duration": 23,
    "start_time": "2022-05-05T09:34:00.615Z"
   },
   {
    "duration": 203,
    "start_time": "2022-05-05T09:34:00.641Z"
   },
   {
    "duration": 20,
    "start_time": "2022-05-05T09:34:00.846Z"
   },
   {
    "duration": 147,
    "start_time": "2022-05-05T09:34:00.868Z"
   },
   {
    "duration": 36,
    "start_time": "2022-05-05T09:34:01.017Z"
   },
   {
    "duration": 23,
    "start_time": "2022-05-05T09:34:01.054Z"
   },
   {
    "duration": 113,
    "start_time": "2022-05-05T09:34:01.079Z"
   },
   {
    "duration": 40,
    "start_time": "2022-05-05T09:34:01.193Z"
   },
   {
    "duration": 28,
    "start_time": "2022-05-05T09:34:01.234Z"
   },
   {
    "duration": 2334,
    "start_time": "2022-05-05T09:34:01.263Z"
   },
   {
    "duration": 136,
    "start_time": "2022-05-05T09:34:03.599Z"
   },
   {
    "duration": 6,
    "start_time": "2022-05-05T09:34:03.737Z"
   },
   {
    "duration": 17,
    "start_time": "2022-05-05T09:34:03.745Z"
   },
   {
    "duration": 152,
    "start_time": "2022-05-05T09:34:03.763Z"
   },
   {
    "duration": 6,
    "start_time": "2022-05-05T09:34:03.916Z"
   },
   {
    "duration": 24,
    "start_time": "2022-05-05T09:34:03.923Z"
   },
   {
    "duration": 9,
    "start_time": "2022-05-05T09:34:03.949Z"
   },
   {
    "duration": 20,
    "start_time": "2022-05-05T09:34:03.959Z"
   },
   {
    "duration": 475,
    "start_time": "2022-05-05T09:34:03.981Z"
   },
   {
    "duration": 14,
    "start_time": "2022-05-05T09:34:04.458Z"
   },
   {
    "duration": 36,
    "start_time": "2022-05-05T09:34:04.474Z"
   },
   {
    "duration": 21,
    "start_time": "2022-05-05T09:34:04.513Z"
   },
   {
    "duration": 17,
    "start_time": "2022-05-05T09:34:04.536Z"
   },
   {
    "duration": 16,
    "start_time": "2022-05-05T09:34:04.555Z"
   },
   {
    "duration": 18,
    "start_time": "2022-05-05T09:34:04.600Z"
   },
   {
    "duration": 6,
    "start_time": "2022-05-05T09:34:04.620Z"
   },
   {
    "duration": 10,
    "start_time": "2022-05-05T09:34:04.627Z"
   },
   {
    "duration": 14,
    "start_time": "2022-05-05T09:34:04.638Z"
   },
   {
    "duration": 8,
    "start_time": "2022-05-05T09:34:04.655Z"
   },
   {
    "duration": 9,
    "start_time": "2022-05-05T09:34:04.664Z"
   },
   {
    "duration": 5,
    "start_time": "2022-05-05T09:34:04.700Z"
   },
   {
    "duration": 9,
    "start_time": "2022-05-05T09:34:04.706Z"
   },
   {
    "duration": 7,
    "start_time": "2022-05-05T09:34:04.717Z"
   },
   {
    "duration": 8,
    "start_time": "2022-05-05T09:34:04.725Z"
   },
   {
    "duration": 536,
    "start_time": "2022-05-05T09:34:04.734Z"
   },
   {
    "duration": 171,
    "start_time": "2022-05-05T09:34:05.272Z"
   }
  ],
  "kernelspec": {
   "display_name": "Python 3",
   "language": "python",
   "name": "python3"
  },
  "language_info": {
   "codemirror_mode": {
    "name": "ipython",
    "version": 3
   },
   "file_extension": ".py",
   "mimetype": "text/x-python",
   "name": "python",
   "nbconvert_exporter": "python",
   "pygments_lexer": "ipython3",
   "version": "3.8.3"
  },
  "toc": {
   "base_numbering": 1,
   "nav_menu": {},
   "number_sections": true,
   "sideBar": true,
   "skip_h1_title": true,
   "title_cell": "Table of Contents",
   "title_sidebar": "Contents",
   "toc_cell": false,
   "toc_position": {},
   "toc_section_display": true,
   "toc_window_display": true
  },
  "varInspector": {
   "cols": {
    "lenName": 16,
    "lenType": 16,
    "lenVar": 40
   },
   "kernels_config": {
    "python": {
     "delete_cmd_postfix": "",
     "delete_cmd_prefix": "del ",
     "library": "var_list.py",
     "varRefreshCmd": "print(var_dic_list())"
    },
    "r": {
     "delete_cmd_postfix": ") ",
     "delete_cmd_prefix": "rm(",
     "library": "var_list.r",
     "varRefreshCmd": "cat(var_dic_list()) "
    }
   },
   "types_to_exclude": [
    "module",
    "function",
    "builtin_function_or_method",
    "instance",
    "_Feature"
   ],
   "window_display": false
  }
 },
 "nbformat": 4,
 "nbformat_minor": 2
}
