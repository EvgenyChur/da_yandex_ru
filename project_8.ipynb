{
 "cells": [
  {
   "cell_type": "markdown",
   "metadata": {},
   "source": [
    "# Самостоятельный проект"
   ]
  },
  {
   "cell_type": "markdown",
   "metadata": {},
   "source": [
    "## Сбор первичной информации о проекте:"
   ]
  },
  {
   "cell_type": "markdown",
   "metadata": {},
   "source": [
    "### Описание проекта: "
   ]
  },
  {
   "cell_type": "markdown",
   "metadata": {},
   "source": [
    "Вы — аналитик крупного интернет-магазина. Вместе с отделом маркетинга вы подготовили список гипотез для увеличения выручки. Приоритизируйте гипотезы, запустите A/B-тест и проанализируйте результаты."
   ]
  },
  {
   "cell_type": "markdown",
   "metadata": {},
   "source": [
    "### Задачи проекта:"
   ]
  },
  {
   "cell_type": "markdown",
   "metadata": {},
   "source": [
    "#### Приоритизация гипотез."
   ]
  },
  {
   "cell_type": "markdown",
   "metadata": {},
   "source": [
    "В файле `hypothesis` - 9 гипотез по увеличению выручки интернет-магазина с указанными параметрами *Reach*, *Impact*, *Confidence*, *Effort*."
   ]
  },
  {
   "cell_type": "markdown",
   "metadata": {},
   "source": [
    "**Задачи:**\n",
    "1. Примените фреймворк `ICE` для приоритизации гипотез. Отсортируйте их по убыванию приоритета.\n",
    "2. Примените фреймворк `RICE` для приоритизации гипотез. Отсортируйте их по убыванию приоритета.\n",
    "3. Укажите, как изменилась приоритизация гипотез при применении `RICE` вместо `ICE`. Объясните, почему так произошло."
   ]
  },
  {
   "cell_type": "markdown",
   "metadata": {},
   "source": [
    "#### Анализ A/B-теста."
   ]
  },
  {
   "cell_type": "markdown",
   "metadata": {},
   "source": [
    "**Задачи:**\n",
    "1. Проанализируйте A/B-тест:\n",
    "2. Постройте график кумулятивной выручки по группам. Сделайте выводы и предположения.\n",
    "3. Постройте график кумулятивного среднего чека по группам. Сделайте выводы и предположения.\n",
    "4. Постройте график относительного изменения кумулятивного среднего чека группы B к группе A. Сделайте выводы и предположения.\n",
    "5. Постройте график кумулятивной конверсии по группам. Сделайте выводы и предположения.\n",
    "6. Постройте график относительного изменения кумулятивной конверсии группы B к группе A. Сделайте выводы и предположения.\n",
    "7. Постройте точечный график количества заказов по пользователям. Сделайте выводы и предположения.\n",
    "8. Посчитайте 95-й и 99-й перцентили количества заказов на пользователя. Выберите границу для определения аномальных пользователей.\n",
    "9. Постройте точечный график стоимостей заказов. Сделайте выводы и предположения.\n",
    "10. Посчитайте 95-й и 99-й перцентили стоимости заказов. Выберите границу для определения аномальных заказов.\n",
    "11. Посчитайте статистическую значимость различий в конверсии между группами по «сырым» данным. Сделайте выводы и предположения.\n",
    "12. Посчитайте статистическую значимость различий в среднем чеке заказа между группами по «сырым» данным. Сделайте выводы и предположения.\n",
    "13. Посчитайте статистическую значимость различий в конверсии между группами по «очищенным» данным. Сделайте выводы и предположения.\n",
    "14. Посчитайте статистическую значимость различий в среднем чеке заказа между группами по «очищенным» данным. Сделайте выводы и предположения.\n",
    "15. Примите решение по результатам теста и объясните его. Варианты решений: 1. Остановить тест, зафиксировать победу одной из групп. 2. Остановить тест, зафиксировать отсутствие различий между группами. 3. Продолжить тест."
   ]
  },
  {
   "cell_type": "markdown",
   "metadata": {},
   "source": [
    "### Описание данных:"
   ]
  },
  {
   "cell_type": "markdown",
   "metadata": {},
   "source": [
    "**Данные для первой части:**"
   ]
  },
  {
   "cell_type": "markdown",
   "metadata": {},
   "source": [
    "* `Hypothesis` — краткое описание гипотезы;\n",
    "* `Reach` — охват пользователей по 10-балльной шкале;\n",
    "* `Impact` — влияние на пользователей по 10-балльной шкале;\n",
    "* `Confidence` — уверенность в гипотезе по 10-балльной шкале;\n",
    "* `Efforts` — затраты ресурсов на проверку гипотезы по 10-балльной шкале. Чем больше значение Efforts, тем дороже проверка гипотезы."
   ]
  },
  {
   "cell_type": "markdown",
   "metadata": {},
   "source": [
    "**Данные для второй части:**"
   ]
  },
  {
   "cell_type": "markdown",
   "metadata": {},
   "source": [
    "1. Датасет - **orders:**\n",
    "    * `transactionId` — идентификатор заказа;\n",
    "    * `visitorId` — идентификатор пользователя, совершившего заказ;\n",
    "    * `date` — дата, когда был совершён заказ;\n",
    "    * `revenue` — выручка заказа;\n",
    "    * `group` — группа A/B-теста, в которую попал заказ."
   ]
  },
  {
   "cell_type": "markdown",
   "metadata": {},
   "source": [
    "2. Датасет - **visitors:**\n",
    "    * `date` — дата;\n",
    "    * `group` — группа A/B-теста;\n",
    "    * `visitors` — количество пользователей в указанную дату в указанной группе A/B-теста"
   ]
  },
  {
   "cell_type": "markdown",
   "metadata": {},
   "source": [
    "## Основной проект:"
   ]
  },
  {
   "cell_type": "markdown",
   "metadata": {},
   "source": [
    "### Подготовка данных:"
   ]
  },
  {
   "cell_type": "code",
   "execution_count": 1,
   "metadata": {},
   "outputs": [],
   "source": [
    "# Add modules to the project\n",
    "import math as mth\n",
    "import numpy as np\n",
    "import pandas as pd\n",
    "import datetime as dt\n",
    "import scipy.stats as stats\n",
    "from scipy import stats as st\n",
    "import matplotlib.pyplot as plt \n",
    "\n",
    "import warnings\n",
    "warnings.filterwarnings(\"ignore\")"
   ]
  },
  {
   "cell_type": "code",
   "execution_count": 2,
   "metadata": {},
   "outputs": [
    {
     "name": "stdout",
     "output_type": "stream",
     "text": [
      "Using local machine\n",
      "Using Yandex machine\n"
     ]
    }
   ],
   "source": [
    "# Get common information about datasets\n",
    "def get_into(df, df_name):\n",
    "    '''\n",
    "    df : Dataframe,\n",
    "        The dataset with data for the project\n",
    "    df_name : Objects\n",
    "        The name of the dataset for information\n",
    "        \n",
    "    Return:\n",
    "        There are no return fields\n",
    "    '''\n",
    "    print(f'Common information about - {df_name}')\n",
    "    display(df.head())\n",
    "    print(df.info() , '\\n')\n",
    "    print(df.columns, '\\n')   \n",
    "    print(f'Numbers of NaN values in the dataset - {df_name}', '\\n')\n",
    "    print(df.isnull().sum())\n",
    "    print(f'Numbers of duplicates (explicit)in the dataset - {df_name}', '\\n')\n",
    "    print(df.duplicated().sum())\n",
    "     \n",
    "\n",
    "# Get data\n",
    "try:\n",
    "    print('Using local machine')\n",
    "    main_path   = 'C:/Users/Churiulin/Desktop/Yandex/Projects/DATASETS'\n",
    "    df_hypo     = pd.read_csv(f'{main_path}/hypothesis.csv')\n",
    "    df_orders   = pd.read_csv(f'{main_path}/orders.csv'    )\n",
    "    df_visitors = pd.read_csv(f'{main_path}/visitors.csv'  )\n",
    "except FileNotFoundError:\n",
    "    print('Using Yandex machine')\n",
    "    df_hypo     = pd.read_csv('/datasets/hypothesis.csv')\n",
    "    df_orders   = pd.read_csv('/datasets/orders.csv'    )\n",
    "    df_visitors = pd.read_csv('/datasets/visitors.csv'  )"
   ]
  },
  {
   "cell_type": "code",
   "execution_count": 3,
   "metadata": {},
   "outputs": [
    {
     "name": "stdout",
     "output_type": "stream",
     "text": [
      "Common information about - hypothesis\n"
     ]
    },
    {
     "data": {
      "text/html": [
       "<div>\n",
       "<style scoped>\n",
       "    .dataframe tbody tr th:only-of-type {\n",
       "        vertical-align: middle;\n",
       "    }\n",
       "\n",
       "    .dataframe tbody tr th {\n",
       "        vertical-align: top;\n",
       "    }\n",
       "\n",
       "    .dataframe thead th {\n",
       "        text-align: right;\n",
       "    }\n",
       "</style>\n",
       "<table border=\"1\" class=\"dataframe\">\n",
       "  <thead>\n",
       "    <tr style=\"text-align: right;\">\n",
       "      <th></th>\n",
       "      <th>Hypothesis</th>\n",
       "      <th>Reach</th>\n",
       "      <th>Impact</th>\n",
       "      <th>Confidence</th>\n",
       "      <th>Efforts</th>\n",
       "    </tr>\n",
       "  </thead>\n",
       "  <tbody>\n",
       "    <tr>\n",
       "      <td>0</td>\n",
       "      <td>Добавить два новых канала привлечения трафика,...</td>\n",
       "      <td>3</td>\n",
       "      <td>10</td>\n",
       "      <td>8</td>\n",
       "      <td>6</td>\n",
       "    </tr>\n",
       "    <tr>\n",
       "      <td>1</td>\n",
       "      <td>Запустить собственную службу доставки, что сок...</td>\n",
       "      <td>2</td>\n",
       "      <td>5</td>\n",
       "      <td>4</td>\n",
       "      <td>10</td>\n",
       "    </tr>\n",
       "    <tr>\n",
       "      <td>2</td>\n",
       "      <td>Добавить блоки рекомендаций товаров на сайт ин...</td>\n",
       "      <td>8</td>\n",
       "      <td>3</td>\n",
       "      <td>7</td>\n",
       "      <td>3</td>\n",
       "    </tr>\n",
       "    <tr>\n",
       "      <td>3</td>\n",
       "      <td>Изменить структура категорий, что увеличит кон...</td>\n",
       "      <td>8</td>\n",
       "      <td>3</td>\n",
       "      <td>3</td>\n",
       "      <td>8</td>\n",
       "    </tr>\n",
       "    <tr>\n",
       "      <td>4</td>\n",
       "      <td>Изменить цвет фона главной страницы, чтобы уве...</td>\n",
       "      <td>3</td>\n",
       "      <td>1</td>\n",
       "      <td>1</td>\n",
       "      <td>1</td>\n",
       "    </tr>\n",
       "  </tbody>\n",
       "</table>\n",
       "</div>"
      ],
      "text/plain": [
       "                                          Hypothesis  Reach  Impact  \\\n",
       "0  Добавить два новых канала привлечения трафика,...      3      10   \n",
       "1  Запустить собственную службу доставки, что сок...      2       5   \n",
       "2  Добавить блоки рекомендаций товаров на сайт ин...      8       3   \n",
       "3  Изменить структура категорий, что увеличит кон...      8       3   \n",
       "4  Изменить цвет фона главной страницы, чтобы уве...      3       1   \n",
       "\n",
       "   Confidence  Efforts  \n",
       "0           8        6  \n",
       "1           4       10  \n",
       "2           7        3  \n",
       "3           3        8  \n",
       "4           1        1  "
      ]
     },
     "metadata": {},
     "output_type": "display_data"
    },
    {
     "name": "stdout",
     "output_type": "stream",
     "text": [
      "<class 'pandas.core.frame.DataFrame'>\n",
      "RangeIndex: 9 entries, 0 to 8\n",
      "Data columns (total 5 columns):\n",
      "Hypothesis    9 non-null object\n",
      "Reach         9 non-null int64\n",
      "Impact        9 non-null int64\n",
      "Confidence    9 non-null int64\n",
      "Efforts       9 non-null int64\n",
      "dtypes: int64(4), object(1)\n",
      "memory usage: 488.0+ bytes\n",
      "None \n",
      "\n",
      "Index(['Hypothesis', 'Reach', 'Impact', 'Confidence', 'Efforts'], dtype='object') \n",
      "\n",
      "Numbers of NaN values in the dataset - hypothesis \n",
      "\n",
      "Hypothesis    0\n",
      "Reach         0\n",
      "Impact        0\n",
      "Confidence    0\n",
      "Efforts       0\n",
      "dtype: int64\n",
      "Numbers of duplicates (explicit)in the dataset - hypothesis \n",
      "\n",
      "0\n",
      "None\n"
     ]
    }
   ],
   "source": [
    "print(get_into(df_hypo, 'hypothesis')) "
   ]
  },
  {
   "cell_type": "markdown",
   "metadata": {},
   "source": [
    "**Комментарий по датасету - hypothesis:**"
   ]
  },
  {
   "cell_type": "markdown",
   "metadata": {},
   "source": [
    "Данный набор данных выглядит нормально. Типы данных соответствуют содержащейся в таблице информации, пропусков нет, явных дубликатов нет. Единственной проблемой может выступать наличие заглавной буквы в названиях колонок и гипотез. Исправлю данную проблему."
   ]
  },
  {
   "cell_type": "code",
   "execution_count": 4,
   "metadata": {},
   "outputs": [
    {
     "data": {
      "text/html": [
       "<div>\n",
       "<style scoped>\n",
       "    .dataframe tbody tr th:only-of-type {\n",
       "        vertical-align: middle;\n",
       "    }\n",
       "\n",
       "    .dataframe tbody tr th {\n",
       "        vertical-align: top;\n",
       "    }\n",
       "\n",
       "    .dataframe thead th {\n",
       "        text-align: right;\n",
       "    }\n",
       "</style>\n",
       "<table border=\"1\" class=\"dataframe\">\n",
       "  <thead>\n",
       "    <tr style=\"text-align: right;\">\n",
       "      <th></th>\n",
       "      <th>hypothesis</th>\n",
       "      <th>reach</th>\n",
       "      <th>impact</th>\n",
       "      <th>confidence</th>\n",
       "      <th>efforts</th>\n",
       "    </tr>\n",
       "  </thead>\n",
       "  <tbody>\n",
       "    <tr>\n",
       "      <td>0</td>\n",
       "      <td>добавить два новых канала привлечения трафика, что позволит привлекать на 30% больше пользователей</td>\n",
       "      <td>3</td>\n",
       "      <td>10</td>\n",
       "      <td>8</td>\n",
       "      <td>6</td>\n",
       "    </tr>\n",
       "    <tr>\n",
       "      <td>1</td>\n",
       "      <td>запустить собственную службу доставки, что сократит срок доставки заказов</td>\n",
       "      <td>2</td>\n",
       "      <td>5</td>\n",
       "      <td>4</td>\n",
       "      <td>10</td>\n",
       "    </tr>\n",
       "    <tr>\n",
       "      <td>2</td>\n",
       "      <td>добавить блоки рекомендаций товаров на сайт интернет магазина, чтобы повысить конверсию и средний чек заказа</td>\n",
       "      <td>8</td>\n",
       "      <td>3</td>\n",
       "      <td>7</td>\n",
       "      <td>3</td>\n",
       "    </tr>\n",
       "    <tr>\n",
       "      <td>3</td>\n",
       "      <td>изменить структура категорий, что увеличит конверсию, т.к. пользователи быстрее найдут нужный товар</td>\n",
       "      <td>8</td>\n",
       "      <td>3</td>\n",
       "      <td>3</td>\n",
       "      <td>8</td>\n",
       "    </tr>\n",
       "    <tr>\n",
       "      <td>4</td>\n",
       "      <td>изменить цвет фона главной страницы, чтобы увеличить вовлеченность пользователей</td>\n",
       "      <td>3</td>\n",
       "      <td>1</td>\n",
       "      <td>1</td>\n",
       "      <td>1</td>\n",
       "    </tr>\n",
       "    <tr>\n",
       "      <td>5</td>\n",
       "      <td>добавить страницу отзывов клиентов о магазине, что позволит увеличить количество заказов</td>\n",
       "      <td>3</td>\n",
       "      <td>2</td>\n",
       "      <td>2</td>\n",
       "      <td>3</td>\n",
       "    </tr>\n",
       "    <tr>\n",
       "      <td>6</td>\n",
       "      <td>показать на главной странице баннеры с актуальными акциями и распродажами, чтобы увеличить конверсию</td>\n",
       "      <td>5</td>\n",
       "      <td>3</td>\n",
       "      <td>8</td>\n",
       "      <td>3</td>\n",
       "    </tr>\n",
       "    <tr>\n",
       "      <td>7</td>\n",
       "      <td>добавить форму подписки на все основные страницы, чтобы собрать базу клиентов для email-рассылок</td>\n",
       "      <td>10</td>\n",
       "      <td>7</td>\n",
       "      <td>8</td>\n",
       "      <td>5</td>\n",
       "    </tr>\n",
       "    <tr>\n",
       "      <td>8</td>\n",
       "      <td>запустить акцию, дающую скидку на товар в день рождения</td>\n",
       "      <td>1</td>\n",
       "      <td>9</td>\n",
       "      <td>9</td>\n",
       "      <td>5</td>\n",
       "    </tr>\n",
       "  </tbody>\n",
       "</table>\n",
       "</div>"
      ],
      "text/plain": [
       "                                                                                                     hypothesis  \\\n",
       "0            добавить два новых канала привлечения трафика, что позволит привлекать на 30% больше пользователей   \n",
       "1                                     запустить собственную службу доставки, что сократит срок доставки заказов   \n",
       "2  добавить блоки рекомендаций товаров на сайт интернет магазина, чтобы повысить конверсию и средний чек заказа   \n",
       "3           изменить структура категорий, что увеличит конверсию, т.к. пользователи быстрее найдут нужный товар   \n",
       "4                              изменить цвет фона главной страницы, чтобы увеличить вовлеченность пользователей   \n",
       "5                      добавить страницу отзывов клиентов о магазине, что позволит увеличить количество заказов   \n",
       "6          показать на главной странице баннеры с актуальными акциями и распродажами, чтобы увеличить конверсию   \n",
       "7              добавить форму подписки на все основные страницы, чтобы собрать базу клиентов для email-рассылок   \n",
       "8                                                       запустить акцию, дающую скидку на товар в день рождения   \n",
       "\n",
       "   reach  impact  confidence  efforts  \n",
       "0      3      10           8        6  \n",
       "1      2       5           4       10  \n",
       "2      8       3           7        3  \n",
       "3      8       3           3        8  \n",
       "4      3       1           1        1  \n",
       "5      3       2           2        3  \n",
       "6      5       3           8        3  \n",
       "7     10       7           8        5  \n",
       "8      1       9           9        5  "
      ]
     },
     "execution_count": 4,
     "metadata": {},
     "output_type": "execute_result"
    }
   ],
   "source": [
    "df_hypo.columns = df_hypo.columns.str.lower()\n",
    "df_hypo['hypothesis'] = df_hypo['hypothesis'].str.lower()\n",
    "pd.set_option('display.max_colwidth', 1000)\n",
    "df_hypo"
   ]
  },
  {
   "cell_type": "markdown",
   "metadata": {},
   "source": [
    "Датасет готов к работе"
   ]
  },
  {
   "cell_type": "code",
   "execution_count": 5,
   "metadata": {},
   "outputs": [
    {
     "name": "stdout",
     "output_type": "stream",
     "text": [
      "Common information about - orders\n"
     ]
    },
    {
     "data": {
      "text/html": [
       "<div>\n",
       "<style scoped>\n",
       "    .dataframe tbody tr th:only-of-type {\n",
       "        vertical-align: middle;\n",
       "    }\n",
       "\n",
       "    .dataframe tbody tr th {\n",
       "        vertical-align: top;\n",
       "    }\n",
       "\n",
       "    .dataframe thead th {\n",
       "        text-align: right;\n",
       "    }\n",
       "</style>\n",
       "<table border=\"1\" class=\"dataframe\">\n",
       "  <thead>\n",
       "    <tr style=\"text-align: right;\">\n",
       "      <th></th>\n",
       "      <th>transactionId</th>\n",
       "      <th>visitorId</th>\n",
       "      <th>date</th>\n",
       "      <th>revenue</th>\n",
       "      <th>group</th>\n",
       "    </tr>\n",
       "  </thead>\n",
       "  <tbody>\n",
       "    <tr>\n",
       "      <td>0</td>\n",
       "      <td>3667963787</td>\n",
       "      <td>3312258926</td>\n",
       "      <td>2019-08-15</td>\n",
       "      <td>1650</td>\n",
       "      <td>B</td>\n",
       "    </tr>\n",
       "    <tr>\n",
       "      <td>1</td>\n",
       "      <td>2804400009</td>\n",
       "      <td>3642806036</td>\n",
       "      <td>2019-08-15</td>\n",
       "      <td>730</td>\n",
       "      <td>B</td>\n",
       "    </tr>\n",
       "    <tr>\n",
       "      <td>2</td>\n",
       "      <td>2961555356</td>\n",
       "      <td>4069496402</td>\n",
       "      <td>2019-08-15</td>\n",
       "      <td>400</td>\n",
       "      <td>A</td>\n",
       "    </tr>\n",
       "    <tr>\n",
       "      <td>3</td>\n",
       "      <td>3797467345</td>\n",
       "      <td>1196621759</td>\n",
       "      <td>2019-08-15</td>\n",
       "      <td>9759</td>\n",
       "      <td>B</td>\n",
       "    </tr>\n",
       "    <tr>\n",
       "      <td>4</td>\n",
       "      <td>2282983706</td>\n",
       "      <td>2322279887</td>\n",
       "      <td>2019-08-15</td>\n",
       "      <td>2308</td>\n",
       "      <td>B</td>\n",
       "    </tr>\n",
       "  </tbody>\n",
       "</table>\n",
       "</div>"
      ],
      "text/plain": [
       "   transactionId   visitorId        date  revenue group\n",
       "0     3667963787  3312258926  2019-08-15     1650     B\n",
       "1     2804400009  3642806036  2019-08-15      730     B\n",
       "2     2961555356  4069496402  2019-08-15      400     A\n",
       "3     3797467345  1196621759  2019-08-15     9759     B\n",
       "4     2282983706  2322279887  2019-08-15     2308     B"
      ]
     },
     "metadata": {},
     "output_type": "display_data"
    },
    {
     "name": "stdout",
     "output_type": "stream",
     "text": [
      "<class 'pandas.core.frame.DataFrame'>\n",
      "RangeIndex: 1197 entries, 0 to 1196\n",
      "Data columns (total 5 columns):\n",
      "transactionId    1197 non-null int64\n",
      "visitorId        1197 non-null int64\n",
      "date             1197 non-null object\n",
      "revenue          1197 non-null int64\n",
      "group            1197 non-null object\n",
      "dtypes: int64(3), object(2)\n",
      "memory usage: 46.9+ KB\n",
      "None \n",
      "\n",
      "Index(['transactionId', 'visitorId', 'date', 'revenue', 'group'], dtype='object') \n",
      "\n",
      "Numbers of NaN values in the dataset - orders \n",
      "\n",
      "transactionId    0\n",
      "visitorId        0\n",
      "date             0\n",
      "revenue          0\n",
      "group            0\n",
      "dtype: int64\n",
      "Numbers of duplicates (explicit)in the dataset - orders \n",
      "\n",
      "0\n",
      "None\n"
     ]
    }
   ],
   "source": [
    "print(get_into(df_orders, 'orders')) "
   ]
  },
  {
   "cell_type": "markdown",
   "metadata": {},
   "source": [
    "**Комментарий по датасету - orders:**"
   ]
  },
  {
   "cell_type": "markdown",
   "metadata": {},
   "source": [
    "В наборе данных - **orders**, есть несколько проблем, которые нужно исправить прежде чем приступить к работе:\n",
    "1. Изменить регистр колонок;\n",
    "2. Привести столбец  к соответствующему типу данных\n",
    "\n",
    "Также отмечу, что в данных нет пропусков, нет полных дубликатов"
   ]
  },
  {
   "cell_type": "code",
   "execution_count": 6,
   "metadata": {},
   "outputs": [
    {
     "name": "stdout",
     "output_type": "stream",
     "text": [
      "<class 'pandas.core.frame.DataFrame'>\n",
      "RangeIndex: 1197 entries, 0 to 1196\n",
      "Data columns (total 5 columns):\n",
      "transactionid    1197 non-null int64\n",
      "visitorid        1197 non-null int64\n",
      "date             1197 non-null datetime64[ns]\n",
      "revenue          1197 non-null int64\n",
      "group            1197 non-null object\n",
      "dtypes: datetime64[ns](1), int64(3), object(1)\n",
      "memory usage: 46.9+ KB\n",
      "None\n"
     ]
    }
   ],
   "source": [
    "df_orders.columns = df_orders.columns.str.lower()\n",
    "df_orders['date'] = df_orders['date'].map(lambda x: dt.datetime.strptime(x, '%Y-%m-%d'))\n",
    "df_orders\n",
    "print(df_orders.info())"
   ]
  },
  {
   "cell_type": "code",
   "execution_count": 7,
   "metadata": {},
   "outputs": [
    {
     "name": "stdout",
     "output_type": "stream",
     "text": [
      "User with the visitorid 4069496402 is in both groups\n",
      "User with the visitorid 199603092 is in both groups\n",
      "User with the visitorid 3803269165 is in both groups\n",
      "User with the visitorid 2378935119 is in both groups\n",
      "User with the visitorid 237748145 is in both groups\n",
      "User with the visitorid 4256040402 is in both groups\n",
      "User with the visitorid 2038680547 is in both groups\n",
      "User with the visitorid 1738359350 is in both groups\n",
      "User with the visitorid 2458001652 is in both groups\n",
      "User with the visitorid 3891541246 is in both groups\n",
      "User with the visitorid 2716752286 is in both groups\n",
      "User with the visitorid 3656415546 is in both groups\n",
      "User with the visitorid 2686716486 is in both groups\n",
      "User with the visitorid 2954449915 is in both groups\n",
      "User with the visitorid 2927087541 is in both groups\n",
      "User with the visitorid 3234906277 is in both groups\n",
      "User with the visitorid 457167155 is in both groups\n",
      "User with the visitorid 2579882178 is in both groups\n",
      "User with the visitorid 3957174400 is in both groups\n",
      "User with the visitorid 1648269707 is in both groups\n",
      "User with the visitorid 2780786433 is in both groups\n",
      "User with the visitorid 818047933 is in both groups\n",
      "User with the visitorid 2044997962 is in both groups\n",
      "User with the visitorid 1959144690 is in both groups\n",
      "User with the visitorid 3202540741 is in both groups\n",
      "User with the visitorid 1333886533 is in both groups\n",
      "User with the visitorid 351125977 is in both groups\n",
      "User with the visitorid 3951559397 is in both groups\n",
      "User with the visitorid 393266494 is in both groups\n",
      "User with the visitorid 3984495233 is in both groups\n",
      "User with the visitorid 4120364173 is in both groups\n",
      "User with the visitorid 4266935830 is in both groups\n",
      "User with the visitorid 1230306981 is in both groups\n",
      "User with the visitorid 1294878855 is in both groups\n",
      "User with the visitorid 1614305549 is in both groups\n",
      "User with the visitorid 8300375 is in both groups\n",
      "User with the visitorid 477780734 is in both groups\n",
      "User with the visitorid 1668030113 is in both groups\n",
      "User with the visitorid 3717692402 is in both groups\n",
      "User with the visitorid 3766097110 is in both groups\n",
      "User with the visitorid 3941795274 is in both groups\n",
      "User with the visitorid 471551937 is in both groups\n",
      "User with the visitorid 1316129916 is in both groups\n",
      "User with the visitorid 1801183820 is in both groups\n",
      "User with the visitorid 1602967004 is in both groups\n",
      "User with the visitorid 2587333274 is in both groups\n",
      "User with the visitorid 2600415354 is in both groups\n",
      "User with the visitorid 232979603 is in both groups\n",
      "User with the visitorid 3972127743 is in both groups\n",
      "User with the visitorid 1404934699 is in both groups\n",
      "User with the visitorid 276558944 is in both groups\n",
      "User with the visitorid 3062433592 is in both groups\n",
      "User with the visitorid 2654030115 is in both groups\n",
      "User with the visitorid 3963646447 is in both groups\n",
      "User with the visitorid 4186807279 is in both groups\n",
      "User with the visitorid 2712142231 is in both groups\n",
      "User with the visitorid 2949041841 is in both groups\n",
      "User with the visitorid 963407295 is in both groups\n"
     ]
    }
   ],
   "source": [
    "groupA        = df_orders.query('group == \"A\"')\n",
    "groupB        = df_orders.query('group == \"B\"') \n",
    "unic_visitorA = groupA['visitorid'].unique()\n",
    "unic_visitorB = groupB['visitorid'].unique()\n",
    "\n",
    "for id_A in unic_visitorA:\n",
    "    for id_B in unic_visitorB:\n",
    "        if id_A == id_B:\n",
    "            print(f'User with the visitorid {id_B} is in both groups')"
   ]
  },
  {
   "cell_type": "markdown",
   "metadata": {},
   "source": [
    "**Вывод:** Сравнил уникальные пользовательские ID и выявил совпадения  одного и того же ID. Есть два решения: 1 - удалить таких пользователей из иследуемого набора данных, но при этом это может вызвать противоречия с другим датасетом (visitors). 2 - оставить без изменений. 3 - в реальной задаче, я бы уточнил у разработчиков дата сета, почему есть такая проблема (возможно удасться понять, почему это случилось) после чего приступил к 1 или 2 варианту. "
   ]
  },
  {
   "cell_type": "markdown",
   "metadata": {},
   "source": [
    "Датасет готов к работе."
   ]
  },
  {
   "cell_type": "code",
   "execution_count": 8,
   "metadata": {},
   "outputs": [
    {
     "name": "stdout",
     "output_type": "stream",
     "text": [
      "Common information about - visitors\n"
     ]
    },
    {
     "data": {
      "text/html": [
       "<div>\n",
       "<style scoped>\n",
       "    .dataframe tbody tr th:only-of-type {\n",
       "        vertical-align: middle;\n",
       "    }\n",
       "\n",
       "    .dataframe tbody tr th {\n",
       "        vertical-align: top;\n",
       "    }\n",
       "\n",
       "    .dataframe thead th {\n",
       "        text-align: right;\n",
       "    }\n",
       "</style>\n",
       "<table border=\"1\" class=\"dataframe\">\n",
       "  <thead>\n",
       "    <tr style=\"text-align: right;\">\n",
       "      <th></th>\n",
       "      <th>date</th>\n",
       "      <th>group</th>\n",
       "      <th>visitors</th>\n",
       "    </tr>\n",
       "  </thead>\n",
       "  <tbody>\n",
       "    <tr>\n",
       "      <td>0</td>\n",
       "      <td>2019-08-01</td>\n",
       "      <td>A</td>\n",
       "      <td>719</td>\n",
       "    </tr>\n",
       "    <tr>\n",
       "      <td>1</td>\n",
       "      <td>2019-08-02</td>\n",
       "      <td>A</td>\n",
       "      <td>619</td>\n",
       "    </tr>\n",
       "    <tr>\n",
       "      <td>2</td>\n",
       "      <td>2019-08-03</td>\n",
       "      <td>A</td>\n",
       "      <td>507</td>\n",
       "    </tr>\n",
       "    <tr>\n",
       "      <td>3</td>\n",
       "      <td>2019-08-04</td>\n",
       "      <td>A</td>\n",
       "      <td>717</td>\n",
       "    </tr>\n",
       "    <tr>\n",
       "      <td>4</td>\n",
       "      <td>2019-08-05</td>\n",
       "      <td>A</td>\n",
       "      <td>756</td>\n",
       "    </tr>\n",
       "  </tbody>\n",
       "</table>\n",
       "</div>"
      ],
      "text/plain": [
       "         date group  visitors\n",
       "0  2019-08-01     A       719\n",
       "1  2019-08-02     A       619\n",
       "2  2019-08-03     A       507\n",
       "3  2019-08-04     A       717\n",
       "4  2019-08-05     A       756"
      ]
     },
     "metadata": {},
     "output_type": "display_data"
    },
    {
     "name": "stdout",
     "output_type": "stream",
     "text": [
      "<class 'pandas.core.frame.DataFrame'>\n",
      "RangeIndex: 62 entries, 0 to 61\n",
      "Data columns (total 3 columns):\n",
      "date        62 non-null object\n",
      "group       62 non-null object\n",
      "visitors    62 non-null int64\n",
      "dtypes: int64(1), object(2)\n",
      "memory usage: 1.6+ KB\n",
      "None \n",
      "\n",
      "Index(['date', 'group', 'visitors'], dtype='object') \n",
      "\n",
      "Numbers of NaN values in the dataset - visitors \n",
      "\n",
      "date        0\n",
      "group       0\n",
      "visitors    0\n",
      "dtype: int64\n",
      "Numbers of duplicates (explicit)in the dataset - visitors \n",
      "\n",
      "0\n",
      "None\n"
     ]
    }
   ],
   "source": [
    "print(get_into(df_visitors, 'visitors')) "
   ]
  },
  {
   "cell_type": "markdown",
   "metadata": {},
   "source": [
    "**Комментарий по датасету - visitors:**"
   ]
  },
  {
   "cell_type": "markdown",
   "metadata": {},
   "source": [
    "В наборе данных - **visitors**, есть несколько проблем, которые нужно исправить прежде чем приступить к работе:\n",
    "\n",
    "1. Привести столбец к соответствующему типу данных\n",
    "Также отмечу, что в данных нет пропусков, нет полных дубликатов, названия колонок начинаются с нижнего регистра."
   ]
  },
  {
   "cell_type": "code",
   "execution_count": 9,
   "metadata": {},
   "outputs": [
    {
     "name": "stdout",
     "output_type": "stream",
     "text": [
      "<class 'pandas.core.frame.DataFrame'>\n",
      "RangeIndex: 62 entries, 0 to 61\n",
      "Data columns (total 3 columns):\n",
      "date        62 non-null datetime64[ns]\n",
      "group       62 non-null object\n",
      "visitors    62 non-null int64\n",
      "dtypes: datetime64[ns](1), int64(1), object(1)\n",
      "memory usage: 1.6+ KB\n",
      "None\n"
     ]
    }
   ],
   "source": [
    "df_visitors['date'] = df_visitors['date'].map(lambda x: dt.datetime.strptime(x, '%Y-%m-%d'))\n",
    "print(df_visitors.info())"
   ]
  },
  {
   "cell_type": "markdown",
   "metadata": {},
   "source": [
    "Датасет готов к работе"
   ]
  },
  {
   "cell_type": "markdown",
   "metadata": {},
   "source": [
    "### Приоритизация гипотез."
   ]
  },
  {
   "cell_type": "code",
   "execution_count": 10,
   "metadata": {},
   "outputs": [
    {
     "data": {
      "text/html": [
       "<div>\n",
       "<style scoped>\n",
       "    .dataframe tbody tr th:only-of-type {\n",
       "        vertical-align: middle;\n",
       "    }\n",
       "\n",
       "    .dataframe tbody tr th {\n",
       "        vertical-align: top;\n",
       "    }\n",
       "\n",
       "    .dataframe thead th {\n",
       "        text-align: right;\n",
       "    }\n",
       "</style>\n",
       "<table border=\"1\" class=\"dataframe\">\n",
       "  <thead>\n",
       "    <tr style=\"text-align: right;\">\n",
       "      <th></th>\n",
       "      <th>hypothesis</th>\n",
       "      <th>ICE</th>\n",
       "    </tr>\n",
       "  </thead>\n",
       "  <tbody>\n",
       "    <tr>\n",
       "      <td>8</td>\n",
       "      <td>запустить акцию, дающую скидку на товар в день рождения</td>\n",
       "      <td>16.200000</td>\n",
       "    </tr>\n",
       "    <tr>\n",
       "      <td>0</td>\n",
       "      <td>добавить два новых канала привлечения трафика, что позволит привлекать на 30% больше пользователей</td>\n",
       "      <td>13.333333</td>\n",
       "    </tr>\n",
       "    <tr>\n",
       "      <td>7</td>\n",
       "      <td>добавить форму подписки на все основные страницы, чтобы собрать базу клиентов для email-рассылок</td>\n",
       "      <td>11.200000</td>\n",
       "    </tr>\n",
       "    <tr>\n",
       "      <td>6</td>\n",
       "      <td>показать на главной странице баннеры с актуальными акциями и распродажами, чтобы увеличить конверсию</td>\n",
       "      <td>8.000000</td>\n",
       "    </tr>\n",
       "    <tr>\n",
       "      <td>2</td>\n",
       "      <td>добавить блоки рекомендаций товаров на сайт интернет магазина, чтобы повысить конверсию и средний чек заказа</td>\n",
       "      <td>7.000000</td>\n",
       "    </tr>\n",
       "    <tr>\n",
       "      <td>1</td>\n",
       "      <td>запустить собственную службу доставки, что сократит срок доставки заказов</td>\n",
       "      <td>2.000000</td>\n",
       "    </tr>\n",
       "    <tr>\n",
       "      <td>5</td>\n",
       "      <td>добавить страницу отзывов клиентов о магазине, что позволит увеличить количество заказов</td>\n",
       "      <td>1.333333</td>\n",
       "    </tr>\n",
       "    <tr>\n",
       "      <td>3</td>\n",
       "      <td>изменить структура категорий, что увеличит конверсию, т.к. пользователи быстрее найдут нужный товар</td>\n",
       "      <td>1.125000</td>\n",
       "    </tr>\n",
       "    <tr>\n",
       "      <td>4</td>\n",
       "      <td>изменить цвет фона главной страницы, чтобы увеличить вовлеченность пользователей</td>\n",
       "      <td>1.000000</td>\n",
       "    </tr>\n",
       "  </tbody>\n",
       "</table>\n",
       "</div>"
      ],
      "text/plain": [
       "                                                                                                     hypothesis  \\\n",
       "8                                                       запустить акцию, дающую скидку на товар в день рождения   \n",
       "0            добавить два новых канала привлечения трафика, что позволит привлекать на 30% больше пользователей   \n",
       "7              добавить форму подписки на все основные страницы, чтобы собрать базу клиентов для email-рассылок   \n",
       "6          показать на главной странице баннеры с актуальными акциями и распродажами, чтобы увеличить конверсию   \n",
       "2  добавить блоки рекомендаций товаров на сайт интернет магазина, чтобы повысить конверсию и средний чек заказа   \n",
       "1                                     запустить собственную службу доставки, что сократит срок доставки заказов   \n",
       "5                      добавить страницу отзывов клиентов о магазине, что позволит увеличить количество заказов   \n",
       "3           изменить структура категорий, что увеличит конверсию, т.к. пользователи быстрее найдут нужный товар   \n",
       "4                              изменить цвет фона главной страницы, чтобы увеличить вовлеченность пользователей   \n",
       "\n",
       "         ICE  \n",
       "8  16.200000  \n",
       "0  13.333333  \n",
       "7  11.200000  \n",
       "6   8.000000  \n",
       "2   7.000000  \n",
       "1   2.000000  \n",
       "5   1.333333  \n",
       "3   1.125000  \n",
       "4   1.000000  "
      ]
     },
     "metadata": {},
     "output_type": "display_data"
    }
   ],
   "source": [
    "# Calculations of ICE\n",
    "df_hypo['ICE'] = (df_hypo['impact'] * df_hypo['confidence']) / df_hypo['efforts']\n",
    "\n",
    "pd.set_option('display.max_colwidth', 1000)\n",
    "display(df_hypo.loc[:, ['hypothesis', 'ICE']].sort_values(by = 'ICE', ascending = False))"
   ]
  },
  {
   "cell_type": "markdown",
   "metadata": {},
   "source": [
    "**Вывод:** В соответствии с методом приоритизации задач (гипотез) **ICE**, наиболее преспективными являются гипотезы под номерами 8, 0, 7, 6. "
   ]
  },
  {
   "cell_type": "code",
   "execution_count": 11,
   "metadata": {},
   "outputs": [
    {
     "data": {
      "text/html": [
       "<div>\n",
       "<style scoped>\n",
       "    .dataframe tbody tr th:only-of-type {\n",
       "        vertical-align: middle;\n",
       "    }\n",
       "\n",
       "    .dataframe tbody tr th {\n",
       "        vertical-align: top;\n",
       "    }\n",
       "\n",
       "    .dataframe thead th {\n",
       "        text-align: right;\n",
       "    }\n",
       "</style>\n",
       "<table border=\"1\" class=\"dataframe\">\n",
       "  <thead>\n",
       "    <tr style=\"text-align: right;\">\n",
       "      <th></th>\n",
       "      <th>hypothesis</th>\n",
       "      <th>RICE</th>\n",
       "    </tr>\n",
       "  </thead>\n",
       "  <tbody>\n",
       "    <tr>\n",
       "      <td>7</td>\n",
       "      <td>добавить форму подписки на все основные страницы, чтобы собрать базу клиентов для email-рассылок</td>\n",
       "      <td>112.0</td>\n",
       "    </tr>\n",
       "    <tr>\n",
       "      <td>2</td>\n",
       "      <td>добавить блоки рекомендаций товаров на сайт интернет магазина, чтобы повысить конверсию и средний чек заказа</td>\n",
       "      <td>56.0</td>\n",
       "    </tr>\n",
       "    <tr>\n",
       "      <td>0</td>\n",
       "      <td>добавить два новых канала привлечения трафика, что позволит привлекать на 30% больше пользователей</td>\n",
       "      <td>40.0</td>\n",
       "    </tr>\n",
       "    <tr>\n",
       "      <td>6</td>\n",
       "      <td>показать на главной странице баннеры с актуальными акциями и распродажами, чтобы увеличить конверсию</td>\n",
       "      <td>40.0</td>\n",
       "    </tr>\n",
       "    <tr>\n",
       "      <td>8</td>\n",
       "      <td>запустить акцию, дающую скидку на товар в день рождения</td>\n",
       "      <td>16.2</td>\n",
       "    </tr>\n",
       "    <tr>\n",
       "      <td>3</td>\n",
       "      <td>изменить структура категорий, что увеличит конверсию, т.к. пользователи быстрее найдут нужный товар</td>\n",
       "      <td>9.0</td>\n",
       "    </tr>\n",
       "    <tr>\n",
       "      <td>1</td>\n",
       "      <td>запустить собственную службу доставки, что сократит срок доставки заказов</td>\n",
       "      <td>4.0</td>\n",
       "    </tr>\n",
       "    <tr>\n",
       "      <td>5</td>\n",
       "      <td>добавить страницу отзывов клиентов о магазине, что позволит увеличить количество заказов</td>\n",
       "      <td>4.0</td>\n",
       "    </tr>\n",
       "    <tr>\n",
       "      <td>4</td>\n",
       "      <td>изменить цвет фона главной страницы, чтобы увеличить вовлеченность пользователей</td>\n",
       "      <td>3.0</td>\n",
       "    </tr>\n",
       "  </tbody>\n",
       "</table>\n",
       "</div>"
      ],
      "text/plain": [
       "                                                                                                     hypothesis  \\\n",
       "7              добавить форму подписки на все основные страницы, чтобы собрать базу клиентов для email-рассылок   \n",
       "2  добавить блоки рекомендаций товаров на сайт интернет магазина, чтобы повысить конверсию и средний чек заказа   \n",
       "0            добавить два новых канала привлечения трафика, что позволит привлекать на 30% больше пользователей   \n",
       "6          показать на главной странице баннеры с актуальными акциями и распродажами, чтобы увеличить конверсию   \n",
       "8                                                       запустить акцию, дающую скидку на товар в день рождения   \n",
       "3           изменить структура категорий, что увеличит конверсию, т.к. пользователи быстрее найдут нужный товар   \n",
       "1                                     запустить собственную службу доставки, что сократит срок доставки заказов   \n",
       "5                      добавить страницу отзывов клиентов о магазине, что позволит увеличить количество заказов   \n",
       "4                              изменить цвет фона главной страницы, чтобы увеличить вовлеченность пользователей   \n",
       "\n",
       "    RICE  \n",
       "7  112.0  \n",
       "2   56.0  \n",
       "0   40.0  \n",
       "6   40.0  \n",
       "8   16.2  \n",
       "3    9.0  \n",
       "1    4.0  \n",
       "5    4.0  \n",
       "4    3.0  "
      ]
     },
     "metadata": {},
     "output_type": "display_data"
    }
   ],
   "source": [
    "# Calculations of RICE\n",
    "df_hypo['RICE'] = (df_hypo['reach'] * df_hypo['impact'] * \n",
    "                   df_hypo['confidence']) / df_hypo['efforts']\n",
    "\n",
    "pd.set_option('display.max_colwidth', 1000)\n",
    "display(df_hypo.loc[:, ['hypothesis', 'RICE']].sort_values(by = 'RICE', ascending = False))"
   ]
  },
  {
   "cell_type": "markdown",
   "metadata": {},
   "source": [
    "**Вывод:** В соответствии с методом приоритизации задач (гипотез) **RICE**, наиболее преспективными являются гипотезы под номерами 7, 2, 0, 6. "
   ]
  },
  {
   "cell_type": "markdown",
   "metadata": {},
   "source": [
    "**Общий вывод по разделу:** Исходя из полученных результатов можно отметить, что гипотезы под номерами: 7, 0, 6 являются наиболее преспективными - установлено на основании двух методов **ICE** и **RICE**. Следует отметить, что наиболее преспективная гипотезы из метода **ICE** не попала в число наиболее преспективных, согласно методу **RICE**. Основная причина заключается в том, что показатель *Reach* у данной гипотезы равен 1. В тоже время, у гипотезы 7, 0, 6 этот показатель равен 10, 3 и 5, соответственно. Кроме того, показатели *Impact*, *confidence* у этих гипотез одни из сымых высоких (из исследуемых), а показатель *Effort* напротив, один из самых низких."
   ]
  },
  {
   "cell_type": "markdown",
   "metadata": {},
   "source": [
    "### Подготовка к A/B тесту:"
   ]
  },
  {
   "cell_type": "markdown",
   "metadata": {},
   "source": [
    "Прежде, чем приступить к анализу А/B теста выполню несколько подготовительных шагов:"
   ]
  },
  {
   "cell_type": "markdown",
   "metadata": {},
   "source": [
    "#### Проверка гипотез о равенстве среднего количества пользователей в каждой паре датасетов. "
   ]
  },
  {
   "cell_type": "markdown",
   "metadata": {},
   "source": [
    "1. **Dataset orders:**"
   ]
  },
  {
   "cell_type": "markdown",
   "metadata": {},
   "source": [
    "Проверю гипотезу *о равенстве среднего количества пользователей в каждой паре датасетов*. Я знаю, что в датасете **orders** - 1197 уникальных позиций. Соответственно разделю набор данных на две части (в зависимости от группы) и проверю гипотезу по столбцам. Отмечу также, что проверять столбцы **transactionid**, **visitorsid** и **date** не имеет смысла поскольку они не несут информации о выручке заказа."
   ]
  },
  {
   "cell_type": "code",
   "execution_count": 12,
   "metadata": {},
   "outputs": [
    {
     "name": "stdout",
     "output_type": "stream",
     "text": [
      "p-значение для сравнения групп А и B:  0.403693443754076\n",
      "Не получилось отвергнуть нулевую гипотезу для сравнения групп А и B\n"
     ]
    }
   ],
   "source": [
    "group_a = df_orders.query('group == \"A\"')\n",
    "group_b = df_orders.query('group == \"B\"')\n",
    "\n",
    "alpha = 0.05  # критический уровень статистической значимости\n",
    "\n",
    "results_AB = st.ttest_ind(group_a['revenue'], group_b['revenue'])\n",
    "\n",
    "bonferroni_alpha = alpha # произведено три сравнения\n",
    "\n",
    "print('p-значение для сравнения групп А и B: ', results_AB.pvalue)\n",
    "\n",
    "if results_AB.pvalue < bonferroni_alpha:\n",
    "    print('Отвергаем нулевую гипотезу для сравнения групп А и B')\n",
    "else:\n",
    "    print('Не получилось отвергнуть нулевую гипотезу для сравнения групп А и B')"
   ]
  },
  {
   "cell_type": "markdown",
   "metadata": {},
   "source": [
    "**Вывод:** Наблюдаемые данные не подтверждают наличие разницы в средней выручке по группам не выявлено."
   ]
  },
  {
   "cell_type": "markdown",
   "metadata": {},
   "source": [
    "2. **Проверим форму распределения. Критерий Шапиро-Уилка**"
   ]
  },
  {
   "cell_type": "code",
   "execution_count": 13,
   "metadata": {},
   "outputs": [
    {
     "name": "stdout",
     "output_type": "stream",
     "text": [
      "p-значение:  0.0\n",
      "Отвергаем нулевую гипотезу: распределение не нормально\n"
     ]
    }
   ],
   "source": [
    "alpha = 0.05  # критический уровень статистической значимости\n",
    "\n",
    "results = st.shapiro(df_orders['revenue'])\n",
    "p_value = results[1]            # второе значение в массиве результатов (с индексом 1) - p-value\n",
    "\n",
    "print('p-значение: ', p_value)\n",
    "\n",
    "if p_value < alpha:\n",
    "    print('Отвергаем нулевую гипотезу: распределение не нормально')\n",
    "else:\n",
    "    print('Не получилось отвергнуть нулевую гипотезу, всё нормально') "
   ]
  },
  {
   "cell_type": "markdown",
   "metadata": {},
   "source": [
    "**Вывод:** Распределение не нормальное, следовательно скорее всего есть много заказов на небольшую сумму, и очень мало заказов на крупную сумму."
   ]
  },
  {
   "cell_type": "markdown",
   "metadata": {},
   "source": [
    "3. **Непараметрический тест Уилкоксона-Манна-Уитни**"
   ]
  },
  {
   "cell_type": "code",
   "execution_count": 14,
   "metadata": {},
   "outputs": [
    {
     "name": "stdout",
     "output_type": "stream",
     "text": [
      "p-значение:  0.3646454927716229\n",
      "Не получилось отвергнуть нулевую гипотезу, вывод о различии сделать нельзя\n"
     ]
    }
   ],
   "source": [
    "results = st.mannwhitneyu(group_a['revenue'], group_b['revenue'], True, 'less') # ваш код\n",
    "\n",
    "print('p-значение: ', results.pvalue)\n",
    "\n",
    "if results.pvalue < alpha:\n",
    "    print('Отвергаем нулевую гипотезу: разница статистически значима')\n",
    "else:\n",
    "    print('Не получилось отвергнуть нулевую гипотезу, вывод о различии сделать нельзя') "
   ]
  },
  {
   "cell_type": "markdown",
   "metadata": {},
   "source": [
    "Сделать вывод, о том что пользователи из группы Б принесли больше денег, нельзя."
   ]
  },
  {
   "cell_type": "markdown",
   "metadata": {},
   "source": [
    "2. **Dataset visitors:**"
   ]
  },
  {
   "cell_type": "markdown",
   "metadata": {},
   "source": [
    "Проверю гипотезу *о равенстве среднего количества пользователей в каждой паре датасетов*. Я знаю, что в датасете **visitors** - 62 уникальных позиций. Соответственно разделю набор данных на две части (в зависимости от группы) и проверю гипотезу по столбцу **visitors**."
   ]
  },
  {
   "cell_type": "code",
   "execution_count": 15,
   "metadata": {},
   "outputs": [
    {
     "name": "stdout",
     "output_type": "stream",
     "text": [
      "p-значение для сравнения групп А и B:  0.8435238538289684\n",
      "Не получилось отвергнуть нулевую гипотезу для сравнения групп А и B\n"
     ]
    }
   ],
   "source": [
    "group_a = df_visitors.query('group == \"A\"')\n",
    "group_b = df_visitors.query('group == \"B\"')\n",
    "\n",
    "alpha = 0.05  # критический уровень статистической значимости\n",
    "\n",
    "results_AB = st.ttest_ind(group_a['visitors'], group_b['visitors'])\n",
    "\n",
    "bonferroni_alpha = alpha # произведено три сравнения\n",
    "\n",
    "print('p-значение для сравнения групп А и B: ', results_AB.pvalue)\n",
    "\n",
    "if results_AB.pvalue < bonferroni_alpha:\n",
    "    print('Отвергаем нулевую гипотезу для сравнения групп А и B')\n",
    "else:\n",
    "    print('Не получилось отвергнуть нулевую гипотезу для сравнения групп А и B')"
   ]
  },
  {
   "cell_type": "markdown",
   "metadata": {},
   "source": [
    "**Вывод:** Наблюдаемые данные не подтверждают наличие разницы числа пользователей между группами"
   ]
  },
  {
   "cell_type": "markdown",
   "metadata": {},
   "source": [
    "## A/B тест"
   ]
  },
  {
   "cell_type": "markdown",
   "metadata": {},
   "source": [
    "### График кумулятивной выручки по группам. "
   ]
  },
  {
   "cell_type": "code",
   "execution_count": 16,
   "metadata": {},
   "outputs": [],
   "source": [
    "# создаем массив уникальных пар значений дат и групп теста\n",
    "datesGroups = df_orders[['date','group']].drop_duplicates() \n",
    "\n",
    "ordersAggregated = datesGroups.apply(\n",
    "    lambda x: df_orders[np.logical_and(df_orders['date'] <= x['date'], df_orders['group'] == x['group'])\n",
    "              ].agg({'date'         : 'max'    ,\n",
    "                     'group'        : 'max'    ,\n",
    "                     'transactionid': 'nunique',\n",
    "                     'visitorid'    : 'nunique',\n",
    "                     'revenue'      : 'sum'    }), axis = 1,\n",
    ").sort_values(by = ['date', 'group'])\n",
    "\n",
    "visitorsAggregated = datesGroups.apply(\n",
    "    lambda x: df_visitors[np.logical_and(df_visitors['date'] <= x['date'], df_visitors['group'] == x['group'])\n",
    "              ].agg({'date'    : 'max',\n",
    "                     'group'   : 'max',\n",
    "                     'visitors': 'sum'}),axis = 1,\n",
    ").sort_values(by=['date', 'group'])\n",
    "\n",
    "cumulativeData = ordersAggregated.merge(visitorsAggregated,\n",
    "                                        left_on  = ['date', 'group'], \n",
    "                                        right_on = ['date', 'group'])\n",
    "\n",
    "cumulativeData.columns = ['date'   , 'group'   ,\n",
    "                          'orders' , 'buyers'  ,\n",
    "                          'revenue', 'visitors']\n",
    "\n",
    "cumulativeRevenueA = cumulativeData[cumulativeData['group'] == 'A'][['date'   ,\n",
    "                                                                     'revenue',\n",
    "                                                                     'orders' ]]\n",
    "\n",
    "cumulativeRevenueB = cumulativeData[cumulativeData['group'] == 'B'][['date'   ,\n",
    "                                                                     'revenue',\n",
    "                                                                     'orders' ]]\n"
   ]
  },
  {
   "cell_type": "code",
   "execution_count": 17,
   "metadata": {},
   "outputs": [
    {
     "data": {
      "image/png": "[encoded data removed]",
      "text/plain": [
       "<Figure size 1080x360 with 1 Axes>"
      ]
     },
     "metadata": {
      "needs_background": "light"
     },
     "output_type": "display_data"
    }
   ],
   "source": [
    "def plot_settings(ax, title, xlabel, ylabel, llegend = True):\n",
    "    '''\n",
    "    ax     : Figure \n",
    "        The main area for plot\n",
    "    title  : Objects\n",
    "        Plot title\n",
    "    xlabel : Objects \n",
    "        Plot x axis label\n",
    "    ylabel : Objects\n",
    "        Plot y axis label \n",
    "    llegend : Logical\n",
    "        Add or not add, the legend to the plot\n",
    "    '''\n",
    "    # Plot labels\n",
    "    ax.set_title(title  , color = 'black', fontsize = 14, pad = 20)\n",
    "    ax.set_xlabel(xlabel, color = 'black', fontsize = 14, labelpad = 20)\n",
    "    ax.set_ylabel(ylabel, color = 'black', fontsize = 14, labelpad = 20)\n",
    "    \n",
    "    if llegend == True:\n",
    "        ax.legend(loc = 'upper left', frameon = True) \n",
    "            \n",
    "    ax.grid(True , which     = 'major', \n",
    "                   color     = 'k'    ,\n",
    "                   linestyle = 'solid',\n",
    "                   alpha     = 0.5    )\n",
    "\n",
    "    for label in ax.xaxis.get_ticklabels():\n",
    "        label.set_color('black')\n",
    "        label.set_rotation(45)\n",
    "        label.set_fontsize(14)\n",
    "    for label in ax.yaxis.get_ticklabels():\n",
    "        label.set_color('black')\n",
    "        label.set_fontsize(14)    \n",
    "\n",
    "# plot 1\n",
    "fig = plt.figure(figsize = (15, 5))\n",
    "ax  = fig.add_subplot(111) \n",
    "\n",
    "plt.plot(cumulativeRevenueA['date'], cumulativeRevenueA['revenue'], label = 'Group A')\n",
    "plt.plot(cumulativeRevenueB['date'], cumulativeRevenueB['revenue'], label = 'Group B')\n",
    "\n",
    "plot_settings(ax, 'График кумулятивной выручки по группам', 'Дата', 'Кумулятивная выручка')  \n",
    "plt.show()\n"
   ]
  },
  {
   "cell_type": "markdown",
   "metadata": {},
   "source": [
    "**Вывод:** Выручка в двух группах равномерно увеличивается. Следует отметить, что в группе Б наблюдается резкий скачок в увеличении выручки за период с 18.08.2019 по 19.08.2019, после чего кривая вновь стабилизировалась. Скорее всего была совершена крупная покупка в этот временной интервал."
   ]
  },
  {
   "cell_type": "markdown",
   "metadata": {},
   "source": [
    "### График кумулятивного среднего чека по группам. "
   ]
  },
  {
   "cell_type": "code",
   "execution_count": 18,
   "metadata": {},
   "outputs": [
    {
     "data": {
      "image/png": "[encoded data removed]",
      "text/plain": [
       "<Figure size 1080x360 with 1 Axes>"
      ]
     },
     "metadata": {
      "needs_background": "light"
     },
     "output_type": "display_data"
    }
   ],
   "source": [
    "fig = plt.figure(figsize = (15, 5))\n",
    "ax  = fig.add_subplot(111) \n",
    "\n",
    "plt.plot(cumulativeRevenueA['date']                                  , \n",
    "         cumulativeRevenueA['revenue'] / cumulativeRevenueA['orders'], \n",
    "         label = 'Group A')\n",
    "\n",
    "plt.plot(cumulativeRevenueB['date']                                  , \n",
    "         cumulativeRevenueB['revenue'] / cumulativeRevenueB['orders'],\n",
    "         label = 'Group B')\n",
    "\n",
    "plot_settings(ax, 'График кумулятивного среднего чека по группам',\n",
    "                  'Дата', 'Кумулятивный средний чек'             )\n",
    "plt.show()"
   ]
  },
  {
   "cell_type": "markdown",
   "metadata": {},
   "source": [
    "**Вывод:** Средний чек группы А, постепенно продолжает увеличиваться, в то время как для группы Б начиная с 19.08.2019 постепенно уменьшается. Основная причина столь разного поведения связана с тем, что в группу Б попал крупный заказ."
   ]
  },
  {
   "cell_type": "markdown",
   "metadata": {},
   "source": [
    "### График относительного изменения кумулятивного среднего чека группы B к группе A. "
   ]
  },
  {
   "cell_type": "code",
   "execution_count": 19,
   "metadata": {},
   "outputs": [
    {
     "data": {
      "image/png": "[encoded data removed]",
      "text/plain": [
       "<Figure size 1080x360 with 1 Axes>"
      ]
     },
     "metadata": {
      "needs_background": "light"
     },
     "output_type": "display_data"
    }
   ],
   "source": [
    "# собираем данные в одном датафрейме\n",
    "mergedCumulativeRevenue = cumulativeRevenueA.merge(cumulativeRevenueB , \n",
    "                                                   left_on  = 'date'  ,\n",
    "                                                   right_on = 'date'  ,\n",
    "                                                   how      = 'left'  , \n",
    "                                                   suffixes = ['A','B'])\n",
    "\n",
    "# cтроим отношение средних чеков\n",
    "fig = plt.figure(figsize = (15, 5))\n",
    "ax  = fig.add_subplot(111) \n",
    "\n",
    "plt.plot(mergedCumulativeRevenue['date'], \n",
    "          (mergedCumulativeRevenue['revenueB'] / mergedCumulativeRevenue['ordersB']) / \n",
    "          (mergedCumulativeRevenue['revenueA'] / mergedCumulativeRevenue['ordersA']) - 1 )\n",
    "\n",
    "plot_settings(ax, 'График относительного различия кумулятивного среднего чека группы B к группе A',\n",
    "                  'Дата', 'Кумулятивный средний чек', llegend = False)\n",
    "\n",
    "# добавляем ось X\n",
    "plt.axhline(y = 0, color = 'black', linestyle = '--');"
   ]
  },
  {
   "cell_type": "markdown",
   "metadata": {},
   "source": [
    "**Вывод:** Результаты существенно менялись несколько раз, скорее всего в те дни, когда совершались аномальные покупки."
   ]
  },
  {
   "cell_type": "markdown",
   "metadata": {},
   "source": [
    "### График кумулятивной конверсии по группам."
   ]
  },
  {
   "cell_type": "code",
   "execution_count": 20,
   "metadata": {},
   "outputs": [
    {
     "data": {
      "image/png": "[encoded data removed]",
      "text/plain": [
       "<Figure size 1080x360 with 1 Axes>"
      ]
     },
     "metadata": {
      "needs_background": "light"
     },
     "output_type": "display_data"
    }
   ],
   "source": [
    "# считаем кумулятивную конверсию\n",
    "cumulativeData['conversion'] = cumulativeData['orders'] / cumulativeData['visitors']\n",
    "\n",
    "# отделяем данные по группе A\n",
    "cumulativeDataA = cumulativeData[cumulativeData['group'] == 'A']\n",
    "\n",
    "# отделяем данные по группе B\n",
    "cumulativeDataB = cumulativeData[cumulativeData['group'] == 'B']\n",
    "\n",
    "# строим графики\n",
    "fig = plt.figure(figsize = (15, 5))\n",
    "ax  = fig.add_subplot(111) \n",
    "\n",
    "plt.plot(cumulativeDataA['date'], cumulativeDataA['conversion'], label = 'Group A')\n",
    "plt.plot(cumulativeDataB['date'], cumulativeDataB['conversion'], label = 'Group B')\n",
    "\n",
    "plot_settings(ax, 'График кумулятивной конверсии по группам',\n",
    "                  'Дата', 'Конверсия')\n",
    "plt.show()"
   ]
  },
  {
   "cell_type": "markdown",
   "metadata": {},
   "source": [
    "**Вывод:** В начале теста группа А имела большую конверсию, но начиная с 4 дня эксперимента группа Б имеет стабильно большие значения конверсии, чем группа А. Графики показываю, что у группы А конверсия начиная с 13.08.2019 колеблется в границах `±1%`, в то время как у группы Б устойчивые колебания конверсия еще только формируются. Но в целом также прослеживаются колебания в диапазоне `±1%`. В последние дни эксперимента конверсия имела тенденцию на понижение."
   ]
  },
  {
   "cell_type": "markdown",
   "metadata": {},
   "source": [
    "### График относительного изменения кумулятивной конверсии группы B к группе A. "
   ]
  },
  {
   "cell_type": "code",
   "execution_count": 21,
   "metadata": {},
   "outputs": [
    {
     "data": {
      "image/png": "[encoded data removed]",
      "text/plain": [
       "<Figure size 1080x360 with 1 Axes>"
      ]
     },
     "metadata": {
      "needs_background": "light"
     },
     "output_type": "display_data"
    }
   ],
   "source": [
    "mergedCumulativeConversions = cumulativeDataA[['date'      , \n",
    "                                               'conversion']].merge(cumulativeDataB[['date'      ,\n",
    "                                                                                     'conversion']],\n",
    "                                                                    left_on  = 'date'   , \n",
    "                                                                    right_on = 'date'   ,\n",
    "                                                                    how      = 'left'   ,\n",
    "                                                                    suffixes = ['A', 'B'])\n",
    "# строим графики\n",
    "fig = plt.figure(figsize = (15, 5))\n",
    "ax  = fig.add_subplot(111) \n",
    "plt.plot(mergedCumulativeConversions['date'], \n",
    "         mergedCumulativeConversions['conversionB'] / mergedCumulativeConversions['conversionA'] - 1)\n",
    "\n",
    "plot_settings(ax, 'График относительного различия кумулятивной конверсии группы B к группе A',\n",
    "                  'Дата', 'Конверсия', llegend = False)\n",
    "\n",
    "plt.axhline(y = 0  , color = 'black', linestyle = '--')\n",
    "plt.axhline(y = 0.1, color = 'grey' , linestyle = '--')\n",
    "\n",
    "plt.show()"
   ]
  },
  {
   "cell_type": "markdown",
   "metadata": {},
   "source": [
    "**Вывод:** Почти с самого начала теста группа Б лидирует по конверсии, достигая 20% в середине исследуемого периода, и имяя средние значения конверсии в районе 10%."
   ]
  },
  {
   "cell_type": "markdown",
   "metadata": {},
   "source": [
    "###  Точечный график количества заказов по пользователям."
   ]
  },
  {
   "cell_type": "code",
   "execution_count": 22,
   "metadata": {},
   "outputs": [
    {
     "data": {
      "image/png": "[encoded data removed]",
      "text/plain": [
       "<Figure size 1080x360 with 1 Axes>"
      ]
     },
     "metadata": {
      "needs_background": "light"
     },
     "output_type": "display_data"
    }
   ],
   "source": [
    "ordersByUsers = (df_orders.groupby('visitorid', as_index = False)\n",
    "                          .agg({'transactionid': pd.Series.nunique}))\n",
    "\n",
    "ordersByUsers.columns = ['user_id', 'orders']\n",
    "\n",
    "# серия из чисел от 0 до количества наблюдений в ordersByUsers\n",
    "fig = plt.figure(figsize = (15, 5))\n",
    "ax  = fig.add_subplot(111) \n",
    "\n",
    "x_values = pd.Series(range(0, len(ordersByUsers)))\n",
    "plt.scatter(x_values, ordersByUsers['orders']) \n",
    "\n",
    "plot_settings(ax, 'Точечный график количества заказов по пользователям',\n",
    "                  'User_id', 'Количество заказов', llegend = False)\n",
    "plt.show()"
   ]
  },
  {
   "cell_type": "markdown",
   "metadata": {},
   "source": [
    "**Вывод:** Большинство уникальных пользователей совершают 1 заказ, пользователей совершающих 3 и более заказа, совсем мало. Определимся, что делать с пользователями, которые совершили по 2 заказа (отбросить или оставить). "
   ]
  },
  {
   "cell_type": "markdown",
   "metadata": {},
   "source": [
    "### 95-й и 99-й перцентили количества заказов на пользователя. Границу для определения аномальных пользователей."
   ]
  },
  {
   "cell_type": "code",
   "execution_count": 23,
   "metadata": {},
   "outputs": [
    {
     "name": "stdout",
     "output_type": "stream",
     "text": [
      "[1. 2. 4.]\n"
     ]
    }
   ],
   "source": [
    "print(np.percentile(ordersByUsers['orders'], [90, 95, 99]))"
   ]
  },
  {
   "cell_type": "markdown",
   "metadata": {},
   "source": [
    "**Вывод:** Не более 5% пользователей совершали больше двух заказов, и не более 1% пользователей - более трёх заказов."
   ]
  },
  {
   "cell_type": "markdown",
   "metadata": {},
   "source": [
    "### Точечный график стоимостей заказов и 95-й и 99-й перцентили."
   ]
  },
  {
   "cell_type": "code",
   "execution_count": 24,
   "metadata": {},
   "outputs": [
    {
     "data": {
      "image/png": "[encoded data removed]",
      "text/plain": [
       "<Figure size 1080x360 with 1 Axes>"
      ]
     },
     "metadata": {
      "needs_background": "light"
     },
     "output_type": "display_data"
    },
    {
     "name": "stdout",
     "output_type": "stream",
     "text": [
      "[18168.  28000.  58233.2]\n"
     ]
    }
   ],
   "source": [
    "# серия из чисел от 0 до количества наблюдений в ordersByUsers\n",
    "fig = plt.figure(figsize = (15, 5))\n",
    "ax  = fig.add_subplot(111) \n",
    "\n",
    "x_values = pd.Series(range(0, len(df_orders['revenue'])))\n",
    "plt.scatter(x_values, df_orders['revenue']) \n",
    "\n",
    "plot_settings(ax, 'Точечный график стоимостей заказов',\n",
    "                  'User_id', 'Стоимость заказа', llegend = False)\n",
    "\n",
    "plt.show()\n",
    "\n",
    "print(np.percentile(df_orders['revenue'], [90, 95, 99]))"
   ]
  },
  {
   "cell_type": "markdown",
   "metadata": {},
   "source": [
    "**Вывод:** Большинство заказов совершаются на сумму до 18000 тысяч рублей. Всего лишь 5% совершают суммы заказов на 28000 тысяч рублей. 1% заказов превышает сумму 580 тысяч рублей. Также завиксирован аномальный заказ стоимостью больше 1 миллиона рублей."
   ]
  },
  {
   "cell_type": "markdown",
   "metadata": {},
   "source": [
    "### Статистическая значимость различий в конверсии между группами по «сырым» данным."
   ]
  },
  {
   "cell_type": "markdown",
   "metadata": {},
   "source": [
    "**Нулевая гипотеза:** Конверсия группы А на основе \"сырых\" данных, равна конверсии группы Б.  \n",
    "\n",
    "**Альтернативные гипотеза:** конверсия группы А на основе \"сырых\" данных не равна конверсии группы Б."
   ]
  },
  {
   "cell_type": "code",
   "execution_count": 25,
   "metadata": {},
   "outputs": [],
   "source": [
    "# Get data for research\n",
    "def data_preparation(df_visit, df_order, ngroup):\n",
    "    '''\n",
    "    df_visit : DataFrame\n",
    "        Dataset with information about visiters\n",
    "    df_order : DataFrame\n",
    "        Dataset with information about orders    \n",
    "    ngroup   : Objects\n",
    "        The group name\n",
    "    \n",
    "    RETURN\n",
    "        visitorsDaily       : DataFrame\n",
    "        visitorsCummulative : DataFrame      \n",
    "        ordersDaily         : DataFrame\n",
    "        ordersCummulative   : DataFrame\n",
    "    '''\n",
    "    # Work with df_visitors\n",
    "    visitorsDaily         = df_visit[df_visit['group'] == ngroup][['date', 'visitors']]\n",
    "    visitorsDaily.columns = ['date', f'visitorsPerDate{ngroup}']\n",
    "    \n",
    "    visitorsCummulative  = visitorsDaily.apply(\n",
    "        lambda x: visitorsDaily[visitorsDaily['date'] <= x['date']\n",
    "                               ].agg({'date'                    : 'max', \n",
    "                                      f'visitorsPerDate{ngroup}': 'sum'}), axis = 1)\n",
    "    \n",
    "    visitorsCummulative.columns = ['date', f'visitorsCummulative{ngroup}']\n",
    "    \n",
    "    # Work with df_orders   \n",
    "    ordersDaily = (df_order[df_order['group'] == ngroup][['date'         ,\n",
    "                                                          'transactionid',\n",
    "                                                          'visitorid'    , \n",
    "                                                          'revenue'      ]]        \n",
    "                   .groupby('date', as_index = False)\n",
    "                   .agg({'transactionid': pd.Series.nunique, 'revenue': 'sum'})\n",
    "                  )\n",
    "    \n",
    "    ordersDaily.columns = ['date', f'ordersPerDate{ngroup}', f'revenuePerDate{ngroup}']\n",
    "        \n",
    "    ordersCummulative = ordersDaily.apply(\n",
    "        lambda x: ordersDaily[ordersDaily['date'] <= x['date']\n",
    "                              ].agg({'date'                    : 'max',\n",
    "                                     f'ordersPerDate{ngroup}'  : 'sum',\n",
    "                                     f'revenuePerDate{ngroup}' : 'sum'}), axis = 1).sort_values(by = ['date'])\n",
    "    \n",
    "    return visitorsDaily, visitorsCummulative, ordersDaily, ordersCummulative \n",
    "\n",
    "\n",
    "# Find conversion in research group\n",
    "def get_sample(df_orders, df_data, ngroup):\n",
    "    '''\n",
    "    df_orders : DataFrame\n",
    "        The dataset with the original data\n",
    "    df_data   : DataFrame\n",
    "        The merge dataframe\n",
    "    ngroup : Objects\n",
    "        The name of group\n",
    "    RETURN\n",
    "        sample : Dataframe\n",
    "\n",
    "    ''' \n",
    "    ordersByUsers = (df_orders[df_orders['group'] == ngroup]\n",
    "                     .groupby('visitorid', as_index = False)\n",
    "                     .agg({'transactionid' : pd.Series.nunique})\n",
    "                    )\n",
    "\n",
    "    ordersByUsers.columns = ['userId', 'orders']\n",
    "\n",
    "    sample = pd.concat([ordersByUsers['orders'], \n",
    "                       pd.Series(0, index = np.arange(df_data[f'visitorsPerDate{ngroup}'].sum() - \n",
    "                                                      len(ordersByUsers['orders'])), \n",
    "                               name = 'orders')], axis = 0)\n",
    "    return ordersByUsers, sample"
   ]
  },
  {
   "cell_type": "code",
   "execution_count": 26,
   "metadata": {},
   "outputs": [
    {
     "name": "stdout",
     "output_type": "stream",
     "text": [
      "0.00840\n",
      "0.138\n"
     ]
    }
   ],
   "source": [
    "visitorsADaily, visitorsACummulative, ordersADaily, ordersACummulative = data_preparation(df_visitors,\n",
    "                                                                                          df_orders  , \n",
    "                                                                                          'A')\n",
    "\n",
    "visitorsBDaily, visitorsBCummulative, ordersBDaily, ordersBCummulative = data_preparation(df_visitors,\n",
    "                                                                                          df_orders  , \n",
    "                                                                                          'B')\n",
    "\n",
    "data = (ordersADaily.merge(ordersBDaily        , left_on = 'date', right_on = 'date', how = 'left')\n",
    "                    .merge(ordersACummulative  , left_on = 'date', right_on = 'date', how = 'left')\n",
    "                    .merge(ordersBCummulative  , left_on = 'date', right_on = 'date', how = 'left')\n",
    "                    .merge(visitorsADaily      , left_on = 'date', right_on = 'date', how = 'left')\n",
    "                    .merge(visitorsBDaily      , left_on = 'date', right_on = 'date', how = 'left')\n",
    "                    .merge(visitorsACummulative, left_on = 'date', right_on = 'date', how = 'left')\n",
    "                    .merge(visitorsBCummulative, left_on = 'date', right_on = 'date', how = 'left')\n",
    "        )\n",
    "\n",
    "\n",
    "ordersByUsersA, sampleA = get_sample(df_orders, data, 'A')\n",
    "ordersByUsersB, sampleB = get_sample(df_orders, data, 'B')\n",
    "\n",
    "\n",
    "print(\"{0:.5f}\".format(stats.mannwhitneyu(sampleA, sampleB)[1]))\n",
    "\n",
    "print(\"{0:.3f}\".format(sampleB.mean() / sampleA.mean() - 1))"
   ]
  },
  {
   "cell_type": "markdown",
   "metadata": {},
   "source": [
    "**Вывод:** По сырым данным зафиксировано наличие различий в конверсии в группах A и B нет. Поскольку первое число p-value = 0.008 меньше 0.05 Следовательно, нулевую гипотезу о том, что статистически значимых различий в конверсии между группами нет, **отвергаем**. При этом относительный выйгрыш группы Б равен 13.8%. "
   ]
  },
  {
   "cell_type": "markdown",
   "metadata": {},
   "source": [
    "### Статистическая значимость различий в среднем чеке заказа между группами по «сырым» данным. "
   ]
  },
  {
   "cell_type": "markdown",
   "metadata": {},
   "source": [
    "**Нулевая гипотеза:** Средний чек группы А на основе \"сырых\" данных, равен среднему чеку группы Б.  \n",
    "\n",
    "**Альтернативные гипотезы:** Средний чек группы А на основе \"сырых\" данных не равен среднему чеку группы Б."
   ]
  },
  {
   "cell_type": "code",
   "execution_count": 27,
   "metadata": {},
   "outputs": [
    {
     "name": "stdout",
     "output_type": "stream",
     "text": [
      "0.365\n",
      "0.259\n"
     ]
    }
   ],
   "source": [
    "bill_groupA = df_orders[df_orders['group'] == 'A']['revenue']\n",
    "bill_groupB = df_orders[df_orders['group'] == 'B']['revenue']\n",
    "\n",
    "\n",
    "print('{0:.3f}'.format(stats.mannwhitneyu(bill_groupA,bill_groupB)[1]))\n",
    "print('{0:.3f}'.format(bill_groupB.mean() / bill_groupA.mean()-1))"
   ]
  },
  {
   "cell_type": "markdown",
   "metadata": {},
   "source": [
    "**Вывод:** *P-value* значительно больше 0.05. Значит, причин отвергать нулевую гипотезу и считать, что в среднем чеке есть различия, нет. Впрочем, средний чек группы B на 10% больше, среднего чека группы A."
   ]
  },
  {
   "cell_type": "markdown",
   "metadata": {},
   "source": [
    "### Статистическая значимость различий в конверсии между группами по «очищенным» данным. "
   ]
  },
  {
   "cell_type": "markdown",
   "metadata": {},
   "source": [
    "**Нулевая гипотеза:** Конверсия группы А на основе \"очищенных\" данных, равна конверсии группы Б.  \n",
    "\n",
    "**Альтернативные гипотезы:** конверсия группы А на основе \"очищенных\" данных не равна конверсии группы Б."
   ]
  },
  {
   "cell_type": "markdown",
   "metadata": {},
   "source": [
    "Ранее, я установил, что 95-й и 99-й перцентили средних чеков равны 28.000 и 582.233 рублям. А 95-й и 99-й перцентили количества заказов на одного пользователя равны 2 и 4 заказа на пользователя."
   ]
  },
  {
   "cell_type": "code",
   "execution_count": 28,
   "metadata": {},
   "outputs": [
    {
     "name": "stdout",
     "output_type": "stream",
     "text": [
      "1099    148427295\n",
      "18      199603092\n",
      "928     204675465\n",
      "23      237748145\n",
      "37      249864742\n",
      "dtype: int64\n",
      "(74,)\n"
     ]
    }
   ],
   "source": [
    "# Узнаем, сколько всего аномальных пользователей: \n",
    "usersWithManyOrders = pd.concat([ordersByUsersA[ordersByUsersA['orders'] > 2]['userId'],\n",
    "                                 ordersByUsersB[ordersByUsersB['orders'] > 2]['userId']], axis = 0)\n",
    "\n",
    "\n",
    "usersWithExpensiveOrders = df_orders[df_orders['revenue'] > 28000]['visitorid']\n",
    "\n",
    "\n",
    "abnormalUsers = (pd.concat([usersWithManyOrders, usersWithExpensiveOrders], axis = 0)\n",
    "                   .drop_duplicates()\n",
    "                   .sort_values()\n",
    "                )\n",
    "\n",
    "print(abnormalUsers.head(5))\n",
    "print(abnormalUsers.shape) "
   ]
  },
  {
   "cell_type": "markdown",
   "metadata": {},
   "source": [
    "**Вывод:** Всего у на 74 аномальных пользователя"
   ]
  },
  {
   "cell_type": "markdown",
   "metadata": {},
   "source": [
    "Узнаем, как их действия повлияли на результаты теста. Посчитаем статистическую значимость различий в конверсии между группами теста по очищенным данным. Сначала подготовим выборки количества заказов по пользователям по группам теста:"
   ]
  },
  {
   "cell_type": "code",
   "execution_count": 29,
   "metadata": {},
   "outputs": [
    {
     "name": "stdout",
     "output_type": "stream",
     "text": [
      "0.00652\n",
      "0.173\n"
     ]
    }
   ],
   "source": [
    "sampleAFiltered = pd.concat([\n",
    "        ordersByUsersA[np.logical_not(ordersByUsersA['userId'].isin(abnormalUsers))\n",
    "        ]['orders'], pd.Series(0, index = np.arange(data['visitorsPerDateA'].sum() - \n",
    "                                                    len(ordersByUsersA['orders'])),\n",
    "                               name = 'orders')], axis = 0)\n",
    "\n",
    "sampleBFiltered = pd.concat([\n",
    "        ordersByUsersB[np.logical_not(ordersByUsersB['userId'].isin(abnormalUsers))\n",
    "        ]['orders'], pd.Series(0, index = np.arange(data['visitorsPerDateB'].sum() - \n",
    "                                                    len(ordersByUsersB['orders'])),\n",
    "                               name = 'orders')], axis = 0)\n",
    "\n",
    "print('{0:.5f}'.format(stats.mannwhitneyu(sampleAFiltered, sampleBFiltered)[1]))\n",
    "print('{0:.3f}'.format(sampleBFiltered.mean() / sampleAFiltered.mean() - 1 ))"
   ]
  },
  {
   "cell_type": "markdown",
   "metadata": {},
   "source": [
    "**Вывод:** Результаты конверсии практически не изменились. При этом конверсия группы Б стала еще больше, чем была до очистки данных, и выгода теперь составляет 17.3 %."
   ]
  },
  {
   "cell_type": "markdown",
   "metadata": {},
   "source": [
    "### Статистическая значимость различий в среднем чеке заказа между группами по «очищенным» данным."
   ]
  },
  {
   "cell_type": "markdown",
   "metadata": {},
   "source": [
    "**Нулевая гипотеза:** Средний чек группы А на основе \"очищенных\" данных, равен среднему чеку группы Б.  \n",
    "\n",
    "**Альтернативные гипотезы:** Средний чек группы А на основе \"очищенных\" данных не равен среднему чеку группы Б."
   ]
  },
  {
   "cell_type": "code",
   "execution_count": 30,
   "metadata": {},
   "outputs": [
    {
     "name": "stdout",
     "output_type": "stream",
     "text": [
      "0.369\n",
      "-0.020\n"
     ]
    }
   ],
   "source": [
    "bill_groupA = df_orders[np.logical_and(df_orders['group'] == 'A',\n",
    "                        np.logical_not(df_orders['visitorid'].isin(abnormalUsers)))]['revenue']\n",
    "\n",
    "bill_groupB = df_orders[np.logical_and(df_orders['group'] == 'B',\n",
    "                        np.logical_not(df_orders['visitorid'].isin(abnormalUsers)))]['revenue']\n",
    "\n",
    "print('{0:.3f}'.format(stats.mannwhitneyu(bill_groupA, bill_groupB)[1]))\n",
    "\n",
    "print('{0:.3f}'.format(bill_groupB.mean() / bill_groupA.mean() - 1))"
   ]
  },
  {
   "cell_type": "markdown",
   "metadata": {},
   "source": [
    "**Вывод:** *P-value* увеличился (больше 0.05). Значит, причин отвергать нулевую гипотезу и считать, что в среднем чеке есть различия, нет. Разница между сегментами сократилась с 25% до 2%. При этом, теперь средний чек в группе Б на 2% меньше, чем в группе А."
   ]
  },
  {
   "cell_type": "markdown",
   "metadata": {},
   "source": [
    "## Вывод:"
   ]
  },
  {
   "cell_type": "markdown",
   "metadata": {},
   "source": [
    "Имеющиеся факты:\n",
    "1. Есть статистически значимые различия по конверсии между группами, как по «сырым», так и по данным после фильтрации аномалий;\n",
    "2. Нет статистически значимого различия по среднему чеку между группами ни по «сырым», ни по данным после фильтрации аномалий. При этом до фильтрации аномальных пользователей средний чек, в группе Б был на 25% больше, чем в группе А. После фильтрации ситуация резко изменилась и теперь средний чек пользователя группы А, на 2% больше, среднего чека пользоватлея из группы Б.\n",
    "3. График различия конверсии между группами сообщает, почти с самого начала теста группа Б лидирует по конверсии, достигая 20% в середине исследуемого периода, и имяя средние значения конверсии в районе 10%. При этом показатели группы А, постепенно ухудшаются. В среднем конверсия группы Б = 3.4%, группы А = 3.0%\n",
    "4. График различия конверсии между группами сообщает, что результаты группы A хуже группы B, но есть незначительная тенденция к к улучшению: \n",
    "\n",
    "Исходя из обнаруженных фактов, тест следует остановить и признать его успешным. Продолжать смысла нет, потому как вероятность, что при имеющихся данных сегмент A на самом деле лучше сегмента B — крайне мала."
   ]
  }
 ],
 "metadata": {
  "ExecuteTimeLog": [
   {
    "duration": 1483,
    "start_time": "2022-02-07T17:02:58.836Z"
   },
   {
    "duration": 7,
    "start_time": "2022-02-07T17:12:47.952Z"
   },
   {
    "duration": 544,
    "start_time": "2022-02-07T17:12:47.962Z"
   },
   {
    "duration": 38,
    "start_time": "2022-02-07T17:12:48.511Z"
   },
   {
    "duration": 14,
    "start_time": "2022-02-07T17:12:48.551Z"
   },
   {
    "duration": 67,
    "start_time": "2022-02-07T17:12:48.568Z"
   },
   {
    "duration": 29,
    "start_time": "2022-02-07T17:12:48.637Z"
   },
   {
    "duration": 61,
    "start_time": "2022-02-07T17:12:48.668Z"
   },
   {
    "duration": 11,
    "start_time": "2022-02-07T17:12:48.733Z"
   },
   {
    "duration": 58,
    "start_time": "2022-02-07T17:12:48.747Z"
   },
   {
    "duration": 12,
    "start_time": "2022-02-07T17:12:48.808Z"
   },
   {
    "duration": 17,
    "start_time": "2022-02-07T17:12:48.823Z"
   },
   {
    "duration": 592,
    "start_time": "2022-02-07T17:12:48.842Z"
   },
   {
    "duration": 523,
    "start_time": "2022-02-07T17:12:49.438Z"
   },
   {
    "duration": 598,
    "start_time": "2022-02-07T17:12:49.963Z"
   },
   {
    "duration": 612,
    "start_time": "2022-02-07T17:12:50.564Z"
   },
   {
    "duration": 569,
    "start_time": "2022-02-07T17:12:51.178Z"
   },
   {
    "duration": 588,
    "start_time": "2022-02-07T17:12:51.750Z"
   },
   {
    "duration": 692,
    "start_time": "2022-02-07T17:12:52.341Z"
   },
   {
    "duration": 6,
    "start_time": "2022-02-07T17:12:53.036Z"
   },
   {
    "duration": 658,
    "start_time": "2022-02-07T17:12:53.045Z"
   },
   {
    "duration": 11,
    "start_time": "2022-02-07T17:12:53.706Z"
   },
   {
    "duration": 781,
    "start_time": "2022-02-07T17:12:53.723Z"
   },
   {
    "duration": 21,
    "start_time": "2022-02-07T17:12:54.509Z"
   },
   {
    "duration": 14,
    "start_time": "2022-02-07T17:12:54.534Z"
   },
   {
    "duration": 19,
    "start_time": "2022-02-07T17:12:54.552Z"
   },
   {
    "duration": 57,
    "start_time": "2022-02-07T17:12:54.574Z"
   },
   {
    "duration": 1334,
    "start_time": "2022-02-07T17:14:20.358Z"
   },
   {
    "duration": 301,
    "start_time": "2022-02-07T17:14:22.660Z"
   },
   {
    "duration": 262,
    "start_time": "2022-02-07T17:15:09.684Z"
   },
   {
    "duration": 1356,
    "start_time": "2022-02-07T17:15:17.056Z"
   },
   {
    "duration": 263,
    "start_time": "2022-02-07T17:15:18.416Z"
   },
   {
    "duration": 26,
    "start_time": "2022-02-07T17:15:19.545Z"
   },
   {
    "duration": 14,
    "start_time": "2022-02-07T17:15:22.566Z"
   },
   {
    "duration": 23,
    "start_time": "2022-02-07T17:15:23.758Z"
   },
   {
    "duration": 28,
    "start_time": "2022-02-07T17:15:26.413Z"
   },
   {
    "duration": 21,
    "start_time": "2022-02-07T17:15:27.884Z"
   },
   {
    "duration": 11,
    "start_time": "2022-02-07T17:15:29.446Z"
   },
   {
    "duration": 16,
    "start_time": "2022-02-07T17:15:32.478Z"
   },
   {
    "duration": 13,
    "start_time": "2022-02-07T17:15:34.302Z"
   },
   {
    "duration": 13,
    "start_time": "2022-02-07T17:15:39.892Z"
   },
   {
    "duration": 7,
    "start_time": "2022-02-07T17:18:28.361Z"
   },
   {
    "duration": 621,
    "start_time": "2022-02-07T17:24:22.942Z"
   },
   {
    "duration": 7,
    "start_time": "2022-02-07T17:24:49.568Z"
   },
   {
    "duration": 13,
    "start_time": "2022-02-07T17:26:21.224Z"
   },
   {
    "duration": 544,
    "start_time": "2022-02-07T17:26:26.128Z"
   },
   {
    "duration": 455,
    "start_time": "2022-02-07T17:26:29.232Z"
   },
   {
    "duration": 435,
    "start_time": "2022-02-07T17:26:32.296Z"
   },
   {
    "duration": 533,
    "start_time": "2022-02-07T17:26:34.824Z"
   },
   {
    "duration": 456,
    "start_time": "2022-02-07T17:26:37.736Z"
   },
   {
    "duration": 569,
    "start_time": "2022-02-07T17:26:39.983Z"
   },
   {
    "duration": 664,
    "start_time": "2022-02-07T17:26:42.053Z"
   },
   {
    "duration": 6,
    "start_time": "2022-02-07T17:26:44.903Z"
   },
   {
    "duration": 511,
    "start_time": "2022-02-07T17:26:46.336Z"
   },
   {
    "duration": 11,
    "start_time": "2022-02-07T17:26:48.488Z"
   },
   {
    "duration": 617,
    "start_time": "2022-02-07T17:26:49.520Z"
   },
   {
    "duration": 11,
    "start_time": "2022-02-07T17:26:55.009Z"
   },
   {
    "duration": 19,
    "start_time": "2022-02-07T17:26:58.352Z"
   },
   {
    "duration": 18,
    "start_time": "2022-02-07T17:26:59.728Z"
   },
   {
    "duration": 16,
    "start_time": "2022-02-07T17:27:01.416Z"
   },
   {
    "duration": 1381,
    "start_time": "2022-02-07T17:27:15.344Z"
   },
   {
    "duration": 275,
    "start_time": "2022-02-07T17:27:16.727Z"
   },
   {
    "duration": 26,
    "start_time": "2022-02-07T17:27:17.006Z"
   },
   {
    "duration": 19,
    "start_time": "2022-02-07T17:27:17.038Z"
   },
   {
    "duration": 29,
    "start_time": "2022-02-07T17:27:17.060Z"
   },
   {
    "duration": 53,
    "start_time": "2022-02-07T17:27:17.092Z"
   },
   {
    "duration": 26,
    "start_time": "2022-02-07T17:27:17.148Z"
   },
   {
    "duration": 11,
    "start_time": "2022-02-07T17:27:17.177Z"
   },
   {
    "duration": 15,
    "start_time": "2022-02-07T17:27:17.226Z"
   },
   {
    "duration": 14,
    "start_time": "2022-02-07T17:27:17.244Z"
   },
   {
    "duration": 15,
    "start_time": "2022-02-07T17:27:17.261Z"
   },
   {
    "duration": 49,
    "start_time": "2022-02-07T17:27:17.279Z"
   },
   {
    "duration": 11,
    "start_time": "2022-02-07T17:27:17.330Z"
   },
   {
    "duration": 19,
    "start_time": "2022-02-07T17:27:17.343Z"
   },
   {
    "duration": 586,
    "start_time": "2022-02-07T17:27:17.365Z"
   },
   {
    "duration": 498,
    "start_time": "2022-02-07T17:27:17.954Z"
   },
   {
    "duration": 488,
    "start_time": "2022-02-07T17:27:18.455Z"
   },
   {
    "duration": 640,
    "start_time": "2022-02-07T17:27:18.946Z"
   },
   {
    "duration": 528,
    "start_time": "2022-02-07T17:27:19.589Z"
   },
   {
    "duration": 555,
    "start_time": "2022-02-07T17:27:20.123Z"
   },
   {
    "duration": 768,
    "start_time": "2022-02-07T17:27:20.680Z"
   },
   {
    "duration": 6,
    "start_time": "2022-02-07T17:27:21.450Z"
   },
   {
    "duration": 548,
    "start_time": "2022-02-07T17:27:21.461Z"
   },
   {
    "duration": 12,
    "start_time": "2022-02-07T17:27:22.024Z"
   },
   {
    "duration": 652,
    "start_time": "2022-02-07T17:27:22.039Z"
   },
   {
    "duration": 15,
    "start_time": "2022-02-07T17:27:22.695Z"
   },
   {
    "duration": 19,
    "start_time": "2022-02-07T17:27:22.725Z"
   },
   {
    "duration": 25,
    "start_time": "2022-02-07T17:27:22.747Z"
   },
   {
    "duration": 52,
    "start_time": "2022-02-07T17:27:22.775Z"
   },
   {
    "duration": 1294,
    "start_time": "2022-02-08T04:44:38.014Z"
   },
   {
    "duration": 296,
    "start_time": "2022-02-08T04:44:39.311Z"
   },
   {
    "duration": 26,
    "start_time": "2022-02-08T04:44:39.610Z"
   },
   {
    "duration": 13,
    "start_time": "2022-02-08T04:44:39.638Z"
   },
   {
    "duration": 22,
    "start_time": "2022-02-08T04:44:39.653Z"
   },
   {
    "duration": 25,
    "start_time": "2022-02-08T04:44:39.677Z"
   },
   {
    "duration": 20,
    "start_time": "2022-02-08T04:44:39.704Z"
   },
   {
    "duration": 39,
    "start_time": "2022-02-08T04:44:39.728Z"
   },
   {
    "duration": 13,
    "start_time": "2022-02-08T04:44:39.769Z"
   },
   {
    "duration": 11,
    "start_time": "2022-02-08T04:44:39.784Z"
   },
   {
    "duration": 14,
    "start_time": "2022-02-08T04:44:39.797Z"
   },
   {
    "duration": 48,
    "start_time": "2022-02-08T04:44:39.814Z"
   },
   {
    "duration": 24,
    "start_time": "2022-02-08T04:44:39.864Z"
   },
   {
    "duration": 30,
    "start_time": "2022-02-08T04:44:39.890Z"
   },
   {
    "duration": 542,
    "start_time": "2022-02-08T04:44:39.922Z"
   },
   {
    "duration": 489,
    "start_time": "2022-02-08T04:44:40.466Z"
   },
   {
    "duration": 452,
    "start_time": "2022-02-08T04:44:40.960Z"
   },
   {
    "duration": 586,
    "start_time": "2022-02-08T04:44:41.414Z"
   },
   {
    "duration": 476,
    "start_time": "2022-02-08T04:44:42.002Z"
   },
   {
    "duration": 630,
    "start_time": "2022-02-08T04:44:42.480Z"
   },
   {
    "duration": 733,
    "start_time": "2022-02-08T04:44:43.113Z"
   },
   {
    "duration": 14,
    "start_time": "2022-02-08T04:44:43.849Z"
   },
   {
    "duration": 529,
    "start_time": "2022-02-08T04:44:43.868Z"
   },
   {
    "duration": 11,
    "start_time": "2022-02-08T04:44:44.400Z"
   },
   {
    "duration": 626,
    "start_time": "2022-02-08T04:44:44.413Z"
   },
   {
    "duration": 18,
    "start_time": "2022-02-08T04:44:45.042Z"
   },
   {
    "duration": 13,
    "start_time": "2022-02-08T04:44:45.063Z"
   },
   {
    "duration": 22,
    "start_time": "2022-02-08T04:44:45.079Z"
   },
   {
    "duration": 14,
    "start_time": "2022-02-08T04:44:45.103Z"
   },
   {
    "duration": 13,
    "start_time": "2022-02-08T04:51:09.489Z"
   },
   {
    "duration": 21,
    "start_time": "2022-02-08T04:51:23.827Z"
   },
   {
    "duration": 960,
    "start_time": "2022-02-08T08:10:11.988Z"
   },
   {
    "duration": 348,
    "start_time": "2022-02-08T08:10:12.950Z"
   },
   {
    "duration": 15,
    "start_time": "2022-02-08T08:10:13.300Z"
   },
   {
    "duration": 7,
    "start_time": "2022-02-08T08:10:13.317Z"
   },
   {
    "duration": 14,
    "start_time": "2022-02-08T08:10:13.325Z"
   },
   {
    "duration": 14,
    "start_time": "2022-02-08T08:10:13.340Z"
   },
   {
    "duration": 405,
    "start_time": "2022-02-08T08:10:35.403Z"
   },
   {
    "duration": 321,
    "start_time": "2022-02-08T08:11:47.574Z"
   },
   {
    "duration": 9,
    "start_time": "2022-02-08T08:13:33.073Z"
   },
   {
    "duration": 41,
    "start_time": "2022-02-08T08:14:46.237Z"
   },
   {
    "duration": 42,
    "start_time": "2022-02-08T08:14:56.438Z"
   },
   {
    "duration": 52,
    "start_time": "2022-02-08T08:17:00.892Z"
   },
   {
    "duration": 106,
    "start_time": "2022-02-08T08:17:13.973Z"
   },
   {
    "duration": 9,
    "start_time": "2022-02-08T08:20:13.228Z"
   },
   {
    "duration": 1600,
    "start_time": "2022-02-08T08:20:18.675Z"
   },
   {
    "duration": 938,
    "start_time": "2022-02-08T08:20:26.062Z"
   },
   {
    "duration": 339,
    "start_time": "2022-02-08T08:21:19.581Z"
   },
   {
    "duration": 360,
    "start_time": "2022-02-08T08:21:35.077Z"
   },
   {
    "duration": 62,
    "start_time": "2022-02-08T08:21:59.070Z"
   },
   {
    "duration": 41593,
    "start_time": "2022-02-08T08:22:19.251Z"
   },
   {
    "duration": 51,
    "start_time": "2022-02-08T08:23:39.319Z"
   },
   {
    "duration": 55,
    "start_time": "2022-02-08T08:23:45.249Z"
   },
   {
    "duration": 3,
    "start_time": "2022-02-08T08:32:01.017Z"
   },
   {
    "duration": 313,
    "start_time": "2022-02-08T08:32:01.022Z"
   },
   {
    "duration": 15,
    "start_time": "2022-02-08T08:32:01.337Z"
   },
   {
    "duration": 8,
    "start_time": "2022-02-08T08:32:01.354Z"
   },
   {
    "duration": 18,
    "start_time": "2022-02-08T08:32:01.364Z"
   },
   {
    "duration": 15,
    "start_time": "2022-02-08T08:32:01.383Z"
   },
   {
    "duration": 58,
    "start_time": "2022-02-08T08:32:01.428Z"
   },
   {
    "duration": 12,
    "start_time": "2022-02-08T08:32:01.489Z"
   },
   {
    "duration": 25,
    "start_time": "2022-02-08T08:32:01.503Z"
   },
   {
    "duration": 13,
    "start_time": "2022-02-08T08:32:01.530Z"
   },
   {
    "duration": 11,
    "start_time": "2022-02-08T08:32:01.544Z"
   },
   {
    "duration": 20,
    "start_time": "2022-02-08T08:32:01.556Z"
   },
   {
    "duration": 22,
    "start_time": "2022-02-08T08:32:01.577Z"
   },
   {
    "duration": 24,
    "start_time": "2022-02-08T08:32:01.601Z"
   },
   {
    "duration": 11,
    "start_time": "2022-02-08T08:32:01.626Z"
   },
   {
    "duration": 329,
    "start_time": "2022-02-08T08:32:01.639Z"
   },
   {
    "duration": 319,
    "start_time": "2022-02-08T08:32:01.969Z"
   },
   {
    "duration": 368,
    "start_time": "2022-02-08T08:32:02.290Z"
   },
   {
    "duration": 365,
    "start_time": "2022-02-08T08:32:02.661Z"
   },
   {
    "duration": 276,
    "start_time": "2022-02-08T08:32:03.028Z"
   },
   {
    "duration": 375,
    "start_time": "2022-02-08T08:32:03.305Z"
   },
   {
    "duration": 391,
    "start_time": "2022-02-08T08:32:03.681Z"
   },
   {
    "duration": 3,
    "start_time": "2022-02-08T08:32:04.074Z"
   },
   {
    "duration": 318,
    "start_time": "2022-02-08T08:32:04.079Z"
   },
   {
    "duration": 6,
    "start_time": "2022-02-08T08:32:04.399Z"
   },
   {
    "duration": 329,
    "start_time": "2022-02-08T08:32:04.406Z"
   },
   {
    "duration": 8,
    "start_time": "2022-02-08T08:32:04.737Z"
   },
   {
    "duration": 9,
    "start_time": "2022-02-08T08:32:04.747Z"
   },
   {
    "duration": 23,
    "start_time": "2022-02-08T08:32:04.757Z"
   },
   {
    "duration": 1103,
    "start_time": "2022-02-08T08:32:19.325Z"
   },
   {
    "duration": 283,
    "start_time": "2022-02-08T08:32:20.430Z"
   },
   {
    "duration": 16,
    "start_time": "2022-02-08T08:32:20.715Z"
   },
   {
    "duration": 7,
    "start_time": "2022-02-08T08:32:20.733Z"
   },
   {
    "duration": 15,
    "start_time": "2022-02-08T08:32:20.742Z"
   },
   {
    "duration": 16,
    "start_time": "2022-02-08T08:32:20.758Z"
   },
   {
    "duration": 78,
    "start_time": "2022-02-08T08:32:20.775Z"
   },
   {
    "duration": 13,
    "start_time": "2022-02-08T08:32:20.856Z"
   },
   {
    "duration": 6,
    "start_time": "2022-02-08T08:32:20.871Z"
   },
   {
    "duration": 11,
    "start_time": "2022-02-08T08:32:20.879Z"
   },
   {
    "duration": 8,
    "start_time": "2022-02-08T08:32:20.891Z"
   },
   {
    "duration": 33,
    "start_time": "2022-02-08T08:32:20.900Z"
   },
   {
    "duration": 3,
    "start_time": "2022-02-08T08:32:20.935Z"
   },
   {
    "duration": 5,
    "start_time": "2022-02-08T08:32:20.940Z"
   },
   {
    "duration": 12,
    "start_time": "2022-02-08T08:32:20.946Z"
   },
   {
    "duration": 322,
    "start_time": "2022-02-08T08:32:20.960Z"
   },
   {
    "duration": 274,
    "start_time": "2022-02-08T08:32:21.284Z"
   },
   {
    "duration": 261,
    "start_time": "2022-02-08T08:32:21.559Z"
   },
   {
    "duration": 391,
    "start_time": "2022-02-08T08:32:21.821Z"
   },
   {
    "duration": 264,
    "start_time": "2022-02-08T08:32:22.214Z"
   },
   {
    "duration": 393,
    "start_time": "2022-02-08T08:32:22.480Z"
   },
   {
    "duration": 407,
    "start_time": "2022-02-08T08:32:22.875Z"
   },
   {
    "duration": 4,
    "start_time": "2022-02-08T08:32:23.286Z"
   },
   {
    "duration": 350,
    "start_time": "2022-02-08T08:32:23.291Z"
   },
   {
    "duration": 8,
    "start_time": "2022-02-08T08:32:23.643Z"
   },
   {
    "duration": 353,
    "start_time": "2022-02-08T08:32:23.652Z"
   },
   {
    "duration": 21,
    "start_time": "2022-02-08T08:32:24.007Z"
   },
   {
    "duration": 8,
    "start_time": "2022-02-08T08:32:24.030Z"
   },
   {
    "duration": 15,
    "start_time": "2022-02-08T08:32:24.039Z"
   },
   {
    "duration": 9,
    "start_time": "2022-02-08T08:34:44.213Z"
   },
   {
    "duration": 7,
    "start_time": "2022-02-08T08:35:27.332Z"
   },
   {
    "duration": 11,
    "start_time": "2022-02-08T08:35:34.043Z"
   },
   {
    "duration": 1053,
    "start_time": "2022-02-08T08:38:05.907Z"
   },
   {
    "duration": 2052,
    "start_time": "2022-02-08T08:38:06.962Z"
   },
   {
    "duration": 17,
    "start_time": "2022-02-08T08:38:09.016Z"
   },
   {
    "duration": 28,
    "start_time": "2022-02-08T08:38:09.034Z"
   },
   {
    "duration": 42,
    "start_time": "2022-02-08T08:38:09.064Z"
   },
   {
    "duration": 40,
    "start_time": "2022-02-08T08:38:09.107Z"
   },
   {
    "duration": 93,
    "start_time": "2022-02-08T08:38:09.149Z"
   },
   {
    "duration": 13,
    "start_time": "2022-02-08T08:38:09.244Z"
   },
   {
    "duration": 26,
    "start_time": "2022-02-08T08:38:09.259Z"
   },
   {
    "duration": 41,
    "start_time": "2022-02-08T08:38:09.287Z"
   },
   {
    "duration": 34,
    "start_time": "2022-02-08T08:38:09.329Z"
   },
   {
    "duration": 42,
    "start_time": "2022-02-08T08:38:09.365Z"
   },
   {
    "duration": 21,
    "start_time": "2022-02-08T08:38:09.408Z"
   },
   {
    "duration": 39,
    "start_time": "2022-02-08T08:38:09.431Z"
   },
   {
    "duration": 39,
    "start_time": "2022-02-08T08:38:09.471Z"
   },
   {
    "duration": 316,
    "start_time": "2022-02-08T08:38:09.511Z"
   },
   {
    "duration": 261,
    "start_time": "2022-02-08T08:38:09.828Z"
   },
   {
    "duration": 263,
    "start_time": "2022-02-08T08:38:10.091Z"
   },
   {
    "duration": 355,
    "start_time": "2022-02-08T08:38:10.356Z"
   },
   {
    "duration": 270,
    "start_time": "2022-02-08T08:38:10.712Z"
   },
   {
    "duration": 381,
    "start_time": "2022-02-08T08:38:10.983Z"
   },
   {
    "duration": 428,
    "start_time": "2022-02-08T08:38:11.365Z"
   },
   {
    "duration": 4,
    "start_time": "2022-02-08T08:38:11.795Z"
   },
   {
    "duration": 395,
    "start_time": "2022-02-08T08:38:11.800Z"
   },
   {
    "duration": 7,
    "start_time": "2022-02-08T08:38:12.196Z"
   },
   {
    "duration": 324,
    "start_time": "2022-02-08T08:38:12.204Z"
   },
   {
    "duration": 7,
    "start_time": "2022-02-08T08:38:12.529Z"
   },
   {
    "duration": 11,
    "start_time": "2022-02-08T08:38:12.537Z"
   },
   {
    "duration": 28,
    "start_time": "2022-02-08T08:38:12.550Z"
   },
   {
    "duration": 1038,
    "start_time": "2022-02-08T08:53:34.905Z"
   },
   {
    "duration": 273,
    "start_time": "2022-02-08T08:53:35.945Z"
   },
   {
    "duration": 16,
    "start_time": "2022-02-08T08:53:36.220Z"
   },
   {
    "duration": 10,
    "start_time": "2022-02-08T08:53:36.238Z"
   },
   {
    "duration": 18,
    "start_time": "2022-02-08T08:53:36.250Z"
   },
   {
    "duration": 22,
    "start_time": "2022-02-08T08:53:36.269Z"
   },
   {
    "duration": 121,
    "start_time": "2022-02-08T08:53:36.293Z"
   },
   {
    "duration": 18,
    "start_time": "2022-02-08T08:53:36.417Z"
   },
   {
    "duration": 7,
    "start_time": "2022-02-08T08:53:36.446Z"
   },
   {
    "duration": 14,
    "start_time": "2022-02-08T08:53:36.454Z"
   },
   {
    "duration": 9,
    "start_time": "2022-02-08T08:53:36.470Z"
   },
   {
    "duration": 8,
    "start_time": "2022-02-08T08:53:36.481Z"
   },
   {
    "duration": 4,
    "start_time": "2022-02-08T08:53:36.490Z"
   },
   {
    "duration": 6,
    "start_time": "2022-02-08T08:53:36.495Z"
   },
   {
    "duration": 8,
    "start_time": "2022-02-08T08:53:36.527Z"
   },
   {
    "duration": 321,
    "start_time": "2022-02-08T08:53:36.536Z"
   },
   {
    "duration": 265,
    "start_time": "2022-02-08T08:53:36.859Z"
   },
   {
    "duration": 249,
    "start_time": "2022-02-08T08:53:37.126Z"
   },
   {
    "duration": 375,
    "start_time": "2022-02-08T08:53:37.377Z"
   },
   {
    "duration": 260,
    "start_time": "2022-02-08T08:53:37.759Z"
   },
   {
    "duration": 395,
    "start_time": "2022-02-08T08:53:38.021Z"
   },
   {
    "duration": 473,
    "start_time": "2022-02-08T08:53:38.418Z"
   },
   {
    "duration": 4,
    "start_time": "2022-02-08T08:53:38.894Z"
   },
   {
    "duration": 428,
    "start_time": "2022-02-08T08:53:38.900Z"
   },
   {
    "duration": 10,
    "start_time": "2022-02-08T08:53:39.330Z"
   },
   {
    "duration": 401,
    "start_time": "2022-02-08T08:53:39.342Z"
   },
   {
    "duration": 7,
    "start_time": "2022-02-08T08:53:39.744Z"
   },
   {
    "duration": 9,
    "start_time": "2022-02-08T08:53:39.752Z"
   },
   {
    "duration": 10,
    "start_time": "2022-02-08T08:53:39.762Z"
   },
   {
    "duration": 7,
    "start_time": "2022-02-08T08:53:39.774Z"
   },
   {
    "duration": 1054,
    "start_time": "2022-02-08T08:54:00.826Z"
   },
   {
    "duration": 951,
    "start_time": "2022-02-08T08:54:01.881Z"
   },
   {
    "duration": 17,
    "start_time": "2022-02-08T08:54:02.834Z"
   },
   {
    "duration": 8,
    "start_time": "2022-02-08T08:54:02.852Z"
   },
   {
    "duration": 19,
    "start_time": "2022-02-08T08:54:02.861Z"
   },
   {
    "duration": 16,
    "start_time": "2022-02-08T08:54:02.881Z"
   },
   {
    "duration": 75,
    "start_time": "2022-02-08T08:54:02.898Z"
   },
   {
    "duration": 13,
    "start_time": "2022-02-08T08:54:02.976Z"
   },
   {
    "duration": 6,
    "start_time": "2022-02-08T08:54:02.991Z"
   },
   {
    "duration": 32,
    "start_time": "2022-02-08T08:54:02.999Z"
   },
   {
    "duration": 9,
    "start_time": "2022-02-08T08:54:03.032Z"
   },
   {
    "duration": 9,
    "start_time": "2022-02-08T08:54:03.043Z"
   },
   {
    "duration": 4,
    "start_time": "2022-02-08T08:54:03.053Z"
   },
   {
    "duration": 7,
    "start_time": "2022-02-08T08:54:03.058Z"
   },
   {
    "duration": 8,
    "start_time": "2022-02-08T08:54:03.067Z"
   },
   {
    "duration": 335,
    "start_time": "2022-02-08T08:54:03.076Z"
   },
   {
    "duration": 263,
    "start_time": "2022-02-08T08:54:03.412Z"
   },
   {
    "duration": 254,
    "start_time": "2022-02-08T08:54:03.676Z"
   },
   {
    "duration": 357,
    "start_time": "2022-02-08T08:54:03.932Z"
   },
   {
    "duration": 264,
    "start_time": "2022-02-08T08:54:04.291Z"
   },
   {
    "duration": 349,
    "start_time": "2022-02-08T08:54:04.556Z"
   },
   {
    "duration": 420,
    "start_time": "2022-02-08T08:54:04.907Z"
   },
   {
    "duration": 4,
    "start_time": "2022-02-08T08:54:05.330Z"
   },
   {
    "duration": 347,
    "start_time": "2022-02-08T08:54:05.336Z"
   },
   {
    "duration": 7,
    "start_time": "2022-02-08T08:54:05.684Z"
   },
   {
    "duration": 351,
    "start_time": "2022-02-08T08:54:05.693Z"
   },
   {
    "duration": 6,
    "start_time": "2022-02-08T08:54:06.046Z"
   },
   {
    "duration": 15,
    "start_time": "2022-02-08T08:54:06.053Z"
   },
   {
    "duration": 32,
    "start_time": "2022-02-08T08:54:06.070Z"
   },
   {
    "duration": 14,
    "start_time": "2022-02-08T08:54:06.103Z"
   },
   {
    "duration": 10,
    "start_time": "2022-02-08T08:55:44.982Z"
   },
   {
    "duration": 1012,
    "start_time": "2022-02-08T08:59:11.139Z"
   },
   {
    "duration": 279,
    "start_time": "2022-02-08T08:59:12.152Z"
   },
   {
    "duration": 15,
    "start_time": "2022-02-08T08:59:12.433Z"
   },
   {
    "duration": 8,
    "start_time": "2022-02-08T08:59:12.450Z"
   },
   {
    "duration": 16,
    "start_time": "2022-02-08T08:59:12.459Z"
   },
   {
    "duration": 15,
    "start_time": "2022-02-08T08:59:12.477Z"
   },
   {
    "duration": 78,
    "start_time": "2022-02-08T08:59:12.493Z"
   },
   {
    "duration": 13,
    "start_time": "2022-02-08T08:59:12.573Z"
   },
   {
    "duration": 6,
    "start_time": "2022-02-08T08:59:12.588Z"
   },
   {
    "duration": 32,
    "start_time": "2022-02-08T08:59:12.595Z"
   },
   {
    "duration": 9,
    "start_time": "2022-02-08T08:59:12.628Z"
   },
   {
    "duration": 10,
    "start_time": "2022-02-08T08:59:12.638Z"
   },
   {
    "duration": 4,
    "start_time": "2022-02-08T08:59:12.649Z"
   },
   {
    "duration": 7,
    "start_time": "2022-02-08T08:59:12.654Z"
   },
   {
    "duration": 7,
    "start_time": "2022-02-08T08:59:12.663Z"
   },
   {
    "duration": 331,
    "start_time": "2022-02-08T08:59:12.672Z"
   },
   {
    "duration": 263,
    "start_time": "2022-02-08T08:59:13.005Z"
   },
   {
    "duration": 268,
    "start_time": "2022-02-08T08:59:13.269Z"
   },
   {
    "duration": 365,
    "start_time": "2022-02-08T08:59:13.539Z"
   },
   {
    "duration": 282,
    "start_time": "2022-02-08T08:59:13.906Z"
   },
   {
    "duration": 410,
    "start_time": "2022-02-08T08:59:14.190Z"
   },
   {
    "duration": 486,
    "start_time": "2022-02-08T08:59:14.601Z"
   },
   {
    "duration": 4,
    "start_time": "2022-02-08T08:59:15.090Z"
   },
   {
    "duration": 354,
    "start_time": "2022-02-08T08:59:15.095Z"
   },
   {
    "duration": 7,
    "start_time": "2022-02-08T08:59:15.451Z"
   },
   {
    "duration": 333,
    "start_time": "2022-02-08T08:59:15.459Z"
   },
   {
    "duration": 7,
    "start_time": "2022-02-08T08:59:15.794Z"
   },
   {
    "duration": 9,
    "start_time": "2022-02-08T08:59:15.802Z"
   },
   {
    "duration": 10,
    "start_time": "2022-02-08T08:59:15.827Z"
   },
   {
    "duration": 7,
    "start_time": "2022-02-08T08:59:15.839Z"
   },
   {
    "duration": 1295,
    "start_time": "2022-02-09T03:30:56.899Z"
   },
   {
    "duration": 287,
    "start_time": "2022-02-09T03:30:58.197Z"
   },
   {
    "duration": 26,
    "start_time": "2022-02-09T03:30:58.487Z"
   },
   {
    "duration": 15,
    "start_time": "2022-02-09T03:30:58.516Z"
   },
   {
    "duration": 34,
    "start_time": "2022-02-09T03:30:58.533Z"
   },
   {
    "duration": 23,
    "start_time": "2022-02-09T03:30:58.570Z"
   },
   {
    "duration": 101,
    "start_time": "2022-02-09T03:30:58.596Z"
   },
   {
    "duration": 22,
    "start_time": "2022-02-09T03:30:58.699Z"
   },
   {
    "duration": 11,
    "start_time": "2022-02-09T03:30:58.749Z"
   },
   {
    "duration": 20,
    "start_time": "2022-02-09T03:30:58.764Z"
   },
   {
    "duration": 15,
    "start_time": "2022-02-09T03:30:58.786Z"
   },
   {
    "duration": 14,
    "start_time": "2022-02-09T03:30:58.804Z"
   },
   {
    "duration": 7,
    "start_time": "2022-02-09T03:30:58.849Z"
   },
   {
    "duration": 11,
    "start_time": "2022-02-09T03:30:58.858Z"
   },
   {
    "duration": 16,
    "start_time": "2022-02-09T03:30:58.871Z"
   },
   {
    "duration": 550,
    "start_time": "2022-02-09T03:30:58.889Z"
   },
   {
    "duration": 457,
    "start_time": "2022-02-09T03:30:59.441Z"
   },
   {
    "duration": 451,
    "start_time": "2022-02-09T03:30:59.901Z"
   },
   {
    "duration": 527,
    "start_time": "2022-02-09T03:31:00.354Z"
   },
   {
    "duration": 477,
    "start_time": "2022-02-09T03:31:00.884Z"
   },
   {
    "duration": 546,
    "start_time": "2022-02-09T03:31:01.364Z"
   },
   {
    "duration": 707,
    "start_time": "2022-02-09T03:31:01.913Z"
   },
   {
    "duration": 6,
    "start_time": "2022-02-09T03:31:02.623Z"
   },
   {
    "duration": 536,
    "start_time": "2022-02-09T03:31:02.632Z"
   },
   {
    "duration": 12,
    "start_time": "2022-02-09T03:31:03.170Z"
   },
   {
    "duration": 614,
    "start_time": "2022-02-09T03:31:03.185Z"
   },
   {
    "duration": 11,
    "start_time": "2022-02-09T03:31:03.803Z"
   },
   {
    "duration": 44,
    "start_time": "2022-02-09T03:31:03.818Z"
   },
   {
    "duration": 42,
    "start_time": "2022-02-09T03:31:03.865Z"
   },
   {
    "duration": 20,
    "start_time": "2022-02-09T03:31:03.910Z"
   },
   {
    "duration": 19,
    "start_time": "2022-02-09T03:31:36.162Z"
   },
   {
    "duration": 19,
    "start_time": "2022-02-09T03:51:44.673Z"
   },
   {
    "duration": 1140,
    "start_time": "2022-02-09T08:11:25.057Z"
   },
   {
    "duration": 203,
    "start_time": "2022-02-09T08:11:26.779Z"
   },
   {
    "duration": 18,
    "start_time": "2022-02-09T08:11:29.434Z"
   },
   {
    "duration": 10,
    "start_time": "2022-02-09T08:11:32.423Z"
   },
   {
    "duration": 16,
    "start_time": "2022-02-09T08:11:33.947Z"
   },
   {
    "duration": 19,
    "start_time": "2022-02-09T08:11:36.064Z"
   },
   {
    "duration": 72,
    "start_time": "2022-02-09T08:11:38.338Z"
   },
   {
    "duration": 62,
    "start_time": "2022-02-09T08:12:17.114Z"
   },
   {
    "duration": 75,
    "start_time": "2022-02-09T08:29:35.105Z"
   },
   {
    "duration": 1012,
    "start_time": "2022-02-09T08:32:04.865Z"
   },
   {
    "duration": 204,
    "start_time": "2022-02-09T08:32:05.878Z"
   },
   {
    "duration": 18,
    "start_time": "2022-02-09T08:32:06.084Z"
   },
   {
    "duration": 13,
    "start_time": "2022-02-09T08:32:06.103Z"
   },
   {
    "duration": 26,
    "start_time": "2022-02-09T08:32:06.117Z"
   },
   {
    "duration": 18,
    "start_time": "2022-02-09T08:32:06.145Z"
   },
   {
    "duration": 81,
    "start_time": "2022-02-09T08:32:06.165Z"
   },
   {
    "duration": 14,
    "start_time": "2022-02-09T08:32:06.249Z"
   },
   {
    "duration": 8,
    "start_time": "2022-02-09T08:32:06.265Z"
   },
   {
    "duration": 51,
    "start_time": "2022-02-09T08:32:06.275Z"
   },
   {
    "duration": 20,
    "start_time": "2022-02-09T08:32:06.328Z"
   },
   {
    "duration": 20,
    "start_time": "2022-02-09T08:32:06.350Z"
   },
   {
    "duration": 13,
    "start_time": "2022-02-09T08:32:06.372Z"
   },
   {
    "duration": 15,
    "start_time": "2022-02-09T08:32:06.387Z"
   },
   {
    "duration": 17,
    "start_time": "2022-02-09T08:32:06.403Z"
   },
   {
    "duration": 342,
    "start_time": "2022-02-09T08:32:06.422Z"
   },
   {
    "duration": 397,
    "start_time": "2022-02-09T08:32:06.765Z"
   },
   {
    "duration": 301,
    "start_time": "2022-02-09T08:32:07.163Z"
   },
   {
    "duration": 410,
    "start_time": "2022-02-09T08:32:07.466Z"
   },
   {
    "duration": 305,
    "start_time": "2022-02-09T08:32:07.878Z"
   },
   {
    "duration": 417,
    "start_time": "2022-02-09T08:32:08.185Z"
   },
   {
    "duration": 476,
    "start_time": "2022-02-09T08:32:08.604Z"
   },
   {
    "duration": 5,
    "start_time": "2022-02-09T08:32:09.083Z"
   },
   {
    "duration": 396,
    "start_time": "2022-02-09T08:32:09.090Z"
   },
   {
    "duration": 8,
    "start_time": "2022-02-09T08:32:09.488Z"
   },
   {
    "duration": 383,
    "start_time": "2022-02-09T08:32:09.498Z"
   },
   {
    "duration": 8,
    "start_time": "2022-02-09T08:32:09.883Z"
   },
   {
    "duration": 19,
    "start_time": "2022-02-09T08:32:09.893Z"
   },
   {
    "duration": 48,
    "start_time": "2022-02-09T08:32:09.919Z"
   },
   {
    "duration": 25,
    "start_time": "2022-02-09T08:32:09.968Z"
   },
   {
    "duration": 975,
    "start_time": "2022-02-09T11:29:21.578Z"
   },
   {
    "duration": 280,
    "start_time": "2022-02-09T11:29:22.554Z"
   },
   {
    "duration": 15,
    "start_time": "2022-02-09T11:29:22.835Z"
   },
   {
    "duration": 7,
    "start_time": "2022-02-09T11:29:22.852Z"
   },
   {
    "duration": 14,
    "start_time": "2022-02-09T11:29:22.860Z"
   },
   {
    "duration": 14,
    "start_time": "2022-02-09T11:29:22.875Z"
   },
   {
    "duration": 72,
    "start_time": "2022-02-09T11:29:22.890Z"
   },
   {
    "duration": 11,
    "start_time": "2022-02-09T11:29:22.964Z"
   },
   {
    "duration": 6,
    "start_time": "2022-02-09T11:29:22.977Z"
   },
   {
    "duration": 12,
    "start_time": "2022-02-09T11:29:22.984Z"
   },
   {
    "duration": 31,
    "start_time": "2022-02-09T11:29:22.997Z"
   },
   {
    "duration": 8,
    "start_time": "2022-02-09T11:29:23.029Z"
   },
   {
    "duration": 4,
    "start_time": "2022-02-09T11:29:23.039Z"
   },
   {
    "duration": 6,
    "start_time": "2022-02-09T11:29:23.044Z"
   },
   {
    "duration": 9,
    "start_time": "2022-02-09T11:29:23.052Z"
   },
   {
    "duration": 323,
    "start_time": "2022-02-09T11:29:23.062Z"
   },
   {
    "duration": 255,
    "start_time": "2022-02-09T11:29:23.386Z"
   },
   {
    "duration": 247,
    "start_time": "2022-02-09T11:29:23.643Z"
   },
   {
    "duration": 386,
    "start_time": "2022-02-09T11:29:23.892Z"
   },
   {
    "duration": 263,
    "start_time": "2022-02-09T11:29:24.280Z"
   },
   {
    "duration": 351,
    "start_time": "2022-02-09T11:29:24.544Z"
   },
   {
    "duration": 400,
    "start_time": "2022-02-09T11:29:24.897Z"
   },
   {
    "duration": 3,
    "start_time": "2022-02-09T11:29:25.300Z"
   },
   {
    "duration": 361,
    "start_time": "2022-02-09T11:29:25.305Z"
   },
   {
    "duration": 7,
    "start_time": "2022-02-09T11:29:25.668Z"
   },
   {
    "duration": 334,
    "start_time": "2022-02-09T11:29:25.676Z"
   },
   {
    "duration": 16,
    "start_time": "2022-02-09T11:29:26.011Z"
   },
   {
    "duration": 8,
    "start_time": "2022-02-09T11:29:26.029Z"
   },
   {
    "duration": 14,
    "start_time": "2022-02-09T11:29:26.039Z"
   },
   {
    "duration": 7,
    "start_time": "2022-02-09T11:29:26.054Z"
   }
  ],
  "kernelspec": {
   "display_name": "Python 3",
   "language": "python",
   "name": "python3"
  },
  "language_info": {
   "codemirror_mode": {
    "name": "ipython",
    "version": 3
   },
   "file_extension": ".py",
   "mimetype": "text/x-python",
   "name": "python",
   "nbconvert_exporter": "python",
   "pygments_lexer": "ipython3",
   "version": "3.8.3"
  },
  "toc": {
   "base_numbering": 1,
   "nav_menu": {},
   "number_sections": true,
   "sideBar": true,
   "skip_h1_title": true,
   "title_cell": "Table of Contents",
   "title_sidebar": "Contents",
   "toc_cell": false,
   "toc_position": {},
   "toc_section_display": true,
   "toc_window_display": true
  },
  "varInspector": {
   "cols": {
    "lenName": 16,
    "lenType": 16,
    "lenVar": 40
   },
   "kernels_config": {
    "python": {
     "delete_cmd_postfix": "",
     "delete_cmd_prefix": "del ",
     "library": "var_list.py",
     "varRefreshCmd": "print(var_dic_list())"
    },
    "r": {
     "delete_cmd_postfix": ") ",
     "delete_cmd_prefix": "rm(",
     "library": "var_list.r",
     "varRefreshCmd": "cat(var_dic_list()) "
    }
   },
   "types_to_exclude": [
    "module",
    "function",
    "builtin_function_or_method",
    "instance",
    "_Feature"
   ],
   "window_display": false
  }
 },
 "nbformat": 4,
 "nbformat_minor": 2
}
