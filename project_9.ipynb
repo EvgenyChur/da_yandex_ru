{
 "cells": [
  {
   "cell_type": "markdown",
   "metadata": {},
   "source": [
    "# Самостоятельная работа"
   ]
  },
  {
   "cell_type": "markdown",
   "metadata": {},
   "source": [
    "**Рынок заведений общественного питания Москвы**"
   ]
  },
  {
   "cell_type": "markdown",
   "metadata": {},
   "source": [
    "## Сбор первичной информации о проекте"
   ]
  },
  {
   "cell_type": "markdown",
   "metadata": {},
   "source": [
    "### Описание проекта"
   ]
  },
  {
   "cell_type": "markdown",
   "metadata": {},
   "source": [
    "Вы решили открыть небольшое кафе в Москве. Оно оригинальное — гостей должны обслуживать роботы. Проект многообещающий, но дорогой. Вместе с партнёрами вы решились обратиться к инвесторам. Их интересует текущее положение дел на рынке — сможете ли вы снискать популярность на долгое время, когда все зеваки насмотрятся на роботов-официантов?"
   ]
  },
  {
   "cell_type": "markdown",
   "metadata": {},
   "source": [
    "### Задачи проекта"
   ]
  },
  {
   "cell_type": "markdown",
   "metadata": {},
   "source": [
    "1. **Загрузить и проверить данные** на наличие дубликатов, пропусков, соответсвие форматов данных.\n",
    "2. **Выполнить анализ данных** и дать рекомендации для открытия успешного бизнес проекта.\n",
    "    1. Исследуйте соотношение видов объектов общественного питания по количеству. Постройте график.\n",
    "    2. Исследуйте соотношение сетевых и несетевых заведений по количеству. Постройте график.\n",
    "    3. Для какого вида объекта общественного питания характерно сетевое распространение?\n",
    "    4. Что характерно для сетевых заведений: много заведений с небольшим числом посадочных мест в каждом или мало заведений с большим количеством посадочных мест?\n",
    "    5. Для каждого вида объекта общественного питания опишите среднее количество посадочных мест. Какой вид предоставляет в среднем самое большое количество посадочных мест? Постройте графики.\n",
    "    6. Выделите в отдельный столбец информацию об улице из столбца address .\n",
    "    7. Постройте график топ-10 улиц по количеству объектов общественного питания. Воспользуйтесь внешней информацией и ответьте на вопрос — в каких районах Москвы находятся эти улицы?\n",
    "    8. Найдите число улиц с одним объектом общественного питания. Воспользуйтесь внешней информацией и ответьте на вопрос — в каких районах Москвы находятся эти улицы?\n",
    "    9. Посмотрите на распределение количества посадочных мест для улиц с большим количеством объектов общественного питания. Какие закономерности можно выявить?\n",
    "    10. Сделайте общий вывод и дайте рекомендации о виде заведения, количестве посадочных мест, а также районе расположения. Прокомментируйте возможность развития сети.\n",
    "3. **Подготовить презентацию**, следуя рекомендациям из урока и отправить ее через облачное хранилище в формате pdf. Приложите ссылку на презентацию в markdown-ячейке в формате:\n",
    "\n",
    "Презентация: <ссылка на облачное хранилище с презентацией> "
   ]
  },
  {
   "cell_type": "markdown",
   "metadata": {},
   "source": [
    "### Описание данных"
   ]
  },
  {
   "cell_type": "markdown",
   "metadata": {},
   "source": [
    "Таблица **rest_data**:\n",
    "1. *id* — идентификатор объекта;\n",
    "2. *object_name* — название объекта общественного питания;\n",
    "3. *chain* — сетевой ресторан;\n",
    "4. *object_type* — тип объекта общественного питания;\n",
    "5. *address* — адрес;\n",
    "6. *number* — количество посадочных мест."
   ]
  },
  {
   "cell_type": "markdown",
   "metadata": {},
   "source": [
    "## Основной проект"
   ]
  },
  {
   "cell_type": "markdown",
   "metadata": {},
   "source": [
    "### Подготовка данных"
   ]
  },
  {
   "cell_type": "code",
   "execution_count": 2,
   "metadata": {},
   "outputs": [],
   "source": [
    "# Add modules to the project\n",
    "from io import BytesIO\n",
    "import requests\n",
    "\n",
    "import math as mth\n",
    "import numpy as np\n",
    "import pandas as pd\n",
    "import datetime as dt\n",
    "import seaborn as sns\n",
    "import scipy.stats as stats\n",
    "from scipy import stats as st\n",
    "import matplotlib.pyplot as plt \n",
    "\n",
    "import warnings\n",
    "warnings.filterwarnings(\"ignore\")"
   ]
  },
  {
   "cell_type": "code",
   "execution_count": 3,
   "metadata": {},
   "outputs": [
    {
     "name": "stdout",
     "output_type": "stream",
     "text": [
      "Using local machine\n",
      "Using Yandex machine\n"
     ]
    }
   ],
   "source": [
    "# Get common information about datasets\n",
    "def get_info(df, df_name):\n",
    "    '''\n",
    "    df : Dataframe,\n",
    "        The dataset with data for the project\n",
    "    df_name : Objects\n",
    "        The name of the dataset for information\n",
    "        \n",
    "    Return:\n",
    "        There are no return fields\n",
    "    '''\n",
    "    print(f'Common information about - {df_name}')\n",
    "    display(df.head())\n",
    "    df.info()\n",
    "    print(df.columns, '\\n')   \n",
    "    print(f'Numbers of NaN values in the dataset - {df_name}', '\\n')\n",
    "    print(df.isnull().sum())\n",
    "    print(f'Numbers of duplicates (explicit)in the dataset - {df_name}', '\\n')\n",
    "    print(df.duplicated().sum())\n",
    "     \n",
    "\n",
    "# Get data\n",
    "try:\n",
    "    print('Using local machine')\n",
    "    main_path = 'C:/Users/Churiulin/Desktop/Yandex/Projects/DATASETS'\n",
    "    df_data   = pd.read_csv(f'{main_path}/rest_data.csv')\n",
    "except FileNotFoundError:\n",
    "    print('Using Yandex machine')\n",
    "    df_data   = pd.read_csv('/datasets/rest_data.csv')"
   ]
  },
  {
   "cell_type": "code",
   "execution_count": 4,
   "metadata": {},
   "outputs": [
    {
     "name": "stdout",
     "output_type": "stream",
     "text": [
      "Common information about - rest_data\n"
     ]
    },
    {
     "data": {
      "text/html": [
       "<div>\n",
       "<style scoped>\n",
       "    .dataframe tbody tr th:only-of-type {\n",
       "        vertical-align: middle;\n",
       "    }\n",
       "\n",
       "    .dataframe tbody tr th {\n",
       "        vertical-align: top;\n",
       "    }\n",
       "\n",
       "    .dataframe thead th {\n",
       "        text-align: right;\n",
       "    }\n",
       "</style>\n",
       "<table border=\"1\" class=\"dataframe\">\n",
       "  <thead>\n",
       "    <tr style=\"text-align: right;\">\n",
       "      <th></th>\n",
       "      <th>id</th>\n",
       "      <th>object_name</th>\n",
       "      <th>chain</th>\n",
       "      <th>object_type</th>\n",
       "      <th>address</th>\n",
       "      <th>number</th>\n",
       "    </tr>\n",
       "  </thead>\n",
       "  <tbody>\n",
       "    <tr>\n",
       "      <td>0</td>\n",
       "      <td>151635</td>\n",
       "      <td>СМЕТАНА</td>\n",
       "      <td>нет</td>\n",
       "      <td>кафе</td>\n",
       "      <td>город Москва, улица Егора Абакумова, дом 9</td>\n",
       "      <td>48</td>\n",
       "    </tr>\n",
       "    <tr>\n",
       "      <td>1</td>\n",
       "      <td>77874</td>\n",
       "      <td>Родник</td>\n",
       "      <td>нет</td>\n",
       "      <td>кафе</td>\n",
       "      <td>город Москва, улица Талалихина, дом 2/1, корпус 1</td>\n",
       "      <td>35</td>\n",
       "    </tr>\n",
       "    <tr>\n",
       "      <td>2</td>\n",
       "      <td>24309</td>\n",
       "      <td>Кафе «Академия»</td>\n",
       "      <td>нет</td>\n",
       "      <td>кафе</td>\n",
       "      <td>город Москва, Абельмановская улица, дом 6</td>\n",
       "      <td>95</td>\n",
       "    </tr>\n",
       "    <tr>\n",
       "      <td>3</td>\n",
       "      <td>21894</td>\n",
       "      <td>ПИЦЦЕТОРИЯ</td>\n",
       "      <td>да</td>\n",
       "      <td>кафе</td>\n",
       "      <td>город Москва, Абрамцевская улица, дом 1</td>\n",
       "      <td>40</td>\n",
       "    </tr>\n",
       "    <tr>\n",
       "      <td>4</td>\n",
       "      <td>119365</td>\n",
       "      <td>Кафе «Вишневая метель»</td>\n",
       "      <td>нет</td>\n",
       "      <td>кафе</td>\n",
       "      <td>город Москва, Абрамцевская улица, дом 9, корпус 1</td>\n",
       "      <td>50</td>\n",
       "    </tr>\n",
       "  </tbody>\n",
       "</table>\n",
       "</div>"
      ],
      "text/plain": [
       "       id             object_name chain object_type  \\\n",
       "0  151635                 СМЕТАНА   нет        кафе   \n",
       "1   77874                  Родник   нет        кафе   \n",
       "2   24309         Кафе «Академия»   нет        кафе   \n",
       "3   21894              ПИЦЦЕТОРИЯ    да        кафе   \n",
       "4  119365  Кафе «Вишневая метель»   нет        кафе   \n",
       "\n",
       "                                             address  number  \n",
       "0         город Москва, улица Егора Абакумова, дом 9      48  \n",
       "1  город Москва, улица Талалихина, дом 2/1, корпус 1      35  \n",
       "2          город Москва, Абельмановская улица, дом 6      95  \n",
       "3            город Москва, Абрамцевская улица, дом 1      40  \n",
       "4  город Москва, Абрамцевская улица, дом 9, корпус 1      50  "
      ]
     },
     "metadata": {},
     "output_type": "display_data"
    },
    {
     "name": "stdout",
     "output_type": "stream",
     "text": [
      "<class 'pandas.core.frame.DataFrame'>\n",
      "RangeIndex: 15366 entries, 0 to 15365\n",
      "Data columns (total 6 columns):\n",
      "id             15366 non-null int64\n",
      "object_name    15366 non-null object\n",
      "chain          15366 non-null object\n",
      "object_type    15366 non-null object\n",
      "address        15366 non-null object\n",
      "number         15366 non-null int64\n",
      "dtypes: int64(2), object(4)\n",
      "memory usage: 720.4+ KB\n",
      "Index(['id', 'object_name', 'chain', 'object_type', 'address', 'number'], dtype='object') \n",
      "\n",
      "Numbers of NaN values in the dataset - rest_data \n",
      "\n",
      "id             0\n",
      "object_name    0\n",
      "chain          0\n",
      "object_type    0\n",
      "address        0\n",
      "number         0\n",
      "dtype: int64\n",
      "Numbers of duplicates (explicit)in the dataset - rest_data \n",
      "\n",
      "0\n",
      "None\n"
     ]
    }
   ],
   "source": [
    "print(get_info(df_data, 'rest_data')) "
   ]
  },
  {
   "cell_type": "markdown",
   "metadata": {},
   "source": [
    "**Заключение:** Первичный анализ данных показал, что всего в наборе данных представленно 15366 строк, 6 колонок. В данных нет явных дубликатов, пропуски отсутсвуют, типы данных соответствуют данным, которые расположены в колонка. При этом следует отметить, что данные записаны с использование разного регистра и в колонке с адресами, наверное есть не явные дубликаты. Выполню их поиск."
   ]
  },
  {
   "cell_type": "code",
   "execution_count": 5,
   "metadata": {},
   "outputs": [
    {
     "name": "stdout",
     "output_type": "stream",
     "text": [
      "Уникальные значения в столбце: chain ['нет' 'да'] \n",
      "\n"
     ]
    },
    {
     "data": {
      "text/plain": [
       "chain\n",
       "да      2968\n",
       "нет    12398\n",
       "Name: chain, dtype: int64"
      ]
     },
     "metadata": {},
     "output_type": "display_data"
    },
    {
     "name": "stdout",
     "output_type": "stream",
     "text": [
      "Уникальные значения в столбце: object_type ['кафе' 'столовая' 'закусочная' 'предприятие быстрого обслуживания'\n",
      " 'ресторан' 'кафетерий' 'буфет' 'бар' 'магазин (отдел кулинарии)'] \n",
      "\n"
     ]
    },
    {
     "data": {
      "text/plain": [
       "object_type\n",
       "бар                                   856\n",
       "буфет                                 585\n",
       "закусочная                            360\n",
       "кафе                                 6099\n",
       "кафетерий                             398\n",
       "магазин (отдел кулинарии)             273\n",
       "предприятие быстрого обслуживания    1923\n",
       "ресторан                             2285\n",
       "столовая                             2587\n",
       "Name: object_type, dtype: int64"
      ]
     },
     "metadata": {},
     "output_type": "display_data"
    }
   ],
   "source": [
    "# List of columns with Objects type\n",
    "column_list = ['object_name', 'chain', 'object_type', 'address']\n",
    "\n",
    "for col in column_list:\n",
    "    df_data[col] = df_data[col].str.lower()\n",
    "\n",
    "# Get unique values from columns 'chain' and 'object_type'\n",
    "\n",
    "print('Уникальные значения в столбце: chain', df_data['chain'].unique(), '\\n')   \n",
    "display(df_data.groupby('chain')['chain'].count().head(10))\n",
    "\n",
    "print('Уникальные значения в столбце: object_type', df_data['object_type'].unique(), '\\n')   \n",
    "display(df_data.groupby('object_type')['object_type'].count().head(10))"
   ]
  },
  {
   "cell_type": "markdown",
   "metadata": {},
   "source": [
    "Отлично теперь мне известно сколько всего у меня есть различных типов объектов общественного питания и является ли этот объект сетевым или нет. Можно также сказать, что на рынке привалируют объекты типа **кафе**, не относящиеся к **сетевым**. Осталось разобраться с назаниями и адресами. "
   ]
  },
  {
   "cell_type": "code",
   "execution_count": 6,
   "metadata": {},
   "outputs": [
    {
     "name": "stdout",
     "output_type": "stream",
     "text": [
      "Дубликатов в таблице object_name: 5442\n",
      "Дубликатов в таблице address: 6258\n"
     ]
    }
   ],
   "source": [
    "print ('Дубликатов в таблице object_name:', df_data['object_name'].duplicated().sum())\n",
    "print ('Дубликатов в таблице address:'    , df_data['address'].duplicated().sum())"
   ]
  },
  {
   "cell_type": "markdown",
   "metadata": {},
   "source": [
    "Выполнив проверку по поиску дубликатов, только по отдельным колонка, мне удалось узнать, что одноименных объектов различных типов питания много, почти 1/3 от всех данных - фантазия она такая, кроме того у нас есть 2986 сетевых объектов, которые могут иметь одинаковый бренд. Одинаковый адрес встречается и того чаще, что также можно объяснить тем, что скорее всего в одном здании может распологаться несколько кафе, продуктовых лавок и т.д. Поэтому надо проверить совпадения в нескольких колонках сразу."
   ]
  },
  {
   "cell_type": "markdown",
   "metadata": {},
   "source": [
    "Сразу сделаю оговорку: Проверять я буду по столбцам `object_name`, `address`, `object_type` - исходя из предположения, что например у одноименного ресторана, может быть зарегистрирован по тому же адресу одноименный магазин или лавка с таким же названиям. Добавлять столбец `number` я не буду, поскольку уже 3 поля точно совпадают - место, название и тип заведения - я считаю этих совпаение достаточно, чтобы понять дубликат у нас или нет. "
   ]
  },
  {
   "cell_type": "code",
   "execution_count": 7,
   "metadata": {},
   "outputs": [
    {
     "name": "stdout",
     "output_type": "stream",
     "text": [
      "Дубликатов в таблице: 184\n"
     ]
    }
   ],
   "source": [
    "print ('Дубликатов в таблице:', df_data[['object_name', 'address', 'object_type']].duplicated().sum())"
   ]
  },
  {
   "cell_type": "markdown",
   "metadata": {},
   "source": [
    "Отлично, количество таких заведение резко уменьшилось и нам удалось выявить 184 вариант с совпадением 3 полей. Удалим дубликаты и исправим индексы."
   ]
  },
  {
   "cell_type": "code",
   "execution_count": 8,
   "metadata": {},
   "outputs": [
    {
     "name": "stdout",
     "output_type": "stream",
     "text": [
      "Common information about - rest_data\n"
     ]
    },
    {
     "data": {
      "text/html": [
       "<div>\n",
       "<style scoped>\n",
       "    .dataframe tbody tr th:only-of-type {\n",
       "        vertical-align: middle;\n",
       "    }\n",
       "\n",
       "    .dataframe tbody tr th {\n",
       "        vertical-align: top;\n",
       "    }\n",
       "\n",
       "    .dataframe thead th {\n",
       "        text-align: right;\n",
       "    }\n",
       "</style>\n",
       "<table border=\"1\" class=\"dataframe\">\n",
       "  <thead>\n",
       "    <tr style=\"text-align: right;\">\n",
       "      <th></th>\n",
       "      <th>id</th>\n",
       "      <th>object_name</th>\n",
       "      <th>chain</th>\n",
       "      <th>object_type</th>\n",
       "      <th>address</th>\n",
       "      <th>number</th>\n",
       "    </tr>\n",
       "  </thead>\n",
       "  <tbody>\n",
       "    <tr>\n",
       "      <td>0</td>\n",
       "      <td>151635</td>\n",
       "      <td>сметана</td>\n",
       "      <td>нет</td>\n",
       "      <td>кафе</td>\n",
       "      <td>город москва, улица егора абакумова, дом 9</td>\n",
       "      <td>48</td>\n",
       "    </tr>\n",
       "    <tr>\n",
       "      <td>1</td>\n",
       "      <td>77874</td>\n",
       "      <td>родник</td>\n",
       "      <td>нет</td>\n",
       "      <td>кафе</td>\n",
       "      <td>город москва, улица талалихина, дом 2/1, корпус 1</td>\n",
       "      <td>35</td>\n",
       "    </tr>\n",
       "    <tr>\n",
       "      <td>2</td>\n",
       "      <td>24309</td>\n",
       "      <td>кафе «академия»</td>\n",
       "      <td>нет</td>\n",
       "      <td>кафе</td>\n",
       "      <td>город москва, абельмановская улица, дом 6</td>\n",
       "      <td>95</td>\n",
       "    </tr>\n",
       "    <tr>\n",
       "      <td>3</td>\n",
       "      <td>21894</td>\n",
       "      <td>пиццетория</td>\n",
       "      <td>да</td>\n",
       "      <td>кафе</td>\n",
       "      <td>город москва, абрамцевская улица, дом 1</td>\n",
       "      <td>40</td>\n",
       "    </tr>\n",
       "    <tr>\n",
       "      <td>4</td>\n",
       "      <td>119365</td>\n",
       "      <td>кафе «вишневая метель»</td>\n",
       "      <td>нет</td>\n",
       "      <td>кафе</td>\n",
       "      <td>город москва, абрамцевская улица, дом 9, корпус 1</td>\n",
       "      <td>50</td>\n",
       "    </tr>\n",
       "  </tbody>\n",
       "</table>\n",
       "</div>"
      ],
      "text/plain": [
       "       id             object_name chain object_type  \\\n",
       "0  151635                 сметана   нет        кафе   \n",
       "1   77874                  родник   нет        кафе   \n",
       "2   24309         кафе «академия»   нет        кафе   \n",
       "3   21894              пиццетория    да        кафе   \n",
       "4  119365  кафе «вишневая метель»   нет        кафе   \n",
       "\n",
       "                                             address  number  \n",
       "0         город москва, улица егора абакумова, дом 9      48  \n",
       "1  город москва, улица талалихина, дом 2/1, корпус 1      35  \n",
       "2          город москва, абельмановская улица, дом 6      95  \n",
       "3            город москва, абрамцевская улица, дом 1      40  \n",
       "4  город москва, абрамцевская улица, дом 9, корпус 1      50  "
      ]
     },
     "metadata": {},
     "output_type": "display_data"
    },
    {
     "name": "stdout",
     "output_type": "stream",
     "text": [
      "<class 'pandas.core.frame.DataFrame'>\n",
      "RangeIndex: 15182 entries, 0 to 15181\n",
      "Data columns (total 6 columns):\n",
      "id             15182 non-null int64\n",
      "object_name    15182 non-null object\n",
      "chain          15182 non-null object\n",
      "object_type    15182 non-null object\n",
      "address        15182 non-null object\n",
      "number         15182 non-null int64\n",
      "dtypes: int64(2), object(4)\n",
      "memory usage: 711.8+ KB\n",
      "Index(['id', 'object_name', 'chain', 'object_type', 'address', 'number'], dtype='object') \n",
      "\n",
      "Numbers of NaN values in the dataset - rest_data \n",
      "\n",
      "id             0\n",
      "object_name    0\n",
      "chain          0\n",
      "object_type    0\n",
      "address        0\n",
      "number         0\n",
      "dtype: int64\n",
      "Numbers of duplicates (explicit)in the dataset - rest_data \n",
      "\n",
      "0\n",
      "None\n"
     ]
    }
   ],
   "source": [
    "df_data = (df_data\n",
    "                .drop_duplicates(subset = ['object_name', 'address', 'object_type'], keep='last')\n",
    "                .dropna().reset_index(drop=True)\n",
    "          )\n",
    "\n",
    "print(get_info(df_data, 'rest_data')) "
   ]
  },
  {
   "cell_type": "markdown",
   "metadata": {},
   "source": [
    "**Вывод:** Неявные дубликаты были выявлены, удалены и теперь данные готовы для дальнейшей обработки."
   ]
  },
  {
   "cell_type": "markdown",
   "metadata": {},
   "source": [
    "Загружаем дополнительные данные для определения районов для улиц Москвы."
   ]
  },
  {
   "cell_type": "code",
   "execution_count": 9,
   "metadata": {},
   "outputs": [
    {
     "data": {
      "text/html": [
       "<div>\n",
       "<style scoped>\n",
       "    .dataframe tbody tr th:only-of-type {\n",
       "        vertical-align: middle;\n",
       "    }\n",
       "\n",
       "    .dataframe tbody tr th {\n",
       "        vertical-align: top;\n",
       "    }\n",
       "\n",
       "    .dataframe thead th {\n",
       "        text-align: right;\n",
       "    }\n",
       "</style>\n",
       "<table border=\"1\" class=\"dataframe\">\n",
       "  <thead>\n",
       "    <tr style=\"text-align: right;\">\n",
       "      <th></th>\n",
       "      <th>street</th>\n",
       "      <th>area_id</th>\n",
       "      <th>okrug</th>\n",
       "      <th>area</th>\n",
       "    </tr>\n",
       "  </thead>\n",
       "  <tbody>\n",
       "    <tr>\n",
       "      <td>0</td>\n",
       "      <td>выставочный переулок</td>\n",
       "      <td>17</td>\n",
       "      <td>цао</td>\n",
       "      <td>пресненский район</td>\n",
       "    </tr>\n",
       "    <tr>\n",
       "      <td>1</td>\n",
       "      <td>улица гашека</td>\n",
       "      <td>17</td>\n",
       "      <td>цао</td>\n",
       "      <td>пресненский район</td>\n",
       "    </tr>\n",
       "    <tr>\n",
       "      <td>2</td>\n",
       "      <td>большая никитская улица</td>\n",
       "      <td>17</td>\n",
       "      <td>цао</td>\n",
       "      <td>пресненский район</td>\n",
       "    </tr>\n",
       "    <tr>\n",
       "      <td>3</td>\n",
       "      <td>глубокий переулок</td>\n",
       "      <td>17</td>\n",
       "      <td>цао</td>\n",
       "      <td>пресненский район</td>\n",
       "    </tr>\n",
       "    <tr>\n",
       "      <td>4</td>\n",
       "      <td>большой гнездниковский переулок</td>\n",
       "      <td>17</td>\n",
       "      <td>цао</td>\n",
       "      <td>пресненский район</td>\n",
       "    </tr>\n",
       "    <tr>\n",
       "      <td>...</td>\n",
       "      <td>...</td>\n",
       "      <td>...</td>\n",
       "      <td>...</td>\n",
       "      <td>...</td>\n",
       "    </tr>\n",
       "    <tr>\n",
       "      <td>4393</td>\n",
       "      <td>вознесенский проезд</td>\n",
       "      <td>17</td>\n",
       "      <td>цао</td>\n",
       "      <td>пресненский район</td>\n",
       "    </tr>\n",
       "    <tr>\n",
       "      <td>4394</td>\n",
       "      <td>волков переулок</td>\n",
       "      <td>17</td>\n",
       "      <td>цао</td>\n",
       "      <td>пресненский район</td>\n",
       "    </tr>\n",
       "    <tr>\n",
       "      <td>4395</td>\n",
       "      <td>поварская улица</td>\n",
       "      <td>17</td>\n",
       "      <td>цао</td>\n",
       "      <td>пресненский район</td>\n",
       "    </tr>\n",
       "    <tr>\n",
       "      <td>4396</td>\n",
       "      <td>кудринская площадь</td>\n",
       "      <td>17</td>\n",
       "      <td>цао</td>\n",
       "      <td>пресненский район</td>\n",
       "    </tr>\n",
       "    <tr>\n",
       "      <td>4397</td>\n",
       "      <td>вспольный переулок</td>\n",
       "      <td>17</td>\n",
       "      <td>цао</td>\n",
       "      <td>пресненский район</td>\n",
       "    </tr>\n",
       "  </tbody>\n",
       "</table>\n",
       "<p>4398 rows × 4 columns</p>\n",
       "</div>"
      ],
      "text/plain": [
       "                               street  area_id okrug               area\n",
       "0                выставочный переулок       17   цао  пресненский район\n",
       "1                        улица гашека       17   цао  пресненский район\n",
       "2             большая никитская улица       17   цао  пресненский район\n",
       "3                   глубокий переулок       17   цао  пресненский район\n",
       "4     большой гнездниковский переулок       17   цао  пресненский район\n",
       "...                               ...      ...   ...                ...\n",
       "4393              вознесенский проезд       17   цао  пресненский район\n",
       "4394                  волков переулок       17   цао  пресненский район\n",
       "4395                  поварская улица       17   цао  пресненский район\n",
       "4396               кудринская площадь       17   цао  пресненский район\n",
       "4397               вспольный переулок       17   цао  пресненский район\n",
       "\n",
       "[4398 rows x 4 columns]"
      ]
     },
     "execution_count": 9,
     "metadata": {},
     "output_type": "execute_result"
    }
   ],
   "source": [
    "spreadsheet_id = '1gy_rDpVJEBJ5fY4AXss6MJnsjE31LOzwjNOHDtH7QNk'\n",
    "file_name = 'https://docs.google.com/spreadsheets/d/{}/export?format=csv'.format(spreadsheet_id)\n",
    "\n",
    "r = requests.get(file_name)\n",
    "moscow_streets = pd.read_csv(BytesIO(r.content))\n",
    "moscow_streets.columns = ['street', 'area_id', 'okrug', 'area']\n",
    "\n",
    "column_list = ['street', 'okrug', 'area']\n",
    "\n",
    "for col in column_list:\n",
    "    moscow_streets[col] = moscow_streets[col].str.lower()\n",
    "    \n",
    "moscow_streets"
   ]
  },
  {
   "cell_type": "markdown",
   "metadata": {},
   "source": [
    "Набор внешних данных, готов"
   ]
  },
  {
   "cell_type": "markdown",
   "metadata": {},
   "source": [
    "### Анализ данных "
   ]
  },
  {
   "cell_type": "markdown",
   "metadata": {},
   "source": [
    "#### Соотношение видов объектов общественного питания по количеству. "
   ]
  },
  {
   "cell_type": "code",
   "execution_count": 10,
   "metadata": {},
   "outputs": [],
   "source": [
    "def plot_settungs(ax, title, xlabel, ylabel, deg):\n",
    "    ax.set_title(title  , color = 'black', fontsize = 14, pad = 20)\n",
    "    ax.set_xlabel(xlabel, color = 'black', fontsize = 14, labelpad = 20)\n",
    "    ax.set_ylabel(ylabel, color = 'black', fontsize = 14, labelpad = 20)\n",
    "\n",
    "    ax.grid(True, which     = 'major', \n",
    "                  color     = 'k'    ,\n",
    "                  linestyle = 'solid',\n",
    "                  alpha     = 0.5    )\n",
    "\n",
    "    for label in ax.xaxis.get_ticklabels():\n",
    "        label.set_color('black')\n",
    "        label.set_rotation(deg)\n",
    "        label.set_fontsize(14)\n",
    "    for label in ax.yaxis.get_ticklabels():\n",
    "        label.set_color('black')\n",
    "        label.set_fontsize(14)  \n",
    "    plt.show();"
   ]
  },
  {
   "cell_type": "code",
   "execution_count": 11,
   "metadata": {},
   "outputs": [
    {
     "data": {
      "image/png": "[encoded data removed]",
      "text/plain": [
       "<Figure size 864x504 with 1 Axes>"
      ]
     },
     "metadata": {
      "needs_background": "light"
     },
     "output_type": "display_data"
    }
   ],
   "source": [
    "obj_type = df_data.groupby('object_type')['object_type'].count().sort_values(ascending = False)\n",
    "\n",
    "fig = plt.figure(figsize = (12, 7))\n",
    "ax  = fig.add_subplot(111) \n",
    "\n",
    "plots = sns.barplot(obj_type.index, y = obj_type, ax = ax) \n",
    "\n",
    "plots = plot_settungs(ax, 'Соотношение видов объектов общественного питания по количеству', \n",
    "                          'Тип заведения общественного питания'                           ,\n",
    "                          'Количество заведений', deg = 90                                )"
   ]
  },
  {
   "cell_type": "markdown",
   "metadata": {},
   "source": [
    "**Вывод:** На основе выполненной группировки удалось установить, что больше всего в Москве заведений общественного питания типа - **Кафе**, затем идут **Столовые** и замыкают тройку лидеров **Рестораны**. "
   ]
  },
  {
   "cell_type": "markdown",
   "metadata": {},
   "source": [
    "#### Соотношение сетевых и несетевых заведений по количеству."
   ]
  },
  {
   "cell_type": "code",
   "execution_count": 12,
   "metadata": {},
   "outputs": [
    {
     "data": {
      "image/png": "[encoded data removed]",
      "text/plain": [
       "<Figure size 864x504 with 1 Axes>"
      ]
     },
     "metadata": {
      "needs_background": "light"
     },
     "output_type": "display_data"
    }
   ],
   "source": [
    "obj_type = df_data.groupby('chain')['chain'].count().sort_values(ascending = False)\n",
    "\n",
    "fig = plt.figure(figsize = (12, 7))\n",
    "ax  = fig.add_subplot(111) \n",
    "\n",
    "plots = sns.barplot(obj_type.index, y = obj_type, ax = ax) \n",
    "\n",
    "plots = plot_settungs(ax, 'Соотношение сетевых и несетевых заведений по количеству', \n",
    "                          'Является ли сетевым'                                    ,\n",
    "                          'Количество заведений', deg = 0                          )"
   ]
  },
  {
   "cell_type": "markdown",
   "metadata": {},
   "source": [
    "**Вывод:** Большинство объектов общественного питания не являются сетевыми. "
   ]
  },
  {
   "cell_type": "markdown",
   "metadata": {},
   "source": [
    "#### Для какого вида объекта общественного питания характерно сетевое распространение?"
   ]
  },
  {
   "cell_type": "code",
   "execution_count": 34,
   "metadata": {},
   "outputs": [
    {
     "data": {
      "text/html": [
       "<div>\n",
       "<style scoped>\n",
       "    .dataframe tbody tr th:only-of-type {\n",
       "        vertical-align: middle;\n",
       "    }\n",
       "\n",
       "    .dataframe tbody tr th {\n",
       "        vertical-align: top;\n",
       "    }\n",
       "\n",
       "    .dataframe thead th {\n",
       "        text-align: right;\n",
       "    }\n",
       "</style>\n",
       "<table border=\"1\" class=\"dataframe\">\n",
       "  <thead>\n",
       "    <tr style=\"text-align: right;\">\n",
       "      <th></th>\n",
       "      <th>type</th>\n",
       "      <th>number</th>\n",
       "      <th>number_chains_positive</th>\n",
       "      <th>share</th>\n",
       "    </tr>\n",
       "  </thead>\n",
       "  <tbody>\n",
       "    <tr>\n",
       "      <td>2</td>\n",
       "      <td>предприятие быстрого обслуживания</td>\n",
       "      <td>1889</td>\n",
       "      <td>783</td>\n",
       "      <td>0.414505</td>\n",
       "    </tr>\n",
       "    <tr>\n",
       "      <td>3</td>\n",
       "      <td>магазин (отдел кулинарии)</td>\n",
       "      <td>272</td>\n",
       "      <td>78</td>\n",
       "      <td>0.286765</td>\n",
       "    </tr>\n",
       "    <tr>\n",
       "      <td>1</td>\n",
       "      <td>ресторан</td>\n",
       "      <td>2270</td>\n",
       "      <td>540</td>\n",
       "      <td>0.237885</td>\n",
       "    </tr>\n",
       "    <tr>\n",
       "      <td>5</td>\n",
       "      <td>кафе</td>\n",
       "      <td>6000</td>\n",
       "      <td>1384</td>\n",
       "      <td>0.230667</td>\n",
       "    </tr>\n",
       "    <tr>\n",
       "      <td>6</td>\n",
       "      <td>закусочная</td>\n",
       "      <td>347</td>\n",
       "      <td>56</td>\n",
       "      <td>0.161383</td>\n",
       "    </tr>\n",
       "    <tr>\n",
       "      <td>4</td>\n",
       "      <td>кафетерий</td>\n",
       "      <td>393</td>\n",
       "      <td>51</td>\n",
       "      <td>0.129771</td>\n",
       "    </tr>\n",
       "    <tr>\n",
       "      <td>8</td>\n",
       "      <td>бар</td>\n",
       "      <td>853</td>\n",
       "      <td>37</td>\n",
       "      <td>0.043376</td>\n",
       "    </tr>\n",
       "    <tr>\n",
       "      <td>7</td>\n",
       "      <td>буфет</td>\n",
       "      <td>567</td>\n",
       "      <td>11</td>\n",
       "      <td>0.019400</td>\n",
       "    </tr>\n",
       "    <tr>\n",
       "      <td>0</td>\n",
       "      <td>столовая</td>\n",
       "      <td>2571</td>\n",
       "      <td>3</td>\n",
       "      <td>0.001167</td>\n",
       "    </tr>\n",
       "  </tbody>\n",
       "</table>\n",
       "</div>"
      ],
      "text/plain": [
       "                                type  number  number_chains_positive     share\n",
       "2  предприятие быстрого обслуживания    1889                     783  0.414505\n",
       "3          магазин (отдел кулинарии)     272                      78  0.286765\n",
       "1                           ресторан    2270                     540  0.237885\n",
       "5                               кафе    6000                    1384  0.230667\n",
       "6                         закусочная     347                      56  0.161383\n",
       "4                          кафетерий     393                      51  0.129771\n",
       "8                                бар     853                      37  0.043376\n",
       "7                              буфет     567                      11  0.019400\n",
       "0                           столовая    2571                       3  0.001167"
      ]
     },
     "metadata": {},
     "output_type": "display_data"
    },
    {
     "data": {
      "image/png": "[encoded data removed]",
      "text/plain": [
       "<Figure size 720x648 with 1 Axes>"
      ]
     },
     "metadata": {},
     "output_type": "display_data"
    }
   ],
   "source": [
    "# Загружаем информацию о всех заведениях\n",
    "total_objects = (df_data\n",
    "                     .groupby('object_type')\n",
    "                     .agg({'object_name' : 'count'})\n",
    "                     .reset_index()\n",
    "                     .sort_values('object_type', ascending = False)\n",
    "                ).reset_index(drop = True)\n",
    "\n",
    "total_objects.columns = ['type', 'number']\n",
    "\n",
    "\n",
    "\n",
    "# Делаю выборку только для сетевых заведений\n",
    "chain_yes = (df_data\n",
    "                 .query('chain == \"да\"')\n",
    "                 .groupby('object_type')\n",
    "                 .agg({'object_name' : 'count'})\n",
    "                 .reset_index()\n",
    "                 .sort_values('object_type', ascending = False)\n",
    "            ).reset_index(drop = True)\n",
    "chain_yes.columns = ['type', 'number_chains_positive']\n",
    "\n",
    "# Объединяю все одном датафрейме\n",
    "df_chain = total_objects.merge(chain_yes, on = ['type'], how = 'outer')\n",
    "\n",
    "# Get share of chain objects\n",
    "df_chain['share'] = df_chain['number_chains_positive'] / df_chain['number']\n",
    "df_chain = df_chain.sort_values('share', ascending = False)\n",
    "\n",
    "display(df_chain)\n",
    "# Visualization\n",
    "explode = (0.0, 0.0, 0.0, 0.0,  0.0, 0.0, 0.0, 0.15, 0.25)\n",
    "\n",
    "#create pie chart\n",
    "df_chain['share'].plot(kind     = 'pie'    ,\n",
    "                       figsize  = (10, 9)  ,\n",
    "                       fontsize = 14       , \n",
    "                       autopct  = '%1.1f%%', \n",
    "                       explode  = explode  ,\n",
    "                       labels   = df_chain['type'],\n",
    "                       shadow   = False    ,\n",
    "                       startangle = 0     )\n",
    "# Set labels\n",
    "plt.title('Вид объекта общественного питания с характерным сетевым распространением', fontsize = 14, pad = 20 )\n",
    "plt.ylabel('Процент сетевых заведений, %', color = 'black', fontsize = 14, labelpad = 180);\n",
    "\n",
    "plt.show()"
   ]
  },
  {
   "cell_type": "markdown",
   "metadata": {},
   "source": [
    "Вывод: Наиболее характерно сетевое распространение для предприятий общественного питания типа **предприятия быстрого обслуживания и отделам кулинарии**. Меньше всего сетевых предприятия в **столовых**, **буфетах** и **барах**."
   ]
  },
  {
   "cell_type": "code",
   "execution_count": 14,
   "metadata": {},
   "outputs": [
    {
     "data": {
      "text/html": [
       "<div>\n",
       "<style scoped>\n",
       "    .dataframe tbody tr th:only-of-type {\n",
       "        vertical-align: middle;\n",
       "    }\n",
       "\n",
       "    .dataframe tbody tr th {\n",
       "        vertical-align: top;\n",
       "    }\n",
       "\n",
       "    .dataframe thead th {\n",
       "        text-align: right;\n",
       "    }\n",
       "</style>\n",
       "<table border=\"1\" class=\"dataframe\">\n",
       "  <thead>\n",
       "    <tr style=\"text-align: right;\">\n",
       "      <th></th>\n",
       "      <th>доля_сетевых</th>\n",
       "    </tr>\n",
       "    <tr>\n",
       "      <th>object_type</th>\n",
       "      <th></th>\n",
       "    </tr>\n",
       "  </thead>\n",
       "  <tbody>\n",
       "    <tr>\n",
       "      <td>бар</td>\n",
       "      <td>0.043376</td>\n",
       "    </tr>\n",
       "    <tr>\n",
       "      <td>буфет</td>\n",
       "      <td>0.019298</td>\n",
       "    </tr>\n",
       "    <tr>\n",
       "      <td>закусочная</td>\n",
       "      <td>0.161383</td>\n",
       "    </tr>\n",
       "    <tr>\n",
       "      <td>кафе</td>\n",
       "      <td>0.230859</td>\n",
       "    </tr>\n",
       "    <tr>\n",
       "      <td>кафетерий</td>\n",
       "      <td>0.129771</td>\n",
       "    </tr>\n",
       "    <tr>\n",
       "      <td>магазин (отдел кулинарии)</td>\n",
       "      <td>0.286765</td>\n",
       "    </tr>\n",
       "    <tr>\n",
       "      <td>предприятие быстрого обслуживания</td>\n",
       "      <td>0.414815</td>\n",
       "    </tr>\n",
       "    <tr>\n",
       "      <td>ресторан</td>\n",
       "      <td>0.238347</td>\n",
       "    </tr>\n",
       "    <tr>\n",
       "      <td>столовая</td>\n",
       "      <td>0.001165</td>\n",
       "    </tr>\n",
       "  </tbody>\n",
       "</table>\n",
       "</div>"
      ],
      "text/plain": [
       "                                   доля_сетевых\n",
       "object_type                                    \n",
       "бар                                    0.043376\n",
       "буфет                                  0.019298\n",
       "закусочная                             0.161383\n",
       "кафе                                   0.230859\n",
       "кафетерий                              0.129771\n",
       "магазин (отдел кулинарии)              0.286765\n",
       "предприятие быстрого обслуживания      0.414815\n",
       "ресторан                               0.238347\n",
       "столовая                               0.001165"
      ]
     },
     "execution_count": 14,
     "metadata": {},
     "output_type": "execute_result"
    }
   ],
   "source": [
    "# Код ревьюера\n",
    "df_data.groupby('object_type').apply(lambda x : \n",
    "    \n",
    "        pd.Series({\n",
    "                    'доля_сетевых' : (x['chain'] == 'да').mean()\n",
    "                })\n",
    "   )"
   ]
  },
  {
   "cell_type": "markdown",
   "metadata": {},
   "source": [
    "#### Что характерно для сетевых заведений: много заведений с небольшим числом посадочных мест в каждом или мало заведений с большим количеством посадочных мест?"
   ]
  },
  {
   "cell_type": "code",
   "execution_count": 38,
   "metadata": {},
   "outputs": [],
   "source": [
    "def histogram(df, col, bin, ax):\n",
    "    df.plot(y = col      , title = col,\n",
    "            kind = 'hist', bins  = bin,\n",
    "            grid = True  , ax = ax)\n"
   ]
  },
  {
   "cell_type": "code",
   "execution_count": 16,
   "metadata": {},
   "outputs": [
    {
     "data": {
      "image/png": "[encoded data removed]",
      "text/plain": [
       "<Figure size 864x504 with 1 Axes>"
      ]
     },
     "metadata": {
      "needs_background": "light"
     },
     "output_type": "display_data"
    }
   ],
   "source": [
    "chains = df_data.query('chain == \"да\"')\n",
    "\n",
    "fig = plt.figure(figsize = (12, 7))\n",
    "ax  = fig.add_subplot(111) \n",
    "\n",
    "plots = histogram(chains, 'number', 50, ax)   \n",
    "\n",
    "plots = plot_settungs(ax, 'Сетевые заведения'            , \n",
    "                          'Количество посадочных мест'   ,\n",
    "                          'Количество заведений', deg = 0)\n",
    "ax.set_yticks(np.arange(0, 651, 50)); "
   ]
  },
  {
   "cell_type": "markdown",
   "metadata": {},
   "source": [
    "**Вывод:** В большинстве случаев сетевые объекты общественного питания предпочитают небольшие помещения с малым количество посадочных мест, нежели мало объектов общественного питания, но с большим количество посадочных мест."
   ]
  },
  {
   "cell_type": "code",
   "execution_count": 17,
   "metadata": {},
   "outputs": [
    {
     "data": {
      "image/png": "[encoded data removed]",
      "text/plain": [
       "<Figure size 864x504 with 1 Axes>"
      ]
     },
     "metadata": {
      "needs_background": "light"
     },
     "output_type": "display_data"
    }
   ],
   "source": [
    "# Загружаем информацию о всех заведениях\n",
    "\n",
    "total_name = (chains\n",
    "                     .groupby('object_name')\n",
    "                     .agg({'number' : ['count', 'median']})\n",
    "                     .reset_index()\n",
    "                     \n",
    "                )#.reset_index(drop = True)\n",
    "total_name.columns = ['place', 'place_count', 'mean_number']\n",
    "total_name = total_name.sort_values('place_count', ascending = False)\n",
    "#display(total_name)\n",
    "\n",
    "# Create new categories\n",
    "total_name['size'] = pd.cut(total_name['place_count'], [0, 20, 50, 100, np.inf], \n",
    "                                    labels = ['Малая TC   (> 20)'      ,\n",
    "                                              'Средняя TC (21 - 60)'   ,\n",
    "                                              'Крупная ТС (51 - 100)'  ,\n",
    "                                              'Очень крупная ТС (>100)'])   \n",
    "\n",
    "\n",
    "# Visualization\n",
    "fig = plt.figure(figsize = (12, 7))\n",
    "ax  = fig.add_subplot(111) \n",
    "\n",
    "plots = sns.boxplot(x = 'size', y = 'mean_number', data = total_name)\n",
    "plots = plot_settungs(ax, 'Соотношение размера торговой сети (ТС) и количество мест в заведениях', \n",
    "                          'Количество мест в заведении'                                          ,\n",
    "                          'Размер сети заведений', deg = 15                                      )"
   ]
  },
  {
   "cell_type": "code",
   "execution_count": 18,
   "metadata": {},
   "outputs": [
    {
     "data": {
      "image/png": "[encoded data removed]",
      "text/plain": [
       "<Figure size 864x504 with 1 Axes>"
      ]
     },
     "metadata": {
      "needs_background": "light"
     },
     "output_type": "display_data"
    }
   ],
   "source": [
    "# Visualization\n",
    "fig = plt.figure(figsize = (12, 7))\n",
    "ax  = fig.add_subplot(111) \n",
    "sns.violinplot(x='size', y='mean_number', data=total_name, palette='rainbow') \n",
    "plots = plot_settungs(ax, 'Соотношение размера торговой сети (ТС) и количество мест в заведениях', \n",
    "                          'Количество мест в заведении'                                          ,\n",
    "                          'Размер сети заведений', deg = 15                                      )"
   ]
  },
  {
   "cell_type": "markdown",
   "metadata": {},
   "source": [
    "**Вывод:** Очень крутные и средние торговые сети предпочитают устанавливать размер заведения на 45 - 50 человек, что хорошо видно на графиках. Крупные сети предпочитают много заведений, но расчитанные на небольшое количетство посетителей 15 - 25. Для малых же торговых сетей свойственнен наибольший разброс по количеству мест, о чем свидетельствуют выбросы. В среднем же число мест не сильно отличается от ощей массы заведений и находится в пределах от 45 до 50."
   ]
  },
  {
   "cell_type": "markdown",
   "metadata": {},
   "source": [
    "#### Для каждого вида объекта общественного питания опишите среднее количество посадочных мест. Какой вид предоставляет в среднем самое большое количество посадочных мест? Постройте графики."
   ]
  },
  {
   "cell_type": "code",
   "execution_count": 19,
   "metadata": {},
   "outputs": [
    {
     "data": {
      "image/png": "[encoded data removed]",
      "text/plain": [
       "<Figure size 864x504 with 1 Axes>"
      ]
     },
     "metadata": {
      "needs_background": "light"
     },
     "output_type": "display_data"
    }
   ],
   "source": [
    "# Загружаем информацию о всех заведениях\n",
    "mean_objects = (df_data\n",
    "                     .groupby('object_type')\n",
    "                     .agg({'number' : 'median'})\n",
    "                     .reset_index()\n",
    "                     .sort_values('number', ascending = False)\n",
    "                ).reset_index(drop = True)\n",
    "mean_objects\n",
    "\n",
    "fig = plt.figure(figsize = (12, 7))\n",
    "ax  = fig.add_subplot(111) \n",
    "\n",
    "plots = sns.barplot(mean_objects['object_type'], mean_objects['number'], ax = ax) \n",
    "\n",
    "plots = plot_settungs(ax, 'Cреднее количество посадочных мест'   , \n",
    "                          'Тип заведения общественного питания'  ,\n",
    "                          'Количество посадочных мест', deg = 90 )"
   ]
  },
  {
   "cell_type": "markdown",
   "metadata": {},
   "source": [
    "**Вывод:** Больше всего в среднем посадочных мест в объектах общественного питания типа **столовая**, посадочные места полностью отсутсвуют в объектах общественного питания типа **кулинария** и **закусочная**. "
   ]
  },
  {
   "cell_type": "markdown",
   "metadata": {},
   "source": [
    "#### Выделите в отдельный столбец информацию об улице из столбца address "
   ]
  },
  {
   "cell_type": "markdown",
   "metadata": {},
   "source": [
    "Сделаю данную процедуру в несколько этапов. На первом этапе добавлю 3 колонки с городом, улицей и дополнительными графами"
   ]
  },
  {
   "cell_type": "code",
   "execution_count": 20,
   "metadata": {},
   "outputs": [],
   "source": [
    "df_data['city']   = df_data['address'].str.split(r\",\", expand=True).loc[:,[0]].rename(columns = {0 : 'city'})\n",
    "df_data['street'] = df_data['address'].str.split(r\",\", expand=True).loc[:,[1]].rename(columns = {1 : 'street'})\n",
    "df_data['house']  = df_data['address'].str.split(r\",\", expand=True).loc[:,[2]].rename(columns = {2 : 'house'})"
   ]
  },
  {
   "cell_type": "markdown",
   "metadata": {},
   "source": [
    "Проверю на наличие пропусков и удалю пустые значения, если имеются"
   ]
  },
  {
   "cell_type": "code",
   "execution_count": 21,
   "metadata": {},
   "outputs": [
    {
     "name": "stdout",
     "output_type": "stream",
     "text": [
      "<class 'pandas.core.frame.DataFrame'>\n",
      "RangeIndex: 15182 entries, 0 to 15181\n",
      "Data columns (total 9 columns):\n",
      "id             15182 non-null int64\n",
      "object_name    15182 non-null object\n",
      "chain          15182 non-null object\n",
      "object_type    15182 non-null object\n",
      "address        15182 non-null object\n",
      "number         15182 non-null int64\n",
      "city           15182 non-null object\n",
      "street         15182 non-null object\n",
      "house          15162 non-null object\n",
      "dtypes: int64(2), object(7)\n",
      "memory usage: 1.0+ MB\n"
     ]
    }
   ],
   "source": [
    "df_data.info()\n",
    "df_data = df_data.dropna()"
   ]
  },
  {
   "cell_type": "markdown",
   "metadata": {},
   "source": [
    "В задании говорится, что нам требуется найти ТОП10 улиц для Москвы поэтому все остальные города и поселки Московской области можно убрать."
   ]
  },
  {
   "cell_type": "code",
   "execution_count": 22,
   "metadata": {},
   "outputs": [
    {
     "name": "stdout",
     "output_type": "stream",
     "text": [
      "<class 'pandas.core.frame.DataFrame'>\n",
      "Int64Index: 15111 entries, 0 to 15181\n",
      "Data columns (total 9 columns):\n",
      "id             15111 non-null int64\n",
      "object_name    15111 non-null object\n",
      "chain          15111 non-null object\n",
      "object_type    15111 non-null object\n",
      "address        15111 non-null object\n",
      "number         15111 non-null int64\n",
      "city           15111 non-null object\n",
      "street         15111 non-null object\n",
      "house          15111 non-null object\n",
      "dtypes: int64(2), object(7)\n",
      "memory usage: 1.2+ MB\n"
     ]
    }
   ],
   "source": [
    "df_data['city']   = df_data['city'].str.lower()\n",
    "df_data['street'] = df_data['street'].str.lower()\n",
    "df_data['house']  = df_data['house'].str.lower()\n",
    "# Get data only for Moscow\n",
    "df_moscow = df_data.query('city == \"город москва\"')\n",
    "df_moscow.info()\n",
    "#display(df_moscow)"
   ]
  },
  {
   "cell_type": "markdown",
   "metadata": {},
   "source": [
    "Отбросили явно лишние города и теперь поправим значения для улиц."
   ]
  },
  {
   "cell_type": "code",
   "execution_count": 23,
   "metadata": {},
   "outputs": [],
   "source": [
    "def change_street(row):\n",
    "    change_in = row['street']\n",
    "    change_on = row['house'] \n",
    "    \n",
    "    names_list = ['шоссе', 'проезд'  , 'деревня', 'улица',\n",
    "                  'село' , 'проспект', 'бульвар', 'аллея',\n",
    "                  'площадь']\n",
    "    for name in names_list:\n",
    "        if name in change_on:\n",
    "            change_in = change_on\n",
    "            return change_in\n",
    "        else:\n",
    "            change_in = change_in\n",
    "            return change_in\n",
    "        \n",
    "# Get correct values in new dataframe    \n",
    "df_moscow['new_street'] = df_moscow.apply(change_street, axis = 1)\n",
    "#df_moscow"
   ]
  },
  {
   "cell_type": "markdown",
   "metadata": {},
   "source": [
    "Большинство проблемных улиц исправлено. Можно удалить лишние столбцы."
   ]
  },
  {
   "cell_type": "code",
   "execution_count": 24,
   "metadata": {},
   "outputs": [],
   "source": [
    "df_moscow = df_moscow.drop(['city','street','house'], axis = 1)"
   ]
  },
  {
   "cell_type": "markdown",
   "metadata": {},
   "source": [
    "**Вывод:** Колонка с улицами успешно создана, при этом есть случаи когда возможно поподания других значений (например: деревня Сидорово или поселок Лесной) в колонку предназначенную для улицы исравлено на корректные значения. Оставшиеся случаи отнесу к погрешностям."
   ]
  },
  {
   "cell_type": "markdown",
   "metadata": {},
   "source": [
    "#### Постройте график топ-10 улиц по количеству объектов общественного питания. Воспользуйтесь внешней информацией и ответьте на вопрос — в каких районах Москвы находятся эти улицы?"
   ]
  },
  {
   "cell_type": "code",
   "execution_count": 25,
   "metadata": {},
   "outputs": [
    {
     "data": {
      "text/html": [
       "<div>\n",
       "<style scoped>\n",
       "    .dataframe tbody tr th:only-of-type {\n",
       "        vertical-align: middle;\n",
       "    }\n",
       "\n",
       "    .dataframe tbody tr th {\n",
       "        vertical-align: top;\n",
       "    }\n",
       "\n",
       "    .dataframe thead th {\n",
       "        text-align: right;\n",
       "    }\n",
       "</style>\n",
       "<table border=\"1\" class=\"dataframe\">\n",
       "  <thead>\n",
       "    <tr style=\"text-align: right;\">\n",
       "      <th></th>\n",
       "      <th>new_street</th>\n",
       "      <th>object_name</th>\n",
       "    </tr>\n",
       "  </thead>\n",
       "  <tbody>\n",
       "    <tr>\n",
       "      <td>0</td>\n",
       "      <td>город зеленоград</td>\n",
       "      <td>230</td>\n",
       "    </tr>\n",
       "    <tr>\n",
       "      <td>1</td>\n",
       "      <td>проспект мира</td>\n",
       "      <td>196</td>\n",
       "    </tr>\n",
       "    <tr>\n",
       "      <td>2</td>\n",
       "      <td>профсоюзная улица</td>\n",
       "      <td>180</td>\n",
       "    </tr>\n",
       "    <tr>\n",
       "      <td>3</td>\n",
       "      <td>ленинградский проспект</td>\n",
       "      <td>170</td>\n",
       "    </tr>\n",
       "    <tr>\n",
       "      <td>4</td>\n",
       "      <td>пресненская набережная</td>\n",
       "      <td>165</td>\n",
       "    </tr>\n",
       "    <tr>\n",
       "      <td>5</td>\n",
       "      <td>варшавское шоссе</td>\n",
       "      <td>162</td>\n",
       "    </tr>\n",
       "    <tr>\n",
       "      <td>6</td>\n",
       "      <td>ленинский проспект</td>\n",
       "      <td>147</td>\n",
       "    </tr>\n",
       "    <tr>\n",
       "      <td>7</td>\n",
       "      <td>проспект вернадского</td>\n",
       "      <td>126</td>\n",
       "    </tr>\n",
       "    <tr>\n",
       "      <td>8</td>\n",
       "      <td>кутузовский проспект</td>\n",
       "      <td>114</td>\n",
       "    </tr>\n",
       "    <tr>\n",
       "      <td>9</td>\n",
       "      <td>каширское шоссе</td>\n",
       "      <td>110</td>\n",
       "    </tr>\n",
       "  </tbody>\n",
       "</table>\n",
       "</div>"
      ],
      "text/plain": [
       "                new_street  object_name\n",
       "0         город зеленоград          230\n",
       "1            проспект мира          196\n",
       "2        профсоюзная улица          180\n",
       "3   ленинградский проспект          170\n",
       "4   пресненская набережная          165\n",
       "5         варшавское шоссе          162\n",
       "6       ленинский проспект          147\n",
       "7     проспект вернадского          126\n",
       "8     кутузовский проспект          114\n",
       "9          каширское шоссе          110"
      ]
     },
     "metadata": {},
     "output_type": "display_data"
    }
   ],
   "source": [
    "# Загружаем информацию о всех заведениях\n",
    "street_objects = (df_moscow\n",
    "                     .groupby('new_street')\n",
    "                     .agg({'object_name' : 'count'})\n",
    "                     .reset_index()\n",
    "                     .sort_values('object_name', ascending = False)\n",
    "                ).reset_index(drop = True)\n",
    "\n",
    "display(street_objects.head(10))"
   ]
  },
  {
   "cell_type": "markdown",
   "metadata": {},
   "source": [
    "Отлично, мне удалось посчитать количество заведений и вывести их ТОП10. Но стоит отметить, что пункт 1 вызывает много вопросов, поэтому исправлю и эту ситуацию, а именно исключю из наших данных такие строчки."
   ]
  },
  {
   "cell_type": "code",
   "execution_count": 26,
   "metadata": {},
   "outputs": [
    {
     "data": {
      "text/html": [
       "<div>\n",
       "<style scoped>\n",
       "    .dataframe tbody tr th:only-of-type {\n",
       "        vertical-align: middle;\n",
       "    }\n",
       "\n",
       "    .dataframe tbody tr th {\n",
       "        vertical-align: top;\n",
       "    }\n",
       "\n",
       "    .dataframe thead th {\n",
       "        text-align: right;\n",
       "    }\n",
       "</style>\n",
       "<table border=\"1\" class=\"dataframe\">\n",
       "  <thead>\n",
       "    <tr style=\"text-align: right;\">\n",
       "      <th></th>\n",
       "      <th>id</th>\n",
       "      <th>object_name</th>\n",
       "      <th>chain</th>\n",
       "      <th>object_type</th>\n",
       "      <th>address</th>\n",
       "      <th>number</th>\n",
       "      <th>street</th>\n",
       "    </tr>\n",
       "  </thead>\n",
       "  <tbody>\n",
       "    <tr>\n",
       "      <td>0</td>\n",
       "      <td>151635</td>\n",
       "      <td>сметана</td>\n",
       "      <td>нет</td>\n",
       "      <td>кафе</td>\n",
       "      <td>город москва, улица егора абакумова, дом 9</td>\n",
       "      <td>48</td>\n",
       "      <td>улица егора абакумова</td>\n",
       "    </tr>\n",
       "    <tr>\n",
       "      <td>1</td>\n",
       "      <td>77874</td>\n",
       "      <td>родник</td>\n",
       "      <td>нет</td>\n",
       "      <td>кафе</td>\n",
       "      <td>город москва, улица талалихина, дом 2/1, корпус 1</td>\n",
       "      <td>35</td>\n",
       "      <td>улица талалихина</td>\n",
       "    </tr>\n",
       "    <tr>\n",
       "      <td>2</td>\n",
       "      <td>24309</td>\n",
       "      <td>кафе «академия»</td>\n",
       "      <td>нет</td>\n",
       "      <td>кафе</td>\n",
       "      <td>город москва, абельмановская улица, дом 6</td>\n",
       "      <td>95</td>\n",
       "      <td>абельмановская улица</td>\n",
       "    </tr>\n",
       "    <tr>\n",
       "      <td>3</td>\n",
       "      <td>21894</td>\n",
       "      <td>пиццетория</td>\n",
       "      <td>да</td>\n",
       "      <td>кафе</td>\n",
       "      <td>город москва, абрамцевская улица, дом 1</td>\n",
       "      <td>40</td>\n",
       "      <td>абрамцевская улица</td>\n",
       "    </tr>\n",
       "    <tr>\n",
       "      <td>4</td>\n",
       "      <td>119365</td>\n",
       "      <td>кафе «вишневая метель»</td>\n",
       "      <td>нет</td>\n",
       "      <td>кафе</td>\n",
       "      <td>город москва, абрамцевская улица, дом 9, корпус 1</td>\n",
       "      <td>50</td>\n",
       "      <td>абрамцевская улица</td>\n",
       "    </tr>\n",
       "    <tr>\n",
       "      <td>...</td>\n",
       "      <td>...</td>\n",
       "      <td>...</td>\n",
       "      <td>...</td>\n",
       "      <td>...</td>\n",
       "      <td>...</td>\n",
       "      <td>...</td>\n",
       "      <td>...</td>\n",
       "    </tr>\n",
       "    <tr>\n",
       "      <td>15177</td>\n",
       "      <td>219759</td>\n",
       "      <td>шоколадница</td>\n",
       "      <td>да</td>\n",
       "      <td>кафе</td>\n",
       "      <td>город москва, улица вавилова, дом 3</td>\n",
       "      <td>36</td>\n",
       "      <td>улица вавилова</td>\n",
       "    </tr>\n",
       "    <tr>\n",
       "      <td>15178</td>\n",
       "      <td>208537</td>\n",
       "      <td>шоколадница</td>\n",
       "      <td>да</td>\n",
       "      <td>кафе</td>\n",
       "      <td>город москва, 3-й крутицкий переулок, дом 18</td>\n",
       "      <td>50</td>\n",
       "      <td>3-й крутицкий переулок</td>\n",
       "    </tr>\n",
       "    <tr>\n",
       "      <td>15179</td>\n",
       "      <td>209186</td>\n",
       "      <td>шоколадница</td>\n",
       "      <td>да</td>\n",
       "      <td>кафе</td>\n",
       "      <td>город москва, улица земляной вал, дом 33</td>\n",
       "      <td>20</td>\n",
       "      <td>улица земляной вал</td>\n",
       "    </tr>\n",
       "    <tr>\n",
       "      <td>15180</td>\n",
       "      <td>221900</td>\n",
       "      <td>шоколадница</td>\n",
       "      <td>да</td>\n",
       "      <td>кафе</td>\n",
       "      <td>город москва, поселение московский, киевское ш...</td>\n",
       "      <td>36</td>\n",
       "      <td>киевское шоссе</td>\n",
       "    </tr>\n",
       "    <tr>\n",
       "      <td>15181</td>\n",
       "      <td>222535</td>\n",
       "      <td>шоколадница</td>\n",
       "      <td>да</td>\n",
       "      <td>кафе</td>\n",
       "      <td>город москва, ходынский бульвар, дом 4</td>\n",
       "      <td>10</td>\n",
       "      <td>ходынский бульвар</td>\n",
       "    </tr>\n",
       "  </tbody>\n",
       "</table>\n",
       "<p>14655 rows × 7 columns</p>\n",
       "</div>"
      ],
      "text/plain": [
       "           id             object_name chain object_type  \\\n",
       "0      151635                 сметана   нет        кафе   \n",
       "1       77874                  родник   нет        кафе   \n",
       "2       24309         кафе «академия»   нет        кафе   \n",
       "3       21894              пиццетория    да        кафе   \n",
       "4      119365  кафе «вишневая метель»   нет        кафе   \n",
       "...       ...                     ...   ...         ...   \n",
       "15177  219759             шоколадница    да        кафе   \n",
       "15178  208537             шоколадница    да        кафе   \n",
       "15179  209186             шоколадница    да        кафе   \n",
       "15180  221900             шоколадница    да        кафе   \n",
       "15181  222535             шоколадница    да        кафе   \n",
       "\n",
       "                                                 address  number  \\\n",
       "0             город москва, улица егора абакумова, дом 9      48   \n",
       "1      город москва, улица талалихина, дом 2/1, корпус 1      35   \n",
       "2              город москва, абельмановская улица, дом 6      95   \n",
       "3                город москва, абрамцевская улица, дом 1      40   \n",
       "4      город москва, абрамцевская улица, дом 9, корпус 1      50   \n",
       "...                                                  ...     ...   \n",
       "15177                город москва, улица вавилова, дом 3      36   \n",
       "15178       город москва, 3-й крутицкий переулок, дом 18      50   \n",
       "15179           город москва, улица земляной вал, дом 33      20   \n",
       "15180  город москва, поселение московский, киевское ш...      36   \n",
       "15181             город москва, ходынский бульвар, дом 4      10   \n",
       "\n",
       "                        street  \n",
       "0        улица егора абакумова  \n",
       "1             улица талалихина  \n",
       "2         абельмановская улица  \n",
       "3           абрамцевская улица  \n",
       "4           абрамцевская улица  \n",
       "...                        ...  \n",
       "15177           улица вавилова  \n",
       "15178   3-й крутицкий переулок  \n",
       "15179       улица земляной вал  \n",
       "15180           киевское шоссе  \n",
       "15181        ходынский бульвар  \n",
       "\n",
       "[14655 rows x 7 columns]"
      ]
     },
     "metadata": {},
     "output_type": "display_data"
    }
   ],
   "source": [
    "# Correction 2\n",
    "def change_street2(row):\n",
    "    change_in = row['new_street'] \n",
    "    if ('город' in change_in):\n",
    "        change_in = 'город'\n",
    "        return change_in\n",
    "    else:\n",
    "        return change_in\n",
    "    \n",
    "# Get correct values in new dataframe    \n",
    "df_moscow['street'] = df_moscow.apply(change_street2, axis = 1)\n",
    "\n",
    "df_moscow = df_moscow.query('street !=\"город\"').drop(['new_street'], axis = 1)\n",
    "display(df_moscow)"
   ]
  },
  {
   "cell_type": "markdown",
   "metadata": {},
   "source": [
    "Теперь данные полностью подготовлены для анализа ТОП улиц."
   ]
  },
  {
   "cell_type": "code",
   "execution_count": 27,
   "metadata": {},
   "outputs": [
    {
     "data": {
      "text/html": [
       "<div>\n",
       "<style scoped>\n",
       "    .dataframe tbody tr th:only-of-type {\n",
       "        vertical-align: middle;\n",
       "    }\n",
       "\n",
       "    .dataframe tbody tr th {\n",
       "        vertical-align: top;\n",
       "    }\n",
       "\n",
       "    .dataframe thead th {\n",
       "        text-align: right;\n",
       "    }\n",
       "</style>\n",
       "<table border=\"1\" class=\"dataframe\">\n",
       "  <thead>\n",
       "    <tr style=\"text-align: right;\">\n",
       "      <th></th>\n",
       "      <th>street</th>\n",
       "      <th>object_name</th>\n",
       "    </tr>\n",
       "  </thead>\n",
       "  <tbody>\n",
       "    <tr>\n",
       "      <td>0</td>\n",
       "      <td>проспект мира</td>\n",
       "      <td>196</td>\n",
       "    </tr>\n",
       "    <tr>\n",
       "      <td>1</td>\n",
       "      <td>профсоюзная улица</td>\n",
       "      <td>180</td>\n",
       "    </tr>\n",
       "    <tr>\n",
       "      <td>2</td>\n",
       "      <td>ленинградский проспект</td>\n",
       "      <td>170</td>\n",
       "    </tr>\n",
       "    <tr>\n",
       "      <td>3</td>\n",
       "      <td>пресненская набережная</td>\n",
       "      <td>165</td>\n",
       "    </tr>\n",
       "    <tr>\n",
       "      <td>4</td>\n",
       "      <td>варшавское шоссе</td>\n",
       "      <td>162</td>\n",
       "    </tr>\n",
       "    <tr>\n",
       "      <td>5</td>\n",
       "      <td>ленинский проспект</td>\n",
       "      <td>147</td>\n",
       "    </tr>\n",
       "    <tr>\n",
       "      <td>6</td>\n",
       "      <td>проспект вернадского</td>\n",
       "      <td>126</td>\n",
       "    </tr>\n",
       "    <tr>\n",
       "      <td>7</td>\n",
       "      <td>кутузовский проспект</td>\n",
       "      <td>114</td>\n",
       "    </tr>\n",
       "    <tr>\n",
       "      <td>8</td>\n",
       "      <td>каширское шоссе</td>\n",
       "      <td>110</td>\n",
       "    </tr>\n",
       "    <tr>\n",
       "      <td>9</td>\n",
       "      <td>кировоградская улица</td>\n",
       "      <td>107</td>\n",
       "    </tr>\n",
       "  </tbody>\n",
       "</table>\n",
       "</div>"
      ],
      "text/plain": [
       "                    street  object_name\n",
       "0            проспект мира          196\n",
       "1        профсоюзная улица          180\n",
       "2   ленинградский проспект          170\n",
       "3   пресненская набережная          165\n",
       "4         варшавское шоссе          162\n",
       "5       ленинский проспект          147\n",
       "6     проспект вернадского          126\n",
       "7     кутузовский проспект          114\n",
       "8          каширское шоссе          110\n",
       "9     кировоградская улица          107"
      ]
     },
     "metadata": {},
     "output_type": "display_data"
    },
    {
     "data": {
      "image/png": "[encoded data removed]",
      "text/plain": [
       "<Figure size 864x504 with 1 Axes>"
      ]
     },
     "metadata": {
      "needs_background": "light"
     },
     "output_type": "display_data"
    }
   ],
   "source": [
    "street_objects = (df_moscow\n",
    "                     .groupby('street')\n",
    "                     .agg({'object_name' : 'count'})\n",
    "                     .reset_index()\n",
    "                     .sort_values('object_name', ascending = False)\n",
    "                 ).reset_index(drop = True)\n",
    "# TOP10 streets\n",
    "top10_streets = street_objects.head(10)\n",
    "display(top10_streets)\n",
    "\n",
    "# Visualization\n",
    "fig = plt.figure(figsize = (12, 7))\n",
    "ax  = fig.add_subplot(111) \n",
    "\n",
    "plots = sns.barplot(top10_streets['street'], top10_streets['object_name'], ax = ax) \n",
    "\n",
    "plots = plot_settungs(ax, 'Tоп-10 улиц по количеству объектов общественного питания в Москве'   , \n",
    "                          'Улицы города Москва',\n",
    "                          'Количество заведений', deg = 90 )\n",
    "plt.show()"
   ]
  },
  {
   "cell_type": "markdown",
   "metadata": {},
   "source": [
    "Добавлю районы города Москвы на основе внешних данных"
   ]
  },
  {
   "cell_type": "code",
   "execution_count": 28,
   "metadata": {},
   "outputs": [
    {
     "data": {
      "text/html": [
       "<div>\n",
       "<style scoped>\n",
       "    .dataframe tbody tr th:only-of-type {\n",
       "        vertical-align: middle;\n",
       "    }\n",
       "\n",
       "    .dataframe tbody tr th {\n",
       "        vertical-align: top;\n",
       "    }\n",
       "\n",
       "    .dataframe thead th {\n",
       "        text-align: right;\n",
       "    }\n",
       "</style>\n",
       "<table border=\"1\" class=\"dataframe\">\n",
       "  <thead>\n",
       "    <tr style=\"text-align: right;\">\n",
       "      <th></th>\n",
       "      <th>street</th>\n",
       "      <th>object_name</th>\n",
       "      <th>area</th>\n",
       "      <th>okrug</th>\n",
       "    </tr>\n",
       "  </thead>\n",
       "  <tbody>\n",
       "    <tr>\n",
       "      <td>0</td>\n",
       "      <td>проспект мира</td>\n",
       "      <td>196</td>\n",
       "      <td>алексеевский район</td>\n",
       "      <td>свао</td>\n",
       "    </tr>\n",
       "    <tr>\n",
       "      <td>1</td>\n",
       "      <td>проспект мира</td>\n",
       "      <td>196</td>\n",
       "      <td>ярославский район</td>\n",
       "      <td>свао</td>\n",
       "    </tr>\n",
       "    <tr>\n",
       "      <td>2</td>\n",
       "      <td>проспект мира</td>\n",
       "      <td>196</td>\n",
       "      <td>район марьина роща</td>\n",
       "      <td>свао</td>\n",
       "    </tr>\n",
       "    <tr>\n",
       "      <td>3</td>\n",
       "      <td>проспект мира</td>\n",
       "      <td>196</td>\n",
       "      <td>останкинский район</td>\n",
       "      <td>свао</td>\n",
       "    </tr>\n",
       "    <tr>\n",
       "      <td>4</td>\n",
       "      <td>проспект мира</td>\n",
       "      <td>196</td>\n",
       "      <td>район ростокино</td>\n",
       "      <td>свао</td>\n",
       "    </tr>\n",
       "    <tr>\n",
       "      <td>5</td>\n",
       "      <td>проспект мира</td>\n",
       "      <td>196</td>\n",
       "      <td>район свиблово</td>\n",
       "      <td>свао</td>\n",
       "    </tr>\n",
       "    <tr>\n",
       "      <td>6</td>\n",
       "      <td>проспект мира</td>\n",
       "      <td>196</td>\n",
       "      <td>мещанский район</td>\n",
       "      <td>цао</td>\n",
       "    </tr>\n",
       "    <tr>\n",
       "      <td>7</td>\n",
       "      <td>профсоюзная улица</td>\n",
       "      <td>180</td>\n",
       "      <td>академический район</td>\n",
       "      <td>юзао</td>\n",
       "    </tr>\n",
       "    <tr>\n",
       "      <td>8</td>\n",
       "      <td>профсоюзная улица</td>\n",
       "      <td>180</td>\n",
       "      <td>район черемушки</td>\n",
       "      <td>юзао</td>\n",
       "    </tr>\n",
       "    <tr>\n",
       "      <td>9</td>\n",
       "      <td>профсоюзная улица</td>\n",
       "      <td>180</td>\n",
       "      <td>район ясенево</td>\n",
       "      <td>юзао</td>\n",
       "    </tr>\n",
       "    <tr>\n",
       "      <td>10</td>\n",
       "      <td>профсоюзная улица</td>\n",
       "      <td>180</td>\n",
       "      <td>район коньково</td>\n",
       "      <td>юзао</td>\n",
       "    </tr>\n",
       "    <tr>\n",
       "      <td>11</td>\n",
       "      <td>профсоюзная улица</td>\n",
       "      <td>180</td>\n",
       "      <td>обручевский район</td>\n",
       "      <td>юзао</td>\n",
       "    </tr>\n",
       "    <tr>\n",
       "      <td>12</td>\n",
       "      <td>профсоюзная улица</td>\n",
       "      <td>180</td>\n",
       "      <td>район теплый стан</td>\n",
       "      <td>юзао</td>\n",
       "    </tr>\n",
       "    <tr>\n",
       "      <td>13</td>\n",
       "      <td>ленинградский проспект</td>\n",
       "      <td>170</td>\n",
       "      <td>район аэропорт</td>\n",
       "      <td>сао</td>\n",
       "    </tr>\n",
       "    <tr>\n",
       "      <td>14</td>\n",
       "      <td>ленинградский проспект</td>\n",
       "      <td>170</td>\n",
       "      <td>район беговой</td>\n",
       "      <td>сао</td>\n",
       "    </tr>\n",
       "    <tr>\n",
       "      <td>15</td>\n",
       "      <td>ленинградский проспект</td>\n",
       "      <td>170</td>\n",
       "      <td>хорошевский район</td>\n",
       "      <td>сао</td>\n",
       "    </tr>\n",
       "    <tr>\n",
       "      <td>16</td>\n",
       "      <td>ленинградский проспект</td>\n",
       "      <td>170</td>\n",
       "      <td>район сокол</td>\n",
       "      <td>сао</td>\n",
       "    </tr>\n",
       "    <tr>\n",
       "      <td>17</td>\n",
       "      <td>пресненская набережная</td>\n",
       "      <td>165</td>\n",
       "      <td>пресненский район</td>\n",
       "      <td>цао</td>\n",
       "    </tr>\n",
       "    <tr>\n",
       "      <td>18</td>\n",
       "      <td>варшавское шоссе</td>\n",
       "      <td>162</td>\n",
       "      <td>район чертаново центральное</td>\n",
       "      <td>юао</td>\n",
       "    </tr>\n",
       "    <tr>\n",
       "      <td>19</td>\n",
       "      <td>варшавское шоссе</td>\n",
       "      <td>162</td>\n",
       "      <td>район чертаново северное</td>\n",
       "      <td>юао</td>\n",
       "    </tr>\n",
       "    <tr>\n",
       "      <td>20</td>\n",
       "      <td>варшавское шоссе</td>\n",
       "      <td>162</td>\n",
       "      <td>район чертаново южное</td>\n",
       "      <td>юао</td>\n",
       "    </tr>\n",
       "    <tr>\n",
       "      <td>21</td>\n",
       "      <td>варшавское шоссе</td>\n",
       "      <td>162</td>\n",
       "      <td>донской район</td>\n",
       "      <td>юао</td>\n",
       "    </tr>\n",
       "    <tr>\n",
       "      <td>22</td>\n",
       "      <td>варшавское шоссе</td>\n",
       "      <td>162</td>\n",
       "      <td>район нагатино-садовники</td>\n",
       "      <td>юао</td>\n",
       "    </tr>\n",
       "    <tr>\n",
       "      <td>23</td>\n",
       "      <td>варшавское шоссе</td>\n",
       "      <td>162</td>\n",
       "      <td>нагорный район</td>\n",
       "      <td>юао</td>\n",
       "    </tr>\n",
       "    <tr>\n",
       "      <td>24</td>\n",
       "      <td>варшавское шоссе</td>\n",
       "      <td>162</td>\n",
       "      <td>район северное бутово</td>\n",
       "      <td>юзао</td>\n",
       "    </tr>\n",
       "    <tr>\n",
       "      <td>25</td>\n",
       "      <td>варшавское шоссе</td>\n",
       "      <td>162</td>\n",
       "      <td>район южное бутово</td>\n",
       "      <td>юзао</td>\n",
       "    </tr>\n",
       "    <tr>\n",
       "      <td>26</td>\n",
       "      <td>ленинский проспект</td>\n",
       "      <td>147</td>\n",
       "      <td>район проспект вернадского</td>\n",
       "      <td>зао</td>\n",
       "    </tr>\n",
       "    <tr>\n",
       "      <td>27</td>\n",
       "      <td>ленинский проспект</td>\n",
       "      <td>147</td>\n",
       "      <td>район тропарево-никулино</td>\n",
       "      <td>зао</td>\n",
       "    </tr>\n",
       "    <tr>\n",
       "      <td>28</td>\n",
       "      <td>ленинский проспект</td>\n",
       "      <td>147</td>\n",
       "      <td>донской район</td>\n",
       "      <td>юао</td>\n",
       "    </tr>\n",
       "    <tr>\n",
       "      <td>29</td>\n",
       "      <td>ленинский проспект</td>\n",
       "      <td>147</td>\n",
       "      <td>район гагаринский</td>\n",
       "      <td>юзао</td>\n",
       "    </tr>\n",
       "    <tr>\n",
       "      <td>30</td>\n",
       "      <td>ленинский проспект</td>\n",
       "      <td>147</td>\n",
       "      <td>ломоносовский район</td>\n",
       "      <td>юзао</td>\n",
       "    </tr>\n",
       "    <tr>\n",
       "      <td>31</td>\n",
       "      <td>ленинский проспект</td>\n",
       "      <td>147</td>\n",
       "      <td>обручевский район</td>\n",
       "      <td>юзао</td>\n",
       "    </tr>\n",
       "    <tr>\n",
       "      <td>32</td>\n",
       "      <td>ленинский проспект</td>\n",
       "      <td>147</td>\n",
       "      <td>район теплый стан</td>\n",
       "      <td>юзао</td>\n",
       "    </tr>\n",
       "    <tr>\n",
       "      <td>33</td>\n",
       "      <td>ленинский проспект</td>\n",
       "      <td>147</td>\n",
       "      <td>район якиманка</td>\n",
       "      <td>цао</td>\n",
       "    </tr>\n",
       "    <tr>\n",
       "      <td>34</td>\n",
       "      <td>проспект вернадского</td>\n",
       "      <td>126</td>\n",
       "      <td>район проспект вернадского</td>\n",
       "      <td>зао</td>\n",
       "    </tr>\n",
       "    <tr>\n",
       "      <td>35</td>\n",
       "      <td>проспект вернадского</td>\n",
       "      <td>126</td>\n",
       "      <td>район раменки</td>\n",
       "      <td>зао</td>\n",
       "    </tr>\n",
       "    <tr>\n",
       "      <td>36</td>\n",
       "      <td>проспект вернадского</td>\n",
       "      <td>126</td>\n",
       "      <td>район тропарево-никулино</td>\n",
       "      <td>зао</td>\n",
       "    </tr>\n",
       "    <tr>\n",
       "      <td>37</td>\n",
       "      <td>проспект вернадского</td>\n",
       "      <td>126</td>\n",
       "      <td>район гагаринский</td>\n",
       "      <td>юзао</td>\n",
       "    </tr>\n",
       "    <tr>\n",
       "      <td>38</td>\n",
       "      <td>проспект вернадского</td>\n",
       "      <td>126</td>\n",
       "      <td>ломоносовский район</td>\n",
       "      <td>юзао</td>\n",
       "    </tr>\n",
       "    <tr>\n",
       "      <td>39</td>\n",
       "      <td>кутузовский проспект</td>\n",
       "      <td>114</td>\n",
       "      <td>район дорогомилово</td>\n",
       "      <td>зао</td>\n",
       "    </tr>\n",
       "    <tr>\n",
       "      <td>40</td>\n",
       "      <td>кутузовский проспект</td>\n",
       "      <td>114</td>\n",
       "      <td>район фили-давыдково</td>\n",
       "      <td>зао</td>\n",
       "    </tr>\n",
       "    <tr>\n",
       "      <td>41</td>\n",
       "      <td>каширское шоссе</td>\n",
       "      <td>110</td>\n",
       "      <td>район москворечье-сабурово</td>\n",
       "      <td>юао</td>\n",
       "    </tr>\n",
       "    <tr>\n",
       "      <td>42</td>\n",
       "      <td>каширское шоссе</td>\n",
       "      <td>110</td>\n",
       "      <td>район нагатино-садовники</td>\n",
       "      <td>юао</td>\n",
       "    </tr>\n",
       "    <tr>\n",
       "      <td>43</td>\n",
       "      <td>каширское шоссе</td>\n",
       "      <td>110</td>\n",
       "      <td>район орехово-борисово южное</td>\n",
       "      <td>юао</td>\n",
       "    </tr>\n",
       "    <tr>\n",
       "      <td>44</td>\n",
       "      <td>каширское шоссе</td>\n",
       "      <td>110</td>\n",
       "      <td>район орехово-борисово северное</td>\n",
       "      <td>юао</td>\n",
       "    </tr>\n",
       "    <tr>\n",
       "      <td>45</td>\n",
       "      <td>кировоградская улица</td>\n",
       "      <td>107</td>\n",
       "      <td>район чертаново центральное</td>\n",
       "      <td>юао</td>\n",
       "    </tr>\n",
       "    <tr>\n",
       "      <td>46</td>\n",
       "      <td>кировоградская улица</td>\n",
       "      <td>107</td>\n",
       "      <td>район чертаново северное</td>\n",
       "      <td>юао</td>\n",
       "    </tr>\n",
       "    <tr>\n",
       "      <td>47</td>\n",
       "      <td>кировоградская улица</td>\n",
       "      <td>107</td>\n",
       "      <td>район чертаново южное</td>\n",
       "      <td>юао</td>\n",
       "    </tr>\n",
       "  </tbody>\n",
       "</table>\n",
       "</div>"
      ],
      "text/plain": [
       "                    street  object_name                             area okrug\n",
       "0            проспект мира          196               алексеевский район  свао\n",
       "1            проспект мира          196                ярославский район  свао\n",
       "2            проспект мира          196               район марьина роща  свао\n",
       "3            проспект мира          196               останкинский район  свао\n",
       "4            проспект мира          196                  район ростокино  свао\n",
       "5            проспект мира          196                   район свиблово  свао\n",
       "6            проспект мира          196                  мещанский район   цао\n",
       "7        профсоюзная улица          180              академический район  юзао\n",
       "8        профсоюзная улица          180                  район черемушки  юзао\n",
       "9        профсоюзная улица          180                    район ясенево  юзао\n",
       "10       профсоюзная улица          180                   район коньково  юзао\n",
       "11       профсоюзная улица          180                обручевский район  юзао\n",
       "12       профсоюзная улица          180                район теплый стан  юзао\n",
       "13  ленинградский проспект          170                   район аэропорт   сао\n",
       "14  ленинградский проспект          170                    район беговой   сао\n",
       "15  ленинградский проспект          170                хорошевский район   сао\n",
       "16  ленинградский проспект          170                      район сокол   сао\n",
       "17  пресненская набережная          165                пресненский район   цао\n",
       "18        варшавское шоссе          162      район чертаново центральное   юао\n",
       "19        варшавское шоссе          162         район чертаново северное   юао\n",
       "20        варшавское шоссе          162            район чертаново южное   юао\n",
       "21        варшавское шоссе          162                    донской район   юао\n",
       "22        варшавское шоссе          162         район нагатино-садовники   юао\n",
       "23        варшавское шоссе          162                   нагорный район   юао\n",
       "24        варшавское шоссе          162            район северное бутово  юзао\n",
       "25        варшавское шоссе          162               район южное бутово  юзао\n",
       "26      ленинский проспект          147       район проспект вернадского   зао\n",
       "27      ленинский проспект          147         район тропарево-никулино   зао\n",
       "28      ленинский проспект          147                    донской район   юао\n",
       "29      ленинский проспект          147                район гагаринский  юзао\n",
       "30      ленинский проспект          147              ломоносовский район  юзао\n",
       "31      ленинский проспект          147                обручевский район  юзао\n",
       "32      ленинский проспект          147                район теплый стан  юзао\n",
       "33      ленинский проспект          147                   район якиманка   цао\n",
       "34    проспект вернадского          126       район проспект вернадского   зао\n",
       "35    проспект вернадского          126                    район раменки   зао\n",
       "36    проспект вернадского          126         район тропарево-никулино   зао\n",
       "37    проспект вернадского          126                район гагаринский  юзао\n",
       "38    проспект вернадского          126              ломоносовский район  юзао\n",
       "39    кутузовский проспект          114               район дорогомилово   зао\n",
       "40    кутузовский проспект          114             район фили-давыдково   зао\n",
       "41         каширское шоссе          110       район москворечье-сабурово   юао\n",
       "42         каширское шоссе          110         район нагатино-садовники   юао\n",
       "43         каширское шоссе          110     район орехово-борисово южное   юао\n",
       "44         каширское шоссе          110  район орехово-борисово северное   юао\n",
       "45    кировоградская улица          107      район чертаново центральное   юао\n",
       "46    кировоградская улица          107         район чертаново северное   юао\n",
       "47    кировоградская улица          107            район чертаново южное   юао"
      ]
     },
     "execution_count": 28,
     "metadata": {},
     "output_type": "execute_result"
    }
   ],
   "source": [
    "moscow_streets['street'] = moscow_streets['street'].str.strip()\n",
    "top10_streets['street']  = top10_streets['street'].str.strip()\n",
    "\n",
    "top10_streets = top10_streets.merge(moscow_streets[['street', 'area', 'okrug']], on = ['street'], how = 'left')\n",
    "top10_streets"
   ]
  },
  {
   "cell_type": "markdown",
   "metadata": {},
   "source": [
    "**Вывод:** Больше всего заведений общественного питания в Москве распологаются на улицах Проспект Мира, Профсоюзная улица и Ленинградский проспект, которые находятся в трех районах Москвы: СВАО, ЮЗАО и САО. Остальные ТОП10 улиц представлены выше."
   ]
  },
  {
   "cell_type": "markdown",
   "metadata": {},
   "source": [
    "#### Найдите число улиц с одним объектом общественного питания. Воспользуйтесь внешней информацией и ответьте на вопрос — в каких районах Москвы находятся эти улицы?"
   ]
  },
  {
   "cell_type": "code",
   "execution_count": 29,
   "metadata": {},
   "outputs": [
    {
     "data": {
      "text/html": [
       "<div>\n",
       "<style scoped>\n",
       "    .dataframe tbody tr th:only-of-type {\n",
       "        vertical-align: middle;\n",
       "    }\n",
       "\n",
       "    .dataframe tbody tr th {\n",
       "        vertical-align: top;\n",
       "    }\n",
       "\n",
       "    .dataframe thead th {\n",
       "        text-align: right;\n",
       "    }\n",
       "</style>\n",
       "<table border=\"1\" class=\"dataframe\">\n",
       "  <thead>\n",
       "    <tr style=\"text-align: right;\">\n",
       "      <th></th>\n",
       "      <th>okrug</th>\n",
       "      <th>street</th>\n",
       "    </tr>\n",
       "  </thead>\n",
       "  <tbody>\n",
       "    <tr>\n",
       "      <td>0</td>\n",
       "      <td>цао</td>\n",
       "      <td>185</td>\n",
       "    </tr>\n",
       "    <tr>\n",
       "      <td>1</td>\n",
       "      <td>вао</td>\n",
       "      <td>70</td>\n",
       "    </tr>\n",
       "    <tr>\n",
       "      <td>2</td>\n",
       "      <td>свао</td>\n",
       "      <td>67</td>\n",
       "    </tr>\n",
       "    <tr>\n",
       "      <td>3</td>\n",
       "      <td>сао</td>\n",
       "      <td>55</td>\n",
       "    </tr>\n",
       "    <tr>\n",
       "      <td>4</td>\n",
       "      <td>ювао</td>\n",
       "      <td>55</td>\n",
       "    </tr>\n",
       "    <tr>\n",
       "      <td>5</td>\n",
       "      <td>зао</td>\n",
       "      <td>41</td>\n",
       "    </tr>\n",
       "    <tr>\n",
       "      <td>6</td>\n",
       "      <td>юао</td>\n",
       "      <td>29</td>\n",
       "    </tr>\n",
       "    <tr>\n",
       "      <td>7</td>\n",
       "      <td>сзао</td>\n",
       "      <td>27</td>\n",
       "    </tr>\n",
       "    <tr>\n",
       "      <td>8</td>\n",
       "      <td>юзао</td>\n",
       "      <td>27</td>\n",
       "    </tr>\n",
       "    <tr>\n",
       "      <td>9</td>\n",
       "      <td>зеленоград</td>\n",
       "      <td>1</td>\n",
       "    </tr>\n",
       "  </tbody>\n",
       "</table>\n",
       "</div>"
      ],
      "text/plain": [
       "        okrug  street\n",
       "0         цао     185\n",
       "1         вао      70\n",
       "2        свао      67\n",
       "3         сао      55\n",
       "4        ювао      55\n",
       "5         зао      41\n",
       "6         юао      29\n",
       "7        сзао      27\n",
       "8        юзао      27\n",
       "9  зеленоград       1"
      ]
     },
     "metadata": {},
     "output_type": "display_data"
    },
    {
     "data": {
      "image/png": "[encoded data removed]",
      "text/plain": [
       "<Figure size 864x504 with 1 Axes>"
      ]
     },
     "metadata": {
      "needs_background": "light"
     },
     "output_type": "display_data"
    }
   ],
   "source": [
    "one_object = street_objects.query('object_name == 1').reset_index(drop = True).drop(['object_name'], axis = 1)\n",
    "\n",
    "# Подготовим данные к объединению\n",
    "one_object['street']     = one_object['street'].str.strip()\n",
    "moscow_streets['street'] = moscow_streets['street'].str.strip()\n",
    "\n",
    "# Выполню объединение\n",
    "one_object = one_object.merge(moscow_streets[['street', 'area', 'okrug']], on = ['street'], how = 'left')\n",
    "\n",
    "one_object = (one_object\n",
    "                    .groupby('okrug')\n",
    "                    .agg({'street' : 'count'})               \n",
    "                    .reset_index()\n",
    "                    .sort_values('street', ascending = False)\n",
    "            ).reset_index(drop = True)\n",
    "\n",
    "display(one_object)\n",
    "\n",
    "# Visualization\n",
    "fig = plt.figure(figsize = (12, 7))\n",
    "ax  = fig.add_subplot(111) \n",
    "\n",
    "plots = sns.barplot(one_object['okrug'], one_object['street'], ax = ax) \n",
    "\n",
    "plots = plot_settungs(ax, 'Tоп районов с одним объектом общественного питания на улицу', \n",
    "                          'Районы города Москва',\n",
    "                          'Количество заведений', deg = 0 )\n",
    "plt.show()"
   ]
  },
  {
   "cell_type": "markdown",
   "metadata": {},
   "source": [
    "**Вывод:** Больше всего улиц с одним объектом общественного питания представленно в трех районах Москвы: ЦАО, ВАО, СВАО. Скорее всего это связано с тем, что в этих района очень много объектов общественного питания расположенно на центральных улицах, а мелкие дворовые улочки интересуют очень немногих."
   ]
  },
  {
   "cell_type": "markdown",
   "metadata": {},
   "source": [
    "#### Посмотрите на распределение количества посадочных мест для улиц с большим количеством объектов общественного питания. Какие закономерности можно выявить?"
   ]
  },
  {
   "cell_type": "code",
   "execution_count": 30,
   "metadata": {},
   "outputs": [
    {
     "data": {
      "image/png": "[encoded data removed]",
      "text/plain": [
       "<Figure size 864x504 with 1 Axes>"
      ]
     },
     "metadata": {
      "needs_background": "light"
     },
     "output_type": "display_data"
    }
   ],
   "source": [
    "top_numbers = (df_moscow\n",
    "                     .groupby('street')\n",
    "                     .agg({'object_name' : 'count',\n",
    "                           'number'      : 'median' })\n",
    "                     .reset_index()\n",
    "                     .sort_values('object_name', ascending = False)\n",
    "                 ).reset_index(drop = True)\n",
    "# TOP10 streets\n",
    "top50_numbers = top_numbers.head(50)\n",
    "#display(top40_numbers)\n",
    "\n",
    "# Visualization\n",
    "fig = plt.figure(figsize = (12, 7))\n",
    "ax  = fig.add_subplot(111) \n",
    "\n",
    "plots = histogram(top50_numbers, 'number', 10, ax)    \n",
    "\n",
    "plots = plot_settungs(ax, 'Топ 50 улиц с наибольшими количеством объектов ощественного питания', \n",
    "                          'Количество посадочных мест'   ,\n",
    "                          'Количество заведений со средним количеством поасодчных мест', deg = 0)\n",
    "#ax.set_yticks(np.arange(0, 101, 10)) \n"
   ]
  },
  {
   "cell_type": "markdown",
   "metadata": {},
   "source": [
    "**Вывод:** На ТОП50 улиц с наибольшим количество объектов общественного питания в среднем количество посадочных мест находится в диапазоне от 45 до 50. Также встречаются особенно интересные случаи, когда мест от 5 - 15, что наверно относится к различным винотекам или заведениям ориентированным на более частных клиентов."
   ]
  },
  {
   "cell_type": "markdown",
   "metadata": {},
   "source": [
    "### Презентация"
   ]
  },
  {
   "cell_type": "markdown",
   "metadata": {},
   "source": [
    "Презентация: https://drive.google.com/file/d/1zw9X8UqvbUZ-JfEMvSduedzIZpFIk_8U/view?usp=sharing"
   ]
  },
  {
   "cell_type": "markdown",
   "metadata": {},
   "source": [
    "## Вывод по проекту"
   ]
  },
  {
   "cell_type": "markdown",
   "metadata": {},
   "source": [
    "1. В Москве среди заведений общественного питания большего всего кафе (6099), столовых (2578), ресторанов (2285) и предприятий быстрого обслуживания (1923), для которых характерен сетевой тип распространения (28%).\n",
    "\n",
    "2. Больше всего объектов общественного питания на одной улице в Москве представлено в трех районах: СВАО, ЮЗАО и САО.\n",
    "\n",
    "3. В среднем количество посадочных мест в заведениях общественного питания составляет 40 – 50 посадочных мест.\n",
    "\n",
    "4. Наименьшее количество заведений общественного питания на одной улице (без учета центральных) представлено в ЦАО, ВАО, СВАО \n"
   ]
  },
  {
   "cell_type": "markdown",
   "metadata": {},
   "source": [
    "**Рекомендации:**\n",
    "\n",
    "1. Открывать заведение лучше всего в одном из 2-х районов Москвы: САО или ЮЗАО  \n",
    " \n",
    "2. Количество мест для посетителей запланировать от 30 до 50.\n",
    "\n",
    "3. По возможности открыть заведение не на центральной улице, т.к. арендная плата ниже, а посетители районов САО и ЮЗАО уже привыкли, что заведения есть где-то еще, кроме центральных улиц.\n",
    "\n",
    "4. Кафе и ресторанов в Москве уже с избытком, а вот интересного бара с роботами, закусками и хорошей музыкой, точно нет.\n"
   ]
  }
 ],
 "metadata": {
  "ExecuteTimeLog": [
   {
    "duration": 1191,
    "start_time": "2022-02-18T21:39:03.741Z"
   },
   {
    "duration": 330,
    "start_time": "2022-02-18T21:40:46.107Z"
   },
   {
    "duration": 235,
    "start_time": "2022-02-18T21:40:49.557Z"
   },
   {
    "duration": 42,
    "start_time": "2022-02-18T21:40:51.141Z"
   },
   {
    "duration": 112,
    "start_time": "2022-02-18T21:49:09.645Z"
   },
   {
    "duration": 74,
    "start_time": "2022-02-18T21:49:14.196Z"
   },
   {
    "duration": 38,
    "start_time": "2022-02-18T21:49:56.308Z"
   },
   {
    "duration": 81,
    "start_time": "2022-02-18T21:50:20.705Z"
   },
   {
    "duration": 252,
    "start_time": "2022-02-18T21:51:53.857Z"
   },
   {
    "duration": 57,
    "start_time": "2022-02-18T21:52:01.328Z"
   },
   {
    "duration": 101,
    "start_time": "2022-02-18T21:53:00.888Z"
   },
   {
    "duration": 54,
    "start_time": "2022-02-18T21:57:35.531Z"
   },
   {
    "duration": 7,
    "start_time": "2022-02-18T22:00:57.875Z"
   },
   {
    "duration": 7,
    "start_time": "2022-02-18T22:01:31.965Z"
   },
   {
    "duration": 23,
    "start_time": "2022-02-18T22:02:02.551Z"
   },
   {
    "duration": 7,
    "start_time": "2022-02-18T22:02:15.328Z"
   },
   {
    "duration": 15,
    "start_time": "2022-02-18T22:02:41.520Z"
   },
   {
    "duration": 8,
    "start_time": "2022-02-18T22:03:10.711Z"
   },
   {
    "duration": 19,
    "start_time": "2022-02-18T22:10:49.089Z"
   },
   {
    "duration": 19,
    "start_time": "2022-02-18T22:11:27.754Z"
   },
   {
    "duration": 17,
    "start_time": "2022-02-18T22:19:25.752Z"
   },
   {
    "duration": 22,
    "start_time": "2022-02-18T22:21:59.680Z"
   },
   {
    "duration": 1187,
    "start_time": "2022-02-18T22:22:40.357Z"
   },
   {
    "duration": 197,
    "start_time": "2022-02-18T22:22:41.546Z"
   },
   {
    "duration": 39,
    "start_time": "2022-02-18T22:22:41.747Z"
   },
   {
    "duration": 73,
    "start_time": "2022-02-18T22:22:41.788Z"
   },
   {
    "duration": 8,
    "start_time": "2022-02-18T22:22:41.863Z"
   },
   {
    "duration": 45,
    "start_time": "2022-02-18T22:22:41.873Z"
   },
   {
    "duration": 394,
    "start_time": "2022-02-18T22:22:57.920Z"
   },
   {
    "duration": 33,
    "start_time": "2022-02-18T22:28:36.807Z"
   },
   {
    "duration": 56,
    "start_time": "2022-02-18T22:32:43.859Z"
   },
   {
    "duration": 1386,
    "start_time": "2022-02-19T10:35:55.172Z"
   },
   {
    "duration": 200,
    "start_time": "2022-02-19T10:35:56.561Z"
   },
   {
    "duration": 50,
    "start_time": "2022-02-19T10:35:56.763Z"
   },
   {
    "duration": 67,
    "start_time": "2022-02-19T10:35:57.617Z"
   },
   {
    "duration": 12,
    "start_time": "2022-02-19T10:35:58.865Z"
   },
   {
    "duration": 28,
    "start_time": "2022-02-19T10:36:00.171Z"
   },
   {
    "duration": 69,
    "start_time": "2022-02-19T10:36:01.271Z"
   },
   {
    "duration": 126,
    "start_time": "2022-02-19T10:36:31.135Z"
   },
   {
    "duration": 395,
    "start_time": "2022-02-19T10:37:43.267Z"
   },
   {
    "duration": 11,
    "start_time": "2022-02-19T10:38:49.409Z"
   },
   {
    "duration": 308,
    "start_time": "2022-02-19T10:39:24.298Z"
   },
   {
    "duration": 518,
    "start_time": "2022-02-19T10:42:19.905Z"
   },
   {
    "duration": 8,
    "start_time": "2022-02-19T10:45:12.330Z"
   },
   {
    "duration": 10,
    "start_time": "2022-02-19T10:45:46.554Z"
   },
   {
    "duration": 622,
    "start_time": "2022-02-19T10:45:47.163Z"
   },
   {
    "duration": 8,
    "start_time": "2022-02-19T10:46:19.200Z"
   },
   {
    "duration": 645,
    "start_time": "2022-02-19T10:46:36.705Z"
   },
   {
    "duration": 625,
    "start_time": "2022-02-19T10:46:45.530Z"
   },
   {
    "duration": 6,
    "start_time": "2022-02-19T10:47:04.228Z"
   },
   {
    "duration": 7,
    "start_time": "2022-02-19T10:47:15.481Z"
   },
   {
    "duration": 595,
    "start_time": "2022-02-19T10:47:31.874Z"
   },
   {
    "duration": 487,
    "start_time": "2022-02-19T10:47:43.506Z"
   },
   {
    "duration": 435,
    "start_time": "2022-02-19T10:48:06.365Z"
   },
   {
    "duration": 463,
    "start_time": "2022-02-19T10:48:23.059Z"
   },
   {
    "duration": 7,
    "start_time": "2022-02-19T10:48:33.294Z"
   },
   {
    "duration": 539,
    "start_time": "2022-02-19T10:48:36.494Z"
   },
   {
    "duration": 8,
    "start_time": "2022-02-19T10:49:12.748Z"
   },
   {
    "duration": 484,
    "start_time": "2022-02-19T10:49:13.252Z"
   },
   {
    "duration": 517,
    "start_time": "2022-02-19T10:49:42.442Z"
   },
   {
    "duration": 8,
    "start_time": "2022-02-19T10:49:51.711Z"
   },
   {
    "duration": 510,
    "start_time": "2022-02-19T10:49:52.365Z"
   },
   {
    "duration": 7,
    "start_time": "2022-02-19T10:50:16.997Z"
   },
   {
    "duration": 599,
    "start_time": "2022-02-19T10:50:17.338Z"
   },
   {
    "duration": 7,
    "start_time": "2022-02-19T10:50:27.090Z"
   },
   {
    "duration": 513,
    "start_time": "2022-02-19T10:50:27.684Z"
   },
   {
    "duration": 10,
    "start_time": "2022-02-19T10:51:30.175Z"
   },
   {
    "duration": 574,
    "start_time": "2022-02-19T10:51:30.675Z"
   },
   {
    "duration": 277,
    "start_time": "2022-02-19T10:56:07.310Z"
   },
   {
    "duration": 520,
    "start_time": "2022-02-19T10:56:14.603Z"
   },
   {
    "duration": 17,
    "start_time": "2022-02-19T11:00:49.767Z"
   },
   {
    "duration": 17,
    "start_time": "2022-02-19T11:01:26.884Z"
   },
   {
    "duration": 14,
    "start_time": "2022-02-19T11:01:56.731Z"
   },
   {
    "duration": 17,
    "start_time": "2022-02-19T11:02:19.278Z"
   },
   {
    "duration": 16,
    "start_time": "2022-02-19T11:02:54.862Z"
   },
   {
    "duration": 18,
    "start_time": "2022-02-19T11:03:34.372Z"
   },
   {
    "duration": 245,
    "start_time": "2022-02-19T11:03:57.359Z"
   },
   {
    "duration": 517,
    "start_time": "2022-02-19T11:05:04.932Z"
   },
   {
    "duration": 21,
    "start_time": "2022-02-19T11:05:27.351Z"
   },
   {
    "duration": 348,
    "start_time": "2022-02-19T11:05:45.315Z"
   },
   {
    "duration": 20,
    "start_time": "2022-02-19T11:06:15.546Z"
   },
   {
    "duration": 1050,
    "start_time": "2022-02-19T11:07:36.036Z"
   },
   {
    "duration": 29,
    "start_time": "2022-02-19T11:07:42.627Z"
   },
   {
    "duration": 21,
    "start_time": "2022-02-19T11:07:50.359Z"
   },
   {
    "duration": 969,
    "start_time": "2022-02-19T11:09:16.204Z"
   },
   {
    "duration": 1167,
    "start_time": "2022-02-19T11:09:39.808Z"
   },
   {
    "duration": 345,
    "start_time": "2022-02-19T11:10:29.736Z"
   },
   {
    "duration": 58,
    "start_time": "2022-02-19T11:11:04.798Z"
   },
   {
    "duration": 22,
    "start_time": "2022-02-19T11:11:38.437Z"
   },
   {
    "duration": 851,
    "start_time": "2022-02-19T11:12:27.716Z"
   },
   {
    "duration": 859,
    "start_time": "2022-02-19T11:13:21.470Z"
   },
   {
    "duration": 558,
    "start_time": "2022-02-19T11:13:39.030Z"
   },
   {
    "duration": 82,
    "start_time": "2022-02-19T11:15:14.577Z"
   },
   {
    "duration": 624,
    "start_time": "2022-02-19T11:15:20.072Z"
   },
   {
    "duration": 759,
    "start_time": "2022-02-19T11:16:31.560Z"
   },
   {
    "duration": 266,
    "start_time": "2022-02-19T11:17:04.511Z"
   },
   {
    "duration": 23,
    "start_time": "2022-02-19T11:18:06.873Z"
   },
   {
    "duration": 555,
    "start_time": "2022-02-19T11:18:35.734Z"
   },
   {
    "duration": 582,
    "start_time": "2022-02-19T11:19:12.898Z"
   },
   {
    "duration": 17,
    "start_time": "2022-02-19T11:19:20.291Z"
   },
   {
    "duration": 561,
    "start_time": "2022-02-19T11:20:12.749Z"
   },
   {
    "duration": 569,
    "start_time": "2022-02-19T11:20:32.029Z"
   },
   {
    "duration": 544,
    "start_time": "2022-02-19T11:21:04.639Z"
   },
   {
    "duration": 13,
    "start_time": "2022-02-19T11:21:09.441Z"
   },
   {
    "duration": 1185,
    "start_time": "2022-02-19T11:22:32.989Z"
   },
   {
    "duration": 18,
    "start_time": "2022-02-19T11:22:49.153Z"
   },
   {
    "duration": 13,
    "start_time": "2022-02-19T11:22:52.937Z"
   },
   {
    "duration": 265,
    "start_time": "2022-02-19T11:23:34.097Z"
   },
   {
    "duration": 19,
    "start_time": "2022-02-19T11:23:45.140Z"
   },
   {
    "duration": 11,
    "start_time": "2022-02-19T11:23:48.502Z"
   },
   {
    "duration": 600,
    "start_time": "2022-02-19T11:24:00.715Z"
   },
   {
    "duration": 664,
    "start_time": "2022-02-19T11:26:41.362Z"
   },
   {
    "duration": 28,
    "start_time": "2022-02-19T11:41:06.246Z"
   },
   {
    "duration": 27,
    "start_time": "2022-02-19T11:41:13.148Z"
   },
   {
    "duration": 10,
    "start_time": "2022-02-19T11:42:52.390Z"
   },
   {
    "duration": 10,
    "start_time": "2022-02-19T11:44:28.034Z"
   },
   {
    "duration": 237,
    "start_time": "2022-02-19T11:44:39.310Z"
   },
   {
    "duration": 18,
    "start_time": "2022-02-19T11:44:56.333Z"
   },
   {
    "duration": 40,
    "start_time": "2022-02-19T11:46:51.679Z"
   },
   {
    "duration": 97,
    "start_time": "2022-02-19T11:47:43.277Z"
   },
   {
    "duration": 23,
    "start_time": "2022-02-19T11:47:49.065Z"
   },
   {
    "duration": 29,
    "start_time": "2022-02-19T11:48:35.762Z"
   },
   {
    "duration": 30,
    "start_time": "2022-02-19T11:49:35.001Z"
   },
   {
    "duration": 34,
    "start_time": "2022-02-19T11:50:10.027Z"
   },
   {
    "duration": 34,
    "start_time": "2022-02-19T11:52:26.488Z"
   },
   {
    "duration": 36,
    "start_time": "2022-02-19T11:54:14.195Z"
   },
   {
    "duration": 553,
    "start_time": "2022-02-19T11:56:12.238Z"
   },
   {
    "duration": 45,
    "start_time": "2022-02-19T11:56:38.546Z"
   },
   {
    "duration": 33,
    "start_time": "2022-02-19T11:56:55.401Z"
   },
   {
    "duration": 302,
    "start_time": "2022-02-19T11:57:33.315Z"
   },
   {
    "duration": 48,
    "start_time": "2022-02-19T11:58:07.564Z"
   },
   {
    "duration": 37,
    "start_time": "2022-02-19T12:01:55.661Z"
   },
   {
    "duration": 287,
    "start_time": "2022-02-19T12:05:21.988Z"
   },
   {
    "duration": 296,
    "start_time": "2022-02-19T12:06:06.646Z"
   },
   {
    "duration": 285,
    "start_time": "2022-02-19T12:06:46.552Z"
   },
   {
    "duration": 273,
    "start_time": "2022-02-19T12:07:12.071Z"
   },
   {
    "duration": 291,
    "start_time": "2022-02-19T12:07:55.746Z"
   },
   {
    "duration": 299,
    "start_time": "2022-02-19T12:08:47.642Z"
   },
   {
    "duration": 598,
    "start_time": "2022-02-19T12:10:49.126Z"
   },
   {
    "duration": 658,
    "start_time": "2022-02-19T12:11:24.024Z"
   },
   {
    "duration": 678,
    "start_time": "2022-02-19T12:12:29.837Z"
   },
   {
    "duration": 685,
    "start_time": "2022-02-19T12:12:38.602Z"
   },
   {
    "duration": 833,
    "start_time": "2022-02-19T12:12:59.794Z"
   },
   {
    "duration": 407,
    "start_time": "2022-02-19T12:13:41.772Z"
   },
   {
    "duration": 92,
    "start_time": "2022-02-19T12:15:53.704Z"
   },
   {
    "duration": 358,
    "start_time": "2022-02-19T12:15:58.916Z"
   },
   {
    "duration": 350,
    "start_time": "2022-02-19T12:16:12.322Z"
   },
   {
    "duration": 362,
    "start_time": "2022-02-19T12:16:41.716Z"
   },
   {
    "duration": 349,
    "start_time": "2022-02-19T12:17:30.672Z"
   },
   {
    "duration": 344,
    "start_time": "2022-02-19T12:17:48.014Z"
   },
   {
    "duration": 353,
    "start_time": "2022-02-19T12:18:01.227Z"
   },
   {
    "duration": 345,
    "start_time": "2022-02-19T12:18:12.506Z"
   },
   {
    "duration": 340,
    "start_time": "2022-02-19T12:18:23.921Z"
   },
   {
    "duration": 337,
    "start_time": "2022-02-19T12:19:15.728Z"
   },
   {
    "duration": 358,
    "start_time": "2022-02-19T12:19:29.713Z"
   },
   {
    "duration": 520,
    "start_time": "2022-02-19T12:19:58.644Z"
   },
   {
    "duration": 482,
    "start_time": "2022-02-19T12:20:10.385Z"
   },
   {
    "duration": 511,
    "start_time": "2022-02-19T12:20:21.486Z"
   },
   {
    "duration": 358,
    "start_time": "2022-02-19T12:20:34.562Z"
   },
   {
    "duration": 525,
    "start_time": "2022-02-19T12:21:00.136Z"
   },
   {
    "duration": 425,
    "start_time": "2022-02-19T12:21:25.599Z"
   },
   {
    "duration": 494,
    "start_time": "2022-02-19T12:21:59.722Z"
   },
   {
    "duration": 380,
    "start_time": "2022-02-19T12:22:51.013Z"
   },
   {
    "duration": 385,
    "start_time": "2022-02-19T12:23:10.490Z"
   },
   {
    "duration": 377,
    "start_time": "2022-02-19T12:23:21.972Z"
   },
   {
    "duration": 379,
    "start_time": "2022-02-19T12:23:32.357Z"
   },
   {
    "duration": 453,
    "start_time": "2022-02-19T12:23:45.865Z"
   },
   {
    "duration": 375,
    "start_time": "2022-02-19T12:24:42.832Z"
   },
   {
    "duration": 359,
    "start_time": "2022-02-19T12:24:57.505Z"
   },
   {
    "duration": 391,
    "start_time": "2022-02-19T12:27:58.738Z"
   },
   {
    "duration": 379,
    "start_time": "2022-02-19T12:28:19.011Z"
   },
   {
    "duration": 384,
    "start_time": "2022-02-19T12:28:43.265Z"
   },
   {
    "duration": 8,
    "start_time": "2022-02-19T12:32:49.458Z"
   },
   {
    "duration": 24,
    "start_time": "2022-02-19T12:32:52.819Z"
   },
   {
    "duration": 40259,
    "start_time": "2022-02-19T12:37:38.673Z"
   },
   {
    "duration": -284,
    "start_time": "2022-02-19T12:40:23.178Z"
   },
   {
    "duration": 634,
    "start_time": "2022-02-19T12:43:50.773Z"
   },
   {
    "duration": 4,
    "start_time": "2022-02-19T12:44:47.002Z"
   },
   {
    "duration": 1078,
    "start_time": "2022-02-19T12:45:37.247Z"
   },
   {
    "duration": 4,
    "start_time": "2022-02-19T12:46:11.605Z"
   },
   {
    "duration": 597,
    "start_time": "2022-02-19T12:46:16.663Z"
   },
   {
    "duration": 582,
    "start_time": "2022-02-19T12:48:31.719Z"
   },
   {
    "duration": 7,
    "start_time": "2022-02-19T12:49:15.068Z"
   },
   {
    "duration": 7,
    "start_time": "2022-02-19T12:49:28.505Z"
   },
   {
    "duration": 715,
    "start_time": "2022-02-19T12:49:29.035Z"
   },
   {
    "duration": 424,
    "start_time": "2022-02-19T12:49:44.102Z"
   },
   {
    "duration": 625,
    "start_time": "2022-02-19T12:50:00.431Z"
   },
   {
    "duration": 1500,
    "start_time": "2022-02-19T15:12:53.385Z"
   },
   {
    "duration": 203,
    "start_time": "2022-02-19T15:12:54.888Z"
   },
   {
    "duration": 53,
    "start_time": "2022-02-19T15:12:55.094Z"
   },
   {
    "duration": 73,
    "start_time": "2022-02-19T15:12:55.776Z"
   },
   {
    "duration": 11,
    "start_time": "2022-02-19T15:12:57.544Z"
   },
   {
    "duration": 26,
    "start_time": "2022-02-19T15:12:58.945Z"
   },
   {
    "duration": 72,
    "start_time": "2022-02-19T15:13:00.087Z"
   },
   {
    "duration": 8,
    "start_time": "2022-02-19T15:13:05.541Z"
   },
   {
    "duration": 518,
    "start_time": "2022-02-19T15:13:06.379Z"
   },
   {
    "duration": 350,
    "start_time": "2022-02-19T15:13:16.547Z"
   },
   {
    "duration": 374,
    "start_time": "2022-02-19T15:13:23.525Z"
   },
   {
    "duration": 4,
    "start_time": "2022-02-19T15:13:26.527Z"
   },
   {
    "duration": 609,
    "start_time": "2022-02-19T15:13:42.374Z"
   },
   {
    "duration": 619,
    "start_time": "2022-02-19T15:14:38.893Z"
   },
   {
    "duration": 698,
    "start_time": "2022-02-19T15:14:46.004Z"
   },
   {
    "duration": 625,
    "start_time": "2022-02-19T15:18:04.329Z"
   },
   {
    "duration": 668,
    "start_time": "2022-02-19T15:18:13.701Z"
   },
   {
    "duration": 633,
    "start_time": "2022-02-19T15:18:20.182Z"
   },
   {
    "duration": 626,
    "start_time": "2022-02-19T15:18:24.284Z"
   },
   {
    "duration": 17,
    "start_time": "2022-02-19T15:28:47.066Z"
   },
   {
    "duration": 18,
    "start_time": "2022-02-19T15:29:25.181Z"
   },
   {
    "duration": 20,
    "start_time": "2022-02-19T15:29:59.726Z"
   },
   {
    "duration": 506,
    "start_time": "2022-02-19T15:32:27.746Z"
   },
   {
    "duration": 513,
    "start_time": "2022-02-19T15:32:42.085Z"
   },
   {
    "duration": 599,
    "start_time": "2022-02-19T15:32:51.215Z"
   },
   {
    "duration": 10,
    "start_time": "2022-02-19T15:38:00.218Z"
   },
   {
    "duration": 75,
    "start_time": "2022-02-19T15:40:00.293Z"
   },
   {
    "duration": 64,
    "start_time": "2022-02-19T15:42:27.972Z"
   },
   {
    "duration": 82,
    "start_time": "2022-02-19T15:43:32.921Z"
   },
   {
    "duration": 81,
    "start_time": "2022-02-19T15:43:50.527Z"
   },
   {
    "duration": 5069,
    "start_time": "2022-02-19T15:44:40.005Z"
   },
   {
    "duration": 138,
    "start_time": "2022-02-19T15:45:46.532Z"
   },
   {
    "duration": 79,
    "start_time": "2022-02-19T15:46:04.190Z"
   },
   {
    "duration": 9,
    "start_time": "2022-02-19T15:46:14.949Z"
   },
   {
    "duration": 311,
    "start_time": "2022-02-19T15:46:36.211Z"
   },
   {
    "duration": 8,
    "start_time": "2022-02-19T15:47:04.009Z"
   },
   {
    "duration": 4920,
    "start_time": "2022-02-19T15:48:33.417Z"
   },
   {
    "duration": 66,
    "start_time": "2022-02-19T15:48:43.905Z"
   },
   {
    "duration": 76,
    "start_time": "2022-02-19T15:48:58.323Z"
   },
   {
    "duration": 290,
    "start_time": "2022-02-19T15:49:17.863Z"
   },
   {
    "duration": 310,
    "start_time": "2022-02-19T15:49:33.672Z"
   },
   {
    "duration": 138,
    "start_time": "2022-02-19T15:49:37.667Z"
   },
   {
    "duration": 76,
    "start_time": "2022-02-19T15:50:18.534Z"
   },
   {
    "duration": 82,
    "start_time": "2022-02-19T15:51:07.840Z"
   },
   {
    "duration": 66,
    "start_time": "2022-02-19T15:51:29.913Z"
   },
   {
    "duration": 70,
    "start_time": "2022-02-19T15:51:40.629Z"
   },
   {
    "duration": 82,
    "start_time": "2022-02-19T15:52:32.323Z"
   },
   {
    "duration": 71,
    "start_time": "2022-02-19T16:02:49.009Z"
   },
   {
    "duration": 9,
    "start_time": "2022-02-19T16:04:25.129Z"
   },
   {
    "duration": 260,
    "start_time": "2022-02-19T16:05:23.622Z"
   },
   {
    "duration": 250,
    "start_time": "2022-02-19T16:05:46.454Z"
   },
   {
    "duration": 11,
    "start_time": "2022-02-19T16:05:54.517Z"
   },
   {
    "duration": 238,
    "start_time": "2022-02-19T16:06:11.752Z"
   },
   {
    "duration": 11,
    "start_time": "2022-02-19T16:06:21.759Z"
   },
   {
    "duration": 12,
    "start_time": "2022-02-19T16:07:04.367Z"
   },
   {
    "duration": 10,
    "start_time": "2022-02-19T16:14:11.743Z"
   },
   {
    "duration": 153,
    "start_time": "2022-02-19T16:16:35.779Z"
   },
   {
    "duration": 81,
    "start_time": "2022-02-19T16:16:47.093Z"
   },
   {
    "duration": 83,
    "start_time": "2022-02-19T16:31:55.638Z"
   },
   {
    "duration": 6135,
    "start_time": "2022-02-19T16:35:04.205Z"
   },
   {
    "duration": 6198,
    "start_time": "2022-02-19T16:36:01.032Z"
   },
   {
    "duration": 5959,
    "start_time": "2022-02-19T16:36:51.983Z"
   },
   {
    "duration": 6096,
    "start_time": "2022-02-19T16:38:30.076Z"
   },
   {
    "duration": 513,
    "start_time": "2022-02-19T16:39:28.448Z"
   },
   {
    "duration": 6109,
    "start_time": "2022-02-19T16:39:49.563Z"
   },
   {
    "duration": 14606,
    "start_time": "2022-02-19T16:40:09.331Z"
   },
   {
    "duration": 6205,
    "start_time": "2022-02-19T16:41:13.940Z"
   },
   {
    "duration": 6339,
    "start_time": "2022-02-19T16:41:29.632Z"
   },
   {
    "duration": 6344,
    "start_time": "2022-02-19T16:42:38.231Z"
   },
   {
    "duration": 6184,
    "start_time": "2022-02-19T16:43:26.788Z"
   },
   {
    "duration": 6158,
    "start_time": "2022-02-19T16:44:01.365Z"
   },
   {
    "duration": 6110,
    "start_time": "2022-02-19T16:44:32.682Z"
   },
   {
    "duration": 6104,
    "start_time": "2022-02-19T16:45:00.840Z"
   },
   {
    "duration": 6341,
    "start_time": "2022-02-19T16:46:28.974Z"
   },
   {
    "duration": 21823,
    "start_time": "2022-02-19T16:46:56.678Z"
   },
   {
    "duration": 11256,
    "start_time": "2022-02-19T16:47:41.292Z"
   },
   {
    "duration": 20884,
    "start_time": "2022-02-19T16:48:22.038Z"
   },
   {
    "duration": 17,
    "start_time": "2022-02-19T16:48:55.874Z"
   },
   {
    "duration": 22,
    "start_time": "2022-02-19T16:49:25.996Z"
   },
   {
    "duration": 2234,
    "start_time": "2022-02-19T16:49:37.973Z"
   },
   {
    "duration": 2328,
    "start_time": "2022-02-19T16:49:45.686Z"
   },
   {
    "duration": 10,
    "start_time": "2022-02-19T16:49:54.619Z"
   },
   {
    "duration": 6,
    "start_time": "2022-02-19T16:51:03.117Z"
   },
   {
    "duration": 11,
    "start_time": "2022-02-19T16:51:29.863Z"
   },
   {
    "duration": 1842,
    "start_time": "2022-02-19T16:53:09.845Z"
   },
   {
    "duration": 11,
    "start_time": "2022-02-19T16:53:27.477Z"
   },
   {
    "duration": 12,
    "start_time": "2022-02-19T16:54:23.556Z"
   },
   {
    "duration": 11,
    "start_time": "2022-02-19T16:54:47.575Z"
   },
   {
    "duration": 10,
    "start_time": "2022-02-19T16:54:58.149Z"
   },
   {
    "duration": 11756,
    "start_time": "2022-02-19T16:56:42.127Z"
   },
   {
    "duration": 27532,
    "start_time": "2022-02-19T16:58:58.884Z"
   },
   {
    "duration": 6990,
    "start_time": "2022-02-19T17:00:40.977Z"
   },
   {
    "duration": 9,
    "start_time": "2022-02-19T17:03:10.548Z"
   },
   {
    "duration": 365,
    "start_time": "2022-02-19T17:05:16.097Z"
   },
   {
    "duration": 72,
    "start_time": "2022-02-19T17:05:23.583Z"
   },
   {
    "duration": 351,
    "start_time": "2022-02-19T17:07:12.035Z"
   },
   {
    "duration": 363,
    "start_time": "2022-02-19T17:07:41.899Z"
   },
   {
    "duration": 3388,
    "start_time": "2022-02-19T17:08:35.349Z"
   },
   {
    "duration": 78,
    "start_time": "2022-02-19T17:09:09.025Z"
   },
   {
    "duration": 72,
    "start_time": "2022-02-19T17:09:47.009Z"
   },
   {
    "duration": 72,
    "start_time": "2022-02-19T17:10:02.126Z"
   },
   {
    "duration": 136,
    "start_time": "2022-02-19T17:10:52.706Z"
   },
   {
    "duration": 68,
    "start_time": "2022-02-19T17:11:06.510Z"
   },
   {
    "duration": 82,
    "start_time": "2022-02-19T17:11:22.932Z"
   },
   {
    "duration": 294,
    "start_time": "2022-02-19T17:14:49.641Z"
   },
   {
    "duration": 23,
    "start_time": "2022-02-19T17:15:01.832Z"
   },
   {
    "duration": 24,
    "start_time": "2022-02-19T17:15:59.303Z"
   },
   {
    "duration": 23,
    "start_time": "2022-02-19T17:17:05.645Z"
   },
   {
    "duration": 22,
    "start_time": "2022-02-19T17:18:24.159Z"
   },
   {
    "duration": 531,
    "start_time": "2022-02-19T17:20:17.556Z"
   },
   {
    "duration": 583,
    "start_time": "2022-02-19T17:25:23.410Z"
   },
   {
    "duration": 331,
    "start_time": "2022-02-19T17:25:36.021Z"
   },
   {
    "duration": 81,
    "start_time": "2022-02-19T17:25:43.374Z"
   },
   {
    "duration": 367,
    "start_time": "2022-02-19T17:26:36.645Z"
   },
   {
    "duration": 1509,
    "start_time": "2022-02-19T17:27:00.275Z"
   },
   {
    "duration": 226,
    "start_time": "2022-02-19T17:27:01.787Z"
   },
   {
    "duration": 54,
    "start_time": "2022-02-19T17:27:02.016Z"
   },
   {
    "duration": 121,
    "start_time": "2022-02-19T17:27:02.074Z"
   },
   {
    "duration": 11,
    "start_time": "2022-02-19T17:27:02.197Z"
   },
   {
    "duration": 30,
    "start_time": "2022-02-19T17:27:02.210Z"
   },
   {
    "duration": 97,
    "start_time": "2022-02-19T17:27:02.243Z"
   },
   {
    "duration": 7,
    "start_time": "2022-02-19T17:27:02.345Z"
   },
   {
    "duration": 542,
    "start_time": "2022-02-19T17:27:02.356Z"
   },
   {
    "duration": 364,
    "start_time": "2022-02-19T17:27:02.901Z"
   },
   {
    "duration": 405,
    "start_time": "2022-02-19T17:27:03.268Z"
   },
   {
    "duration": 17,
    "start_time": "2022-02-19T17:27:03.676Z"
   },
   {
    "duration": 625,
    "start_time": "2022-02-19T17:27:03.695Z"
   },
   {
    "duration": 508,
    "start_time": "2022-02-19T17:27:04.322Z"
   },
   {
    "duration": 509,
    "start_time": "2022-02-19T17:27:10.183Z"
   },
   {
    "duration": 66,
    "start_time": "2022-02-19T17:27:20.617Z"
   },
   {
    "duration": 55,
    "start_time": "2022-02-19T17:27:49.525Z"
   },
   {
    "duration": 61,
    "start_time": "2022-02-19T17:27:53.666Z"
   },
   {
    "duration": 66,
    "start_time": "2022-02-19T17:27:56.585Z"
   },
   {
    "duration": 56,
    "start_time": "2022-02-19T17:28:01.015Z"
   },
   {
    "duration": 125,
    "start_time": "2022-02-19T17:28:04.931Z"
   },
   {
    "duration": 376,
    "start_time": "2022-02-19T17:28:10.717Z"
   },
   {
    "duration": 57,
    "start_time": "2022-02-19T17:28:20.476Z"
   },
   {
    "duration": 62,
    "start_time": "2022-02-19T17:28:46.024Z"
   },
   {
    "duration": 3429,
    "start_time": "2022-02-19T17:30:00.164Z"
   },
   {
    "duration": 1000,
    "start_time": "2022-02-19T17:32:03.117Z"
   },
   {
    "duration": 266,
    "start_time": "2022-02-19T17:34:37.001Z"
   },
   {
    "duration": 6217,
    "start_time": "2022-02-19T17:34:51.243Z"
   },
   {
    "duration": 6087,
    "start_time": "2022-02-19T17:35:08.817Z"
   },
   {
    "duration": 504,
    "start_time": "2022-02-19T17:35:33.372Z"
   },
   {
    "duration": 314,
    "start_time": "2022-02-19T17:36:02.967Z"
   },
   {
    "duration": 352,
    "start_time": "2022-02-19T17:36:14.600Z"
   },
   {
    "duration": 72,
    "start_time": "2022-02-19T17:36:22.055Z"
   },
   {
    "duration": 70,
    "start_time": "2022-02-19T17:36:37.280Z"
   },
   {
    "duration": 111,
    "start_time": "2022-02-19T17:37:43.655Z"
   },
   {
    "duration": 701,
    "start_time": "2022-02-19T17:39:09.444Z"
   },
   {
    "duration": 648,
    "start_time": "2022-02-19T17:39:34.427Z"
   },
   {
    "duration": 52,
    "start_time": "2022-02-19T17:40:51.519Z"
   },
   {
    "duration": 54,
    "start_time": "2022-02-19T17:41:01.972Z"
   },
   {
    "duration": 59,
    "start_time": "2022-02-19T17:41:21.976Z"
   },
   {
    "duration": 69,
    "start_time": "2022-02-19T17:42:05.595Z"
   },
   {
    "duration": 295,
    "start_time": "2022-02-19T17:42:24.271Z"
   },
   {
    "duration": 142,
    "start_time": "2022-02-19T17:43:53.939Z"
   },
   {
    "duration": 67,
    "start_time": "2022-02-19T17:44:31.622Z"
   },
   {
    "duration": 68,
    "start_time": "2022-02-19T17:44:52.397Z"
   },
   {
    "duration": 84,
    "start_time": "2022-02-19T17:46:27.844Z"
   },
   {
    "duration": 83,
    "start_time": "2022-02-19T17:46:52.985Z"
   },
   {
    "duration": 367,
    "start_time": "2022-02-19T17:47:56.619Z"
   },
   {
    "duration": 210,
    "start_time": "2022-02-19T17:53:31.424Z"
   },
   {
    "duration": 137,
    "start_time": "2022-02-19T17:53:42.208Z"
   },
   {
    "duration": 280,
    "start_time": "2022-02-19T17:54:44.698Z"
   },
   {
    "duration": 201,
    "start_time": "2022-02-19T17:55:12.568Z"
   },
   {
    "duration": 1472,
    "start_time": "2022-02-19T17:56:08.317Z"
   },
   {
    "duration": 216,
    "start_time": "2022-02-19T17:56:09.791Z"
   },
   {
    "duration": 82,
    "start_time": "2022-02-19T17:56:10.011Z"
   },
   {
    "duration": 74,
    "start_time": "2022-02-19T17:56:10.096Z"
   },
   {
    "duration": 30,
    "start_time": "2022-02-19T17:56:10.173Z"
   },
   {
    "duration": 30,
    "start_time": "2022-02-19T17:56:10.206Z"
   },
   {
    "duration": 108,
    "start_time": "2022-02-19T17:56:10.239Z"
   },
   {
    "duration": 7,
    "start_time": "2022-02-19T17:56:10.351Z"
   },
   {
    "duration": 557,
    "start_time": "2022-02-19T17:56:10.361Z"
   },
   {
    "duration": 367,
    "start_time": "2022-02-19T17:56:10.921Z"
   },
   {
    "duration": 399,
    "start_time": "2022-02-19T17:56:11.295Z"
   },
   {
    "duration": 5,
    "start_time": "2022-02-19T17:56:11.698Z"
   },
   {
    "duration": 660,
    "start_time": "2022-02-19T17:56:11.705Z"
   },
   {
    "duration": 509,
    "start_time": "2022-02-19T17:56:12.367Z"
   },
   {
    "duration": 247,
    "start_time": "2022-02-19T17:56:17.272Z"
   },
   {
    "duration": 24,
    "start_time": "2022-02-19T17:56:29.134Z"
   },
   {
    "duration": 28,
    "start_time": "2022-02-19T17:56:46.455Z"
   },
   {
    "duration": 31,
    "start_time": "2022-02-19T17:57:18.623Z"
   },
   {
    "duration": 52,
    "start_time": "2022-02-19T17:57:35.889Z"
   },
   {
    "duration": 6,
    "start_time": "2022-02-19T17:59:38.279Z"
   },
   {
    "duration": 6,
    "start_time": "2022-02-19T17:59:52.272Z"
   },
   {
    "duration": 8,
    "start_time": "2022-02-19T18:00:16.156Z"
   },
   {
    "duration": 79,
    "start_time": "2022-02-19T18:00:48.657Z"
   },
   {
    "duration": 74,
    "start_time": "2022-02-19T18:08:37.401Z"
   },
   {
    "duration": 450,
    "start_time": "2022-02-19T18:09:00.821Z"
   },
   {
    "duration": 1489,
    "start_time": "2022-02-19T18:16:38.714Z"
   },
   {
    "duration": 218,
    "start_time": "2022-02-19T18:16:40.206Z"
   },
   {
    "duration": 67,
    "start_time": "2022-02-19T18:16:40.427Z"
   },
   {
    "duration": 112,
    "start_time": "2022-02-19T18:16:40.497Z"
   },
   {
    "duration": 12,
    "start_time": "2022-02-19T18:16:40.611Z"
   },
   {
    "duration": 30,
    "start_time": "2022-02-19T18:16:40.625Z"
   },
   {
    "duration": 96,
    "start_time": "2022-02-19T18:16:40.658Z"
   },
   {
    "duration": 7,
    "start_time": "2022-02-19T18:16:40.758Z"
   },
   {
    "duration": 550,
    "start_time": "2022-02-19T18:16:40.768Z"
   },
   {
    "duration": 361,
    "start_time": "2022-02-19T18:16:41.321Z"
   },
   {
    "duration": 394,
    "start_time": "2022-02-19T18:16:41.685Z"
   },
   {
    "duration": 12,
    "start_time": "2022-02-19T18:16:42.082Z"
   },
   {
    "duration": 631,
    "start_time": "2022-02-19T18:16:42.097Z"
   },
   {
    "duration": 521,
    "start_time": "2022-02-19T18:16:42.730Z"
   },
   {
    "duration": 250,
    "start_time": "2022-02-19T18:16:43.254Z"
   },
   {
    "duration": 35,
    "start_time": "2022-02-19T18:16:46.130Z"
   },
   {
    "duration": 56,
    "start_time": "2022-02-19T18:20:33.084Z"
   },
   {
    "duration": 1505,
    "start_time": "2022-02-19T18:22:05.190Z"
   },
   {
    "duration": 228,
    "start_time": "2022-02-19T18:22:06.698Z"
   },
   {
    "duration": 71,
    "start_time": "2022-02-19T18:22:06.929Z"
   },
   {
    "duration": 93,
    "start_time": "2022-02-19T18:22:07.003Z"
   },
   {
    "duration": 11,
    "start_time": "2022-02-19T18:22:07.098Z"
   },
   {
    "duration": 32,
    "start_time": "2022-02-19T18:22:07.111Z"
   },
   {
    "duration": 97,
    "start_time": "2022-02-19T18:22:07.146Z"
   },
   {
    "duration": 7,
    "start_time": "2022-02-19T18:22:07.247Z"
   },
   {
    "duration": 544,
    "start_time": "2022-02-19T18:22:07.257Z"
   },
   {
    "duration": 369,
    "start_time": "2022-02-19T18:22:07.803Z"
   },
   {
    "duration": 396,
    "start_time": "2022-02-19T18:22:08.175Z"
   },
   {
    "duration": 4,
    "start_time": "2022-02-19T18:22:08.573Z"
   },
   {
    "duration": 624,
    "start_time": "2022-02-19T18:22:08.579Z"
   },
   {
    "duration": 534,
    "start_time": "2022-02-19T18:22:09.206Z"
   },
   {
    "duration": 263,
    "start_time": "2022-02-19T18:22:09.742Z"
   },
   {
    "duration": 37,
    "start_time": "2022-02-19T18:22:10.008Z"
   },
   {
    "duration": 105,
    "start_time": "2022-02-19T18:22:10.048Z"
   },
   {
    "duration": 495,
    "start_time": "2022-02-19T18:23:53.792Z"
   },
   {
    "duration": 32,
    "start_time": "2022-02-19T18:25:49.618Z"
   },
   {
    "duration": 1449,
    "start_time": "2022-02-19T18:26:30.837Z"
   },
   {
    "duration": 207,
    "start_time": "2022-02-19T18:26:32.289Z"
   },
   {
    "duration": 53,
    "start_time": "2022-02-19T18:26:32.499Z"
   },
   {
    "duration": 99,
    "start_time": "2022-02-19T18:26:32.555Z"
   },
   {
    "duration": 12,
    "start_time": "2022-02-19T18:26:32.656Z"
   },
   {
    "duration": 27,
    "start_time": "2022-02-19T18:26:32.694Z"
   },
   {
    "duration": 100,
    "start_time": "2022-02-19T18:26:32.724Z"
   },
   {
    "duration": 7,
    "start_time": "2022-02-19T18:26:32.829Z"
   },
   {
    "duration": 535,
    "start_time": "2022-02-19T18:26:32.839Z"
   },
   {
    "duration": 362,
    "start_time": "2022-02-19T18:26:33.376Z"
   },
   {
    "duration": 400,
    "start_time": "2022-02-19T18:26:33.740Z"
   },
   {
    "duration": 4,
    "start_time": "2022-02-19T18:26:34.143Z"
   },
   {
    "duration": 629,
    "start_time": "2022-02-19T18:26:34.149Z"
   },
   {
    "duration": 496,
    "start_time": "2022-02-19T18:26:34.781Z"
   },
   {
    "duration": 258,
    "start_time": "2022-02-19T18:26:35.279Z"
   },
   {
    "duration": 32,
    "start_time": "2022-02-19T18:26:35.541Z"
   },
   {
    "duration": 67,
    "start_time": "2022-02-19T18:26:35.575Z"
   },
   {
    "duration": 449,
    "start_time": "2022-02-19T18:26:35.645Z"
   },
   {
    "duration": 11,
    "start_time": "2022-02-19T18:26:36.096Z"
   },
   {
    "duration": 26,
    "start_time": "2022-02-19T18:28:52.029Z"
   },
   {
    "duration": 17,
    "start_time": "2022-02-19T18:31:41.117Z"
   },
   {
    "duration": 30,
    "start_time": "2022-02-19T18:33:20.007Z"
   },
   {
    "duration": 23,
    "start_time": "2022-02-19T18:33:58.324Z"
   },
   {
    "duration": 13,
    "start_time": "2022-02-19T18:34:27.561Z"
   },
   {
    "duration": 14,
    "start_time": "2022-02-19T18:35:36.730Z"
   },
   {
    "duration": 7135,
    "start_time": "2022-02-19T18:40:27.966Z"
   },
   {
    "duration": 6725,
    "start_time": "2022-02-19T18:41:22.758Z"
   },
   {
    "duration": 13,
    "start_time": "2022-02-19T18:42:06.487Z"
   },
   {
    "duration": 7240,
    "start_time": "2022-02-19T18:42:34.107Z"
   },
   {
    "duration": 7191,
    "start_time": "2022-02-19T18:42:55.118Z"
   },
   {
    "duration": 632,
    "start_time": "2022-02-19T18:43:49.440Z"
   },
   {
    "duration": 295,
    "start_time": "2022-02-19T18:44:12.516Z"
   },
   {
    "duration": 27,
    "start_time": "2022-02-19T18:44:25.362Z"
   },
   {
    "duration": 21,
    "start_time": "2022-02-19T18:44:48.591Z"
   },
   {
    "duration": 486,
    "start_time": "2022-02-19T18:45:39.362Z"
   },
   {
    "duration": 1530,
    "start_time": "2022-02-19T18:46:44.009Z"
   },
   {
    "duration": 207,
    "start_time": "2022-02-19T18:46:45.541Z"
   },
   {
    "duration": 72,
    "start_time": "2022-02-19T18:46:45.751Z"
   },
   {
    "duration": 132,
    "start_time": "2022-02-19T18:46:45.826Z"
   },
   {
    "duration": 14,
    "start_time": "2022-02-19T18:46:45.961Z"
   },
   {
    "duration": 24,
    "start_time": "2022-02-19T18:46:45.995Z"
   },
   {
    "duration": 105,
    "start_time": "2022-02-19T18:46:46.022Z"
   },
   {
    "duration": 7,
    "start_time": "2022-02-19T18:46:46.131Z"
   },
   {
    "duration": 608,
    "start_time": "2022-02-19T18:46:46.140Z"
   },
   {
    "duration": 373,
    "start_time": "2022-02-19T18:46:46.751Z"
   },
   {
    "duration": 399,
    "start_time": "2022-02-19T18:46:47.127Z"
   },
   {
    "duration": 4,
    "start_time": "2022-02-19T18:46:47.529Z"
   },
   {
    "duration": 624,
    "start_time": "2022-02-19T18:46:47.535Z"
   },
   {
    "duration": 522,
    "start_time": "2022-02-19T18:46:48.162Z"
   },
   {
    "duration": 258,
    "start_time": "2022-02-19T18:46:48.694Z"
   },
   {
    "duration": 40,
    "start_time": "2022-02-19T18:46:48.954Z"
   },
   {
    "duration": 55,
    "start_time": "2022-02-19T18:46:48.997Z"
   },
   {
    "duration": 478,
    "start_time": "2022-02-19T18:46:49.055Z"
   },
   {
    "duration": 12,
    "start_time": "2022-02-19T18:46:49.535Z"
   },
   {
    "duration": 24,
    "start_time": "2022-02-19T18:46:53.149Z"
   },
   {
    "duration": 307,
    "start_time": "2022-02-19T18:51:08.156Z"
   },
   {
    "duration": 726,
    "start_time": "2022-02-19T18:53:26.759Z"
   },
   {
    "duration": 559,
    "start_time": "2022-02-19T18:54:06.447Z"
   },
   {
    "duration": 580,
    "start_time": "2022-02-19T18:54:31.559Z"
   },
   {
    "duration": 559,
    "start_time": "2022-02-19T18:54:40.138Z"
   },
   {
    "duration": 1897,
    "start_time": "2022-02-19T18:58:51.658Z"
   },
   {
    "duration": 1559,
    "start_time": "2022-02-19T19:06:28.354Z"
   },
   {
    "duration": 956,
    "start_time": "2022-02-19T19:33:30.866Z"
   },
   {
    "duration": 1054,
    "start_time": "2022-02-19T19:33:45.600Z"
   },
   {
    "duration": 5521,
    "start_time": "2022-02-19T19:34:07.404Z"
   },
   {
    "duration": 1119,
    "start_time": "2022-02-19T19:34:22.199Z"
   },
   {
    "duration": 935,
    "start_time": "2022-02-19T19:38:55.775Z"
   },
   {
    "duration": 899,
    "start_time": "2022-02-19T19:41:37.450Z"
   },
   {
    "duration": 880,
    "start_time": "2022-02-19T19:42:55.807Z"
   },
   {
    "duration": 29,
    "start_time": "2022-02-19T19:45:05.028Z"
   },
   {
    "duration": 19,
    "start_time": "2022-02-19T19:45:26.005Z"
   },
   {
    "duration": 43,
    "start_time": "2022-02-19T19:47:16.945Z"
   },
   {
    "duration": 42,
    "start_time": "2022-02-19T19:49:59.868Z"
   },
   {
    "duration": 49,
    "start_time": "2022-02-19T19:50:28.742Z"
   },
   {
    "duration": 53,
    "start_time": "2022-02-19T19:50:42.374Z"
   },
   {
    "duration": 933,
    "start_time": "2022-02-19T19:51:12.104Z"
   },
   {
    "duration": 1198,
    "start_time": "2022-02-19T19:51:41.542Z"
   },
   {
    "duration": 1385,
    "start_time": "2022-02-19T19:53:25.051Z"
   },
   {
    "duration": 925,
    "start_time": "2022-02-19T19:54:08.185Z"
   },
   {
    "duration": 49,
    "start_time": "2022-02-19T19:54:55.627Z"
   },
   {
    "duration": 18,
    "start_time": "2022-02-19T19:55:54.287Z"
   },
   {
    "duration": 18,
    "start_time": "2022-02-19T19:56:15.963Z"
   },
   {
    "duration": 26,
    "start_time": "2022-02-19T19:59:01.084Z"
   },
   {
    "duration": 20,
    "start_time": "2022-02-19T19:59:14.926Z"
   },
   {
    "duration": 19,
    "start_time": "2022-02-19T19:59:37.799Z"
   },
   {
    "duration": 19,
    "start_time": "2022-02-19T20:04:53.123Z"
   },
   {
    "duration": 20,
    "start_time": "2022-02-19T20:05:12.172Z"
   },
   {
    "duration": 21,
    "start_time": "2022-02-19T20:05:15.502Z"
   },
   {
    "duration": 19,
    "start_time": "2022-02-19T20:05:52.546Z"
   },
   {
    "duration": 49,
    "start_time": "2022-02-19T20:11:08.620Z"
   },
   {
    "duration": 63,
    "start_time": "2022-02-19T20:12:35.711Z"
   },
   {
    "duration": 54,
    "start_time": "2022-02-19T20:19:17.408Z"
   },
   {
    "duration": 65,
    "start_time": "2022-02-19T20:19:55.366Z"
   },
   {
    "duration": 32,
    "start_time": "2022-02-19T20:21:36.091Z"
   },
   {
    "duration": 37,
    "start_time": "2022-02-19T20:21:53.734Z"
   },
   {
    "duration": 279,
    "start_time": "2022-02-19T20:22:27.420Z"
   },
   {
    "duration": 69,
    "start_time": "2022-02-19T20:22:34.736Z"
   },
   {
    "duration": 1764,
    "start_time": "2022-02-19T20:22:55.881Z"
   },
   {
    "duration": 1580,
    "start_time": "2022-02-19T20:23:26.188Z"
   },
   {
    "duration": 234,
    "start_time": "2022-02-19T20:23:27.770Z"
   },
   {
    "duration": 84,
    "start_time": "2022-02-19T20:23:28.009Z"
   },
   {
    "duration": 99,
    "start_time": "2022-02-19T20:23:28.097Z"
   },
   {
    "duration": 12,
    "start_time": "2022-02-19T20:23:28.198Z"
   },
   {
    "duration": 39,
    "start_time": "2022-02-19T20:23:28.212Z"
   },
   {
    "duration": 107,
    "start_time": "2022-02-19T20:23:28.254Z"
   },
   {
    "duration": 1020,
    "start_time": "2022-02-19T20:23:28.364Z"
   },
   {
    "duration": 7,
    "start_time": "2022-02-19T20:23:29.388Z"
   },
   {
    "duration": 717,
    "start_time": "2022-02-19T20:23:29.398Z"
   },
   {
    "duration": 381,
    "start_time": "2022-02-19T20:23:30.118Z"
   },
   {
    "duration": 407,
    "start_time": "2022-02-19T20:23:30.501Z"
   },
   {
    "duration": 6,
    "start_time": "2022-02-19T20:23:30.911Z"
   },
   {
    "duration": 1004,
    "start_time": "2022-02-19T20:23:30.920Z"
   },
   {
    "duration": 509,
    "start_time": "2022-02-19T20:23:31.926Z"
   },
   {
    "duration": 265,
    "start_time": "2022-02-19T20:23:32.438Z"
   },
   {
    "duration": 51,
    "start_time": "2022-02-19T20:23:32.707Z"
   },
   {
    "duration": 116,
    "start_time": "2022-02-19T20:23:32.761Z"
   },
   {
    "duration": 707,
    "start_time": "2022-02-19T20:23:32.880Z"
   },
   {
    "duration": 11,
    "start_time": "2022-02-19T20:23:33.590Z"
   },
   {
    "duration": 23,
    "start_time": "2022-02-19T20:23:33.604Z"
   },
   {
    "duration": 341,
    "start_time": "2022-02-19T20:23:33.629Z"
   },
   {
    "duration": 607,
    "start_time": "2022-02-19T20:23:33.973Z"
   },
   {
    "duration": 31,
    "start_time": "2022-02-19T20:23:45.311Z"
   },
   {
    "duration": 19,
    "start_time": "2022-02-19T20:25:00.251Z"
   },
   {
    "duration": 1630,
    "start_time": "2022-02-19T20:25:30.551Z"
   },
   {
    "duration": 277,
    "start_time": "2022-02-19T20:25:32.183Z"
   },
   {
    "duration": 56,
    "start_time": "2022-02-19T20:25:32.463Z"
   },
   {
    "duration": 88,
    "start_time": "2022-02-19T20:25:32.522Z"
   },
   {
    "duration": 12,
    "start_time": "2022-02-19T20:25:32.613Z"
   },
   {
    "duration": 29,
    "start_time": "2022-02-19T20:25:32.628Z"
   },
   {
    "duration": 96,
    "start_time": "2022-02-19T20:25:32.659Z"
   },
   {
    "duration": 833,
    "start_time": "2022-02-19T20:25:32.793Z"
   },
   {
    "duration": 8,
    "start_time": "2022-02-19T20:25:33.630Z"
   },
   {
    "duration": 540,
    "start_time": "2022-02-19T20:25:33.640Z"
   },
   {
    "duration": 366,
    "start_time": "2022-02-19T20:25:34.183Z"
   },
   {
    "duration": 394,
    "start_time": "2022-02-19T20:25:34.551Z"
   },
   {
    "duration": 4,
    "start_time": "2022-02-19T20:25:34.947Z"
   },
   {
    "duration": 683,
    "start_time": "2022-02-19T20:25:34.953Z"
   },
   {
    "duration": 494,
    "start_time": "2022-02-19T20:25:35.639Z"
   },
   {
    "duration": 194,
    "start_time": "2022-02-19T20:25:36.136Z"
   },
   {
    "duration": 32,
    "start_time": "2022-02-19T20:25:36.333Z"
   },
   {
    "duration": 73,
    "start_time": "2022-02-19T20:25:36.368Z"
   },
   {
    "duration": 481,
    "start_time": "2022-02-19T20:25:36.444Z"
   },
   {
    "duration": 13,
    "start_time": "2022-02-19T20:25:36.927Z"
   },
   {
    "duration": 24,
    "start_time": "2022-02-19T20:25:36.943Z"
   },
   {
    "duration": 315,
    "start_time": "2022-02-19T20:25:36.994Z"
   },
   {
    "duration": 551,
    "start_time": "2022-02-19T20:25:37.316Z"
   },
   {
    "duration": 43,
    "start_time": "2022-02-19T20:25:37.869Z"
   },
   {
    "duration": 414,
    "start_time": "2022-02-19T20:31:41.048Z"
   },
   {
    "duration": 6141,
    "start_time": "2022-02-19T20:31:51.408Z"
   },
   {
    "duration": 23,
    "start_time": "2022-02-19T20:32:25.510Z"
   },
   {
    "duration": 27,
    "start_time": "2022-02-19T20:33:14.095Z"
   },
   {
    "duration": 28,
    "start_time": "2022-02-19T20:33:47.377Z"
   },
   {
    "duration": 17,
    "start_time": "2022-02-19T20:35:05.304Z"
   },
   {
    "duration": 18,
    "start_time": "2022-02-19T20:35:49.945Z"
   },
   {
    "duration": 18,
    "start_time": "2022-02-19T20:36:31.441Z"
   },
   {
    "duration": 40,
    "start_time": "2022-02-19T20:38:27.791Z"
   },
   {
    "duration": 351,
    "start_time": "2022-02-19T20:40:23.836Z"
   },
   {
    "duration": 47,
    "start_time": "2022-02-19T20:40:32.673Z"
   },
   {
    "duration": 501,
    "start_time": "2022-02-19T20:42:56.892Z"
   },
   {
    "duration": 34,
    "start_time": "2022-02-19T20:48:24.938Z"
   },
   {
    "duration": 32,
    "start_time": "2022-02-19T20:49:34.796Z"
   },
   {
    "duration": 644,
    "start_time": "2022-02-19T20:51:38.507Z"
   },
   {
    "duration": 459,
    "start_time": "2022-02-19T20:51:46.628Z"
   },
   {
    "duration": 498,
    "start_time": "2022-02-19T20:52:05.381Z"
   },
   {
    "duration": 509,
    "start_time": "2022-02-19T20:52:39.024Z"
   },
   {
    "duration": 517,
    "start_time": "2022-02-19T20:52:59.532Z"
   },
   {
    "duration": 540,
    "start_time": "2022-02-19T20:54:52.641Z"
   },
   {
    "duration": 466,
    "start_time": "2022-02-19T20:56:47.128Z"
   },
   {
    "duration": 491,
    "start_time": "2022-02-19T20:57:12.002Z"
   },
   {
    "duration": 1520,
    "start_time": "2022-02-20T12:41:44.973Z"
   },
   {
    "duration": 209,
    "start_time": "2022-02-20T12:41:46.495Z"
   },
   {
    "duration": 48,
    "start_time": "2022-02-20T12:41:46.706Z"
   },
   {
    "duration": 80,
    "start_time": "2022-02-20T12:41:46.757Z"
   },
   {
    "duration": 11,
    "start_time": "2022-02-20T12:41:46.840Z"
   },
   {
    "duration": 38,
    "start_time": "2022-02-20T12:41:46.854Z"
   },
   {
    "duration": 82,
    "start_time": "2022-02-20T12:41:46.894Z"
   },
   {
    "duration": 1230,
    "start_time": "2022-02-20T12:41:46.980Z"
   },
   {
    "duration": 5,
    "start_time": "2022-02-20T12:41:48.212Z"
   },
   {
    "duration": 434,
    "start_time": "2022-02-20T12:41:48.218Z"
   },
   {
    "duration": 264,
    "start_time": "2022-02-20T12:41:48.654Z"
   },
   {
    "duration": 382,
    "start_time": "2022-02-20T12:41:48.921Z"
   },
   {
    "duration": 4,
    "start_time": "2022-02-20T12:41:49.305Z"
   },
   {
    "duration": 505,
    "start_time": "2022-02-20T12:41:49.318Z"
   },
   {
    "duration": 393,
    "start_time": "2022-02-20T12:41:49.826Z"
   },
   {
    "duration": 151,
    "start_time": "2022-02-20T12:41:50.222Z"
   },
   {
    "duration": 29,
    "start_time": "2022-02-20T12:41:50.375Z"
   },
   {
    "duration": 55,
    "start_time": "2022-02-20T12:41:50.420Z"
   },
   {
    "duration": 330,
    "start_time": "2022-02-20T12:41:50.477Z"
   },
   {
    "duration": 19,
    "start_time": "2022-02-20T12:41:50.808Z"
   },
   {
    "duration": 27,
    "start_time": "2022-02-20T12:41:50.830Z"
   },
   {
    "duration": 234,
    "start_time": "2022-02-20T12:41:50.859Z"
   },
   {
    "duration": 398,
    "start_time": "2022-02-20T12:41:51.097Z"
   },
   {
    "duration": 32,
    "start_time": "2022-02-20T12:41:51.498Z"
   },
   {
    "duration": 340,
    "start_time": "2022-02-20T12:41:51.532Z"
   },
   {
    "duration": 759,
    "start_time": "2022-02-20T12:41:51.874Z"
   },
   {
    "duration": 1718,
    "start_time": "2022-02-20T12:42:34.125Z"
   },
   {
    "duration": 252,
    "start_time": "2022-02-20T12:42:35.846Z"
   },
   {
    "duration": 51,
    "start_time": "2022-02-20T12:42:36.100Z"
   },
   {
    "duration": 76,
    "start_time": "2022-02-20T12:42:36.153Z"
   },
   {
    "duration": 14,
    "start_time": "2022-02-20T12:42:36.232Z"
   },
   {
    "duration": 25,
    "start_time": "2022-02-20T12:42:36.248Z"
   },
   {
    "duration": 90,
    "start_time": "2022-02-20T12:42:36.275Z"
   },
   {
    "duration": 1089,
    "start_time": "2022-02-20T12:42:36.367Z"
   },
   {
    "duration": 6,
    "start_time": "2022-02-20T12:42:37.459Z"
   },
   {
    "duration": 468,
    "start_time": "2022-02-20T12:42:37.467Z"
   },
   {
    "duration": 256,
    "start_time": "2022-02-20T12:42:37.938Z"
   },
   {
    "duration": 261,
    "start_time": "2022-02-20T12:42:38.196Z"
   },
   {
    "duration": 4,
    "start_time": "2022-02-20T12:42:38.459Z"
   },
   {
    "duration": 501,
    "start_time": "2022-02-20T12:42:38.464Z"
   },
   {
    "duration": 359,
    "start_time": "2022-02-20T12:42:38.967Z"
   },
   {
    "duration": 149,
    "start_time": "2022-02-20T12:42:39.328Z"
   },
   {
    "duration": 29,
    "start_time": "2022-02-20T12:42:39.479Z"
   },
   {
    "duration": 57,
    "start_time": "2022-02-20T12:42:39.518Z"
   },
   {
    "duration": 483,
    "start_time": "2022-02-20T12:42:39.578Z"
   },
   {
    "duration": 16,
    "start_time": "2022-02-20T12:42:40.063Z"
   },
   {
    "duration": 41,
    "start_time": "2022-02-20T12:42:40.081Z"
   },
   {
    "duration": 305,
    "start_time": "2022-02-20T12:42:40.125Z"
   },
   {
    "duration": 479,
    "start_time": "2022-02-20T12:42:40.435Z"
   },
   {
    "duration": 27,
    "start_time": "2022-02-20T12:42:40.919Z"
   },
   {
    "duration": 398,
    "start_time": "2022-02-20T12:42:40.948Z"
   },
   {
    "duration": 425,
    "start_time": "2022-02-20T12:42:41.349Z"
   },
   {
    "duration": 114,
    "start_time": "2022-02-20T19:31:39.401Z"
   },
   {
    "duration": 107,
    "start_time": "2022-02-20T19:31:40.724Z"
   },
   {
    "duration": 1675,
    "start_time": "2022-02-20T19:35:19.876Z"
   },
   {
    "duration": 1057,
    "start_time": "2022-02-20T19:35:21.553Z"
   },
   {
    "duration": 35,
    "start_time": "2022-02-20T19:35:22.613Z"
   },
   {
    "duration": 47,
    "start_time": "2022-02-20T19:35:22.651Z"
   },
   {
    "duration": 8,
    "start_time": "2022-02-20T19:35:22.700Z"
   },
   {
    "duration": 49,
    "start_time": "2022-02-20T19:35:22.710Z"
   },
   {
    "duration": 45,
    "start_time": "2022-02-20T19:35:22.761Z"
   },
   {
    "duration": 955,
    "start_time": "2022-02-20T19:35:22.807Z"
   },
   {
    "duration": 4,
    "start_time": "2022-02-20T19:35:23.765Z"
   },
   {
    "duration": 287,
    "start_time": "2022-02-20T19:35:23.771Z"
   },
   {
    "duration": 243,
    "start_time": "2022-02-20T19:35:24.060Z"
   },
   {
    "duration": 219,
    "start_time": "2022-02-20T19:35:24.305Z"
   },
   {
    "duration": 27,
    "start_time": "2022-02-20T19:35:24.525Z"
   },
   {
    "duration": 2,
    "start_time": "2022-02-20T19:35:24.554Z"
   },
   {
    "duration": 389,
    "start_time": "2022-02-20T19:35:24.558Z"
   },
   {
    "duration": 315,
    "start_time": "2022-02-20T19:35:24.949Z"
   },
   {
    "duration": 116,
    "start_time": "2022-02-20T19:35:25.265Z"
   },
   {
    "duration": 22,
    "start_time": "2022-02-20T19:35:25.383Z"
   },
   {
    "duration": 53,
    "start_time": "2022-02-20T19:35:25.407Z"
   },
   {
    "duration": 242,
    "start_time": "2022-02-20T19:35:25.462Z"
   },
   {
    "duration": 8,
    "start_time": "2022-02-20T19:35:25.706Z"
   },
   {
    "duration": 31,
    "start_time": "2022-02-20T19:35:25.716Z"
   },
   {
    "duration": 235,
    "start_time": "2022-02-20T19:35:25.749Z"
   },
   {
    "duration": 319,
    "start_time": "2022-02-20T19:35:25.986Z"
   },
   {
    "duration": 21,
    "start_time": "2022-02-20T19:35:26.307Z"
   },
   {
    "duration": 308,
    "start_time": "2022-02-20T19:35:26.329Z"
   },
   {
    "duration": 336,
    "start_time": "2022-02-20T19:35:26.640Z"
   },
   {
    "duration": 1205,
    "start_time": "2022-02-21T17:41:48.762Z"
   },
   {
    "duration": 154,
    "start_time": "2022-02-21T17:41:54.191Z"
   },
   {
    "duration": 36,
    "start_time": "2022-02-21T17:42:18.038Z"
   },
   {
    "duration": 261,
    "start_time": "2022-02-21T17:43:23.271Z"
   },
   {
    "duration": 50,
    "start_time": "2022-02-21T17:43:34.398Z"
   },
   {
    "duration": 48,
    "start_time": "2022-02-21T17:44:30.654Z"
   },
   {
    "duration": 9,
    "start_time": "2022-02-21T17:44:36.502Z"
   },
   {
    "duration": 210,
    "start_time": "2022-02-21T17:45:36.087Z"
   },
   {
    "duration": 49,
    "start_time": "2022-02-21T17:45:42.794Z"
   },
   {
    "duration": 1128,
    "start_time": "2022-02-21T17:46:04.809Z"
   },
   {
    "duration": 812,
    "start_time": "2022-02-21T17:46:33.722Z"
   },
   {
    "duration": 5,
    "start_time": "2022-02-21T17:48:17.363Z"
   },
   {
    "duration": 311,
    "start_time": "2022-02-21T17:48:18.978Z"
   },
   {
    "duration": 296,
    "start_time": "2022-02-21T17:49:41.462Z"
   },
   {
    "duration": 199,
    "start_time": "2022-02-21T17:49:45.461Z"
   },
   {
    "duration": 284,
    "start_time": "2022-02-21T17:49:50.965Z"
   },
   {
    "duration": 232,
    "start_time": "2022-02-21T17:54:17.762Z"
   },
   {
    "duration": 231,
    "start_time": "2022-02-21T17:54:41.734Z"
   },
   {
    "duration": 232,
    "start_time": "2022-02-21T17:54:55.459Z"
   },
   {
    "duration": 3,
    "start_time": "2022-02-21T17:55:09.745Z"
   },
   {
    "duration": 512,
    "start_time": "2022-02-21T17:59:42.618Z"
   },
   {
    "duration": 365,
    "start_time": "2022-02-21T17:59:54.078Z"
   },
   {
    "duration": 5,
    "start_time": "2022-02-21T18:00:12.974Z"
   },
   {
    "duration": 295,
    "start_time": "2022-02-21T18:00:14.357Z"
   },
   {
    "duration": 206,
    "start_time": "2022-02-21T18:00:16.974Z"
   },
   {
    "duration": 241,
    "start_time": "2022-02-21T18:00:19.105Z"
   },
   {
    "duration": 21,
    "start_time": "2022-02-21T18:00:20.876Z"
   },
   {
    "duration": 3,
    "start_time": "2022-02-21T18:00:22.190Z"
   },
   {
    "duration": 433,
    "start_time": "2022-02-21T18:00:23.982Z"
   },
   {
    "duration": 357,
    "start_time": "2022-02-21T18:00:31.823Z"
   },
   {
    "duration": 385,
    "start_time": "2022-02-21T18:00:37.103Z"
   },
   {
    "duration": 373,
    "start_time": "2022-02-21T18:00:42.167Z"
   },
   {
    "duration": 364,
    "start_time": "2022-02-21T18:00:47.631Z"
   },
   {
    "duration": 366,
    "start_time": "2022-02-21T18:00:51.368Z"
   },
   {
    "duration": 12,
    "start_time": "2022-02-21T18:02:14.529Z"
   },
   {
    "duration": 174,
    "start_time": "2022-02-21T18:02:53.344Z"
   },
   {
    "duration": 89,
    "start_time": "2022-02-21T18:03:05.578Z"
   },
   {
    "duration": 20,
    "start_time": "2022-02-21T18:03:56.352Z"
   },
   {
    "duration": 176,
    "start_time": "2022-02-21T18:04:08.954Z"
   },
   {
    "duration": 18,
    "start_time": "2022-02-21T18:04:33.641Z"
   },
   {
    "duration": 10,
    "start_time": "2022-02-21T18:05:53.604Z"
   },
   {
    "duration": 16,
    "start_time": "2022-02-21T18:05:59.604Z"
   },
   {
    "duration": 11,
    "start_time": "2022-02-21T18:06:38.002Z"
   },
   {
    "duration": 17,
    "start_time": "2022-02-21T18:06:44.109Z"
   },
   {
    "duration": 19,
    "start_time": "2022-02-21T18:08:14.702Z"
   },
   {
    "duration": 23,
    "start_time": "2022-02-21T18:13:04.609Z"
   },
   {
    "duration": 312,
    "start_time": "2022-02-21T18:16:45.185Z"
   },
   {
    "duration": 738,
    "start_time": "2022-02-21T18:17:26.280Z"
   },
   {
    "duration": 434,
    "start_time": "2022-02-21T18:17:49.975Z"
   },
   {
    "duration": 437,
    "start_time": "2022-02-21T18:18:00.829Z"
   },
   {
    "duration": 421,
    "start_time": "2022-02-21T18:19:20.455Z"
   },
   {
    "duration": 474,
    "start_time": "2022-02-21T18:21:50.705Z"
   },
   {
    "duration": 447,
    "start_time": "2022-02-21T18:22:19.018Z"
   },
   {
    "duration": 485,
    "start_time": "2022-02-21T18:22:29.114Z"
   },
   {
    "duration": 501,
    "start_time": "2022-02-21T18:26:37.134Z"
   },
   {
    "duration": 397,
    "start_time": "2022-02-21T18:26:44.839Z"
   },
   {
    "duration": 532,
    "start_time": "2022-02-21T18:27:47.382Z"
   },
   {
    "duration": 458,
    "start_time": "2022-02-21T18:28:00.752Z"
   },
   {
    "duration": 416,
    "start_time": "2022-02-21T18:28:09.031Z"
   },
   {
    "duration": 245,
    "start_time": "2022-02-21T18:28:36.719Z"
   },
   {
    "duration": 506,
    "start_time": "2022-02-21T18:28:41.926Z"
   },
   {
    "duration": 416,
    "start_time": "2022-02-21T18:29:07.393Z"
   },
   {
    "duration": 289,
    "start_time": "2022-02-21T18:29:40.144Z"
   },
   {
    "duration": 291,
    "start_time": "2022-02-21T18:30:28.906Z"
   },
   {
    "duration": 274,
    "start_time": "2022-02-21T18:30:50.379Z"
   },
   {
    "duration": 290,
    "start_time": "2022-02-21T18:31:15.519Z"
   },
   {
    "duration": 399,
    "start_time": "2022-02-21T18:31:24.426Z"
   },
   {
    "duration": 294,
    "start_time": "2022-02-21T18:34:48.149Z"
   },
   {
    "duration": 534,
    "start_time": "2022-02-21T18:34:50.300Z"
   },
   {
    "duration": 424,
    "start_time": "2022-02-21T18:39:23.417Z"
   },
   {
    "duration": 303,
    "start_time": "2022-02-21T18:39:35.745Z"
   },
   {
    "duration": 1221,
    "start_time": "2022-02-21T18:47:38.616Z"
   },
   {
    "duration": 165,
    "start_time": "2022-02-21T18:47:39.839Z"
   },
   {
    "duration": 41,
    "start_time": "2022-02-21T18:47:40.007Z"
   },
   {
    "duration": 51,
    "start_time": "2022-02-21T18:47:40.050Z"
   },
   {
    "duration": 27,
    "start_time": "2022-02-21T18:47:40.103Z"
   },
   {
    "duration": 20,
    "start_time": "2022-02-21T18:47:40.132Z"
   },
   {
    "duration": 49,
    "start_time": "2022-02-21T18:47:40.153Z"
   },
   {
    "duration": 1032,
    "start_time": "2022-02-21T18:47:40.204Z"
   },
   {
    "duration": 4,
    "start_time": "2022-02-21T18:47:41.237Z"
   },
   {
    "duration": 315,
    "start_time": "2022-02-21T18:47:41.243Z"
   },
   {
    "duration": 221,
    "start_time": "2022-02-21T18:47:41.560Z"
   },
   {
    "duration": 238,
    "start_time": "2022-02-21T18:47:41.783Z"
   },
   {
    "duration": 26,
    "start_time": "2022-02-21T18:47:42.023Z"
   },
   {
    "duration": 3,
    "start_time": "2022-02-21T18:47:42.050Z"
   },
   {
    "duration": 430,
    "start_time": "2022-02-21T18:47:42.054Z"
   },
   {
    "duration": 301,
    "start_time": "2022-02-21T18:47:42.486Z"
   },
   {
    "duration": 423,
    "start_time": "2022-02-21T18:47:42.788Z"
   },
   {
    "duration": 294,
    "start_time": "2022-02-21T18:47:43.213Z"
   },
   {
    "duration": 127,
    "start_time": "2022-02-21T18:47:43.509Z"
   },
   {
    "duration": 22,
    "start_time": "2022-02-21T18:47:43.638Z"
   },
   {
    "duration": 40,
    "start_time": "2022-02-21T18:47:54.154Z"
   },
   {
    "duration": 254,
    "start_time": "2022-02-21T18:47:59.716Z"
   },
   {
    "duration": 10,
    "start_time": "2022-02-21T18:48:02.984Z"
   },
   {
    "duration": 16,
    "start_time": "2022-02-21T18:48:05.304Z"
   },
   {
    "duration": 5300,
    "start_time": "2022-02-21T18:48:46.180Z"
   },
   {
    "duration": 3,
    "start_time": "2022-02-21T18:49:05.608Z"
   },
   {
    "duration": 146,
    "start_time": "2022-02-21T18:49:05.615Z"
   },
   {
    "duration": 35,
    "start_time": "2022-02-21T18:49:05.763Z"
   },
   {
    "duration": 64,
    "start_time": "2022-02-21T18:49:05.800Z"
   },
   {
    "duration": 8,
    "start_time": "2022-02-21T18:49:05.866Z"
   },
   {
    "duration": 22,
    "start_time": "2022-02-21T18:49:05.876Z"
   },
   {
    "duration": 75,
    "start_time": "2022-02-21T18:49:05.899Z"
   },
   {
    "duration": 1058,
    "start_time": "2022-02-21T18:49:05.976Z"
   },
   {
    "duration": 5,
    "start_time": "2022-02-21T18:49:07.037Z"
   },
   {
    "duration": 320,
    "start_time": "2022-02-21T18:49:07.044Z"
   },
   {
    "duration": 288,
    "start_time": "2022-02-21T18:49:07.366Z"
   },
   {
    "duration": 252,
    "start_time": "2022-02-21T18:49:07.656Z"
   },
   {
    "duration": 35,
    "start_time": "2022-02-21T18:49:07.910Z"
   },
   {
    "duration": 5,
    "start_time": "2022-02-21T18:49:07.947Z"
   },
   {
    "duration": 364,
    "start_time": "2022-02-21T18:49:07.953Z"
   },
   {
    "duration": 301,
    "start_time": "2022-02-21T18:49:08.319Z"
   },
   {
    "duration": 419,
    "start_time": "2022-02-21T18:49:08.622Z"
   },
   {
    "duration": 309,
    "start_time": "2022-02-21T18:49:09.043Z"
   },
   {
    "duration": 203,
    "start_time": "2022-02-21T18:49:09.354Z"
   },
   {
    "duration": 23,
    "start_time": "2022-02-21T18:49:09.559Z"
   },
   {
    "duration": 56,
    "start_time": "2022-02-21T18:49:09.584Z"
   },
   {
    "duration": 269,
    "start_time": "2022-02-21T18:49:20.180Z"
   },
   {
    "duration": 54,
    "start_time": "2022-02-21T18:50:45.701Z"
   },
   {
    "duration": 56,
    "start_time": "2022-02-21T18:51:06.142Z"
   },
   {
    "duration": 37,
    "start_time": "2022-02-21T18:52:25.188Z"
   },
   {
    "duration": 50,
    "start_time": "2022-02-21T18:52:36.614Z"
   },
   {
    "duration": 53,
    "start_time": "2022-02-21T18:53:24.429Z"
   },
   {
    "duration": 61,
    "start_time": "2022-02-21T18:53:34.238Z"
   },
   {
    "duration": 59,
    "start_time": "2022-02-21T18:53:49.655Z"
   },
   {
    "duration": 64,
    "start_time": "2022-02-21T18:54:01.905Z"
   },
   {
    "duration": 82,
    "start_time": "2022-02-21T18:54:22.287Z"
   },
   {
    "duration": 1155,
    "start_time": "2022-02-21T18:54:37.207Z"
   },
   {
    "duration": 146,
    "start_time": "2022-02-21T18:54:38.364Z"
   },
   {
    "duration": 35,
    "start_time": "2022-02-21T18:54:38.512Z"
   },
   {
    "duration": 48,
    "start_time": "2022-02-21T18:54:38.549Z"
   },
   {
    "duration": 8,
    "start_time": "2022-02-21T18:54:38.598Z"
   },
   {
    "duration": 35,
    "start_time": "2022-02-21T18:54:38.608Z"
   },
   {
    "duration": 46,
    "start_time": "2022-02-21T18:54:38.645Z"
   },
   {
    "duration": 1217,
    "start_time": "2022-02-21T18:54:38.694Z"
   },
   {
    "duration": 5,
    "start_time": "2022-02-21T18:54:39.913Z"
   },
   {
    "duration": 310,
    "start_time": "2022-02-21T18:54:39.920Z"
   },
   {
    "duration": 217,
    "start_time": "2022-02-21T18:54:40.232Z"
   },
   {
    "duration": 256,
    "start_time": "2022-02-21T18:54:40.451Z"
   },
   {
    "duration": 29,
    "start_time": "2022-02-21T18:54:40.709Z"
   },
   {
    "duration": 4,
    "start_time": "2022-02-21T18:54:40.740Z"
   },
   {
    "duration": 436,
    "start_time": "2022-02-21T18:54:40.745Z"
   },
   {
    "duration": 290,
    "start_time": "2022-02-21T18:54:41.183Z"
   },
   {
    "duration": 462,
    "start_time": "2022-02-21T18:54:41.475Z"
   },
   {
    "duration": 294,
    "start_time": "2022-02-21T18:54:41.939Z"
   },
   {
    "duration": 119,
    "start_time": "2022-02-21T18:54:42.234Z"
   },
   {
    "duration": 23,
    "start_time": "2022-02-21T18:54:42.355Z"
   },
   {
    "duration": 57,
    "start_time": "2022-02-21T18:54:44.610Z"
   },
   {
    "duration": 56,
    "start_time": "2022-02-21T18:54:56.124Z"
   },
   {
    "duration": 77,
    "start_time": "2022-02-21T18:55:03.194Z"
   },
   {
    "duration": 275,
    "start_time": "2022-02-21T18:55:11.284Z"
   },
   {
    "duration": 9,
    "start_time": "2022-02-21T18:55:20.843Z"
   },
   {
    "duration": 17,
    "start_time": "2022-02-21T18:55:23.075Z"
   },
   {
    "duration": 15,
    "start_time": "2022-02-21T18:55:27.131Z"
   },
   {
    "duration": 48,
    "start_time": "2022-02-21T18:55:36.716Z"
   },
   {
    "duration": 68,
    "start_time": "2022-02-21T18:55:49.516Z"
   },
   {
    "duration": 261,
    "start_time": "2022-02-21T18:55:52.371Z"
   },
   {
    "duration": 12,
    "start_time": "2022-02-21T18:55:54.139Z"
   },
   {
    "duration": 17,
    "start_time": "2022-02-21T18:55:56.027Z"
   },
   {
    "duration": 14,
    "start_time": "2022-02-21T18:56:17.725Z"
   },
   {
    "duration": 63,
    "start_time": "2022-02-21T18:56:46.829Z"
   },
   {
    "duration": 51,
    "start_time": "2022-02-21T18:57:07.198Z"
   },
   {
    "duration": 62,
    "start_time": "2022-02-21T18:57:11.229Z"
   },
   {
    "duration": 52,
    "start_time": "2022-02-21T18:57:23.374Z"
   },
   {
    "duration": 41,
    "start_time": "2022-02-21T18:57:30.948Z"
   },
   {
    "duration": 254,
    "start_time": "2022-02-21T18:57:31.932Z"
   },
   {
    "duration": 11,
    "start_time": "2022-02-21T18:57:34.541Z"
   },
   {
    "duration": 18,
    "start_time": "2022-02-21T18:57:37.500Z"
   },
   {
    "duration": 181,
    "start_time": "2022-02-21T18:57:51.358Z"
   },
   {
    "duration": 394,
    "start_time": "2022-02-21T18:57:54.309Z"
   },
   {
    "duration": 21,
    "start_time": "2022-02-21T18:58:00.860Z"
   },
   {
    "duration": 474,
    "start_time": "2022-02-21T19:00:09.824Z"
   },
   {
    "duration": 439,
    "start_time": "2022-02-21T19:00:19.208Z"
   },
   {
    "duration": 295,
    "start_time": "2022-02-21T19:00:28.185Z"
   },
   {
    "duration": 1210,
    "start_time": "2022-02-21T19:00:44.692Z"
   },
   {
    "duration": 167,
    "start_time": "2022-02-21T19:00:45.904Z"
   },
   {
    "duration": 37,
    "start_time": "2022-02-21T19:00:46.073Z"
   },
   {
    "duration": 51,
    "start_time": "2022-02-21T19:00:46.112Z"
   },
   {
    "duration": 8,
    "start_time": "2022-02-21T19:00:46.165Z"
   },
   {
    "duration": 25,
    "start_time": "2022-02-21T19:00:46.175Z"
   },
   {
    "duration": 73,
    "start_time": "2022-02-21T19:00:46.202Z"
   },
   {
    "duration": 1397,
    "start_time": "2022-02-21T19:00:46.277Z"
   },
   {
    "duration": 4,
    "start_time": "2022-02-21T19:00:47.677Z"
   },
   {
    "duration": 313,
    "start_time": "2022-02-21T19:00:47.683Z"
   },
   {
    "duration": 222,
    "start_time": "2022-02-21T19:00:47.997Z"
   },
   {
    "duration": 252,
    "start_time": "2022-02-21T19:00:48.221Z"
   },
   {
    "duration": 23,
    "start_time": "2022-02-21T19:00:48.474Z"
   },
   {
    "duration": 3,
    "start_time": "2022-02-21T19:00:48.499Z"
   },
   {
    "duration": 432,
    "start_time": "2022-02-21T19:00:48.504Z"
   },
   {
    "duration": 301,
    "start_time": "2022-02-21T19:00:48.937Z"
   },
   {
    "duration": 499,
    "start_time": "2022-02-21T19:00:49.240Z"
   },
   {
    "duration": 301,
    "start_time": "2022-02-21T19:00:49.741Z"
   },
   {
    "duration": 129,
    "start_time": "2022-02-21T19:00:50.044Z"
   },
   {
    "duration": 26,
    "start_time": "2022-02-21T19:00:50.175Z"
   },
   {
    "duration": 50,
    "start_time": "2022-02-21T19:00:50.203Z"
   },
   {
    "duration": 267,
    "start_time": "2022-02-21T19:00:50.254Z"
   },
   {
    "duration": 14,
    "start_time": "2022-02-21T19:00:50.524Z"
   },
   {
    "duration": 21,
    "start_time": "2022-02-21T19:00:50.540Z"
   },
   {
    "duration": 199,
    "start_time": "2022-02-21T19:00:50.563Z"
   },
   {
    "duration": 413,
    "start_time": "2022-02-21T19:00:50.764Z"
   },
   {
    "duration": 20,
    "start_time": "2022-02-21T19:00:51.178Z"
   },
   {
    "duration": 320,
    "start_time": "2022-02-21T19:00:51.200Z"
   },
   {
    "duration": 292,
    "start_time": "2022-02-21T19:00:51.522Z"
   },
   {
    "duration": 307,
    "start_time": "2022-02-21T19:02:17.605Z"
   },
   {
    "duration": 1239,
    "start_time": "2022-02-21T19:03:26.335Z"
   },
   {
    "duration": 147,
    "start_time": "2022-02-21T19:03:27.576Z"
   },
   {
    "duration": 36,
    "start_time": "2022-02-21T19:03:27.725Z"
   },
   {
    "duration": 68,
    "start_time": "2022-02-21T19:03:27.763Z"
   },
   {
    "duration": 9,
    "start_time": "2022-02-21T19:03:27.833Z"
   },
   {
    "duration": 26,
    "start_time": "2022-02-21T19:03:27.844Z"
   },
   {
    "duration": 71,
    "start_time": "2022-02-21T19:03:27.872Z"
   },
   {
    "duration": 1025,
    "start_time": "2022-02-21T19:03:27.946Z"
   },
   {
    "duration": 4,
    "start_time": "2022-02-21T19:03:28.973Z"
   },
   {
    "duration": 309,
    "start_time": "2022-02-21T19:03:28.979Z"
   },
   {
    "duration": 218,
    "start_time": "2022-02-21T19:03:29.290Z"
   },
   {
    "duration": 245,
    "start_time": "2022-02-21T19:03:29.510Z"
   },
   {
    "duration": 20,
    "start_time": "2022-02-21T19:03:29.757Z"
   },
   {
    "duration": 3,
    "start_time": "2022-02-21T19:03:29.778Z"
   },
   {
    "duration": 447,
    "start_time": "2022-02-21T19:03:29.783Z"
   },
   {
    "duration": 305,
    "start_time": "2022-02-21T19:03:30.232Z"
   },
   {
    "duration": 498,
    "start_time": "2022-02-21T19:03:30.539Z"
   },
   {
    "duration": 311,
    "start_time": "2022-02-21T19:03:31.039Z"
   },
   {
    "duration": 135,
    "start_time": "2022-02-21T19:03:31.352Z"
   },
   {
    "duration": 26,
    "start_time": "2022-02-21T19:03:31.489Z"
   },
   {
    "duration": 51,
    "start_time": "2022-02-21T19:03:31.517Z"
   },
   {
    "duration": 280,
    "start_time": "2022-02-21T19:03:31.570Z"
   },
   {
    "duration": 9,
    "start_time": "2022-02-21T19:03:31.853Z"
   },
   {
    "duration": 16,
    "start_time": "2022-02-21T19:03:31.864Z"
   },
   {
    "duration": 195,
    "start_time": "2022-02-21T19:03:31.881Z"
   },
   {
    "duration": 402,
    "start_time": "2022-02-21T19:03:32.077Z"
   },
   {
    "duration": 21,
    "start_time": "2022-02-21T19:03:32.480Z"
   },
   {
    "duration": 303,
    "start_time": "2022-02-21T19:03:32.502Z"
   },
   {
    "duration": 285,
    "start_time": "2022-02-21T19:03:32.807Z"
   },
   {
    "duration": 118,
    "start_time": "2022-02-22T09:15:12.703Z"
   },
   {
    "duration": 1714,
    "start_time": "2022-02-22T09:17:14.048Z"
   },
   {
    "duration": 201,
    "start_time": "2022-02-22T09:17:15.765Z"
   },
   {
    "duration": 53,
    "start_time": "2022-02-22T09:17:15.969Z"
   },
   {
    "duration": 86,
    "start_time": "2022-02-22T09:17:16.025Z"
   },
   {
    "duration": 14,
    "start_time": "2022-02-22T09:17:16.114Z"
   },
   {
    "duration": 63,
    "start_time": "2022-02-22T09:17:16.131Z"
   },
   {
    "duration": 123,
    "start_time": "2022-02-22T09:17:16.197Z"
   },
   {
    "duration": 975,
    "start_time": "2022-02-22T09:17:16.325Z"
   },
   {
    "duration": 6,
    "start_time": "2022-02-22T09:17:17.304Z"
   },
   {
    "duration": 570,
    "start_time": "2022-02-22T09:17:17.314Z"
   },
   {
    "duration": 368,
    "start_time": "2022-02-22T09:17:17.895Z"
   },
   {
    "duration": 459,
    "start_time": "2022-02-22T09:17:18.267Z"
   },
   {
    "duration": 32,
    "start_time": "2022-02-22T09:17:18.728Z"
   },
   {
    "duration": 33,
    "start_time": "2022-02-22T09:17:18.763Z"
   },
   {
    "duration": 706,
    "start_time": "2022-02-22T09:17:18.799Z"
   },
   {
    "duration": 505,
    "start_time": "2022-02-22T09:17:19.507Z"
   },
   {
    "duration": 644,
    "start_time": "2022-02-22T09:17:20.015Z"
   },
   {
    "duration": 523,
    "start_time": "2022-02-22T09:17:20.661Z"
   },
   {
    "duration": 192,
    "start_time": "2022-02-22T09:17:21.193Z"
   },
   {
    "duration": 37,
    "start_time": "2022-02-22T09:17:21.387Z"
   },
   {
    "duration": 82,
    "start_time": "2022-02-22T09:17:21.427Z"
   },
   {
    "duration": 441,
    "start_time": "2022-02-22T09:17:21.512Z"
   },
   {
    "duration": 14,
    "start_time": "2022-02-22T09:17:21.957Z"
   },
   {
    "duration": 40,
    "start_time": "2022-02-22T09:17:21.973Z"
   },
   {
    "duration": 323,
    "start_time": "2022-02-22T09:17:22.015Z"
   },
   {
    "duration": 654,
    "start_time": "2022-02-22T09:17:22.340Z"
   },
   {
    "duration": 32,
    "start_time": "2022-02-22T09:17:22.996Z"
   },
   {
    "duration": 512,
    "start_time": "2022-02-22T09:17:23.031Z"
   },
   {
    "duration": 511,
    "start_time": "2022-02-22T09:17:23.546Z"
   },
   {
    "duration": 557,
    "start_time": "2022-02-22T09:19:57.836Z"
   },
   {
    "duration": 405,
    "start_time": "2022-02-22T09:20:04.235Z"
   },
   {
    "duration": 408,
    "start_time": "2022-02-22T09:20:08.997Z"
   },
   {
    "duration": 410,
    "start_time": "2022-02-22T09:20:14.050Z"
   },
   {
    "duration": 446,
    "start_time": "2022-02-22T09:23:06.555Z"
   },
   {
    "duration": 55,
    "start_time": "2022-02-22T09:23:15.561Z"
   },
   {
    "duration": 54,
    "start_time": "2022-02-22T09:23:22.580Z"
   },
   {
    "duration": 5,
    "start_time": "2022-02-22T09:23:50.443Z"
   },
   {
    "duration": 291,
    "start_time": "2022-02-22T09:23:52.669Z"
   },
   {
    "duration": 57,
    "start_time": "2022-02-22T09:23:57.789Z"
   },
   {
    "duration": 55,
    "start_time": "2022-02-22T09:24:49.540Z"
   },
   {
    "duration": 52,
    "start_time": "2022-02-22T09:24:54.741Z"
   },
   {
    "duration": 472,
    "start_time": "2022-02-22T09:24:55.724Z"
   },
   {
    "duration": 398,
    "start_time": "2022-02-22T09:25:10.686Z"
   },
   {
    "duration": 522,
    "start_time": "2022-02-22T09:25:19.020Z"
   }
  ],
  "kernelspec": {
   "display_name": "Python 3",
   "language": "python",
   "name": "python3"
  },
  "language_info": {
   "codemirror_mode": {
    "name": "ipython",
    "version": 3
   },
   "file_extension": ".py",
   "mimetype": "text/x-python",
   "name": "python",
   "nbconvert_exporter": "python",
   "pygments_lexer": "ipython3",
   "version": "3.8.3"
  },
  "toc": {
   "base_numbering": 1,
   "nav_menu": {},
   "number_sections": true,
   "sideBar": true,
   "skip_h1_title": true,
   "title_cell": "Table of Contents",
   "title_sidebar": "Contents",
   "toc_cell": false,
   "toc_position": {},
   "toc_section_display": true,
   "toc_window_display": true
  },
  "varInspector": {
   "cols": {
    "lenName": 16,
    "lenType": 16,
    "lenVar": 40
   },
   "kernels_config": {
    "python": {
     "delete_cmd_postfix": "",
     "delete_cmd_prefix": "del ",
     "library": "var_list.py",
     "varRefreshCmd": "print(var_dic_list())"
    },
    "r": {
     "delete_cmd_postfix": ") ",
     "delete_cmd_prefix": "rm(",
     "library": "var_list.r",
     "varRefreshCmd": "cat(var_dic_list()) "
    }
   },
   "types_to_exclude": [
    "module",
    "function",
    "builtin_function_or_method",
    "instance",
    "_Feature"
   ],
   "window_display": false
  }
 },
 "nbformat": 4,
 "nbformat_minor": 2
}
